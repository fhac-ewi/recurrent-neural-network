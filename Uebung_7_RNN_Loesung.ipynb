{
  "nbformat": 4,
  "nbformat_minor": 0,
  "metadata": {
    "accelerator": "GPU",
    "colab": {
      "name": "Uebung_7_RNN_Loesung.ipynb",
      "provenance": [],
      "collapsed_sections": [],
      "toc_visible": true,
      "include_colab_link": true
    },
    "kernelspec": {
      "display_name": "Python 3",
      "language": "python",
      "name": "python3"
    },
    "language_info": {
      "codemirror_mode": {
        "name": "ipython",
        "version": 3
      },
      "file_extension": ".py",
      "mimetype": "text/x-python",
      "name": "python",
      "nbconvert_exporter": "python",
      "pygments_lexer": "ipython3",
      "version": "3.6.9"
    },
    "widgets": {
      "application/vnd.jupyter.widget-state+json": {}
    }
  },
  "cells": [
    {
      "cell_type": "markdown",
      "metadata": {
        "id": "view-in-github",
        "colab_type": "text"
      },
      "source": [
        "<a href=\"https://colab.research.google.com/github/fhac-ewi/recurrent-neural-network/blob/main/Uebung_7_RNN_Loesung.ipynb\" target=\"_parent\"><img src=\"https://colab.research.google.com/assets/colab-badge.svg\" alt=\"Open In Colab\"/></a>"
      ]
    },
    {
      "cell_type": "markdown",
      "metadata": {
        "id": "yYD6gvw1vwii"
      },
      "source": [
        "# Übung 7 - Rekurrente neuronale Netze (RNNs)\n",
        "\n",
        "## In dieser Übung ...\n",
        "... beschäftigen wir uns mit rekurrenten neuronalen Netzen, die unter anderem für die Textvorhersage (`text prediction`) eingesetzt werden können. In dieser Übung werden Sie  ein eigenes Modell zur Vorhersage weiterer Buchstaben (Zeichen) zu einer gegebenen Buchstabensequenz erstellen. \n",
        "\n",
        "Dazu werden Sie einen Datensatz für das Training vorbereiten, ein Standard-RNN mithilfe von Keras implementieren und für die Vorhersage des nächsten Zeichens und sogar ganzen Sätzen nutzen.\n",
        "\n",
        "Wenn Sie diese ersten Schritte geschafft haben und noch Zeit haben, dürfen Sie die beiden weiteren Varianten (LSTM und GRU) implementieren und anschließend die Genauigkeit (Accuracy) der Netze miteinander vergleichen. \n",
        "\n"
      ]
    },
    {
      "cell_type": "markdown",
      "metadata": {
        "id": "9a_ZEFJfHuuF"
      },
      "source": [
        "## 7.0 Vorbereitung\n",
        "\n",
        "In diesem Abschnitt müssen Sie nichts programmieren! 🎉\n",
        "\n",
        "Wir haben bereits alle notwendigen Imports für diese Übung hinzugefügt, sodass Sie direkt starten können. Sie müssen lediglich die GPU Unterstützung in Google Colab aktivieren."
      ]
    },
    {
      "cell_type": "markdown",
      "metadata": {
        "id": "tc_GxdsyIDYP"
      },
      "source": [
        "**Ihre Aufgaben**\n",
        "\n",
        "(1) Aktivieren Sie bitte die GPU Unterstützung in Google Colab. Wechseln Sie unter dem Reiter `Laufzeit` -> `Laufzeittyp ändern` von `None` auf `GPU` und bestätigen Sie diese Änderung.\n",
        "\n",
        "(2) Führen Sie die folgende Codezelle aus, um die erforderlichen Bibliotheken zu importieren und die GPU Unterstützung zu prüfen. \n",
        "\n",
        "  * Hinweis: Wenn Sie dieses Notebook mit dem Direktlink von GitHub geöffnet haben, wird bei der erstmaligen Ausführung eine Warnung angezeigt. Diese müssen Sie durch den Klick auf `Trotzdem ausführen` bestätigen. "
      ]
    },
    {
      "cell_type": "code",
      "metadata": {
        "colab": {
          "base_uri": "https://localhost:8080/"
        },
        "id": "I-cFD9IFItkB",
        "outputId": "d1d98dc1-3f68-46da-c994-7ce8cf711c4a"
      },
      "source": [
        "# Import everything needed for this exercise \n",
        "import sys\n",
        "import os\n",
        "import tensorflow as tf\n",
        "import keras\n",
        "import numpy as np\n",
        "import sys\n",
        "import matplotlib.pyplot as plt\n",
        "import time\n",
        "from sklearn.model_selection import train_test_split\n",
        "from datetime import datetime, timedelta\n",
        "from termcolor import colored\n",
        "import logging\n",
        "\n",
        "tf.get_logger().setLevel(logging.ERROR)\n",
        "print(f\"Keras Version: {keras.__version__}; Tensorflow version: {tf.__version__}; NumPy version: {np.__version__}; Python version: \", \".\".join(str(x) for x in sys.version_info[:3]))\n",
        "\n",
        "# Reset random number generators\n",
        "seed = 1337\n",
        "np.random.seed(seed)\n",
        "tf.random.set_seed(seed)\n",
        "\n",
        "# Check GPU support\n",
        "from tensorflow.python.client import device_lib\n",
        "physical_devices = device_lib.list_local_devices()\n",
        "print(\"You are using\", len(physical_devices), \"local devises.\", len([x for x in physical_devices if x.device_type == \"GPU\"]), \"are GPUs\")\n",
        "for i, d in enumerate(physical_devices):\n",
        "    print(\"  -> Device\", i+1, \"is a\", d.device_type, \"=>\", d.physical_device_desc if len(d.physical_device_desc) > 0 else d.name)\n",
        "\n",
        "if len([x for x in physical_devices if x.device_type == \"GPU\"]) == 0:\n",
        "  raise Exception(\"Please enable GPU support before using this notebook. See here: [Runtime] -> [Change runtime type]\")    \n",
        "\n",
        "print(\"\\n🎉🎉🎉 You are ready to go! 🎉🎉🎉\")  "
      ],
      "execution_count": null,
      "outputs": [
        {
          "output_type": "stream",
          "text": [
            "Keras Version: 2.4.3; Tensorflow version: 2.3.0; NumPy version: 1.18.5; Python version:  3.6.9\n",
            "You are using 4 local devises. 1 are GPUs\n",
            "  -> Device 1 is a CPU => /device:CPU:0\n",
            "  -> Device 2 is a XLA_CPU => device: XLA_CPU device\n",
            "  -> Device 3 is a XLA_GPU => device: XLA_GPU device\n",
            "  -> Device 4 is a GPU => device: 0, name: GeForce GTX 1080 Ti, pci bus id: 0000:01:00.0, compute capability: 6.1\n",
            "\n",
            "🎉🎉🎉 You are ready to go! 🎉🎉🎉\n"
          ],
          "name": "stdout"
        }
      ]
    },
    {
      "cell_type": "markdown",
      "metadata": {
        "id": "a1CXeYPHyywV"
      },
      "source": [
        "## 7.1 One Hot Kodierung\n",
        "\n",
        "Wir haben in der Vorlesung die One Hot Kodierung (1-aus-n-Code) kennen gelernt. Diese ermöglicht es Zeichen eines Alphabets als Vektoren darzustellen. \n",
        "\n",
        "Für ein Alphabet mit `n` einzigartigen Zeichen wird ein Vektor der Länge `n` benötigt. Jedes einzigartige Zeichen wird hierbei als Einheitsvektor definiert. Eine Zeichensequenz mit `m` Zeichen wird als `m` Vektoren mit jeweils der Länge `n` dargestellt.  \n",
        "\n",
        "**Hinweis** Die vorliegende Implementierung ist für den Umgang mit Zeichen außerhalb des Alphabets konzipiert. Deshalb wird zur Darstellung eines Alphabets mit `n` einzigartigen Zeichen ein Vektor der Länge `n+1` erstellt. Alle Zeichen außerhalb des Alphabets werden durch das `unknown_token` ersetzt. \n",
        "\n",
        "Für das Training unseres Netzes werden wir die One Hot Kodierung zur Umwandlung eines Textes in Trainingsdaten nutzen. (Aufgabe 7.2)\n",
        "\n",
        "* Hinweis: Für weitere Informationen zur One Hot Kodierun schlagen Sie diese in der Vorlesung nach oder benutzen Sie das [Internet](https://www.semanticscholar.org/search?q=one%20hot%20coder&sort=relevance)."
      ]
    },
    {
      "cell_type": "code",
      "metadata": {
        "id": "miApcJctvteM"
      },
      "source": [
        "class OneHot(object):\n",
        "    def __init__(self, tokens, unknown_token = \"[UNKNOWN]\"):\n",
        "        '''\n",
        "        Creates a new instance of this class. \n",
        "\n",
        "        OneHot can be used to translate categorical data into vectors.\n",
        "\n",
        "        Parameters\n",
        "        tokens -- The tokens you want to be able to encode and decode\n",
        "        unknown_token -- The token to be used when decoding and the net wants to use a not known char\n",
        "        '''\n",
        "        self.tokens = tokens\n",
        "        self.unknown_token = unknown_token\n",
        "        # Store a bidirectional dictionary containing the characters\n",
        "        self.char_to_index = dict((token, i + 1) for i, token in enumerate(self.tokens))\n",
        "        self.index_to_char = dict((i + 1, token) for i, token in enumerate(self.tokens))\n",
        "        pass\n",
        "\n",
        "    def encode(self, text_as_tokens, dtype=np.bool_):\n",
        "        '''\n",
        "        Encodes a tokenized text into a matrix (each token as vector).\n",
        "\n",
        "        Parameters:\n",
        "        text_as_tokens -- List of tokens\n",
        "        dtype -- (optional) data type like int or bool for optimized performance\n",
        "\n",
        "        Returns:\n",
        "        np.array of OneHot encoded tokens (matrix)\n",
        "        '''\n",
        "        # Create the encoding matrix\n",
        "        enc = np.empty((len(text_as_tokens), len(self.tokens) + 1), dtype=dtype)\n",
        "        for i, token in enumerate(text_as_tokens):\n",
        "            # Encode every char\n",
        "            enc[i] = self.encode_token(token=token, dtype=dtype)\n",
        "        return enc\n",
        "    \n",
        "    def encode_token(self, token, dtype=np.bool_):\n",
        "        '''\n",
        "        Encodes a single token into a vector.\n",
        "\n",
        "        Parameters:\n",
        "        token -- Single token\n",
        "        dtype -- (optional) data type like int or bool for optimized performance\n",
        "\n",
        "        Returns:\n",
        "        np.array of OneHot encoded token (vector)\n",
        "        '''\n",
        "        l = len(self.tokens) + 1\n",
        "        ret = np.zeros((1, l), dtype=dtype)\n",
        "        if token not in self.char_to_index:\n",
        "            ret[0, 0] = 1\n",
        "        else:\n",
        "            ret[0, self.char_to_index[token]] = 1\n",
        "        return ret\n",
        "    \n",
        "    def decode(self, mat, unknown_token=None):         \n",
        "        '''\n",
        "        Decodes a matrix into an array of tokens.\n",
        "\n",
        "        Parameters:\n",
        "        mat -- matrix to be decoded. Has to be of shape (len_of_text, vocab_size)\n",
        "        unknown_token -- Unknown token. If none uses the one from __init__\n",
        "\n",
        "        Returns:\n",
        "        array of tokens (chars)\n",
        "        '''\n",
        "        return [self.decode_token(mat[x]) for x in range(mat.shape[0])]\n",
        "    \n",
        "    def decode_token(self, vec, unknown_token=None):\n",
        "        '''\n",
        "        Decodes a vector into a token.\n",
        "\n",
        "        Parameters:\n",
        "        vec -- Vector that should be decoded. Has to be on vocab length\n",
        "        unknown_token -- Unknown token. If none uses the one from __init__\n",
        "\n",
        "        Returns:\n",
        "        single token (char)\n",
        "        '''\n",
        "        if unknown_token is None:\n",
        "            unknown_token = self.unknown_token\n",
        "        if isinstance(vec, tf.Tensor):\n",
        "            vec = vec.numpy()\n",
        "        if isinstance(vec, np.ndarray):\n",
        "            # Use argmax since this will be used in the model created later\n",
        "            am = np.argmax(vec)\n",
        "        else:\n",
        "            am = vec\n",
        "        if am == 0:\n",
        "            return unknown_token\n",
        "        return self.index_to_char[am]"
      ],
      "execution_count": null,
      "outputs": []
    },
    {
      "cell_type": "markdown",
      "metadata": {
        "id": "I9nyVSBS_RnK"
      },
      "source": [
        "**Ihre Aufgaben**\n",
        "\n",
        "(1) Untersuchen Sie die gegebene Klasse zur One Hot Kodierung und die Funktion der einzelnen Methoden. \n",
        "\n",
        "(2) Erstellen Sie für das folgendes Alphabet `HWedlor` eine Instanz der Klasse `OneHot`. \n",
        "\n",
        "(3) Kodieren Sie nun die Zeichenfolge `Hello World!` mit der One Hot Kodierung. Wie wird das Zeichen `H` dargestellt? Geben Sie die Dimensionen des Vektors an.\n",
        "\n",
        "* Hinweis: Sie können zur Umwandlung des Strings in eine Liste von Zeichen die Funktion `tokenize` verwenden. Dies ist aber nicht zwingend erforderlich, da Python den String automatisch als Liste interpretieren kann."
      ]
    },
    {
      "cell_type": "markdown",
      "metadata": {
        "id": "HXopuHLJadWN"
      },
      "source": [
        "> <Antwort hier einfügen>\n",
        "\n",
        "> **Musterlösung:** Das Zeichen `H` wird als Vektor `[0 1 0 0 0 0 0 0]` \n",
        "dargestellt. Die Dimension ist `1x8`."
      ]
    },
    {
      "cell_type": "markdown",
      "metadata": {
        "id": "9jCputAba8UN"
      },
      "source": [
        "(4) Wandeln Sie die kodierte Zeichenfolge zurück in einen für Menschen lesbaren Text. Entspricht der zurückgewandelte Text dem ursprünglichen Input? Falls nicht, was könnte die Ursache dafür sein?\n",
        "\n",
        "* Hinweis: Für eine schönere Ausgabe kann der enkodierte Text mit der Funktion `untokenize` in einen String gewandelt werden."
      ]
    },
    {
      "cell_type": "markdown",
      "metadata": {
        "id": "hPiAwayxbi16"
      },
      "source": [
        "> <Antwort hier einfügen>\n",
        "\n",
        "> **Musterlösung:** Der ursprüngliche Text und der kodierte und dekodierte Text ist nicht mehr identisch, da zwei Zeichen (Leerzeichen, Ausrufezeichen) nicht im Alphabet vorhanden sind. Durch das Hinzufügen dieser Zeichen ins Alphabet würde der ursprüngliche Text erhalten bleiben."
      ]
    },
    {
      "cell_type": "code",
      "metadata": {
        "colab": {
          "base_uri": "https://localhost:8080/"
        },
        "id": "QjFH6Rbeab4P",
        "outputId": "0cbb1c0f-6d21-4cb8-b117-7a42ae29e422"
      },
      "source": [
        "def tokenize(text):\n",
        "    '''\n",
        "    Converts the given text (string) in a list of chars.\n",
        "    '''\n",
        "    return list(text)\n",
        "\n",
        "def untokenize(tokens):\n",
        "    '''\n",
        "    Converts the given tokens (list of chars) in a string.\n",
        "    '''\n",
        "    return \"\".join(tokens)\n",
        "\n",
        "tokens = 'HWedlor'\n",
        "\n",
        "# code here\n",
        "one_hot = OneHot(tokens=tokens)\n",
        "\n",
        "text='Hello World!'\n",
        "\n",
        "coded_text = one_hot.encode(text)\n",
        "print(\"Shape of coded text: \", coded_text.shape)\n",
        "print(\"H coded (first letter in coded text): \", coded_text[0].astype(int))\n",
        "\n",
        "decoded_text = one_hot.decode(coded_text)\n",
        "\n",
        "print(\"original text: \", text)\n",
        "print(\"decoded text: \", untokenize(decoded_text))"
      ],
      "execution_count": null,
      "outputs": [
        {
          "output_type": "stream",
          "text": [
            "Shape of coded text:  (12, 8)\n",
            "H coded (first letter in coded text):  [0 1 0 0 0 0 0 0]\n",
            "original text:  Hello World!\n",
            "decoded text:  Hello[UNKNOWN]World[UNKNOWN]\n"
          ],
          "name": "stdout"
        }
      ]
    },
    {
      "cell_type": "markdown",
      "metadata": {
        "id": "WglUJhhgyWSs"
      },
      "source": [
        "## 7.2 Datensatz vorbereiten\n",
        "\n",
        "In dieser Übung verwenden wir einen Auszug aus dem frei zugänglichen Buch [Shakespeare](http://shakespeare.mit.edu/) als Datensatz. Ziel des Modells soll die Vorhersage weiterer Zeichen zu einer gegebenen Zeichensequenz sein.\n",
        "\n",
        "Sie können aus einem Buch (sehr lange Zeichensequenz) Trainingsdaten erzeugen, indem Sie jedem Zeichen das jeweils nächste Zeichen als Label zuweisen. Die folgende Grafik veranschaulicht dieses Verfahren:\n",
        "![Image](https://raw.githubusercontent.com/fhac-ewi/recurrent-neural-network/main/TrainData.png)\n",
        "\n",
        "In dieser Aufgabe wird das Buch einlegesen, mithilfe der One Hot Kodierung (Aufgabe 7.1) in Vektoren umgewandelt, in Teilsequenzen unterteilt und als Trainingsdaten und Validierungsdaten aufgeteilt.\n",
        "\n",
        "* Hinweis: Sie können theoretisch jeden beliebigen Text als Datensatz für das Training des Modells verwenden, wie z.B. die gesamten Harry Potter Bücher, Coronaschutzverordnungen oder auch Nachrichtenartikel.\n",
        "\n",
        "**Ihre Aufgaben**\n",
        "\n",
        "(1) Führen Sie die folgende Codezelle aus, um das Buch Shakespeare einzulesen. Untersuchen Sie den Datensatz, indem Sie einen kurzen Auszug des Textes ausgeben.\n"
      ]
    },
    {
      "cell_type": "code",
      "metadata": {
        "colab": {
          "base_uri": "https://localhost:8080/"
        },
        "id": "79Qwlyaucvu0",
        "outputId": "7b0388e3-2660-4223-c71f-2d03f9f08e4f"
      },
      "source": [
        "# maximum text length \n",
        "# 1. Protection against \"OutOfMemory\" (poor RAM 😥)\n",
        "# 2. Adjustment for making training faster (but you will gain less accuracy)\n",
        "MAX_TEXT_LEN = 1_200_000 \n",
        "\n",
        "path_to_file = tf.keras.utils.get_file('shakespeare.txt', 'https://storage.googleapis.com/download.tensorflow.org/data/shakespeare.txt')\n",
        "\n",
        "text = open(path_to_file, 'rb').read().decode(encoding='utf-8') # .lower() für schnelleres Training anfügen\n",
        "print(f'Length of text: {len(text)} characters')\n",
        "if len(text) > MAX_TEXT_LEN:\n",
        "    print(\"Text is too long. Cutting it to\", MAX_TEXT_LEN, f\"characters. That is {100 * MAX_TEXT_LEN / len(text):6.2f} %\")\n",
        "    text = text[:MAX_TEXT_LEN]\n",
        "\n",
        "# code here   \n",
        "# Aufgabe 7.2.1 \n",
        "print(\"Segment of text:\")\n",
        "print(\"-\" * 60)\n",
        "print(colored(text[:250], 'blue')) \n",
        "print(\"-\" * 60)"
      ],
      "execution_count": null,
      "outputs": [
        {
          "output_type": "stream",
          "text": [
            "Length of text: 1115394 characters\n",
            "Segment of text:\n",
            "------------------------------------------------------------\n",
            "\u001b[34mFirst Citizen:\n",
            "Before we proceed any further, hear me speak.\n",
            "\n",
            "All:\n",
            "Speak, speak.\n",
            "\n",
            "First Citizen:\n",
            "You are all resolved rather to die than to famish?\n",
            "\n",
            "All:\n",
            "Resolved. resolved.\n",
            "\n",
            "First Citizen:\n",
            "First, you know Caius Marcius is chief enemy to the people.\n",
            "\u001b[0m\n",
            "------------------------------------------------------------\n"
          ],
          "name": "stdout"
        }
      ]
    },
    {
      "cell_type": "markdown",
      "metadata": {
        "id": "dD8tnErzN2YX"
      },
      "source": [
        "(2) Wandeln Sie den `text` in Tokens um (`tokenized_text`), indem Sie die Funktion `tokenize` anwenden."
      ]
    },
    {
      "cell_type": "code",
      "metadata": {
        "id": "2VZ6c1F1OZDl"
      },
      "source": [
        "# code here\n",
        "# Aufgabe 7.2.2\n",
        "tokenized_text = tokenize(text)"
      ],
      "execution_count": null,
      "outputs": []
    },
    {
      "cell_type": "markdown",
      "metadata": {
        "id": "gx1Wc-Z-c9m5"
      },
      "source": [
        "(3) Ermitteln Sie aus `tokenized_text` das Alphabet (`tokens`) und geben dessen Länge aus. Das Alphabet soll alle einzigartigen Zeichen des Textes enthalten.\n",
        "\n",
        "* Hinweis: Die Dokumentation von [Set](https://docs.python.org/3/tutorial/datastructures.html#sets) kann Ihnen bei dieser Aufgabe weiterhelfen."
      ]
    },
    {
      "cell_type": "code",
      "metadata": {
        "colab": {
          "base_uri": "https://localhost:8080/"
        },
        "id": "z3CD1zKnc-Ar",
        "outputId": "1473cc54-f608-48d1-f6f0-fbd57dbe3db6"
      },
      "source": [
        "# code here\n",
        "# Aufgabe 7.2.3 - Alphabet erstellen\n",
        "tokens = sorted(set(tokenized_text))\n",
        "print(\"Length of raw text:\", len(text))\n",
        "print(\"Numbers of tokens (unique letters): \", len(tokens))"
      ],
      "execution_count": null,
      "outputs": [
        {
          "output_type": "stream",
          "text": [
            "Length of raw text: 1115394\n",
            "Numbers of tokens (unique letters):  65\n"
          ],
          "name": "stdout"
        }
      ]
    },
    {
      "cell_type": "markdown",
      "metadata": {
        "id": "ae-yuMS0c-aI"
      },
      "source": [
        "(4) Erstellen Sie für das Alphabet eine One Hot Kodierung und wenden diese auf den `tokenized_text` an. Nutzen Sie dazu Ihre Erkentnisse aus der Aufgabe 7.1."
      ]
    },
    {
      "cell_type": "code",
      "metadata": {
        "colab": {
          "base_uri": "https://localhost:8080/"
        },
        "id": "Uxh5yZSlc-1j",
        "outputId": "f83859ea-b65d-4566-c967-858c68389ace"
      },
      "source": [
        "# code here\n",
        "# Aufgabe 7.2.4 - One Hot\n",
        "one_hot = OneHot(tokens=tokens)\n",
        "coded_text = one_hot.encode(tokenized_text)\n",
        "print(\"Shape of coded text: \", coded_text.shape)"
      ],
      "execution_count": null,
      "outputs": [
        {
          "output_type": "stream",
          "text": [
            "Shape of coded text:  (1115394, 66)\n"
          ],
          "name": "stdout"
        }
      ]
    },
    {
      "cell_type": "markdown",
      "metadata": {
        "id": "Ufxc8wG5c_Tg"
      },
      "source": [
        "(5) Teilen Sie den kodierten Text (der ein großer Datensatz ist) in Sequenzen (also in mehrere kleinere Datensätze) auf. Wie würden Sie die Länge der einzelnen Sequenzen wählen? \n",
        "Verwenden Sie dazu die vorgegebene Funktion `sequenze_split`.\n",
        "\n",
        "* Hinweis: Die Sequenzen sollten lang genug sein, dass das RNN Zusammenhänge in einem Satz (und ggf. darüber hinaus) erlernen kann. Die Sequenzlänge sollte jedoch kurz genug sein, damit eine ausreichende Anzahl an Datensätzen für das Training vorhanden ist.\n",
        "<br>Die von uns verwendete Sequenzlänge haben wir mit [Rot13](https://rot13.de/) kodiert: `Rvauhaqreg`"
      ]
    },
    {
      "cell_type": "code",
      "metadata": {
        "colab": {
          "base_uri": "https://localhost:8080/"
        },
        "id": "-0vijKKDc_5b",
        "outputId": "6f5e37cf-dbd7-4275-e441-174f7aec3281"
      },
      "source": [
        "# helper function for 7.2.5\n",
        "def sequenze_split(coded_text, sequence_len):\n",
        "    '''\n",
        "    Splits a given coded text (text converted with OneHot) into multiple sequences.\n",
        "\n",
        "    Parameters:\n",
        "    coded_text -- OneHot coded text (2D np.array) that will be splitted.\n",
        "    sequence_len -- Length of each sequence\n",
        "\n",
        "    Returns:\n",
        "    3D np.array with coded text splitted into sequences.\n",
        "    Shape will be (sequences, letters per sequence, letter as one hot coded vector)\n",
        "    '''\n",
        "    target_shape = (int(coded_text.shape[0] / (sequence_len + 1)) , (sequence_len + 1) , coded_text.shape[1])\n",
        "    coded_text_seq = np.empty(target_shape, dtype=coded_text.dtype)\n",
        "    for s in range(coded_text_seq.shape[0]):\n",
        "        coded_text_seq[s] = coded_text[s * (sequence_len + 1):(s + 1) * (sequence_len + 1)]\n",
        "  \n",
        "    return coded_text_seq  \n",
        "\n",
        "# code here\n",
        "# Aufgabe 7.2.5 - Aufteilung in Sequenzen\n",
        "sequence_len = 100\n",
        "coded_text_seq = sequenze_split(coded_text, sequence_len)\n",
        "print(\"Shape of coded text split into sequences\", coded_text_seq.shape)    "
      ],
      "execution_count": null,
      "outputs": [
        {
          "output_type": "stream",
          "text": [
            "Shape of coded text split into sequences (11043, 101, 66)\n"
          ],
          "name": "stdout"
        }
      ]
    },
    {
      "cell_type": "markdown",
      "metadata": {
        "id": "V0IfRdKdcwNL"
      },
      "source": [
        "(6) Erstellen Sie nun aus den sequenzierten Daten das Feature `X` und das Label `y`. Für die Vorhersage von einzelnen Zeichen ist jeweils das nächste Zeichen das Label des vorherigen Zeichens. Das Label `y` wird deshalb aus den gleichen Werten des Features `X` gebildet, ist jedoch um +1 verschoben. \n",
        "\n",
        "\n",
        "* Beispiel: Die Sequenz `Hello World!` kann in **X** `Hello World` mit dem zugehörigen Label **y** `ello World!` aufgeteilt werden.\n",
        "* Hinweis: Untersuchen Sie die Rückgabe der Funktion `sequenze_split`. In welcher der drei Komponenten müssen Sie die Verschiebung vornehmen?\n"
      ]
    },
    {
      "cell_type": "code",
      "metadata": {
        "id": "JpjJhmNMdMtQ"
      },
      "source": [
        "# code here\n",
        "# Aufgabe 7.2.6\n",
        "X = coded_text_seq[:, :-1]\n",
        "y = coded_text_seq[:, 1:]"
      ],
      "execution_count": null,
      "outputs": []
    },
    {
      "cell_type": "markdown",
      "metadata": {
        "id": "LA0UqltXdNK9"
      },
      "source": [
        "(7) Konvertieren Sie nun die Daten in ein Trainings- und Validierungsset. Nutzen Sie dafür die Funktion `train_test_split` (Eine Dokumentation finden Sie [hier](https://scikit-learn.org/stable/modules/generated/sklearn.model_selection.train_test_split.html)). "
      ]
    },
    {
      "cell_type": "code",
      "metadata": {
        "colab": {
          "base_uri": "https://localhost:8080/"
        },
        "id": "LN0KsVCb_Rm-",
        "outputId": "ca0ad5c8-9cf5-4e6d-f526-1e39e7edda2a"
      },
      "source": [
        "# code here\n",
        "# Aufgabe 7.2.7\n",
        "validation_size = 1/6\n",
        "\n",
        "X_train, X_val, y_train, y_val = train_test_split(X, y, test_size=validation_size)\n",
        "\n",
        "print(\"X_train:\", X_train.shape, X_train.dtype)\n",
        "print(\"y_train:\", y_train.shape, y_train.dtype)\n",
        "print(\"X_val  :\", X_val.shape, X_val.dtype)\n",
        "print(\"y_val  :\", y_val.shape, y_val.dtype)\n",
        "\n",
        "print(\"-\" * 40)\n",
        "print(colored(untokenize(one_hot.decode(X_train[0])), 'blue'))\n",
        "print(\"-\" * 40)\n",
        "print(colored(untokenize(one_hot.decode(y_train[0])), 'green'))\n",
        "print(\"-\" * 40)    "
      ],
      "execution_count": null,
      "outputs": [
        {
          "output_type": "stream",
          "text": [
            "X_train: (9202, 100, 66) bool\n",
            "y_train: (9202, 100, 66) bool\n",
            "X_val  : (1841, 100, 66) bool\n",
            "y_val  : (1841, 100, 66) bool\n",
            "----------------------------------------\n",
            "\u001b[34mvereign's face.\n",
            "I am the last of noble Edward's sons,\n",
            "Of whom thy father, Prince of Wales, was first\u001b[0m\n",
            "----------------------------------------\n",
            "\u001b[32mereign's face.\n",
            "I am the last of noble Edward's sons,\n",
            "Of whom thy father, Prince of Wales, was first:\u001b[0m\n",
            "----------------------------------------\n"
          ],
          "name": "stdout"
        }
      ]
    },
    {
      "cell_type": "markdown",
      "metadata": {
        "id": "PDvkDpWsysjl"
      },
      "source": [
        "🎉🎉🎉 **Geschafft!** 🎉🎉🎉\n",
        "\n",
        "Sie haben nun aus einem Buch Trainingsdaten für ein RNN zur Vorhersage von Zeichen erstellt!\n",
        "Folgende Schritte haben Sie erfolgreich durchgeführt: \n",
        "- Text einlesen (und falls notwendig bereinigen)\n",
        "- Text in Tokens umwandeln\n",
        "- Alphabet festlegen\n",
        "- One Hot Kodierung erstellen und anwenden\n",
        "- In Sequenzen aufteilen\n",
        "- `X` und `y` festlegen\n",
        "- Aufteilung in Training und Validierungsset\n",
        "\n",
        "... jetzt können Sie mit dem eigentlichen Modell fortfahren."
      ]
    },
    {
      "cell_type": "markdown",
      "metadata": {
        "id": "tOMFCH7V_RnM"
      },
      "source": [
        "## 7.3 RNN Modell erstellen\n",
        "In dieser Aufgabe wird ein many-to-many [SimpleRNN](https://keras.io/api/layers/recurrent_layers/simple_rnn/) (auch als Vanilla bezeichnet) zur Vorhersage des weiteren Verlaufs einer Zeichensequenz erstellt.\n",
        "\n",
        "Für die Erstellung eines Vanilla RNN werden Sie ein Sequential Model von Keras mit einer SimpleRNN Layer und einer Dense Layer nutzen. \n",
        "![Image](https://raw.githubusercontent.com/fhac-ewi/recurrent-neural-network/main/SimpleRNN.png)\n",
        "\n",
        "**Ihre Aufgaben**\n",
        "\n",
        "(1) Bestimmen Sie nun die Parameter, die für das Modell benötigt werden:\n",
        "- Shape der Eingabe/des Trainingdatensatzes. (Anzahl Zeichen, Länge eines vektorisierten Zeichens)\n",
        "- Länge des Alphabets (inklusive des `unknown_tokens`). Also die Anzahl der Tokens, die das Modell vorhersagen können soll.\n",
        "  \n"
      ]
    },
    {
      "cell_type": "code",
      "metadata": {
        "colab": {
          "base_uri": "https://localhost:8080/"
        },
        "id": "1JNXcbdvfoOF",
        "outputId": "92436038-ac16-4087-8ce9-34e3c2bbcdf0"
      },
      "source": [
        "# code here\n",
        "# Aufgabe 7.3.1\n",
        "# Length of the vocabulary in chars\n",
        "vocab_size = X_train.shape[-1]\n",
        "print(\"Numbers of unique tokens: \", vocab_size)\n",
        "\n",
        "# The input shape\n",
        "input_shape = X_train.shape[1:]\n",
        "print(\"Input shape: \", input_shape)\n",
        "\n",
        "# Number of RNN units\n",
        "rnn_units = 128"
      ],
      "execution_count": null,
      "outputs": [
        {
          "output_type": "stream",
          "text": [
            "Numbers of unique tokens:  66\n",
            "Input shape:  (100, 66)\n"
          ],
          "name": "stdout"
        }
      ]
    },
    {
      "cell_type": "markdown",
      "metadata": {
        "id": "07w7qlrrfonH"
      },
      "source": [
        "\n",
        "(2) Erstellen Sie ein [Sequential](https://keras.io/api/models/sequential/) Modell und fügen folgende Schichten hinzu:\n",
        "- [SimpleRNN](https://keras.io/api/layers/recurrent_layers/simple_rnn/) mit 128 RNN Units als Output Space (= Größe des Hidden State), der Shape der Eingabe und dem Parameter `return_sequences=true`. Wenn wir den Parameter `return_sequences=true` setzen, gibt unsere SimpleRNN-Schicht die gesamte Output-Sequenz zurück (Das Resultat entspricht einem `many-to-many RNN`).\n",
        "- [Dense](https://keras.io/api/layers/core_layers/dense/) mit der Anzahl der Tokens und der Aktivierungsfunktion `softmax`.\n",
        "\n",
        "Kompilieren Sie anschließend das Modell mit der Loss Function `categorical_crossentropy`, dem [RMSprop](https://keras.io/api/optimizers/rmsprop/) Optimizer mit einer `learning_rate` von 0.01 und fügen als Metrics die `accuracy` hinzu."
      ]
    },
    {
      "cell_type": "code",
      "metadata": {
        "colab": {
          "base_uri": "https://localhost:8080/"
        },
        "id": "z0Uh7RmR_RnN",
        "outputId": "e53568f3-47ce-4500-c3c6-3d139ee8d3f8"
      },
      "source": [
        "# code here\n",
        "# Aufgabe 7.3.2 - SimpleRNN\n",
        "# model = ....\n",
        "model = tf.keras.Sequential(name=\"SimpleRNN_Model\")\n",
        "model.add(tf.keras.layers.SimpleRNN(rnn_units, return_sequences=True, input_shape=input_shape, name=\"The_Brain\"))\n",
        "model.add(tf.keras.layers.Dense(vocab_size, activation='softmax', name=\"The_Hand\"))\n",
        "optimizer = tf.keras.optimizers.RMSprop(learning_rate=0.01)\n",
        "model.compile(loss='categorical_crossentropy', optimizer=optimizer, metrics=['accuracy'])\n",
        "\n",
        "model.summary()"
      ],
      "execution_count": null,
      "outputs": [
        {
          "output_type": "stream",
          "text": [
            "Model: \"SimpleRNN_Model\"\n",
            "_________________________________________________________________\n",
            "Layer (type)                 Output Shape              Param #   \n",
            "=================================================================\n",
            "The_Brain (SimpleRNN)        (None, 100, 128)          24960     \n",
            "_________________________________________________________________\n",
            "The_Hand (Dense)             (None, 100, 66)           8514      \n",
            "=================================================================\n",
            "Total params: 33,474\n",
            "Trainable params: 33,474\n",
            "Non-trainable params: 0\n",
            "_________________________________________________________________\n"
          ],
          "name": "stdout"
        }
      ]
    },
    {
      "cell_type": "markdown",
      "metadata": {
        "id": "axndj50eyWrw"
      },
      "source": [
        "## 7.4 RNN Modell trainieren\n",
        "In dieser Aufgabe soll das Modell trainiert werden sowie der Loss und die Accuracy untersucht werden.\n",
        "\n",
        "**Ihre Aufgaben**\n",
        "\n",
        "(1) Wenden Sie die Methode [fit](https://www.tensorflow.org/api_docs/python/tf/keras/Model#fit) auf Ihr Modell an. Geben Sie als Parameter neben den Trainingsdaten auch die Anzahl der Epochen, die Batchsize und die zuvor erstellten Validierungsdaten (Aufgabenteil 7.2.6) an. Speichern Sie das Ergebnis des Trainings für eine spätere Analyse in einer Variable!\n",
        "\n",
        "Im Code sind bereits Startwerte für das Training vorgegeben. Sie können diese nach Belieben anpassen. \n",
        "\n",
        "**Eine Accuracy von 50% ist für diesen Schritt völlig ausreichend!**\n",
        "\n",
        "* Hinweis: **Die Trainingsdauer sollte zwischen 1 und 3 Minuten liegen!** \n",
        "</br>Nach den ersten drei Epochen sollte die Genauigkeit bereits über 30% liegen. Falls nicht, prüfen Sie noch einmal die vorherigen Aufgabenteile oder bitten Sie das Team RNN um Hilfe!\n",
        "\n",
        "* Tipp: Falls Sie das Gefühl haben, dass Ihr Modell noch einen Fehler enthalten könnte, fügen Sie in Aufgabe 7.2 im Codeblock Zeile 8 ein `.lower()` ein. Dadurch wird der Datensatz in Kleinbuchstaben umgewandelt und die Größe des Alphabets verringert. "
      ]
    },
    {
      "cell_type": "code",
      "metadata": {
        "colab": {
          "base_uri": "https://localhost:8080/"
        },
        "id": "iGpNzqcuyW5-",
        "outputId": "34120975-7ce4-4557-c6dd-b2a43223eafe"
      },
      "source": [
        "EPOCHS = 20\n",
        "BATCH_SIZE = 128\n",
        "\n",
        "t1 = time.time()\n",
        "# code here\n",
        "hist = model.fit(X_train, y_train,\n",
        "                  batch_size=BATCH_SIZE,\n",
        "                  epochs=EPOCHS,\n",
        "                  validation_data=(X_val, y_val))\n",
        "t2 = time.time()\n",
        "\n",
        "print(\"Training took: \", timedelta(seconds=t2-t1))"
      ],
      "execution_count": null,
      "outputs": [
        {
          "output_type": "stream",
          "text": [
            "Epoch 1/20\n",
            "72/72 [==============================] - 4s 57ms/step - loss: 3.0852 - accuracy: 0.2152 - val_loss: 2.4358 - val_accuracy: 0.3272\n",
            "Epoch 2/20\n",
            "72/72 [==============================] - 4s 52ms/step - loss: 2.2948 - accuracy: 0.3467 - val_loss: 2.1701 - val_accuracy: 0.3834\n",
            "Epoch 3/20\n",
            "72/72 [==============================] - 4s 53ms/step - loss: 2.1067 - accuracy: 0.3921 - val_loss: 2.0566 - val_accuracy: 0.4076\n",
            "Epoch 4/20\n",
            "72/72 [==============================] - 4s 52ms/step - loss: 1.9867 - accuracy: 0.4230 - val_loss: 1.9598 - val_accuracy: 0.4278\n",
            "Epoch 5/20\n",
            "72/72 [==============================] - 4s 53ms/step - loss: 1.9066 - accuracy: 0.4435 - val_loss: 1.8954 - val_accuracy: 0.4429\n",
            "Epoch 6/20\n",
            "72/72 [==============================] - 4s 55ms/step - loss: 1.8526 - accuracy: 0.4578 - val_loss: 1.8550 - val_accuracy: 0.4561\n",
            "Epoch 7/20\n",
            "72/72 [==============================] - 4s 52ms/step - loss: 1.8164 - accuracy: 0.4674 - val_loss: 1.8299 - val_accuracy: 0.4615\n",
            "Epoch 8/20\n",
            "72/72 [==============================] - 4s 53ms/step - loss: 1.7893 - accuracy: 0.4741 - val_loss: 1.7936 - val_accuracy: 0.4800\n",
            "Epoch 9/20\n",
            "72/72 [==============================] - 4s 52ms/step - loss: 1.7665 - accuracy: 0.4797 - val_loss: 1.7742 - val_accuracy: 0.4834\n",
            "Epoch 10/20\n",
            "72/72 [==============================] - 4s 53ms/step - loss: 1.7477 - accuracy: 0.4846 - val_loss: 1.7476 - val_accuracy: 0.4825\n",
            "Epoch 11/20\n",
            "72/72 [==============================] - 4s 52ms/step - loss: 1.7343 - accuracy: 0.4878 - val_loss: 1.7430 - val_accuracy: 0.4922\n",
            "Epoch 12/20\n",
            "72/72 [==============================] - 4s 54ms/step - loss: 1.7207 - accuracy: 0.4911 - val_loss: 1.7269 - val_accuracy: 0.4907\n",
            "Epoch 13/20\n",
            "72/72 [==============================] - 4s 56ms/step - loss: 1.7106 - accuracy: 0.4939 - val_loss: 1.7519 - val_accuracy: 0.4854\n",
            "Epoch 14/20\n",
            "72/72 [==============================] - 4s 53ms/step - loss: 1.7013 - accuracy: 0.4958 - val_loss: 1.7181 - val_accuracy: 0.4890\n",
            "Epoch 15/20\n",
            "72/72 [==============================] - 4s 55ms/step - loss: 1.6928 - accuracy: 0.4987 - val_loss: 1.7007 - val_accuracy: 0.4949\n",
            "Epoch 16/20\n",
            "72/72 [==============================] - 4s 53ms/step - loss: 1.6863 - accuracy: 0.4998 - val_loss: 1.7101 - val_accuracy: 0.4978\n",
            "Epoch 17/20\n",
            "72/72 [==============================] - 4s 53ms/step - loss: 1.6790 - accuracy: 0.5017 - val_loss: 1.6980 - val_accuracy: 0.5015\n",
            "Epoch 18/20\n",
            "72/72 [==============================] - 4s 55ms/step - loss: 1.6728 - accuracy: 0.5036 - val_loss: 1.7010 - val_accuracy: 0.4941\n",
            "Epoch 19/20\n",
            "72/72 [==============================] - 4s 54ms/step - loss: 1.6683 - accuracy: 0.5045 - val_loss: 1.6884 - val_accuracy: 0.5018\n",
            "Epoch 20/20\n",
            "72/72 [==============================] - 4s 54ms/step - loss: 1.6623 - accuracy: 0.5059 - val_loss: 1.6944 - val_accuracy: 0.5033\n",
            "Training took:  0:01:19.623139\n"
          ],
          "name": "stdout"
        }
      ]
    },
    {
      "cell_type": "markdown",
      "metadata": {
        "id": "hwFD7439_RnO"
      },
      "source": [
        "(2) Plotten Sie die Accuracy und den Loss des Trainingsets und des Validationsets über die Epochen hinweg. Bewerten Sie den Verlauf des Trainings. Wie könnte das Training verbessert werden?\n",
        "* Hinweis: Die Accuracy und den Loss finden Sie in der [history](https://keras.io/api/models/model_training_apis/#fit-method) des Modells. Schauen Sie sich hierzu die Rückgabe der `fit-Methode` an."
      ]
    },
    {
      "cell_type": "code",
      "metadata": {
        "colab": {
          "base_uri": "https://localhost:8080/",
          "height": 606
        },
        "id": "JCn3o8K9_RnO",
        "outputId": "6ae3962c-8316-4b47-f128-117163a2c483"
      },
      "source": [
        "# code here\n",
        "fig, ax = plt.subplots(1, 1)\n",
        "\n",
        "ax.plot(hist.history[\"loss\"], label='loss')\n",
        "ax.plot(hist.history[\"accuracy\"], label='accuracy')\n",
        "ax.plot(hist.history[\"val_loss\"], label='validation loss')\n",
        "ax.plot(hist.history[\"val_accuracy\"], label='validation accuracy')\n",
        "ax.set_xlabel(\"Epoch\")\n",
        "ax.legend()\n",
        "\n",
        "fig.set_size_inches(20, 10)\n",
        "\n",
        "plt.show()"
      ],
      "execution_count": null,
      "outputs": [
        {
          "output_type": "display_data",
          "data": {
            "image/png": "[encoded data removed]",
            "text/plain": [
              "<Figure size 1440x720 with 1 Axes>"
            ]
          },
          "metadata": {
            "tags": [],
            "needs_background": "light"
          }
        }
      ]
    },
    {
      "cell_type": "markdown",
      "metadata": {
        "id": "ghcs0o_ABlKR"
      },
      "source": [
        "> <Antwort hier einfügen>\n",
        "\n",
        "> **Musterlösung:** \n",
        "- Bewertung:\n",
        "  - Training erreicht schon nach ca. 10 Epochen keinen großen Fortschritt mehr\n",
        "-Verbesserungspotential:\n",
        "  - Mehr Trainingszeit\n",
        "  - Mehr RNN Units, damit sich das Netz mehr merken kann\n",
        "  - Mehr Trainingsdaten\n",
        "  - Anpassung der Modellarchitektur"
      ]
    },
    {
      "cell_type": "markdown",
      "metadata": {
        "id": "WxNyKthd_RnP"
      },
      "source": [
        "## 7.5 Vorhersagen treffen\n",
        "In diesem Schritt wollen wir unser zuvor trainiertes Modell für die Vorhersage von Buchstaben/Texten nutzen. Basierend auf den resultierenden Sätzen können wir eine von der Accuracy unabhängige Bewertung der Modellgüte erstellen.\n",
        "\n",
        "**Ihre Aufgaben**\n",
        "\n",
        "(1) Vervollständigen Sie die Funktion `predict`. Kodieren Sie dafür den Text mit der One Hot Kodierung, führen die Vorhersage mit dem trainierten Modell durch und geben das letzte dekodierte Zeichen der Vorhersage zurück.  \n",
        "\n",
        "* Hinweis: Beachten Sie, dass die Methode `model.predict` immer Batches erwartet und der Input in eine andere Shape gebracht werden muss.\n",
        "\n",
        "Testen Sie anschließend die Funktion mit einzelnen Wörtern. Geben Sie dafür den ersten Teil des Wortes in die `predict` Funktion hinein und überprüfen die Rückgabe. Sie können auch kürzere Sätze hineingeben und die Ausgabe prüfen.\n",
        "\n",
        "* Beispiel: Bei `Prince` wird der Input als `Princ` gewählt und das erwartete Ergebnis lautet `e`.\n",
        "\n",
        "Wir haben Ihnen zusätzlich ein Widget mithilfe von [ipywidgets](https://ipywidgets.readthedocs.io/en/latest/examples/Using%20Interact.html#Using-Interact) programmiert, damit Sie verschiedene Inputs live testen können."
      ]
    },
    {
      "cell_type": "code",
      "metadata": {
        "colab": {
          "base_uri": "https://localhost:8080/"
        },
        "id": "y3wVdygn_RnQ",
        "outputId": "c5ea95f2-8fcd-4006-96cb-3673cffe4d9a"
      },
      "source": [
        "def predict(text, one_hot, trainied_model):\n",
        "    '''\n",
        "    Wandelt den Text mithilfe der OneHot Kodierung in eine Input um, \n",
        "    führt mithilfe des trainierten Modells eine prediction durch \n",
        "    und gibt das vorhergesagte Zeichen als Text aus.\n",
        "    '''\n",
        "    # coce here\n",
        "    encoded_text = one_hot.encode(tokenize(text))\n",
        "    prediction = trainied_model.predict(encoded_text.reshape((1, *encoded_text.shape)))\n",
        "    return untokenize(one_hot.decode(prediction[0]))[-1]\n",
        "\n",
        "print(\"Prediction of 'fathe' is:\", predict(\"fathe\", one_hot, model))   \n",
        "print(\"Prediction of 'Princ' is:\", predict(\"Princ\", one_hot, model))  "
      ],
      "execution_count": null,
      "outputs": [
        {
          "output_type": "stream",
          "text": [
            "Prediction of 'fathe' is: r\n",
            "Prediction of 'Princ' is: e\n"
          ],
          "name": "stdout"
        }
      ]
    },
    {
      "cell_type": "code",
      "metadata": {
        "id": "GlsDGNC5ry0s",
        "outputId": "99059130-40ae-4490-f9a2-9c2efa4e241e",
        "colab": {
          "referenced_widgets": [
            "7c2048427dc94d0c92060a7a12156bb9"
          ]
        }
      },
      "source": [
        "import ipywidgets as widgets\n",
        "from IPython.display import display\n",
        "def verbose_prediction(text, one_hot, trainied_model):\n",
        "    if len(text) == 0:\n",
        "        text = \" \"\n",
        "    prediction = predict(text=text, one_hot=one_hot, trainied_model=trainied_model)\n",
        "    print(f\"I think the next will be \\\"{prediction}\\\" after you said \\\"{text}\\\"\")\n",
        "\n",
        "w = widgets.interactive(verbose_prediction,\n",
        "                        text=widgets.Text(value='ROME', placeholder='Type something', description='Your text:', disabled=False),\n",
        "                        one_hot=widgets.fixed(one_hot),\n",
        "                        trainied_model=widgets.fixed(model),\n",
        "                       )\n",
        "\n",
        "verbose_prediction(\"Edwar\", one_hot=one_hot, trainied_model=model)\n",
        "\n",
        "display(w)"
      ],
      "execution_count": null,
      "outputs": [
        {
          "output_type": "stream",
          "text": [
            "I think the next will be \"d\" after you said \"Edwar\"\n"
          ],
          "name": "stdout"
        },
        {
          "output_type": "display_data",
          "data": {
            "application/vnd.jupyter.widget-view+json": {
              "model_id": "7c2048427dc94d0c92060a7a12156bb9",
              "version_major": 2,
              "version_minor": 0
            },
            "text/plain": [
              "interactive(children=(Text(value='ROME', description='Your text:', placeholder='Type something'), Output()), _…"
            ]
          },
          "metadata": {
            "tags": []
          }
        }
      ]
    },
    {
      "cell_type": "markdown",
      "metadata": {
        "id": "IGXTuk3VnLQb"
      },
      "source": [
        "(2) **Wettkampf** Erweitern Sie die Funktion `predict` aus dem vorherigen Aufgabenteil (7.5.1) zu einer Funktion, die 100 weitere Zeichen vorhersagt und somit womöglich einen ganzen Satz vorhersagen kann. \n",
        "\n",
        "Reichen Sie Ihr bestes Ergebnis im [Discord Chat von Team RNN](https://discord.com/channels/829659610045481010/829659610210107434/846648596681195550) ein. Wenn Sie in den nachfolgenden Aufgaben bessere Ergebnisse erzielen, können Sie diese natürlich auch einreichen!"
      ]
    },
    {
      "cell_type": "code",
      "metadata": {
        "colab": {
          "base_uri": "https://localhost:8080/"
        },
        "id": "btPQKKCRn2xf",
        "outputId": "516d38aa-d04a-4429-a678-68c946d128b8"
      },
      "source": [
        "def predict_sentence(text, prediction_length, one_hot, trainied_model):\n",
        "    '''\n",
        "    Führt mehrere Predictions Iterativ durch.\n",
        "    '''\n",
        "    # code here\n",
        "    for x in range(prediction_length):\n",
        "        text += predict(text, one_hot, trainied_model)\n",
        "    return text\n",
        "\n",
        "print(predict_sentence(\"ROMEO:\\n\", 100, one_hot, model))      "
      ],
      "execution_count": null,
      "outputs": [
        {
          "output_type": "stream",
          "text": [
            "ROMEO:\n",
            "What my lord, the world the world the world the world the world the world the world the world the wo\n"
          ],
          "name": "stdout"
        }
      ]
    },
    {
      "cell_type": "markdown",
      "metadata": {
        "id": "0d7pKNy1ycN7"
      },
      "source": [
        "## 7.6 **Optional** RNN Varianten LSTM und GRU\n",
        "\n",
        "Neben SimpleRNN wurden in der Vorlesung zwei weitere Varianten von RNNs vorgestellt, die mit dem Vanishing Gradient Problem deutlich besser als das SimpleRNN umgehen können.\n",
        "\n",
        "In dieser Aufgabe sollen diese beiden Varianten trainiert und die Lernkurve sowie die getroffenen Vorhersagen mit dem SimpleRNN verglichen werden.\n",
        "\n",
        "**Ihre Aufgaben**\n",
        "\n",
        "(1) Trainieren Sie auf dem gleichen Datensatz zwei Modelle der Varianten LSTM und GRU. Verwenden Sie Ihr Modell aus Aufgabe 7.3 und ersetzen Sie die SimpleRNN Layer durch eine passende [Layer von Keras](https://keras.io/api/layers/recurrent_layers/).\n",
        "\n",
        "**Speichern Sie die Modelle in neuen Variablen ab!**\n"
      ]
    },
    {
      "cell_type": "code",
      "metadata": {
        "colab": {
          "base_uri": "https://localhost:8080/"
        },
        "id": "IehQ7h3uyeY6",
        "outputId": "d41aba71-1da0-45b4-a3da-c9a8ad361136"
      },
      "source": [
        "# code here\n",
        "# model_lstm = ....\n",
        "model_lstm = tf.keras.Sequential(name=\"LSTM_Model\")\n",
        "model_lstm.add(tf.keras.layers.LSTM(rnn_units, return_sequences=True, input_shape=input_shape, name=\"The_Brain\"))\n",
        "model_lstm.add(tf.keras.layers.Dense(vocab_size, activation='softmax', name=\"The_Hand\"))\n",
        "optimizer = tf.keras.optimizers.RMSprop(learning_rate=0.01)\n",
        "model_lstm.compile(loss='categorical_crossentropy', optimizer=optimizer, metrics=['accuracy'])\n",
        "model_lstm.summary()\n",
        "\n",
        "# model_gru = ....\n",
        "model_gru = tf.keras.Sequential(name=\"GRU_Model\")\n",
        "model_gru.add(tf.keras.layers.GRU(rnn_units, return_sequences=True, input_shape=input_shape, name=\"The_Brain\"))\n",
        "model_gru.add(tf.keras.layers.Dense(vocab_size, activation='softmax', name=\"The_Hand\"))\n",
        "optimizer = tf.keras.optimizers.RMSprop(learning_rate=0.01)\n",
        "model_gru.compile(loss='categorical_crossentropy', optimizer=optimizer, metrics=['accuracy'])\n",
        "model_gru.summary()\n"
      ],
      "execution_count": null,
      "outputs": [
        {
          "output_type": "stream",
          "text": [
            "Model: \"LSTM_Model\"\n",
            "_________________________________________________________________\n",
            "Layer (type)                 Output Shape              Param #   \n",
            "=================================================================\n",
            "The_Brain (LSTM)             (None, 100, 128)          99840     \n",
            "_________________________________________________________________\n",
            "The_Hand (Dense)             (None, 100, 66)           8514      \n",
            "=================================================================\n",
            "Total params: 108,354\n",
            "Trainable params: 108,354\n",
            "Non-trainable params: 0\n",
            "_________________________________________________________________\n",
            "Model: \"GRU_Model\"\n",
            "_________________________________________________________________\n",
            "Layer (type)                 Output Shape              Param #   \n",
            "=================================================================\n",
            "The_Brain (GRU)              (None, 100, 128)          75264     \n",
            "_________________________________________________________________\n",
            "The_Hand (Dense)             (None, 100, 66)           8514      \n",
            "=================================================================\n",
            "Total params: 83,778\n",
            "Trainable params: 83,778\n",
            "Non-trainable params: 0\n",
            "_________________________________________________________________\n"
          ],
          "name": "stdout"
        }
      ]
    },
    {
      "cell_type": "code",
      "metadata": {
        "colab": {
          "base_uri": "https://localhost:8080/"
        },
        "id": "knXfKSKy_RnS",
        "outputId": "efd358e2-5f31-4739-a62e-bd579c53dc07"
      },
      "source": [
        "t1 = time.time()\n",
        "# code here (train lstm)\n",
        "hist_lstm = model_lstm.fit(X_train, y_train,\n",
        "                           batch_size=BATCH_SIZE,\n",
        "                           epochs=EPOCHS,\n",
        "                           validation_data=(X_val, y_val))\n",
        "t2 = time.time()\n",
        "t_lstm = t2 - t1\n",
        "\n",
        "t1 = time.time()\n",
        "# code here (train gru)\n",
        "hist_gru = model_gru.fit(X_train, y_train,\n",
        "                         batch_size=BATCH_SIZE,\n",
        "                         epochs=EPOCHS,\n",
        "                         validation_data=(X_val, y_val))\n",
        "t2 = time.time()\n",
        "t_gru = t2 - t1\n",
        "\n",
        "print(\"LSTM Training took:\", timedelta(seconds=t_lstm))\n",
        "print(\"GRU  Training took:\", timedelta(seconds=t_gru))"
      ],
      "execution_count": null,
      "outputs": [
        {
          "output_type": "stream",
          "text": [
            "Epoch 1/20\n",
            "72/72 [==============================] - 2s 25ms/step - loss: 2.9453 - accuracy: 0.2245 - val_loss: 2.5203 - val_accuracy: 0.3005\n",
            "Epoch 2/20\n",
            "72/72 [==============================] - 1s 19ms/step - loss: 2.2347 - accuracy: 0.3566 - val_loss: 2.0966 - val_accuracy: 0.3904\n",
            "Epoch 3/20\n",
            "72/72 [==============================] - 1s 19ms/step - loss: 1.9678 - accuracy: 0.4233 - val_loss: 1.8805 - val_accuracy: 0.4468\n",
            "Epoch 4/20\n",
            "72/72 [==============================] - 1s 19ms/step - loss: 1.8085 - accuracy: 0.4652 - val_loss: 1.7487 - val_accuracy: 0.4804\n",
            "Epoch 5/20\n",
            "72/72 [==============================] - 1s 19ms/step - loss: 1.7057 - accuracy: 0.4923 - val_loss: 1.6965 - val_accuracy: 0.4936\n",
            "Epoch 6/20\n",
            "72/72 [==============================] - 1s 20ms/step - loss: 1.6362 - accuracy: 0.5103 - val_loss: 1.6285 - val_accuracy: 0.5117\n",
            "Epoch 7/20\n",
            "72/72 [==============================] - 1s 19ms/step - loss: 1.5867 - accuracy: 0.5225 - val_loss: 1.5802 - val_accuracy: 0.5257\n",
            "Epoch 8/20\n",
            "72/72 [==============================] - 1s 19ms/step - loss: 1.5481 - accuracy: 0.5334 - val_loss: 1.5638 - val_accuracy: 0.5299\n",
            "Epoch 9/20\n",
            "72/72 [==============================] - 1s 19ms/step - loss: 1.5196 - accuracy: 0.5403 - val_loss: 1.5312 - val_accuracy: 0.5402\n",
            "Epoch 10/20\n",
            "72/72 [==============================] - 1s 20ms/step - loss: 1.4960 - accuracy: 0.5468 - val_loss: 1.5259 - val_accuracy: 0.5409\n",
            "Epoch 11/20\n",
            "72/72 [==============================] - 1s 19ms/step - loss: 1.4764 - accuracy: 0.5514 - val_loss: 1.5056 - val_accuracy: 0.5465\n",
            "Epoch 12/20\n",
            "72/72 [==============================] - 1s 20ms/step - loss: 1.4614 - accuracy: 0.5553 - val_loss: 1.5035 - val_accuracy: 0.5450\n",
            "Epoch 13/20\n",
            "72/72 [==============================] - 1s 20ms/step - loss: 1.4482 - accuracy: 0.5589 - val_loss: 1.4878 - val_accuracy: 0.5514\n",
            "Epoch 14/20\n",
            "72/72 [==============================] - 1s 20ms/step - loss: 1.4366 - accuracy: 0.5613 - val_loss: 1.4774 - val_accuracy: 0.5537\n",
            "Epoch 15/20\n",
            "72/72 [==============================] - 1s 20ms/step - loss: 1.4261 - accuracy: 0.5643 - val_loss: 1.4720 - val_accuracy: 0.5539\n",
            "Epoch 16/20\n",
            "72/72 [==============================] - 1s 20ms/step - loss: 1.4174 - accuracy: 0.5667 - val_loss: 1.4644 - val_accuracy: 0.5572\n",
            "Epoch 17/20\n",
            "72/72 [==============================] - 1s 20ms/step - loss: 1.4100 - accuracy: 0.5679 - val_loss: 1.4704 - val_accuracy: 0.5576\n",
            "Epoch 18/20\n",
            "72/72 [==============================] - 2s 21ms/step - loss: 1.4025 - accuracy: 0.5702 - val_loss: 1.4616 - val_accuracy: 0.5593\n",
            "Epoch 19/20\n",
            "72/72 [==============================] - 1s 20ms/step - loss: 1.3959 - accuracy: 0.5718 - val_loss: 1.4560 - val_accuracy: 0.5606\n",
            "Epoch 20/20\n",
            "72/72 [==============================] - 1s 20ms/step - loss: 1.3901 - accuracy: 0.5732 - val_loss: 1.4553 - val_accuracy: 0.5604\n",
            "Epoch 1/20\n",
            "72/72 [==============================] - 2s 23ms/step - loss: 2.5751 - accuracy: 0.3025 - val_loss: 2.1463 - val_accuracy: 0.3760\n",
            "Epoch 2/20\n",
            "72/72 [==============================] - 1s 18ms/step - loss: 1.9789 - accuracy: 0.4195 - val_loss: 1.8691 - val_accuracy: 0.4474\n",
            "Epoch 3/20\n",
            "72/72 [==============================] - 1s 18ms/step - loss: 1.7771 - accuracy: 0.4726 - val_loss: 1.7181 - val_accuracy: 0.4887\n",
            "Epoch 4/20\n",
            "72/72 [==============================] - 1s 18ms/step - loss: 1.6748 - accuracy: 0.4991 - val_loss: 1.6469 - val_accuracy: 0.5074\n",
            "Epoch 5/20\n",
            "72/72 [==============================] - 1s 18ms/step - loss: 1.6103 - accuracy: 0.5158 - val_loss: 1.6056 - val_accuracy: 0.5172\n",
            "Epoch 6/20\n",
            "72/72 [==============================] - 1s 18ms/step - loss: 1.5690 - accuracy: 0.5266 - val_loss: 1.5634 - val_accuracy: 0.5300\n",
            "Epoch 7/20\n",
            "72/72 [==============================] - 1s 18ms/step - loss: 1.5387 - accuracy: 0.5343 - val_loss: 1.5450 - val_accuracy: 0.5357\n",
            "Epoch 8/20\n",
            "72/72 [==============================] - 1s 18ms/step - loss: 1.5153 - accuracy: 0.5404 - val_loss: 1.5282 - val_accuracy: 0.5386\n",
            "Epoch 9/20\n",
            "72/72 [==============================] - 1s 18ms/step - loss: 1.4976 - accuracy: 0.5445 - val_loss: 1.5212 - val_accuracy: 0.5409\n",
            "Epoch 10/20\n",
            "72/72 [==============================] - 1s 18ms/step - loss: 1.4823 - accuracy: 0.5486 - val_loss: 1.5091 - val_accuracy: 0.5445\n",
            "Epoch 11/20\n",
            "72/72 [==============================] - 1s 18ms/step - loss: 1.4699 - accuracy: 0.5517 - val_loss: 1.4958 - val_accuracy: 0.5489\n",
            "Epoch 12/20\n",
            "72/72 [==============================] - 1s 18ms/step - loss: 1.4596 - accuracy: 0.5542 - val_loss: 1.4876 - val_accuracy: 0.5513\n",
            "Epoch 13/20\n",
            "72/72 [==============================] - 1s 18ms/step - loss: 1.4512 - accuracy: 0.5562 - val_loss: 1.4946 - val_accuracy: 0.5479\n",
            "Epoch 14/20\n",
            "72/72 [==============================] - 1s 18ms/step - loss: 1.4420 - accuracy: 0.5582 - val_loss: 1.4808 - val_accuracy: 0.5529\n",
            "Epoch 15/20\n",
            "72/72 [==============================] - 1s 18ms/step - loss: 1.4366 - accuracy: 0.5601 - val_loss: 1.4859 - val_accuracy: 0.5486\n",
            "Epoch 16/20\n",
            "72/72 [==============================] - 1s 18ms/step - loss: 1.4300 - accuracy: 0.5613 - val_loss: 1.4695 - val_accuracy: 0.5552\n",
            "Epoch 17/20\n",
            "72/72 [==============================] - 1s 18ms/step - loss: 1.4255 - accuracy: 0.5626 - val_loss: 1.4746 - val_accuracy: 0.5550\n",
            "Epoch 18/20\n",
            "72/72 [==============================] - 1s 18ms/step - loss: 1.4194 - accuracy: 0.5645 - val_loss: 1.4742 - val_accuracy: 0.5514\n",
            "Epoch 19/20\n",
            "72/72 [==============================] - 1s 18ms/step - loss: 1.4150 - accuracy: 0.5655 - val_loss: 1.4733 - val_accuracy: 0.5558\n",
            "Epoch 20/20\n",
            "72/72 [==============================] - 1s 18ms/step - loss: 1.4113 - accuracy: 0.5662 - val_loss: 1.4646 - val_accuracy: 0.5551\n",
            "LSTM Training took: 0:00:31.420316\n",
            "GRU  Training took: 0:00:28.422659\n"
          ],
          "name": "stdout"
        }
      ]
    },
    {
      "cell_type": "markdown",
      "metadata": {
        "id": "8ZyureKEhM0H"
      },
      "source": [
        "(2) Plotten Sie die Accuracy und den Loss der drei Modelle in einem Diagramm. Verwenden Sie zusätzlich die Methode `predict_sentence` (7.5.2), um die Vorhersagen zu vergleichen.\n",
        "Welche Erkenntnisse haben Sie aus dem Training gezogen? "
      ]
    },
    {
      "cell_type": "markdown",
      "metadata": {
        "id": "q8fe7kxBhFOM"
      },
      "source": [
        "> <Antwort hier einfügen>\n",
        "\n",
        "> **Musterlösung:**\n",
        "<br>Erkenntnisse:\n",
        "- SimpleRNN leidet unter Gedächtnisverlust\n",
        "- LSTM und GRU haben eine geringfügig bessere Accuracy - die vorhergesagten Texte sind aber **deutlich** besser!\n",
        "- Trainingszeit von LSTM und GRU kürzer.\n"
      ]
    },
    {
      "cell_type": "code",
      "metadata": {
        "colab": {
          "base_uri": "https://localhost:8080/",
          "height": 606
        },
        "id": "0HlKt70B_RnT",
        "outputId": "3e3917f7-e72c-4ffc-b0d2-f4d3f4837eb7"
      },
      "source": [
        "# code here\n",
        "fig, ax = plt.subplots(1, 1)\n",
        "\n",
        "for n, h in [(\"simple rnn\", hist), (\"lstm\", hist_lstm), (\"gru\", hist_gru)]:\n",
        "\n",
        "    ax.plot(h.history[\"loss\"], label=f'{n} loss')\n",
        "    ax.plot(h.history[\"accuracy\"], label=f'{n} accuracy')\n",
        "    ax.plot(h.history[\"val_loss\"], label=f'{n} validation loss')\n",
        "    ax.plot(h.history[\"val_accuracy\"], label=f'{n} validation accuracy')\n",
        "\n",
        "ax.set_xlabel(\"Epoch\")\n",
        "ax.legend()\n",
        "\n",
        "fig.set_size_inches(20, 10)\n",
        "\n",
        "plt.show()"
      ],
      "execution_count": null,
      "outputs": [
        {
          "output_type": "display_data",
          "data": {
            "image/png": "[encoded data removed]",
            "text/plain": [
              "<Figure size 1440x720 with 1 Axes>"
            ]
          },
          "metadata": {
            "tags": [],
            "needs_background": "light"
          }
        }
      ]
    },
    {
      "cell_type": "code",
      "metadata": {
        "colab": {
          "base_uri": "https://localhost:8080/"
        },
        "id": "pBhZLFoNpvVD",
        "outputId": "bd9bfe0e-f798-4604-a1c9-30b9192944f7"
      },
      "source": [
        "# Compare Output\n",
        "\n",
        "print(\"-\"*15, \"%9s\" % \"SimpleRNN\", \"-\"*15, \"\\n\")\n",
        "print(predict_sentence(\"ROMEO:\\n\", 200, one_hot, model)) \n",
        "print(\"-\"*15, \"%9s\" % \"LSTM\", \"-\"*15, \"\\n\")\n",
        "print(predict_sentence(\"ROMEO:\\n\", 200, one_hot, model_lstm)) \n",
        "print(\"-\"*15, \"%9s\" % \"GRU\", \"-\"*15, \"\\n\")\n",
        "print(predict_sentence(\"ROMEO:\\n\", 200, one_hot, model_gru)) "
      ],
      "execution_count": null,
      "outputs": [
        {
          "output_type": "stream",
          "text": [
            "--------------- SimpleRNN --------------- \n",
            "\n",
            "ROMEO:\n",
            "What my lord, the world the world the world the world the world the world the world the world the world the world the world the world the world the world the world the world the world the world the wo\n",
            "---------------      LSTM --------------- \n",
            "\n",
            "ROMEO:\n",
            "Why, the hour be so for the winds of the court.\n",
            "\n",
            "PETER:\n",
            "I will be the bride the state the state of the court.\n",
            "\n",
            "PETER:\n",
            "I will be the bride the state the state of the court.\n",
            "\n",
            "PETER:\n",
            "I will be the bride \n",
            "---------------       GRU --------------- \n",
            "\n",
            "ROMEO:\n",
            "What says thou comest thou shalt be so love?\n",
            "\n",
            "PETRUCHIO:\n",
            "What says thou comest thou shalt be so love?\n",
            "\n",
            "PETRUCHIO:\n",
            "What says thou comest thou shalt be so love?\n",
            "\n",
            "PETRUCHIO:\n",
            "What says thou comest thou sh\n"
          ],
          "name": "stdout"
        }
      ]
    },
    {
      "cell_type": "markdown",
      "metadata": {
        "id": "pMWgGgRZ_RnT"
      },
      "source": [
        "## 7.7 **Optional** Schriftsteller\n",
        "\n",
        "Mit den Erkenntnissen aus der Vorlesung, den vorherigen Übungsaufgaben und ein bisschen Python Erfahrung sind Sie nun in der Lage nicht nur einzele Buchstaben vorherzusagen, sondern könnten auch beliebig viele Zeichen generieren und dadurch ganze Bücher schreiben [lassen].\n",
        "\n",
        "Sie können für diese Aufgabe den ursprünglichen Datensatz anpassen und beispielsweise die Coronaschutzverordnung, wissenschaftliche Artikel oder Meldungen aus Tageszeitungen verwenden.\n",
        "\n",
        "Gelingt es Ihnen den 8ten Band von Harry Potter zu erstellen?\n",
        "\n",
        "**Ihre Aufgaben**\n",
        "\n",
        "(1) Was müssten Sie ändern, um mithilfe des bisherigen Modells ein ganzes Buch erstellen zu lassen? Glauben Sie, dass das Ergebnis lesbar wäre?"
      ]
    },
    {
      "cell_type": "markdown",
      "metadata": {
        "id": "yduJYx0HiaMr"
      },
      "source": [
        "> <Antwort hier einfügen>\n",
        "\n",
        "> **Musterlösung:** \n",
        "- Mehr Trainingszeit\n",
        "- Mehr RNN Units, damit sich das Netz mehr merken kann\n",
        "- Mehr Trainingsdaten\n",
        "- Ggf eingenes RNN erstellen, damit `model.predict` nicht nur ein Zeichen vorhersagen kann, sondern ganze Sätze. (Optimierung der Laufzeit.)"
      ]
    },
    {
      "cell_type": "markdown",
      "metadata": {
        "id": "Wyhz--mz_RnT"
      },
      "source": [
        "(2) Erstellen Sie ein neues Modell, welches zu einem gegebenen Text von wenigen Worten in der Lage ist, ein ganzes Buch vorherzusagen. Ihnen sind keine Grenzen gesetzt. Sie sind jetzt frei! 🧦 "
      ]
    },
    {
      "cell_type": "code",
      "metadata": {
        "colab": {
          "base_uri": "https://localhost:8080/"
        },
        "id": "kmd8-ziYWSCj",
        "outputId": "367ac143-3932-4b9c-8355-02a85a919654"
      },
      "source": [
        "rnn_units = 2048\n",
        "EPOCHS=20\n",
        "BATCH_SIZE=1024\n",
        "vocab_size = coded_text.shape[-1]\n",
        "\n",
        "print(len(text), len(tokens), coded_text.shape)"
      ],
      "execution_count": null,
      "outputs": [
        {
          "output_type": "stream",
          "text": [
            "1115394 65 (1115394, 66)\n"
          ],
          "name": "stdout"
        }
      ]
    },
    {
      "cell_type": "code",
      "metadata": {
        "id": "mCDyrzhzWW_J"
      },
      "source": [
        "class CustomTextSequence(tf.keras.utils.Sequence):\n",
        "\n",
        "    def __init__(self, coded_text, sequence_length, batch_size):\n",
        "        self.coded_text = coded_text\n",
        "        self.sequence_length = sequence_length\n",
        "        self.batch_size = batch_size\n",
        "        self.ret_shape_X = (self.batch_size, self.sequence_length, coded_text.shape[-1])\n",
        "        self.ret_shape_y = (self.batch_size, coded_text.shape[-1])\n",
        "\n",
        "    def __len__(self):\n",
        "        return int(np.floor((self.coded_text.shape[0] - self.sequence_length) / self.batch_size))\n",
        "\n",
        "    def __getitem__(self, idx):\n",
        "        ret_X = np.empty(self.ret_shape_X, dtype=np.float32)\n",
        "        ret_y = np.empty(self.ret_shape_y, dtype=np.float32)\n",
        "        \n",
        "        for i in range(self.batch_size):\n",
        "            ret_X[i] = self.coded_text[idx * self.batch_size + i:idx * self.batch_size + i + self.sequence_length]\n",
        "            ret_y[i] = self.coded_text[idx * self.batch_size + i + self.sequence_length]\n",
        "\n",
        "        return ret_X, ret_y"
      ],
      "execution_count": null,
      "outputs": []
    },
    {
      "cell_type": "code",
      "metadata": {
        "id": "n2ZzbyYX_RnV"
      },
      "source": [
        "class CustomRNNModel(tf.keras.Model):\n",
        "    def __init__(self, vocab_size, rnn_units, rnn_layer_type = tf.keras.layers.GRU):\n",
        "        # super(CustomRNNModel, self).__init__()\n",
        "        super().__init__(self)\n",
        "        # Put layers here. We will call them manually but store them here\n",
        "        self.rnn_layer = rnn_layer_type(rnn_units, return_state=True)\n",
        "        self.dense = tf.keras.layers.Dense(vocab_size, activation='softmax')\n",
        "        self.vocab_size = vocab_size\n",
        "        self.rnn_units = rnn_units\n",
        "        self.rnn_layer_type = rnn_layer_type\n",
        "\n",
        "    @tf.function(experimental_relax_shapes=True)\n",
        "    def call(self, inputs, states=None, return_state=False, training=False):\n",
        "        # Here we put our input through all out layers\n",
        "        x = inputs\n",
        "        if x.dtype not in (tf.bfloat16, tf.float16, tf.float32, tf.float64, tf.int32, tf.int64, tf.complex64, tf.complex128):\n",
        "            x = tf.cast(x, float)\n",
        "        # x = tf.cast(inputs, dtype=float)\n",
        "        if states is None:\n",
        "            # Get an initial kind of empty state\n",
        "            states = self.rnn_layer.get_initial_state(x)\n",
        "        \n",
        "        x, ret_states = self.rnn_layer(x, initial_state=states, training=training)\n",
        "        \n",
        "        x = self.dense(x, training=training)\n",
        "        if return_state:\n",
        "            return x, ret_states\n",
        "        else:\n",
        "            return x\n",
        "        \n",
        "    def get_config(self):\n",
        "        return {\n",
        "            \"vocab_size\": self.vocab_size,\n",
        "            \"rnn_units\": self.rnn_units,\n",
        "            #\"rnn_layer_type\": self.rnn_layer_type\n",
        "        }\n",
        "\n",
        "    @classmethod\n",
        "    def from_config(cls, config):\n",
        "        return cls(**config)"
      ],
      "execution_count": null,
      "outputs": []
    },
    {
      "cell_type": "code",
      "metadata": {
        "id": "xV_QSSySazZH"
      },
      "source": [
        "def predict_sentence_literatur_model(text, prediction_length, one_hot, trainied_model):\n",
        "    ret = tokenize(text)\n",
        "\n",
        "    template = \"\\r{i:%sd}/%s ({percent:6.2f}%%) - Last char {last_char:10s}\" % (len(str(prediction_length)), prediction_length)\n",
        "\n",
        "    t1 = time.time()\n",
        "    \n",
        "    for i in range(prediction_length):\n",
        "        _ = tf.cast(tf.constant(np.array([one_hot.encode(ret, dtype=float)])), dtype=float)\n",
        "        current_char = trainied_model.predict(_)\n",
        "        current_char = one_hot.decode_token(current_char)\n",
        "        ret.append(current_char)\n",
        "        sys.stderr.write(template.format(i=i+1, percent=100 * (i+1) / prediction_length, last_char=current_char if not current_char == \"\\n\" else \"[NEW_LINE]\"))\n",
        "        sys.stderr.flush()\n",
        "    \n",
        "    t2 = time.time()\n",
        "\n",
        "    sys.stderr.write(f\"\\nPrediction of {prediction_length} characters finished after {timedelta(seconds=t2 - t1)}\\n\")\n",
        "    sys.stderr.flush()\n",
        "    \n",
        "    return untokenize(ret)"
      ],
      "execution_count": null,
      "outputs": []
    },
    {
      "cell_type": "code",
      "metadata": {
        "colab": {
          "base_uri": "https://localhost:8080/"
        },
        "id": "HsasR-smWhfw",
        "outputId": "b13b1ef1-940a-4142-9437-1698df366eb7"
      },
      "source": [
        "train_sequence = CustomTextSequence(coded_text, 60, BATCH_SIZE)\n",
        "for i, (_x, _y) in enumerate(train_sequence):\n",
        "    print(\"-\"*25)\n",
        "    print(untokenize(one_hot.decode(_x[0])), \"->\", one_hot.decode_token(_y[0]))\n",
        "    if i >= 1:\n",
        "        break\n",
        "print(\"-\"*25)\n",
        "print(\"You are going to get\", len(train_sequence), \"training data\")"
      ],
      "execution_count": null,
      "outputs": [
        {
          "output_type": "stream",
          "text": [
            "-------------------------\n",
            "First Citizen:\n",
            "Before we proceed any further, hear me speak. -> \n",
            "\n",
            "-------------------------\n",
            "u proceed especially against Caius Marcius?\n",
            "\n",
            "All:\n",
            "Against hi -> m\n",
            "-------------------------\n",
            "You are going to get 1089 training data\n"
          ],
          "name": "stdout"
        }
      ]
    },
    {
      "cell_type": "code",
      "metadata": {
        "colab": {
          "base_uri": "https://localhost:8080/"
        },
        "id": "dO6plE_-WkC8",
        "outputId": "d9365c37-acdb-4fb7-ada6-f1086ccd28eb"
      },
      "source": [
        "save_folder = \"recurrent-neural-network/models/\"\n",
        "save_name = \"Shakespear\"\n",
        "save_template = save_name + \"_save_{now}\"\n",
        "checkpoint_template = save_name + \"_checkpoint_{epoch:02d}_{categorical_accuracy:.4f}\"\n",
        "time_format = \"%Y%m%d%H%M%S\"\n",
        "\n",
        "loaded = False\n",
        "\n",
        "if os.path.exists(save_folder):\n",
        "    def _sort_date(_v):\n",
        "        try:\n",
        "            return datetime.strptime(_v.split(\"_\")[-1], time_format)\n",
        "        except ValueError:\n",
        "            return datetime.utcfromtimestamp(0)\n",
        "    potential_files = sorted([os.path.join(save_folder, f) for f in os.listdir(save_folder) if f.startswith(save_name)], key=_sort_date, reverse=True)\n",
        "    if len(potential_files) > 0:\n",
        "        print(\"Load from\", potential_files[0])\n",
        "        literatur_model = keras.models.load_model(potential_files[0], custom_objects={\"CustomRNNModel\": CustomRNNModel})\n",
        "        loaded = True\n",
        "if not loaded:\n",
        "    print(\"No model loaded. Creating new one\")\n",
        "    literatur_model = CustomRNNModel(vocab_size=vocab_size, rnn_units=1024)\n",
        "\n",
        "    optimizer = tf.keras.optimizers.RMSprop(learning_rate=0.01)\n",
        "    literatur_model.build((None, None, vocab_size))\n",
        "    literatur_model.compile(loss='categorical_crossentropy', optimizer=\"adam\", metrics=['categorical_accuracy'])\n",
        "\n",
        "literatur_model.summary()\n",
        "\n",
        "collected_hist = {\n",
        "    \"loss\": [],\n",
        "    \"categorical_accuracy\": []\n",
        "}"
      ],
      "execution_count": null,
      "outputs": [
        {
          "output_type": "stream",
          "text": [
            "Load from recurrent-neural-network/models/Shakespear_save_20210526120923\n",
            "Model: \"custom_rnn_model_5\"\n",
            "_________________________________________________________________\n",
            "Layer (type)                 Output Shape              Param #   \n",
            "=================================================================\n",
            "gru (GRU)                    multiple                  3354624   \n",
            "_________________________________________________________________\n",
            "dense (Dense)                multiple                  67650     \n",
            "=================================================================\n",
            "Total params: 3,422,274\n",
            "Trainable params: 3,422,274\n",
            "Non-trainable params: 0\n",
            "_________________________________________________________________\n"
          ],
          "name": "stdout"
        }
      ]
    },
    {
      "cell_type": "code",
      "metadata": {
        "id": "yEWwb89qWnvc",
        "outputId": "c3950d8a-69de-4bd2-b29f-9d2334b2b64b"
      },
      "source": [
        "checkpoint_dir = os.path.join(save_folder, \"checkpoints\")\n",
        "checkpoint = tf.keras.callbacks.ModelCheckpoint(os.path.join(checkpoint_dir, checkpoint_template), monitor='categorical_accuracy', verbose=1, save_best_only=True, mode='max')\n",
        "callbacks_list = [checkpoint]\n",
        "\n",
        "literatur_model.summary()\n",
        "\n",
        "t1 = time.time()\n",
        "hist_custom = literatur_model.fit(\n",
        "    train_sequence,\n",
        "    workers=8,\n",
        "    max_queue_size=10,\n",
        "    batch_size=BATCH_SIZE,\n",
        "    epochs=1,\n",
        "    callbacks=callbacks_list\n",
        ")\n",
        "collected_hist[\"loss\"].extend(hist_custom.history[\"loss\"])\n",
        "collected_hist[\"categorical_accuracy\"].extend(hist_custom.history[\"categorical_accuracy\"])\n",
        "t2 = time.time()\n",
        "literatur_model.save(os.path.join(save_folder, save_template.format(save_name=save_name, now=datetime.now().strftime(time_format))))\n",
        "\n",
        "print(\"Training took:\", timedelta(seconds=t2-t1))"
      ],
      "execution_count": null,
      "outputs": [
        {
          "output_type": "stream",
          "text": [
            "Model: \"custom_rnn_model_5\"\n",
            "_________________________________________________________________\n",
            "Layer (type)                 Output Shape              Param #   \n",
            "=================================================================\n",
            "gru (GRU)                    multiple                  3354624   \n",
            "_________________________________________________________________\n",
            "dense (Dense)                multiple                  67650     \n",
            "=================================================================\n",
            "Total params: 3,422,274\n",
            "Trainable params: 3,422,274\n",
            "Non-trainable params: 0\n",
            "_________________________________________________________________\n",
            "1089/1089 [==============================] - ETA: 0s - loss: 0.5127 - categorical_accuracy: 0.8262\n",
            "Epoch 00001: categorical_accuracy improved from -inf to 0.82620, saving model to recurrent-neural-network/models/checkpoints/Shakespear_checkpoint_01_0.8262\n",
            "1089/1089 [==============================] - 456s 419ms/step - loss: 0.5127 - categorical_accuracy: 0.8262\n",
            "Training took: 0:07:37.957771\n"
          ],
          "name": "stdout"
        }
      ]
    },
    {
      "cell_type": "code",
      "metadata": {
        "id": "29rzyutIXNDW",
        "outputId": "a6b14600-0a0f-4099-c7a9-d42930561a05"
      },
      "source": [
        "fig, ax = plt.subplots(1, 1)\n",
        "\n",
        "ax.plot(collected_hist[\"loss\"], label='loss')\n",
        "ax.plot(collected_hist[\"categorical_accuracy\"], label='accuracy')\n",
        "#ax.plot(hist_custom.history[\"val_loss\"], label='validation loss')\n",
        "#ax.plot(hist_custom.history[\"val_accuracy\"], label='validation accuracy')\n",
        "ax.set_xlabel(\"Epoch\")\n",
        "ax.legend()\n",
        "\n",
        "fig.set_size_inches(20, 10)\n",
        "\n",
        "plt.show()"
      ],
      "execution_count": null,
      "outputs": [
        {
          "output_type": "display_data",
          "data": {
            "image/png": "[encoded data removed]",
            "text/plain": [
              "<Figure size 1440x720 with 1 Axes>"
            ]
          },
          "metadata": {
            "tags": [],
            "needs_background": "light"
          }
        }
      ]
    },
    {
      "cell_type": "code",
      "metadata": {
        "colab": {
          "base_uri": "https://localhost:8080/"
        },
        "id": "YvmvjSGWW4mt",
        "outputId": "94c96c88-be0f-45cf-b495-fc83522900dc"
      },
      "source": [
        "print(predict_sentence_literatur_model(\"ROMEO:\\n\", 1_500, one_hot, literatur_model))  "
      ],
      "execution_count": null,
      "outputs": [
        {
          "output_type": "stream",
          "text": [
            "1500/1500 (100.00%) - Last char r         \n",
            "Prediction of 1500 characters finished after 0:03:37.030849\n"
          ],
          "name": "stderr"
        },
        {
          "output_type": "stream",
          "text": [
            "ROMEO:\n",
            "I thank you, gentle uncle.\n",
            "\n",
            "SETRANT:\n",
            "And, knowing, madam:\n",
            "Take him her maid, since she were more than can appear Apollo.\n",
            "\n",
            "GLOUCESTER:\n",
            "The garle do not proclaim you sleep to know his name:\n",
            "I'll go along with your friend and true live before:\n",
            "Take up my mistress' godd, my digning widow sink.\n",
            "Let me commend thee to our true king boy.\n",
            "I have no sensible of them by thee.\n",
            "\n",
            "LADY CAPULET:\n",
            "What is your will, sir, that you seem to come?\n",
            "\n",
            "LEONTES:\n",
            "At the queen's bendful followers.\n",
            "\n",
            "BRUTUS:\n",
            "Let's to the Capitol; come, sir.\n",
            "\n",
            "POMPEY:\n",
            "You shall have me to stir; and that he would not do't.\n",
            "\n",
            "LEONTES:\n",
            "Good queen!\n",
            "\n",
            "PAULINA:\n",
            "For ever mine own dowry, they say that falls,\n",
            "For in thy story prophecies and mine can happy do\n",
            "With a ping for his report and seal'd upon\n",
            "A bloody broked fortune, and to meet him attendable.\n",
            "Begins to play at your sheep-shearing hearts, but now\n",
            "Into she comes from sleeping freedom and\n",
            "To use at first we banish whimselves,\n",
            "Such as most holy council under him:\n",
            "And then to cry, o'erwhelm to drown them all.\n",
            "3 KING HENRY VI\n",
            "\n",
            "WARWICK:\n",
            "Why, then he will say 'tis a horse in him about me. When you speak,\n",
            "Yet nature might for his deserves a love.\n",
            "\n",
            "LADY CAPULET:\n",
            "What is your will, sir, that you shall not hear you speak?\n",
            "\n",
            "PETRUCHIO:\n",
            "When I wore it at your daughter's marriage.\n",
            "\n",
            "SICINIUS:\n",
            "He shall be thrown down the hall.\n",
            "\n",
            "CURTIS:\n",
            "He would not do't:\n",
            "I'll go along, no duty. Dear I in all this time\n",
            "That hath Buckingham Enstial three stirrips he might be blenced.\n",
            "\n",
            "LADY CAPULET:\n",
            "What is your\n"
          ],
          "name": "stdout"
        }
      ]
    }
  ]
}