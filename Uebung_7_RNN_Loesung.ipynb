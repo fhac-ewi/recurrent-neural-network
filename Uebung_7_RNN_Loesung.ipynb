{
  "nbformat": 4,
  "nbformat_minor": 0,
  "metadata": {
    "colab": {
      "name": "Uebung-7-RNN-Loesung.ipynb",
      "provenance": [],
      "collapsed_sections": [],
      "toc_visible": true,
      "include_colab_link": true
    },
    "kernelspec": {
      "display_name": "Python 3",
      "language": "python",
      "name": "python3"
    },
    "language_info": {
      "codemirror_mode": {
        "name": "ipython",
        "version": 3
      },
      "file_extension": ".py",
      "mimetype": "text/x-python",
      "name": "python",
      "nbconvert_exporter": "python",
      "pygments_lexer": "ipython3",
      "version": "3.6.9"
    },
    "accelerator": "GPU",
    "widgets": {
      "application/vnd.jupyter.widget-state+json": {
        "1c4a1eb3c7944b9986ec32d00114a625": {
          "model_module": "@jupyter-widgets/controls",
          "model_name": "VBoxModel",
          "state": {
            "_view_name": "VBoxView",
            "_dom_classes": [
              "widget-interact"
            ],
            "_model_name": "VBoxModel",
            "_view_module": "@jupyter-widgets/controls",
            "_model_module_version": "1.5.0",
            "_view_count": null,
            "_view_module_version": "1.5.0",
            "box_style": "",
            "layout": "IPY_MODEL_9ffc5036cc1646119c6c64d541e185a0",
            "_model_module": "@jupyter-widgets/controls",
            "children": [
              "IPY_MODEL_bd199c007e644611852594f6028ea735",
              "IPY_MODEL_8d850f6502544693b7c5dcf75840ab17"
            ]
          }
        },
        "9ffc5036cc1646119c6c64d541e185a0": {
          "model_module": "@jupyter-widgets/base",
          "model_name": "LayoutModel",
          "state": {
            "_view_name": "LayoutView",
            "grid_template_rows": null,
            "right": null,
            "justify_content": null,
            "_view_module": "@jupyter-widgets/base",
            "overflow": null,
            "_model_module_version": "1.2.0",
            "_view_count": null,
            "flex_flow": null,
            "width": null,
            "min_width": null,
            "border": null,
            "align_items": null,
            "bottom": null,
            "_model_module": "@jupyter-widgets/base",
            "top": null,
            "grid_column": null,
            "overflow_y": null,
            "overflow_x": null,
            "grid_auto_flow": null,
            "grid_area": null,
            "grid_template_columns": null,
            "flex": null,
            "_model_name": "LayoutModel",
            "justify_items": null,
            "grid_row": null,
            "max_height": null,
            "align_content": null,
            "visibility": null,
            "align_self": null,
            "height": null,
            "min_height": null,
            "padding": null,
            "grid_auto_rows": null,
            "grid_gap": null,
            "max_width": null,
            "order": null,
            "_view_module_version": "1.2.0",
            "grid_template_areas": null,
            "object_position": null,
            "object_fit": null,
            "grid_auto_columns": null,
            "margin": null,
            "display": null,
            "left": null
          }
        },
        "bd199c007e644611852594f6028ea735": {
          "model_module": "@jupyter-widgets/controls",
          "model_name": "TextModel",
          "state": {
            "_view_name": "TextView",
            "style": "IPY_MODEL_9e54cdba8b424d36b37730e8d2fb318b",
            "_dom_classes": [],
            "description": "Your text:",
            "_model_name": "TextModel",
            "placeholder": "Type something",
            "_view_module": "@jupyter-widgets/controls",
            "_model_module_version": "1.5.0",
            "value": "ROME",
            "_view_count": null,
            "disabled": false,
            "_view_module_version": "1.5.0",
            "continuous_update": true,
            "description_tooltip": null,
            "_model_module": "@jupyter-widgets/controls",
            "layout": "IPY_MODEL_65612b577b144d688eaa84b89b9175f1"
          }
        },
        "8d850f6502544693b7c5dcf75840ab17": {
          "model_module": "@jupyter-widgets/output",
          "model_name": "OutputModel",
          "state": {
            "_view_name": "OutputView",
            "msg_id": "",
            "_dom_classes": [],
            "_model_name": "OutputModel",
            "outputs": [
              {
                "output_type": "stream",
                "metadata": {
                  "tags": []
                },
                "text": "I think the next will be \"O\" after you said \"ROME\"\n",
                "stream": "stdout"
              }
            ],
            "_view_module": "@jupyter-widgets/output",
            "_model_module_version": "1.0.0",
            "_view_count": null,
            "_view_module_version": "1.0.0",
            "layout": "IPY_MODEL_8f94a8eab9744b53953ccafd272891de",
            "_model_module": "@jupyter-widgets/output"
          }
        },
        "9e54cdba8b424d36b37730e8d2fb318b": {
          "model_module": "@jupyter-widgets/controls",
          "model_name": "DescriptionStyleModel",
          "state": {
            "_view_name": "StyleView",
            "_model_name": "DescriptionStyleModel",
            "description_width": "",
            "_view_module": "@jupyter-widgets/base",
            "_model_module_version": "1.5.0",
            "_view_count": null,
            "_view_module_version": "1.2.0",
            "_model_module": "@jupyter-widgets/controls"
          }
        },
        "65612b577b144d688eaa84b89b9175f1": {
          "model_module": "@jupyter-widgets/base",
          "model_name": "LayoutModel",
          "state": {
            "_view_name": "LayoutView",
            "grid_template_rows": null,
            "right": null,
            "justify_content": null,
            "_view_module": "@jupyter-widgets/base",
            "overflow": null,
            "_model_module_version": "1.2.0",
            "_view_count": null,
            "flex_flow": null,
            "width": null,
            "min_width": null,
            "border": null,
            "align_items": null,
            "bottom": null,
            "_model_module": "@jupyter-widgets/base",
            "top": null,
            "grid_column": null,
            "overflow_y": null,
            "overflow_x": null,
            "grid_auto_flow": null,
            "grid_area": null,
            "grid_template_columns": null,
            "flex": null,
            "_model_name": "LayoutModel",
            "justify_items": null,
            "grid_row": null,
            "max_height": null,
            "align_content": null,
            "visibility": null,
            "align_self": null,
            "height": null,
            "min_height": null,
            "padding": null,
            "grid_auto_rows": null,
            "grid_gap": null,
            "max_width": null,
            "order": null,
            "_view_module_version": "1.2.0",
            "grid_template_areas": null,
            "object_position": null,
            "object_fit": null,
            "grid_auto_columns": null,
            "margin": null,
            "display": null,
            "left": null
          }
        },
        "8f94a8eab9744b53953ccafd272891de": {
          "model_module": "@jupyter-widgets/base",
          "model_name": "LayoutModel",
          "state": {
            "_view_name": "LayoutView",
            "grid_template_rows": null,
            "right": null,
            "justify_content": null,
            "_view_module": "@jupyter-widgets/base",
            "overflow": null,
            "_model_module_version": "1.2.0",
            "_view_count": null,
            "flex_flow": null,
            "width": null,
            "min_width": null,
            "border": null,
            "align_items": null,
            "bottom": null,
            "_model_module": "@jupyter-widgets/base",
            "top": null,
            "grid_column": null,
            "overflow_y": null,
            "overflow_x": null,
            "grid_auto_flow": null,
            "grid_area": null,
            "grid_template_columns": null,
            "flex": null,
            "_model_name": "LayoutModel",
            "justify_items": null,
            "grid_row": null,
            "max_height": null,
            "align_content": null,
            "visibility": null,
            "align_self": null,
            "height": null,
            "min_height": null,
            "padding": null,
            "grid_auto_rows": null,
            "grid_gap": null,
            "max_width": null,
            "order": null,
            "_view_module_version": "1.2.0",
            "grid_template_areas": null,
            "object_position": null,
            "object_fit": null,
            "grid_auto_columns": null,
            "margin": null,
            "display": null,
            "left": null
          }
        }
      }
    }
  },
  "cells": [
    {
      "cell_type": "markdown",
      "metadata": {
        "id": "view-in-github",
        "colab_type": "text"
      },
      "source": [
        "<a href=\"https://colab.research.google.com/github/fhac-ewi/recurrent-neural-network/blob/main/Uebung_7_RNN_Loesung.ipynb\" target=\"_parent\"><img src=\"https://colab.research.google.com/assets/colab-badge.svg\" alt=\"Open In Colab\"/></a>"
      ]
    },
    {
      "cell_type": "markdown",
      "metadata": {
        "id": "yYD6gvw1vwii"
      },
      "source": [
        "# Übung 7 - Rekurrente neuronale Netze (RNNs)\n",
        "\n",
        "## In dieser Übung ...\n",
        "... beschäftigen wir uns mit rekurrenten neuronalen Netzen, die unter anderem für die Textvorhersage (`text prediction`) eingesetzt werden können. In dieser Übung werden Sie  ein eigenes Modell zur Vorhersage weiterer Buchstaben (Zeichen) zu einer gegebenen Buchstabensequenz erstellen. \n",
        "\n",
        "Dazu werden Sie einen Datensatz für das Training vorbereiten, ein Standard-RNN mithilfe von Keras implementieren und für die Vorhersage des nächsten Zeichens und sogar ganzen Sätzen nutzen.\n",
        "\n",
        "Wenn Sie diese ersten Schritte geschafft haben und noch Zeit haben, dürfen Sie die beiden weiteren Varianten (LSTM und GRU) implementieren und anschließend die Genauigkeit (Accuracy) der Netze miteinander vergleichen. \n",
        "\n"
      ]
    },
    {
      "cell_type": "markdown",
      "metadata": {
        "id": "9a_ZEFJfHuuF"
      },
      "source": [
        "## 7.0 Vorbereitung\n",
        "\n",
        "In diesem Abschnitt müssen Sie nichts programmieren! 🎉\n",
        "\n",
        "Wir haben bereits alle notwendigen Imports für diese Übung hinzugefügt, sodass Sie direkt starten können. Sie müssen lediglich die GPU Unterstützung in Google Colab aktivieren."
      ]
    },
    {
      "cell_type": "markdown",
      "metadata": {
        "id": "tc_GxdsyIDYP"
      },
      "source": [
        "**Ihre Aufgaben**\n",
        "\n",
        "(1) Aktivieren Sie bitte die GPU Unterstützung in Google Colab. Wechseln Sie unter dem Reiter `Laufzeit` -> `Laufzeittyp ändern` von `None` auf `GPU` und bestätigen Sie diese Änderung.\n",
        "\n",
        "(2) Führen Sie die folgende Codezelle aus, um die erforderlichen Bibliotheken zu importieren und die GPU Unterstützung zu prüfen. \n",
        "\n",
        "  * Hinweis: Wenn Sie dieses Notebook mit dem Direktlink von GitHub geöffnet haben, wird bei der erstmaligen Ausführung eine Warnung angezeigt. Diese müssen Sie durch den Klick auf `Trotzdem ausführen` bestätigen. "
      ]
    },
    {
      "cell_type": "code",
      "metadata": {
        "colab": {
          "base_uri": "https://localhost:8080/"
        },
        "id": "I-cFD9IFItkB",
        "outputId": "e38ab30a-67e9-4633-8574-1d86ac4fd1f9"
      },
      "source": [
        "# Import everything needed for this exercise \n",
        "import tensorflow as tf\n",
        "import keras\n",
        "import numpy as np\n",
        "import sys\n",
        "import matplotlib.pyplot as plt\n",
        "import time\n",
        "from sklearn.model_selection import train_test_split\n",
        "from datetime import datetime, timedelta\n",
        "from termcolor import colored\n",
        "import logging\n",
        "\n",
        "tf.get_logger().setLevel(logging.ERROR)\n",
        "print(f\"Keras Version: {keras.__version__}; Tensorflow version: {tf.__version__}; NumPy version: {np.__version__}; Python version: \", \".\".join(str(x) for x in sys.version_info[:3]))\n",
        "\n",
        "# Reset random number generators\n",
        "seed = 1337\n",
        "np.random.seed(seed)\n",
        "tf.random.set_seed(seed)\n",
        "\n",
        "# Check GPU support\n",
        "from tensorflow.python.client import device_lib\n",
        "physical_devices = device_lib.list_local_devices()\n",
        "print(\"You are using\", len(physical_devices), \"local devises.\", len([x for x in physical_devices if x.device_type == \"GPU\"]), \"are GPUs\")\n",
        "for i, d in enumerate(physical_devices):\n",
        "    print(\"  -> Device\", i+1, \"is a\", d.device_type, \"=>\", d.physical_device_desc if len(d.physical_device_desc) > 0 else d.name)\n",
        "\n",
        "if len([x for x in physical_devices if x.device_type == \"GPU\"]) == 0:\n",
        "  raise Exception(\"Please enable GPU support before using this notebook. See here: [Runtime] -> [Change runtime type]\")    \n",
        "\n",
        "print(\"\\n🎉🎉🎉 You are ready to go! 🎉🎉🎉\")  "
      ],
      "execution_count": 1,
      "outputs": [
        {
          "output_type": "stream",
          "text": [
            "Keras Version: 2.4.3; Tensorflow version: 2.4.1; NumPy version: 1.19.5; Python version:  3.7.10\n",
            "You are using 2 local devises. 1 are GPUs\n",
            "  -> Device 1 is a CPU => /device:CPU:0\n",
            "  -> Device 2 is a GPU => device: 0, name: Tesla T4, pci bus id: 0000:00:04.0, compute capability: 7.5\n",
            "\n",
            "🎉🎉🎉 You are ready to go! 🎉🎉🎉\n"
          ],
          "name": "stdout"
        }
      ]
    },
    {
      "cell_type": "markdown",
      "metadata": {
        "id": "a1CXeYPHyywV"
      },
      "source": [
        "## 7.1 One Hot Kodierung\n",
        "\n",
        "Wir haben in der Vorlesung die One Hot Kodierung (1-aus-n-Code) kennen gelernt. Diese ermöglicht es Zeichen eines Alphabets als Vektoren darzustellen. \n",
        "\n",
        "Für ein Alphabet mit `n` einzigartigen Zeichen wird ein Vektor der Länge `n` benötigt. Jedes einzigartige Zeichen wird hierbei als Einheitsvektor definiert. Eine Zeichensequenz mit `m` Zeichen wird als `m` Vektoren mit jeweils der Länge `n` dargestellt.  \n",
        "\n",
        "**Hinweis** Die vorliegende Implementierung ist für den Umgang mit Zeichen außerhalb des Alphabets konzipiert. Deshalb wird zur Darstellung eines Alphabets mit `n` einzigartigen Zeichen ein Vektor der Länge `n+1` erstellt. Alle Zeichen außerhalb des Alphabets werden durch das `unknown_token` ersetzt. \n",
        "\n",
        "Für das Training unseres Netzes werden wir die One Hot Kodierung zur Umwandlung eines Textes in Trainingsdaten nutzen. (Aufgabe 7.2)\n",
        "\n",
        "* Hinweis: Für weitere Informationen zur One Hot Kodierun schlagen Sie diese in der Vorlesung nach oder benutzen Sie das [Internet](https://www.semanticscholar.org/search?q=one%20hot%20coder&sort=relevance)."
      ]
    },
    {
      "cell_type": "code",
      "metadata": {
        "id": "miApcJctvteM"
      },
      "source": [
        "class OneHot(object):\n",
        "    def __init__(self, tokens, unknown_token = \"[UNKNOWN]\"):\n",
        "        '''\n",
        "        Creates a new instance of this class. \n",
        "\n",
        "        OneHot can be used to translate categorical data into vectors.\n",
        "\n",
        "        Parameters\n",
        "        tokens -- The tokens you want to be able to encode and decode\n",
        "        unknown_token -- The token to be used when decoding and the net wants to use a not known char\n",
        "        '''\n",
        "        self.tokens = tokens\n",
        "        self.unknown_token = unknown_token\n",
        "        # Store a bidirectional dictionary containing the characters\n",
        "        self.char_to_index = dict((token, i + 1) for i, token in enumerate(self.tokens))\n",
        "        self.index_to_char = dict((i + 1, token) for i, token in enumerate(self.tokens))\n",
        "        pass\n",
        "\n",
        "    def encode(self, text_as_tokens, dtype=np.bool_):\n",
        "        '''\n",
        "        Encodes a tokenized text into a matrix (each token as vector).\n",
        "\n",
        "        Parameters:\n",
        "        text_as_tokens -- List of tokens\n",
        "        dtype -- (optional) data type like int or bool for optimized performance\n",
        "\n",
        "        Returns:\n",
        "        np.array of OneHot encoded tokens (matrix)\n",
        "        '''\n",
        "        # Create the encoding matrix\n",
        "        enc = np.empty((len(text_as_tokens), len(self.tokens) + 1), dtype=dtype)\n",
        "        for i, token in enumerate(text_as_tokens):\n",
        "            # Encode every char\n",
        "            enc[i] = self.encode_token(token=token, dtype=dtype)\n",
        "        return enc\n",
        "    \n",
        "    def encode_token(self, token, dtype=np.bool_):\n",
        "        '''\n",
        "        Encodes a single token into a vector.\n",
        "\n",
        "        Parameters:\n",
        "        token -- Single token\n",
        "        dtype -- (optional) data type like int or bool for optimized performance\n",
        "\n",
        "        Returns:\n",
        "        np.array of OneHot encoded token (vector)\n",
        "        '''\n",
        "        l = len(self.tokens) + 1\n",
        "        ret = np.zeros((1, l), dtype=dtype)\n",
        "        if token not in self.char_to_index:\n",
        "            ret[0, 0] = 1\n",
        "        else:\n",
        "            ret[0, self.char_to_index[token]] = 1\n",
        "        return ret\n",
        "    \n",
        "    def decode(self, mat, unknown_token=None):         \n",
        "        '''\n",
        "        Decodes a matrix into an array of tokens.\n",
        "\n",
        "        Parameters:\n",
        "        mat -- matrix to be decoded. Has to be of shape (len_of_text, vocab_size)\n",
        "        unknown_token -- Unknown token. If none uses the one from __init__\n",
        "\n",
        "        Returns:\n",
        "        array of tokens (chars)\n",
        "        '''\n",
        "        return [self.decode_token(mat[x]) for x in range(mat.shape[0])]\n",
        "    \n",
        "    def decode_token(self, vec, unknown_token=None):\n",
        "        '''\n",
        "        Decodes a vector into a token.\n",
        "\n",
        "        Parameters:\n",
        "        vec -- Vector that should be decoded. Has to be on vocab length\n",
        "        unknown_token -- Unknown token. If none uses the one from __init__\n",
        "\n",
        "        Returns:\n",
        "        single token (char)\n",
        "        '''\n",
        "        if unknown_token is None:\n",
        "            unknown_token = self.unknown_token\n",
        "        if isinstance(vec, tf.Tensor):\n",
        "            vec = vec.numpy()\n",
        "        if isinstance(vec, np.ndarray):\n",
        "            # Use argmax since this will be used in the model created later\n",
        "            am = np.argmax(vec)\n",
        "        else:\n",
        "            am = vec\n",
        "        if am == 0:\n",
        "            return unknown_token\n",
        "        return self.index_to_char[am]"
      ],
      "execution_count": 2,
      "outputs": []
    },
    {
      "cell_type": "markdown",
      "metadata": {
        "id": "I9nyVSBS_RnK"
      },
      "source": [
        "**Ihre Aufgaben**\n",
        "\n",
        "(1) Untersuchen Sie die gegebene Klasse zur One Hot Kodierung und die Funktion der einzelnen Methoden. \n",
        "\n",
        "(2) Erstellen Sie für das folgendes Alphabet `HWedlor` eine Instanz der Klasse `OneHot`. \n",
        "\n",
        "(3) Kodieren Sie nun die Zeichenfolge `Hello World!` mit der One Hot Kodierung. Wie wird das Zeichen `H` dargestellt? Geben Sie die Dimensionen des Vektors an.\n",
        "\n",
        "* Hinweis: Sie können zur Umwandlung des Strings in eine Liste von Zeichen die Funktion `tokenize` verwenden. Dies ist aber nicht zwingend erforderlich, da Python den String automatisch als Liste interpretieren kann."
      ]
    },
    {
      "cell_type": "markdown",
      "metadata": {
        "id": "HXopuHLJadWN"
      },
      "source": [
        "> <Antwort hier einfügen>\n",
        "\n",
        "> **Musterlösung:** Das Zeichen `H` wird als Vektor `[0 1 0 0 0 0 0 0]` \n",
        "dargestellt. Die Dimension ist `1x8`."
      ]
    },
    {
      "cell_type": "markdown",
      "metadata": {
        "id": "9jCputAba8UN"
      },
      "source": [
        "(4) Wandeln Sie die kodierte Zeichenfolge zurück in einen für Menschen lesbaren Text. Entspricht der zurückgewandelte Text dem ursprünglichen Input? Falls nicht, was könnte die Ursache dafür sein?\n",
        "\n",
        "* Hinweis: Für eine schönere Ausgabe kann der enkodierte Text mit der Funktion `untokenize` in einen String gewandelt werden."
      ]
    },
    {
      "cell_type": "markdown",
      "metadata": {
        "id": "hPiAwayxbi16"
      },
      "source": [
        "> <Antwort hier einfügen>\n",
        "\n",
        "> **Musterlösung:** Der ursprüngliche Text und der kodierte und dekodierte Text ist nicht mehr identisch, da zwei Zeichen (Leerzeichen, Ausrufezeichen) nicht im Alphabet vorhanden sind. Durch das Hinzufügen dieser Zeichen ins Alphabet würde der ursprüngliche Text erhalten bleiben."
      ]
    },
    {
      "cell_type": "code",
      "metadata": {
        "colab": {
          "base_uri": "https://localhost:8080/"
        },
        "id": "QjFH6Rbeab4P",
        "outputId": "b4dcfc16-27e7-4101-bba6-d295d0706d60"
      },
      "source": [
        "def tokenize(text):\n",
        "    '''\n",
        "    Converts the given text (string) in a list of chars.\n",
        "    '''\n",
        "    return list(text)\n",
        "\n",
        "def untokenize(tokens):\n",
        "    '''\n",
        "    Converts the given tokens (list of chars) in a string.\n",
        "    '''\n",
        "    return \"\".join(tokens)\n",
        "\n",
        "tokens = 'HWedlor'\n",
        "\n",
        "# code here\n",
        "one_hot = OneHot(tokens=tokens)\n",
        "\n",
        "text='Hello World!'\n",
        "\n",
        "coded_text = one_hot.encode(text)\n",
        "print(\"Shape of coded text: \", coded_text.shape)\n",
        "print(\"H coded (first letter in coded text): \", coded_text[0].astype(int))\n",
        "\n",
        "decoded_text = one_hot.decode(coded_text)\n",
        "\n",
        "print(\"original text: \", text)\n",
        "print(\"decoded text: \", untokenize(decoded_text))"
      ],
      "execution_count": 3,
      "outputs": [
        {
          "output_type": "stream",
          "text": [
            "Shape of coded text:  (12, 8)\n",
            "H coded (first letter in coded text):  [0 1 0 0 0 0 0 0]\n",
            "original text:  Hello World!\n",
            "decoded text:  Hello[UNKNOWN]World[UNKNOWN]\n"
          ],
          "name": "stdout"
        }
      ]
    },
    {
      "cell_type": "markdown",
      "metadata": {
        "id": "WglUJhhgyWSs"
      },
      "source": [
        "## 7.2 Datensatz vorbereiten\n",
        "\n",
        "In dieser Übung verwenden wir einen Auszug aus dem frei zugänglichen Buch [Shakespeare](http://shakespeare.mit.edu/) als Datensatz. Ziel des Modells soll die Vorhersage weiterer Zeichen zu einer gegebenen Zeichensequenz sein.\n",
        "\n",
        "Sie können aus einem Buch (sehr lange Zeichensequenz) Trainingsdaten erzeugen, indem Sie jedem Zeichen das jeweils nächste Zeichen als Label zuweisen. Die folgende Grafik veranschaulicht dieses Verfahren:\n",
        "![Image](https://raw.githubusercontent.com/fhac-ewi/recurrent-neural-network/main/TrainData.png)\n",
        "\n",
        "In dieser Aufgabe wird das Buch einlegesen, mithilfe der One Hot Kodierung (Aufgabe 7.1) in Vektoren umgewandelt, in Teilsequenzen unterteilt und als Trainingsdaten und Validierungsdaten aufgeteilt.\n",
        "\n",
        "* Hinweis: Sie können theoretisch jeden beliebigen Text als Datensatz für das Training des Modells verwenden, wie z.B. die gesamten Harry Potter Bücher, Coronaschutzverordnungen oder auch Nachrichtenartikel.\n",
        "\n",
        "**Ihre Aufgaben**\n",
        "\n",
        "(1) Führen Sie die folgende Codezelle aus, um das Buch Shakespeare einzulesen. Untersuchen Sie den Datensatz, indem Sie einen kurzen Auszug des Textes ausgeben.\n"
      ]
    },
    {
      "cell_type": "code",
      "metadata": {
        "id": "79Qwlyaucvu0",
        "colab": {
          "base_uri": "https://localhost:8080/"
        },
        "outputId": "b66fa322-4e28-4f9c-8ea4-d222f0e6cb0c"
      },
      "source": [
        "# maximum text length \n",
        "# 1. Protection against \"OutOfMemory\" (poor RAM 😥)\n",
        "# 2. Adjustment for making training faster (but you will gain less accuracy)\n",
        "MAX_TEXT_LEN = 1_200_000 \n",
        "\n",
        "path_to_file = tf.keras.utils.get_file('shakespeare.txt', 'https://storage.googleapis.com/download.tensorflow.org/data/shakespeare.txt')\n",
        "\n",
        "text = open(path_to_file, 'rb').read().decode(encoding='utf-8') # .lower() für schnelleres Training anfügen\n",
        "print(f'Length of text: {len(text)} characters')\n",
        "if len(text) > MAX_TEXT_LEN:\n",
        "    print(\"Text is too long. Cutting it to\", MAX_TEXT_LEN, f\"characters. That is {100 * MAX_TEXT_LEN / len(text):6.2f} %\")\n",
        "    text = text[:MAX_TEXT_LEN]\n",
        "\n",
        "# code here   \n",
        "# Aufgabe 7.2.1 \n",
        "print(\"Segment of text:\")\n",
        "print(\"-\" * 60)\n",
        "print(colored(text[:250], 'blue')) \n",
        "print(\"-\" * 60)"
      ],
      "execution_count": 4,
      "outputs": [
        {
          "output_type": "stream",
          "text": [
            "Downloading data from https://storage.googleapis.com/download.tensorflow.org/data/shakespeare.txt\n",
            "1122304/1115394 [==============================] - 0s 0us/step\n",
            "Length of text: 1115394 characters\n",
            "Segment of text:\n",
            "------------------------------------------------------------\n",
            "\u001b[34mFirst Citizen:\n",
            "Before we proceed any further, hear me speak.\n",
            "\n",
            "All:\n",
            "Speak, speak.\n",
            "\n",
            "First Citizen:\n",
            "You are all resolved rather to die than to famish?\n",
            "\n",
            "All:\n",
            "Resolved. resolved.\n",
            "\n",
            "First Citizen:\n",
            "First, you know Caius Marcius is chief enemy to the people.\n",
            "\u001b[0m\n",
            "------------------------------------------------------------\n"
          ],
          "name": "stdout"
        }
      ]
    },
    {
      "cell_type": "markdown",
      "metadata": {
        "id": "dD8tnErzN2YX"
      },
      "source": [
        "(2) Wandeln Sie den `text` in Tokens um (`tokenized_text`), indem Sie die Funktion `tokenize` anwenden."
      ]
    },
    {
      "cell_type": "code",
      "metadata": {
        "id": "2VZ6c1F1OZDl"
      },
      "source": [
        "# code here\n",
        "# Aufgabe 7.2.2\n",
        "tokenized_text = tokenize(text)"
      ],
      "execution_count": 5,
      "outputs": []
    },
    {
      "cell_type": "markdown",
      "metadata": {
        "id": "gx1Wc-Z-c9m5"
      },
      "source": [
        "(3) Ermitteln Sie aus `tokenized_text` das Alphabet (`tokens`) und geben dessen Länge aus. Das Alphabet soll alle einzigartigen Zeichen des Textes enthalten.\n",
        "\n",
        "* Hinweis: Die Dokumentation von [Set](https://docs.python.org/3/tutorial/datastructures.html#sets) kann Ihnen bei dieser Aufgabe weiterhelfen."
      ]
    },
    {
      "cell_type": "code",
      "metadata": {
        "id": "z3CD1zKnc-Ar",
        "colab": {
          "base_uri": "https://localhost:8080/"
        },
        "outputId": "1cb647ef-9cfb-4a2a-bd81-d4fc6667e990"
      },
      "source": [
        "# code here\n",
        "# Aufgabe 7.2.3 - Alphabet erstellen\n",
        "tokens = sorted(set(tokenized_text))\n",
        "print(\"Length of raw text:\", len(text))\n",
        "print(\"Numbers of tokens (unique letters): \", len(tokens))"
      ],
      "execution_count": 6,
      "outputs": [
        {
          "output_type": "stream",
          "text": [
            "Length of raw text: 1115394\n",
            "Numbers of tokens (unique letters):  65\n"
          ],
          "name": "stdout"
        }
      ]
    },
    {
      "cell_type": "markdown",
      "metadata": {
        "id": "ae-yuMS0c-aI"
      },
      "source": [
        "(4) Erstellen Sie für das Alphabet eine One Hot Kodierung und wenden diese auf den `tokenized_text` an. Nutzen Sie dazu Ihre Erkentnisse aus der Aufgabe 7.1."
      ]
    },
    {
      "cell_type": "code",
      "metadata": {
        "id": "Uxh5yZSlc-1j",
        "colab": {
          "base_uri": "https://localhost:8080/"
        },
        "outputId": "95c6be72-fe2f-43a8-950a-a1e3524f23a9"
      },
      "source": [
        "# code here\n",
        "# Aufgabe 7.2.4 - One Hot\n",
        "one_hot = OneHot(tokens=tokens)\n",
        "coded_text = one_hot.encode(tokenized_text)\n",
        "print(\"Shape of coded text: \", coded_text.shape)"
      ],
      "execution_count": 7,
      "outputs": [
        {
          "output_type": "stream",
          "text": [
            "Shape of coded text:  (1115394, 66)\n"
          ],
          "name": "stdout"
        }
      ]
    },
    {
      "cell_type": "markdown",
      "metadata": {
        "id": "Ufxc8wG5c_Tg"
      },
      "source": [
        "(5) Teilen Sie den kodierten Text (der ein großer Datensatz ist) in Sequenzen (also in mehrere kleinere Datensätze) auf. Wie würden Sie die Länge der einzelnen Sequenzen wählen? \n",
        "Verwenden Sie dazu die vorgegebene Funktion `sequenze_split`.\n",
        "\n",
        "* Hinweis: Die Sequenzen sollten lang genug sein, dass das RNN Zusammenhänge in einem Satz (und ggf. darüber hinaus) erlernen kann. Die Sequenzlänge sollte jedoch kurz genug sein, damit eine ausreichende Anzahl an Datensätzen für das Training vorhanden ist.\n",
        "<br>Die von uns verwendete Sequenzlänge haben wir mit [Rot13](https://rot13.de/) kodiert: `Rvauhaqreg`"
      ]
    },
    {
      "cell_type": "code",
      "metadata": {
        "id": "-0vijKKDc_5b",
        "colab": {
          "base_uri": "https://localhost:8080/"
        },
        "outputId": "28b7024d-737f-43a3-a838-89941a358a11"
      },
      "source": [
        "# helper function for 7.2.5\n",
        "def sequenze_split(coded_text, sequence_len):\n",
        "    '''\n",
        "    Splits a given coded text (text converted with OneHot) into multiple sequences.\n",
        "\n",
        "    Parameters:\n",
        "    coded_text -- OneHot coded text (2D np.array) that will be splitted.\n",
        "    sequence_len -- Length of each sequence\n",
        "\n",
        "    Returns:\n",
        "    3D np.array with coded text splitted into sequences.\n",
        "    Shape will be (sequences, letters per sequence, letter as one hot coded vector)\n",
        "    '''\n",
        "    target_shape = (int(coded_text.shape[0] / (sequence_len + 1)) , (sequence_len + 1) , coded_text.shape[1])\n",
        "    coded_text_seq = np.empty(target_shape, dtype=coded_text.dtype)\n",
        "    for s in range(coded_text_seq.shape[0]):\n",
        "        coded_text_seq[s] = coded_text[s * (sequence_len + 1):(s + 1) * (sequence_len + 1)]\n",
        "  \n",
        "    return coded_text_seq  \n",
        "\n",
        "# code here\n",
        "# Aufgabe 7.2.5 - Aufteilung in Sequenzen\n",
        "sequence_len = 100\n",
        "coded_text_seq = sequenze_split(coded_text, sequence_len)\n",
        "print(\"Shape of coded text split into sequences\", coded_text_seq.shape)    "
      ],
      "execution_count": 8,
      "outputs": [
        {
          "output_type": "stream",
          "text": [
            "Shape of coded text split into sequences (11043, 101, 66)\n"
          ],
          "name": "stdout"
        }
      ]
    },
    {
      "cell_type": "markdown",
      "metadata": {
        "id": "V0IfRdKdcwNL"
      },
      "source": [
        "(6) Erstellen Sie nun aus den sequenzierten Daten das Feature `X` und das Label `y`. Für die Vorhersage von einzelnen Zeichen ist jeweils das nächste Zeichen das Label des vorherigen Zeichens. Das Label `y` wird deshalb aus den gleichen Werten des Features `X` gebildet, ist jedoch um +1 verschoben. \n",
        "\n",
        "\n",
        "* Beispiel: Die Sequenz `Hello World!` kann in **X** `Hello World` mit dem zugehörigen Label **y** `ello World!` aufgeteilt werden.\n",
        "* Hinweis: Untersuchen Sie die Rückgabe der Funktion `sequenze_split`. In welcher der drei Komponenten müssen Sie die Verschiebung vornehmen?\n"
      ]
    },
    {
      "cell_type": "code",
      "metadata": {
        "id": "JpjJhmNMdMtQ"
      },
      "source": [
        "# code here\n",
        "# Aufgabe 7.2.6\n",
        "X = coded_text_seq[:, :-1]\n",
        "y = coded_text_seq[:, 1:]"
      ],
      "execution_count": 9,
      "outputs": []
    },
    {
      "cell_type": "markdown",
      "metadata": {
        "id": "LA0UqltXdNK9"
      },
      "source": [
        "(7) Konvertieren Sie nun die Daten in ein Trainings- und Validierungsset. Nutzen Sie dafür die Funktion `train_test_split` (Eine Dokumentation finden Sie [hier](https://scikit-learn.org/stable/modules/generated/sklearn.model_selection.train_test_split.html)). "
      ]
    },
    {
      "cell_type": "code",
      "metadata": {
        "id": "LN0KsVCb_Rm-",
        "colab": {
          "base_uri": "https://localhost:8080/"
        },
        "outputId": "ae231883-e6e9-409f-c592-edf48e0482de"
      },
      "source": [
        "# code here\n",
        "# Aufgabe 7.2.7\n",
        "validation_size = 1/6\n",
        "\n",
        "X_train, X_val, y_train, y_val = train_test_split(X, y, test_size=validation_size)\n",
        "\n",
        "print(\"X_train:\", X_train.shape, X_train.dtype)\n",
        "print(\"y_train:\", y_train.shape, y_train.dtype)\n",
        "print(\"X_val  :\", X_val.shape, X_val.dtype)\n",
        "print(\"y_val  :\", y_val.shape, y_val.dtype)\n",
        "\n",
        "print(\"-\" * 40)\n",
        "print(colored(untokenize(one_hot.decode(X_train[0])), 'blue'))\n",
        "print(\"-\" * 40)\n",
        "print(colored(untokenize(one_hot.decode(y_train[0])), 'green'))\n",
        "print(\"-\" * 40)    "
      ],
      "execution_count": 10,
      "outputs": [
        {
          "output_type": "stream",
          "text": [
            "X_train: (9202, 100, 66) bool\n",
            "y_train: (9202, 100, 66) bool\n",
            "X_val  : (1841, 100, 66) bool\n",
            "y_val  : (1841, 100, 66) bool\n",
            "----------------------------------------\n",
            "\u001b[34mvereign's face.\n",
            "I am the last of noble Edward's sons,\n",
            "Of whom thy father, Prince of Wales, was first\u001b[0m\n",
            "----------------------------------------\n",
            "\u001b[32mereign's face.\n",
            "I am the last of noble Edward's sons,\n",
            "Of whom thy father, Prince of Wales, was first:\u001b[0m\n",
            "----------------------------------------\n"
          ],
          "name": "stdout"
        }
      ]
    },
    {
      "cell_type": "markdown",
      "metadata": {
        "id": "PDvkDpWsysjl"
      },
      "source": [
        "🎉🎉🎉 **Geschafft!** 🎉🎉🎉\n",
        "\n",
        "Sie haben nun aus einem Buch Trainingsdaten für ein RNN zur Vorhersage von Zeichen erstellt!\n",
        "Folgende Schritte haben Sie erfolgreich durchgeführt: \n",
        "- Text einlesen (und falls notwendig bereinigen)\n",
        "- Text in Tokens umwandeln\n",
        "- Alphabet festlegen\n",
        "- One Hot Kodierung erstellen und anwenden\n",
        "- In Sequenzen aufteilen\n",
        "- `X` und `y` festlegen\n",
        "- Aufteilung in Training und Validierungsset\n",
        "\n",
        "... jetzt können Sie mit dem eigentlichen Modell fortfahren."
      ]
    },
    {
      "cell_type": "markdown",
      "metadata": {
        "id": "tOMFCH7V_RnM"
      },
      "source": [
        "## 7.3 RNN Modell erstellen\n",
        "In dieser Aufgabe wird ein many-to-many [SimpleRNN](https://keras.io/api/layers/recurrent_layers/simple_rnn/) (auch als Vanilla bezeichnet) zur Vorhersage des weiteren Verlaufs einer Zeichensequenz erstellt.\n",
        "\n",
        "Für die Erstellung eines Vanilla RNN werden Sie ein Sequential Model von Keras mit einer SimpleRNN Layer und einer Dense Layer nutzen. \n",
        "![Image](https://raw.githubusercontent.com/fhac-ewi/recurrent-neural-network/main/SimpleRNN.png)\n",
        "\n",
        "**Ihre Aufgaben**\n",
        "\n",
        "(1) Bestimmen Sie nun die Parameter, die für das Modell benötigt werden:\n",
        "- Shape der Eingabe/des Trainingdatensatzes. (Anzahl Zeichen, Länge eines vektorisierten Zeichens)\n",
        "- Länge des Alphabets (inklusive des `unknown_tokens`). Also die Anzahl der Tokens, die das Modell vorhersagen können soll.\n",
        "  \n"
      ]
    },
    {
      "cell_type": "code",
      "metadata": {
        "id": "1JNXcbdvfoOF",
        "colab": {
          "base_uri": "https://localhost:8080/"
        },
        "outputId": "094f8950-0946-45ba-8f12-208af8088f62"
      },
      "source": [
        "# code here\n",
        "# Aufgabe 7.3.1\n",
        "# Length of the vocabulary in chars\n",
        "vocab_size = X_train.shape[-1]\n",
        "print(\"Numbers of unique tokens: \", vocab_size)\n",
        "\n",
        "# The input shape\n",
        "input_shape = X_train.shape[1:]\n",
        "print(\"Input shape: \", input_shape)\n",
        "\n",
        "# Number of RNN units\n",
        "rnn_units = 128"
      ],
      "execution_count": 11,
      "outputs": [
        {
          "output_type": "stream",
          "text": [
            "Numbers of unique tokens:  66\n",
            "Input shape:  (100, 66)\n"
          ],
          "name": "stdout"
        }
      ]
    },
    {
      "cell_type": "markdown",
      "metadata": {
        "id": "07w7qlrrfonH"
      },
      "source": [
        "\n",
        "(2) Erstellen Sie ein [Sequential](https://keras.io/api/models/sequential/) Modell und fügen folgende Schichten hinzu:\n",
        "- [SimpleRNN](https://keras.io/api/layers/recurrent_layers/simple_rnn/) mit 128 RNN Units als Output Space (= Größe des Hidden State), der Shape der Eingabe und dem Parameter `return_sequences=true`. Wenn wir den Parameter `return_sequences=true` setzen, gibt unsere SimpleRNN-Schicht die gesamte Output-Sequenz zurück (Das Resultat entspricht einem `many-to-many RNN`).\n",
        "- [Dense](https://keras.io/api/layers/core_layers/dense/) mit der Anzahl der Tokens und der Aktivierungsfunktion `softmax`.\n",
        "\n",
        "Kompilieren Sie anschließend das Modell mit der Loss Function `categorical_crossentropy`, dem [RMSprop](https://keras.io/api/optimizers/rmsprop/) Optimizer mit einer `learning_rate` von 0.01 und fügen als Metrics die `accuracy` hinzu."
      ]
    },
    {
      "cell_type": "code",
      "metadata": {
        "id": "z0Uh7RmR_RnN",
        "colab": {
          "base_uri": "https://localhost:8080/"
        },
        "outputId": "92238e92-34f2-4244-98e3-bdc227844428"
      },
      "source": [
        "# code here\n",
        "# Aufgabe 7.3.2 - SimpleRNN\n",
        "# model = ....\n",
        "model = tf.keras.Sequential(name=\"SimpleRNN_Model\")\n",
        "model.add(tf.keras.layers.SimpleRNN(rnn_units, return_sequences=True, input_shape=input_shape, name=\"The_Brain\"))\n",
        "model.add(tf.keras.layers.Dense(vocab_size, activation='softmax', name=\"The_Hand\"))\n",
        "optimizer = tf.keras.optimizers.RMSprop(learning_rate=0.01)\n",
        "model.compile(loss='categorical_crossentropy', optimizer=optimizer, metrics=['accuracy'])\n",
        "\n",
        "model.summary()"
      ],
      "execution_count": 12,
      "outputs": [
        {
          "output_type": "stream",
          "text": [
            "Model: \"SimpleRNN_Model\"\n",
            "_________________________________________________________________\n",
            "Layer (type)                 Output Shape              Param #   \n",
            "=================================================================\n",
            "The_Brain (SimpleRNN)        (None, 100, 128)          24960     \n",
            "_________________________________________________________________\n",
            "The_Hand (Dense)             (None, 100, 66)           8514      \n",
            "=================================================================\n",
            "Total params: 33,474\n",
            "Trainable params: 33,474\n",
            "Non-trainable params: 0\n",
            "_________________________________________________________________\n"
          ],
          "name": "stdout"
        }
      ]
    },
    {
      "cell_type": "markdown",
      "metadata": {
        "id": "axndj50eyWrw"
      },
      "source": [
        "## 7.4 RNN Modell trainieren\n",
        "In dieser Aufgabe soll das Modell trainiert werden sowie der Loss und die Accuracy untersucht werden.\n",
        "\n",
        "**Ihre Aufgaben**\n",
        "\n",
        "(1) Wenden Sie die Methode [fit](https://www.tensorflow.org/api_docs/python/tf/keras/Model#fit) auf Ihr Modell an. Geben Sie als Parameter neben den Trainingsdaten auch die Anzahl der Epochen, die Batchsize und die zuvor erstellten Validierungsdaten (Aufgabenteil 7.2.6) an. Speichern Sie das Ergebnis des Trainings für eine spätere Analyse in einer Variable!\n",
        "\n",
        "Im Code sind bereits Startwerte für das Training vorgegeben. Sie können diese nach Belieben anpassen. \n",
        "\n",
        "**Eine Accuracy von 50% ist für diesen Schritt völlig ausreichend!**\n",
        "\n",
        "* Hinweis: **Die Trainingsdauer sollte zwischen 1 und 3 Minuten liegen!** \n",
        "</br>Nach den ersten drei Epochen sollte die Genauigkeit bereits über 30% liegen. Falls nicht, prüfen Sie noch einmal die vorherigen Aufgabenteile oder bitten Sie das Team RNN um Hilfe!\n",
        "\n",
        "* Tipp: Falls Sie das Gefühl haben, dass Ihr Modell noch einen Fehler enthalten könnte, fügen Sie in Aufgabe 7.2 im Codeblock Zeile 8 ein `.lower()` ein. Dadurch wird der Datensatz in Kleinbuchstaben umgewandelt und die Größe des Alphabets verringert. "
      ]
    },
    {
      "cell_type": "code",
      "metadata": {
        "id": "iGpNzqcuyW5-",
        "colab": {
          "base_uri": "https://localhost:8080/"
        },
        "outputId": "d1992d20-ba2d-4225-b7aa-beb00f62f77c"
      },
      "source": [
        "EPOCHS = 20\n",
        "BATCH_SIZE = 128\n",
        "\n",
        "t1 = time.time()\n",
        "# code here\n",
        "hist = model.fit(X_train, y_train,\n",
        "                  batch_size=BATCH_SIZE,\n",
        "                  epochs=EPOCHS,\n",
        "                  validation_data=(X_val, y_val))\n",
        "t2 = time.time()\n",
        "\n",
        "print(\"Training took: \", timedelta(seconds=t2-t1))"
      ],
      "execution_count": 13,
      "outputs": [
        {
          "output_type": "stream",
          "text": [
            "Epoch 1/20\n",
            "72/72 [==============================] - 9s 82ms/step - loss: 3.5459 - accuracy: 0.1450 - val_loss: 2.4147 - val_accuracy: 0.3205\n",
            "Epoch 2/20\n",
            "72/72 [==============================] - 5s 74ms/step - loss: 2.3835 - accuracy: 0.3255 - val_loss: 2.1690 - val_accuracy: 0.3800\n",
            "Epoch 3/20\n",
            "72/72 [==============================] - 5s 73ms/step - loss: 2.1492 - accuracy: 0.3808 - val_loss: 2.0557 - val_accuracy: 0.4027\n",
            "Epoch 4/20\n",
            "72/72 [==============================] - 5s 72ms/step - loss: 2.0139 - accuracy: 0.4147 - val_loss: 1.9273 - val_accuracy: 0.4387\n",
            "Epoch 5/20\n",
            "72/72 [==============================] - 5s 73ms/step - loss: 1.9193 - accuracy: 0.4398 - val_loss: 1.9013 - val_accuracy: 0.4405\n",
            "Epoch 6/20\n",
            "72/72 [==============================] - 5s 74ms/step - loss: 1.8624 - accuracy: 0.4557 - val_loss: 1.8333 - val_accuracy: 0.4664\n",
            "Epoch 7/20\n",
            "72/72 [==============================] - 5s 71ms/step - loss: 1.8242 - accuracy: 0.4653 - val_loss: 1.8205 - val_accuracy: 0.4688\n",
            "Epoch 8/20\n",
            "72/72 [==============================] - 5s 71ms/step - loss: 1.7924 - accuracy: 0.4738 - val_loss: 1.8082 - val_accuracy: 0.4683\n",
            "Epoch 9/20\n",
            "72/72 [==============================] - 5s 71ms/step - loss: 1.7684 - accuracy: 0.4797 - val_loss: 1.7769 - val_accuracy: 0.4806\n",
            "Epoch 10/20\n",
            "72/72 [==============================] - 5s 69ms/step - loss: 1.7452 - accuracy: 0.4857 - val_loss: 1.7607 - val_accuracy: 0.4822\n",
            "Epoch 11/20\n",
            "72/72 [==============================] - 5s 70ms/step - loss: 1.7300 - accuracy: 0.4901 - val_loss: 1.7550 - val_accuracy: 0.4868\n",
            "Epoch 12/20\n",
            "72/72 [==============================] - 5s 70ms/step - loss: 1.7276 - accuracy: 0.4894 - val_loss: 1.7302 - val_accuracy: 0.4904\n",
            "Epoch 13/20\n",
            "72/72 [==============================] - 5s 68ms/step - loss: 1.7104 - accuracy: 0.4935 - val_loss: 1.7448 - val_accuracy: 0.4887\n",
            "Epoch 14/20\n",
            "72/72 [==============================] - 5s 69ms/step - loss: 1.7003 - accuracy: 0.4967 - val_loss: 1.7150 - val_accuracy: 0.4913\n",
            "Epoch 15/20\n",
            "72/72 [==============================] - 5s 70ms/step - loss: 1.6942 - accuracy: 0.4983 - val_loss: 1.7116 - val_accuracy: 0.4940\n",
            "Epoch 16/20\n",
            "72/72 [==============================] - 5s 71ms/step - loss: 1.6905 - accuracy: 0.4989 - val_loss: 1.6920 - val_accuracy: 0.5003\n",
            "Epoch 17/20\n",
            "72/72 [==============================] - 5s 71ms/step - loss: 1.6791 - accuracy: 0.5009 - val_loss: 1.7063 - val_accuracy: 0.5004\n",
            "Epoch 18/20\n",
            "72/72 [==============================] - 5s 69ms/step - loss: 1.6729 - accuracy: 0.5036 - val_loss: 1.7023 - val_accuracy: 0.4984\n",
            "Epoch 19/20\n",
            "72/72 [==============================] - 5s 68ms/step - loss: 1.6693 - accuracy: 0.5038 - val_loss: 1.6987 - val_accuracy: 0.5013\n",
            "Epoch 20/20\n",
            "72/72 [==============================] - 5s 70ms/step - loss: 1.6648 - accuracy: 0.5047 - val_loss: 1.6885 - val_accuracy: 0.5011\n",
            "Training took:  0:01:46.281855\n"
          ],
          "name": "stdout"
        }
      ]
    },
    {
      "cell_type": "markdown",
      "metadata": {
        "id": "hwFD7439_RnO"
      },
      "source": [
        "(2) Plotten Sie die Accuracy und den Loss des Trainingsets und des Validationsets über die Epochen hinweg. Bewerten Sie den Verlauf des Trainings. Wie könnte das Training verbessert werden?\n",
        "* Hinweis: Die Accuracy und den Loss finden Sie in der [history](https://keras.io/api/models/model_training_apis/#fit-method) des Modells. Schauen Sie sich hierzu die Rückgabe der `fit-Methode` an."
      ]
    },
    {
      "cell_type": "code",
      "metadata": {
        "id": "JCn3o8K9_RnO",
        "colab": {
          "base_uri": "https://localhost:8080/",
          "height": 606
        },
        "outputId": "19df8c3b-0cba-483b-9e27-3ce495d80b6a"
      },
      "source": [
        "# code here\n",
        "fig, ax = plt.subplots(1, 1)\n",
        "\n",
        "ax.plot(hist.history[\"loss\"], label='loss')\n",
        "ax.plot(hist.history[\"accuracy\"], label='accuracy')\n",
        "ax.plot(hist.history[\"val_loss\"], label='validation loss')\n",
        "ax.plot(hist.history[\"val_accuracy\"], label='validation accuracy')\n",
        "ax.set_xlabel(\"Epoch\")\n",
        "ax.legend()\n",
        "\n",
        "fig.set_size_inches(20, 10)\n",
        "\n",
        "plt.show()"
      ],
      "execution_count": 14,
      "outputs": [
        {
          "output_type": "display_data",
          "data": {
            "image/png": "[encoded data removed]",
            "text/plain": [
              "<Figure size 1440x720 with 1 Axes>"
            ]
          },
          "metadata": {
            "tags": [],
            "needs_background": "light"
          }
        }
      ]
    },
    {
      "cell_type": "markdown",
      "metadata": {
        "id": "ghcs0o_ABlKR"
      },
      "source": [
        "> <Antwort hier einfügen>\n",
        "\n",
        "> **Musterlösung:** \n",
        "- Bewertung:\n",
        "  - Training erreicht schon nach ca. 10 Epochen keinen großen Fortschritt mehr\n",
        "-Verbesserungspotential:\n",
        "  - Mehr Trainingszeit\n",
        "  - Mehr RNN Units, damit sich das Netz mehr merken kann\n",
        "  - Mehr Trainingsdaten\n",
        "  - Anpassung der Modellarchitektur"
      ]
    },
    {
      "cell_type": "markdown",
      "metadata": {
        "id": "WxNyKthd_RnP"
      },
      "source": [
        "## 7.5 Vorhersagen treffen\n",
        "In diesem Schritt wollen wir unser zuvor trainiertes Modell für die Vorhersage von Buchstaben/Texten nutzen. Basierend auf den resultierenden Sätzen können wir eine von der Accuracy unabhängige Bewertung der Modellgüte erstellen . TODO Gegenlesen\n",
        "\n",
        "**Ihre Aufgaben**\n",
        "\n",
        "(1) Vervollständigen Sie die Funktion `predict`. Kodieren Sie dafür den Text mit der One Hot Kodierung, führen die Vorhersage mit dem trainierten Modell durch und geben das letzte dekodierte Zeichen der Vorhersage zurück.  \n",
        "\n",
        "* Hinweis: Beachten Sie, dass die Methode `model.predict` immer Batches erwartet und der Input in eine andere Shape gebracht werden muss.\n",
        "\n",
        "Testen Sie anschließend die Funktion mit einzelnen Wörtern. Geben Sie dafür den ersten Teil des Wortes in die `predict` Funktion hinein und überprüfen die Rückgabe. Sie können auch kürzere Sätze hineingeben und die Ausgabe prüfen.\n",
        "\n",
        "* Beispiel: Bei `Prince` wird der Input als `Princ` gewählt und das erwartete Ergebnis lautet `e`."
      ]
    },
    {
      "cell_type": "code",
      "metadata": {
        "id": "y3wVdygn_RnQ",
        "colab": {
          "base_uri": "https://localhost:8080/"
        },
        "outputId": "b1027163-f1f2-495c-9829-039d78bf364e"
      },
      "source": [
        "def predict(text, one_hot, trainied_model):\n",
        "    '''\n",
        "    Wandelt den Text mithilfe der OneHot Kodierung in eine Input um, \n",
        "    führt mithilfe des trainierten Modells eine prediction durch \n",
        "    und gibt das vorhergesagte Zeichen als Text aus.\n",
        "    '''\n",
        "    # coce here\n",
        "    encoded_text = one_hot.encode(tokenize(text))\n",
        "    prediction = trainied_model.predict(encoded_text.reshape((1, *encoded_text.shape)))\n",
        "    return untokenize(one_hot.decode(prediction[0]))[-1]\n",
        "\n",
        "print(\"Prediction of 'fathe' is:\", predict(\"fathe\", one_hot, model))   \n",
        "print(\"Prediction of 'Princ' is:\", predict(\"Princ\", one_hot, model))  "
      ],
      "execution_count": 15,
      "outputs": [
        {
          "output_type": "stream",
          "text": [
            "Prediction of 'fathe' is: r\n",
            "Prediction of 'Princ' is: e\n"
          ],
          "name": "stdout"
        }
      ]
    },
    {
      "cell_type": "markdown",
      "metadata": {
        "id": "IGXTuk3VnLQb"
      },
      "source": [
        "(2) **Wettkampf** Erweitern Sie die Funktion `predict` aus dem vorherigen Aufgabenteil (7.5.1) zu einer Funktion, die 100 weitere Zeichen vorhersagt und somit womöglich einen ganzen Satz vorhersagen kann. \n",
        "\n",
        "Reichen Sie Ihr bestes Ergebnis im [Discord Chat von Team RNN](https://discord.com/channels/829659610045481010/829659610210107434/846648596681195550) ein. Wenn Sie in den nachfolgenden Aufgaben bessere Ergebnisse erzielen, können Sie diese natürlich auch einreichen!"
      ]
    },
    {
      "cell_type": "code",
      "metadata": {
        "colab": {
          "base_uri": "https://localhost:8080/"
        },
        "id": "btPQKKCRn2xf",
        "outputId": "2ba780f2-134b-49fb-c466-b45d79be73e9"
      },
      "source": [
        "def predict_sentence(text, prediction_length, one_hot, trainied_model):\n",
        "    '''\n",
        "    Führt mehrere Predictions Iterativ durch.\n",
        "    '''\n",
        "    # code here\n",
        "    for x in range(prediction_length):\n",
        "        text += predict(text, one_hot, trainied_model)\n",
        "    return text\n",
        "\n",
        "print(predict_sentence(\"ROMEO:\\n\", 100, one_hot, model))      "
      ],
      "execution_count": 16,
      "outputs": [
        {
          "output_type": "stream",
          "text": [
            "ROMEO:\n",
            "The words of the will be shall be shall be shall be shall be shall be shall be shall be shall be sha\n"
          ],
          "name": "stdout"
        }
      ]
    },
    {
      "cell_type": "markdown",
      "metadata": {
        "id": "67T8xcMS_RnQ"
      },
      "source": [
        "(3) **Optional** Nutzen Sie zum Beispiel [ipywidgets](https://ipywidgets.readthedocs.io/en/latest/examples/Using%20Interact.html#Using-Interact) um Texte live eingeben zu können und Vorhersagen zu erhalten. Testen Sie das trainierte Modell und Ihre `predict` Funktion (Aufgabenteil 7.5.1).\n"
      ]
    },
    {
      "cell_type": "code",
      "metadata": {
        "id": "ApEZl0IK_RnQ"
      },
      "source": [
        "import ipywidgets as widgets\n",
        "from IPython.display import display"
      ],
      "execution_count": 17,
      "outputs": []
    },
    {
      "cell_type": "code",
      "metadata": {
        "id": "7ENo5TOT_RnR",
        "colab": {
          "base_uri": "https://localhost:8080/",
          "height": 84,
          "referenced_widgets": [
            "1c4a1eb3c7944b9986ec32d00114a625",
            "9ffc5036cc1646119c6c64d541e185a0",
            "bd199c007e644611852594f6028ea735",
            "8d850f6502544693b7c5dcf75840ab17",
            "9e54cdba8b424d36b37730e8d2fb318b",
            "65612b577b144d688eaa84b89b9175f1",
            "8f94a8eab9744b53953ccafd272891de"
          ]
        },
        "outputId": "9600d9dc-bba9-41a0-dec2-c4954138c485"
      },
      "source": [
        "# code here\n",
        "def verbose_prediction(text, one_hot, trainied_model):\n",
        "    if len(text) == 0:\n",
        "        text = \" \"\n",
        "    prediction = predict(text=text, one_hot=one_hot, trainied_model=trainied_model)\n",
        "    print(f\"I think the next will be \\\"{prediction}\\\" after you said \\\"{text}\\\"\")\n",
        "\n",
        "w = widgets.interactive(verbose_prediction,\n",
        "                        text=widgets.Text(value='ROME', placeholder='Type something', description='Your text:', disabled=False),\n",
        "                        one_hot=widgets.fixed(one_hot),\n",
        "                        trainied_model=widgets.fixed(model),\n",
        "                       )\n",
        "\n",
        "verbose_prediction(\"Edwar\", one_hot=one_hot, trainied_model=model)\n",
        "\n",
        "display(w)"
      ],
      "execution_count": 18,
      "outputs": [
        {
          "output_type": "stream",
          "text": [
            "I think the next will be \"d\" after you said \"Edwar\"\n"
          ],
          "name": "stdout"
        },
        {
          "output_type": "display_data",
          "data": {
            "application/vnd.jupyter.widget-view+json": {
              "model_id": "1c4a1eb3c7944b9986ec32d00114a625",
              "version_minor": 0,
              "version_major": 2
            },
            "text/plain": [
              "interactive(children=(Text(value='ROME', description='Your text:', placeholder='Type something'), Output()), _…"
            ]
          },
          "metadata": {
            "tags": []
          }
        }
      ]
    },
    {
      "cell_type": "markdown",
      "metadata": {
        "id": "0d7pKNy1ycN7"
      },
      "source": [
        "## 7.6 **Optional** RNN Varianten LSTM und GRU\n",
        "\n",
        "Neben SimpleRNN wurden in der Vorlesung zwei weitere Varianten von RNNs vorgestellt, die mit dem Vanishing Gradient Problem deutlich besser als das SimpleRNN umgehen können.\n",
        "\n",
        "In dieser Aufgabe sollen diese beiden Varianten trainiert und die Lernkurve sowie die getroffenen Vorhersagen mit dem SimpleRNN verglichen werden.\n",
        "\n",
        "**Ihre Aufgaben**\n",
        "\n",
        "(1) Trainieren Sie auf dem gleichen Datensatz zwei Modelle der Varianten LSTM und GRU. Verwenden Sie Ihr Modell aus Aufgabe 7.3 und ersetzen Sie die SimpleRNN Layer durch eine passende [Layer von Keras](https://keras.io/api/layers/recurrent_layers/).\n",
        "\n",
        "**Speichern Sie die Modelle in neuen Variablen ab!**\n"
      ]
    },
    {
      "cell_type": "code",
      "metadata": {
        "id": "IehQ7h3uyeY6",
        "colab": {
          "base_uri": "https://localhost:8080/"
        },
        "outputId": "d055b0dc-c712-411f-cf06-21ae27373265"
      },
      "source": [
        "# code here\n",
        "# model_lstm = ....\n",
        "model_lstm = tf.keras.Sequential(name=\"LSTM_Model\")\n",
        "model_lstm.add(tf.keras.layers.LSTM(rnn_units, return_sequences=True, input_shape=input_shape, name=\"The_Brain\"))\n",
        "model_lstm.add(tf.keras.layers.Dense(vocab_size, activation='softmax', name=\"The_Hand\"))\n",
        "optimizer = tf.keras.optimizers.RMSprop(learning_rate=0.01)\n",
        "model_lstm.compile(loss='categorical_crossentropy', optimizer=optimizer, metrics=['accuracy'])\n",
        "model_lstm.summary()\n",
        "\n",
        "# model_gru = ....\n",
        "model_gru = tf.keras.Sequential(name=\"GRU_Model\")\n",
        "model_gru.add(tf.keras.layers.GRU(rnn_units, return_sequences=True, input_shape=input_shape, name=\"The_Brain\"))\n",
        "model_gru.add(tf.keras.layers.Dense(vocab_size, activation='softmax', name=\"The_Hand\"))\n",
        "optimizer = tf.keras.optimizers.RMSprop(learning_rate=0.01)\n",
        "model_gru.compile(loss='categorical_crossentropy', optimizer=optimizer, metrics=['accuracy'])\n",
        "model_gru.summary()\n"
      ],
      "execution_count": 19,
      "outputs": [
        {
          "output_type": "stream",
          "text": [
            "Model: \"LSTM_Model\"\n",
            "_________________________________________________________________\n",
            "Layer (type)                 Output Shape              Param #   \n",
            "=================================================================\n",
            "The_Brain (LSTM)             (None, 100, 128)          99840     \n",
            "_________________________________________________________________\n",
            "The_Hand (Dense)             (None, 100, 66)           8514      \n",
            "=================================================================\n",
            "Total params: 108,354\n",
            "Trainable params: 108,354\n",
            "Non-trainable params: 0\n",
            "_________________________________________________________________\n",
            "Model: \"GRU_Model\"\n",
            "_________________________________________________________________\n",
            "Layer (type)                 Output Shape              Param #   \n",
            "=================================================================\n",
            "The_Brain (GRU)              (None, 100, 128)          75264     \n",
            "_________________________________________________________________\n",
            "The_Hand (Dense)             (None, 100, 66)           8514      \n",
            "=================================================================\n",
            "Total params: 83,778\n",
            "Trainable params: 83,778\n",
            "Non-trainable params: 0\n",
            "_________________________________________________________________\n"
          ],
          "name": "stdout"
        }
      ]
    },
    {
      "cell_type": "code",
      "metadata": {
        "id": "knXfKSKy_RnS",
        "colab": {
          "base_uri": "https://localhost:8080/"
        },
        "outputId": "d3ba3e62-ca49-42ee-aea5-66f885c5dedd"
      },
      "source": [
        "t1 = time.time()\n",
        "# code here (train lstm)\n",
        "hist_lstm = model_lstm.fit(X_train, y_train,\n",
        "                           batch_size=BATCH_SIZE,\n",
        "                           epochs=EPOCHS,\n",
        "                           validation_data=(X_val, y_val))\n",
        "t2 = time.time()\n",
        "t_lstm = t2 - t1\n",
        "\n",
        "t1 = time.time()\n",
        "# code here (train gru)\n",
        "hist_gru = model_gru.fit(X_train, y_train,\n",
        "                         batch_size=BATCH_SIZE,\n",
        "                         epochs=EPOCHS,\n",
        "                         validation_data=(X_val, y_val))\n",
        "t2 = time.time()\n",
        "t_gru = t2 - t1\n",
        "\n",
        "print(\"LSTM Training took:\", timedelta(seconds=t_lstm))\n",
        "print(\"GRU  Training took:\", timedelta(seconds=t_gru))"
      ],
      "execution_count": 20,
      "outputs": [
        {
          "output_type": "stream",
          "text": [
            "Epoch 1/20\n",
            "72/72 [==============================] - 31s 20ms/step - loss: 3.3019 - accuracy: 0.1650 - val_loss: 2.4341 - val_accuracy: 0.3160\n",
            "Epoch 2/20\n",
            "72/72 [==============================] - 1s 12ms/step - loss: 2.3380 - accuracy: 0.3333 - val_loss: 2.1326 - val_accuracy: 0.3752\n",
            "Epoch 3/20\n",
            "72/72 [==============================] - 1s 12ms/step - loss: 2.0271 - accuracy: 0.4072 - val_loss: 1.8959 - val_accuracy: 0.4413\n",
            "Epoch 4/20\n",
            "72/72 [==============================] - 1s 13ms/step - loss: 1.8412 - accuracy: 0.4563 - val_loss: 1.7697 - val_accuracy: 0.4753\n",
            "Epoch 5/20\n",
            "72/72 [==============================] - 1s 13ms/step - loss: 1.7292 - accuracy: 0.4863 - val_loss: 1.6819 - val_accuracy: 0.4981\n",
            "Epoch 6/20\n",
            "72/72 [==============================] - 1s 12ms/step - loss: 1.6498 - accuracy: 0.5062 - val_loss: 1.6125 - val_accuracy: 0.5197\n",
            "Epoch 7/20\n",
            "72/72 [==============================] - 1s 12ms/step - loss: 1.5980 - accuracy: 0.5194 - val_loss: 1.5935 - val_accuracy: 0.5207\n",
            "Epoch 8/20\n",
            "72/72 [==============================] - 1s 13ms/step - loss: 1.5546 - accuracy: 0.5301 - val_loss: 1.5616 - val_accuracy: 0.5291\n",
            "Epoch 9/20\n",
            "72/72 [==============================] - 1s 12ms/step - loss: 1.5245 - accuracy: 0.5383 - val_loss: 1.5358 - val_accuracy: 0.5375\n",
            "Epoch 10/20\n",
            "72/72 [==============================] - 1s 12ms/step - loss: 1.4960 - accuracy: 0.5459 - val_loss: 1.5210 - val_accuracy: 0.5410\n",
            "Epoch 11/20\n",
            "72/72 [==============================] - 1s 12ms/step - loss: 1.4744 - accuracy: 0.5512 - val_loss: 1.5090 - val_accuracy: 0.5452\n",
            "Epoch 12/20\n",
            "72/72 [==============================] - 1s 12ms/step - loss: 1.4630 - accuracy: 0.5539 - val_loss: 1.4927 - val_accuracy: 0.5493\n",
            "Epoch 13/20\n",
            "72/72 [==============================] - 1s 12ms/step - loss: 1.4471 - accuracy: 0.5582 - val_loss: 1.4941 - val_accuracy: 0.5476\n",
            "Epoch 14/20\n",
            "72/72 [==============================] - 1s 12ms/step - loss: 1.4310 - accuracy: 0.5625 - val_loss: 1.4748 - val_accuracy: 0.5531\n",
            "Epoch 15/20\n",
            "72/72 [==============================] - 1s 12ms/step - loss: 1.4220 - accuracy: 0.5650 - val_loss: 1.4702 - val_accuracy: 0.5539\n",
            "Epoch 16/20\n",
            "72/72 [==============================] - 1s 12ms/step - loss: 1.4179 - accuracy: 0.5659 - val_loss: 1.4614 - val_accuracy: 0.5576\n",
            "Epoch 17/20\n",
            "72/72 [==============================] - 1s 12ms/step - loss: 1.4059 - accuracy: 0.5690 - val_loss: 1.4627 - val_accuracy: 0.5581\n",
            "Epoch 18/20\n",
            "72/72 [==============================] - 1s 12ms/step - loss: 1.3973 - accuracy: 0.5714 - val_loss: 1.4507 - val_accuracy: 0.5611\n",
            "Epoch 19/20\n",
            "72/72 [==============================] - 1s 12ms/step - loss: 1.3907 - accuracy: 0.5725 - val_loss: 1.4534 - val_accuracy: 0.5601\n",
            "Epoch 20/20\n",
            "72/72 [==============================] - 1s 12ms/step - loss: 1.3850 - accuracy: 0.5738 - val_loss: 1.4545 - val_accuracy: 0.5594\n",
            "Epoch 1/20\n",
            "72/72 [==============================] - 2s 16ms/step - loss: 3.0662 - accuracy: 0.2314 - val_loss: 2.1472 - val_accuracy: 0.3753\n",
            "Epoch 2/20\n",
            "72/72 [==============================] - 1s 12ms/step - loss: 2.0485 - accuracy: 0.4021 - val_loss: 1.8605 - val_accuracy: 0.4483\n",
            "Epoch 3/20\n",
            "72/72 [==============================] - 1s 11ms/step - loss: 1.8107 - accuracy: 0.4638 - val_loss: 1.7122 - val_accuracy: 0.4893\n",
            "Epoch 4/20\n",
            "72/72 [==============================] - 1s 11ms/step - loss: 1.6910 - accuracy: 0.4948 - val_loss: 1.6711 - val_accuracy: 0.4968\n",
            "Epoch 5/20\n",
            "72/72 [==============================] - 1s 12ms/step - loss: 1.6225 - accuracy: 0.5130 - val_loss: 1.6077 - val_accuracy: 0.5143\n",
            "Epoch 6/20\n",
            "72/72 [==============================] - 1s 12ms/step - loss: 1.5744 - accuracy: 0.5247 - val_loss: 1.5663 - val_accuracy: 0.5270\n",
            "Epoch 7/20\n",
            "72/72 [==============================] - 1s 11ms/step - loss: 1.5410 - accuracy: 0.5336 - val_loss: 1.5468 - val_accuracy: 0.5336\n",
            "Epoch 8/20\n",
            "72/72 [==============================] - 1s 12ms/step - loss: 1.5154 - accuracy: 0.5409 - val_loss: 1.5373 - val_accuracy: 0.5356\n",
            "Epoch 9/20\n",
            "72/72 [==============================] - 1s 12ms/step - loss: 1.4968 - accuracy: 0.5452 - val_loss: 1.5215 - val_accuracy: 0.5393\n",
            "Epoch 10/20\n",
            "72/72 [==============================] - 1s 11ms/step - loss: 1.4777 - accuracy: 0.5502 - val_loss: 1.5101 - val_accuracy: 0.5434\n",
            "Epoch 11/20\n",
            "72/72 [==============================] - 1s 11ms/step - loss: 1.4674 - accuracy: 0.5525 - val_loss: 1.5037 - val_accuracy: 0.5456\n",
            "Epoch 12/20\n",
            "72/72 [==============================] - 1s 11ms/step - loss: 1.4597 - accuracy: 0.5535 - val_loss: 1.4899 - val_accuracy: 0.5491\n",
            "Epoch 13/20\n",
            "72/72 [==============================] - 1s 11ms/step - loss: 1.4486 - accuracy: 0.5564 - val_loss: 1.4952 - val_accuracy: 0.5491\n",
            "Epoch 14/20\n",
            "72/72 [==============================] - 1s 12ms/step - loss: 1.4377 - accuracy: 0.5599 - val_loss: 1.4862 - val_accuracy: 0.5497\n",
            "Epoch 15/20\n",
            "72/72 [==============================] - 1s 14ms/step - loss: 1.4325 - accuracy: 0.5614 - val_loss: 1.4762 - val_accuracy: 0.5519\n",
            "Epoch 16/20\n",
            "72/72 [==============================] - 1s 11ms/step - loss: 1.4308 - accuracy: 0.5612 - val_loss: 1.4686 - val_accuracy: 0.5556\n",
            "Epoch 17/20\n",
            "72/72 [==============================] - 1s 12ms/step - loss: 1.4230 - accuracy: 0.5639 - val_loss: 1.4787 - val_accuracy: 0.5554\n",
            "Epoch 18/20\n",
            "72/72 [==============================] - 1s 12ms/step - loss: 1.4178 - accuracy: 0.5649 - val_loss: 1.4726 - val_accuracy: 0.5528\n",
            "Epoch 19/20\n",
            "72/72 [==============================] - 1s 12ms/step - loss: 1.4123 - accuracy: 0.5654 - val_loss: 1.4651 - val_accuracy: 0.5586\n",
            "Epoch 20/20\n",
            "72/72 [==============================] - 1s 12ms/step - loss: 1.4083 - accuracy: 0.5674 - val_loss: 1.4686 - val_accuracy: 0.5551\n",
            "LSTM Training took: 0:00:47.869826\n",
            "GRU  Training took: 0:00:18.608445\n"
          ],
          "name": "stdout"
        }
      ]
    },
    {
      "cell_type": "markdown",
      "metadata": {
        "id": "8ZyureKEhM0H"
      },
      "source": [
        "(2) Plotten Sie die Accuracy und den Loss der drei Modelle in einem Diagramm. Verwenden Sie zusätzlich die Methode `predict_sentence` (7.5.2), um die Vorhersagen zu vergleichen.\n",
        "Welche Erkenntnisse haben Sie aus dem Training gezogen? "
      ]
    },
    {
      "cell_type": "markdown",
      "metadata": {
        "id": "q8fe7kxBhFOM"
      },
      "source": [
        "> <Antwort hier einfügen>\n",
        "\n",
        "> **Musterlösung:**\n",
        "<br>Erkenntnisse:\n",
        "- SimpleRNN leidet unter Gedächtnisverlust\n",
        "- LSTM und GRU haben eine geringfügig bessere Accuracy - die vorhergesagten Texte sind aber **deutlich** besser!\n",
        "- Trainingszeit von LSTM und GRU kürzer.\n"
      ]
    },
    {
      "cell_type": "code",
      "metadata": {
        "id": "0HlKt70B_RnT",
        "colab": {
          "base_uri": "https://localhost:8080/",
          "height": 606
        },
        "outputId": "58b0ad01-604e-41a2-9d57-1dec91f5035c"
      },
      "source": [
        "# code here\n",
        "fig, ax = plt.subplots(1, 1)\n",
        "\n",
        "for n, h in [(\"simple rnn\", hist), (\"lstm\", hist_lstm), (\"gru\", hist_gru)]:\n",
        "\n",
        "    ax.plot(h.history[\"loss\"], label=f'{n} loss')\n",
        "    ax.plot(h.history[\"accuracy\"], label=f'{n} accuracy')\n",
        "    ax.plot(h.history[\"val_loss\"], label=f'{n} validation loss')\n",
        "    ax.plot(h.history[\"val_accuracy\"], label=f'{n} validation accuracy')\n",
        "\n",
        "ax.set_xlabel(\"Epoch\")\n",
        "ax.legend()\n",
        "\n",
        "fig.set_size_inches(20, 10)\n",
        "\n",
        "plt.show()"
      ],
      "execution_count": 21,
      "outputs": [
        {
          "output_type": "display_data",
          "data": {
            "image/png": "[encoded data removed]",
            "text/plain": [
              "<Figure size 1440x720 with 1 Axes>"
            ]
          },
          "metadata": {
            "tags": [],
            "needs_background": "light"
          }
        }
      ]
    },
    {
      "cell_type": "code",
      "metadata": {
        "id": "pBhZLFoNpvVD",
        "colab": {
          "base_uri": "https://localhost:8080/"
        },
        "outputId": "17aa915e-7cb8-4880-e1a6-6e5880bf6d2c"
      },
      "source": [
        "# Compare Output\n",
        "\n",
        "print(\"-\"*15, \"%9s\" % \"SimpleRNN\", \"-\"*15, \"\\n\")\n",
        "print(predict_sentence(\"ROMEO:\\n\", 200, one_hot, model)) \n",
        "print(\"-\"*15, \"%9s\" % \"LSTM\", \"-\"*15, \"\\n\")\n",
        "print(predict_sentence(\"ROMEO:\\n\", 200, one_hot, model_lstm)) \n",
        "print(\"-\"*15, \"%9s\" % \"GRU\", \"-\"*15, \"\\n\")\n",
        "print(predict_sentence(\"ROMEO:\\n\", 200, one_hot, model_gru)) "
      ],
      "execution_count": 22,
      "outputs": [
        {
          "output_type": "stream",
          "text": [
            "--------------- SimpleRNN --------------- \n",
            "\n",
            "ROMEO:\n",
            "The words of the will be shall be shall be shall be shall be shall be shall be shall be shall be shall be shall be shall be shall be shall be shall be shall be shall be shall be shall be shall be shal\n",
            "---------------      LSTM --------------- \n",
            "\n",
            "ROMEO:\n",
            "I will not so shall be the state to the state,\n",
            "And that with the strike to the state to the state,\n",
            "And that with the stranger be so such a such a such a such a such a such a such a such a such a such \n",
            "---------------       GRU --------------- \n",
            "\n",
            "ROMEO:\n",
            "What says the seat of the seat of the sea?\n",
            "\n",
            "PETRUCHIO:\n",
            "What says the seat of the seat,\n",
            "That we shall be so so so so so so so so souls\n",
            "To be so soul to the bright of the courtest of the court\n",
            "That shal\n"
          ],
          "name": "stdout"
        }
      ]
    },
    {
      "cell_type": "markdown",
      "metadata": {
        "id": "pMWgGgRZ_RnT"
      },
      "source": [
        "## 7.7 **Optional** Schriftsteller\n",
        "\n",
        "Mit den Erkenntnissen aus der Vorlesung, den vorherigen Übungsaufgaben und ein bisschen Python Erfahrung sind Sie nun in der Lage nicht nur einzele Buchstaben vorherzusagen, sondern könnten auch beliebig viele Zeichen generieren und dadurch ganze Bücher schreiben [lassen].\n",
        "\n",
        "Sie können für diese Aufgabe den ursprünglichen Datensatz anpassen und beispielsweise die Coronaschutzverordnung, wissenschaftliche Artikel oder Meldungen aus Tageszeitungen verwenden.\n",
        "\n",
        "Gelingt es Ihnen den 8ten Band von Harry Potter zu erstellen?\n",
        "\n",
        "**Ihre Aufgaben**\n",
        "\n",
        "(1) Was müssten Sie ändern, um mithilfe des bisherigen Modells ein ganzes Buch erstellen zu lassen? Glauben Sie, dass das Ergebnis lesbar wäre?"
      ]
    },
    {
      "cell_type": "markdown",
      "metadata": {
        "id": "yduJYx0HiaMr"
      },
      "source": [
        "> <Antwort hier einfügen>\n",
        "\n",
        "> **Musterlösung:** \n",
        "- Mehr Trainingszeit\n",
        "- Mehr RNN Units, damit sich das Netz mehr merken kann\n",
        "- Mehr Trainingsdaten\n",
        "- Ggf eingenes RNN erstellen, damit `model.predict` nicht nur ein Zeichen vorhersagen kann, sondern ganze Sätze. (Optimierung der Laufzeit.)"
      ]
    },
    {
      "cell_type": "markdown",
      "metadata": {
        "id": "Wyhz--mz_RnT"
      },
      "source": [
        "(2) Erstellen Sie ein neues Modell, welches zu einem gegebenen Text von wenigen Worten in der Lage ist, ein ganzes Buch vorherzusagen. Ihnen sind keine Grenzen gesetzt. Sie sind jetzt frei! 🧦 "
      ]
    },
    {
      "cell_type": "code",
      "metadata": {
        "id": "n2ZzbyYX_RnV"
      },
      "source": [
        "class CustomRNNModel(tf.keras.Model):\n",
        "    def __init__(self, vocab_size, rnn_units, rnn_layer_type = tf.keras.layers.GRU):\n",
        "        super().__init__(self)\n",
        "        # Put layers here. We will call them manually but store them here\n",
        "        self.rnn_layer = rnn_layer_type(rnn_units, return_sequences=True, return_state=True)\n",
        "        self.dense = tf.keras.layers.Dense(vocab_size, activation='softmax')\n",
        "\n",
        "    def call(self, inputs, states=None, return_state=False, training=False):\n",
        "        # Here we put our input through all out layers\n",
        "        x = tf.cast(inputs, dtype=float)\n",
        "        if states is None:\n",
        "            # Get an initial kind of empty state\n",
        "            states = self.rnn_layer.get_initial_state(x)\n",
        "        \n",
        "        x, states = self.rnn_layer(x, initial_state=states, training=training)\n",
        "        x = self.dense(x, training=training)\n",
        "\n",
        "        if return_state:\n",
        "            return x, states\n",
        "        else:\n",
        "            return x"
      ],
      "execution_count": 23,
      "outputs": []
    },
    {
      "cell_type": "code",
      "metadata": {
        "id": "4fiFktPV_RnV",
        "colab": {
          "base_uri": "https://localhost:8080/"
        },
        "outputId": "1aa44376-decd-455b-dd5c-5d4ad59c7919"
      },
      "source": [
        "literatur_model = CustomRNNModel(vocab_size=vocab_size, rnn_units=rnn_units)\n",
        "\n",
        "input_example_batch = X_train[0]\n",
        "input_example_batch = input_example_batch.reshape((1, *input_example_batch.shape))\n",
        "\n",
        "example_batch_predictions = literatur_model.predict(input_example_batch)\n",
        "print(input_example_batch.shape, y_train[0].shape, example_batch_predictions.shape)\n",
        "\n",
        "print(\"Test sequence:\", \"\\n\", \"-\" * 25, \"\\n\", untokenize(one_hot.decode(X_train[0])), \"\\n\", \"-\"*25)\n",
        "print(\"Expected result:\", \"\\n\", \"-\" * 25, \"\\n\", untokenize(one_hot.decode(y_train[0])), \"\\n\", \"-\"*25)\n",
        "print(\"Untrained prediction:\", \"\\n\", \"-\" * 25, \"\\n\", untokenize(one_hot.decode(example_batch_predictions[0])), \"\\n\", \"-\"*25)\n",
        "\n",
        "optimizer = tf.keras.optimizers.RMSprop(learning_rate=0.01)\n",
        "literatur_model.compile(loss='categorical_crossentropy', optimizer=optimizer, metrics=['accuracy'])\n",
        "\n",
        "literatur_model.summary()"
      ],
      "execution_count": 24,
      "outputs": [
        {
          "output_type": "stream",
          "text": [
            "(1, 100, 66) (100, 66) (1, 100, 66)\n",
            "Test sequence: \n",
            " ------------------------- \n",
            " vereign's face.\n",
            "I am the last of noble Edward's sons,\n",
            "Of whom thy father, Prince of Wales, was first \n",
            " -------------------------\n",
            "Expected result: \n",
            " ------------------------- \n",
            " ereign's face.\n",
            "I am the last of noble Edward's sons,\n",
            "Of whom thy father, Prince of Wales, was first: \n",
            " -------------------------\n",
            "Untrained prediction: \n",
            " ------------------------- \n",
            " e---3I$N'i&tR--[UNKNOWN]iitkgRz-zGSCRRs;:gsR[UNKNOWN]--Iggg-RRCgCsCCR.J&:gbUJgRzMz&tRt--RiIx3$R--[UNKNOWN];:$tA--.ggtCg&3x-R \n",
            " -------------------------\n",
            "Model: \"custom_rnn_model\"\n",
            "_________________________________________________________________\n",
            "Layer (type)                 Output Shape              Param #   \n",
            "=================================================================\n",
            "gru (GRU)                    multiple                  75264     \n",
            "_________________________________________________________________\n",
            "dense (Dense)                multiple                  8514      \n",
            "=================================================================\n",
            "Total params: 83,778\n",
            "Trainable params: 83,778\n",
            "Non-trainable params: 0\n",
            "_________________________________________________________________\n"
          ],
          "name": "stdout"
        }
      ]
    },
    {
      "cell_type": "code",
      "metadata": {
        "id": "9QuI2o2c_RnV",
        "colab": {
          "base_uri": "https://localhost:8080/"
        },
        "outputId": "8576653f-2734-4507-ef68-e0617122303e"
      },
      "source": [
        "t1 = time.time()\n",
        "hist_custom = literatur_model.fit(X_train, y_train,\n",
        "                           batch_size=BATCH_SIZE,\n",
        "                           epochs=EPOCHS,\n",
        "                           validation_data=(X_val, y_val))\n",
        "t2 = time.time()\n",
        "\n",
        "print(\"Training took:\", timedelta(seconds=t2-t1))"
      ],
      "execution_count": 25,
      "outputs": [
        {
          "output_type": "stream",
          "text": [
            "Epoch 1/20\n",
            "72/72 [==============================] - 15s 190ms/step - loss: 2.9631 - accuracy: 0.2468 - val_loss: 2.0939 - val_accuracy: 0.3890\n",
            "Epoch 2/20\n",
            "72/72 [==============================] - 13s 187ms/step - loss: 2.0178 - accuracy: 0.4108 - val_loss: 1.8231 - val_accuracy: 0.4640\n",
            "Epoch 3/20\n",
            "72/72 [==============================] - 13s 183ms/step - loss: 1.7908 - accuracy: 0.4688 - val_loss: 1.7069 - val_accuracy: 0.4904\n",
            "Epoch 4/20\n",
            "72/72 [==============================] - 13s 186ms/step - loss: 1.6814 - accuracy: 0.4965 - val_loss: 1.6434 - val_accuracy: 0.5072\n",
            "Epoch 5/20\n",
            "72/72 [==============================] - 14s 192ms/step - loss: 1.6150 - accuracy: 0.5151 - val_loss: 1.6008 - val_accuracy: 0.5205\n",
            "Epoch 6/20\n",
            "72/72 [==============================] - 13s 185ms/step - loss: 1.5678 - accuracy: 0.5266 - val_loss: 1.5704 - val_accuracy: 0.5285\n",
            "Epoch 7/20\n",
            "72/72 [==============================] - 13s 184ms/step - loss: 1.5397 - accuracy: 0.5341 - val_loss: 1.5415 - val_accuracy: 0.5369\n",
            "Epoch 8/20\n",
            "72/72 [==============================] - 14s 191ms/step - loss: 1.5104 - accuracy: 0.5406 - val_loss: 1.5472 - val_accuracy: 0.5349\n",
            "Epoch 9/20\n",
            "72/72 [==============================] - 13s 186ms/step - loss: 1.4955 - accuracy: 0.5451 - val_loss: 1.5270 - val_accuracy: 0.5405\n",
            "Epoch 10/20\n",
            "72/72 [==============================] - 13s 184ms/step - loss: 1.4772 - accuracy: 0.5496 - val_loss: 1.5156 - val_accuracy: 0.5445\n",
            "Epoch 11/20\n",
            "72/72 [==============================] - 13s 187ms/step - loss: 1.4652 - accuracy: 0.5538 - val_loss: 1.5074 - val_accuracy: 0.5473\n",
            "Epoch 12/20\n",
            "72/72 [==============================] - 13s 187ms/step - loss: 1.4605 - accuracy: 0.5545 - val_loss: 1.4997 - val_accuracy: 0.5468\n",
            "Epoch 13/20\n",
            "72/72 [==============================] - 13s 185ms/step - loss: 1.4495 - accuracy: 0.5559 - val_loss: 1.4966 - val_accuracy: 0.5476\n",
            "Epoch 14/20\n",
            "72/72 [==============================] - 13s 185ms/step - loss: 1.4376 - accuracy: 0.5599 - val_loss: 1.4808 - val_accuracy: 0.5544\n",
            "Epoch 15/20\n",
            "72/72 [==============================] - 13s 181ms/step - loss: 1.4347 - accuracy: 0.5613 - val_loss: 1.4857 - val_accuracy: 0.5491\n",
            "Epoch 16/20\n",
            "72/72 [==============================] - 13s 184ms/step - loss: 1.4337 - accuracy: 0.5613 - val_loss: 1.4716 - val_accuracy: 0.5552\n",
            "Epoch 17/20\n",
            "72/72 [==============================] - 14s 190ms/step - loss: 1.4245 - accuracy: 0.5625 - val_loss: 1.4753 - val_accuracy: 0.5544\n",
            "Epoch 18/20\n",
            "72/72 [==============================] - 13s 183ms/step - loss: 1.4176 - accuracy: 0.5646 - val_loss: 1.4782 - val_accuracy: 0.5515\n",
            "Epoch 19/20\n",
            "72/72 [==============================] - 13s 184ms/step - loss: 1.4155 - accuracy: 0.5646 - val_loss: 1.4776 - val_accuracy: 0.5541\n",
            "Epoch 20/20\n",
            "72/72 [==============================] - 13s 185ms/step - loss: 1.4119 - accuracy: 0.5656 - val_loss: 1.4733 - val_accuracy: 0.5549\n",
            "Training took: 0:04:28.914090\n"
          ],
          "name": "stdout"
        }
      ]
    },
    {
      "cell_type": "code",
      "metadata": {
        "id": "JYhQtFyT_RnW",
        "colab": {
          "base_uri": "https://localhost:8080/",
          "height": 606
        },
        "outputId": "482ae040-69ef-4323-8724-85a191b945b9"
      },
      "source": [
        "fig, ax = plt.subplots(1, 1)\n",
        "\n",
        "for n, h in [(\"simple rnn\", hist), (\"gru\", hist_gru), (\"custom\", hist_custom)]:\n",
        "\n",
        "    ax.plot(h.history[\"loss\"], label=f'{n} loss')\n",
        "    ax.plot(h.history[\"accuracy\"], label=f'{n} accuracy')\n",
        "    ax.plot(h.history[\"val_loss\"], label=f'{n} validation loss')\n",
        "    ax.plot(h.history[\"val_accuracy\"], label=f'{n} validation accuracy')\n",
        "\n",
        "ax.set_xlabel(\"Epoch\")\n",
        "ax.legend()\n",
        "\n",
        "fig.set_size_inches(20, 10)\n",
        "\n",
        "plt.show()"
      ],
      "execution_count": 26,
      "outputs": [
        {
          "output_type": "display_data",
          "data": {
            "image/png": "[encoded data removed]",
            "text/plain": [
              "<Figure size 1440x720 with 1 Axes>"
            ]
          },
          "metadata": {
            "tags": [],
            "needs_background": "light"
          }
        }
      ]
    },
    {
      "cell_type": "code",
      "metadata": {
        "id": "QE7snkJg_RnW"
      },
      "source": [
        "def create_text(amount_symbols, init_text, text_model):    \n",
        "    # Tokenize text\n",
        "    ret = tokenize(init_text)\n",
        "    \n",
        "    states = None\n",
        "    current_char = one_hot.encode(ret, dtype=float)\n",
        "    # For some reason we have to add one dimension\n",
        "    current_char = current_char.reshape(1, *current_char.shape)\n",
        "    \n",
        "    for i in range(amount_symbols):\n",
        "        current_char, states = text_model(current_char, return_state = True, states = states)\n",
        "        # Only add last char if several got \n",
        "        ret.append(one_hot.decode(current_char[0])[-1])\n",
        "        \n",
        "    return untokenize(ret)\n",
        "    "
      ],
      "execution_count": 27,
      "outputs": []
    },
    {
      "cell_type": "code",
      "metadata": {
        "id": "QWQ-b8AS_RnW",
        "colab": {
          "base_uri": "https://localhost:8080/"
        },
        "outputId": "37a2f19c-005a-434f-9519-729f48ab7ca4"
      },
      "source": [
        "created_text = create_text(250, \"ROMEO:\\n\", literatur_model)\n",
        "\n",
        "print(created_text)\n",
        "\n",
        "\n",
        "print(\"-\"*15, \"%9s\" % \"CustomRNN\", \"-\"*15, \"\\n\")\n",
        "print(predict_sentence(\"ROMEO:\\n\", 200, one_hot, literatur_model)) "
      ],
      "execution_count": 28,
      "outputs": [
        {
          "output_type": "stream",
          "text": [
            "ROMEO:\n",
            "Tete  tes t tes s t \n",
            "ts is\n",
            "es \n",
            "te s s  as s se\n",
            "is t \n",
            "ts se\n",
            "ts \n",
            "t ss s\n",
            "\n",
            " ss\n",
            "t s\n",
            "\n",
            "t s  t:\n",
            "Lo t \n",
            ":\n",
            "Ter ts  t senen n \n",
            "A  te\n",
            " t s s\n",
            "' s  tesesenerereres teses sen n tes sts s \n",
            "ts\n",
            "secenes tes teneneresenes s s ses s t s \n",
            "\n",
            "s  tenenerere\n",
            "isstsss\n",
            "\n",
            "ts s \n",
            "ts s\n",
            "--------------- CustomRNN --------------- \n",
            "\n",
            "ROMEO:\n",
            "The common me the common me the common of the court the common of the court the common of the court the common of the court the common of the court the common of the court the common of the court the \n"
          ],
          "name": "stdout"
        }
      ]
    }
  ]
}