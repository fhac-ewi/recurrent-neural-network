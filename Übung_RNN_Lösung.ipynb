{
 "cells": [
  {
   "cell_type": "markdown",
   "metadata": {
    "colab_type": "text",
    "id": "view-in-github"
   },
   "source": [
    "<a href=\"https://colab.research.google.com/github/fhac-ewi/recurrent-neural-network/blob/main/%C3%9Cbung_RNN_L%C3%B6sung.ipynb\" target=\"_parent\"><img src=\"https://colab.research.google.com/assets/colab-badge.svg\" alt=\"Open In Colab\"/></a>"
   ]
  },
  {
   "cell_type": "markdown",
   "metadata": {
    "id": "yYD6gvw1vwii"
   },
   "source": [
    "# Übung RNN\n",
    "\n",
    "## In dieser Übung ...\n",
    "... werden wir ein bisschen lyrisch. Am Ende werden Sie vielleicht noch der nächste Shakespear\n",
    "\n",
    "\n",
    "\n",
    "\n"
   ]
  },
  {
   "cell_type": "code",
   "execution_count": 1,
   "metadata": {
    "id": "ANQUdX5hyPTu"
   },
   "outputs": [
    {
     "name": "stdout",
     "output_type": "stream",
     "text": [
      "Keras Version: 2.4.3 ; Tensorflow version: 2.3.0 ; spacy version: 3.0.6 ; NumPy version: 1.18.5 Python version: 3.6.9\n"
     ]
    }
   ],
   "source": [
    "import tensorflow as tf\n",
    "import keras\n",
    "import spacy\n",
    "import numpy as np\n",
    "import sys\n",
    "print(\"Keras Version:\", keras.__version__, \"; Tensorflow version:\", tf.__version__, \"; spacy version:\", spacy.__version__, \"; NumPy version:\", np.__version__, \"Python version:\", \".\".join(str(x) for x in sys.version_info[:3]))\n",
    "\n",
    "\n",
    "import matplotlib.pyplot as plt\n",
    "from spacy.lang.en import English\n",
    "from sklearn.model_selection import train_test_split\n",
    "\n",
    "from datetime import datetime, timedelta\n",
    "import time"
   ]
  },
  {
   "cell_type": "code",
   "execution_count": 2,
   "metadata": {},
   "outputs": [],
   "source": [
    "def generate_heading(title):\n",
    "    title = str(title).upper()\n",
    "    return \"\\n\".join((f\"--{title}--\", \"_\" * (len(title) + 4)))"
   ]
  },
  {
   "cell_type": "code",
   "execution_count": 3,
   "metadata": {},
   "outputs": [],
   "source": [
    "def save_book(idx, title, text):\n",
    "    open(f\"./{idx} - {title}.txt\", 'wb').write((\"\\n\\n\\n\\n\".join((generate_heading(title), text))).encode(\"utf-8\"))"
   ]
  },
  {
   "cell_type": "code",
   "execution_count": 4,
   "metadata": {},
   "outputs": [],
   "source": [
    "def clean_book(txt):\n",
    "    started = False\n",
    "    after_page = False\n",
    "    ret_txt = []\n",
    "    for line in txt.split(\"\\n\"):\n",
    "        if started:\n",
    "            if after_page:\n",
    "                if len(line.strip()) == 0:\n",
    "                    pass\n",
    "                else:\n",
    "                    after_page = False\n",
    "                    ret_txt.append(line)\n",
    "            else:\n",
    "                if line.startswith(\"Page | \") or line.strip() == \"*\":\n",
    "                    after_page = True\n",
    "                else:\n",
    "                    ret_txt.append(line)\n",
    "        else:\n",
    "            if line.startswith(\"/\") or line.startswith(\"I\"):\n",
    "                started = True\n",
    "    return (\"\\n\".join(ret_txt)).strip()"
   ]
  },
  {
   "cell_type": "markdown",
   "metadata": {
    "id": "WglUJhhgyWSs"
   },
   "source": [
    "## x.1 Erstellen und Vorbereiten eines eigenen Datensatzes \n",
    "\n",
    "Zuerst müssen wir ein paar Daten über die Werke von Shakespear besorgen\n",
    "\n",
    "**Ihre Aufgaben**\n",
    "\n",
    "Führen Sie die folgende Codezelle aus, betrachten Sie den Datensatz und überlegen Sie, was Sie mit den Daten noch tun müssen\n",
    "\n",
    "Hinweis: Müssen Sie die Techte noch etwas bereinigen?"
   ]
  },
  {
   "cell_type": "code",
   "execution_count": 5,
   "metadata": {},
   "outputs": [
    {
     "name": "stdout",
     "output_type": "stream",
     "text": [
      "Length of text: 1115394 characters\n"
     ]
    }
   ],
   "source": [
    "path_to_file = tf.keras.utils.get_file('shakespeare.txt', 'https://storage.googleapis.com/download.tensorflow.org/data/shakespeare.txt')\n",
    "\n",
    "text = open(path_to_file, 'rb').read().decode(encoding='utf-8')\n",
    "print(f'Length of text: {len(text)} characters')"
   ]
  },
  {
   "cell_type": "code",
   "execution_count": 6,
   "metadata": {},
   "outputs": [
    {
     "name": "stdout",
     "output_type": "stream",
     "text": [
      "Length of text: 6461583 characters\n"
     ]
    }
   ],
   "source": [
    "books = [\n",
    "    (\"Harry Potter and the Philosophers stone\", \"https://raw.githubusercontent.com/formcept/whiteboard/master/nbviewer/notebooks/data/harrypotter/Book%201%20-%20The%20Philosopher's%20Stone.txt\"),\n",
    "    (\"Harry Potter ańd the Chamber Of Secrets\", \"https://raw.githubusercontent.com/formcept/whiteboard/master/nbviewer/notebooks/data/harrypotter/Book%202%20-%20The%20Chamber%20of%20Secrets.txt\"),\n",
    "    (\"Harry Potter and the Prisoner Of Azkaban\", \"https://raw.githubusercontent.com/formcept/whiteboard/master/nbviewer/notebooks/data/harrypotter/Book%203%20-%20The%20Prisoner%20of%20Azkaban.txt\"),\n",
    "    (\"Harry Potter and the Goblet Of Fire\", \"https://raw.githubusercontent.com/formcept/whiteboard/master/nbviewer/notebooks/data/harrypotter/Book%204%20-%20The%20Goblet%20of%20Fire.txt\"),\n",
    "    (\"Harry Potter and the Order Of The Phoenix\", \"https://raw.githubusercontent.com/formcept/whiteboard/master/nbviewer/notebooks/data/harrypotter/Book%205%20-%20The%20Order%20of%20the%20Phoenix.txt\"),\n",
    "    (\"Harry Potter and the Half Blood Prince\", \"https://raw.githubusercontent.com/formcept/whiteboard/master/nbviewer/notebooks/data/harrypotter/Book%206%20-%20The%20Half%20Blood%20Prince.txt\"),\n",
    "    (\"Harry Potter and the Deathly Hallows\", \"https://raw.githubusercontent.com/formcept/whiteboard/master/nbviewer/notebooks/data/harrypotter/Book%207%20-%20The%20Deathly%20Hallows.txt\")\n",
    "]\n",
    "\n",
    "downloaded_files = {}\n",
    "for i, (name, url) in enumerate(books):\n",
    "    downloaded_files[(i, name)] = keras.utils.get_file(f\"training_text_{i}.txt\", url)\n",
    "    \n",
    "processed_texts = {}\n",
    "\n",
    "for (i, name), path in downloaded_files.items():\n",
    "    text_load = open(path, 'rb').read().decode(encoding='utf-8')\n",
    "    processed_texts[name] = clean_book(text_load)\n",
    "    save_book(i + 1, name, processed_texts[name])\n",
    "    \n",
    "text = \"\\n\\n\".join(processed_texts.values())\n",
    "print(f'Length of text: {len(text)} characters')"
   ]
  },
  {
   "cell_type": "code",
   "execution_count": 7,
   "metadata": {},
   "outputs": [
    {
     "name": "stdout",
     "output_type": "stream",
     "text": [
      "THE BOY WHO LIVED \n",
      "\n",
      "Mr. and Mrs. Dursley, of number four, Privet Drive, \n",
      "were proud to say that they were perfectly normal, \n",
      "thank you very much. They were the last people you’d \n",
      "expect to be involved in anything strange or \n",
      "mysterious, because they \n"
     ]
    }
   ],
   "source": [
    "print(text[:250])"
   ]
  },
  {
   "cell_type": "markdown",
   "metadata": {},
   "source": [
    "Wir werden in unserem Fall ein vokabular aus Würtern erstellen auf dem das Netz trainiert wird.\n",
    "Überlegen Sie sich, wie Sie am besten die verschiedenen Worte aus dem Datensatz extrahieren können\n",
    "\n",
    "Hinweis: Vielleicht kann https://spacy.io/usage/spacy-101 hilfreich sein"
   ]
  },
  {
   "cell_type": "code",
   "execution_count": 8,
   "metadata": {},
   "outputs": [],
   "source": [
    "def tokenize(text):\n",
    "    return list(text)\n",
    "\n",
    "def untokenize(tokens):\n",
    "    return \"\".join(tokens)"
   ]
  },
  {
   "cell_type": "code",
   "execution_count": 9,
   "metadata": {},
   "outputs": [
    {
     "name": "stdout",
     "output_type": "stream",
     "text": [
      "Length of raw text: 6461583\n",
      "Length of tokenized text: 6461583\n",
      "Unique tokens: 92\n",
      "10 most used tokens: [(' ', 1113639), ('e', 572706), ('t', 393778), ('a', 376657), ('o', 368616), ('n', 310018), ('r', 305646), ('i', 297316), ('h', 280818), ('s', 278759)]\n"
     ]
    }
   ],
   "source": [
    "nlp = English()\n",
    "\n",
    "nlp.max_length = len(text)\n",
    "\n",
    "doc = nlp(text)\n",
    "tokenized_text = tokenize(text)\n",
    "\n",
    "tokens = {}\n",
    "for token in tokenized_text:\n",
    "    if token not in tokens:\n",
    "        tokens[token] = 0\n",
    "    tokens[token] = tokens[token] + 1\n",
    "\n",
    "tokens = sorted([(x[0], x[1]) for x in tokens.items()], key=lambda x: x[1], reverse=True)\n",
    "_ = [x[0] for x in tokens]\n",
    "\n",
    "print(\"Length of raw text:\", len(text))\n",
    "print(\"Length of tokenized text:\", len(tokenized_text))\n",
    "print(\"Unique tokens:\", len(tokens))\n",
    "print(\"10 most used tokens:\", tokens[:10])\n"
   ]
  },
  {
   "cell_type": "markdown",
   "metadata": {},
   "source": [
    "Wahrscheinlich werden es zu viele Worte sein. Überlegen Sie sich wie sie die Anzahl verkleinern können\n",
    "\n",
    "Hinweis: Eine Gute Anzahl könnten 2000 tokens sein"
   ]
  },
  {
   "cell_type": "code",
   "execution_count": 10,
   "metadata": {},
   "outputs": [
    {
     "name": "stdout",
     "output_type": "stream",
     "text": [
      "The first 2000 token make up 100.00%\n"
     ]
    }
   ],
   "source": [
    "first_selection = 2000\n",
    "selected_tokens = tokens[:first_selection]\n",
    "\n",
    "print(\"The first\", first_selection, f\"token make up {100 * sum(t[1] for t in selected_tokens)/sum(t[1] for t in tokens):6.2f}%\")"
   ]
  },
  {
   "cell_type": "markdown",
   "metadata": {
    "id": "a1CXeYPHyywV"
   },
   "source": [
    "## x.2 One Hot Kodierung\n",
    "\n",
    "Für das Training unseres RNN werden wir eine One Hot kodierung nutzen\n",
    "\n",
    "**Ihre Aufgaben**\n",
    "\n",
    "(1) Implementieren Sie also eine Methode, die für Ihre ausgewählten Tokens eine one hot codierung erzeigt und diese Dann auf den Text anwendet"
   ]
  },
  {
   "cell_type": "code",
   "execution_count": 11,
   "metadata": {
    "id": "miApcJctvteM"
   },
   "outputs": [],
   "source": [
    "class OneHot(object):\n",
    "    def __init__(self, tokens, unknown_token = \"[UNKNOWN]\"):\n",
    "        self.tokens = tokens\n",
    "        self.unknown_token = unknown_token\n",
    "        self.char_to_index = dict((token, i + 1) for i, token in enumerate(self.tokens))\n",
    "        self.index_to_char = dict((i + 1, token) for i, token in enumerate(self.tokens))\n",
    "        pass\n",
    "\n",
    "    def encode(self, text_as_tokens, dtype=np.uint16):\n",
    "        enc = np.empty((len(text_as_tokens), len(self.tokens) + 1), dtype=dtype)\n",
    "        #enc = np.empty((len(text_as_tokens)), dtype=dtype)\n",
    "        for i, token in enumerate(text_as_tokens):\n",
    "            enc[i] = self.encode_token(token=token, l=len(self.tokens) + 1, dtype=dtype)\n",
    "        return enc\n",
    "    \n",
    "    def encode_token(self, token, l, dtype=np.uint16):\n",
    "        ret = np.zeros((1, l), dtype=dtype)\n",
    "        if token not in self.char_to_index:\n",
    "            ret[0, 0] = 1\n",
    "            #return 1\n",
    "        else:\n",
    "            ret[0, self.char_to_index[token]] = 1\n",
    "            #return self.char_to_index[token]\n",
    "        return ret\n",
    "    \n",
    "    def decode(self, mat, unknown_token=None):            \n",
    "        return [self.decode_token(mat[x]) for x in range(mat.shape[0])]\n",
    "    \n",
    "    def decode_token(self, vec, unknown_token=None):\n",
    "        if unknown_token is None:\n",
    "            unknown_token = self.unknown_token\n",
    "        if isinstance(vec, tf.Tensor):\n",
    "            vec = vec.numpy()\n",
    "        if isinstance(vec, np.ndarray):\n",
    "            am = np.argmax(vec)\n",
    "        else:\n",
    "            am = vec\n",
    "        if am == 0:\n",
    "            return unknown_token\n",
    "        return self.index_to_char[am]"
   ]
  },
  {
   "cell_type": "code",
   "execution_count": 12,
   "metadata": {},
   "outputs": [],
   "source": [
    "one_hot = OneHot(tokens=[t[0] for t in selected_tokens])"
   ]
  },
  {
   "cell_type": "code",
   "execution_count": 13,
   "metadata": {},
   "outputs": [
    {
     "name": "stdout",
     "output_type": "stream",
     "text": [
      "(6461583, 93) bool\n"
     ]
    }
   ],
   "source": [
    "one_hot_text = one_hot.encode(tokenized_text, dtype=np.bool_)\n",
    "\n",
    "print(one_hot_text.shape, one_hot_text.dtype)"
   ]
  },
  {
   "cell_type": "markdown",
   "metadata": {},
   "source": [
    "(2) Für das training brauchen wir nun sequenzen einer bestimmten Länge, das heißt eine Abfolge gegebener Länge von Wörtern"
   ]
  },
  {
   "cell_type": "code",
   "execution_count": 14,
   "metadata": {
    "tags": []
   },
   "outputs": [
    {
     "name": "stdout",
     "output_type": "stream",
     "text": [
      "X_train: (42650, 100, 93) bool\n",
      "y_train: (42650, 100, 93) bool\n",
      "X_val  : (21326, 100, 93) bool\n",
      "y_val  : (21326, 100, 93) bool\n",
      "-------------------------\n",
      "Wormtail was right in front of \n",
      "him. \n",
      "\n",
      "“B-blood of the enemy ... forcibly taken ... you will ... \n",
      "re\n",
      "-------------------------\n",
      "ormtail was right in front of \n",
      "him. \n",
      "\n",
      "“B-blood of the enemy ... forcibly taken ... you will ... \n",
      "res\n",
      "-------------------------\n"
     ]
    }
   ],
   "source": [
    "sequence_len = 100\n",
    "target_shape = (int(one_hot_text.shape[0] / (sequence_len + 1)) , (sequence_len + 1) , one_hot_text.shape[1])\n",
    "\n",
    "one_hot_text_seq = np.empty(target_shape, dtype=one_hot_text.dtype)\n",
    "\n",
    "for s in range(one_hot_text_seq.shape[0]):\n",
    "    one_hot_text_seq[s] = one_hot_text[s * (sequence_len + 1):(s + 1) * (sequence_len + 1)]\n",
    "    \n",
    "VALIDATION_SIZE = 1/3\n",
    "\n",
    "X_train, X_val, y_train, y_val = train_test_split(one_hot_text_seq[:, :-1], one_hot_text_seq[:, 1:], test_size=VALIDATION_SIZE)\n",
    "\n",
    "print(\"X_train:\", X_train.shape, X_train.dtype)\n",
    "print(\"y_train:\", y_train.shape, y_train.dtype)\n",
    "print(\"X_val  :\", X_val.shape, X_val.dtype)\n",
    "print(\"y_val  :\", y_val.shape, y_val.dtype)\n",
    "\n",
    "print(\"-\" * 25)\n",
    "print(untokenize(one_hot.decode(X_train[0])))\n",
    "print(\"-\" * 25)\n",
    "print(untokenize(one_hot.decode(y_train[0])))\n",
    "print(\"-\" * 25)"
   ]
  },
  {
   "cell_type": "markdown",
   "metadata": {},
   "source": [
    "## x.3 Erstellen des RNN Modells\n",
    "\n",
    "TODO Einleitung schreiben.\n",
    "\n",
    "**Ihre Aufgaben**\n",
    "\n",
    "(1) TODO"
   ]
  },
  {
   "cell_type": "code",
   "execution_count": 15,
   "metadata": {},
   "outputs": [],
   "source": [
    "# Length of the vocabulary in chars\n",
    "vocab_size = X_train.shape[-1]\n",
    "\n",
    "# The embedding dimension\n",
    "embedding_dim = 100\n",
    "\n",
    "# Number of RNN units\n",
    "rnn_units = 1024"
   ]
  },
  {
   "cell_type": "code",
   "execution_count": 16,
   "metadata": {},
   "outputs": [],
   "source": [
    "class MyModel(tf.keras.Model):\n",
    "    def __init__(self, vocab_size, embedding_dim, rnn_units, rnn_type=tf.keras.layers.SimpleRNN):\n",
    "        super().__init__(self)\n",
    "        #self.embedding = tf.keras.layers.Embedding(vocab_size, embedding_dim)\n",
    "        self.rnn_layer = rnn_type(rnn_units, return_sequences=True, return_state=True) #, input_shape=(25, 2001))\n",
    "        self.dense = tf.keras.layers.Dense(vocab_size, activation='softmax')\n",
    "\n",
    "    def call(self, inputs, states=None, return_state=False, training=False):\n",
    "        x = tf.cast(inputs, dtype=tf.float32)\n",
    "        # x = self.embedding(inputs, training=training)\n",
    "        if states is None:\n",
    "            states = self.rnn_layer.get_initial_state(x)\n",
    "        x, *states = self.rnn_layer(x, initial_state=states, training=training)\n",
    "        x = self.dense(x, training=training)\n",
    "\n",
    "        if return_state:\n",
    "            return x, states\n",
    "        else:\n",
    "            return x"
   ]
  },
  {
   "cell_type": "code",
   "execution_count": 17,
   "metadata": {},
   "outputs": [
    {
     "name": "stdout",
     "output_type": "stream",
     "text": [
      "(1, 100, 93) (100, 93) (1, 100, 93)\n",
      "Test sequence: \n",
      " ------------------------- \n",
      " Wormtail was right in front of \n",
      "him. \n",
      "\n",
      "“B-blood of the enemy ... forcibly taken ... you will ... \n",
      "re \n",
      " -------------------------\n",
      "Expected result: \n",
      " ------------------------- \n",
      " ormtail was right in front of \n",
      "him. \n",
      "\n",
      "“B-blood of the enemy ... forcibly taken ... you will ... \n",
      "res \n",
      " -------------------------\n",
      "Untrained prediction: \n",
      " ------------------------- \n",
      " AyHI.•••s—/••••”\"\\\\a>\\e•C'p\\—Hv'\"zszI''6VN|mEyXvXHv.-———R ssszzfze.H(’|m“s5•d.R\\zffzzEOI—sxmsXffz'4p \n",
      " -------------------------\n"
     ]
    }
   ],
   "source": [
    "SELECTED_ARCH = tf.keras.layers.GRU\n",
    "\n",
    "model = MyModel(\n",
    "        # Be sure the vocabulary size matches the `StringLookup` layers.\n",
    "        vocab_size=vocab_size,\n",
    "        embedding_dim=embedding_dim,\n",
    "        rnn_units=rnn_units,\n",
    "        rnn_type=SELECTED_ARCH\n",
    "        )\n",
    "\n",
    "input_example_batch = X_train[0]\n",
    "input_example_batch = input_example_batch.reshape((1, *input_example_batch.shape))\n",
    "\n",
    "example_batch_predictions = model(input_example_batch)\n",
    "print(input_example_batch.shape, y_train[0].shape, example_batch_predictions.shape)\n",
    "\n",
    "print(\"Test sequence:\", \"\\n\", \"-\" * 25, \"\\n\", untokenize(one_hot.decode(X_train[0])), \"\\n\", \"-\"*25)\n",
    "print(\"Expected result:\", \"\\n\", \"-\" * 25, \"\\n\", untokenize(one_hot.decode(y_train[0])), \"\\n\", \"-\"*25)\n",
    "print(\"Untrained prediction:\", \"\\n\", \"-\" * 25, \"\\n\", untokenize(one_hot.decode(example_batch_predictions[0])), \"\\n\", \"-\"*25)\n",
    "\n",
    "model.compile(loss='categorical_crossentropy', optimizer='adam', metrics=['accuracy'])"
   ]
  },
  {
   "cell_type": "markdown",
   "metadata": {
    "id": "axndj50eyWrw"
   },
   "source": [
    "## x.4 Training eines RNN Modells\n",
    "\n",
    "TODO Einleitung schreiben.\n",
    "\n",
    "**Ihre Aufgaben**\n",
    "\n",
    "(1) TODO"
   ]
  },
  {
   "cell_type": "code",
   "execution_count": 18,
   "metadata": {},
   "outputs": [],
   "source": [
    "class colors:\n",
    "    ok = '\\033[92m'\n",
    "    fail = '\\033[91m'\n",
    "    close = '\\033[0m'"
   ]
  },
  {
   "cell_type": "code",
   "execution_count": 19,
   "metadata": {
    "id": "iGpNzqcuyW5-"
   },
   "outputs": [
    {
     "name": "stdout",
     "output_type": "stream",
     "text": [
      "Model: \"my_model\"\n",
      "_________________________________________________________________\n",
      "Layer (type)                 Output Shape              Param #   \n",
      "=================================================================\n",
      "gru (GRU)                    multiple                  3437568   \n",
      "_________________________________________________________________\n",
      "dense (Dense)                multiple                  95325     \n",
      "=================================================================\n",
      "Total params: 3,532,893\n",
      "Trainable params: 3,532,893\n",
      "Non-trainable params: 0\n",
      "_________________________________________________________________\n",
      "Epoch 1/20\n",
      "  2/667 [..............................] - ETA: 1:05 - loss: 4.5036 - accuracy: 0.0907WARNING:tensorflow:Callbacks method `on_train_batch_end` is slow compared to the batch time (batch time: 0.0386s vs `on_train_batch_end` time: 0.0789s). Check your callbacks.\n",
      "667/667 [==============================] - 75s 112ms/step - loss: 2.2332 - accuracy: 0.3817 - val_loss: 1.7669 - val_accuracy: 0.4878\n",
      "Epoch 2/20\n",
      "667/667 [==============================] - 78s 116ms/step - loss: 1.5585 - accuracy: 0.5452 - val_loss: 1.4167 - val_accuracy: 0.5831\n",
      "Epoch 3/20\n",
      "667/667 [==============================] - 77s 115ms/step - loss: 1.3296 - accuracy: 0.6059 - val_loss: 1.2824 - val_accuracy: 0.6172\n",
      "Epoch 4/20\n",
      "667/667 [==============================] - 76s 114ms/step - loss: 1.2263 - accuracy: 0.6325 - val_loss: 1.2197 - val_accuracy: 0.6344\n",
      "Epoch 5/20\n",
      "667/667 [==============================] - 77s 116ms/step - loss: 1.1643 - accuracy: 0.6481 - val_loss: 1.1825 - val_accuracy: 0.6434\n",
      "Epoch 6/20\n",
      "667/667 [==============================] - 76s 113ms/step - loss: 1.1191 - accuracy: 0.6596 - val_loss: 1.1618 - val_accuracy: 0.6496\n",
      "Epoch 7/20\n",
      "667/667 [==============================] - 76s 113ms/step - loss: 1.0823 - accuracy: 0.6692 - val_loss: 1.1473 - val_accuracy: 0.6541\n",
      "Epoch 8/20\n",
      "667/667 [==============================] - 76s 113ms/step - loss: 1.0504 - accuracy: 0.6775 - val_loss: 1.1442 - val_accuracy: 0.6551\n",
      "Epoch 9/20\n",
      "667/667 [==============================] - 76s 114ms/step - loss: 1.0212 - accuracy: 0.6854 - val_loss: 1.1446 - val_accuracy: 0.6556\n",
      "Epoch 10/20\n",
      "667/667 [==============================] - 76s 114ms/step - loss: 0.9938 - accuracy: 0.6928 - val_loss: 1.1475 - val_accuracy: 0.6563\n",
      "Epoch 11/20\n",
      "667/667 [==============================] - 75s 113ms/step - loss: 0.9678 - accuracy: 0.7000 - val_loss: 1.1564 - val_accuracy: 0.6551\n",
      "Epoch 12/20\n",
      "667/667 [==============================] - 76s 114ms/step - loss: 0.9437 - accuracy: 0.7068 - val_loss: 1.1628 - val_accuracy: 0.6551\n",
      "Epoch 13/20\n",
      "667/667 [==============================] - 76s 114ms/step - loss: 0.9209 - accuracy: 0.7130 - val_loss: 1.1718 - val_accuracy: 0.6537\n",
      "Epoch 14/20\n",
      "667/667 [==============================] - 76s 114ms/step - loss: 0.9007 - accuracy: 0.7189 - val_loss: 1.1867 - val_accuracy: 0.6515\n",
      "Epoch 15/20\n",
      "667/667 [==============================] - 78s 117ms/step - loss: 0.8821 - accuracy: 0.7242 - val_loss: 1.2034 - val_accuracy: 0.6492\n",
      "Epoch 16/20\n",
      "667/667 [==============================] - 76s 114ms/step - loss: 0.8657 - accuracy: 0.7289 - val_loss: 1.2141 - val_accuracy: 0.6486\n",
      "Epoch 17/20\n",
      "667/667 [==============================] - 79s 119ms/step - loss: 0.8508 - accuracy: 0.7327 - val_loss: 1.2269 - val_accuracy: 0.6464\n",
      "Epoch 18/20\n",
      "667/667 [==============================] - 78s 117ms/step - loss: 0.8381 - accuracy: 0.7365 - val_loss: 1.2384 - val_accuracy: 0.6437\n",
      "Epoch 19/20\n",
      "667/667 [==============================] - 79s 118ms/step - loss: 0.8266 - accuracy: 0.7396 - val_loss: 1.2501 - val_accuracy: 0.6446\n",
      "Epoch 20/20\n",
      "667/667 [==============================] - 77s 116ms/step - loss: 0.8172 - accuracy: 0.7424 - val_loss: 1.2601 - val_accuracy: 0.6438\n",
      "Training took: 0:25:34.553592\n"
     ]
    }
   ],
   "source": [
    "EPOCHS = 20\n",
    "\n",
    "model.summary()\n",
    "\n",
    "t1 = time.time()\n",
    "hist = model.fit(X_train, y_train,\n",
    "                  batch_size=64,\n",
    "                  epochs=EPOCHS,\n",
    "                  validation_data=(X_val, y_val))\n",
    "t2 = time.time()\n",
    "\n",
    "print(\"Training took:\", timedelta(seconds=t2-t1))"
   ]
  },
  {
   "cell_type": "code",
   "execution_count": 20,
   "metadata": {},
   "outputs": [
    {
     "data": {
      "image/png": "[encoded data removed]",
      "text/plain": [
       "<Figure size 1440x720 with 1 Axes>"
      ]
     },
     "metadata": {
      "needs_background": "light"
     },
     "output_type": "display_data"
    }
   ],
   "source": [
    "fig, ax = plt.subplots(1, 1)\n",
    "\n",
    "ax.plot(hist.history[\"loss\"], label='loss')\n",
    "ax.plot(hist.history[\"accuracy\"], label='accuracy')\n",
    "ax.plot(hist.history[\"val_loss\"], label='validation loss')\n",
    "ax.plot(hist.history[\"val_accuracy\"], label='validation accuracy')\n",
    "ax.set_xlabel(\"Epoch\")\n",
    "ax.legend()\n",
    "\n",
    "fig.set_size_inches(20, 10)\n",
    "\n",
    "plt.show()"
   ]
  },
  {
   "cell_type": "code",
   "execution_count": 21,
   "metadata": {},
   "outputs": [],
   "source": [
    "class OneStep(tf.keras.Model):\n",
    "    def __init__(self, model, one_hot, temperature=1.0):\n",
    "        super().__init__()\n",
    "        self.temperature = temperature\n",
    "        self.model = model\n",
    "        self.one_hot = one_hot\n",
    "\n",
    "    def generate_one_step(self, inputs, states=None):        \n",
    "        input_encoded = one_hot.encode(inputs, dtype=np.uint16)\n",
    "        input_encoded = input_encoded.reshape((1, *input_encoded.shape))\n",
    "        \n",
    "\n",
    "        # Run the model.\n",
    "        # predicted_logits.shape is [batch, char, next_char_logits]\n",
    "        pred, states = self.model(inputs=input_encoded, states=states, return_state=True)\n",
    "        \n",
    "        # Convert from token ids to characters\n",
    "        predicted_token = self.one_hot.decode(pred[0])\n",
    "    \n",
    "        # Return the characters and model state.\n",
    "        return predicted_token[-1], states"
   ]
  },
  {
   "cell_type": "code",
   "execution_count": 22,
   "metadata": {},
   "outputs": [],
   "source": [
    "def generate_text(initial_chars, amount_generation, one_step_model):\n",
    "    initial_chars = tokenize(initial_chars)\n",
    "    start = time.time()\n",
    "    states = None\n",
    "    next_char = initial_chars\n",
    "    result = initial_chars\n",
    "\n",
    "    for n in range(amount_generation):\n",
    "        next_char, states = one_step_model.generate_one_step(next_char, states=states)\n",
    "        result.append(next_char)\n",
    "        if (n+1) % 10000 == 0:\n",
    "            print(\"Generation step\", n+1, \"/\", amount_generation)\n",
    "\n",
    "    end = time.time()\n",
    "    return untokenize(result), end - start"
   ]
  },
  {
   "cell_type": "code",
   "execution_count": 23,
   "metadata": {},
   "outputs": [],
   "source": [
    "one_step = OneStep(model, one_hot)"
   ]
  },
  {
   "cell_type": "code",
   "execution_count": 24,
   "metadata": {},
   "outputs": [
    {
     "name": "stdout",
     "output_type": "stream",
     "text": [
      "Generation step 10000 / 20000\n",
      "Generation step 20000 / 20000\n",
      "-------------------------\n",
      "THE BOY WAKES UP\n",
      "\n",
      "\n",
      "\n",
      "\n",
      "Harry Potter and the Goblet of Fire - J.K. Rowling \n",
      "\n",
      "\n",
      "\n",
      "\n",
      "“They were going to come and help your wand,” said \n",
      "Harry. “The power to repeat me and my prophecy in \n",
      "the country,” said Mrs. Weasley, starting to puls \n",
      "himself up and down the stairs as she strode back to \n",
      "the castle. \n",
      "\n",
      "“I think we should think of them,” said Harry, \n",
      "and he stood up and saw that it had been staring \n",
      "at him with a strange angry whole body and a large \n",
      "red spark in the corner came the biggest to the stars ... \n",
      "\n",
      "Harry was sure the rest of the class had been stuck in \n",
      "the fire. \n",
      "\n",
      "“I don’t want to stay here, Harry,” said Mrs. Weasley, \n",
      "pulling out his wand. “I think we should go and \n",
      "walk to a time of my parents, which is going to go \n",
      "and have a go at my mother and find him.” \n",
      "\n",
      "“But what do you think they’d be able to do it again? \n",
      "\n",
      "I don’t want to help you, Harry. ...” \n",
      "\n",
      "“You think you’re doing and a little boy in his life \n",
      "he looked at Harry as a good and everyone else \n",
      "would have been a bit of\n",
      "-------------------------\n",
      "Run time: 0:01:12.782031\n",
      "-------------------------\n"
     ]
    }
   ],
   "source": [
    "generated_book_title = \"Harry Potter and the learned machine\"\n",
    "generated_book_len = 20_000\n",
    "generated_book_first = \"THE BOY WAKES UP\\n\\n\".upper()\n",
    "\n",
    "generated_text, t = generate_text(initial_chars=generated_book_first, amount_generation=generated_book_len, one_step_model=one_step)\n",
    "print(\"-\" * 25)\n",
    "save_book(8, generated_book_title, generated_text)\n",
    "print(generated_text[:1000])\n",
    "print(\"-\" * 25)\n",
    "print(\"Run time:\", timedelta(seconds=t))\n",
    "print(\"-\" * 25)"
   ]
  },
  {
   "cell_type": "markdown",
   "metadata": {
    "id": "0d7pKNy1ycN7"
   },
   "source": [
    "## x.5 Vergleich mit LSTM und GRU\n",
    "\n",
    "TODO Einleitung schreiben.\n",
    "\n",
    "**Ihre Aufgaben**\n",
    "\n",
    "(1) TODO"
   ]
  },
  {
   "cell_type": "code",
   "execution_count": null,
   "metadata": {
    "id": "IehQ7h3uyeY6"
   },
   "outputs": [],
   "source": []
  },
  {
   "cell_type": "markdown",
   "metadata": {
    "id": "ohXd9Bfgye0I"
   },
   "source": [
    "## x.6 (Optional) Try it yourself\n",
    "\n",
    "TODO Einleitung schreiben.\n",
    "\n",
    "**Ihre Aufgaben**\n",
    "\n",
    "(1) TODO"
   ]
  },
  {
   "cell_type": "code",
   "execution_count": null,
   "metadata": {
    "id": "emVlfQF3yhI_"
   },
   "outputs": [],
   "source": []
  },
  {
   "cell_type": "markdown",
   "metadata": {
    "id": "gHzMWCO3ygRe"
   },
   "source": [
    "## Wusstest du? \n",
    "Mit dem Wissen aus dieser Vorlesungseinheit/Übung könntest du deine eigene Autovervollständigung programmieren. \n",
    "\n",
    "TODO Erklären wie das geht. Nützliche Links einstreuen."
   ]
  }
 ],
 "metadata": {
  "colab": {
   "authorship_tag": "ABX9TyMq+K20Puo5Sv9kQTS6dlDP",
   "include_colab_link": true,
   "name": "Übung-RNN-Lösung.ipynb",
   "provenance": []
  },
  "kernelspec": {
   "display_name": "Python 3",
   "language": "python",
   "name": "python3"
  },
  "language_info": {
   "codemirror_mode": {
    "name": "ipython",
    "version": 3
   },
   "file_extension": ".py",
   "mimetype": "text/x-python",
   "name": "python",
   "nbconvert_exporter": "python",
   "pygments_lexer": "ipython3",
   "version": "3.6.9"
  }
 },
 "nbformat": 4,
 "nbformat_minor": 4
}
