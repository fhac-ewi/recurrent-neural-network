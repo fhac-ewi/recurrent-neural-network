{
 "cells": [
  {
   "cell_type": "markdown",
   "metadata": {
    "colab_type": "text",
    "id": "view-in-github"
   },
   "source": [
    "<a href=\"https://colab.research.google.com/github/fhac-ewi/recurrent-neural-network/blob/main/%C3%9Cbung_RNN_L%C3%B6sung.ipynb\" target=\"_parent\"><img src=\"https://colab.research.google.com/assets/colab-badge.svg\" alt=\"Open In Colab\"/></a>"
   ]
  },
  {
   "cell_type": "markdown",
   "metadata": {
    "id": "yYD6gvw1vwii"
   },
   "source": [
    "# Übung RNN\n",
    "\n",
    "## In dieser Übung ...\n",
    "... beschäftigen wir uns mit rekurrenten Neuronen. \n",
    "\n",
    "TODO Vervollständigung, Inhalt und Ziele der Übung herausstellen.\n",
    "\n",
    "\n",
    "\n",
    "\n"
   ]
  },
  {
   "cell_type": "markdown",
   "metadata": {
    "id": "a1CXeYPHyywV"
   },
   "source": [
    "## x.1 One Hot Kodierung\n",
    "\n",
    "TODO Einleitung schreiben.\n",
    "\n",
    "**Ihre Aufgaben**\n",
    "\n",
    "(1) TODO (Weitere Aufgaben als weitere Textzelle einfügen, damit man theoretisch direkt die Antwort unter die Aufgabe programmieren kann)"
   ]
  },
  {
   "cell_type": "code",
   "execution_count": null,
   "metadata": {
    "id": "ANQUdX5hyPTu"
   },
   "outputs": [],
   "source": []
  },
  {
   "cell_type": "markdown",
   "metadata": {
    "id": "WglUJhhgyWSs"
   },
   "source": [
    "## x.2 Erstellen und Vorbereiten eines eigenen Datensatzes \n",
    "\n",
    "TODO Einleitung schreiben.\n",
    "\n",
    "**Ihre Aufgaben**\n",
    "\n",
    "(1) TODO"
   ]
  },
  {
   "cell_type": "code",
   "execution_count": null,
   "metadata": {
    "id": "miApcJctvteM"
   },
   "outputs": [],
   "source": []
  },
  {
   "cell_type": "markdown",
   "metadata": {},
   "source": [
    "## x.3 Erstellen des RNN Modells\n",
    "\n",
    "TODO Einleitung schreiben.\n",
    "\n",
    "**Ihre Aufgaben**\n",
    "\n",
    "(1) TODO"
   ]
  },
  {
   "cell_type": "code",
   "execution_count": null,
   "metadata": {},
   "outputs": [],
   "source": []
  },
  {
   "cell_type": "markdown",
   "metadata": {
    "id": "axndj50eyWrw"
   },
   "source": [
    "## x.4 Training eines RNN Modells\n",
    "\n",
    "TODO Einleitung schreiben.\n",
    "\n",
    "**Ihre Aufgaben**\n",
    "\n",
    "(1) TODO"
   ]
  },
  {
   "cell_type": "code",
   "execution_count": null,
   "metadata": {
    "id": "iGpNzqcuyW5-"
   },
   "outputs": [],
   "source": []
  },
  {
   "cell_type": "markdown",
   "metadata": {
    "id": "0d7pKNy1ycN7"
   },
   "source": [
    "## x.5 Vergleich mit LSTM und GRU\n",
    "\n",
    "TODO Einleitung schreiben.\n",
    "\n",
    "**Ihre Aufgaben**\n",
    "\n",
    "(1) TODO"
   ]
  },
  {
   "cell_type": "code",
   "execution_count": null,
   "metadata": {
    "id": "IehQ7h3uyeY6"
   },
   "outputs": [],
   "source": []
  },
  {
   "cell_type": "markdown",
   "metadata": {
    "id": "ohXd9Bfgye0I"
   },
   "source": [
    "## x.6 (Optional) Try it yourself\n",
    "\n",
    "TODO Einleitung schreiben.\n",
    "\n",
    "**Ihre Aufgaben**\n",
    "\n",
    "(1) TODO"
   ]
  },
  {
   "cell_type": "code",
   "execution_count": null,
   "metadata": {
    "id": "emVlfQF3yhI_"
   },
   "outputs": [],
   "source": []
  },
  {
   "cell_type": "markdown",
   "metadata": {
    "id": "gHzMWCO3ygRe"
   },
   "source": [
    "## Wusstest du? \n",
    "Mit dem Wissen aus dieser Vorlesungseinheit/Übung könntest du deine eigene Autovervollständigung programmieren. \n",
    "\n",
    "TODO Erklären wie das geht. Nützliche Links einstreuen."
   ]
  }
 ],
 "metadata": {
  "colab": {
   "authorship_tag": "ABX9TyMq+K20Puo5Sv9kQTS6dlDP",
   "include_colab_link": true,
   "name": "Übung-RNN-Lösung.ipynb",
   "provenance": []
  },
  "kernelspec": {
   "display_name": "Python 3",
   "language": "python",
   "name": "python3"
  },
  "language_info": {
   "codemirror_mode": {
    "name": "ipython",
    "version": 3
   },
   "file_extension": ".py",
   "mimetype": "text/x-python",
   "name": "python",
   "nbconvert_exporter": "python",
   "pygments_lexer": "ipython3",
   "version": "3.7.10"
  }
 },
 "nbformat": 4,
 "nbformat_minor": 4
}
