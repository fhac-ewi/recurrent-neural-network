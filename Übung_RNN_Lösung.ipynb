{
  "nbformat": 4,
  "nbformat_minor": 0,
  "metadata": {
    "colab": {
      "name": "Übung-RNN-Lösung.ipynb",
      "provenance": [],
      "toc_visible": true,
      "include_colab_link": true
    },
    "kernelspec": {
      "display_name": "Python 3",
      "language": "python",
      "name": "python3"
    },
    "language_info": {
      "codemirror_mode": {
        "name": "ipython",
        "version": 3
      },
      "file_extension": ".py",
      "mimetype": "text/x-python",
      "name": "python",
      "nbconvert_exporter": "python",
      "pygments_lexer": "ipython3",
      "version": "3.6.9"
    },
    "accelerator": "GPU",
    "widgets": {
      "application/vnd.jupyter.widget-state+json": {
        "edd79fbf7b984e1cb8009bba138b2976": {
          "model_module": "@jupyter-widgets/controls",
          "model_name": "VBoxModel",
          "state": {
            "_view_name": "VBoxView",
            "_dom_classes": [
              "widget-interact"
            ],
            "_model_name": "VBoxModel",
            "_view_module": "@jupyter-widgets/controls",
            "_model_module_version": "1.5.0",
            "_view_count": null,
            "_view_module_version": "1.5.0",
            "box_style": "",
            "layout": "IPY_MODEL_74cd8fe3f687492d9194929f156d7a01",
            "_model_module": "@jupyter-widgets/controls",
            "children": [
              "IPY_MODEL_2104895b045a4494b6abefd37f5975be",
              "IPY_MODEL_239d85839f744161a882b6f879c6e6e9"
            ]
          }
        },
        "74cd8fe3f687492d9194929f156d7a01": {
          "model_module": "@jupyter-widgets/base",
          "model_name": "LayoutModel",
          "state": {
            "_view_name": "LayoutView",
            "grid_template_rows": null,
            "right": null,
            "justify_content": null,
            "_view_module": "@jupyter-widgets/base",
            "overflow": null,
            "_model_module_version": "1.2.0",
            "_view_count": null,
            "flex_flow": null,
            "width": null,
            "min_width": null,
            "border": null,
            "align_items": null,
            "bottom": null,
            "_model_module": "@jupyter-widgets/base",
            "top": null,
            "grid_column": null,
            "overflow_y": null,
            "overflow_x": null,
            "grid_auto_flow": null,
            "grid_area": null,
            "grid_template_columns": null,
            "flex": null,
            "_model_name": "LayoutModel",
            "justify_items": null,
            "grid_row": null,
            "max_height": null,
            "align_content": null,
            "visibility": null,
            "align_self": null,
            "height": null,
            "min_height": null,
            "padding": null,
            "grid_auto_rows": null,
            "grid_gap": null,
            "max_width": null,
            "order": null,
            "_view_module_version": "1.2.0",
            "grid_template_areas": null,
            "object_position": null,
            "object_fit": null,
            "grid_auto_columns": null,
            "margin": null,
            "display": null,
            "left": null
          }
        },
        "2104895b045a4494b6abefd37f5975be": {
          "model_module": "@jupyter-widgets/controls",
          "model_name": "TextModel",
          "state": {
            "_view_name": "TextView",
            "style": "IPY_MODEL_590354b8eb6948a590c3e36852345a9b",
            "_dom_classes": [],
            "description": "Your text:",
            "_model_name": "TextModel",
            "placeholder": "Type something",
            "_view_module": "@jupyter-widgets/controls",
            "_model_module_version": "1.5.0",
            "value": "ROME",
            "_view_count": null,
            "disabled": false,
            "_view_module_version": "1.5.0",
            "continuous_update": true,
            "description_tooltip": null,
            "_model_module": "@jupyter-widgets/controls",
            "layout": "IPY_MODEL_f460354e68c44a3193d88cf3502e0d34"
          }
        },
        "239d85839f744161a882b6f879c6e6e9": {
          "model_module": "@jupyter-widgets/output",
          "model_name": "OutputModel",
          "state": {
            "_view_name": "OutputView",
            "msg_id": "",
            "_dom_classes": [],
            "_model_name": "OutputModel",
            "outputs": [
              {
                "output_type": "stream",
                "metadata": {
                  "tags": []
                },
                "text": "I think the next will be \"O\" after you said \"ROME\"\n",
                "stream": "stdout"
              }
            ],
            "_view_module": "@jupyter-widgets/output",
            "_model_module_version": "1.0.0",
            "_view_count": null,
            "_view_module_version": "1.0.0",
            "layout": "IPY_MODEL_aa1f3d2a8375432d889fd26be69a62b9",
            "_model_module": "@jupyter-widgets/output"
          }
        },
        "590354b8eb6948a590c3e36852345a9b": {
          "model_module": "@jupyter-widgets/controls",
          "model_name": "DescriptionStyleModel",
          "state": {
            "_view_name": "StyleView",
            "_model_name": "DescriptionStyleModel",
            "description_width": "",
            "_view_module": "@jupyter-widgets/base",
            "_model_module_version": "1.5.0",
            "_view_count": null,
            "_view_module_version": "1.2.0",
            "_model_module": "@jupyter-widgets/controls"
          }
        },
        "f460354e68c44a3193d88cf3502e0d34": {
          "model_module": "@jupyter-widgets/base",
          "model_name": "LayoutModel",
          "state": {
            "_view_name": "LayoutView",
            "grid_template_rows": null,
            "right": null,
            "justify_content": null,
            "_view_module": "@jupyter-widgets/base",
            "overflow": null,
            "_model_module_version": "1.2.0",
            "_view_count": null,
            "flex_flow": null,
            "width": null,
            "min_width": null,
            "border": null,
            "align_items": null,
            "bottom": null,
            "_model_module": "@jupyter-widgets/base",
            "top": null,
            "grid_column": null,
            "overflow_y": null,
            "overflow_x": null,
            "grid_auto_flow": null,
            "grid_area": null,
            "grid_template_columns": null,
            "flex": null,
            "_model_name": "LayoutModel",
            "justify_items": null,
            "grid_row": null,
            "max_height": null,
            "align_content": null,
            "visibility": null,
            "align_self": null,
            "height": null,
            "min_height": null,
            "padding": null,
            "grid_auto_rows": null,
            "grid_gap": null,
            "max_width": null,
            "order": null,
            "_view_module_version": "1.2.0",
            "grid_template_areas": null,
            "object_position": null,
            "object_fit": null,
            "grid_auto_columns": null,
            "margin": null,
            "display": null,
            "left": null
          }
        },
        "aa1f3d2a8375432d889fd26be69a62b9": {
          "model_module": "@jupyter-widgets/base",
          "model_name": "LayoutModel",
          "state": {
            "_view_name": "LayoutView",
            "grid_template_rows": null,
            "right": null,
            "justify_content": null,
            "_view_module": "@jupyter-widgets/base",
            "overflow": null,
            "_model_module_version": "1.2.0",
            "_view_count": null,
            "flex_flow": null,
            "width": null,
            "min_width": null,
            "border": null,
            "align_items": null,
            "bottom": null,
            "_model_module": "@jupyter-widgets/base",
            "top": null,
            "grid_column": null,
            "overflow_y": null,
            "overflow_x": null,
            "grid_auto_flow": null,
            "grid_area": null,
            "grid_template_columns": null,
            "flex": null,
            "_model_name": "LayoutModel",
            "justify_items": null,
            "grid_row": null,
            "max_height": null,
            "align_content": null,
            "visibility": null,
            "align_self": null,
            "height": null,
            "min_height": null,
            "padding": null,
            "grid_auto_rows": null,
            "grid_gap": null,
            "max_width": null,
            "order": null,
            "_view_module_version": "1.2.0",
            "grid_template_areas": null,
            "object_position": null,
            "object_fit": null,
            "grid_auto_columns": null,
            "margin": null,
            "display": null,
            "left": null
          }
        }
      }
    }
  },
  "cells": [
    {
      "cell_type": "markdown",
      "metadata": {
        "id": "view-in-github",
        "colab_type": "text"
      },
      "source": [
        "<a href=\"https://colab.research.google.com/github/fhac-ewi/recurrent-neural-network/blob/main/%C3%9Cbung_RNN_L%C3%B6sung.ipynb\" target=\"_parent\"><img src=\"https://colab.research.google.com/assets/colab-badge.svg\" alt=\"Open In Colab\"/></a>"
      ]
    },
    {
      "cell_type": "markdown",
      "metadata": {
        "id": "yYD6gvw1vwii"
      },
      "source": [
        "# Übung 7 - Rekurrente neuronale Netze (RNNs)\n",
        "\n",
        "## In dieser Übung ...\n",
        "... beschäftigen wir uns mit rekurrenten neuronalen Netzen, die unter anderem für die Textvorhersage (`text prediction`) eingesetzt werden können. Sie werden ein eigenes Modell zur Vorhersage weiterer Buchstaben (Zeichen) zu einer gegebenen Buchstabensequenz erstellen.\n",
        "\n",
        "Dazu werden Sie die drei aus der Vorlesung bekannten Varianten von RNNs (Standard, LSTM und GRU) mit Keras implementieren und die Genauigkeit (Accuracy) der Netze miteinander vergleichen.\n"
      ]
    },
    {
      "cell_type": "markdown",
      "metadata": {
        "id": "9a_ZEFJfHuuF"
      },
      "source": [
        "## 7.0 Vorbereitung\n",
        "\n",
        "In diesem Abschnitt müssen Sie nichts programmieren! 🎉\n",
        "\n",
        "Wir haben bereits alle notwendigen Imports für diese Übung hinzugefügt, sodass Sie direkt starten können. Sie müssen lediglich die GPU Unterstützung in Google Colab aktivieren."
      ]
    },
    {
      "cell_type": "markdown",
      "metadata": {
        "id": "tc_GxdsyIDYP"
      },
      "source": [
        "**Ihre Aufgaben**\n",
        "\n",
        "(1) Aktivieren Sie bitte die GPU Unterstützung in Google Colab. Wechseln Sie unter dem Reiter `Laufzeit` -> `Laufzeittyp ändern` von `None` auf `GPU` und bestätigen Sie diese Änderung.\n",
        "\n",
        "(2) Führen Sie den folgenden Codezelle aus, um die erforderlichen Bibliotheken zu importieren und die GPU Unterstützung zu prüfen. \n",
        "\n",
        "  * Hinweis: Wenn Sie dieses Notebook mit dem Direktlink von GitHub geöffnet haben, wird bei der erstmaligen Ausführung eine Warnung angezeigt. Diese müssen Sie durch den Klick auf `Trotzdem ausführen` bestätigen. "
      ]
    },
    {
      "cell_type": "code",
      "metadata": {
        "colab": {
          "base_uri": "https://localhost:8080/"
        },
        "id": "I-cFD9IFItkB",
        "outputId": "7a50f218-0bbf-4b6a-f9d4-ac44bdea9e3a"
      },
      "source": [
        "# Import everything needed for this exercise \n",
        "import tensorflow as tf\n",
        "import keras\n",
        "import numpy as np\n",
        "import sys\n",
        "import matplotlib.pyplot as plt\n",
        "import time\n",
        "from sklearn.model_selection import train_test_split\n",
        "from datetime import datetime, timedelta\n",
        "from termcolor import colored\n",
        "\n",
        "print(f\"Keras Version: {keras.__version__}; Tensorflow version: {tf.__version__}; NumPy version: {np.__version__}; Python version: \", \".\".join(str(x) for x in sys.version_info[:3]))\n",
        "\n",
        "# Reset random number generators\n",
        "seed = 1337\n",
        "np.random.seed(seed)\n",
        "tf.random.set_seed(seed)\n",
        "\n",
        "# Check GPU support\n",
        "from tensorflow.python.client import device_lib\n",
        "physical_devices = device_lib.list_local_devices()\n",
        "print(\"You are using\", len(physical_devices), \"local devises.\", len([x for x in physical_devices if x.device_type == \"GPU\"]), \"are GPUs\")\n",
        "for i, d in enumerate(physical_devices):\n",
        "    print(\"  ->Device\", i+1, \"is a\", d.device_type, \"=>\", d.physical_device_desc if len(d.physical_device_desc) > 0 else d.name)\n",
        "\n",
        "if len([x for x in physical_devices if x.device_type == \"GPU\"]) == 0:\n",
        "  raise Exception(\"Please enable GPU support before using this notebook. See here: [Runtime] -> [Change runtime type]\")    \n",
        "\n",
        "print(\"\\n🎉🎉🎉 You are ready to go! 🎉🎉🎉\")  "
      ],
      "execution_count": 1,
      "outputs": [
        {
          "output_type": "stream",
          "text": [
            "Keras Version: 2.4.3; Tensorflow version: 2.4.1; NumPy version: 1.19.5; Python version:  3.7.10\n",
            "You are using 2 local devises. 1 are GPUs\n",
            "  ->Device 1 is a CPU => /device:CPU:0\n",
            "  ->Device 2 is a GPU => device: 0, name: Tesla K80, pci bus id: 0000:00:04.0, compute capability: 3.7\n",
            "\n",
            "🎉🎉🎉 You are ready to go! 🎉🎉🎉\n"
          ],
          "name": "stdout"
        }
      ]
    },
    {
      "cell_type": "markdown",
      "metadata": {
        "id": "a1CXeYPHyywV"
      },
      "source": [
        "## 7.1 One Hot Kodierung\n",
        "\n",
        "Wir haben in der Vorlesung die One Hot Kodierung (1-aus-n-Code) kennen gelernt. Diese ermöglicht es Zeichen eines Alphabets als Vektoren darzustellen. \n",
        "\n",
        "Für ein Alphabet mit `n` einzigartigen Zeichen wird ein Vektor der Länge `n` benötigt. Jedes einzigartige Zeichen wird hierbei als Einheitsvektor definiert. Eine Zeichensequenz mit `m` Zeichen werden als `m` Vektoren mit jeweils der Länge `n` dargestellt.  \n",
        "\n",
        "**Hinweis** Die vorliegende Implementierung ist für den Umgang mit Zeichen außerhalb des Alphabets konzipiert. Deshalb wird zur Darstellung eines Alphabets mit `n` einzigartigen Zeichen ein Vektor der Länge `n+1` erstellt. Alle Zeichen außerhalb des Alphabets werden durch das `unknown_token` ersetzt. \n",
        "\n",
        "Für das Training unseres Netzes werden wir die One Hot Kodierung zur Umwandlung eines Textes in Trainingsdaten nutzen. (Aufgabe 7.2)\n",
        "\n",
        "* Hinweis: Für weitere Informationen zur One Hot Kodierun schlagen Sie diese in der Vorlesung nach oder benutzen Sie das [Internet](https://www.semanticscholar.org/search?q=one%20hot%20coder&sort=relevance)."
      ]
    },
    {
      "cell_type": "code",
      "metadata": {
        "id": "miApcJctvteM"
      },
      "source": [
        "class OneHot(object):\n",
        "    def __init__(self, tokens, unknown_token = \"[UNKNOWN]\"):\n",
        "        '''\n",
        "        tokens: The tokens you want to be able to encode and decode\n",
        "        unknown_token: The token to be used when decoding and the net wants to use a not known char\n",
        "        '''\n",
        "        self.tokens = tokens\n",
        "        self.unknown_token = unknown_token\n",
        "        # Store a bidirectional dictionary containing the characters\n",
        "        self.char_to_index = dict((token, i + 1) for i, token in enumerate(self.tokens))\n",
        "        self.index_to_char = dict((i + 1, token) for i, token in enumerate(self.tokens))\n",
        "        pass\n",
        "\n",
        "    def encode(self, text_as_tokens, dtype=np.bool_):\n",
        "        '''\n",
        "        text_as_tokens: List of tokens\n",
        "        '''\n",
        "        # Create the encoding matrix\n",
        "        enc = np.empty((len(text_as_tokens), len(self.tokens) + 1), dtype=dtype)\n",
        "        for i, token in enumerate(text_as_tokens):\n",
        "            # Encode every char\n",
        "            enc[i] = self.encode_token(token=token, l=len(self.tokens) + 1, dtype=dtype)\n",
        "        return enc\n",
        "    \n",
        "    def encode_token(self, token, l, dtype=np.bool_):\n",
        "        '''\n",
        "        token: Single token\n",
        "        l: length of array to be returned. At position zero it is stored if the char is unknown\n",
        "        '''\n",
        "        ret = np.zeros((1, l), dtype=dtype)\n",
        "        if token not in self.char_to_index:\n",
        "            ret[0, 0] = 1\n",
        "        else:\n",
        "            ret[0, self.char_to_index[token]] = 1\n",
        "        return ret\n",
        "    \n",
        "    def decode(self, mat, unknown_token=None):         \n",
        "        '''\n",
        "        mat: matrix to be decoded. Has to be of shape (len_of_text, vocab_size)\n",
        "        unknown_token: Unknown token. If none uses the one from __init__\n",
        "        '''\n",
        "        return [self.decode_token(mat[x]) for x in range(mat.shape[0])]\n",
        "    \n",
        "    def decode_token(self, vec, unknown_token=None):\n",
        "        '''\n",
        "        vec: Vector that should be decoded. Has to be on vocab length\n",
        "        unknown_token: Unknown token. If none uses the one from __init__\n",
        "        '''\n",
        "        if unknown_token is None:\n",
        "            unknown_token = self.unknown_token\n",
        "        if isinstance(vec, tf.Tensor):\n",
        "            vec = vec.numpy()\n",
        "        if isinstance(vec, np.ndarray):\n",
        "            # Use argmax since this will be used in the model created later\n",
        "            am = np.argmax(vec)\n",
        "        else:\n",
        "            am = vec\n",
        "        if am == 0:\n",
        "            return unknown_token\n",
        "        return self.index_to_char[am]"
      ],
      "execution_count": 2,
      "outputs": []
    },
    {
      "cell_type": "markdown",
      "metadata": {
        "id": "I9nyVSBS_RnK"
      },
      "source": [
        "**Ihre Aufgaben**\n",
        "\n",
        "(1) Untersuchen Sie gegebene Klasse zur One Hot Kodierung und die Funktion der einzelnen Methoden. \n",
        "\n",
        "(2) Erstellen Sie für das folgendes Alphabet `HWedlor` eine Instanz der Klasse `OneHot`. \n",
        "\n",
        "(3) Kodieren Sie nun die Zeichenfolge `Hello World!` mit der One Hot Kodierung. Wie wird das Zeichen `H` dargestellt? Geben Sie die Dimensionen des Vektors an.\n",
        "\n",
        "* Hinweis: Sie können zur Umwandlung des Strings in eine Liste von Zeichen die Funktion `tokenize` verwenden. Dies ist aber nicht zwingend erforderlich, da Python den String automatisch als Liste interpretieren kann."
      ]
    },
    {
      "cell_type": "markdown",
      "metadata": {
        "id": "HXopuHLJadWN"
      },
      "source": [
        "> <Antwort hier einfügen>\n",
        "\n",
        "> **Musterlösung:** Das Zeichen `H` wird als Vektor `[0 1 0 0 0 0 0 0]` \n",
        "dargestellt. Die Dimension ist `1x8`."
      ]
    },
    {
      "cell_type": "markdown",
      "metadata": {
        "id": "9jCputAba8UN"
      },
      "source": [
        "(4) Wandeln Sie die kodierte Zeichenfolge zurück in einen für Menschen lesbaren Text. Entspricht der zurückgewandelte Text dem ursprünglichen Input? Falls nicht, beschreiben Sie die Ursache.\n",
        "\n",
        "* Hinweis: Für eine schönere Ausgabe kann der enkodierte Text mit der Funktion `untokenize` in einen String gewandelt werden."
      ]
    },
    {
      "cell_type": "markdown",
      "metadata": {
        "id": "hPiAwayxbi16"
      },
      "source": [
        "> <Antwort hier einfügen>\n",
        "\n",
        "> **Musterlösung:** Der ursprüngliche Text und der kodierte und dekodierte Text ist nicht mehr identisch, da zwei Zeichen (Leerzeichen, Ausrufezeichen) nicht im Alphabet vorhanden sind. Durch Hinzufügen dieser Zeichen ins Alphabet würde man den ursprünglichen Text erhalten."
      ]
    },
    {
      "cell_type": "code",
      "metadata": {
        "colab": {
          "base_uri": "https://localhost:8080/"
        },
        "id": "QjFH6Rbeab4P",
        "outputId": "4153afde-f239-4e9c-8d1b-58e71008ceb0"
      },
      "source": [
        "def tokenize(text):\n",
        "    '''\n",
        "    Converts the given text (string) in a list of chars.\n",
        "    '''\n",
        "    return list(text)\n",
        "\n",
        "def untokenize(tokens):\n",
        "    '''\n",
        "    Converts the given tokens (list of chars) in a string.\n",
        "    '''\n",
        "    return \"\".join(tokens)\n",
        "\n",
        "tokens = 'HWedlor'\n",
        "\n",
        "# code here\n",
        "one_hot = OneHot(tokens=tokens)\n",
        "\n",
        "text='Hello World!'\n",
        "\n",
        "coded_text = one_hot.encode(text)\n",
        "print(\"Shape of coded text: \", coded_text.shape)\n",
        "print(\"H coded (first letter in coded text): \", coded_text[0].astype(int))\n",
        "\n",
        "encoded_text = one_hot.decode(coded_text)\n",
        "\n",
        "print(untokenize(encoded_text))"
      ],
      "execution_count": 3,
      "outputs": [
        {
          "output_type": "stream",
          "text": [
            "Shape of coded text:  (12, 8)\n",
            "H coded (first letter in coded text):  [0 1 0 0 0 0 0 0]\n",
            "Hello[UNKNOWN]World[UNKNOWN]\n"
          ],
          "name": "stdout"
        }
      ]
    },
    {
      "cell_type": "markdown",
      "metadata": {
        "id": "WglUJhhgyWSs"
      },
      "source": [
        "## 7.2 Datensatz vorbereiten\n",
        "\n",
        "In dieser Übung verwenden wir das Buch Shakespeare TODO als Datensatz zum Training und Test unserer Modelle. Ziel der Modelle ist die Vorhersage weiterer Zeichen zu einer gegebenen Zeichensequenz.\n",
        "\n",
        "In diesem Aufgabenteil werden die Daten eingelesen, mithilfe der One Hot Kodierung umgewandelt und anschließend in Trainingsdaten und Validierungsdaten aufgeteilt.\n",
        "\n",
        "TODO Für die Erstellung wird ein simples Verfahren angewandt Label für X_t ist X_t+1. Bild einfügen\n",
        "\n",
        "* Hinweis: Sie können theoretisch jeden beliebigen Text als Datensatz für das Training des Modells verwenden. (z.B. Harry Potter Bücher, Coronaschutzverordnungen, Nachrichtenartikel, ...)\n",
        "\n",
        "**Ihre Aufgaben**\n",
        "\n",
        "(1) Führen Sie die folgende Codezelle aus, um das Buch Shakespeare TODO einzulesen. Untersuchen Sie den Datensatz, indem Sie einen kurzen Auszug des Textes ausgeben.\n",
        "\n",
        "(2) Erstellen Sie aus dem Text das Alphabet (`tokens`) und geben die Länge aus. Das Alphabet soll alle Zeichen des Textes enthalten.\n",
        "\n",
        "* Hinweis: Sie können den `text` mit der Funktion `tokenize` in eine Liste umwandeln. Dieser kann dann zu einem [Set](https://docs.python.org/3/tutorial/datastructures.html#sets) gewandelt werden.\n",
        "\n",
        "(3) Erstellen Sie für das Alphabet eine One Hot Kodierung und wenden diese auf den `text` an. Nutzen Sie dazu Ihre die Erkentnisse aus Aufgabe 7.1.\n",
        "\n",
        "(4) Teilen Sie den kodierten Text in Sequenzen auf. Wie würden Sie die Länge der einzelnen Sequenzen wählen? \n",
        "Verwenden Sie dazu die Funktion vorgegebene Funktion `sequenze_split`.\n",
        "\n",
        "* Erklärung: Wieso wird der Text in Sequenzen gesplittet?\n",
        "</br>TODO Wieso machen wir das?\n",
        "\n",
        "* Hinweis: Die Sequenzen sollten lang genug sein, dass das RNN Zusammenhänge in einem Satz (und ggf. darüber hinaus) erlenen kann. Die Sequenzlänge sollte kurz genug sein, damit eine ausreichende Anzahl für das Training vorhanden ist.\n",
        "\n",
        "TODO RIOT Hinweis mit unserer Sequenzlänge.\n",
        "\n",
        "(5) Erstellen Sie nun aus den sequenzierten Daten das Feature `X` und das Label `y`. Für die Vorhersage von einzelnen Zeichen ist jeweils das nächste Zeichen das Label des vorherigen Zeichens. Das Label `y` wird deshalb aus den gleichen Werte des Features `X` gebildet, ist jedoch um +1 verschoben. \n",
        "\n",
        "\n",
        "* Beispiel: Die Sequenz `Hello World!` kann in **X** `Hello World` mit dem zugehörigen Label **y** `ello World!` aufgeteilt werden.\n",
        "* Hinweis: Untersuchen Sie die Rückgabe der Funktion `sequenze_split`. In welcher der drei Komponenten müssen Sie die Verschiebung vornehmen.\n",
        "\n",
        "(6) Konvertieren Sie nun die Daten in ein Trainings- und Validierungsset. Nutzen Sie dafür die Funktion `train_test_split` (Eine Dokumentation finden Sie [hier](https://scikit-learn.org/stable/modules/generated/sklearn.model_selection.train_test_split.html)). "
      ]
    },
    {
      "cell_type": "code",
      "metadata": {
        "id": "LN0KsVCb_Rm-",
        "colab": {
          "base_uri": "https://localhost:8080/"
        },
        "outputId": "ecd80dcd-bb52-4469-cfdc-d7b0a1628f05"
      },
      "source": [
        "# maximum text length \n",
        "# 1. Protection against \"OutOfMemory\" (poor RAM 😥)\n",
        "# 2. Adjustment for making training faster (but you will gain less accuracy)\n",
        "MAX_TEXT_LEN = 1_200_000 \n",
        "\n",
        "path_to_file = tf.keras.utils.get_file('shakespeare.txt', 'https://storage.googleapis.com/download.tensorflow.org/data/shakespeare.txt')\n",
        "\n",
        "text = open(path_to_file, 'rb').read().decode(encoding='utf-8') # .lower() für schnelleres Training anfügen\n",
        "print(f'Length of text: {len(text)} characters')\n",
        "if len(text) > MAX_TEXT_LEN:\n",
        "    print(\"Text is too long. Cutting it to\", MAX_TEXT_LEN, f\"characters. That is {100 * MAX_TEXT_LEN / len(text):6.2f} %\")\n",
        "    text = text[:MAX_TEXT_LEN]\n",
        "\n",
        "# helper function for 7.2.4\n",
        "def sequenze_split(coded_text, sequence_len):\n",
        "    \"\"\"\n",
        "    Splits a given coded text (text converted with OneHot) into multiple subsequenzes\n",
        "    \"\"\"\n",
        "    target_shape = (int(coded_text.shape[0] / (sequence_len + 1)) , (sequence_len + 1) , coded_text.shape[1])\n",
        "    coded_text_seq = np.empty(target_shape, dtype=coded_text.dtype)\n",
        "    for s in range(coded_text_seq.shape[0]):\n",
        "        coded_text_seq[s] = coded_text[s * (sequence_len + 1):(s + 1) * (sequence_len + 1)]\n",
        "\n",
        "    # returns 3D matrix (sequences, letters per sequence, letter as one hot coded vector)    \n",
        "    return coded_text_seq    \n",
        "\n",
        "# code here   \n",
        "# Aufgabe 7.2.1 \n",
        "print(\"Segment of text:\")\n",
        "print(\"-\" * 60)\n",
        "print(colored(text[:250], 'blue')) \n",
        "print(\"-\" * 60)\n",
        "\n",
        "# Aufgabe 7.2.2 - Alphabet erstellen\n",
        "tokens = sorted(set(text))\n",
        "print(\"Length of raw text:\", len(text))\n",
        "print(\"Numbers of tokens (unique letters): \", len(tokens))\n",
        "\n",
        "\n",
        "# Aufgabe 7.2.3 - One Hot\n",
        "one_hot = OneHot(tokens=tokens)\n",
        "coded_text = one_hot.encode(text)\n",
        "print(\"Shape of coded text: \", coded_text.shape)\n",
        "\n",
        "# Aufgabe 7.2.4 - Aufteilung in Sequenzen\n",
        "sequence_len = 100\n",
        "coded_text_seq = sequenze_split(coded_text, sequence_len)\n",
        "print(\"Shape of coded text split into sequences\", coded_text_seq.shape)\n",
        "\n",
        "# Aufgabe 7.2.5\n",
        "X = coded_text_seq[:, :-1]\n",
        "y = coded_text_seq[:, 1:]\n",
        "\n",
        "# Aufgabe 7.2.6\n",
        "validation_size = 1/6\n",
        "\n",
        "X_train, X_val, y_train, y_val = train_test_split(X, y, test_size=validation_size)\n",
        "\n",
        "print(\"X_train:\", X_train.shape, X_train.dtype)\n",
        "print(\"y_train:\", y_train.shape, y_train.dtype)\n",
        "print(\"X_val  :\", X_val.shape, X_val.dtype)\n",
        "print(\"y_val  :\", y_val.shape, y_val.dtype)\n",
        "\n",
        "print(\"-\" * 40)\n",
        "print(colored(untokenize(one_hot.decode(X_train[0])), 'blue'))\n",
        "print(\"-\" * 40)\n",
        "print(colored(untokenize(one_hot.decode(y_train[0])), 'green'))\n",
        "print(\"-\" * 40)    "
      ],
      "execution_count": 4,
      "outputs": [
        {
          "output_type": "stream",
          "text": [
            "Length of text: 1115394 characters\n",
            "Segment of text:\n",
            "------------------------------------------------------------\n",
            "\u001b[34mFirst Citizen:\n",
            "Before we proceed any further, hear me speak.\n",
            "\n",
            "All:\n",
            "Speak, speak.\n",
            "\n",
            "First Citizen:\n",
            "You are all resolved rather to die than to famish?\n",
            "\n",
            "All:\n",
            "Resolved. resolved.\n",
            "\n",
            "First Citizen:\n",
            "First, you know Caius Marcius is chief enemy to the people.\n",
            "\u001b[0m\n",
            "------------------------------------------------------------\n",
            "Length of raw text: 1115394\n",
            "Numbers of tokens (unique letters):  65\n",
            "Shape of coded text:  (1115394, 66)\n",
            "Shape of coded text split into sequences (11043, 101, 66)\n",
            "X_train: (9202, 100, 66) bool\n",
            "y_train: (9202, 100, 66) bool\n",
            "X_val  : (1841, 100, 66) bool\n",
            "y_val  : (1841, 100, 66) bool\n",
            "----------------------------------------\n",
            "\u001b[34mvereign's face.\n",
            "I am the last of noble Edward's sons,\n",
            "Of whom thy father, Prince of Wales, was first\u001b[0m\n",
            "----------------------------------------\n",
            "\u001b[32mereign's face.\n",
            "I am the last of noble Edward's sons,\n",
            "Of whom thy father, Prince of Wales, was first:\u001b[0m\n",
            "----------------------------------------\n"
          ],
          "name": "stdout"
        }
      ]
    },
    {
      "cell_type": "markdown",
      "metadata": {
        "id": "PDvkDpWsysjl"
      },
      "source": [
        "🎉🎉🎉 **Geschafft!** 🎉🎉🎉\n",
        "\n",
        "Sie haben nun aus einem Buch Trainingsdaten für ein RNN zur Vorhersage von Zeichen erstellt! \n",
        "- Text einlesen\n",
        "- Text in Tokens umwandeln\n",
        "- Alphabet festlegen\n",
        "- One Hot Kodierung erstellen und anwenden\n",
        "- In Sequenzen aufteilen\n",
        "- `X` und `y` festlegen\n",
        "- Aufteilung in Training und Validierungsset\n",
        "\n",
        "... jetzt können Sie mit dem eigentlichen Modell fortfahren."
      ]
    },
    {
      "cell_type": "markdown",
      "metadata": {
        "id": "tOMFCH7V_RnM"
      },
      "source": [
        "## 7.3 RNN Modell erstellen\n",
        "In diesem Aufgabenteil ein [SimpleRNN](https://keras.io/api/layers/recurrent_layers/simple_rnn/) (auch als Vanilla bezeichnet) zur Vorhersage des weiteren Verlaufs einer Zeichensequenz erstellt werden.\n",
        "\n",
        "Dafür nutzen Sie ein Sequential Model von Keras mit einer SimpleRNN Layer und einer Dense Layer mit Softmax.\n",
        "\n",
        "**Ihre Aufgaben**\n",
        "\n",
        "(1) Bestimmen Sie nun die Parameter, die für das Modell benötigt werden.\n",
        "- Shape der Eingabe/des Trainingdatensatzes. (Anzahl Zeichen, Länge eines vektorisierten Zeichens)\n",
        "- Länge des Alphabets (inklusive des `unknown_tokens`). Also die Anzahl der Tokens, die das Modell vorhersagen können soll.\n",
        "  \n",
        "\n",
        "(2) Erstellen Sie das entsprechende [Sequential](https://keras.io/api/models/sequential/) Modell und fügen folgende Schichten hinzu:\n",
        "TODO Anpassen, wenn alles geregelt ist.\n",
        "- [SimpleRNN](https://keras.io/api/layers/recurrent_layers/simple_rnn/) mit 1024 Units als Output Space (= Größe des Hidden State), der Shape der Eingabe und dem Parameter `return_sequences=true`. Dieser Parameter sagt aus, dass TODO. \n",
        "- [Dense](https://keras.io/api/layers/core_layers/dense/) mit der Anzahl der Tokens und der Aktivierungsfunktion `softmax`.\n",
        "\n",
        "Kompilieren Sie anschließend das Modell mit der `categorical_crossentropy` Loss Function, dem [RMSprop](https://keras.io/api/optimizers/rmsprop/) Optimizer mit einer `learning_rate` von 0.01 und fügen als Metrics die `accuracy` hinzu."
      ]
    },
    {
      "cell_type": "code",
      "metadata": {
        "id": "z0Uh7RmR_RnN",
        "colab": {
          "base_uri": "https://localhost:8080/"
        },
        "outputId": "cb4bcd56-b114-4dcf-a3d9-46e9169f86c4"
      },
      "source": [
        "# code here\n",
        "# Aufgabe 7.3.1\n",
        "# Length of the vocabulary in chars\n",
        "vocab_size = X_train.shape[-1]\n",
        "print(\"Numbers of unique tokens: \", vocab_size)\n",
        "\n",
        "# The input shape\n",
        "input_shape = X_train.shape[1:]\n",
        "print(\"Input shape: \", input_shape)\n",
        "\n",
        "# Number of RNN units\n",
        "rnn_units = 128\n",
        "\n",
        "# Aufgabe 7.3.2 - SimpleRNN\n",
        "model = tf.keras.Sequential(name=\"SimpleRNN_Model\")\n",
        "# TODO Prüfen. Kann ggf die Anzahl der benötigten Epochen verringen model.add(tf.keras.layers.Dense(1024,  name=\"The_Bouncer\"))\n",
        "model.add(tf.keras.layers.SimpleRNN(rnn_units, return_sequences=True, input_shape=input_shape, name=\"The_Brain\"))\n",
        "model.add(tf.keras.layers.Dense(vocab_size, activation='softmax', name=\"The_Hand\"))\n",
        "optimizer = tf.keras.optimizers.RMSprop(learning_rate=0.01)\n",
        "model.compile(loss='categorical_crossentropy', optimizer=optimizer, metrics=['accuracy'])\n",
        "\n",
        "model.summary()\n",
        "\n",
        "# Zusatz\n",
        "input_example_batch = X_train[0]\n",
        "input_example_batch = input_example_batch.reshape((1, *input_example_batch.shape))\n",
        "\n",
        "example_batch_predictions = model.predict(input_example_batch)\n",
        "print(input_example_batch.shape, y_train[0].shape, example_batch_predictions.shape)\n",
        "\n",
        "print(\"Test sequence:\", \"\\n\", \"-\" * 40, \"\\n\", colored(untokenize(one_hot.decode(X_train[0])), 'blue'), \"\\n\", \"-\"*40)\n",
        "print(\"Expected result:\", \"\\n\", \"-\" * 40, \"\\n\", colored(untokenize(one_hot.decode(y_train[0])), 'green'), \"\\n\", \"-\"*40)\n",
        "print(\"Untrained prediction:\", \"\\n\", \"-\" * 40, \"\\n\", colored(untokenize(one_hot.decode(example_batch_predictions[0])), 'red'), \"\\n\", \"-\"*40)"
      ],
      "execution_count": 5,
      "outputs": [
        {
          "output_type": "stream",
          "text": [
            "Numbers of unique tokens:  66\n",
            "Input shape:  (100, 66)\n",
            "Model: \"SimpleRNN_Model\"\n",
            "_________________________________________________________________\n",
            "Layer (type)                 Output Shape              Param #   \n",
            "=================================================================\n",
            "The_Brain (SimpleRNN)        (None, 100, 128)          24960     \n",
            "_________________________________________________________________\n",
            "The_Hand (Dense)             (None, 100, 66)           8514      \n",
            "=================================================================\n",
            "Total params: 33,474\n",
            "Trainable params: 33,474\n",
            "Non-trainable params: 0\n",
            "_________________________________________________________________\n",
            "(1, 100, 66) (100, 66) (1, 100, 66)\n",
            "Test sequence: \n",
            " ---------------------------------------- \n",
            " \u001b[34mvereign's face.\n",
            "I am the last of noble Edward's sons,\n",
            "Of whom thy father, Prince of Wales, was first\u001b[0m \n",
            " ----------------------------------------\n",
            "Expected result: \n",
            " ---------------------------------------- \n",
            " \u001b[32mereign's face.\n",
            "I am the last of noble Edward's sons,\n",
            "Of whom thy father, Prince of Wales, was first:\u001b[0m \n",
            " ----------------------------------------\n",
            "Untrained prediction: \n",
            " ---------------------------------------- \n",
            " \u001b[31mllAL'vb$j'uvROj?ctlCmDSoL VFcWlb&nyoXKALD\n",
            "[UNKNOWN]MseH!s??tz?wIYlSWkikvOcuv&qpfc,ZyLbQU[UNKNOWN]ch&Uv&cMwElm$!LgUtd\u001b[0m \n",
            " ----------------------------------------\n"
          ],
          "name": "stdout"
        }
      ]
    },
    {
      "cell_type": "markdown",
      "metadata": {
        "id": "axndj50eyWrw"
      },
      "source": [
        "## 7.4 RNN Modell trainieren\n",
        "In diesem Aufgabenteil soll das Modell trainiert werden und der Loss und die Accuracy untersucht werden.\n",
        "\n",
        "**Ihre Aufgaben**\n",
        "\n",
        "(1) Wenden Sie die Methode [fit](https://www.tensorflow.org/api_docs/python/tf/keras/Model#fit) auf Ihr Modell an. Geben Sie als Parameter neben den Trainingsdaten auch die Anzahl der Epochen, die Batchsize und die zuvor erstellten Validierungsdaten (Aufgabe 7.2.6) an. Speichern Sie das Ergebnis des Trainings für eine spätere Analyse in einer Variable!\n",
        "\n",
        "Im Code sind bereits Startwerte für das Training vorgegeben. Sie können diese nach Belieben anpassen. \n",
        "\n",
        "**Eine Accuracy von 50% ist für diesen Schritt völlig ausreichend!**\n",
        "\n",
        "* Hinweis: **Die Trainingsdauer sollte zwischen 1 und 3 Minuten liegen!** \n",
        "</br>Nach den ersten drei Epochen sollte die Genauigkeit bereits über 30% liegen. Falls nicht, prüfen Sie noch einmal die vorherigen Aufgabenteile oder fragen Sie Team RNN um Hilfe!\n",
        "\n",
        "* Tipp: Falls Sie das Gefühl haben, dass Ihr Modell noch einen Fehler enthalten könnte, fügen Sie in Aufgabe 7.2 im Codeblock Zeile 8 ein `.lower()` ein. Dadurch wird der Datensatz in Kleinbuchstaben umgewandelt und die Größe des Alphabets verringert. "
      ]
    },
    {
      "cell_type": "code",
      "metadata": {
        "id": "iGpNzqcuyW5-",
        "colab": {
          "base_uri": "https://localhost:8080/"
        },
        "outputId": "ff628cc1-f7bb-4088-be4f-e20cf7362460"
      },
      "source": [
        "EPOCHS = 20\n",
        "BATCH_SIZE = 128\n",
        "\n",
        "t1 = time.time()\n",
        "# code here\n",
        "hist = model.fit(X_train, y_train,\n",
        "                  batch_size=BATCH_SIZE,\n",
        "                  epochs=EPOCHS,\n",
        "                  validation_data=(X_val, y_val))\n",
        "t2 = time.time()\n",
        "\n",
        "print(\"Training took: \", timedelta(seconds=t2-t1))"
      ],
      "execution_count": 6,
      "outputs": [
        {
          "output_type": "stream",
          "text": [
            "Epoch 1/20\n",
            "72/72 [==============================] - 8s 99ms/step - loss: 3.5250 - accuracy: 0.1488 - val_loss: 2.4134 - val_accuracy: 0.3340\n",
            "Epoch 2/20\n",
            "72/72 [==============================] - 7s 91ms/step - loss: 2.3485 - accuracy: 0.3351 - val_loss: 2.1838 - val_accuracy: 0.3737\n",
            "Epoch 3/20\n",
            "72/72 [==============================] - 7s 91ms/step - loss: 2.1264 - accuracy: 0.3878 - val_loss: 2.0134 - val_accuracy: 0.4182\n",
            "Epoch 4/20\n",
            "72/72 [==============================] - 7s 92ms/step - loss: 1.9937 - accuracy: 0.4203 - val_loss: 1.9541 - val_accuracy: 0.4312\n",
            "Epoch 5/20\n",
            "72/72 [==============================] - 7s 91ms/step - loss: 1.9081 - accuracy: 0.4420 - val_loss: 1.8847 - val_accuracy: 0.4492\n",
            "Epoch 6/20\n",
            "72/72 [==============================] - 7s 91ms/step - loss: 1.8506 - accuracy: 0.4581 - val_loss: 1.8298 - val_accuracy: 0.4652\n",
            "Epoch 7/20\n",
            "72/72 [==============================] - 6s 90ms/step - loss: 1.8146 - accuracy: 0.4678 - val_loss: 1.7988 - val_accuracy: 0.4763\n",
            "Epoch 8/20\n",
            "72/72 [==============================] - 7s 92ms/step - loss: 1.7853 - accuracy: 0.4750 - val_loss: 1.7781 - val_accuracy: 0.4806\n",
            "Epoch 9/20\n",
            "72/72 [==============================] - 6s 89ms/step - loss: 1.7609 - accuracy: 0.4811 - val_loss: 1.7732 - val_accuracy: 0.4837\n",
            "Epoch 10/20\n",
            "72/72 [==============================] - 7s 91ms/step - loss: 1.7391 - accuracy: 0.4873 - val_loss: 1.7495 - val_accuracy: 0.4860\n",
            "Epoch 11/20\n",
            "72/72 [==============================] - 7s 92ms/step - loss: 1.7243 - accuracy: 0.4904 - val_loss: 1.7366 - val_accuracy: 0.4897\n",
            "Epoch 12/20\n",
            "72/72 [==============================] - 7s 92ms/step - loss: 1.7188 - accuracy: 0.4913 - val_loss: 1.7203 - val_accuracy: 0.4920\n",
            "Epoch 13/20\n",
            "72/72 [==============================] - 7s 91ms/step - loss: 1.7046 - accuracy: 0.4949 - val_loss: 1.7284 - val_accuracy: 0.4930\n",
            "Epoch 14/20\n",
            "72/72 [==============================] - 6s 89ms/step - loss: 1.6910 - accuracy: 0.4984 - val_loss: 1.7109 - val_accuracy: 0.4938\n",
            "Epoch 15/20\n",
            "72/72 [==============================] - 6s 90ms/step - loss: 1.6895 - accuracy: 0.4990 - val_loss: 1.7159 - val_accuracy: 0.4907\n",
            "Epoch 16/20\n",
            "72/72 [==============================] - 6s 88ms/step - loss: 1.6841 - accuracy: 0.4998 - val_loss: 1.6983 - val_accuracy: 0.5000\n",
            "Epoch 17/20\n",
            "72/72 [==============================] - 6s 89ms/step - loss: 1.6745 - accuracy: 0.5023 - val_loss: 1.6988 - val_accuracy: 0.4996\n",
            "Epoch 18/20\n",
            "72/72 [==============================] - 6s 88ms/step - loss: 1.6713 - accuracy: 0.5029 - val_loss: 1.6887 - val_accuracy: 0.5012\n",
            "Epoch 19/20\n",
            "72/72 [==============================] - 6s 86ms/step - loss: 1.6646 - accuracy: 0.5049 - val_loss: 1.6862 - val_accuracy: 0.5015\n",
            "Epoch 20/20\n",
            "72/72 [==============================] - 6s 90ms/step - loss: 1.6592 - accuracy: 0.5066 - val_loss: 1.6879 - val_accuracy: 0.5041\n",
            "Training took:  0:02:11.715127\n"
          ],
          "name": "stdout"
        }
      ]
    },
    {
      "cell_type": "markdown",
      "metadata": {
        "id": "hwFD7439_RnO"
      },
      "source": [
        "(2) Plotten Sie Accuracy und Loss über die Epochen. Bewerten Sie den Verlauf des Trainings. Wie könnte das Training verbessert werden?"
      ]
    },
    {
      "cell_type": "code",
      "metadata": {
        "id": "JCn3o8K9_RnO",
        "colab": {
          "base_uri": "https://localhost:8080/",
          "height": 606
        },
        "outputId": "7a85077b-4726-4f58-ecdc-e49540cafd53"
      },
      "source": [
        "fig, ax = plt.subplots(1, 1)\n",
        "\n",
        "ax.plot(hist.history[\"loss\"], label='loss')\n",
        "ax.plot(hist.history[\"accuracy\"], label='accuracy')\n",
        "ax.plot(hist.history[\"val_loss\"], label='validation loss')\n",
        "ax.plot(hist.history[\"val_accuracy\"], label='validation accuracy')\n",
        "ax.set_xlabel(\"Epoch\")\n",
        "ax.legend()\n",
        "\n",
        "fig.set_size_inches(20, 10)\n",
        "\n",
        "plt.show()"
      ],
      "execution_count": 7,
      "outputs": [
        {
          "output_type": "display_data",
          "data": {
            "image/png": "[encoded data removed]",
            "text/plain": [
              "<Figure size 1440x720 with 1 Axes>"
            ]
          },
          "metadata": {
            "tags": [],
            "needs_background": "light"
          }
        }
      ]
    },
    {
      "cell_type": "code",
      "metadata": {
        "id": "VhQ4HP55Fidk",
        "colab": {
          "base_uri": "https://localhost:8080/"
        },
        "outputId": "fdd8dbaa-f34e-4c15-9705-39a2e33cc21a"
      },
      "source": [
        "# Zusatz\n",
        "input_example_batch = X_train[0]\n",
        "input_example_batch = input_example_batch.reshape((1, *input_example_batch.shape))\n",
        "\n",
        "example_batch_predictions = model.predict(input_example_batch)\n",
        "print(input_example_batch.shape, y_train[0].shape, example_batch_predictions.shape)\n",
        "\n",
        "print(\"Test sequence:\", \"\\n\", \"-\" * 40, \"\\n\", colored(untokenize(one_hot.decode(X_train[0])), 'blue'), \"\\n\", \"-\"*40)\n",
        "print(\"Expected result:\", \"\\n\", \"-\" * 40, \"\\n\", colored(untokenize(one_hot.decode(y_train[0])), 'green'), \"\\n\", \"-\"*40)\n",
        "print(\"Trained prediction:\", \"\\n\", \"-\" * 40, \"\\n\", colored(untokenize(one_hot.decode(example_batch_predictions[0])), 'red'), \"\\n\", \"-\"*40)"
      ],
      "execution_count": 8,
      "outputs": [
        {
          "output_type": "stream",
          "text": [
            "(1, 100, 66) (100, 66) (1, 100, 66)\n",
            "Test sequence: \n",
            " ---------------------------------------- \n",
            " \u001b[34mvereign's face.\n",
            "I am the last of noble Edward's sons,\n",
            "Of whom thy father, Prince of Wales, was first\u001b[0m \n",
            " ----------------------------------------\n",
            "Expected result: \n",
            " ---------------------------------------- \n",
            " \u001b[32mereign's face.\n",
            "I am the last of noble Edward's sons,\n",
            "Of whom thy father, Prince of Wales, was first:\u001b[0m \n",
            " ----------------------------------------\n",
            "Trained prediction: \n",
            " ---------------------------------------- \n",
            " \u001b[31mer sgh d brie \n",
            "\n",
            " wm the miwt tf totle bdward s suu   Tf tii  the baiher  baotce tf tarls  ths trrst \u001b[0m \n",
            " ----------------------------------------\n"
          ],
          "name": "stdout"
        }
      ]
    },
    {
      "cell_type": "markdown",
      "metadata": {
        "id": "WxNyKthd_RnP"
      },
      "source": [
        "## 7.5 Vorhersagen treffen\n",
        "Das zuvor trainierte Modell soll nun für die Vorhersage von Buchstaben genutzt werden. TODO Anpassen\n",
        "\n",
        "**Ihre Aufgaben**\n",
        "\n",
        "(1) Vervollständigen Sie die Methode `predict`. Kodieren Sie dafür den Text mit der One Hot Kodierung, führen die Vorhersage mit dem trainierten Modell durch und geben das letzte dekodierte Zeichen der Vorhersage zurück.  \n",
        "\n",
        "Testen Sie die Methode mit einzelnen Wörtern. Geben Sie dafür den ersten Teil des Wortes in die Predict Methode hinein und überprüfen die Rückgabe. Sie können auch kürzere Sätze hineingeben und die Ausgabe prüfen.\n",
        "\n",
        "* *Beispiel* `Prince` </br>  Input `Princ` </br>  erwartetes Ergebnis `e`"
      ]
    },
    {
      "cell_type": "code",
      "metadata": {
        "id": "y3wVdygn_RnQ",
        "colab": {
          "base_uri": "https://localhost:8080/"
        },
        "outputId": "27384587-d0fb-47e2-8453-72a79f3a439b"
      },
      "source": [
        "def predict(text, one_hot, trainied_model):\n",
        "    '''\n",
        "    TODO\n",
        "    '''\n",
        "    # coce here\n",
        "    encoded_text = one_hot.encode(tokenize(text))\n",
        "    prediction = trainied_model.predict(encoded_text.reshape((1, *encoded_text.shape)))\n",
        "    return untokenize(one_hot.decode(prediction[0]))[-1]\n",
        "\n",
        "print(\"Prediction of 'fathe' is:\", predict(\"fathe\", one_hot, model))   \n",
        "print(\"Prediction of 'Princ' is:\", predict(\"Princ\", one_hot, model))  "
      ],
      "execution_count": 9,
      "outputs": [
        {
          "output_type": "stream",
          "text": [
            "WARNING:tensorflow:Model was constructed with shape (None, 100, 66) for input KerasTensor(type_spec=TensorSpec(shape=(None, 100, 66), dtype=tf.float32, name='The_Brain_input'), name='The_Brain_input', description=\"created by layer 'The_Brain_input'\"), but it was called on an input with incompatible shape (None, 5, 66).\n",
            "Prediction of 'fathe' is: r\n",
            "Prediction of 'Princ' is: e\n"
          ],
          "name": "stdout"
        }
      ]
    },
    {
      "cell_type": "markdown",
      "metadata": {
        "id": "IGXTuk3VnLQb"
      },
      "source": [
        "(2) **Optional** **Wettkampf** Erweitern Sie die `predict()` Methode aus dem vorherigen Aufgabenteil (7.5.1) in eine Methode um, die 100 weitere Zeichen vorhersagt und so womöglich einen ganzen Satz vervollständigt. "
      ]
    },
    {
      "cell_type": "code",
      "metadata": {
        "id": "btPQKKCRn2xf",
        "outputId": "85649b04-d22c-480d-f14a-08d92576b3fc",
        "colab": {
          "base_uri": "https://localhost:8080/"
        }
      },
      "source": [
        "# code here\n",
        "def predict_sentence(text, prediction_length, one_hot, trainied_model):\n",
        "    '''\n",
        "    TODO\n",
        "    '''\n",
        "    # code here\n",
        "    for x in range(prediction_length):\n",
        "        text += predict(text, one_hot, trainied_model)\n",
        "    return text\n",
        "\n",
        "print(predict_sentence(\"ROMEO:\\n\", 100, one_hot, model))      "
      ],
      "execution_count": 10,
      "outputs": [
        {
          "output_type": "stream",
          "text": [
            "ROMEO:\n",
            "The will be such a with the word of the word to the word to the word to the word to the word to the \n"
          ],
          "name": "stdout"
        }
      ]
    },
    {
      "cell_type": "markdown",
      "metadata": {
        "id": "67T8xcMS_RnQ"
      },
      "source": [
        "(2) **Optional** Nutzen Sie ipywidgets um Texte live eingeben zu können und Vorhersagen zu erhalten. \n",
        "\n",
        "TODO Links einbauen"
      ]
    },
    {
      "cell_type": "code",
      "metadata": {
        "id": "ApEZl0IK_RnQ"
      },
      "source": [
        "import ipywidgets as widgets\n",
        "from IPython.display import display"
      ],
      "execution_count": 11,
      "outputs": []
    },
    {
      "cell_type": "code",
      "metadata": {
        "id": "7ENo5TOT_RnR",
        "colab": {
          "base_uri": "https://localhost:8080/",
          "height": 84,
          "referenced_widgets": [
            "edd79fbf7b984e1cb8009bba138b2976",
            "74cd8fe3f687492d9194929f156d7a01",
            "2104895b045a4494b6abefd37f5975be",
            "239d85839f744161a882b6f879c6e6e9",
            "590354b8eb6948a590c3e36852345a9b",
            "f460354e68c44a3193d88cf3502e0d34",
            "aa1f3d2a8375432d889fd26be69a62b9"
          ]
        },
        "outputId": "def5ce4d-490b-4105-e2e2-449d3b36e685"
      },
      "source": [
        "def verbose_prediction(text, one_hot, trainied_model):\n",
        "    if len(text) == 0:\n",
        "        text = \" \"\n",
        "    prediction = predict(text=text, one_hot=one_hot, trainied_model=trainied_model)\n",
        "    print(f\"I think the next will be \\\"{prediction}\\\" after you said \\\"{text}\\\"\")\n",
        "\n",
        "w = widgets.interactive(verbose_prediction,\n",
        "                        text=widgets.Text(value='ROME', placeholder='Type something', description='Your text:', disabled=False),\n",
        "                        one_hot=widgets.fixed(one_hot),\n",
        "                        trainied_model=widgets.fixed(model),\n",
        "                       )\n",
        "\n",
        "verbose_prediction(\"Edwar\", one_hot=one_hot, trainied_model=model)\n",
        "\n",
        "display(w)"
      ],
      "execution_count": 12,
      "outputs": [
        {
          "output_type": "stream",
          "text": [
            "I think the next will be \"d\" after you said \"Edwar\"\n"
          ],
          "name": "stdout"
        },
        {
          "output_type": "display_data",
          "data": {
            "application/vnd.jupyter.widget-view+json": {
              "model_id": "edd79fbf7b984e1cb8009bba138b2976",
              "version_minor": 0,
              "version_major": 2
            },
            "text/plain": [
              "interactive(children=(Text(value='ROME', description='Your text:', placeholder='Type something'), Output()), _…"
            ]
          },
          "metadata": {
            "tags": []
          }
        }
      ]
    },
    {
      "cell_type": "markdown",
      "metadata": {
        "id": "0d7pKNy1ycN7"
      },
      "source": [
        "## 7.6 **Optional** RNN Varianten LSTM und GRU\n",
        "\n",
        "Neben SimpleRNN wurden in der Vorlesung zwei weitere Varianten von RNNs vorgestellt. \n",
        "\n",
        "**Ihre Aufgaben**\n",
        "(1) Trainieren Sie auf dem gleichen Datensatz zwei Modelle der Varianten LSTM und GRU. Verwenden Sie Ihr Modell aus Aufgabe 7.3 und ersetzen Sie die SimpleRNN Layer durch eine passende [Layer von Keras](https://keras.io/api/layers/recurrent_layers/).\n"
      ]
    },
    {
      "cell_type": "code",
      "metadata": {
        "id": "IehQ7h3uyeY6",
        "colab": {
          "base_uri": "https://localhost:8080/"
        },
        "outputId": "e0706439-3e54-4eec-975b-9c15f82280c7"
      },
      "source": [
        "model_lstm = tf.keras.Sequential(name=\"LSTM_Model\")\n",
        "model_lstm.add(tf.keras.layers.LSTM(rnn_units, return_sequences=True, input_shape=input_shape, name=\"The_Brain\"))\n",
        "model_lstm.add(tf.keras.layers.Dense(vocab_size, activation='softmax', name=\"The_Hand\"))\n",
        "optimizer = tf.keras.optimizers.RMSprop(learning_rate=0.01)\n",
        "model_lstm.compile(loss='categorical_crossentropy', optimizer=optimizer, metrics=['accuracy'])\n",
        "model_lstm.summary()\n",
        "\n",
        "model_gru = tf.keras.Sequential(name=\"GRU_Model\")\n",
        "model_gru.add(tf.keras.layers.LSTM(rnn_units, return_sequences=True, input_shape=input_shape, name=\"The_Brain\"))\n",
        "model_gru.add(tf.keras.layers.Dense(vocab_size, activation='softmax', name=\"The_Hand\"))\n",
        "optimizer = tf.keras.optimizers.RMSprop(learning_rate=0.01)\n",
        "model_gru.compile(loss='categorical_crossentropy', optimizer=optimizer, metrics=['accuracy'])\n",
        "model_gru.summary()\n"
      ],
      "execution_count": 13,
      "outputs": [
        {
          "output_type": "stream",
          "text": [
            "Model: \"LSTM_Model\"\n",
            "_________________________________________________________________\n",
            "Layer (type)                 Output Shape              Param #   \n",
            "=================================================================\n",
            "The_Brain (LSTM)             (None, 100, 128)          99840     \n",
            "_________________________________________________________________\n",
            "The_Hand (Dense)             (None, 100, 66)           8514      \n",
            "=================================================================\n",
            "Total params: 108,354\n",
            "Trainable params: 108,354\n",
            "Non-trainable params: 0\n",
            "_________________________________________________________________\n",
            "Model: \"GRU_Model\"\n",
            "_________________________________________________________________\n",
            "Layer (type)                 Output Shape              Param #   \n",
            "=================================================================\n",
            "The_Brain (LSTM)             (None, 100, 128)          99840     \n",
            "_________________________________________________________________\n",
            "The_Hand (Dense)             (None, 100, 66)           8514      \n",
            "=================================================================\n",
            "Total params: 108,354\n",
            "Trainable params: 108,354\n",
            "Non-trainable params: 0\n",
            "_________________________________________________________________\n"
          ],
          "name": "stdout"
        }
      ]
    },
    {
      "cell_type": "code",
      "metadata": {
        "id": "knXfKSKy_RnS",
        "colab": {
          "base_uri": "https://localhost:8080/"
        },
        "outputId": "efadc9c4-7a8d-48ea-ca85-ef470c63b064"
      },
      "source": [
        "t1 = time.time()\n",
        "hist_lstm = model_lstm.fit(X_train, y_train,\n",
        "                           batch_size=BATCH_SIZE,\n",
        "                           epochs=EPOCHS,\n",
        "                           validation_data=(X_val, y_val))\n",
        "t2 = time.time()\n",
        "t_lstm = t2 - t1\n",
        "\n",
        "t1 = time.time()\n",
        "hist_gru = model_gru.fit(X_train, y_train,\n",
        "                         batch_size=BATCH_SIZE,\n",
        "                         epochs=EPOCHS,\n",
        "                         validation_data=(X_val, y_val))\n",
        "t2 = time.time()\n",
        "t_gru = t2 - t1\n",
        "\n",
        "print(\"LSTM Training took:\", timedelta(seconds=t_lstm))\n",
        "print(\"GRU  Training took:\", timedelta(seconds=t_gru))"
      ],
      "execution_count": 14,
      "outputs": [
        {
          "output_type": "stream",
          "text": [
            "Epoch 1/20\n",
            "72/72 [==============================] - 6s 39ms/step - loss: 3.2796 - accuracy: 0.1690 - val_loss: 2.4746 - val_accuracy: 0.3046\n",
            "Epoch 2/20\n",
            "72/72 [==============================] - 2s 31ms/step - loss: 2.2992 - accuracy: 0.3417 - val_loss: 2.0567 - val_accuracy: 0.4035\n",
            "Epoch 3/20\n",
            "72/72 [==============================] - 2s 30ms/step - loss: 2.0011 - accuracy: 0.4146 - val_loss: 1.8661 - val_accuracy: 0.4491\n",
            "Epoch 4/20\n",
            "72/72 [==============================] - 2s 30ms/step - loss: 1.8285 - accuracy: 0.4589 - val_loss: 1.7425 - val_accuracy: 0.4814\n",
            "Epoch 5/20\n",
            "72/72 [==============================] - 2s 31ms/step - loss: 1.7179 - accuracy: 0.4886 - val_loss: 1.6725 - val_accuracy: 0.5010\n",
            "Epoch 6/20\n",
            "72/72 [==============================] - 2s 31ms/step - loss: 1.6376 - accuracy: 0.5097 - val_loss: 1.6180 - val_accuracy: 0.5169\n",
            "Epoch 7/20\n",
            "72/72 [==============================] - 2s 30ms/step - loss: 1.5864 - accuracy: 0.5230 - val_loss: 1.5808 - val_accuracy: 0.5253\n",
            "Epoch 8/20\n",
            "72/72 [==============================] - 2s 31ms/step - loss: 1.5436 - accuracy: 0.5341 - val_loss: 1.5531 - val_accuracy: 0.5332\n",
            "Epoch 9/20\n",
            "72/72 [==============================] - 2s 31ms/step - loss: 1.5137 - accuracy: 0.5421 - val_loss: 1.5361 - val_accuracy: 0.5373\n",
            "Epoch 10/20\n",
            "72/72 [==============================] - 2s 31ms/step - loss: 1.4872 - accuracy: 0.5484 - val_loss: 1.5188 - val_accuracy: 0.5426\n",
            "Epoch 11/20\n",
            "72/72 [==============================] - 2s 31ms/step - loss: 1.4675 - accuracy: 0.5541 - val_loss: 1.4937 - val_accuracy: 0.5494\n",
            "Epoch 12/20\n",
            "72/72 [==============================] - 2s 31ms/step - loss: 1.4562 - accuracy: 0.5564 - val_loss: 1.4940 - val_accuracy: 0.5466\n",
            "Epoch 13/20\n",
            "72/72 [==============================] - 2s 31ms/step - loss: 1.4419 - accuracy: 0.5597 - val_loss: 1.4791 - val_accuracy: 0.5529\n",
            "Epoch 14/20\n",
            "72/72 [==============================] - 2s 31ms/step - loss: 1.4251 - accuracy: 0.5642 - val_loss: 1.4754 - val_accuracy: 0.5520\n",
            "Epoch 15/20\n",
            "72/72 [==============================] - 2s 31ms/step - loss: 1.4195 - accuracy: 0.5664 - val_loss: 1.4694 - val_accuracy: 0.5536\n",
            "Epoch 16/20\n",
            "72/72 [==============================] - 2s 31ms/step - loss: 1.4135 - accuracy: 0.5672 - val_loss: 1.4669 - val_accuracy: 0.5563\n",
            "Epoch 17/20\n",
            "72/72 [==============================] - 2s 31ms/step - loss: 1.4033 - accuracy: 0.5692 - val_loss: 1.4621 - val_accuracy: 0.5573\n",
            "Epoch 18/20\n",
            "72/72 [==============================] - 2s 31ms/step - loss: 1.3946 - accuracy: 0.5720 - val_loss: 1.4551 - val_accuracy: 0.5604\n",
            "Epoch 19/20\n",
            "72/72 [==============================] - 2s 31ms/step - loss: 1.3878 - accuracy: 0.5737 - val_loss: 1.4542 - val_accuracy: 0.5596\n",
            "Epoch 20/20\n",
            "72/72 [==============================] - 2s 31ms/step - loss: 1.3821 - accuracy: 0.5749 - val_loss: 1.4505 - val_accuracy: 0.5607\n",
            "Epoch 1/20\n",
            "72/72 [==============================] - 5s 38ms/step - loss: 3.3087 - accuracy: 0.1645 - val_loss: 2.4120 - val_accuracy: 0.3179\n",
            "Epoch 2/20\n",
            "72/72 [==============================] - 2s 31ms/step - loss: 2.3021 - accuracy: 0.3430 - val_loss: 2.1179 - val_accuracy: 0.3868\n",
            "Epoch 3/20\n",
            "72/72 [==============================] - 2s 31ms/step - loss: 1.9962 - accuracy: 0.4159 - val_loss: 1.8592 - val_accuracy: 0.4523\n",
            "Epoch 4/20\n",
            "72/72 [==============================] - 2s 31ms/step - loss: 1.8275 - accuracy: 0.4604 - val_loss: 1.7526 - val_accuracy: 0.4808\n",
            "Epoch 5/20\n",
            "72/72 [==============================] - 2s 31ms/step - loss: 1.7185 - accuracy: 0.4901 - val_loss: 1.6813 - val_accuracy: 0.4990\n",
            "Epoch 6/20\n",
            "72/72 [==============================] - 2s 31ms/step - loss: 1.6428 - accuracy: 0.5088 - val_loss: 1.6145 - val_accuracy: 0.5185\n",
            "Epoch 7/20\n",
            "72/72 [==============================] - 2s 31ms/step - loss: 1.5920 - accuracy: 0.5223 - val_loss: 1.5819 - val_accuracy: 0.5256\n",
            "Epoch 8/20\n",
            "72/72 [==============================] - 2s 32ms/step - loss: 1.5495 - accuracy: 0.5325 - val_loss: 1.5559 - val_accuracy: 0.5318\n",
            "Epoch 9/20\n",
            "72/72 [==============================] - 2s 31ms/step - loss: 1.5189 - accuracy: 0.5405 - val_loss: 1.5335 - val_accuracy: 0.5382\n",
            "Epoch 10/20\n",
            "72/72 [==============================] - 2s 31ms/step - loss: 1.4920 - accuracy: 0.5472 - val_loss: 1.5196 - val_accuracy: 0.5415\n",
            "Epoch 11/20\n",
            "72/72 [==============================] - 2s 31ms/step - loss: 1.4718 - accuracy: 0.5526 - val_loss: 1.4946 - val_accuracy: 0.5487\n",
            "Epoch 12/20\n",
            "72/72 [==============================] - 2s 31ms/step - loss: 1.4606 - accuracy: 0.5558 - val_loss: 1.4896 - val_accuracy: 0.5486\n",
            "Epoch 13/20\n",
            "72/72 [==============================] - 2s 31ms/step - loss: 1.4426 - accuracy: 0.5595 - val_loss: 1.4816 - val_accuracy: 0.5512\n",
            "Epoch 14/20\n",
            "72/72 [==============================] - 2s 31ms/step - loss: 1.4284 - accuracy: 0.5631 - val_loss: 1.4819 - val_accuracy: 0.5504\n",
            "Epoch 15/20\n",
            "72/72 [==============================] - 2s 31ms/step - loss: 1.4212 - accuracy: 0.5658 - val_loss: 1.4726 - val_accuracy: 0.5537\n",
            "Epoch 16/20\n",
            "72/72 [==============================] - 2s 31ms/step - loss: 1.4150 - accuracy: 0.5673 - val_loss: 1.4676 - val_accuracy: 0.5568\n",
            "Epoch 17/20\n",
            "72/72 [==============================] - 2s 31ms/step - loss: 1.4050 - accuracy: 0.5693 - val_loss: 1.4640 - val_accuracy: 0.5564\n",
            "Epoch 18/20\n",
            "72/72 [==============================] - 2s 31ms/step - loss: 1.3968 - accuracy: 0.5715 - val_loss: 1.4571 - val_accuracy: 0.5585\n",
            "Epoch 19/20\n",
            "72/72 [==============================] - 2s 31ms/step - loss: 1.3895 - accuracy: 0.5725 - val_loss: 1.4537 - val_accuracy: 0.5593\n",
            "Epoch 20/20\n",
            "72/72 [==============================] - 2s 31ms/step - loss: 1.3839 - accuracy: 0.5742 - val_loss: 1.4524 - val_accuracy: 0.5603\n",
            "LSTM Training took: 0:00:47.702789\n",
            "GRU  Training took: 0:00:47.165207\n"
          ],
          "name": "stdout"
        }
      ]
    },
    {
      "cell_type": "code",
      "metadata": {
        "id": "pBhZLFoNpvVD",
        "colab": {
          "base_uri": "https://localhost:8080/"
        },
        "outputId": "8d1b5fa8-a026-45b4-a548-3d2f42eeb9c9"
      },
      "source": [
        "# Compare Output\n",
        "\n",
        "print(\"-\"*15, \"%9s\" % \"SimpleRNN\", \"-\"*15, \"\\n\")\n",
        "print(predict_sentence(\"ROMEO:\\n\", 200, one_hot, model)) \n",
        "print(\"-\"*15, \"%9s\" % \"LSTM\", \"-\"*15, \"\\n\")\n",
        "print(predict_sentence(\"ROMEO:\\n\", 200, one_hot, model_lstm)) \n",
        "print(\"-\"*15, \"%9s\" % \"GRU\", \"-\"*15, \"\\n\")\n",
        "print(predict_sentence(\"ROMEO:\\n\", 200, one_hot, model_gru)) "
      ],
      "execution_count": 15,
      "outputs": [
        {
          "output_type": "stream",
          "text": [
            "--------------- SimpleRNN --------------- \n",
            "\n",
            "ROMEO:\n",
            "The will be such a with the word of the word to the word to the word to the word to the word to the word to the word to the word to the word to the word to the word to the word to the word to the word\n",
            "---------------      LSTM --------------- \n",
            "\n",
            "WARNING:tensorflow:Model was constructed with shape (None, 100, 66) for input KerasTensor(type_spec=TensorSpec(shape=(None, 100, 66), dtype=tf.float32, name='The_Brain_input'), name='The_Brain_input', description=\"created by layer 'The_Brain_input'\"), but it was called on an input with incompatible shape (None, 7, 66).\n",
            "WARNING:tensorflow:Model was constructed with shape (None, 100, 66) for input KerasTensor(type_spec=TensorSpec(shape=(None, 100, 66), dtype=tf.float32, name='The_Brain_input'), name='The_Brain_input', description=\"created by layer 'The_Brain_input'\"), but it was called on an input with incompatible shape (None, 8, 66).\n",
            "ROMEO:\n",
            "Then is the brother that I will not so may be so for the commons of the court.\n",
            "\n",
            "PETRUCHIO:\n",
            "I will not so much as the best the state,\n",
            "And the state the court of the court of the court.\n",
            "\n",
            "PETRUCHIO:\n",
            "I wi\n",
            "---------------       GRU --------------- \n",
            "\n",
            "WARNING:tensorflow:Model was constructed with shape (None, 100, 66) for input KerasTensor(type_spec=TensorSpec(shape=(None, 100, 66), dtype=tf.float32, name='The_Brain_input'), name='The_Brain_input', description=\"created by layer 'The_Brain_input'\"), but it was called on an input with incompatible shape (None, 7, 66).\n",
            "WARNING:tensorflow:Model was constructed with shape (None, 100, 66) for input KerasTensor(type_spec=TensorSpec(shape=(None, 100, 66), dtype=tf.float32, name='The_Brain_input'), name='The_Brain_input', description=\"created by layer 'The_Brain_input'\"), but it was called on an input with incompatible shape (None, 8, 66).\n",
            "ROMEO:\n",
            "What shall be so shall be so fair state that thou art thou didst not stay.\n",
            "\n",
            "KING EDWARD IV:\n",
            "What shall be so shall be so fair state that thou art thou didst not stay.\n",
            "\n",
            "KING EDWARD IV:\n",
            "What shall be so\n"
          ],
          "name": "stdout"
        }
      ]
    },
    {
      "cell_type": "markdown",
      "metadata": {
        "id": "8ZyureKEhM0H"
      },
      "source": [
        "(2) Plotten Sie die Accuracy und Loss der drei Modelle in einem Diagramm. Verwenden Sie zusätzlich die Methode `predict_sentence` (7.5.2), um die Vorhersagen zu vergleichen.\n",
        "Welche Erkenntnisse haben Sie aus dem Training gezogen? Wie könnten die Vorhersagen verbessert werden? "
      ]
    },
    {
      "cell_type": "markdown",
      "metadata": {
        "id": "q8fe7kxBhFOM"
      },
      "source": [
        "> <Antwort hier einfügen>\n",
        "\n",
        "> **Musterlösung:**\n",
        "\n",
        "Erkenntnisse:\n",
        "- SimpleRNN leidet unter Gedächtnisverlust\n",
        "- LSTM und GRU haben eine geringfügig bessere Accuracy - die vorhergesagten Texte sind aber **deutlich** besser!\n",
        "\n",
        "Verbesserung:\n",
        "- Mehr Trainingszeit Zeit\n",
        "- Längere Sequenzen an Testdaten\n"
      ]
    },
    {
      "cell_type": "code",
      "metadata": {
        "id": "0HlKt70B_RnT",
        "colab": {
          "base_uri": "https://localhost:8080/",
          "height": 606
        },
        "outputId": "157ff679-0000-4e4e-8921-ed2b42cf4e6d"
      },
      "source": [
        "fig, ax = plt.subplots(1, 1)\n",
        "\n",
        "for n, h in [(\"simple rnn\", hist), (\"lstm\", hist_lstm), (\"gru\", hist_gru)]:\n",
        "\n",
        "    ax.plot(h.history[\"loss\"], label=f'{n} loss')\n",
        "    ax.plot(h.history[\"accuracy\"], label=f'{n} accuracy')\n",
        "    ax.plot(h.history[\"val_loss\"], label=f'{n} validation loss')\n",
        "    ax.plot(h.history[\"val_accuracy\"], label=f'{n} validation accuracy')\n",
        "\n",
        "ax.set_xlabel(\"Epoch\")\n",
        "ax.legend()\n",
        "\n",
        "fig.set_size_inches(20, 10)\n",
        "\n",
        "plt.show()"
      ],
      "execution_count": 16,
      "outputs": [
        {
          "output_type": "display_data",
          "data": {
            "image/png": "[encoded data removed]",
            "text/plain": [
              "<Figure size 1440x720 with 1 Axes>"
            ]
          },
          "metadata": {
            "tags": [],
            "needs_background": "light"
          }
        }
      ]
    },
    {
      "cell_type": "markdown",
      "metadata": {
        "id": "pMWgGgRZ_RnT"
      },
      "source": [
        "## 7.7 **Optional** Schriftsteller\n",
        "\n",
        "Mit den Erkenntnissen aus der Vorlesung, den vorherigen Übungsaufgaben und ein bisschen Python Erfahrung sind Sie nun in der Lage nicht nur einzele Buchstaben vorherzusagen, sondern könnten auch beliebig viele Zeichen generieren und dadurch ganze Bücher schreiben [lassen].\n",
        "\n",
        "Sie können für diesen Aufgabenteil den ursprünglichen Datensatz anpassen und Beispielsweise die Coronaschutzverordnung, wissenschaftliche Artikel oder Meldungen aus Tageszeitungen verwenden.\n",
        "\n",
        "Gelingt es Ihnen den 8ten Band von Harry Potter zu erstellen?\n",
        "\n",
        "**Ihre Aufgaben**\n",
        "\n",
        "(1) Was müssten Sie ändern, um mithilfe des bisherigen Modells ein ganzes Buch erstellen zu lassen? Glauben Sie, dass das Ergebnis lesbar wäre?"
      ]
    },
    {
      "cell_type": "markdown",
      "metadata": {
        "id": "yduJYx0HiaMr"
      },
      "source": [
        "> <Antwort hier einfügen>\n",
        "\n",
        "> **Musterlösung:** TODO\n",
        "Sowas wie\n",
        "- Mehr Trainingszeit\n",
        "- Hierfür wollen wir wenn möglich beliebig viele Zeichen generieren, dabei den hidden state behalten und nicht konstant das bisher geschriebene als Input wieder einfügen. Deshalb nutzen wir hier eine eigene Klasse für das Netz, die dann die Layer enthält, aber aich den Hidden state zurück geben kann."
      ]
    },
    {
      "cell_type": "markdown",
      "metadata": {
        "id": "Wyhz--mz_RnT"
      },
      "source": [
        "(2) Erstellen Sie ein neues Modell, welches zu einem gegebenen Text von wenigen Worten in der Lage ist ein ganzes Buch zu vervollständigen."
      ]
    },
    {
      "cell_type": "code",
      "metadata": {
        "id": "n2ZzbyYX_RnV"
      },
      "source": [
        "class CustomRNNModel(tf.keras.Model):\n",
        "    def __init__(self, vocab_size, rnn_units, rnn_layer_type = tf.keras.layers.GRU):\n",
        "        super().__init__(self)\n",
        "        # Put layers here. We will call them manually but store them here\n",
        "        self.rnn_layer = rnn_layer_type(rnn_units, return_sequences=True, return_state=True)\n",
        "        self.dense = tf.keras.layers.Dense(vocab_size, activation='softmax')\n",
        "\n",
        "    def call(self, inputs, states=None, return_state=False, training=False):\n",
        "        # Here we put our input through all out layers\n",
        "        x = tf.cast(inputs, dtype=float)\n",
        "        if states is None:\n",
        "            # Get an initial kind of empty state\n",
        "            states = self.rnn_layer.get_initial_state(x)\n",
        "        \n",
        "        x, states = self.rnn_layer(x, initial_state=states, training=training)\n",
        "        x = self.dense(x, training=training)\n",
        "\n",
        "        if return_state:\n",
        "            return x, states\n",
        "        else:\n",
        "            return x"
      ],
      "execution_count": 26,
      "outputs": []
    },
    {
      "cell_type": "code",
      "metadata": {
        "id": "4fiFktPV_RnV",
        "colab": {
          "base_uri": "https://localhost:8080/"
        },
        "outputId": "1710f240-ca99-4922-caf5-3ee55f6661fb"
      },
      "source": [
        "literatur_model = CustomRNNModel(vocab_size=vocab_size, rnn_units=rnn_units)\n",
        "\n",
        "input_example_batch = X_train[0]\n",
        "input_example_batch = input_example_batch.reshape((1, *input_example_batch.shape))\n",
        "\n",
        "example_batch_predictions = literatur_model.predict(input_example_batch)\n",
        "print(input_example_batch.shape, y_train[0].shape, example_batch_predictions.shape)\n",
        "\n",
        "print(\"Test sequence:\", \"\\n\", \"-\" * 25, \"\\n\", untokenize(one_hot.decode(X_train[0])), \"\\n\", \"-\"*25)\n",
        "print(\"Expected result:\", \"\\n\", \"-\" * 25, \"\\n\", untokenize(one_hot.decode(y_train[0])), \"\\n\", \"-\"*25)\n",
        "print(\"Untrained prediction:\", \"\\n\", \"-\" * 25, \"\\n\", untokenize(one_hot.decode(example_batch_predictions[0])), \"\\n\", \"-\"*25)\n",
        "\n",
        "optimizer = tf.keras.optimizers.RMSprop(learning_rate=0.01)\n",
        "literatur_model.compile(loss='categorical_crossentropy', optimizer=optimizer, metrics=['accuracy'])\n",
        "\n",
        "literatur_model.summary()"
      ],
      "execution_count": 27,
      "outputs": [
        {
          "output_type": "stream",
          "text": [
            "(1, 100, 66) (100, 66) (1, 100, 66)\n",
            "Test sequence: \n",
            " ------------------------- \n",
            " vereign's face.\n",
            "I am the last of noble Edward's sons,\n",
            "Of whom thy father, Prince of Wales, was first \n",
            " -------------------------\n",
            "Expected result: \n",
            " ------------------------- \n",
            " ereign's face.\n",
            "I am the last of noble Edward's sons,\n",
            "Of whom thy father, Prince of Wales, was first: \n",
            " -------------------------\n",
            "Untrained prediction: \n",
            " ------------------------- \n",
            " [UNKNOWN]d3d!lR::BL:hdL:&UruQBwjv:K::BLLLLLLLjLLQDrRKD:B-nLAq:::LDwwaQYYjBL;:wj3fUf3llhvvLLLLrKjjdUvr:BLL333 \n",
            " -------------------------\n",
            "Model: \"custom_rnn_model_3\"\n",
            "_________________________________________________________________\n",
            "Layer (type)                 Output Shape              Param #   \n",
            "=================================================================\n",
            "gru_3 (GRU)                  multiple                  75264     \n",
            "_________________________________________________________________\n",
            "dense_3 (Dense)              multiple                  8514      \n",
            "=================================================================\n",
            "Total params: 83,778\n",
            "Trainable params: 83,778\n",
            "Non-trainable params: 0\n",
            "_________________________________________________________________\n"
          ],
          "name": "stdout"
        }
      ]
    },
    {
      "cell_type": "code",
      "metadata": {
        "id": "9QuI2o2c_RnV",
        "colab": {
          "base_uri": "https://localhost:8080/"
        },
        "outputId": "620ef2b1-d3af-416b-a2e4-6e6facfe94bd"
      },
      "source": [
        "t1 = time.time()\n",
        "hist_custom = literatur_model.fit(X_train, y_train,\n",
        "                           batch_size=BATCH_SIZE,\n",
        "                           epochs=EPOCHS,\n",
        "                           validation_data=(X_val, y_val))\n",
        "t2 = time.time()\n",
        "\n",
        "print(\"Training took:\", timedelta(seconds=t2-t1))"
      ],
      "execution_count": null,
      "outputs": [
        {
          "output_type": "stream",
          "text": [
            "Epoch 1/20\n",
            "72/72 [==============================] - 21s 274ms/step - loss: 3.0042 - accuracy: 0.2399 - val_loss: 2.1151 - val_accuracy: 0.3817\n",
            "Epoch 2/20\n",
            "72/72 [==============================] - 19s 267ms/step - loss: 2.0328 - accuracy: 0.4059 - val_loss: 1.8527 - val_accuracy: 0.4519\n",
            "Epoch 3/20\n",
            "72/72 [==============================] - 19s 263ms/step - loss: 1.8023 - accuracy: 0.4656 - val_loss: 1.7081 - val_accuracy: 0.4943\n",
            "Epoch 4/20\n",
            "72/72 [==============================] - 19s 260ms/step - loss: 1.6847 - accuracy: 0.4966 - val_loss: 1.6638 - val_accuracy: 0.4975\n",
            "Epoch 5/20\n",
            "72/72 [==============================] - 19s 267ms/step - loss: 1.6226 - accuracy: 0.5126 - val_loss: 1.6127 - val_accuracy: 0.5133\n",
            "Epoch 6/20\n",
            "72/72 [==============================] - 19s 259ms/step - loss: 1.5785 - accuracy: 0.5243 - val_loss: 1.5698 - val_accuracy: 0.5290\n",
            "Epoch 7/20\n",
            "72/72 [==============================] - 19s 265ms/step - loss: 1.5472 - accuracy: 0.5327 - val_loss: 1.5491 - val_accuracy: 0.5343\n",
            "Epoch 8/20\n",
            "72/72 [==============================] - 19s 260ms/step - loss: 1.5188 - accuracy: 0.5393 - val_loss: 1.5454 - val_accuracy: 0.5360\n",
            "Epoch 9/20\n",
            "72/72 [==============================] - 19s 262ms/step - loss: 1.5043 - accuracy: 0.5424 - val_loss: 1.5241 - val_accuracy: 0.5410\n",
            "Epoch 10/20\n",
            "72/72 [==============================] - 19s 258ms/step - loss: 1.4869 - accuracy: 0.5469 - val_loss: 1.5237 - val_accuracy: 0.5393\n",
            "Epoch 11/20\n",
            "72/72 [==============================] - 19s 261ms/step - loss: 1.4733 - accuracy: 0.5508 - val_loss: 1.5124 - val_accuracy: 0.5456\n",
            "Epoch 12/20\n",
            "72/72 [==============================] - 19s 264ms/step - loss: 1.4688 - accuracy: 0.5523 - val_loss: 1.5155 - val_accuracy: 0.5365\n",
            "Epoch 13/20\n",
            "72/72 [==============================] - 19s 264ms/step - loss: 1.4584 - accuracy: 0.5535 - val_loss: 1.5088 - val_accuracy: 0.5439\n",
            "Epoch 14/20\n",
            "18/72 [======>.......................] - ETA: 13s - loss: 1.4418 - accuracy: 0.5576"
          ],
          "name": "stdout"
        }
      ]
    },
    {
      "cell_type": "code",
      "metadata": {
        "id": "JYhQtFyT_RnW",
        "outputId": "b09e8230-5ab4-4987-e96d-10e47266c495",
        "colab": {
          "base_uri": "https://localhost:8080/",
          "height": 606
        }
      },
      "source": [
        "fig, ax = plt.subplots(1, 1)\n",
        "\n",
        "ax.plot(hist_custom.history[\"loss\"], label='loss')\n",
        "ax.plot(hist_custom.history[\"accuracy\"], label='accuracy')\n",
        "ax.plot(hist_custom.history[\"val_loss\"], label='validation loss')\n",
        "ax.plot(hist_custom.history[\"val_accuracy\"], label='validation accuracy')\n",
        "ax.set_xlabel(\"Epoch\")\n",
        "ax.legend()\n",
        "\n",
        "fig.set_size_inches(20, 10)\n",
        "\n",
        "plt.show()"
      ],
      "execution_count": 20,
      "outputs": [
        {
          "output_type": "display_data",
          "data": {
            "image/png": "[encoded data removed]",
            "text/plain": [
              "<Figure size 1440x720 with 1 Axes>"
            ]
          },
          "metadata": {
            "tags": [],
            "needs_background": "light"
          }
        }
      ]
    },
    {
      "cell_type": "code",
      "metadata": {
        "id": "QE7snkJg_RnW"
      },
      "source": [
        "def create_text(amount_symbols, init_text, text_model):    \n",
        "    # Tokenize text\n",
        "    ret = tokenize(init_text)\n",
        "    \n",
        "    states = None\n",
        "    current_char = one_hot.encode(ret, dtype=float)\n",
        "    # For some reason we have to add one dimension\n",
        "    current_char = current_char.reshape(1, *current_char.shape)\n",
        "    \n",
        "    for i in range(amount_symbols):\n",
        "        current_char, states = text_model(current_char, return_state = True, states = states)\n",
        "        # Only add last char if several got \n",
        "        ret.append(one_hot.decode(current_char[0])[-1])\n",
        "        \n",
        "    return untokenize(ret)\n",
        "    "
      ],
      "execution_count": 21,
      "outputs": []
    },
    {
      "cell_type": "code",
      "metadata": {
        "id": "QWQ-b8AS_RnW",
        "outputId": "e5fe1f5d-5d5e-4fd2-c4b4-5f41f3cfe9fd",
        "colab": {
          "base_uri": "https://localhost:8080/"
        }
      },
      "source": [
        "created_text = create_text(250, \"ROMEO:\\n\", literatur_model)\n",
        "\n",
        "print(created_text)\n",
        "\n",
        "\n",
        "print(\"-\"*15, \"%9s\" % \"CustomRNN\", \"-\"*15, \"\\n\")\n",
        "print(predict_sentence(\"ROMEO:\\n\", 200, one_hot, literatur_model)) "
      ],
      "execution_count": 22,
      "outputs": [
        {
          "output_type": "stream",
          "text": [
            "Prince  a esor a eseses t aseses s a iseses t aseses s a iseses a iseses t aseses s a iseses t aseses s a iseses a iseses t aseses s a iseses t aseses s a iseses a iseses t aseses s a iseses t aseses s a iseses a iseses t aseses s a iseses t aseses s a ise\n"
          ],
          "name": "stdout"
        }
      ]
    }
  ]
}