{
  "nbformat": 4,
  "nbformat_minor": 0,
  "metadata": {
    "colab": {
      "name": "Übung-RNN-Lösung.ipynb",
      "provenance": [],
      "authorship_tag": "ABX9TyMq+K20Puo5Sv9kQTS6dlDP",
      "include_colab_link": true
    },
    "kernelspec": {
      "name": "python3",
      "display_name": "Python 3"
    },
    "language_info": {
      "name": "python"
    }
  },
  "cells": [
    {
      "cell_type": "markdown",
      "metadata": {
        "id": "view-in-github",
        "colab_type": "text"
      },
      "source": [
        "<a href=\"https://colab.research.google.com/github/fhac-ewi/recurrent-neural-network/blob/main/%C3%9Cbung_RNN_L%C3%B6sung.ipynb\" target=\"_parent\"><img src=\"https://colab.research.google.com/assets/colab-badge.svg\" alt=\"Open In Colab\"/></a>"
      ]
    },
    {
      "cell_type": "markdown",
      "metadata": {
        "id": "yYD6gvw1vwii"
      },
      "source": [
        "# Übung RNN\n",
        "\n",
        "## In dieser Übung ...\n",
        "... beschäftigen wir uns mit rekurrenten Neuronen. \n",
        "\n",
        "TODO Vervollständigung, Inhalt und Ziele der Übung herausstellen.\n",
        "\n",
        "\n",
        "\n",
        "\n"
      ]
    },
    {
      "cell_type": "markdown",
      "metadata": {
        "id": "a1CXeYPHyywV"
      },
      "source": [
        "## x.1 One Hot Kodierung\n",
        "\n",
        "TODO Einleitung schreiben.\n",
        "\n",
        "**Ihre Aufgaben**\n",
        "\n",
        "(1) TODO (Weitere Aufgaben als weitere Textzelle einfügen, damit man theoretisch direkt die Antwort unter die Aufgabe programmieren kann)"
      ]
    },
    {
      "cell_type": "code",
      "metadata": {
        "id": "ANQUdX5hyPTu"
      },
      "source": [
        ""
      ],
      "execution_count": null,
      "outputs": []
    },
    {
      "cell_type": "markdown",
      "metadata": {
        "id": "WglUJhhgyWSs"
      },
      "source": [
        "## x.2 Erstellung eines eigenen Datensatzes \n",
        "\n",
        "TODO Einleitung schreiben.\n",
        "\n",
        "**Ihre Aufgaben**\n",
        "\n",
        "(1) TODO"
      ]
    },
    {
      "cell_type": "code",
      "metadata": {
        "id": "miApcJctvteM"
      },
      "source": [
        ""
      ],
      "execution_count": null,
      "outputs": []
    },
    {
      "cell_type": "markdown",
      "metadata": {
        "id": "axndj50eyWrw"
      },
      "source": [
        "## x.3 Training eines RNN Modells\n",
        "\n",
        "TODO Einleitung schreiben.\n",
        "\n",
        "**Ihre Aufgaben**\n",
        "\n",
        "(1) TODO"
      ]
    },
    {
      "cell_type": "code",
      "metadata": {
        "id": "iGpNzqcuyW5-"
      },
      "source": [
        ""
      ],
      "execution_count": null,
      "outputs": []
    },
    {
      "cell_type": "markdown",
      "metadata": {
        "id": "0d7pKNy1ycN7"
      },
      "source": [
        "## x.4 Vergleich mit LSTM und GRU\n",
        "\n",
        "TODO Einleitung schreiben.\n",
        "\n",
        "**Ihre Aufgaben**\n",
        "\n",
        "(1) TODO"
      ]
    },
    {
      "cell_type": "code",
      "metadata": {
        "id": "IehQ7h3uyeY6"
      },
      "source": [
        ""
      ],
      "execution_count": null,
      "outputs": []
    },
    {
      "cell_type": "markdown",
      "metadata": {
        "id": "ohXd9Bfgye0I"
      },
      "source": [
        "## x.5 (Optional) Try it yourself\n",
        "\n",
        "TODO Einleitung schreiben.\n",
        "\n",
        "**Ihre Aufgaben**\n",
        "\n",
        "(1) TODO"
      ]
    },
    {
      "cell_type": "code",
      "metadata": {
        "id": "emVlfQF3yhI_"
      },
      "source": [
        ""
      ],
      "execution_count": null,
      "outputs": []
    },
    {
      "cell_type": "markdown",
      "metadata": {
        "id": "gHzMWCO3ygRe"
      },
      "source": [
        "## Wusstest du? \n",
        "Mit dem Wissen aus dieser Vorlesungseinheit/Übung könntest du deine eigene Autovervollständigung programmieren. \n",
        "\n",
        "TODO Erklären wie das geht. Nützliche Links einstreuen."
      ]
    }
  ]
}