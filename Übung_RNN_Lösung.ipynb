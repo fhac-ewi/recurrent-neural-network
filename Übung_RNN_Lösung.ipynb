{
  "nbformat": 4,
  "nbformat_minor": 0,
  "metadata": {
    "colab": {
      "name": "Übung-RNN-Lösung.ipynb",
      "provenance": [],
      "toc_visible": true,
      "include_colab_link": true
    },
    "kernelspec": {
      "display_name": "Python 3",
      "language": "python",
      "name": "python3"
    },
    "language_info": {
      "codemirror_mode": {
        "name": "ipython",
        "version": 3
      },
      "file_extension": ".py",
      "mimetype": "text/x-python",
      "name": "python",
      "nbconvert_exporter": "python",
      "pygments_lexer": "ipython3",
      "version": "3.6.9"
    },
    "accelerator": "GPU",
    "widgets": {
      "application/vnd.jupyter.widget-state+json": {
        "4139e3e5ba4242eebe33227b8556de34": {
          "model_module": "@jupyter-widgets/controls",
          "model_name": "VBoxModel",
          "state": {
            "_view_name": "VBoxView",
            "_dom_classes": [
              "widget-interact"
            ],
            "_model_name": "VBoxModel",
            "_view_module": "@jupyter-widgets/controls",
            "_model_module_version": "1.5.0",
            "_view_count": null,
            "_view_module_version": "1.5.0",
            "box_style": "",
            "layout": "IPY_MODEL_ee19a117e89449258b9c2241610ef496",
            "_model_module": "@jupyter-widgets/controls",
            "children": [
              "IPY_MODEL_03ec45b2d06e44e2ab0f31f246deb258",
              "IPY_MODEL_c4429e5428764d7ba9596738f3bc9927"
            ]
          }
        },
        "ee19a117e89449258b9c2241610ef496": {
          "model_module": "@jupyter-widgets/base",
          "model_name": "LayoutModel",
          "state": {
            "_view_name": "LayoutView",
            "grid_template_rows": null,
            "right": null,
            "justify_content": null,
            "_view_module": "@jupyter-widgets/base",
            "overflow": null,
            "_model_module_version": "1.2.0",
            "_view_count": null,
            "flex_flow": null,
            "width": null,
            "min_width": null,
            "border": null,
            "align_items": null,
            "bottom": null,
            "_model_module": "@jupyter-widgets/base",
            "top": null,
            "grid_column": null,
            "overflow_y": null,
            "overflow_x": null,
            "grid_auto_flow": null,
            "grid_area": null,
            "grid_template_columns": null,
            "flex": null,
            "_model_name": "LayoutModel",
            "justify_items": null,
            "grid_row": null,
            "max_height": null,
            "align_content": null,
            "visibility": null,
            "align_self": null,
            "height": null,
            "min_height": null,
            "padding": null,
            "grid_auto_rows": null,
            "grid_gap": null,
            "max_width": null,
            "order": null,
            "_view_module_version": "1.2.0",
            "grid_template_areas": null,
            "object_position": null,
            "object_fit": null,
            "grid_auto_columns": null,
            "margin": null,
            "display": null,
            "left": null
          }
        },
        "03ec45b2d06e44e2ab0f31f246deb258": {
          "model_module": "@jupyter-widgets/controls",
          "model_name": "TextModel",
          "state": {
            "_view_name": "TextView",
            "style": "IPY_MODEL_712c3332d36044768c4521101822c0ca",
            "_dom_classes": [],
            "description": "Your text:",
            "_model_name": "TextModel",
            "placeholder": "Type something",
            "_view_module": "@jupyter-widgets/controls",
            "_model_module_version": "1.5.0",
            "value": "Hello Worl",
            "_view_count": null,
            "disabled": false,
            "_view_module_version": "1.5.0",
            "continuous_update": true,
            "description_tooltip": null,
            "_model_module": "@jupyter-widgets/controls",
            "layout": "IPY_MODEL_6a2f7a75949d4f91bb3b9e9edd334953"
          }
        },
        "c4429e5428764d7ba9596738f3bc9927": {
          "model_module": "@jupyter-widgets/output",
          "model_name": "OutputModel",
          "state": {
            "_view_name": "OutputView",
            "msg_id": "",
            "_dom_classes": [],
            "_model_name": "OutputModel",
            "outputs": [
              {
                "output_type": "stream",
                "metadata": {
                  "tags": []
                },
                "text": "I think the next will be \"y\" after you said \"Hello Worl\"\n",
                "stream": "stdout"
              }
            ],
            "_view_module": "@jupyter-widgets/output",
            "_model_module_version": "1.0.0",
            "_view_count": null,
            "_view_module_version": "1.0.0",
            "layout": "IPY_MODEL_7d8fd449181e4fec9807324c93396c16",
            "_model_module": "@jupyter-widgets/output"
          }
        },
        "712c3332d36044768c4521101822c0ca": {
          "model_module": "@jupyter-widgets/controls",
          "model_name": "DescriptionStyleModel",
          "state": {
            "_view_name": "StyleView",
            "_model_name": "DescriptionStyleModel",
            "description_width": "",
            "_view_module": "@jupyter-widgets/base",
            "_model_module_version": "1.5.0",
            "_view_count": null,
            "_view_module_version": "1.2.0",
            "_model_module": "@jupyter-widgets/controls"
          }
        },
        "6a2f7a75949d4f91bb3b9e9edd334953": {
          "model_module": "@jupyter-widgets/base",
          "model_name": "LayoutModel",
          "state": {
            "_view_name": "LayoutView",
            "grid_template_rows": null,
            "right": null,
            "justify_content": null,
            "_view_module": "@jupyter-widgets/base",
            "overflow": null,
            "_model_module_version": "1.2.0",
            "_view_count": null,
            "flex_flow": null,
            "width": null,
            "min_width": null,
            "border": null,
            "align_items": null,
            "bottom": null,
            "_model_module": "@jupyter-widgets/base",
            "top": null,
            "grid_column": null,
            "overflow_y": null,
            "overflow_x": null,
            "grid_auto_flow": null,
            "grid_area": null,
            "grid_template_columns": null,
            "flex": null,
            "_model_name": "LayoutModel",
            "justify_items": null,
            "grid_row": null,
            "max_height": null,
            "align_content": null,
            "visibility": null,
            "align_self": null,
            "height": null,
            "min_height": null,
            "padding": null,
            "grid_auto_rows": null,
            "grid_gap": null,
            "max_width": null,
            "order": null,
            "_view_module_version": "1.2.0",
            "grid_template_areas": null,
            "object_position": null,
            "object_fit": null,
            "grid_auto_columns": null,
            "margin": null,
            "display": null,
            "left": null
          }
        },
        "7d8fd449181e4fec9807324c93396c16": {
          "model_module": "@jupyter-widgets/base",
          "model_name": "LayoutModel",
          "state": {
            "_view_name": "LayoutView",
            "grid_template_rows": null,
            "right": null,
            "justify_content": null,
            "_view_module": "@jupyter-widgets/base",
            "overflow": null,
            "_model_module_version": "1.2.0",
            "_view_count": null,
            "flex_flow": null,
            "width": null,
            "min_width": null,
            "border": null,
            "align_items": null,
            "bottom": null,
            "_model_module": "@jupyter-widgets/base",
            "top": null,
            "grid_column": null,
            "overflow_y": null,
            "overflow_x": null,
            "grid_auto_flow": null,
            "grid_area": null,
            "grid_template_columns": null,
            "flex": null,
            "_model_name": "LayoutModel",
            "justify_items": null,
            "grid_row": null,
            "max_height": null,
            "align_content": null,
            "visibility": null,
            "align_self": null,
            "height": null,
            "min_height": null,
            "padding": null,
            "grid_auto_rows": null,
            "grid_gap": null,
            "max_width": null,
            "order": null,
            "_view_module_version": "1.2.0",
            "grid_template_areas": null,
            "object_position": null,
            "object_fit": null,
            "grid_auto_columns": null,
            "margin": null,
            "display": null,
            "left": null
          }
        },
        "b1409f641fd641eba6a980c4cf4c2f15": {
          "model_module": "@jupyter-widgets/controls",
          "model_name": "VBoxModel",
          "state": {
            "_view_name": "VBoxView",
            "_dom_classes": [
              "widget-interact"
            ],
            "_model_name": "VBoxModel",
            "_view_module": "@jupyter-widgets/controls",
            "_model_module_version": "1.5.0",
            "_view_count": null,
            "_view_module_version": "1.5.0",
            "box_style": "",
            "layout": "IPY_MODEL_c852fb4924374ccebc2e40ac2d5575f4",
            "_model_module": "@jupyter-widgets/controls",
            "children": [
              "IPY_MODEL_f2907c444c2f4b268d8dddb63c23a461",
              "IPY_MODEL_b72c6b305947435f91292f762aab1afb"
            ]
          }
        },
        "c852fb4924374ccebc2e40ac2d5575f4": {
          "model_module": "@jupyter-widgets/base",
          "model_name": "LayoutModel",
          "state": {
            "_view_name": "LayoutView",
            "grid_template_rows": null,
            "right": null,
            "justify_content": null,
            "_view_module": "@jupyter-widgets/base",
            "overflow": null,
            "_model_module_version": "1.2.0",
            "_view_count": null,
            "flex_flow": null,
            "width": null,
            "min_width": null,
            "border": null,
            "align_items": null,
            "bottom": null,
            "_model_module": "@jupyter-widgets/base",
            "top": null,
            "grid_column": null,
            "overflow_y": null,
            "overflow_x": null,
            "grid_auto_flow": null,
            "grid_area": null,
            "grid_template_columns": null,
            "flex": null,
            "_model_name": "LayoutModel",
            "justify_items": null,
            "grid_row": null,
            "max_height": null,
            "align_content": null,
            "visibility": null,
            "align_self": null,
            "height": null,
            "min_height": null,
            "padding": null,
            "grid_auto_rows": null,
            "grid_gap": null,
            "max_width": null,
            "order": null,
            "_view_module_version": "1.2.0",
            "grid_template_areas": null,
            "object_position": null,
            "object_fit": null,
            "grid_auto_columns": null,
            "margin": null,
            "display": null,
            "left": null
          }
        },
        "f2907c444c2f4b268d8dddb63c23a461": {
          "model_module": "@jupyter-widgets/controls",
          "model_name": "TextModel",
          "state": {
            "_view_name": "TextView",
            "style": "IPY_MODEL_35ef2468c829419fb87798ab5fe31b25",
            "_dom_classes": [],
            "description": "Your SimpleRNN:",
            "_model_name": "TextModel",
            "placeholder": "Type something",
            "_view_module": "@jupyter-widgets/controls",
            "_model_module_version": "1.5.0",
            "value": "Hello Worly",
            "_view_count": null,
            "disabled": false,
            "_view_module_version": "1.5.0",
            "continuous_update": true,
            "description_tooltip": null,
            "_model_module": "@jupyter-widgets/controls",
            "layout": "IPY_MODEL_ccc3b56e85f443f696d7b6d371300879"
          }
        },
        "b72c6b305947435f91292f762aab1afb": {
          "model_module": "@jupyter-widgets/output",
          "model_name": "OutputModel",
          "state": {
            "_view_name": "OutputView",
            "msg_id": "",
            "_dom_classes": [],
            "_model_name": "OutputModel",
            "outputs": [
              {
                "output_type": "stream",
                "metadata": {
                  "tags": []
                },
                "text": "I think the next will be \"y\" after you said \"Hello Worl\"\n",
                "stream": "stdout"
              }
            ],
            "_view_module": "@jupyter-widgets/output",
            "_model_module_version": "1.0.0",
            "_view_count": null,
            "_view_module_version": "1.0.0",
            "layout": "IPY_MODEL_dc564b898cae4343af0c4118730acdc8",
            "_model_module": "@jupyter-widgets/output"
          }
        },
        "35ef2468c829419fb87798ab5fe31b25": {
          "model_module": "@jupyter-widgets/controls",
          "model_name": "DescriptionStyleModel",
          "state": {
            "_view_name": "StyleView",
            "_model_name": "DescriptionStyleModel",
            "description_width": "",
            "_view_module": "@jupyter-widgets/base",
            "_model_module_version": "1.5.0",
            "_view_count": null,
            "_view_module_version": "1.2.0",
            "_model_module": "@jupyter-widgets/controls"
          }
        },
        "ccc3b56e85f443f696d7b6d371300879": {
          "model_module": "@jupyter-widgets/base",
          "model_name": "LayoutModel",
          "state": {
            "_view_name": "LayoutView",
            "grid_template_rows": null,
            "right": null,
            "justify_content": null,
            "_view_module": "@jupyter-widgets/base",
            "overflow": null,
            "_model_module_version": "1.2.0",
            "_view_count": null,
            "flex_flow": null,
            "width": null,
            "min_width": null,
            "border": null,
            "align_items": null,
            "bottom": null,
            "_model_module": "@jupyter-widgets/base",
            "top": null,
            "grid_column": null,
            "overflow_y": null,
            "overflow_x": null,
            "grid_auto_flow": null,
            "grid_area": null,
            "grid_template_columns": null,
            "flex": null,
            "_model_name": "LayoutModel",
            "justify_items": null,
            "grid_row": null,
            "max_height": null,
            "align_content": null,
            "visibility": null,
            "align_self": null,
            "height": null,
            "min_height": null,
            "padding": null,
            "grid_auto_rows": null,
            "grid_gap": null,
            "max_width": null,
            "order": null,
            "_view_module_version": "1.2.0",
            "grid_template_areas": null,
            "object_position": null,
            "object_fit": null,
            "grid_auto_columns": null,
            "margin": null,
            "display": null,
            "left": null
          }
        },
        "dc564b898cae4343af0c4118730acdc8": {
          "model_module": "@jupyter-widgets/base",
          "model_name": "LayoutModel",
          "state": {
            "_view_name": "LayoutView",
            "grid_template_rows": null,
            "right": null,
            "justify_content": null,
            "_view_module": "@jupyter-widgets/base",
            "overflow": null,
            "_model_module_version": "1.2.0",
            "_view_count": null,
            "flex_flow": null,
            "width": null,
            "min_width": null,
            "border": null,
            "align_items": null,
            "bottom": null,
            "_model_module": "@jupyter-widgets/base",
            "top": null,
            "grid_column": null,
            "overflow_y": null,
            "overflow_x": null,
            "grid_auto_flow": null,
            "grid_area": null,
            "grid_template_columns": null,
            "flex": null,
            "_model_name": "LayoutModel",
            "justify_items": null,
            "grid_row": null,
            "max_height": null,
            "align_content": null,
            "visibility": null,
            "align_self": null,
            "height": null,
            "min_height": null,
            "padding": null,
            "grid_auto_rows": null,
            "grid_gap": null,
            "max_width": null,
            "order": null,
            "_view_module_version": "1.2.0",
            "grid_template_areas": null,
            "object_position": null,
            "object_fit": null,
            "grid_auto_columns": null,
            "margin": null,
            "display": null,
            "left": null
          }
        },
        "26dac6973edb4c1fbebe1d3736458f73": {
          "model_module": "@jupyter-widgets/controls",
          "model_name": "VBoxModel",
          "state": {
            "_view_name": "VBoxView",
            "_dom_classes": [
              "widget-interact"
            ],
            "_model_name": "VBoxModel",
            "_view_module": "@jupyter-widgets/controls",
            "_model_module_version": "1.5.0",
            "_view_count": null,
            "_view_module_version": "1.5.0",
            "box_style": "",
            "layout": "IPY_MODEL_b36dccda1a674a6b9c9a622e87cff4c8",
            "_model_module": "@jupyter-widgets/controls",
            "children": [
              "IPY_MODEL_ca0db521b73c4e8aad9f7b52f808b8d8",
              "IPY_MODEL_8fcc4bcbc1c64b9a8d113b0959f9a7a7"
            ]
          }
        },
        "b36dccda1a674a6b9c9a622e87cff4c8": {
          "model_module": "@jupyter-widgets/base",
          "model_name": "LayoutModel",
          "state": {
            "_view_name": "LayoutView",
            "grid_template_rows": null,
            "right": null,
            "justify_content": null,
            "_view_module": "@jupyter-widgets/base",
            "overflow": null,
            "_model_module_version": "1.2.0",
            "_view_count": null,
            "flex_flow": null,
            "width": null,
            "min_width": null,
            "border": null,
            "align_items": null,
            "bottom": null,
            "_model_module": "@jupyter-widgets/base",
            "top": null,
            "grid_column": null,
            "overflow_y": null,
            "overflow_x": null,
            "grid_auto_flow": null,
            "grid_area": null,
            "grid_template_columns": null,
            "flex": null,
            "_model_name": "LayoutModel",
            "justify_items": null,
            "grid_row": null,
            "max_height": null,
            "align_content": null,
            "visibility": null,
            "align_self": null,
            "height": null,
            "min_height": null,
            "padding": null,
            "grid_auto_rows": null,
            "grid_gap": null,
            "max_width": null,
            "order": null,
            "_view_module_version": "1.2.0",
            "grid_template_areas": null,
            "object_position": null,
            "object_fit": null,
            "grid_auto_columns": null,
            "margin": null,
            "display": null,
            "left": null
          }
        },
        "ca0db521b73c4e8aad9f7b52f808b8d8": {
          "model_module": "@jupyter-widgets/controls",
          "model_name": "TextModel",
          "state": {
            "_view_name": "TextView",
            "style": "IPY_MODEL_cbd765bb9e814023991b65d47fc8835e",
            "_dom_classes": [],
            "description": "Your LSTM:",
            "_model_name": "TextModel",
            "placeholder": "Type something",
            "_view_module": "@jupyter-widgets/controls",
            "_model_module_version": "1.5.0",
            "value": "Hello World",
            "_view_count": null,
            "disabled": false,
            "_view_module_version": "1.5.0",
            "continuous_update": true,
            "description_tooltip": null,
            "_model_module": "@jupyter-widgets/controls",
            "layout": "IPY_MODEL_0dd29fba17a14d4c94b1e6099885e803"
          }
        },
        "8fcc4bcbc1c64b9a8d113b0959f9a7a7": {
          "model_module": "@jupyter-widgets/output",
          "model_name": "OutputModel",
          "state": {
            "_view_name": "OutputView",
            "msg_id": "",
            "_dom_classes": [],
            "_model_name": "OutputModel",
            "outputs": [
              {
                "output_type": "stream",
                "metadata": {
                  "tags": []
                },
                "text": "WARNING:tensorflow:Model was constructed with shape (None, 100, 66) for input KerasTensor(type_spec=TensorSpec(shape=(None, 100, 66), dtype=tf.float32, name='The_Brain_input'), name='The_Brain_input', description=\"created by layer 'The_Brain_input'\"), but it was called on an input with incompatible shape (None, 10, 66).\n",
                "stream": "stdout"
              },
              {
                "output_type": "stream",
                "metadata": {
                  "tags": []
                },
                "text": "I think the next will be \"d\" after you said \"Hello Worl\"\n",
                "stream": "stdout"
              }
            ],
            "_view_module": "@jupyter-widgets/output",
            "_model_module_version": "1.0.0",
            "_view_count": null,
            "_view_module_version": "1.0.0",
            "layout": "IPY_MODEL_07c3a7478825401188a596b250d08831",
            "_model_module": "@jupyter-widgets/output"
          }
        },
        "cbd765bb9e814023991b65d47fc8835e": {
          "model_module": "@jupyter-widgets/controls",
          "model_name": "DescriptionStyleModel",
          "state": {
            "_view_name": "StyleView",
            "_model_name": "DescriptionStyleModel",
            "description_width": "",
            "_view_module": "@jupyter-widgets/base",
            "_model_module_version": "1.5.0",
            "_view_count": null,
            "_view_module_version": "1.2.0",
            "_model_module": "@jupyter-widgets/controls"
          }
        },
        "0dd29fba17a14d4c94b1e6099885e803": {
          "model_module": "@jupyter-widgets/base",
          "model_name": "LayoutModel",
          "state": {
            "_view_name": "LayoutView",
            "grid_template_rows": null,
            "right": null,
            "justify_content": null,
            "_view_module": "@jupyter-widgets/base",
            "overflow": null,
            "_model_module_version": "1.2.0",
            "_view_count": null,
            "flex_flow": null,
            "width": null,
            "min_width": null,
            "border": null,
            "align_items": null,
            "bottom": null,
            "_model_module": "@jupyter-widgets/base",
            "top": null,
            "grid_column": null,
            "overflow_y": null,
            "overflow_x": null,
            "grid_auto_flow": null,
            "grid_area": null,
            "grid_template_columns": null,
            "flex": null,
            "_model_name": "LayoutModel",
            "justify_items": null,
            "grid_row": null,
            "max_height": null,
            "align_content": null,
            "visibility": null,
            "align_self": null,
            "height": null,
            "min_height": null,
            "padding": null,
            "grid_auto_rows": null,
            "grid_gap": null,
            "max_width": null,
            "order": null,
            "_view_module_version": "1.2.0",
            "grid_template_areas": null,
            "object_position": null,
            "object_fit": null,
            "grid_auto_columns": null,
            "margin": null,
            "display": null,
            "left": null
          }
        },
        "07c3a7478825401188a596b250d08831": {
          "model_module": "@jupyter-widgets/base",
          "model_name": "LayoutModel",
          "state": {
            "_view_name": "LayoutView",
            "grid_template_rows": null,
            "right": null,
            "justify_content": null,
            "_view_module": "@jupyter-widgets/base",
            "overflow": null,
            "_model_module_version": "1.2.0",
            "_view_count": null,
            "flex_flow": null,
            "width": null,
            "min_width": null,
            "border": null,
            "align_items": null,
            "bottom": null,
            "_model_module": "@jupyter-widgets/base",
            "top": null,
            "grid_column": null,
            "overflow_y": null,
            "overflow_x": null,
            "grid_auto_flow": null,
            "grid_area": null,
            "grid_template_columns": null,
            "flex": null,
            "_model_name": "LayoutModel",
            "justify_items": null,
            "grid_row": null,
            "max_height": null,
            "align_content": null,
            "visibility": null,
            "align_self": null,
            "height": null,
            "min_height": null,
            "padding": null,
            "grid_auto_rows": null,
            "grid_gap": null,
            "max_width": null,
            "order": null,
            "_view_module_version": "1.2.0",
            "grid_template_areas": null,
            "object_position": null,
            "object_fit": null,
            "grid_auto_columns": null,
            "margin": null,
            "display": null,
            "left": null
          }
        },
        "072b398043974219a982c97fe61d68cc": {
          "model_module": "@jupyter-widgets/controls",
          "model_name": "VBoxModel",
          "state": {
            "_view_name": "VBoxView",
            "_dom_classes": [
              "widget-interact"
            ],
            "_model_name": "VBoxModel",
            "_view_module": "@jupyter-widgets/controls",
            "_model_module_version": "1.5.0",
            "_view_count": null,
            "_view_module_version": "1.5.0",
            "box_style": "",
            "layout": "IPY_MODEL_5dcb721b2c4e4e529f1549e940d6ef6d",
            "_model_module": "@jupyter-widgets/controls",
            "children": [
              "IPY_MODEL_b868c879ffec4c2c961727179f256400",
              "IPY_MODEL_f8538bcba12d496e9c6aba7899dd7259"
            ]
          }
        },
        "5dcb721b2c4e4e529f1549e940d6ef6d": {
          "model_module": "@jupyter-widgets/base",
          "model_name": "LayoutModel",
          "state": {
            "_view_name": "LayoutView",
            "grid_template_rows": null,
            "right": null,
            "justify_content": null,
            "_view_module": "@jupyter-widgets/base",
            "overflow": null,
            "_model_module_version": "1.2.0",
            "_view_count": null,
            "flex_flow": null,
            "width": null,
            "min_width": null,
            "border": null,
            "align_items": null,
            "bottom": null,
            "_model_module": "@jupyter-widgets/base",
            "top": null,
            "grid_column": null,
            "overflow_y": null,
            "overflow_x": null,
            "grid_auto_flow": null,
            "grid_area": null,
            "grid_template_columns": null,
            "flex": null,
            "_model_name": "LayoutModel",
            "justify_items": null,
            "grid_row": null,
            "max_height": null,
            "align_content": null,
            "visibility": null,
            "align_self": null,
            "height": null,
            "min_height": null,
            "padding": null,
            "grid_auto_rows": null,
            "grid_gap": null,
            "max_width": null,
            "order": null,
            "_view_module_version": "1.2.0",
            "grid_template_areas": null,
            "object_position": null,
            "object_fit": null,
            "grid_auto_columns": null,
            "margin": null,
            "display": null,
            "left": null
          }
        },
        "b868c879ffec4c2c961727179f256400": {
          "model_module": "@jupyter-widgets/controls",
          "model_name": "TextModel",
          "state": {
            "_view_name": "TextView",
            "style": "IPY_MODEL_a9061c7e358a4a5ba8d3a80df6912883",
            "_dom_classes": [],
            "description": "Your GRU:",
            "_model_name": "TextModel",
            "placeholder": "Type something",
            "_view_module": "@jupyter-widgets/controls",
            "_model_module_version": "1.5.0",
            "value": "Hello Worli",
            "_view_count": null,
            "disabled": false,
            "_view_module_version": "1.5.0",
            "continuous_update": true,
            "description_tooltip": null,
            "_model_module": "@jupyter-widgets/controls",
            "layout": "IPY_MODEL_6588a746ed434dd0a419d36fd7943b34"
          }
        },
        "f8538bcba12d496e9c6aba7899dd7259": {
          "model_module": "@jupyter-widgets/output",
          "model_name": "OutputModel",
          "state": {
            "_view_name": "OutputView",
            "msg_id": "",
            "_dom_classes": [],
            "_model_name": "OutputModel",
            "outputs": [
              {
                "output_type": "stream",
                "metadata": {
                  "tags": []
                },
                "text": "WARNING:tensorflow:Model was constructed with shape (None, 100, 66) for input KerasTensor(type_spec=TensorSpec(shape=(None, 100, 66), dtype=tf.float32, name='The_Brain_input'), name='The_Brain_input', description=\"created by layer 'The_Brain_input'\"), but it was called on an input with incompatible shape (None, 10, 66).\n",
                "stream": "stdout"
              },
              {
                "output_type": "stream",
                "metadata": {
                  "tags": []
                },
                "text": "WARNING:tensorflow:5 out of the last 10 calls to <function Model.make_predict_function.<locals>.predict_function at 0x7f22b497c710> triggered tf.function retracing. Tracing is expensive and the excessive number of tracings could be due to (1) creating @tf.function repeatedly in a loop, (2) passing tensors with different shapes, (3) passing Python objects instead of tensors. For (1), please define your @tf.function outside of the loop. For (2), @tf.function has experimental_relax_shapes=True option that relaxes argument shapes that can avoid unnecessary retracing. For (3), please refer to https://www.tensorflow.org/guide/function#controlling_retracing and https://www.tensorflow.org/api_docs/python/tf/function for  more details.\n",
                "stream": "stdout"
              },
              {
                "output_type": "stream",
                "metadata": {
                  "tags": []
                },
                "text": "I think the next will be \"i\" after you said \"Hello Worl\"\n",
                "stream": "stdout"
              }
            ],
            "_view_module": "@jupyter-widgets/output",
            "_model_module_version": "1.0.0",
            "_view_count": null,
            "_view_module_version": "1.0.0",
            "layout": "IPY_MODEL_b4511812f61c404e8f878814a36c8e5c",
            "_model_module": "@jupyter-widgets/output"
          }
        },
        "a9061c7e358a4a5ba8d3a80df6912883": {
          "model_module": "@jupyter-widgets/controls",
          "model_name": "DescriptionStyleModel",
          "state": {
            "_view_name": "StyleView",
            "_model_name": "DescriptionStyleModel",
            "description_width": "",
            "_view_module": "@jupyter-widgets/base",
            "_model_module_version": "1.5.0",
            "_view_count": null,
            "_view_module_version": "1.2.0",
            "_model_module": "@jupyter-widgets/controls"
          }
        },
        "6588a746ed434dd0a419d36fd7943b34": {
          "model_module": "@jupyter-widgets/base",
          "model_name": "LayoutModel",
          "state": {
            "_view_name": "LayoutView",
            "grid_template_rows": null,
            "right": null,
            "justify_content": null,
            "_view_module": "@jupyter-widgets/base",
            "overflow": null,
            "_model_module_version": "1.2.0",
            "_view_count": null,
            "flex_flow": null,
            "width": null,
            "min_width": null,
            "border": null,
            "align_items": null,
            "bottom": null,
            "_model_module": "@jupyter-widgets/base",
            "top": null,
            "grid_column": null,
            "overflow_y": null,
            "overflow_x": null,
            "grid_auto_flow": null,
            "grid_area": null,
            "grid_template_columns": null,
            "flex": null,
            "_model_name": "LayoutModel",
            "justify_items": null,
            "grid_row": null,
            "max_height": null,
            "align_content": null,
            "visibility": null,
            "align_self": null,
            "height": null,
            "min_height": null,
            "padding": null,
            "grid_auto_rows": null,
            "grid_gap": null,
            "max_width": null,
            "order": null,
            "_view_module_version": "1.2.0",
            "grid_template_areas": null,
            "object_position": null,
            "object_fit": null,
            "grid_auto_columns": null,
            "margin": null,
            "display": null,
            "left": null
          }
        },
        "b4511812f61c404e8f878814a36c8e5c": {
          "model_module": "@jupyter-widgets/base",
          "model_name": "LayoutModel",
          "state": {
            "_view_name": "LayoutView",
            "grid_template_rows": null,
            "right": null,
            "justify_content": null,
            "_view_module": "@jupyter-widgets/base",
            "overflow": null,
            "_model_module_version": "1.2.0",
            "_view_count": null,
            "flex_flow": null,
            "width": null,
            "min_width": null,
            "border": null,
            "align_items": null,
            "bottom": null,
            "_model_module": "@jupyter-widgets/base",
            "top": null,
            "grid_column": null,
            "overflow_y": null,
            "overflow_x": null,
            "grid_auto_flow": null,
            "grid_area": null,
            "grid_template_columns": null,
            "flex": null,
            "_model_name": "LayoutModel",
            "justify_items": null,
            "grid_row": null,
            "max_height": null,
            "align_content": null,
            "visibility": null,
            "align_self": null,
            "height": null,
            "min_height": null,
            "padding": null,
            "grid_auto_rows": null,
            "grid_gap": null,
            "max_width": null,
            "order": null,
            "_view_module_version": "1.2.0",
            "grid_template_areas": null,
            "object_position": null,
            "object_fit": null,
            "grid_auto_columns": null,
            "margin": null,
            "display": null,
            "left": null
          }
        }
      }
    }
  },
  "cells": [
    {
      "cell_type": "markdown",
      "metadata": {
        "id": "view-in-github",
        "colab_type": "text"
      },
      "source": [
        "<a href=\"https://colab.research.google.com/github/fhac-ewi/recurrent-neural-network/blob/main/%C3%9Cbung_RNN_L%C3%B6sung.ipynb\" target=\"_parent\"><img src=\"https://colab.research.google.com/assets/colab-badge.svg\" alt=\"Open In Colab\"/></a>"
      ]
    },
    {
      "cell_type": "markdown",
      "metadata": {
        "id": "yYD6gvw1vwii"
      },
      "source": [
        "# Übung 7 - Rekurrente neuronale Netze (RNNs)\n",
        "\n",
        "## In dieser Übung ...\n",
        "... beschäftigen wir uns mit rekurrenten neuronalen Netzen, die unter anderem für die Textvorhersage (`text prediction`) eingesetzt werden können. Sie werden ein eigenes Modell zur Vorhersage weiterer Buchstaben (Zeichen) zu einer gegebenen Buchstabensequenz erstellen.\n",
        "\n",
        "Dazu werden Sie die drei aus der Vorlesung bekannten Varianten von RNNs (Standard, LSTM und GRU) mit Keras implementieren und die Genauigkeit (Accuracy) der Netze miteinander vergleichen.\n"
      ]
    },
    {
      "cell_type": "markdown",
      "metadata": {
        "id": "9a_ZEFJfHuuF"
      },
      "source": [
        "## 7.0 Vorbereitung\n",
        "\n",
        "In diesem Abschnitt müssen Sie nichts programmieren! 🎉\n",
        "\n",
        "Wir haben bereits alle notwendigen Imports für diese Übung hinzugefügt, sodass Sie direkt starten können. Sie müssen lediglich die GPU Unterstützung in Google Colab aktivieren."
      ]
    },
    {
      "cell_type": "markdown",
      "metadata": {
        "id": "tc_GxdsyIDYP"
      },
      "source": [
        "**Ihre Aufgaben**\n",
        "\n",
        "(1) Aktivieren Sie bitte die GPU Unterstützung in Google Colab. Wechseln Sie unter dem Reiter `Laufzeit` -> `Laufzeittyp ändern` von `None` auf `GPU` und bestätigen Sie diese Änderung.\n",
        "\n",
        "(2) Führen Sie den folgenden Codezelle aus, um die erforderlichen Bibliotheken zu importieren und die GPU Unterstützung zu prüfen. \n",
        "\n",
        "  * Hinweis: Wenn Sie dieses Notebook mit dem Direktlink von GitHub geöffnet haben, wird bei der erstmaligen Ausführung eine Warnung angezeigt. Diese müssen Sie durch den Klick auf `Trotzdem ausführen` bestätigen. "
      ]
    },
    {
      "cell_type": "code",
      "metadata": {
        "colab": {
          "base_uri": "https://localhost:8080/"
        },
        "id": "I-cFD9IFItkB",
        "outputId": "ea84978d-669e-4a15-f073-b2e345e9e76b"
      },
      "source": [
        "# Import everything needed for this exercise \n",
        "import tensorflow as tf\n",
        "import keras\n",
        "import numpy as np\n",
        "import sys\n",
        "import matplotlib.pyplot as plt\n",
        "import time\n",
        "from sklearn.model_selection import train_test_split\n",
        "from datetime import datetime, timedelta\n",
        "from termcolor import colored\n",
        "\n",
        "print(f\"Keras Version: {keras.__version__}; Tensorflow version: {tf.__version__}; NumPy version: {np.__version__}; Python version: \", \".\".join(str(x) for x in sys.version_info[:3]))\n",
        "\n",
        "# Reset random number generators\n",
        "seed = 1337\n",
        "np.random.seed(seed)\n",
        "tf.random.set_seed(seed)\n",
        "\n",
        "# Check GPU support\n",
        "from tensorflow.python.client import device_lib\n",
        "physical_devices = device_lib.list_local_devices()\n",
        "print(\"You are using\", len(physical_devices), \"local devises.\", len([x for x in physical_devices if x.device_type == \"GPU\"]), \"are GPUs\")\n",
        "for i, d in enumerate(physical_devices):\n",
        "    print(\"  ->Device\", i+1, \"is a\", d.device_type, \"=>\", d.physical_device_desc if len(d.physical_device_desc) > 0 else d.name)\n",
        "\n",
        "if len([x for x in physical_devices if x.device_type == \"GPU\"]) == 0:\n",
        "  raise Exception(\"Please enable GPU support before using this notebook. See here: [Runtime] -> [Change runtime type]\")    \n",
        "\n",
        "print(\"\\n🎉🎉🎉 You are ready to go! 🎉🎉🎉\")  "
      ],
      "execution_count": 1,
      "outputs": [
        {
          "output_type": "stream",
          "text": [
            "Keras Version: 2.4.3; Tensorflow version: 2.4.1; NumPy version: 1.19.5; Python version:  3.7.10\n",
            "You are using 2 local devises. 1 are GPUs\n",
            "  ->Device 1 is a CPU => /device:CPU:0\n",
            "  ->Device 2 is a GPU => device: 0, name: Tesla T4, pci bus id: 0000:00:04.0, compute capability: 7.5\n",
            "\n",
            "🎉🎉🎉 You are ready to go! 🎉🎉🎉\n"
          ],
          "name": "stdout"
        }
      ]
    },
    {
      "cell_type": "markdown",
      "metadata": {
        "id": "a1CXeYPHyywV"
      },
      "source": [
        "## 7.1 One Hot Kodierung\n",
        "\n",
        "Wir haben in der Vorlesung die One Hot Kodierung (1-aus-n-Code) kennen gelernt. Diese ermöglicht es Zeichen eines Alphabets als Vektoren darzustellen. \n",
        "\n",
        "Für ein Alphabet mit `n` einzigartigen Zeichen wird ein Vektor der Länge `n` benötigt. Jedes einzigartige Zeichen wird hierbei als Einheitsvektor definiert. Eine Zeichensequenz mit `m` Zeichen werden als `m` Vektoren mit jeweils der Länge `n` dargestellt.  \n",
        "\n",
        "**Hinweis** Die vorliegende Implementierung ist für den Umgang mit Zeichen außerhalb des Alphabets konzipiert. Deshalb wird zur Darstellung eines Alphabets mit `n` einzigartigen Zeichen ein Vektor der Länge `n+1` erstellt. Alle Zeichen außerhalb des Alphabets werden durch das `unknown_token` ersetzt. \n",
        "\n",
        "Für das Training unseres Netzes werden wir die One Hot Kodierung zur Umwandlung eines Textes in Trainingsdaten nutzen. (Aufgabe 7.2)\n",
        "\n",
        "* Hinweis: Für weitere Informationen zur One Hot Kodierun schlagen Sie diese in der Vorlesung nach oder benutzen Sie das [Internet](https://de.wikipedia.org/wiki/1-aus-n-Code)."
      ]
    },
    {
      "cell_type": "code",
      "metadata": {
        "id": "miApcJctvteM"
      },
      "source": [
        "class OneHot(object):\n",
        "    def __init__(self, tokens, unknown_token = \"[UNKNOWN]\"):\n",
        "        '''\n",
        "        tokens: The tokens you want to be able to encode and decode\n",
        "        unknown_token: The token to be used when decoding and the net wants to use a not known char\n",
        "        '''\n",
        "        self.tokens = tokens\n",
        "        self.unknown_token = unknown_token\n",
        "        # Store a bidirectional dictionary containing the characters\n",
        "        self.char_to_index = dict((token, i + 1) for i, token in enumerate(self.tokens))\n",
        "        self.index_to_char = dict((i + 1, token) for i, token in enumerate(self.tokens))\n",
        "        pass\n",
        "\n",
        "    def encode(self, text_as_tokens, dtype=np.bool_):\n",
        "        '''\n",
        "        text_as_tokens: List of tokens\n",
        "        '''\n",
        "        # Create the encoding matrix\n",
        "        enc = np.empty((len(text_as_tokens), len(self.tokens) + 1), dtype=dtype)\n",
        "        for i, token in enumerate(text_as_tokens):\n",
        "            # Encode every char\n",
        "            enc[i] = self.encode_token(token=token, l=len(self.tokens) + 1, dtype=dtype)\n",
        "        return enc\n",
        "    \n",
        "    def encode_token(self, token, l, dtype=np.bool_):\n",
        "        '''\n",
        "        token: Single token\n",
        "        l: length of array to be returned. At position zero it is stored if the char is unknown\n",
        "        '''\n",
        "        ret = np.zeros((1, l), dtype=dtype)\n",
        "        if token not in self.char_to_index:\n",
        "            ret[0, 0] = 1\n",
        "        else:\n",
        "            ret[0, self.char_to_index[token]] = 1\n",
        "        return ret\n",
        "    \n",
        "    def decode(self, mat, unknown_token=None):         \n",
        "        '''\n",
        "        mat: matrix to be decoded. Has to be of shape (len_of_text, vocab_size)\n",
        "        unknown_token: Unknown token. If none uses the one from __init__\n",
        "        '''\n",
        "        return [self.decode_token(mat[x]) for x in range(mat.shape[0])]\n",
        "    \n",
        "    def decode_token(self, vec, unknown_token=None):\n",
        "        '''\n",
        "        vec: Vector that should be decoded. Has to be on vocab length\n",
        "        unknown_token: Unknown token. If none uses the one from __init__\n",
        "        '''\n",
        "        if unknown_token is None:\n",
        "            unknown_token = self.unknown_token\n",
        "        if isinstance(vec, tf.Tensor):\n",
        "            vec = vec.numpy()\n",
        "        if isinstance(vec, np.ndarray):\n",
        "            # Use argmax since this will be used in the model created later\n",
        "            am = np.argmax(vec)\n",
        "        else:\n",
        "            am = vec\n",
        "        if am == 0:\n",
        "            return unknown_token\n",
        "        return self.index_to_char[am]"
      ],
      "execution_count": 2,
      "outputs": []
    },
    {
      "cell_type": "markdown",
      "metadata": {
        "id": "I9nyVSBS_RnK"
      },
      "source": [
        "**Ihre Aufgaben**\n",
        "\n",
        "(1) Untersuchen Sie gegebene Klasse zur One Hot Kodierung und die Funktion der einzelnen Methoden. \n",
        "\n",
        "(2) Erstellen Sie für das folgendes Alphabet `HWedlor` eine Instanz der Klasse `OneHot`. \n",
        "\n",
        "(3) Kodieren Sie nun die Zeichenfolge `Hello World!` mit der One Hot Kodierung. Wie wird das Zeichen `H` dargestellt? Geben Sie die Dimensionen des Vektors an.\n",
        "\n",
        "* Hinweis: Sie können zur Umwandlung des Strings in eine Liste von Zeichen die Funktion `tokenize` verwenden. Dies ist aber nicht zwingend erforderlich, da Python den String automatisch als Liste interpretieren kann."
      ]
    },
    {
      "cell_type": "markdown",
      "metadata": {
        "id": "HXopuHLJadWN"
      },
      "source": [
        "> <Antwort hier einfügen>\n",
        "\n",
        "> **Musterlösung:** Das Zeichen `H` wird als Vektor `[False  True False False False False False False]` \n",
        "dargestellt. Die Dimension ist `1x8`."
      ]
    },
    {
      "cell_type": "markdown",
      "metadata": {
        "id": "9jCputAba8UN"
      },
      "source": [
        "(4) Wandeln Sie die kodierte Zeichenfolge zurück in einen für Menschen lesbaren Text. Entspricht der zurückgewandelte Text dem ursprünglichen Input? Falls nicht, beschreiben Sie die Ursache.\n",
        "\n",
        "* Hinweis: Für eine schönere Ausgabe kann der enkodierte Text mit der Funktion `untokenize` in einen String gewandelt werden."
      ]
    },
    {
      "cell_type": "markdown",
      "metadata": {
        "id": "hPiAwayxbi16"
      },
      "source": [
        "> <Antwort hier einfügen>\n",
        "\n",
        "> **Musterlösung:** Der ursprüngliche Text und der kodierte und dekodierte Text ist nicht mehr identisch, da zwei Zeichen (Leerzeichen, Ausrufezeichen) nicht im Alphabet vorhanden sind. Durch Hinzufügen dieser Zeichen ins Alphabet würde man den ursprünglichen Text erhalten."
      ]
    },
    {
      "cell_type": "code",
      "metadata": {
        "colab": {
          "base_uri": "https://localhost:8080/"
        },
        "id": "QjFH6Rbeab4P",
        "outputId": "09b65a81-a580-45de-9029-24b0ea811c44"
      },
      "source": [
        "def tokenize(text):\n",
        "    \"\"\"\n",
        "    Converts the given text (string) in a list of chars.\n",
        "    \"\"\"\n",
        "    return list(text)\n",
        "\n",
        "def untokenize(tokens):\n",
        "    \"\"\"\n",
        "    Converts the given tokens (list of chars) in a string.\n",
        "    \"\"\"\n",
        "    return \"\".join(tokens)\n",
        "\n",
        "tokens = 'HWedlor'\n",
        "\n",
        "# code here\n",
        "one_hot = OneHot(tokens=tokens)\n",
        "\n",
        "text='Hello World!'\n",
        "\n",
        "coded_text = one_hot.encode(text)\n",
        "print(\"Shape of coded text: \", coded_text.shape)\n",
        "print(\"H coded (first letter in coded text): \", coded_text[0])\n",
        "\n",
        "encoded_text = one_hot.decode(coded_text)\n",
        "\n",
        "print(untokenize(encoded_text))"
      ],
      "execution_count": 3,
      "outputs": [
        {
          "output_type": "stream",
          "text": [
            "Shape of coded text:  (12, 8)\n",
            "H coded (first letter in coded text):  [False  True False False False False False False]\n",
            "Hello[UNKNOWN]World[UNKNOWN]\n"
          ],
          "name": "stdout"
        }
      ]
    },
    {
      "cell_type": "markdown",
      "metadata": {
        "id": "WglUJhhgyWSs"
      },
      "source": [
        "## 7.2 Datensatz vorbereiten\n",
        "\n",
        "In dieser Übung verwenden wir das Buch Shakespeare TODO als Datensatz zum Training und Test unserer Modelle. Ziel der Modelle ist die Vorhersage weiterer Zeichen zu einer gegebenen Zeichensequenz.\n",
        "\n",
        "In diesem Aufgabenteil werden die Daten eingelesen, mithilfe der One Hot Kodierung umgewandelt und anschließend in Trainingsdaten und Validierungsdaten aufgeteilt.\n",
        "\n",
        "TODO Für die Erstellung wird ein simples Verfahren angewandt Label für X_t ist X_t+1. Bild einfügen\n",
        "\n",
        "* Hinweis: Sie können theoretisch jeden beliebigen Text als Datensatz für das Training des Modells verwenden. (z.B. Harry Potter Bücher, Coronaschutzverordnungen, Nachrichtenartikel, ...)\n",
        "\n",
        "**Ihre Aufgaben**\n",
        "\n",
        "(1) Führen Sie die folgende Codezelle aus, um das Buch Shakespeare TODO einzulesen. Untersuchen Sie den Datensatz, indem Sie einen kurzen Auszug des Textes ausgeben.\n",
        "\n",
        "(2) Erstellen Sie aus dem Text das Alphabet (`tokens`) und geben die Länge aus. Das Alphabet soll alle Zeichen des Textes enthalten.\n",
        "\n",
        "* Hinweis: Sie können den `text` mit der Funktion `tokenize` in eine Liste umwandeln. Dieser kann dann zu einem [Set](https://docs.python.org/3/tutorial/datastructures.html#sets) gewandelt werden.\n",
        "\n",
        "(3) Erstellen Sie für das Alphabet eine One Hot Kodierung und wenden diese auf den `text` an. Nutzen Sie dazu Ihre die Erkentnisse aus Aufgabe 7.1.\n",
        "\n",
        "(4) Teilen Sie den kodierten Text in Sequenzen auf. Wie würden Sie die Länge der einzelnen Sequenzen wählen? \n",
        "Verwenden Sie dazu die Funktion vorgegebene Funktion `sequenze_split`.\n",
        "\n",
        "* Erklärung: Wieso wird der Text in Sequenzen gesplittet?\n",
        "</br>TODO Wieso machen wir das?\n",
        "\n",
        "* Hinweis: Die Sequenzen sollten lang genug sein, dass das RNN Zusammenhänge in einem Satz (und ggf. darüber hinaus) erlenen kann. Die Sequenzlänge sollte kurz genug sein, damit eine ausreichende Anzahl für das Training vorhanden ist.\n",
        "\n",
        "TODO RIOT Hinweis mit unserer Sequenzlänge.\n",
        "\n",
        "(5) Erstellen Sie nun aus den sequenzierten Daten das Feature `X` und das Label `y`. Für die Vorhersage von einzelnen Zeichen ist jeweils das nächste Zeichen das Label des vorherigen Zeichens. Das Label `y` wird deshalb aus den gleichen Werte des Features `X` gebildet, ist jedoch um +1 verschoben. \n",
        "\n",
        "\n",
        "* Beispiel: Die Sequenz `Hello World!` kann in **X** `Hello World` mit dem zugehörigen Label **y** `ello World!` aufgeteilt werden.\n",
        "* Hinweis: Untersuchen Sie die Rückgabe der Funktion `sequenze_split`. In welcher der drei Komponenten müssen Sie die Verschiebung vornehmen.\n",
        "\n",
        "(6) Konvertieren Sie nun die Daten in ein Trainings- und Validierungsset. Nutzen Sie dafür die Funktion `train_test_split` (Eine Dokumentation finden Sie [hier](https://scikit-learn.org/stable/modules/generated/sklearn.model_selection.train_test_split.html)). "
      ]
    },
    {
      "cell_type": "code",
      "metadata": {
        "id": "LN0KsVCb_Rm-",
        "colab": {
          "base_uri": "https://localhost:8080/"
        },
        "outputId": "92abc170-5edc-46ba-ebaa-9afa67a61203"
      },
      "source": [
        "# maximum text length \n",
        "# 1. Protection against \"OutOfMemory\" (poor RAM 😥)\n",
        "# 2. Adjustment for making training faster (but you will gain less accuracy)\n",
        "MAX_TEXT_LEN = 1_200_000 \n",
        "\n",
        "path_to_file = tf.keras.utils.get_file('shakespeare.txt', 'https://storage.googleapis.com/download.tensorflow.org/data/shakespeare.txt')\n",
        "\n",
        "text = open(path_to_file, 'rb').read().decode(encoding='utf-8') # .lower() für schnelleres Training anfügen\n",
        "print(f'Length of text: {len(text)} characters')\n",
        "if len(text) > MAX_TEXT_LEN:\n",
        "    print(\"Text is too long. Cutting it to\", MAX_TEXT_LEN, f\"characters. That is {100 * MAX_TEXT_LEN / len(text):6.2f} %\")\n",
        "    text = text[:MAX_TEXT_LEN]\n",
        "\n",
        "# helper function for 7.2.4\n",
        "def sequenze_split(coded_text, sequence_len):\n",
        "    \"\"\"\n",
        "    Splits a given coded text (text converted with OneHot) into multiple subsequenzes\n",
        "    \"\"\"\n",
        "    target_shape = (int(coded_text.shape[0] / (sequence_len + 1)) , (sequence_len + 1) , coded_text.shape[1])\n",
        "    coded_text_seq = np.empty(target_shape, dtype=coded_text.dtype)\n",
        "    for s in range(coded_text_seq.shape[0]):\n",
        "        coded_text_seq[s] = coded_text[s * (sequence_len + 1):(s + 1) * (sequence_len + 1)]\n",
        "\n",
        "    # returns 3D matrix (sequences, letters per sequence, letter as one hot coded vector)    \n",
        "    return coded_text_seq    \n",
        "\n",
        "# code here   \n",
        "# Aufgabe 7.2.1 \n",
        "print(\"Segment of text:\")\n",
        "print(\"-\" * 60)\n",
        "print(colored(text[:250], 'blue')) \n",
        "print(\"-\" * 60)\n",
        "\n",
        "# Aufgabe 7.2.2 - Alphabet erstellen\n",
        "tokens = sorted(set(text))\n",
        "print(\"Length of raw text:\", len(text))\n",
        "print(\"Numbers of tokens (unique letters): \", len(tokens))\n",
        "\n",
        "\n",
        "# Aufgabe 7.2.3 - One Hot\n",
        "one_hot = OneHot(tokens=tokens)\n",
        "coded_text = one_hot.encode(text)\n",
        "print(\"Shape of coded text: \", coded_text.shape)\n",
        "\n",
        "# Aufgabe 7.2.4 - Aufteilung in Sequenzen\n",
        "sequence_len = 100\n",
        "coded_text_seq = sequenze_split(coded_text, sequence_len)\n",
        "print(\"Shape of coded text split into sequences\", coded_text_seq.shape)\n",
        "\n",
        "# Aufgabe 7.2.5\n",
        "X = coded_text_seq[:, :-1]\n",
        "y = coded_text_seq[:, 1:]\n",
        "\n",
        "# Aufgabe 7.2.6\n",
        "validation_size = 1/6\n",
        "\n",
        "X_train, X_val, y_train, y_val = train_test_split(X, y, test_size=validation_size)\n",
        "\n",
        "print(\"X_train:\", X_train.shape, X_train.dtype)\n",
        "print(\"y_train:\", y_train.shape, y_train.dtype)\n",
        "print(\"X_val  :\", X_val.shape, X_val.dtype)\n",
        "print(\"y_val  :\", y_val.shape, y_val.dtype)\n",
        "\n",
        "print(\"-\" * 40)\n",
        "print(colored(untokenize(one_hot.decode(X_train[0])), 'blue'))\n",
        "print(\"-\" * 40)\n",
        "print(colored(untokenize(one_hot.decode(y_train[0])), 'green'))\n",
        "print(\"-\" * 40)    "
      ],
      "execution_count": 4,
      "outputs": [
        {
          "output_type": "stream",
          "text": [
            "Length of text: 1115394 characters\n",
            "Segment of text:\n",
            "------------------------------------------------------------\n",
            "\u001b[34mFirst Citizen:\n",
            "Before we proceed any further, hear me speak.\n",
            "\n",
            "All:\n",
            "Speak, speak.\n",
            "\n",
            "First Citizen:\n",
            "You are all resolved rather to die than to famish?\n",
            "\n",
            "All:\n",
            "Resolved. resolved.\n",
            "\n",
            "First Citizen:\n",
            "First, you know Caius Marcius is chief enemy to the people.\n",
            "\u001b[0m\n",
            "------------------------------------------------------------\n",
            "Length of raw text: 1115394\n",
            "Numbers of tokens (unique letters):  65\n",
            "Shape of coded text:  (1115394, 66)\n",
            "Shape of coded text split into sequences (11043, 101, 66)\n",
            "X_train: (9202, 100, 66) bool\n",
            "y_train: (9202, 100, 66) bool\n",
            "X_val  : (1841, 100, 66) bool\n",
            "y_val  : (1841, 100, 66) bool\n",
            "----------------------------------------\n",
            "\u001b[34mvereign's face.\n",
            "I am the last of noble Edward's sons,\n",
            "Of whom thy father, Prince of Wales, was first\u001b[0m\n",
            "----------------------------------------\n",
            "\u001b[32mereign's face.\n",
            "I am the last of noble Edward's sons,\n",
            "Of whom thy father, Prince of Wales, was first:\u001b[0m\n",
            "----------------------------------------\n"
          ],
          "name": "stdout"
        }
      ]
    },
    {
      "cell_type": "markdown",
      "metadata": {
        "id": "PDvkDpWsysjl"
      },
      "source": [
        "🎉🎉🎉 **Geschafft!** 🎉🎉🎉\n",
        "\n",
        "Sie haben nun aus einem Buch Trainingsdaten für ein RNN zur Vorhersage von Zeichen erstellt! \n",
        "- Text einlesen\n",
        "- Text in Tokens umwandeln\n",
        "- Alphabet festlegen\n",
        "- One Hot Kodierung erstellen und anwenden\n",
        "- In Sequenzen aufteilen\n",
        "- `X` und `y` festlegen\n",
        "- Aufteilung in Training und Validierungsset\n",
        "\n",
        "... jetzt können Sie mit dem eigentlichen Modell fortfahren."
      ]
    },
    {
      "cell_type": "markdown",
      "metadata": {
        "id": "tOMFCH7V_RnM"
      },
      "source": [
        "## 7.3 RNN Modell erstellen\n",
        "In diesem Aufgabenteil ein [SimpleRNN](https://keras.io/api/layers/recurrent_layers/simple_rnn/) (auch als Vanilla bezeichnet) zur Vorhersage des weiteren Verlaufs einer Zeichensequenz erstellt werden.\n",
        "\n",
        "Dafür nutzen Sie ein Sequential Model von Keras mit einer SimpleRNN Layer und einer Dense Layer mit Softmax.\n",
        "\n",
        "**Ihre Aufgaben**\n",
        "\n",
        "(1) Bestimmen Sie nun die Parameter, die für das Modell benötigt werden.\n",
        "- Shape der Eingabe/des Trainingdatensatzes. (Anzahl Zeichen, Länge eines vektorisierten Zeichens)\n",
        "- Länge des Alphabets (inklusive des `unknown_tokens`). Also die Anzahl der Tokens, die das Modell vorhersagen können soll.\n",
        "  \n",
        "\n",
        "(2) Erstellen Sie das entsprechende [Sequential](https://keras.io/api/models/sequential/) Modell und fügen folgende Schichten hinzu:\n",
        "TODO Anpassen, wenn alles geregelt ist.\n",
        "- [SimpleRNN](https://keras.io/api/layers/recurrent_layers/simple_rnn/) mit 1024 Units als Output Space (= Größe des Hidden State), der Shape der Eingabe und dem Parameter `return_sequences=true`. Dieser Parameter sagt aus, dass TODO. \n",
        "- [Dense](https://keras.io/api/layers/core_layers/dense/) mit der Anzahl der Tokens und der Aktivierungsfunktion `softmax`.\n",
        "\n",
        "Kompilieren Sie anschließend das Modell mit der `categorical_crossentropy` Loss Function, dem [RMSprop](https://keras.io/api/optimizers/rmsprop/) Optimizer mit einer `learning_rate` von 0.01 und fügen als Metrics die `accuracy` hinzu."
      ]
    },
    {
      "cell_type": "code",
      "metadata": {
        "id": "z0Uh7RmR_RnN",
        "colab": {
          "base_uri": "https://localhost:8080/"
        },
        "outputId": "5da867f1-e506-4946-dd3b-3e50f91fc914"
      },
      "source": [
        "# code here\n",
        "# Aufgabe 7.3.1\n",
        "# Length of the vocabulary in chars\n",
        "vocab_size = X_train.shape[-1]\n",
        "print(\"Numbers of unique tokens: \", vocab_size)\n",
        "\n",
        "# The input shape\n",
        "input_shape = X_train.shape[1:]\n",
        "print(\"Input shape: \", input_shape)\n",
        "\n",
        "# Number of RNN units\n",
        "rnn_units = 128\n",
        "\n",
        "# Aufgabe 7.3.2 - SimpleRNN\n",
        "model = tf.keras.Sequential(name=\"SimpleRNN_Model\")\n",
        "# TODO Prüfen. Kann ggf die Anzahl der benötigten Epochen verringen model.add(tf.keras.layers.Dense(1024,  name=\"The_Bouncer\"))\n",
        "model.add(tf.keras.layers.SimpleRNN(rnn_units, return_sequences=True, input_shape=input_shape, name=\"The_Brain\"))\n",
        "model.add(tf.keras.layers.Dense(vocab_size, activation='softmax', name=\"The_Hand\"))\n",
        "optimizer = tf.keras.optimizers.RMSprop(learning_rate=0.01)\n",
        "model.compile(loss='categorical_crossentropy', optimizer=optimizer, metrics=['accuracy'])\n",
        "\n",
        "model.summary()\n",
        "\n",
        "# Zusatz\n",
        "input_example_batch = X_train[0]\n",
        "input_example_batch = input_example_batch.reshape((1, *input_example_batch.shape))\n",
        "\n",
        "example_batch_predictions = model.predict(input_example_batch)\n",
        "print(input_example_batch.shape, y_train[0].shape, example_batch_predictions.shape)\n",
        "\n",
        "print(\"Test sequence:\", \"\\n\", \"-\" * 40, \"\\n\", colored(untokenize(one_hot.decode(X_train[0])), 'blue'), \"\\n\", \"-\"*40)\n",
        "print(\"Expected result:\", \"\\n\", \"-\" * 40, \"\\n\", colored(untokenize(one_hot.decode(y_train[0])), 'green'), \"\\n\", \"-\"*40)\n",
        "print(\"Untrained prediction:\", \"\\n\", \"-\" * 40, \"\\n\", colored(untokenize(one_hot.decode(example_batch_predictions[0])), 'red'), \"\\n\", \"-\"*40)"
      ],
      "execution_count": 5,
      "outputs": [
        {
          "output_type": "stream",
          "text": [
            "Numbers of unique tokens:  66\n",
            "Input shape:  (100, 66)\n",
            "Model: \"SimpleRNN_Model\"\n",
            "_________________________________________________________________\n",
            "Layer (type)                 Output Shape              Param #   \n",
            "=================================================================\n",
            "The_Brain (SimpleRNN)        (None, 100, 128)          24960     \n",
            "_________________________________________________________________\n",
            "The_Hand (Dense)             (None, 100, 66)           8514      \n",
            "=================================================================\n",
            "Total params: 33,474\n",
            "Trainable params: 33,474\n",
            "Non-trainable params: 0\n",
            "_________________________________________________________________\n",
            "(1, 100, 66) (100, 66) (1, 100, 66)\n",
            "Test sequence: \n",
            " ---------------------------------------- \n",
            " \u001b[34mvereign's face.\n",
            "I am the last of noble Edward's sons,\n",
            "Of whom thy father, Prince of Wales, was first\u001b[0m \n",
            " ----------------------------------------\n",
            "Expected result: \n",
            " ---------------------------------------- \n",
            " \u001b[32mereign's face.\n",
            "I am the last of noble Edward's sons,\n",
            "Of whom thy father, Prince of Wales, was first:\u001b[0m \n",
            " ----------------------------------------\n",
            "Untrained prediction: \n",
            " ---------------------------------------- \n",
            " \u001b[31mllAL'vb$j'uvROj?ctlCmDSoL VFcWlb&nyoXKALD\n",
            "[UNKNOWN]MseH!s??tz?wIYlSWkikvOcuv&qpfc,ZyLbQU[UNKNOWN]ch&Uv&cMwElm$!LgUtd\u001b[0m \n",
            " ----------------------------------------\n"
          ],
          "name": "stdout"
        }
      ]
    },
    {
      "cell_type": "markdown",
      "metadata": {
        "id": "axndj50eyWrw"
      },
      "source": [
        "## 7.4 RNN Modell trainieren\n",
        "In diesem Aufgabenteil soll das Modell trainiert werden und der Loss und die Accuracy untersucht werden.\n",
        "\n",
        "**Ihre Aufgaben**\n",
        "\n",
        "(1) Wenden Sie die Methode [fit](https://www.tensorflow.org/api_docs/python/tf/keras/Model#fit) auf Ihr Modell an. Geben Sie als Parameter neben den Trainingsdaten auch die Anzahl der Epochen, die Batchsize und die zuvor erstellten Validierungsdaten (Aufgabe 7.2.6) an. Speichern Sie das Ergebnis des Trainings für eine spätere Analyse in einer Variable!\n",
        "\n",
        "Im Code sind bereits Startwerte für das Training vorgegeben. Sie können diese nach Belieben anpassen. \n",
        "\n",
        "**Eine Accuracy von 50% ist für diesen Schritt ausreichend!**\n",
        "\n",
        "* Hinweis: **Die Trainingsdauer sollte zwischen 1 und 3 Minuten liegen!** \n",
        "</br>Nach den ersten drei Epochen sollte die Genauigkeit bereits über 30% liegen. Falls nicht, prüfen Sie noch einmal die vorherigen Aufgabenteile oder fragen Sie Team RNN um Hilfe!\n",
        "\n",
        "* Tipp: Falls Sie das Gefühl haben, dass Ihr Modell noch einen Fehler enthalten könnte, fügen Sie in Aufgabe 7.2 im Codeblock Zeile 8 ein `.lower()` ein. Dadurch wird der Datensatz in Kleinbuchstaben umgewandelt und die Größe des Alphabets verringert. "
      ]
    },
    {
      "cell_type": "code",
      "metadata": {
        "id": "iGpNzqcuyW5-",
        "colab": {
          "base_uri": "https://localhost:8080/"
        },
        "outputId": "9b0c2ef6-60b1-446a-927e-6583bb2c546a"
      },
      "source": [
        "EPOCHS = 20\n",
        "BATCH_SIZE = 128\n",
        "\n",
        "t1 = time.time()\n",
        "# code here\n",
        "hist = model.fit(X_train, y_train,\n",
        "                  batch_size=BATCH_SIZE,\n",
        "                  epochs=EPOCHS,\n",
        "                  validation_data=(X_val, y_val))\n",
        "t2 = time.time()\n",
        "\n",
        "print(\"Training took: \", timedelta(seconds=t2-t1))"
      ],
      "execution_count": 6,
      "outputs": [
        {
          "output_type": "stream",
          "text": [
            "Epoch 1/20\n",
            "72/72 [==============================] - 7s 80ms/step - loss: 3.5299 - accuracy: 0.1453 - val_loss: 2.3849 - val_accuracy: 0.3223\n",
            "Epoch 2/20\n",
            "72/72 [==============================] - 5s 75ms/step - loss: 2.3522 - accuracy: 0.3339 - val_loss: 2.1541 - val_accuracy: 0.3805\n",
            "Epoch 3/20\n",
            "72/72 [==============================] - 5s 73ms/step - loss: 2.1360 - accuracy: 0.3842 - val_loss: 2.0220 - val_accuracy: 0.4150\n",
            "Epoch 4/20\n",
            "72/72 [==============================] - 5s 73ms/step - loss: 2.0017 - accuracy: 0.4176 - val_loss: 1.9532 - val_accuracy: 0.4294\n",
            "Epoch 5/20\n",
            "72/72 [==============================] - 5s 75ms/step - loss: 1.9175 - accuracy: 0.4405 - val_loss: 1.8980 - val_accuracy: 0.4426\n",
            "Epoch 6/20\n",
            "72/72 [==============================] - 5s 73ms/step - loss: 1.8576 - accuracy: 0.4548 - val_loss: 1.8299 - val_accuracy: 0.4599\n",
            "Epoch 7/20\n",
            "72/72 [==============================] - 5s 75ms/step - loss: 1.8193 - accuracy: 0.4663 - val_loss: 1.8160 - val_accuracy: 0.4673\n",
            "Epoch 8/20\n",
            "72/72 [==============================] - 5s 73ms/step - loss: 1.7924 - accuracy: 0.4731 - val_loss: 1.7934 - val_accuracy: 0.4706\n",
            "Epoch 9/20\n",
            "72/72 [==============================] - 5s 73ms/step - loss: 1.7646 - accuracy: 0.4798 - val_loss: 1.7740 - val_accuracy: 0.4793\n",
            "Epoch 10/20\n",
            "72/72 [==============================] - 5s 74ms/step - loss: 1.7471 - accuracy: 0.4841 - val_loss: 1.7725 - val_accuracy: 0.4810\n",
            "Epoch 11/20\n",
            "72/72 [==============================] - 5s 72ms/step - loss: 1.7331 - accuracy: 0.4887 - val_loss: 1.7401 - val_accuracy: 0.4908\n",
            "Epoch 12/20\n",
            "72/72 [==============================] - 5s 74ms/step - loss: 1.7258 - accuracy: 0.4897 - val_loss: 1.7234 - val_accuracy: 0.4910\n",
            "Epoch 13/20\n",
            "72/72 [==============================] - 5s 75ms/step - loss: 1.7093 - accuracy: 0.4938 - val_loss: 1.7312 - val_accuracy: 0.4877\n",
            "Epoch 14/20\n",
            "72/72 [==============================] - 5s 75ms/step - loss: 1.6976 - accuracy: 0.4965 - val_loss: 1.7259 - val_accuracy: 0.4912\n",
            "Epoch 15/20\n",
            "72/72 [==============================] - 5s 76ms/step - loss: 1.6937 - accuracy: 0.4982 - val_loss: 1.7129 - val_accuracy: 0.4930\n",
            "Epoch 16/20\n",
            "72/72 [==============================] - 5s 76ms/step - loss: 1.6894 - accuracy: 0.4988 - val_loss: 1.7096 - val_accuracy: 0.4997\n",
            "Epoch 17/20\n",
            "72/72 [==============================] - 5s 75ms/step - loss: 1.6807 - accuracy: 0.5012 - val_loss: 1.7150 - val_accuracy: 0.5006\n",
            "Epoch 18/20\n",
            "72/72 [==============================] - 5s 72ms/step - loss: 1.6745 - accuracy: 0.5018 - val_loss: 1.7044 - val_accuracy: 0.4929\n",
            "Epoch 19/20\n",
            "72/72 [==============================] - 5s 71ms/step - loss: 1.6697 - accuracy: 0.5027 - val_loss: 1.7050 - val_accuracy: 0.4989\n",
            "Epoch 20/20\n",
            "72/72 [==============================] - 5s 74ms/step - loss: 1.6652 - accuracy: 0.5038 - val_loss: 1.6893 - val_accuracy: 0.5007\n",
            "Training took:  0:01:47.624384\n"
          ],
          "name": "stdout"
        }
      ]
    },
    {
      "cell_type": "markdown",
      "metadata": {
        "id": "hwFD7439_RnO"
      },
      "source": [
        "(2) Plotten Sie Accuracy und Loss über die Epochen. Bewerten Sie den Verlauf des Trainings. Wie könnte das Training verbessert werden?"
      ]
    },
    {
      "cell_type": "code",
      "metadata": {
        "id": "JCn3o8K9_RnO",
        "outputId": "a63499cd-c7d4-4278-bfd8-35a6b09bde28",
        "colab": {
          "base_uri": "https://localhost:8080/",
          "height": 606
        }
      },
      "source": [
        "fig, ax = plt.subplots(1, 1)\n",
        "\n",
        "ax.plot(hist.history[\"loss\"], label='loss')\n",
        "ax.plot(hist.history[\"accuracy\"], label='accuracy')\n",
        "ax.plot(hist.history[\"val_loss\"], label='validation loss')\n",
        "ax.plot(hist.history[\"val_accuracy\"], label='validation accuracy')\n",
        "ax.set_xlabel(\"Epoch\")\n",
        "ax.legend()\n",
        "\n",
        "fig.set_size_inches(20, 10)\n",
        "\n",
        "plt.show()"
      ],
      "execution_count": 7,
      "outputs": [
        {
          "output_type": "display_data",
          "data": {
            "image/png": "[encoded data removed]",
            "text/plain": [
              "<Figure size 1440x720 with 1 Axes>"
            ]
          },
          "metadata": {
            "tags": [],
            "needs_background": "light"
          }
        }
      ]
    },
    {
      "cell_type": "code",
      "metadata": {
        "id": "VhQ4HP55Fidk",
        "outputId": "00a91a36-f1bf-4877-c29c-2bb22e9e8c79",
        "colab": {
          "base_uri": "https://localhost:8080/"
        }
      },
      "source": [
        "# Zusatz\n",
        "input_example_batch = X_train[0]\n",
        "input_example_batch = input_example_batch.reshape((1, *input_example_batch.shape))\n",
        "\n",
        "example_batch_predictions = model.predict(input_example_batch)\n",
        "print(input_example_batch.shape, y_train[0].shape, example_batch_predictions.shape)\n",
        "\n",
        "print(\"Test sequence:\", \"\\n\", \"-\" * 40, \"\\n\", colored(untokenize(one_hot.decode(X_train[0])), 'blue'), \"\\n\", \"-\"*40)\n",
        "print(\"Expected result:\", \"\\n\", \"-\" * 40, \"\\n\", colored(untokenize(one_hot.decode(y_train[0])), 'green'), \"\\n\", \"-\"*40)\n",
        "print(\"Trained prediction:\", \"\\n\", \"-\" * 40, \"\\n\", colored(untokenize(one_hot.decode(example_batch_predictions[0])), 'red'), \"\\n\", \"-\"*40)"
      ],
      "execution_count": 8,
      "outputs": [
        {
          "output_type": "stream",
          "text": [
            "(1, 100, 66) (100, 66) (1, 100, 66)\n",
            "Test sequence: \n",
            " ---------------------------------------- \n",
            " \u001b[34mvereign's face.\n",
            "I am the last of noble Edward's sons,\n",
            "Of whom thy father, Prince of Wales, was first\u001b[0m \n",
            " ----------------------------------------\n",
            "Expected result: \n",
            " ---------------------------------------- \n",
            " \u001b[32mereign's face.\n",
            "I am the last of noble Edward's sons,\n",
            "Of whom thy father, Prince of Wales, was first:\u001b[0m \n",
            " ----------------------------------------\n",
            "Trained prediction: \n",
            " ---------------------------------------- \n",
            " \u001b[31me ysnn d soie,\n",
            "\n",
            " wm nhe cint bf totle cnward s cou   Tr thi  the baiher  tronce tf tirl t ahs morst \u001b[0m \n",
            " ----------------------------------------\n"
          ],
          "name": "stdout"
        }
      ]
    },
    {
      "cell_type": "markdown",
      "metadata": {
        "id": "WxNyKthd_RnP"
      },
      "source": [
        "## 7.5 Buchstaben vorhersagen\n",
        "Das zuvor trainierte Modell soll nun für die Vorhersage von Buchstaben genutzt werden.\n",
        "\n",
        "**Ihre Aufgaben**\n",
        "\n",
        "(1) Vervollständigen Sie die Methode `predict`. Kodieren Sie dafür den Text mit der One Hot Kodierung, führen die Vorhersage mit dem trainierten Modell durch und geben das letzte dekodierte Zeichen der Vorhersage zurück.  \n",
        "\n",
        "Testen Sie die Methode mit einzelnen Wörtern. Geben Sie dafür den ersten Teil des Wortes in die Predict Methode hinein und überprüfen die Rückgabe. Sie können auch kürzere Sätze hineingeben und die Ausgabe prüfen.\n",
        "\n",
        "* *Beispiel* `Prince` </br>  Input `Princ` </br>  erwartetes Ergebnis `e`"
      ]
    },
    {
      "cell_type": "code",
      "metadata": {
        "id": "y3wVdygn_RnQ",
        "outputId": "9e2affa0-5811-4950-bd81-88bb3807ecd5",
        "colab": {
          "base_uri": "https://localhost:8080/"
        }
      },
      "source": [
        "def predict(text, one_hot, trainied_model):\n",
        "    encoded_text = one_hot.encode(tokenize(text))\n",
        "    prediction = trainied_model.predict(encoded_text.reshape((1, *encoded_text.shape)))\n",
        "    return untokenize(one_hot.decode(prediction[0]))[-1]\n",
        "\n",
        "print(\"Prediction of 'fathe' is:\", predict(\"fathe\", one_hot, model))   \n",
        "print(\"Prediction of 'Princ' is:\", predict(\"Princ\", one_hot, model))  "
      ],
      "execution_count": 9,
      "outputs": [
        {
          "output_type": "stream",
          "text": [
            "WARNING:tensorflow:Model was constructed with shape (None, 100, 66) for input KerasTensor(type_spec=TensorSpec(shape=(None, 100, 66), dtype=tf.float32, name='The_Brain_input'), name='The_Brain_input', description=\"created by layer 'The_Brain_input'\"), but it was called on an input with incompatible shape (None, 5, 66).\n",
            "Prediction of 'fathe' is: r\n",
            "Prediction of 'Princ' is: e\n"
          ],
          "name": "stdout"
        }
      ]
    },
    {
      "cell_type": "markdown",
      "metadata": {
        "id": "67T8xcMS_RnQ"
      },
      "source": [
        "(2) **Optional** Nutzen Sie ipywidgets um Texte live eingeben zu können und Vorhersagen zu erhalten. \n",
        "\n",
        "TODO Links einbauen"
      ]
    },
    {
      "cell_type": "code",
      "metadata": {
        "id": "ApEZl0IK_RnQ"
      },
      "source": [
        "import ipywidgets as widgets\n",
        "from IPython.display import display"
      ],
      "execution_count": 10,
      "outputs": []
    },
    {
      "cell_type": "code",
      "metadata": {
        "id": "7ENo5TOT_RnR",
        "outputId": "7d8e1860-3b0b-4733-a075-8d142caffded",
        "colab": {
          "base_uri": "https://localhost:8080/",
          "height": 101,
          "referenced_widgets": [
            "4139e3e5ba4242eebe33227b8556de34",
            "ee19a117e89449258b9c2241610ef496",
            "03ec45b2d06e44e2ab0f31f246deb258",
            "c4429e5428764d7ba9596738f3bc9927",
            "712c3332d36044768c4521101822c0ca",
            "6a2f7a75949d4f91bb3b9e9edd334953",
            "7d8fd449181e4fec9807324c93396c16"
          ]
        }
      },
      "source": [
        "def verbose_prediction(text, one_hot, trainied_model):\n",
        "    if len(text) == 0:\n",
        "        text = \" \"\n",
        "    prediction = predict(text=text, one_hot=one_hot, trainied_model=trainied_model)\n",
        "    print(f\"I think the next will be \\\"{prediction}\\\" after you said \\\"{text}\\\"\")\n",
        "\n",
        "w = widgets.interactive(verbose_prediction,\n",
        "                        text=widgets.Text(value='Hello Worl', placeholder='Type something', description='Your text:', disabled=False),\n",
        "                        one_hot=widgets.fixed(one_hot),\n",
        "                        trainied_model=widgets.fixed(model),\n",
        "                       )\n",
        "\n",
        "verbose_prediction(\"Spor\", one_hot=one_hot, trainied_model=model)\n",
        "verbose_prediction(\"Fußba\", one_hot=one_hot, trainied_model=model)\n",
        "\n",
        "display(w)"
      ],
      "execution_count": 11,
      "outputs": [
        {
          "output_type": "stream",
          "text": [
            "I think the next will be \"d\" after you said \"Spor\"\n",
            "I think the next will be \"l\" after you said \"Fußba\"\n"
          ],
          "name": "stdout"
        },
        {
          "output_type": "display_data",
          "data": {
            "application/vnd.jupyter.widget-view+json": {
              "model_id": "4139e3e5ba4242eebe33227b8556de34",
              "version_minor": 0,
              "version_major": 2
            },
            "text/plain": [
              "interactive(children=(Text(value='Hello Worl', description='Your text:', placeholder='Type something'), Output…"
            ]
          },
          "metadata": {
            "tags": []
          }
        }
      ]
    },
    {
      "cell_type": "markdown",
      "metadata": {
        "id": "0d7pKNy1ycN7"
      },
      "source": [
        "## 7.6 **Optional** RNN Varianten LSTM und GRU\n",
        "\n",
        "Neben SimpleRNN wurden in der Vorlesung zwei weitere Varianten von RNNs vorgestellt. \n",
        "\n",
        "**Ihre Aufgaben**\n",
        "(1) Trainieren Sie auf dem gleichen Datensatz zwei Modelle der Varianten LSTM und GRU. Verwenden Sie Ihr Modell aus Aufgabe 7.3 und ersetzen Sie die SimpleRNN Layer durch eine passende [Layer von Keras](https://keras.io/api/layers/recurrent_layers/).\n"
      ]
    },
    {
      "cell_type": "code",
      "metadata": {
        "id": "IehQ7h3uyeY6",
        "outputId": "5c8eec8c-f8fa-432a-f193-7358d0a69375",
        "colab": {
          "base_uri": "https://localhost:8080/"
        }
      },
      "source": [
        "model_lstm = tf.keras.Sequential(name=\"LSTM_Model\")\n",
        "model_lstm.add(tf.keras.layers.LSTM(rnn_units, return_sequences=True, input_shape=input_shape, name=\"The_Brain\"))\n",
        "model_lstm.add(tf.keras.layers.Dense(vocab_size, activation='softmax', name=\"The_Hand\"))\n",
        "optimizer = tf.keras.optimizers.RMSprop(learning_rate=0.01)\n",
        "model_lstm.compile(loss='categorical_crossentropy', optimizer=optimizer, metrics=['accuracy'])\n",
        "model_lstm.summary()\n",
        "\n",
        "model_gru = tf.keras.Sequential(name=\"GRU_Model\")\n",
        "model_gru.add(tf.keras.layers.LSTM(rnn_units, return_sequences=True, input_shape=input_shape, name=\"The_Brain\"))\n",
        "model_gru.add(tf.keras.layers.Dense(vocab_size, activation='softmax', name=\"The_Hand\"))\n",
        "optimizer = tf.keras.optimizers.RMSprop(learning_rate=0.01)\n",
        "model_gru.compile(loss='categorical_crossentropy', optimizer=optimizer, metrics=['accuracy'])\n",
        "model_gru.summary()\n"
      ],
      "execution_count": 12,
      "outputs": [
        {
          "output_type": "stream",
          "text": [
            "Model: \"LSTM_Model\"\n",
            "_________________________________________________________________\n",
            "Layer (type)                 Output Shape              Param #   \n",
            "=================================================================\n",
            "The_Brain (LSTM)             (None, 100, 128)          99840     \n",
            "_________________________________________________________________\n",
            "The_Hand (Dense)             (None, 100, 66)           8514      \n",
            "=================================================================\n",
            "Total params: 108,354\n",
            "Trainable params: 108,354\n",
            "Non-trainable params: 0\n",
            "_________________________________________________________________\n",
            "Model: \"GRU_Model\"\n",
            "_________________________________________________________________\n",
            "Layer (type)                 Output Shape              Param #   \n",
            "=================================================================\n",
            "The_Brain (LSTM)             (None, 100, 128)          99840     \n",
            "_________________________________________________________________\n",
            "The_Hand (Dense)             (None, 100, 66)           8514      \n",
            "=================================================================\n",
            "Total params: 108,354\n",
            "Trainable params: 108,354\n",
            "Non-trainable params: 0\n",
            "_________________________________________________________________\n"
          ],
          "name": "stdout"
        }
      ]
    },
    {
      "cell_type": "code",
      "metadata": {
        "id": "knXfKSKy_RnS",
        "outputId": "ef3d4674-5951-42a4-f3f6-19c544307f40",
        "colab": {
          "base_uri": "https://localhost:8080/"
        }
      },
      "source": [
        "t1 = time.time()\n",
        "hist_lstm = model_lstm.fit(X_train, y_train,\n",
        "                           batch_size=BATCH_SIZE,\n",
        "                           epochs=EPOCHS,\n",
        "                           validation_data=(X_val, y_val))\n",
        "t2 = time.time()\n",
        "t_lstm = t2 - t1\n",
        "\n",
        "t1 = time.time()\n",
        "hist_gru = model_gru.fit(X_train, y_train,\n",
        "                         batch_size=BATCH_SIZE,\n",
        "                         epochs=EPOCHS,\n",
        "                         validation_data=(X_val, y_val))\n",
        "t2 = time.time()\n",
        "t_gru = t2 - t1\n",
        "\n",
        "print(\"LSTM Training took:\", timedelta(seconds=t_lstm))\n",
        "print(\"GRU  Training took:\", timedelta(seconds=t_gru))"
      ],
      "execution_count": 13,
      "outputs": [
        {
          "output_type": "stream",
          "text": [
            "Epoch 1/20\n",
            "72/72 [==============================] - 5s 20ms/step - loss: 3.3020 - accuracy: 0.1649 - val_loss: 2.4102 - val_accuracy: 0.3238\n",
            "Epoch 2/20\n",
            "72/72 [==============================] - 1s 12ms/step - loss: 2.3400 - accuracy: 0.3331 - val_loss: 2.1042 - val_accuracy: 0.3882\n",
            "Epoch 3/20\n",
            "72/72 [==============================] - 1s 12ms/step - loss: 2.0306 - accuracy: 0.4059 - val_loss: 1.8897 - val_accuracy: 0.4400\n",
            "Epoch 4/20\n",
            "72/72 [==============================] - 1s 12ms/step - loss: 1.8433 - accuracy: 0.4555 - val_loss: 1.7553 - val_accuracy: 0.4817\n",
            "Epoch 5/20\n",
            "72/72 [==============================] - 1s 12ms/step - loss: 1.7325 - accuracy: 0.4863 - val_loss: 1.6857 - val_accuracy: 0.4975\n",
            "Epoch 6/20\n",
            "72/72 [==============================] - 1s 12ms/step - loss: 1.6545 - accuracy: 0.5044 - val_loss: 1.6341 - val_accuracy: 0.5103\n",
            "Epoch 7/20\n",
            "72/72 [==============================] - 1s 12ms/step - loss: 1.6008 - accuracy: 0.5187 - val_loss: 1.5824 - val_accuracy: 0.5242\n",
            "Epoch 8/20\n",
            "72/72 [==============================] - 1s 12ms/step - loss: 1.5534 - accuracy: 0.5314 - val_loss: 1.5584 - val_accuracy: 0.5322\n",
            "Epoch 9/20\n",
            "72/72 [==============================] - 1s 13ms/step - loss: 1.5230 - accuracy: 0.5397 - val_loss: 1.5306 - val_accuracy: 0.5388\n",
            "Epoch 10/20\n",
            "72/72 [==============================] - 1s 12ms/step - loss: 1.4939 - accuracy: 0.5462 - val_loss: 1.5215 - val_accuracy: 0.5423\n",
            "Epoch 11/20\n",
            "72/72 [==============================] - 1s 12ms/step - loss: 1.4742 - accuracy: 0.5522 - val_loss: 1.5133 - val_accuracy: 0.5451\n",
            "Epoch 12/20\n",
            "72/72 [==============================] - 1s 12ms/step - loss: 1.4634 - accuracy: 0.5546 - val_loss: 1.4952 - val_accuracy: 0.5477\n",
            "Epoch 13/20\n",
            "72/72 [==============================] - 1s 12ms/step - loss: 1.4467 - accuracy: 0.5579 - val_loss: 1.4859 - val_accuracy: 0.5523\n",
            "Epoch 14/20\n",
            "72/72 [==============================] - 1s 12ms/step - loss: 1.4313 - accuracy: 0.5626 - val_loss: 1.4752 - val_accuracy: 0.5541\n",
            "Epoch 15/20\n",
            "72/72 [==============================] - 1s 12ms/step - loss: 1.4225 - accuracy: 0.5648 - val_loss: 1.4724 - val_accuracy: 0.5539\n",
            "Epoch 16/20\n",
            "72/72 [==============================] - 1s 12ms/step - loss: 1.4177 - accuracy: 0.5669 - val_loss: 1.4688 - val_accuracy: 0.5552\n",
            "Epoch 17/20\n",
            "72/72 [==============================] - 1s 12ms/step - loss: 1.4081 - accuracy: 0.5682 - val_loss: 1.4638 - val_accuracy: 0.5583\n",
            "Epoch 18/20\n",
            "72/72 [==============================] - 1s 12ms/step - loss: 1.3988 - accuracy: 0.5705 - val_loss: 1.4598 - val_accuracy: 0.5581\n",
            "Epoch 19/20\n",
            "72/72 [==============================] - 1s 12ms/step - loss: 1.3927 - accuracy: 0.5723 - val_loss: 1.4554 - val_accuracy: 0.5584\n",
            "Epoch 20/20\n",
            "72/72 [==============================] - 1s 12ms/step - loss: 1.3857 - accuracy: 0.5742 - val_loss: 1.4524 - val_accuracy: 0.5614\n",
            "Epoch 1/20\n",
            "72/72 [==============================] - 3s 18ms/step - loss: 3.3180 - accuracy: 0.1632 - val_loss: 2.4385 - val_accuracy: 0.3082\n",
            "Epoch 2/20\n",
            "72/72 [==============================] - 1s 12ms/step - loss: 2.3246 - accuracy: 0.3370 - val_loss: 2.0593 - val_accuracy: 0.4015\n",
            "Epoch 3/20\n",
            "72/72 [==============================] - 1s 12ms/step - loss: 2.0085 - accuracy: 0.4121 - val_loss: 1.8668 - val_accuracy: 0.4512\n",
            "Epoch 4/20\n",
            "72/72 [==============================] - 1s 12ms/step - loss: 1.8355 - accuracy: 0.4571 - val_loss: 1.7524 - val_accuracy: 0.4801\n",
            "Epoch 5/20\n",
            "72/72 [==============================] - 1s 12ms/step - loss: 1.7283 - accuracy: 0.4864 - val_loss: 1.6847 - val_accuracy: 0.4971\n",
            "Epoch 6/20\n",
            "72/72 [==============================] - 1s 12ms/step - loss: 1.6532 - accuracy: 0.5055 - val_loss: 1.6332 - val_accuracy: 0.5128\n",
            "Epoch 7/20\n",
            "72/72 [==============================] - 1s 12ms/step - loss: 1.6020 - accuracy: 0.5181 - val_loss: 1.5841 - val_accuracy: 0.5242\n",
            "Epoch 8/20\n",
            "72/72 [==============================] - 1s 12ms/step - loss: 1.5557 - accuracy: 0.5306 - val_loss: 1.5545 - val_accuracy: 0.5311\n",
            "Epoch 9/20\n",
            "72/72 [==============================] - 1s 12ms/step - loss: 1.5248 - accuracy: 0.5383 - val_loss: 1.5404 - val_accuracy: 0.5361\n",
            "Epoch 10/20\n",
            "72/72 [==============================] - 1s 12ms/step - loss: 1.4967 - accuracy: 0.5458 - val_loss: 1.5259 - val_accuracy: 0.5419\n",
            "Epoch 11/20\n",
            "72/72 [==============================] - 1s 12ms/step - loss: 1.4759 - accuracy: 0.5509 - val_loss: 1.5081 - val_accuracy: 0.5455\n",
            "Epoch 12/20\n",
            "72/72 [==============================] - 1s 12ms/step - loss: 1.4631 - accuracy: 0.5543 - val_loss: 1.4876 - val_accuracy: 0.5514\n",
            "Epoch 13/20\n",
            "72/72 [==============================] - 1s 12ms/step - loss: 1.4471 - accuracy: 0.5580 - val_loss: 1.4923 - val_accuracy: 0.5484\n",
            "Epoch 14/20\n",
            "72/72 [==============================] - 1s 12ms/step - loss: 1.4329 - accuracy: 0.5622 - val_loss: 1.4777 - val_accuracy: 0.5521\n",
            "Epoch 15/20\n",
            "72/72 [==============================] - 1s 12ms/step - loss: 1.4227 - accuracy: 0.5650 - val_loss: 1.4716 - val_accuracy: 0.5535\n",
            "Epoch 16/20\n",
            "72/72 [==============================] - 1s 12ms/step - loss: 1.4167 - accuracy: 0.5669 - val_loss: 1.4624 - val_accuracy: 0.5587\n",
            "Epoch 17/20\n",
            "72/72 [==============================] - 1s 12ms/step - loss: 1.4057 - accuracy: 0.5693 - val_loss: 1.4634 - val_accuracy: 0.5575\n",
            "Epoch 18/20\n",
            "72/72 [==============================] - 1s 13ms/step - loss: 1.3976 - accuracy: 0.5712 - val_loss: 1.4576 - val_accuracy: 0.5599\n",
            "Epoch 19/20\n",
            "72/72 [==============================] - 1s 13ms/step - loss: 1.3908 - accuracy: 0.5731 - val_loss: 1.4508 - val_accuracy: 0.5598\n",
            "Epoch 20/20\n",
            "72/72 [==============================] - 1s 12ms/step - loss: 1.3844 - accuracy: 0.5748 - val_loss: 1.4528 - val_accuracy: 0.5603\n",
            "LSTM Training took: 0:00:21.421252\n",
            "GRU  Training took: 0:00:19.569975\n"
          ],
          "name": "stdout"
        }
      ]
    },
    {
      "cell_type": "code",
      "metadata": {
        "id": "pBhZLFoNpvVD",
        "outputId": "68b1dcb6-8f65-4af7-9edd-5d0e01cb367b",
        "colab": {
          "base_uri": "https://localhost:8080/",
          "height": 240,
          "referenced_widgets": [
            "b1409f641fd641eba6a980c4cf4c2f15",
            "c852fb4924374ccebc2e40ac2d5575f4",
            "f2907c444c2f4b268d8dddb63c23a461",
            "b72c6b305947435f91292f762aab1afb",
            "35ef2468c829419fb87798ab5fe31b25",
            "ccc3b56e85f443f696d7b6d371300879",
            "dc564b898cae4343af0c4118730acdc8",
            "26dac6973edb4c1fbebe1d3736458f73",
            "b36dccda1a674a6b9c9a622e87cff4c8",
            "ca0db521b73c4e8aad9f7b52f808b8d8",
            "8fcc4bcbc1c64b9a8d113b0959f9a7a7",
            "cbd765bb9e814023991b65d47fc8835e",
            "0dd29fba17a14d4c94b1e6099885e803",
            "07c3a7478825401188a596b250d08831",
            "072b398043974219a982c97fe61d68cc",
            "5dcb721b2c4e4e529f1549e940d6ef6d",
            "b868c879ffec4c2c961727179f256400",
            "f8538bcba12d496e9c6aba7899dd7259",
            "a9061c7e358a4a5ba8d3a80df6912883",
            "6588a746ed434dd0a419d36fd7943b34",
            "b4511812f61c404e8f878814a36c8e5c"
          ]
        }
      },
      "source": [
        "# Compare Input\n",
        "\n",
        "w = widgets.interactive(verbose_prediction,\n",
        "                        text=widgets.Text(value='Hello Worl', placeholder='Type something', description='Your SimpleRNN:', disabled=False),\n",
        "                        one_hot=widgets.fixed(one_hot),\n",
        "                        trainied_model=widgets.fixed(model),\n",
        "                       )\n",
        "\n",
        "display(w)\n",
        "\n",
        "w_lstm = widgets.interactive(verbose_prediction,\n",
        "                        text=widgets.Text(value='Hello Worl', placeholder='Type something', description='Your LSTM:', disabled=False),\n",
        "                        one_hot=widgets.fixed(one_hot),\n",
        "                        trainied_model=widgets.fixed(model_lstm),\n",
        "                       )\n",
        "\n",
        "display(w_lstm)\n",
        "\n",
        "w_gru = widgets.interactive(verbose_prediction,\n",
        "                        text=widgets.Text(value='Hello Worl', placeholder='Type something', description='Your GRU:', disabled=False),\n",
        "                        one_hot=widgets.fixed(one_hot),\n",
        "                        trainied_model=widgets.fixed(model_gru),\n",
        "                       )\n",
        "\n",
        "display(w_gru)"
      ],
      "execution_count": 14,
      "outputs": [
        {
          "output_type": "display_data",
          "data": {
            "application/vnd.jupyter.widget-view+json": {
              "model_id": "b1409f641fd641eba6a980c4cf4c2f15",
              "version_minor": 0,
              "version_major": 2
            },
            "text/plain": [
              "interactive(children=(Text(value='Hello Worl', description='Your SimpleRNN:', placeholder='Type something'), O…"
            ]
          },
          "metadata": {
            "tags": []
          }
        },
        {
          "output_type": "display_data",
          "data": {
            "application/vnd.jupyter.widget-view+json": {
              "model_id": "26dac6973edb4c1fbebe1d3736458f73",
              "version_minor": 0,
              "version_major": 2
            },
            "text/plain": [
              "interactive(children=(Text(value='Hello Worl', description='Your LSTM:', placeholder='Type something'), Output…"
            ]
          },
          "metadata": {
            "tags": []
          }
        },
        {
          "output_type": "display_data",
          "data": {
            "application/vnd.jupyter.widget-view+json": {
              "model_id": "072b398043974219a982c97fe61d68cc",
              "version_minor": 0,
              "version_major": 2
            },
            "text/plain": [
              "interactive(children=(Text(value='Hello Worl', description='Your GRU:', placeholder='Type something'), Output(…"
            ]
          },
          "metadata": {
            "tags": []
          }
        }
      ]
    },
    {
      "cell_type": "markdown",
      "metadata": {
        "id": "8ZyureKEhM0H"
      },
      "source": [
        "(2) Plotten Sie die Accuracy und Loss der drei Modelle in einem Diagramm. Welche Erkenntnisse haben Sie aus dem Training gezogen? "
      ]
    },
    {
      "cell_type": "markdown",
      "metadata": {
        "id": "q8fe7kxBhFOM"
      },
      "source": [
        "> <Antwort hier einfügen>\n",
        "\n",
        "> **Musterlösung:** TODO"
      ]
    },
    {
      "cell_type": "code",
      "metadata": {
        "id": "0HlKt70B_RnT",
        "outputId": "df89821c-1318-4e44-e895-d5c87190350e",
        "colab": {
          "base_uri": "https://localhost:8080/",
          "height": 606
        }
      },
      "source": [
        "fig, ax = plt.subplots(1, 1)\n",
        "\n",
        "for n, h in [(\"simple rnn\", hist), (\"lstm\", hist_lstm), (\"gru\", hist_gru)]:\n",
        "\n",
        "    ax.plot(h.history[\"loss\"], label=f'{n} loss')\n",
        "    ax.plot(h.history[\"accuracy\"], label=f'{n} accuracy')\n",
        "    ax.plot(h.history[\"val_loss\"], label=f'{n} validation loss')\n",
        "    ax.plot(h.history[\"val_accuracy\"], label=f'{n} validation accuracy')\n",
        "\n",
        "ax.set_xlabel(\"Epoch\")\n",
        "ax.legend()\n",
        "\n",
        "fig.set_size_inches(20, 10)\n",
        "\n",
        "plt.show()"
      ],
      "execution_count": 15,
      "outputs": [
        {
          "output_type": "display_data",
          "data": {
            "image/png": "[encoded data removed]",
            "text/plain": [
              "<Figure size 1440x720 with 1 Axes>"
            ]
          },
          "metadata": {
            "tags": [],
            "needs_background": "light"
          }
        }
      ]
    },
    {
      "cell_type": "markdown",
      "metadata": {
        "id": "pMWgGgRZ_RnT"
      },
      "source": [
        "## 7.7 **Optional** Schriftsteller\n",
        "\n",
        "Mit den Erkenntnissen aus der Vorlesung, den vorherigen Übungsaufgaben und ein bisschen Python Erfahrung sind Sie nun in der Lage nicht nur einzele Buchstaben vorherzusagen, sondern könnten auch beliebig viele Zeichen generieren und dadurch ganze Bücher schreiben [lassen].\n",
        "\n",
        "Sie können für diesen Aufgabenteil den ursprünglichen Datensatz anpassen und Beispielsweise die Coronaschutzverordnung, wissenschaftliche Artikel oder Meldungen aus Tageszeitungen verwenden.\n",
        "\n",
        "Gelingt es Ihnen den 8ten Band von Harry Potter zu erstellen?\n",
        "\n",
        "**Ihre Aufgaben**\n",
        "\n",
        "(1) Was müssten Sie ändern, um mithilfe des bisherigen Modells ein ganzes Buch erstellen zu lassen? Glauben Sie, dass das Ergebnis lesbar wäre?"
      ]
    },
    {
      "cell_type": "markdown",
      "metadata": {
        "id": "yduJYx0HiaMr"
      },
      "source": [
        "> <Antwort hier einfügen>\n",
        "\n",
        "> **Musterlösung:** TODO\n",
        "Sowas wie\n",
        "- Mehr Trainingszeit\n",
        "- Hierfür wollen wir wenn möglich beliebig viele Zeichen generieren, dabei den hidden state behalten und nicht konstant das bisher geschriebene als Input wieder einfügen. Deshalb nutzen wir hier eine eigene Klasse für das Netz, die dann die Layer enthält, aber aich den Hidden state zurück geben kann."
      ]
    },
    {
      "cell_type": "markdown",
      "metadata": {
        "id": "Wyhz--mz_RnT"
      },
      "source": [
        "(2) Erstellen Sie ein neues Modell, welches zu einem gegebenen Text von wenigen Worten in der Lage ist ein ganzes Buch zu vervollständigen."
      ]
    },
    {
      "cell_type": "code",
      "metadata": {
        "id": "n2ZzbyYX_RnV"
      },
      "source": [
        "class CustomRNNModel(tf.keras.Model):\n",
        "    def __init__(self, vocab_size, rnn_units, rnn_layer_type = tf.keras.layers.GRU):\n",
        "        super().__init__(self)\n",
        "        # Put layers here. We will call them manually but store them here\n",
        "        self.rnn_layer = rnn_layer_type(rnn_units, return_sequences=True, return_state=True)\n",
        "        self.dense = tf.keras.layers.Dense(vocab_size, activation='softmax')\n",
        "\n",
        "    def call(self, inputs, states=None, return_state=False, training=False):\n",
        "        # Here we put our input through all out layers\n",
        "        x = tf.cast(inputs, dtype=float)\n",
        "        if states is None:\n",
        "            # Get an initial kind of empty state\n",
        "            states = self.rnn_layer.get_initial_state(x)\n",
        "        \n",
        "        x, states = self.rnn_layer(x, initial_state=states, training=training)\n",
        "        x = self.dense(x, training=training)\n",
        "\n",
        "        if return_state:\n",
        "            return x, states\n",
        "        else:\n",
        "            return x"
      ],
      "execution_count": 16,
      "outputs": []
    },
    {
      "cell_type": "code",
      "metadata": {
        "id": "4fiFktPV_RnV",
        "outputId": "7373e8a7-99e7-4fca-fe52-cf0a7e5185c5",
        "colab": {
          "base_uri": "https://localhost:8080/"
        }
      },
      "source": [
        "literatur_model = CustomRNNModel(vocab_size=vocab_size, rnn_units=rnn_units)\n",
        "\n",
        "input_example_batch = X_train[0]\n",
        "input_example_batch = input_example_batch.reshape((1, *input_example_batch.shape))\n",
        "\n",
        "example_batch_predictions = literatur_model.predict(input_example_batch)\n",
        "print(input_example_batch.shape, y_train[0].shape, example_batch_predictions.shape)\n",
        "\n",
        "print(\"Test sequence:\", \"\\n\", \"-\" * 25, \"\\n\", untokenize(one_hot.decode(X_train[0])), \"\\n\", \"-\"*25)\n",
        "print(\"Expected result:\", \"\\n\", \"-\" * 25, \"\\n\", untokenize(one_hot.decode(y_train[0])), \"\\n\", \"-\"*25)\n",
        "print(\"Untrained prediction:\", \"\\n\", \"-\" * 25, \"\\n\", untokenize(one_hot.decode(example_batch_predictions[0])), \"\\n\", \"-\"*25)\n",
        "\n",
        "literatur_model.compile(loss='categorical_crossentropy', optimizer='adam', metrics=['accuracy'])\n",
        "\n",
        "literatur_model.summary()"
      ],
      "execution_count": 17,
      "outputs": [
        {
          "output_type": "stream",
          "text": [
            "WARNING:tensorflow:6 out of the last 11 calls to <function Model.make_predict_function.<locals>.predict_function at 0x7f2262d87320> triggered tf.function retracing. Tracing is expensive and the excessive number of tracings could be due to (1) creating @tf.function repeatedly in a loop, (2) passing tensors with different shapes, (3) passing Python objects instead of tensors. For (1), please define your @tf.function outside of the loop. For (2), @tf.function has experimental_relax_shapes=True option that relaxes argument shapes that can avoid unnecessary retracing. For (3), please refer to https://www.tensorflow.org/guide/function#controlling_retracing and https://www.tensorflow.org/api_docs/python/tf/function for  more details.\n",
            "(1, 100, 66) (100, 66) (1, 100, 66)\n",
            "Test sequence: \n",
            " ------------------------- \n",
            " vereign's face.\n",
            "I am the last of noble Edward's sons,\n",
            "Of whom thy father, Prince of Wales, was first \n",
            " -------------------------\n",
            "Expected result: \n",
            " ------------------------- \n",
            " ereign's face.\n",
            "I am the last of noble Edward's sons,\n",
            "Of whom thy father, Prince of Wales, was first: \n",
            " -------------------------\n",
            "Untrained prediction: \n",
            " ------------------------- \n",
            " e---3I$N'i&tR--[UNKNOWN]iitkgRz-zGSCRRs;:gsR[UNKNOWN]--Iggg-RRCgCsCCR.J&:gbUJgRzMz&tRt--RiIx3$R--[UNKNOWN];:$tA--.ggtCg&3x-R \n",
            " -------------------------\n",
            "Model: \"custom_rnn_model\"\n",
            "_________________________________________________________________\n",
            "Layer (type)                 Output Shape              Param #   \n",
            "=================================================================\n",
            "gru (GRU)                    multiple                  75264     \n",
            "_________________________________________________________________\n",
            "dense (Dense)                multiple                  8514      \n",
            "=================================================================\n",
            "Total params: 83,778\n",
            "Trainable params: 83,778\n",
            "Non-trainable params: 0\n",
            "_________________________________________________________________\n"
          ],
          "name": "stdout"
        }
      ]
    },
    {
      "cell_type": "code",
      "metadata": {
        "id": "9QuI2o2c_RnV",
        "outputId": "268dd271-eae5-4e63-9a26-822bd7dda0c2",
        "colab": {
          "base_uri": "https://localhost:8080/"
        }
      },
      "source": [
        "t1 = time.time()\n",
        "hist_custom = literatur_model.fit(X_train, y_train,\n",
        "                           batch_size=BATCH_SIZE,\n",
        "                           epochs=EPOCHS,\n",
        "                           validation_data=(X_val, y_val))\n",
        "t2 = time.time()\n",
        "\n",
        "print(\"Training took:\", timedelta(seconds=t2-t1))"
      ],
      "execution_count": null,
      "outputs": [
        {
          "output_type": "stream",
          "text": [
            "Epoch 1/20\n",
            "72/72 [==============================] - 15s 193ms/step - loss: 3.7645 - accuracy: 0.1252 - val_loss: 3.1039 - val_accuracy: 0.1731\n",
            "Epoch 2/20\n",
            "72/72 [==============================] - 14s 190ms/step - loss: 2.9751 - accuracy: 0.2168 - val_loss: 2.6425 - val_accuracy: 0.2873\n",
            "Epoch 3/20\n",
            "72/72 [==============================] - 14s 190ms/step - loss: 2.5719 - accuracy: 0.2997 - val_loss: 2.4370 - val_accuracy: 0.3211\n",
            "Epoch 4/20\n",
            "72/72 [==============================] - 14s 190ms/step - loss: 2.3972 - accuracy: 0.3291 - val_loss: 2.3259 - val_accuracy: 0.3439\n",
            "Epoch 5/20\n",
            "72/72 [==============================] - 14s 189ms/step - loss: 2.2995 - accuracy: 0.3495 - val_loss: 2.2516 - val_accuracy: 0.3586\n",
            "Epoch 6/20\n",
            "72/72 [==============================] - 14s 191ms/step - loss: 2.2304 - accuracy: 0.3644 - val_loss: 2.1963 - val_accuracy: 0.3729\n",
            "Epoch 7/20\n",
            "72/72 [==============================] - 14s 189ms/step - loss: 2.1815 - accuracy: 0.3766 - val_loss: 2.1500 - val_accuracy: 0.3823\n",
            "Epoch 8/20\n",
            "72/72 [==============================] - 14s 190ms/step - loss: 2.1344 - accuracy: 0.3873 - val_loss: 2.1071 - val_accuracy: 0.3924\n",
            "Epoch 9/20\n",
            "72/72 [==============================] - 14s 190ms/step - loss: 2.0882 - accuracy: 0.3985 - val_loss: 2.0647 - val_accuracy: 0.4018\n",
            "Epoch 10/20\n",
            "72/72 [==============================] - 13s 187ms/step - loss: 2.0455 - accuracy: 0.4066 - val_loss: 2.0238 - val_accuracy: 0.4109\n",
            "Epoch 11/20\n",
            "56/72 [======================>.......] - ETA: 2s - loss: 2.0069 - accuracy: 0.4158"
          ],
          "name": "stdout"
        }
      ]
    },
    {
      "cell_type": "code",
      "metadata": {
        "id": "JYhQtFyT_RnW"
      },
      "source": [
        "fig, ax = plt.subplots(1, 1)\n",
        "\n",
        "ax.plot(hist_custom.history[\"loss\"], label='loss')\n",
        "ax.plot(hist_custom.history[\"accuracy\"], label='accuracy')\n",
        "ax.plot(hist_custom.history[\"val_loss\"], label='validation loss')\n",
        "ax.plot(hist_custom.history[\"val_accuracy\"], label='validation accuracy')\n",
        "ax.set_xlabel(\"Epoch\")\n",
        "ax.legend()\n",
        "\n",
        "fig.set_size_inches(20, 10)\n",
        "\n",
        "plt.show()"
      ],
      "execution_count": null,
      "outputs": []
    },
    {
      "cell_type": "code",
      "metadata": {
        "id": "QE7snkJg_RnW"
      },
      "source": [
        "def create_text(amount_symbols, init_text, text_model):    \n",
        "    # Tokenize text\n",
        "    ret = tokenize(init_text)\n",
        "    \n",
        "    states = None\n",
        "    current_char = one_hot.encode(ret, dtype=float)\n",
        "    # For some reason we have to add one dimension\n",
        "    current_char = current_char.reshape(1, *current_char.shape)\n",
        "    \n",
        "    for i in range(amount_symbols):\n",
        "        current_char, states = text_model(current_char, return_state = True, states = states)\n",
        "        # Only add last char if several got \n",
        "        ret.append(one_hot.decode(current_char[0])[-1])\n",
        "        \n",
        "    return untokenize(ret)\n",
        "    "
      ],
      "execution_count": null,
      "outputs": []
    },
    {
      "cell_type": "code",
      "metadata": {
        "id": "QWQ-b8AS_RnW"
      },
      "source": [
        "created_text = create_text(250, \"Prince\", literatur_model)\n",
        "\n",
        "print(created_text)"
      ],
      "execution_count": null,
      "outputs": []
    },
    {
      "cell_type": "code",
      "metadata": {
        "id": "w6mdZV36_RnW"
      },
      "source": [
        ""
      ],
      "execution_count": null,
      "outputs": []
    }
  ]
}