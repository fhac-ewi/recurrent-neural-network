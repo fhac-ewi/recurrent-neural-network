{
 "cells": [
  {
   "cell_type": "markdown",
   "metadata": {
    "colab_type": "text",
    "id": "view-in-github"
   },
   "source": [
    "<a href=\"https://colab.research.google.com/github/fhac-ewi/recurrent-neural-network/blob/Textprediction/%C3%9Cbung_RNN_L%C3%B6sung.ipynb\" target=\"_parent\"><img src=\"https://colab.research.google.com/assets/colab-badge.svg\" alt=\"Open In Colab\"/></a>"
   ]
  },
  {
   "cell_type": "markdown",
   "metadata": {
    "id": "yYD6gvw1vwii"
   },
   "source": [
    "# Übung RNN\n",
    "\n",
    "## In dieser Übung ...\n",
    "... werden wir ein bisschen lyrisch. Am Ende werden Sie vielleicht noch der nächste Shakespear\n",
    "\n",
    "\n",
    "\n",
    "\n"
   ]
  },
  {
   "cell_type": "code",
   "execution_count": 1,
   "metadata": {
    "id": "ANQUdX5hyPTu"
   },
   "outputs": [
    {
     "name": "stdout",
     "output_type": "stream",
     "text": [
      "Keras Version: 2.4.3 ; Tensorflow version: 2.3.0 ; NumPy version: 1.18.5 Python version: 3.6.9\n"
     ]
    }
   ],
   "source": [
    "import tensorflow as tf\n",
    "import keras\n",
    "import numpy as np\n",
    "import sys\n",
    "import matplotlib.pyplot as plt\n",
    "print(\"Keras Version:\", keras.__version__, \"; Tensorflow version:\", tf.__version__, \"; NumPy version:\", np.__version__, \"Python version:\", \".\".join(str(x) for x in sys.version_info[:3]))\n",
    "\n",
    "from sklearn.model_selection import train_test_split\n",
    "\n",
    "from datetime import datetime, timedelta\n",
    "import time"
   ]
  },
  {
   "cell_type": "markdown",
   "metadata": {
    "id": "WglUJhhgyWSs"
   },
   "source": [
    "## x.1 Erstellen und Vorbereiten eines eigenen Datensatzes \n",
    "\n",
    "Zuerst müssen wir ein paar Daten über die Werke von Shakespear besorgen\n",
    "\n",
    "**Ihre Aufgaben**\n",
    "\n",
    "Führen Sie die folgende Codezelle aus, betrachten Sie den Datensatz und überlegen Sie, was Sie mit den Daten noch tun müssen\n",
    "\n",
    "Hinweis: Müssen Sie die Techte noch etwas bereinigen?"
   ]
  },
  {
   "cell_type": "code",
   "execution_count": 2,
   "metadata": {},
   "outputs": [
    {
     "name": "stdout",
     "output_type": "stream",
     "text": [
      "Length of text: 1115394 characters\n"
     ]
    }
   ],
   "source": [
    "path_to_file = tf.keras.utils.get_file('shakespeare.txt', 'https://storage.googleapis.com/download.tensorflow.org/data/shakespeare.txt')\n",
    "\n",
    "text = open(path_to_file, 'rb').read().decode(encoding='utf-8')\n",
    "print(f'Length of text: {len(text)} characters')"
   ]
  },
  {
   "cell_type": "code",
   "execution_count": 3,
   "metadata": {},
   "outputs": [
    {
     "name": "stdout",
     "output_type": "stream",
     "text": [
      "First Citizen:\n",
      "Before we proceed any further, hear me speak.\n",
      "\n",
      "All:\n",
      "Speak, speak.\n",
      "\n",
      "First Citizen:\n",
      "You are all resolved rather to die than to famish?\n",
      "\n",
      "All:\n",
      "Resolved. resolved.\n",
      "\n",
      "First Citizen:\n",
      "First, you know Caius Marcius is chief enemy to the people.\n",
      "\n"
     ]
    }
   ],
   "source": [
    "print(text[:250])"
   ]
  },
  {
   "cell_type": "markdown",
   "metadata": {},
   "source": [
    "Wir werden der einfach heit halber einzelne Zeichen vorhersagen. Unser vokabular sollte also aus allen Zeichen bestehen, die im text vorkommen\n",
    "\n",
    "Hinweis: Vielleicht kann https://spacy.io/usage/spacy-101 hilfreich sein"
   ]
  },
  {
   "cell_type": "code",
   "execution_count": 4,
   "metadata": {},
   "outputs": [],
   "source": [
    "def tokenize(text):\n",
    "    return list(text)\n",
    "\n",
    "def untokenize(tokens):\n",
    "    return \"\".join(tokens)"
   ]
  },
  {
   "cell_type": "code",
   "execution_count": 5,
   "metadata": {},
   "outputs": [
    {
     "name": "stdout",
     "output_type": "stream",
     "text": [
      "Length of raw text: 1115394\n",
      "Length of tokenized text: 1115394\n",
      "Unique tokens: 65\n"
     ]
    }
   ],
   "source": [
    "tokenized_text = tokenize(text)\n",
    "\n",
    "tokens = sorted(set(tokenized_text))\n",
    "\n",
    "print(\"Length of raw text:\", len(text))\n",
    "print(\"Length of tokenized text:\", len(tokenized_text))\n",
    "print(\"Unique tokens:\", len(tokens))\n"
   ]
  },
  {
   "cell_type": "markdown",
   "metadata": {
    "id": "a1CXeYPHyywV"
   },
   "source": [
    "## x.2 One Hot Kodierung\n",
    "\n",
    "Für das Training unseres RNN werden wir eine One Hot kodierung nutzen\n",
    "\n",
    "**Ihre Aufgaben**\n",
    "\n",
    "(1) Implementieren Sie also eine Methode, die für Ihre ausgewählten Tokens eine one hot codierung erzeigt und diese Dann auf den Text anwendet\n",
    "\n",
    "*Himweis:* Eine gute Idee könnte sein eine Klasse zu schreiben, die das vokabular specichert und onehot kodieren und dekodieren kann"
   ]
  },
  {
   "cell_type": "code",
   "execution_count": 6,
   "metadata": {
    "id": "miApcJctvteM"
   },
   "outputs": [],
   "source": [
    "class OneHot(object):\n",
    "    def __init__(self, tokens, unknown_token = \"[UNKNOWN]\"):\n",
    "        self.tokens = tokens\n",
    "        self.unknown_token = unknown_token\n",
    "        self.char_to_index = dict((token, i + 1) for i, token in enumerate(self.tokens))\n",
    "        self.index_to_char = dict((i + 1, token) for i, token in enumerate(self.tokens))\n",
    "        pass\n",
    "\n",
    "    def encode(self, text_as_tokens, dtype=np.uint16):\n",
    "        enc = np.empty((len(text_as_tokens), len(self.tokens) + 1), dtype=dtype)\n",
    "        #enc = np.empty((len(text_as_tokens)), dtype=dtype)\n",
    "        for i, token in enumerate(text_as_tokens):\n",
    "            enc[i] = self.encode_token(token=token, l=len(self.tokens) + 1, dtype=dtype)\n",
    "        return enc\n",
    "    \n",
    "    def encode_token(self, token, l, dtype=np.uint16):\n",
    "        ret = np.zeros((1, l), dtype=dtype)\n",
    "        if token not in self.char_to_index:\n",
    "            ret[0, 0] = 1\n",
    "            #return 1\n",
    "        else:\n",
    "            ret[0, self.char_to_index[token]] = 1\n",
    "            #return self.char_to_index[token]\n",
    "        return ret\n",
    "    \n",
    "    def decode(self, mat, unknown_token=None):            \n",
    "        return [self.decode_token(mat[x]) for x in range(mat.shape[0])]\n",
    "    \n",
    "    def decode_token(self, vec, unknown_token=None):\n",
    "        if unknown_token is None:\n",
    "            unknown_token = self.unknown_token\n",
    "        if isinstance(vec, tf.Tensor):\n",
    "            vec = vec.numpy()\n",
    "        if isinstance(vec, np.ndarray):\n",
    "            am = np.argmax(vec)\n",
    "        else:\n",
    "            am = vec\n",
    "        if am == 0:\n",
    "            return unknown_token\n",
    "        return self.index_to_char[am]"
   ]
  },
  {
   "cell_type": "code",
   "execution_count": 7,
   "metadata": {},
   "outputs": [],
   "source": [
    "one_hot = OneHot(tokens=tokens)"
   ]
  },
  {
   "cell_type": "code",
   "execution_count": 8,
   "metadata": {},
   "outputs": [
    {
     "name": "stdout",
     "output_type": "stream",
     "text": [
      "(1115394, 66) bool\n"
     ]
    }
   ],
   "source": [
    "one_hot_text = one_hot.encode(tokenized_text, dtype=np.bool_)\n",
    "\n",
    "print(one_hot_text.shape, one_hot_text.dtype)"
   ]
  },
  {
   "cell_type": "markdown",
   "metadata": {},
   "source": [
    "(2) Für das training brauchen wir nun sequenzen einer bestimmten Länge, das heißt eine Abfolge gegebener Länge von Wörtern\n",
    "\n",
    "Hinweis: Überlegen Sie sich wie lang Sie die Sequenz wählen wollen. Es sollte lang genug sein, dass das Netz zusammen hänge auch über mehrere Sätze lernen kann, aber nicht zu lang, sodass noch genug von den Daten übrig bleibt"
   ]
  },
  {
   "cell_type": "code",
   "execution_count": 9,
   "metadata": {
    "tags": []
   },
   "outputs": [],
   "source": [
    "sequence_len = 100\n",
    "target_shape = (int(one_hot_text.shape[0] / (sequence_len + 1)) , (sequence_len + 1) , one_hot_text.shape[1])\n",
    "\n",
    "one_hot_text_seq = np.empty(target_shape, dtype=one_hot_text.dtype)\n",
    "\n",
    "for s in range(one_hot_text_seq.shape[0]):\n",
    "    one_hot_text_seq[s] = one_hot_text[s * (sequence_len + 1):(s + 1) * (sequence_len + 1)]"
   ]
  },
  {
   "cell_type": "markdown",
   "metadata": {},
   "source": [
    "(3) Nun müssen wir die Daten noch in X und Y aufteilen. Die Y-Werte sind die gleichen, wie die jeweiligen X-Daten, nur um 1 verschoben.\n",
    "\n",
    "*Beispiel:* X: \"Hallo Wel\"; Y: \"allo Welt\"\n",
    "\n",
    "*Hinweis:* Wenn Sie möchten können Sie hier auch schon in trainings und validierungsdaten aufteilen. Diese können während dem training zur Bewertung der Performance genutzt werden, das ist aber nicht nötig"
   ]
  },
  {
   "cell_type": "code",
   "execution_count": 10,
   "metadata": {},
   "outputs": [
    {
     "name": "stdout",
     "output_type": "stream",
     "text": [
      "X_train: (7362, 100, 66) bool\n",
      "y_train: (7362, 100, 66) bool\n",
      "X_val  : (3681, 100, 66) bool\n",
      "y_val  : (3681, 100, 66) bool\n",
      "-------------------------\n",
      " comforter.\n",
      "\n",
      "ANTONIO:\n",
      "We two, my lord,\n",
      "Will guard your person while you take your rest,\n",
      "And watch yo\n",
      "-------------------------\n",
      "comforter.\n",
      "\n",
      "ANTONIO:\n",
      "We two, my lord,\n",
      "Will guard your person while you take your rest,\n",
      "And watch you\n",
      "-------------------------\n"
     ]
    }
   ],
   "source": [
    "VALIDATION_SIZE = 1/3\n",
    "\n",
    "X_train, X_val, y_train, y_val = train_test_split(one_hot_text_seq[:, :-1], one_hot_text_seq[:, 1:], test_size=VALIDATION_SIZE)\n",
    "\n",
    "print(\"X_train:\", X_train.shape, X_train.dtype)\n",
    "print(\"y_train:\", y_train.shape, y_train.dtype)\n",
    "print(\"X_val  :\", X_val.shape, X_val.dtype)\n",
    "print(\"y_val  :\", y_val.shape, y_val.dtype)\n",
    "\n",
    "print(\"-\" * 25)\n",
    "print(untokenize(one_hot.decode(X_train[0])))\n",
    "print(\"-\" * 25)\n",
    "print(untokenize(one_hot.decode(y_train[0])))\n",
    "print(\"-\" * 25)"
   ]
  },
  {
   "cell_type": "markdown",
   "metadata": {},
   "source": [
    "## x.3 Erstellen des RNN Modells\n",
    "\n",
    "Hier erstellen wir das eigentliche RNN. Hierfür nutzen wir ein Sequential Model von Keras mit einem RNN und einem Dense Layer mit Softmax zum erstellen der Ausgabe.\n",
    "\n",
    "**Ihre Aufgaben**\n",
    "\n",
    "(1) Erstellen Sie das entsprechende Sequential model. Empfehlung mit adam und categorical_crossentropy. Fügen Sie bei den metrics auch 'accuracy' hinzu. Die werden wir später nutzen"
   ]
  },
  {
   "cell_type": "code",
   "execution_count": 11,
   "metadata": {},
   "outputs": [],
   "source": [
    "# Length of the vocabulary in chars\n",
    "vocab_size = X_train.shape[-1]\n",
    "\n",
    "# The input shape\n",
    "lstn_input_shape = X_train.shape[1:]\n",
    "\n",
    "# Number of RNN units\n",
    "rnn_units = 1024"
   ]
  },
  {
   "cell_type": "code",
   "execution_count": 12,
   "metadata": {},
   "outputs": [
    {
     "name": "stdout",
     "output_type": "stream",
     "text": [
      "Model: \"sequential\"\n",
      "_________________________________________________________________\n",
      "Layer (type)                 Output Shape              Param #   \n",
      "=================================================================\n",
      "The_Brain (SimpleRNN)        (None, 100, 1024)         1117184   \n",
      "_________________________________________________________________\n",
      "The_Hand (Dense)             (None, 100, 66)           67650     \n",
      "=================================================================\n",
      "Total params: 1,184,834\n",
      "Trainable params: 1,184,834\n",
      "Non-trainable params: 0\n",
      "_________________________________________________________________\n",
      "(1, 100, 66) (100, 66) (1, 100, 66)\n",
      "Test sequence: \n",
      " ------------------------- \n",
      "  comforter.\n",
      "\n",
      "ANTONIO:\n",
      "We two, my lord,\n",
      "Will guard your person while you take your rest,\n",
      "And watch yo \n",
      " -------------------------\n",
      "Expected result: \n",
      " ------------------------- \n",
      " comforter.\n",
      "\n",
      "ANTONIO:\n",
      "We two, my lord,\n",
      "Will guard your person while you take your rest,\n",
      "And watch you \n",
      " -------------------------\n",
      "Untrained prediction: \n",
      " ------------------------- \n",
      " LJJIZlokEs&KJyFs$V-MF?t.3GhQ!IbDLmDKzFSnVgmam$d&scJQFFUoHlgFFRSdBBWl:GQ3IQcn,:qynloIl;l:fym3hnsui&l& \n",
      " -------------------------\n"
     ]
    }
   ],
   "source": [
    "SELECTED_ARCH = tf.keras.layers.SimpleRNN\n",
    "\n",
    "model = tf.keras.Sequential()\n",
    "model.add(SELECTED_ARCH(rnn_units, return_sequences=True, input_shape=lstn_input_shape, name=\"The_Brain\"))\n",
    "model.add(tf.keras.layers.Dense(vocab_size, activation='softmax', name=\"The_Hand\"))\n",
    "model.compile(loss='categorical_crossentropy', optimizer='adam', metrics=['accuracy'])\n",
    "\n",
    "model.summary()\n",
    "\n",
    "input_example_batch = X_train[0]\n",
    "input_example_batch = input_example_batch.reshape((1, *input_example_batch.shape))\n",
    "\n",
    "example_batch_predictions = model.predict(input_example_batch)\n",
    "print(input_example_batch.shape, y_train[0].shape, example_batch_predictions.shape)\n",
    "\n",
    "print(\"Test sequence:\", \"\\n\", \"-\" * 25, \"\\n\", untokenize(one_hot.decode(X_train[0])), \"\\n\", \"-\"*25)\n",
    "print(\"Expected result:\", \"\\n\", \"-\" * 25, \"\\n\", untokenize(one_hot.decode(y_train[0])), \"\\n\", \"-\"*25)\n",
    "print(\"Untrained prediction:\", \"\\n\", \"-\" * 25, \"\\n\", untokenize(one_hot.decode(example_batch_predictions[0])), \"\\n\", \"-\"*25)"
   ]
  },
  {
   "cell_type": "markdown",
   "metadata": {
    "id": "axndj50eyWrw"
   },
   "source": [
    "## x.4 Training eines RNN Modells\n",
    "\n",
    "Nun gehts ans trainieren. Nutzen Sie für den Anfang eine kleine Anzahl an epochen um herauszufinden wie viele Sie in einer ertragbaren Zeit machen können. Sollten Sie auf google Colab arbeiten könnte 20 hier ein guter Startwert sein\n",
    "\n",
    "**Ihre Aufgaben**\n",
    "\n",
    "(1) Nutze die Fit methode deines models um es auf den ertellten Trainingsdaten zu trainieren. Wenn Sie validierungsdaten erzeugt haben können Sie diese bei validation_data angeben. Um die Trainingszeit kurz zu halten kann es auch Sinn ergeben hier eine batch_size anzugeben"
   ]
  },
  {
   "cell_type": "code",
   "execution_count": 13,
   "metadata": {
    "id": "iGpNzqcuyW5-"
   },
   "outputs": [
    {
     "name": "stdout",
     "output_type": "stream",
     "text": [
      "Epoch 1/20\n",
      "116/116 [==============================] - 11s 93ms/step - loss: 3.2454 - accuracy: 0.1751 - val_loss: 2.8825 - val_accuracy: 0.2534\n",
      "Epoch 2/20\n",
      "116/116 [==============================] - 10s 86ms/step - loss: 2.7295 - accuracy: 0.2867 - val_loss: 2.5684 - val_accuracy: 0.3160\n",
      "Epoch 3/20\n",
      "116/116 [==============================] - 10s 88ms/step - loss: 2.4247 - accuracy: 0.3324 - val_loss: 2.3222 - val_accuracy: 0.3365\n",
      "Epoch 4/20\n",
      "116/116 [==============================] - 10s 90ms/step - loss: 2.2410 - accuracy: 0.3633 - val_loss: 2.2375 - val_accuracy: 0.3703\n",
      "Epoch 5/20\n",
      "116/116 [==============================] - 10s 90ms/step - loss: 2.1443 - accuracy: 0.3870 - val_loss: 2.1682 - val_accuracy: 0.3839\n",
      "Epoch 6/20\n",
      "116/116 [==============================] - 10s 88ms/step - loss: 2.0653 - accuracy: 0.4066 - val_loss: 2.0882 - val_accuracy: 0.3984\n",
      "Epoch 7/20\n",
      "116/116 [==============================] - 10s 82ms/step - loss: 2.0134 - accuracy: 0.4186 - val_loss: 2.0725 - val_accuracy: 0.4036\n",
      "Epoch 8/20\n",
      "116/116 [==============================] - 10s 84ms/step - loss: 1.9458 - accuracy: 0.4349 - val_loss: 2.0008 - val_accuracy: 0.4191\n",
      "Epoch 9/20\n",
      "116/116 [==============================] - 10s 84ms/step - loss: 1.8990 - accuracy: 0.4467 - val_loss: 2.0651 - val_accuracy: 0.4086\n",
      "Epoch 10/20\n",
      "116/116 [==============================] - 10s 87ms/step - loss: 1.8571 - accuracy: 0.4572 - val_loss: 2.0167 - val_accuracy: 0.4230\n",
      "Epoch 11/20\n",
      "116/116 [==============================] - 10s 85ms/step - loss: 1.8189 - accuracy: 0.4663 - val_loss: 1.9774 - val_accuracy: 0.4274\n",
      "Epoch 12/20\n",
      "116/116 [==============================] - 10s 86ms/step - loss: 1.7838 - accuracy: 0.4753 - val_loss: 1.8492 - val_accuracy: 0.4550\n",
      "Epoch 13/20\n",
      "116/116 [==============================] - 10s 83ms/step - loss: 1.7413 - accuracy: 0.4862 - val_loss: 1.8774 - val_accuracy: 0.4495\n",
      "Epoch 14/20\n",
      "116/116 [==============================] - 9s 81ms/step - loss: 1.7075 - accuracy: 0.4951 - val_loss: 1.8451 - val_accuracy: 0.4525\n",
      "Epoch 15/20\n",
      "116/116 [==============================] - 10s 85ms/step - loss: 1.6920 - accuracy: 0.4998 - val_loss: 1.7865 - val_accuracy: 0.4742\n",
      "Epoch 16/20\n",
      "116/116 [==============================] - 10s 86ms/step - loss: 1.6512 - accuracy: 0.5100 - val_loss: 1.7982 - val_accuracy: 0.4691\n",
      "Epoch 17/20\n",
      "116/116 [==============================] - 10s 85ms/step - loss: 1.6298 - accuracy: 0.5159 - val_loss: 1.8348 - val_accuracy: 0.4586\n",
      "Epoch 18/20\n",
      "116/116 [==============================] - 9s 77ms/step - loss: 1.6129 - accuracy: 0.5204 - val_loss: 1.7217 - val_accuracy: 0.4936\n",
      "Epoch 19/20\n",
      "116/116 [==============================] - 10s 87ms/step - loss: 1.5823 - accuracy: 0.5278 - val_loss: 1.6746 - val_accuracy: 0.5065\n",
      "Epoch 20/20\n",
      "116/116 [==============================] - 10s 89ms/step - loss: 1.5568 - accuracy: 0.5351 - val_loss: 1.7729 - val_accuracy: 0.4815\n",
      "Training took: 0:03:22.338308\n"
     ]
    }
   ],
   "source": [
    "EPOCHS = 20\n",
    "\n",
    "t1 = time.time()\n",
    "hist = model.fit(X_train, y_train,\n",
    "                  batch_size=64,\n",
    "                  epochs=EPOCHS,\n",
    "                  validation_data=(X_val, y_val))\n",
    "t2 = time.time()\n",
    "\n",
    "print(\"Training took:\", timedelta(seconds=t2-t1))"
   ]
  },
  {
   "cell_type": "markdown",
   "metadata": {},
   "source": [
    "(2) Plotten Sie accuracy und loss über die Epochen um bewerten zu können wie gut das Training lief"
   ]
  },
  {
   "cell_type": "code",
   "execution_count": 14,
   "metadata": {},
   "outputs": [
    {
     "data": {
      "image/png": "[encoded data removed]",
      "text/plain": [
       "<Figure size 1440x720 with 1 Axes>"
      ]
     },
     "metadata": {
      "needs_background": "light"
     },
     "output_type": "display_data"
    }
   ],
   "source": [
    "fig, ax = plt.subplots(1, 1)\n",
    "\n",
    "ax.plot(hist.history[\"loss\"], label='loss')\n",
    "ax.plot(hist.history[\"accuracy\"], label='accuracy')\n",
    "ax.plot(hist.history[\"val_loss\"], label='validation loss')\n",
    "ax.plot(hist.history[\"val_accuracy\"], label='validation accuracy')\n",
    "ax.set_xlabel(\"Epoch\")\n",
    "ax.legend()\n",
    "\n",
    "fig.set_size_inches(20, 10)\n",
    "\n",
    "plt.show()"
   ]
  },
  {
   "cell_type": "markdown",
   "metadata": {},
   "source": [
    "## x.5 Text prediction\n",
    "\n",
    "(1) Schreiben Sie eine Methode, die für einen gegebenen Text das nächste Zeichen prognostiziert"
   ]
  },
  {
   "cell_type": "code",
   "execution_count": 15,
   "metadata": {},
   "outputs": [],
   "source": [
    "def predict(txt, one_hot, trainied_model):\n",
    "    encoded_txt = one_hot.encode(tokenize(txt))\n",
    "    prediction = trainied_model.predict(encoded_txt.reshape((1, *encoded_txt.shape)))\n",
    "    return untokenize(one_hot.decode(prediction[0]))[-1]"
   ]
  },
  {
   "cell_type": "markdown",
   "metadata": {},
   "source": [
    "(2) *Optional:* Nutzen Sie ipywidgets um live vorschläge zurück zu geben"
   ]
  },
  {
   "cell_type": "code",
   "execution_count": 16,
   "metadata": {},
   "outputs": [],
   "source": [
    "import ipywidgets as widgets\n",
    "from IPython.display import display"
   ]
  },
  {
   "cell_type": "code",
   "execution_count": 17,
   "metadata": {},
   "outputs": [
    {
     "data": {
      "application/vnd.jupyter.widget-view+json": {
       "model_id": "a949d6c0ba7444ddafb1bc080981a72a",
       "version_major": 2,
       "version_minor": 0
      },
      "text/plain": [
       "interactive(children=(Text(value='Hello Worl', description='Your text:', placeholder='Type something'), Output…"
      ]
     },
     "metadata": {},
     "output_type": "display_data"
    }
   ],
   "source": [
    "def verbose_prediction(txt, one_hot, trainied_model):\n",
    "    if len(txt) == 0:\n",
    "        txt = \" \"\n",
    "    prediction = predict(txt=txt, one_hot=one_hot, trainied_model=trainied_model)\n",
    "    print(f\"I think the next will be \\\"{prediction}\\\" after you said \\\"{txt}\\\"\")\n",
    "\n",
    "w = widgets.interactive(verbose_prediction,\n",
    "                        txt=widgets.Text(value='Hello Worl', placeholder='Type something', description='Your text:', disabled=False),\n",
    "                        one_hot=widgets.fixed(one_hot),\n",
    "                        trainied_model=widgets.fixed(model),\n",
    "                       )\n",
    "display(w)"
   ]
  },
  {
   "cell_type": "markdown",
   "metadata": {
    "id": "0d7pKNy1ycN7"
   },
   "source": [
    "## x.6 *Optional* Vergleich mit LSTM und GRU und ...\n",
    "\n",
    "Trainieren Sie nun modelle mit LSTM und GRU oder anderen Architekturen und vergleichen Sie lernperformance und Ergebnisse. Was fällt Ihnen auf?"
   ]
  },
  {
   "cell_type": "code",
   "execution_count": null,
   "metadata": {
    "id": "IehQ7h3uyeY6"
   },
   "outputs": [],
   "source": []
  },
  {
   "cell_type": "markdown",
   "metadata": {},
   "source": [
    "## x.7 *Noch Optionaler* Ist das Netz jetzt ein Schriftsteller?\n",
    "\n",
    "Was müsste man ändern um nun ein ganzes Buch erstellen zu lassen? Glauben Sie das Ergebniss wäre lesbar?"
   ]
  }
 ],
 "metadata": {
  "colab": {
   "authorship_tag": "ABX9TyMq+K20Puo5Sv9kQTS6dlDP",
   "include_colab_link": true,
   "name": "Übung-RNN-Lösung.ipynb",
   "provenance": []
  },
  "kernelspec": {
   "display_name": "Python 3",
   "language": "python",
   "name": "python3"
  },
  "language_info": {
   "codemirror_mode": {
    "name": "ipython",
    "version": 3
   },
   "file_extension": ".py",
   "mimetype": "text/x-python",
   "name": "python",
   "nbconvert_exporter": "python",
   "pygments_lexer": "ipython3",
   "version": "3.6.9"
  }
 },
 "nbformat": 4,
 "nbformat_minor": 4
}
