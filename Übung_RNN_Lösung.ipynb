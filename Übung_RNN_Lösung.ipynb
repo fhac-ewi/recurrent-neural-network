{
 "cells": [
  {
   "cell_type": "markdown",
   "metadata": {
    "colab_type": "text",
    "id": "view-in-github"
   },
   "source": [
    "<a href=\"https://colab.research.google.com/github/fhac-ewi/recurrent-neural-network/blob/Textprediction/%C3%9Cbung_RNN_L%C3%B6sung.ipynb\" target=\"_parent\"><img src=\"https://colab.research.google.com/assets/colab-badge.svg\" alt=\"Open In Colab\"/></a>"
   ]
  },
  {
   "cell_type": "markdown",
   "metadata": {
    "id": "yYD6gvw1vwii"
   },
   "source": [
    "# Übung RNN\n",
    "\n",
    "## In dieser Übung ...\n",
    "... werden wir ein bisschen lyrisch. Am Ende werden Sie vielleicht noch der nächste Shakespear\n",
    "\n",
    "\n",
    "\n",
    "\n"
   ]
  },
  {
   "cell_type": "code",
   "execution_count": 1,
   "metadata": {
    "id": "ANQUdX5hyPTu"
   },
   "outputs": [
    {
     "name": "stdout",
     "output_type": "stream",
     "text": [
      "Keras Version: 2.4.3 ; Tensorflow version: 2.3.0 ; NumPy version: 1.18.5 Python version: 3.6.9\n"
     ]
    }
   ],
   "source": [
    "import tensorflow as tf\n",
    "import keras\n",
    "import numpy as np\n",
    "import sys\n",
    "import matplotlib.pyplot as plt\n",
    "print(\"Keras Version:\", keras.__version__, \"; Tensorflow version:\", tf.__version__, \"; NumPy version:\", np.__version__, \"Python version:\", \".\".join(str(x) for x in sys.version_info[:3]))\n",
    "\n",
    "from sklearn.model_selection import train_test_split\n",
    "\n",
    "from datetime import datetime, timedelta\n",
    "import time"
   ]
  },
  {
   "cell_type": "markdown",
   "metadata": {
    "id": "WglUJhhgyWSs"
   },
   "source": [
    "## x.1 Erstellen und Vorbereiten eines eigenen Datensatzes \n",
    "\n",
    "Zuerst müssen wir ein paar Daten über die Werke von Shakespear besorgen\n",
    "\n",
    "**Ihre Aufgaben**\n",
    "\n",
    "Führen Sie die folgende Codezelle aus, betrachten Sie den Datensatz und überlegen Sie, was Sie mit den Daten noch tun müssen\n",
    "\n",
    "Hinweis: Müssen Sie die Techte noch etwas bereinigen?"
   ]
  },
  {
   "cell_type": "code",
   "execution_count": 2,
   "metadata": {},
   "outputs": [
    {
     "name": "stdout",
     "output_type": "stream",
     "text": [
      "Length of text: 1115394 characters\n"
     ]
    }
   ],
   "source": [
    "path_to_file = tf.keras.utils.get_file('shakespeare.txt', 'https://storage.googleapis.com/download.tensorflow.org/data/shakespeare.txt')\n",
    "\n",
    "text = open(path_to_file, 'rb').read().decode(encoding='utf-8')\n",
    "print(f'Length of text: {len(text)} characters')"
   ]
  },
  {
   "cell_type": "code",
   "execution_count": 3,
   "metadata": {},
   "outputs": [
    {
     "name": "stdout",
     "output_type": "stream",
     "text": [
      "First Citizen:\n",
      "Before we proceed any further, hear me speak.\n",
      "\n",
      "All:\n",
      "Speak, speak.\n",
      "\n",
      "First Citizen:\n",
      "You are all resolved rather to die than to famish?\n",
      "\n",
      "All:\n",
      "Resolved. resolved.\n",
      "\n",
      "First Citizen:\n",
      "First, you know Caius Marcius is chief enemy to the people.\n",
      "\n"
     ]
    }
   ],
   "source": [
    "print(text[:250])"
   ]
  },
  {
   "cell_type": "markdown",
   "metadata": {},
   "source": [
    "Wir werden der einfach heit halber einzelne Zeichen vorhersagen. Unser vokabular sollte also aus allen Zeichen bestehen, die im text vorkommen\n",
    "\n",
    "Hinweis: Vielleicht kann https://spacy.io/usage/spacy-101 hilfreich sein"
   ]
  },
  {
   "cell_type": "code",
   "execution_count": 4,
   "metadata": {},
   "outputs": [],
   "source": [
    "def tokenize(text):\n",
    "    return list(text)\n",
    "\n",
    "def untokenize(tokens):\n",
    "    return \"\".join(tokens)"
   ]
  },
  {
   "cell_type": "code",
   "execution_count": 5,
   "metadata": {},
   "outputs": [
    {
     "name": "stdout",
     "output_type": "stream",
     "text": [
      "Length of raw text: 1115394\n",
      "Length of tokenized text: 1115394\n",
      "Unique tokens: 65\n"
     ]
    }
   ],
   "source": [
    "tokenized_text = tokenize(text)\n",
    "\n",
    "tokens = sorted(set(tokenized_text))\n",
    "\n",
    "print(\"Length of raw text:\", len(text))\n",
    "print(\"Length of tokenized text:\", len(tokenized_text))\n",
    "print(\"Unique tokens:\", len(tokens))\n"
   ]
  },
  {
   "cell_type": "markdown",
   "metadata": {
    "id": "a1CXeYPHyywV"
   },
   "source": [
    "## x.2 One Hot Kodierung\n",
    "\n",
    "Für das Training unseres RNN werden wir eine One Hot kodierung nutzen\n",
    "\n",
    "**Ihre Aufgaben**\n",
    "\n",
    "(1) Implementieren Sie also eine Methode, die für Ihre ausgewählten Tokens eine one hot codierung erzeigt und diese Dann auf den Text anwendet\n",
    "\n",
    "*Himweis:* Eine gute Idee könnte sein eine Klasse zu schreiben, die das vokabular specichert und onehot kodieren und dekodieren kann"
   ]
  },
  {
   "cell_type": "code",
   "execution_count": 6,
   "metadata": {
    "id": "miApcJctvteM"
   },
   "outputs": [],
   "source": [
    "class OneHot(object):\n",
    "    def __init__(self, tokens, unknown_token = \"[UNKNOWN]\"):\n",
    "        '''\n",
    "        tokens: The tokens you want to be able to encode and decode\n",
    "        unknown_token: The token to be used when decoding and the net wants to use a not known char\n",
    "        '''\n",
    "        self.tokens = tokens\n",
    "        self.unknown_token = unknown_token\n",
    "        # Store a bidirectional dictionary containing the characters\n",
    "        self.char_to_index = dict((token, i + 1) for i, token in enumerate(self.tokens))\n",
    "        self.index_to_char = dict((i + 1, token) for i, token in enumerate(self.tokens))\n",
    "        pass\n",
    "\n",
    "    def encode(self, text_as_tokens, dtype=float):\n",
    "        '''\n",
    "        text_as_tokens: List of tokens\n",
    "        '''\n",
    "        # Create the encoding matrix\n",
    "        enc = np.empty((len(text_as_tokens), len(self.tokens) + 1), dtype=dtype)\n",
    "        for i, token in enumerate(text_as_tokens):\n",
    "            # Encode every char\n",
    "            enc[i] = self.encode_token(token=token, l=len(self.tokens) + 1, dtype=dtype)\n",
    "        return enc\n",
    "    \n",
    "    def encode_token(self, token, l, dtype=float):\n",
    "        '''\n",
    "        token: Single token\n",
    "        l: length of array to be returned. At position zero it is stored if the char is unknown\n",
    "        '''\n",
    "        ret = np.zeros((1, l), dtype=dtype)\n",
    "        if token not in self.char_to_index:\n",
    "            ret[0, 0] = 1\n",
    "        else:\n",
    "            ret[0, self.char_to_index[token]] = 1\n",
    "        return ret\n",
    "    \n",
    "    def decode(self, mat, unknown_token=None):         \n",
    "        '''\n",
    "        mat: matrix to be decoded. Has to be of shape (len_of_text, vocab_size)\n",
    "        unknown_token: Unknown token. If none uses the one from __init__\n",
    "        '''\n",
    "        return [self.decode_token(mat[x]) for x in range(mat.shape[0])]\n",
    "    \n",
    "    def decode_token(self, vec, unknown_token=None):\n",
    "        '''\n",
    "        vec: Vector that should be decoded. Has to be on vocab length\n",
    "        unknown_token: Unknown token. If none uses the one from __init__\n",
    "        '''\n",
    "        if unknown_token is None:\n",
    "            unknown_token = self.unknown_token\n",
    "        if isinstance(vec, tf.Tensor):\n",
    "            vec = vec.numpy()\n",
    "        if isinstance(vec, np.ndarray):\n",
    "            # Use argmax since this will be used in the model created later\n",
    "            am = np.argmax(vec)\n",
    "        else:\n",
    "            am = vec\n",
    "        if am == 0:\n",
    "            return unknown_token\n",
    "        return self.index_to_char[am]"
   ]
  },
  {
   "cell_type": "code",
   "execution_count": 7,
   "metadata": {},
   "outputs": [],
   "source": [
    "one_hot = OneHot(tokens=tokens)"
   ]
  },
  {
   "cell_type": "code",
   "execution_count": 8,
   "metadata": {},
   "outputs": [
    {
     "name": "stdout",
     "output_type": "stream",
     "text": [
      "(1115394, 66) float64\n"
     ]
    }
   ],
   "source": [
    "one_hot_text = one_hot.encode(tokenized_text, dtype=float)\n",
    "\n",
    "print(one_hot_text.shape, one_hot_text.dtype)"
   ]
  },
  {
   "cell_type": "markdown",
   "metadata": {},
   "source": [
    "(2) Für das training brauchen wir nun sequenzen einer bestimmten Länge, das heißt eine Abfolge gegebener Länge von Wörtern\n",
    "\n",
    "Hinweis: Überlegen Sie sich wie lang Sie die Sequenz wählen wollen. Es sollte lang genug sein, dass das Netz zusammen hänge auch über mehrere Sätze lernen kann, aber nicht zu lang, sodass noch genug von den Daten übrig bleibt"
   ]
  },
  {
   "cell_type": "code",
   "execution_count": 9,
   "metadata": {
    "tags": []
   },
   "outputs": [],
   "source": [
    "sequence_len = 125\n",
    "target_shape = (int(one_hot_text.shape[0] / (sequence_len + 1)) , (sequence_len + 1) , one_hot_text.shape[1])\n",
    "\n",
    "one_hot_text_seq = np.empty(target_shape, dtype=one_hot_text.dtype)\n",
    "\n",
    "for s in range(one_hot_text_seq.shape[0]):\n",
    "    one_hot_text_seq[s] = one_hot_text[s * (sequence_len + 1):(s + 1) * (sequence_len + 1)]"
   ]
  },
  {
   "cell_type": "markdown",
   "metadata": {},
   "source": [
    "(3) Nun müssen wir die Daten noch in X und Y aufteilen. Die Y-Werte sind die gleichen, wie die jeweiligen X-Daten, nur um 1 verschoben.\n",
    "\n",
    "*Beispiel:* X: \"Hallo Wel\"; Y: \"allo Welt\"\n",
    "\n",
    "*Hinweis:* Wenn Sie möchten können Sie hier auch schon in trainings und validierungsdaten aufteilen. Diese können während dem training zur Bewertung der Performance genutzt werden, das ist aber nicht nötig"
   ]
  },
  {
   "cell_type": "code",
   "execution_count": 10,
   "metadata": {},
   "outputs": [
    {
     "name": "stdout",
     "output_type": "stream",
     "text": [
      "X_train: (7081, 125, 66) float64\n",
      "y_train: (7081, 125, 66) float64\n",
      "X_val  : (1771, 125, 66) float64\n",
      "y_val  : (1771, 125, 66) float64\n",
      "-------------------------\n",
      "ith heads, and not with hands; those whom you curse\n",
      "Have felt the worst of death's destroying wound\n",
      "And lie full low, graved \n",
      "-------------------------\n",
      "th heads, and not with hands; those whom you curse\n",
      "Have felt the worst of death's destroying wound\n",
      "And lie full low, graved i\n",
      "-------------------------\n"
     ]
    }
   ],
   "source": [
    "VALIDATION_SIZE = 1/5\n",
    "\n",
    "X_train, X_val, y_train, y_val = train_test_split(one_hot_text_seq[:, :-1], one_hot_text_seq[:, 1:], test_size=VALIDATION_SIZE)\n",
    "\n",
    "print(\"X_train:\", X_train.shape, X_train.dtype)\n",
    "print(\"y_train:\", y_train.shape, y_train.dtype)\n",
    "print(\"X_val  :\", X_val.shape, X_val.dtype)\n",
    "print(\"y_val  :\", y_val.shape, y_val.dtype)\n",
    "\n",
    "print(\"-\" * 25)\n",
    "print(untokenize(one_hot.decode(X_train[0])))\n",
    "print(\"-\" * 25)\n",
    "print(untokenize(one_hot.decode(y_train[0])))\n",
    "print(\"-\" * 25)"
   ]
  },
  {
   "cell_type": "markdown",
   "metadata": {},
   "source": [
    "## x.3 Erstellen des RNN Modells\n",
    "\n",
    "Hier erstellen wir das eigentliche RNN. Hierfür nutzen wir ein Sequential Model von Keras mit einem RNN und einem Dense Layer mit Softmax zum erstellen der Ausgabe.\n",
    "\n",
    "**Ihre Aufgaben**\n",
    "\n",
    "(1) Erstellen Sie das entsprechende Sequential model. Empfehlung mit adam und categorical_crossentropy. Fügen Sie bei den metrics auch 'accuracy' hinzu. Die werden wir später nutzen"
   ]
  },
  {
   "cell_type": "code",
   "execution_count": 11,
   "metadata": {},
   "outputs": [],
   "source": [
    "# Length of the vocabulary in chars\n",
    "vocab_size = X_train.shape[-1]\n",
    "\n",
    "# The input shape\n",
    "lstn_input_shape = X_train.shape[1:]\n",
    "\n",
    "# Number of RNN units\n",
    "rnn_units = 1024"
   ]
  },
  {
   "cell_type": "code",
   "execution_count": 12,
   "metadata": {},
   "outputs": [
    {
     "name": "stdout",
     "output_type": "stream",
     "text": [
      "Model: \"SimpleRNN_Model\"\n",
      "_________________________________________________________________\n",
      "Layer (type)                 Output Shape              Param #   \n",
      "=================================================================\n",
      "The_Brain (SimpleRNN)        (None, 125, 1024)         1117184   \n",
      "_________________________________________________________________\n",
      "The_Hand (Dense)             (None, 125, 66)           67650     \n",
      "=================================================================\n",
      "Total params: 1,184,834\n",
      "Trainable params: 1,184,834\n",
      "Non-trainable params: 0\n",
      "_________________________________________________________________\n",
      "(1, 125, 66) (125, 66) (1, 125, 66)\n",
      "Test sequence: \n",
      " ------------------------- \n",
      " ith heads, and not with hands; those whom you curse\n",
      "Have felt the worst of death's destroying wound\n",
      "And lie full low, graved  \n",
      " -------------------------\n",
      "Expected result: \n",
      " ------------------------- \n",
      " th heads, and not with hands; those whom you curse\n",
      "Have felt the worst of death's destroying wound\n",
      "And lie full low, graved i \n",
      " -------------------------\n",
      "Untrained prediction: \n",
      " ------------------------- \n",
      " JQV[UNKNOWN]VGDWAMvJ!zoKF:G&Poykm:;ADBqsU'&?DA3wm?eV$$fcg;mS3OoO:LGY3gEV;WydpwnKr;UOA$SUnNSV.Nv\n",
      "dn\n",
      "3pP!IhIFjQQiOzJRi3ZszYmwEZXAFZd$Sy \n",
      " -------------------------\n"
     ]
    }
   ],
   "source": [
    "model = tf.keras.Sequential(name=\"SimpleRNN_Model\")\n",
    "model.add(tf.keras.layers.SimpleRNN(rnn_units, return_sequences=True, input_shape=lstn_input_shape, name=\"The_Brain\"))\n",
    "model.add(tf.keras.layers.Dense(vocab_size, activation='softmax', name=\"The_Hand\"))\n",
    "model.compile(loss='categorical_crossentropy', optimizer='adam', metrics=['accuracy'])\n",
    "\n",
    "model.summary()\n",
    "\n",
    "input_example_batch = X_train[0]\n",
    "input_example_batch = input_example_batch.reshape((1, *input_example_batch.shape))\n",
    "\n",
    "example_batch_predictions = model.predict(input_example_batch)\n",
    "print(input_example_batch.shape, y_train[0].shape, example_batch_predictions.shape)\n",
    "\n",
    "print(\"Test sequence:\", \"\\n\", \"-\" * 25, \"\\n\", untokenize(one_hot.decode(X_train[0])), \"\\n\", \"-\"*25)\n",
    "print(\"Expected result:\", \"\\n\", \"-\" * 25, \"\\n\", untokenize(one_hot.decode(y_train[0])), \"\\n\", \"-\"*25)\n",
    "print(\"Untrained prediction:\", \"\\n\", \"-\" * 25, \"\\n\", untokenize(one_hot.decode(example_batch_predictions[0])), \"\\n\", \"-\"*25)"
   ]
  },
  {
   "cell_type": "markdown",
   "metadata": {
    "id": "axndj50eyWrw"
   },
   "source": [
    "## x.4 Training eines RNN Modells\n",
    "\n",
    "Nun gehts ans trainieren. Nutzen Sie für den Anfang eine kleine Anzahl an epochen um herauszufinden wie viele Sie in einer ertragbaren Zeit machen können. Sollten Sie auf google Colab arbeiten könnte 20 hier ein guter Startwert sein\n",
    "\n",
    "**Ihre Aufgaben**\n",
    "\n",
    "(1) Nutze die Fit methode deines models um es auf den ertellten Trainingsdaten zu trainieren. Wenn Sie validierungsdaten erzeugt haben können Sie diese bei validation_data angeben. Um die Trainingszeit kurz zu halten kann es auch Sinn ergeben hier eine batch_size anzugeben"
   ]
  },
  {
   "cell_type": "code",
   "execution_count": 13,
   "metadata": {
    "id": "iGpNzqcuyW5-"
   },
   "outputs": [
    {
     "name": "stdout",
     "output_type": "stream",
     "text": [
      "Epoch 1/20\n",
      "111/111 [==============================] - 10s 94ms/step - loss: 3.2418 - accuracy: 0.1918 - val_loss: 2.7522 - val_accuracy: 0.2806\n",
      "Epoch 2/20\n",
      "111/111 [==============================] - 10s 92ms/step - loss: 2.8686 - accuracy: 0.2702 - val_loss: 2.5342 - val_accuracy: 0.3172\n",
      "Epoch 3/20\n",
      "111/111 [==============================] - 10s 92ms/step - loss: 2.4098 - accuracy: 0.3315 - val_loss: 2.3058 - val_accuracy: 0.3502\n",
      "Epoch 4/20\n",
      "111/111 [==============================] - 10s 92ms/step - loss: 2.2707 - accuracy: 0.3553 - val_loss: 2.6016 - val_accuracy: 0.2835\n",
      "Epoch 5/20\n",
      "111/111 [==============================] - 10s 92ms/step - loss: 2.4780 - accuracy: 0.3107 - val_loss: 2.3161 - val_accuracy: 0.3444\n",
      "Epoch 6/20\n",
      "111/111 [==============================] - 10s 93ms/step - loss: 2.5822 - accuracy: 0.3032 - val_loss: 2.2770 - val_accuracy: 0.3525\n",
      "Epoch 7/20\n",
      "111/111 [==============================] - 10s 92ms/step - loss: 2.2278 - accuracy: 0.3633 - val_loss: 2.2001 - val_accuracy: 0.3761\n",
      "Epoch 8/20\n",
      "111/111 [==============================] - 10s 93ms/step - loss: 2.1472 - accuracy: 0.3832 - val_loss: 2.1056 - val_accuracy: 0.3935\n",
      "Epoch 9/20\n",
      "111/111 [==============================] - 10s 92ms/step - loss: 2.0766 - accuracy: 0.4014 - val_loss: 2.0739 - val_accuracy: 0.4059\n",
      "Epoch 10/20\n",
      "111/111 [==============================] - 10s 92ms/step - loss: 2.0324 - accuracy: 0.4128 - val_loss: 2.0181 - val_accuracy: 0.4153\n",
      "Epoch 11/20\n",
      "111/111 [==============================] - 10s 92ms/step - loss: 1.9869 - accuracy: 0.4237 - val_loss: 1.9744 - val_accuracy: 0.4305\n",
      "Epoch 12/20\n",
      "111/111 [==============================] - 10s 92ms/step - loss: 1.9457 - accuracy: 0.4339 - val_loss: 1.9526 - val_accuracy: 0.4322\n",
      "Epoch 13/20\n",
      "111/111 [==============================] - 10s 92ms/step - loss: 1.9112 - accuracy: 0.4423 - val_loss: 1.9184 - val_accuracy: 0.4426\n",
      "Epoch 14/20\n",
      "111/111 [==============================] - 10s 93ms/step - loss: 1.8726 - accuracy: 0.4519 - val_loss: 1.8747 - val_accuracy: 0.4542\n",
      "Epoch 15/20\n",
      "111/111 [==============================] - 10s 93ms/step - loss: 1.8448 - accuracy: 0.4586 - val_loss: 1.8588 - val_accuracy: 0.4555\n",
      "Epoch 16/20\n",
      "111/111 [==============================] - 10s 93ms/step - loss: 1.8063 - accuracy: 0.4685 - val_loss: 1.8186 - val_accuracy: 0.4668\n",
      "Epoch 17/20\n",
      "111/111 [==============================] - 10s 92ms/step - loss: 1.7745 - accuracy: 0.4768 - val_loss: 1.7820 - val_accuracy: 0.4755\n",
      "Epoch 18/20\n",
      "111/111 [==============================] - 10s 93ms/step - loss: 1.7473 - accuracy: 0.4844 - val_loss: 1.7741 - val_accuracy: 0.4781\n",
      "Epoch 19/20\n",
      "111/111 [==============================] - 10s 93ms/step - loss: 1.7203 - accuracy: 0.4913 - val_loss: 1.7537 - val_accuracy: 0.4824\n",
      "Epoch 20/20\n",
      "111/111 [==============================] - 10s 93ms/step - loss: 1.6971 - accuracy: 0.4976 - val_loss: 1.7183 - val_accuracy: 0.4927\n",
      "Training took: 0:03:28.328544\n"
     ]
    }
   ],
   "source": [
    "EPOCHS = 20\n",
    "\n",
    "t1 = time.time()\n",
    "hist = model.fit(X_train, y_train,\n",
    "                  batch_size=64,\n",
    "                  epochs=EPOCHS,\n",
    "                  validation_data=(X_val, y_val))\n",
    "t2 = time.time()\n",
    "\n",
    "print(\"Training took:\", timedelta(seconds=t2-t1))"
   ]
  },
  {
   "cell_type": "markdown",
   "metadata": {},
   "source": [
    "(2) Plotten Sie accuracy und loss über die Epochen um bewerten zu können wie gut das Training lief"
   ]
  },
  {
   "cell_type": "code",
   "execution_count": 14,
   "metadata": {},
   "outputs": [
    {
     "data": {
      "image/png": "[encoded data removed]",
      "text/plain": [
       "<Figure size 1440x720 with 1 Axes>"
      ]
     },
     "metadata": {
      "needs_background": "light"
     },
     "output_type": "display_data"
    }
   ],
   "source": [
    "fig, ax = plt.subplots(1, 1)\n",
    "\n",
    "ax.plot(hist.history[\"loss\"], label='loss')\n",
    "ax.plot(hist.history[\"accuracy\"], label='accuracy')\n",
    "ax.plot(hist.history[\"val_loss\"], label='validation loss')\n",
    "ax.plot(hist.history[\"val_accuracy\"], label='validation accuracy')\n",
    "ax.set_xlabel(\"Epoch\")\n",
    "ax.legend()\n",
    "\n",
    "fig.set_size_inches(20, 10)\n",
    "\n",
    "plt.show()"
   ]
  },
  {
   "cell_type": "markdown",
   "metadata": {},
   "source": [
    "## x.5 Text prediction\n",
    "\n",
    "(1) Schreiben Sie eine Methode, die für einen gegebenen Text das nächste Zeichen prognostiziert"
   ]
  },
  {
   "cell_type": "code",
   "execution_count": 15,
   "metadata": {},
   "outputs": [],
   "source": [
    "def predict(txt, one_hot, trainied_model):\n",
    "    encoded_txt = one_hot.encode(tokenize(txt))\n",
    "    prediction = trainied_model.predict(encoded_txt.reshape((1, *encoded_txt.shape)))\n",
    "    return untokenize(one_hot.decode(prediction[0]))[-1]"
   ]
  },
  {
   "cell_type": "markdown",
   "metadata": {},
   "source": [
    "(2) *Optional:* Nutzen Sie ipywidgets um live vorschläge zurück zu geben"
   ]
  },
  {
   "cell_type": "code",
   "execution_count": 16,
   "metadata": {},
   "outputs": [],
   "source": [
    "import ipywidgets as widgets\n",
    "from IPython.display import display"
   ]
  },
  {
   "cell_type": "code",
   "execution_count": 17,
   "metadata": {},
   "outputs": [
    {
     "data": {
      "application/vnd.jupyter.widget-view+json": {
       "model_id": "952bdfee26e54d8a9ec4850133ccb774",
       "version_major": 2,
       "version_minor": 0
      },
      "text/plain": [
       "interactive(children=(Text(value='Hello Worl', description='Your text:', placeholder='Type something'), Output…"
      ]
     },
     "metadata": {},
     "output_type": "display_data"
    }
   ],
   "source": [
    "def verbose_prediction(txt, one_hot, trainied_model):\n",
    "    if len(txt) == 0:\n",
    "        txt = \" \"\n",
    "    prediction = predict(txt=txt, one_hot=one_hot, trainied_model=trainied_model)\n",
    "    print(f\"I think the next will be \\\"{prediction}\\\" after you said \\\"{txt}\\\"\")\n",
    "\n",
    "w = widgets.interactive(verbose_prediction,\n",
    "                        txt=widgets.Text(value='Hello Worl', placeholder='Type something', description='Your text:', disabled=False),\n",
    "                        one_hot=widgets.fixed(one_hot),\n",
    "                        trainied_model=widgets.fixed(model),\n",
    "                       )\n",
    "display(w)"
   ]
  },
  {
   "cell_type": "markdown",
   "metadata": {
    "id": "0d7pKNy1ycN7"
   },
   "source": [
    "## x.6 *Optional* Vergleich mit LSTM und GRU und ...\n",
    "\n",
    "Trainieren Sie nun modelle mit LSTM und GRU oder anderen Architekturen und vergleichen Sie lernperformance und Ergebnisse. Was fällt Ihnen auf?"
   ]
  },
  {
   "cell_type": "code",
   "execution_count": 18,
   "metadata": {
    "id": "IehQ7h3uyeY6"
   },
   "outputs": [
    {
     "name": "stdout",
     "output_type": "stream",
     "text": [
      "Model: \"LSTM_Model\"\n",
      "_________________________________________________________________\n",
      "Layer (type)                 Output Shape              Param #   \n",
      "=================================================================\n",
      "The_Brain (LSTM)             (None, 125, 1024)         4468736   \n",
      "_________________________________________________________________\n",
      "The_Hand (Dense)             (None, 125, 66)           67650     \n",
      "=================================================================\n",
      "Total params: 4,536,386\n",
      "Trainable params: 4,536,386\n",
      "Non-trainable params: 0\n",
      "_________________________________________________________________\n",
      "Model: \"GRU_Model\"\n",
      "_________________________________________________________________\n",
      "Layer (type)                 Output Shape              Param #   \n",
      "=================================================================\n",
      "The_Brain (LSTM)             (None, 125, 1024)         4468736   \n",
      "_________________________________________________________________\n",
      "The_Hand (Dense)             (None, 125, 66)           67650     \n",
      "=================================================================\n",
      "Total params: 4,536,386\n",
      "Trainable params: 4,536,386\n",
      "Non-trainable params: 0\n",
      "_________________________________________________________________\n"
     ]
    }
   ],
   "source": [
    "model_lstm = tf.keras.Sequential(name=\"LSTM_Model\")\n",
    "model_lstm.add(tf.keras.layers.LSTM(rnn_units, return_sequences=True, input_shape=lstn_input_shape, name=\"The_Brain\"))\n",
    "model_lstm.add(tf.keras.layers.Dense(vocab_size, activation='softmax', name=\"The_Hand\"))\n",
    "model_lstm.compile(loss='categorical_crossentropy', optimizer='adam', metrics=['accuracy'])\n",
    "model_lstm.summary()\n",
    "\n",
    "model_gru = tf.keras.Sequential(name=\"GRU_Model\")\n",
    "model_gru.add(tf.keras.layers.LSTM(rnn_units, return_sequences=True, input_shape=lstn_input_shape, name=\"The_Brain\"))\n",
    "model_gru.add(tf.keras.layers.Dense(vocab_size, activation='softmax', name=\"The_Hand\"))\n",
    "model_gru.compile(loss='categorical_crossentropy', optimizer='adam', metrics=['accuracy'])\n",
    "model_gru.summary()\n"
   ]
  },
  {
   "cell_type": "code",
   "execution_count": 19,
   "metadata": {},
   "outputs": [
    {
     "name": "stdout",
     "output_type": "stream",
     "text": [
      "Epoch 1/20\n",
      "  2/111 [..............................] - ETA: 16s - loss: 4.1617 - accuracy: 0.0819WARNING:tensorflow:Callbacks method `on_train_batch_end` is slow compared to the batch time (batch time: 0.0485s vs `on_train_batch_end` time: 0.1204s). Check your callbacks.\n",
      "111/111 [==============================] - 21s 186ms/step - loss: 3.3387 - accuracy: 0.1479 - val_loss: 3.1468 - val_accuracy: 0.1738\n",
      "Epoch 2/20\n",
      "111/111 [==============================] - 18s 161ms/step - loss: 2.8522 - accuracy: 0.2481 - val_loss: 2.5367 - val_accuracy: 0.3039\n",
      "Epoch 3/20\n",
      "111/111 [==============================] - 18s 161ms/step - loss: 2.3893 - accuracy: 0.3311 - val_loss: 2.4478 - val_accuracy: 0.3198\n",
      "Epoch 4/20\n",
      "111/111 [==============================] - 18s 162ms/step - loss: 2.2306 - accuracy: 0.3632 - val_loss: 2.1759 - val_accuracy: 0.3778\n",
      "Epoch 5/20\n",
      "111/111 [==============================] - 18s 163ms/step - loss: 2.1067 - accuracy: 0.3937 - val_loss: 2.0516 - val_accuracy: 0.4076\n",
      "Epoch 6/20\n",
      "111/111 [==============================] - 18s 162ms/step - loss: 1.9976 - accuracy: 0.4213 - val_loss: 1.9549 - val_accuracy: 0.4323\n",
      "Epoch 7/20\n",
      "111/111 [==============================] - 18s 162ms/step - loss: 1.9112 - accuracy: 0.4425 - val_loss: 1.8780 - val_accuracy: 0.4510\n",
      "Epoch 8/20\n",
      "111/111 [==============================] - 18s 162ms/step - loss: 1.8353 - accuracy: 0.4611 - val_loss: 1.8192 - val_accuracy: 0.4673\n",
      "Epoch 9/20\n",
      "111/111 [==============================] - 18s 162ms/step - loss: 1.7717 - accuracy: 0.4781 - val_loss: 1.7563 - val_accuracy: 0.4840\n",
      "Epoch 10/20\n",
      "111/111 [==============================] - 18s 166ms/step - loss: 1.7182 - accuracy: 0.4923 - val_loss: 1.7154 - val_accuracy: 0.4939\n",
      "Epoch 11/20\n",
      "111/111 [==============================] - ETA: 0s - loss: 1.6689 - accuracy: 0.5051"
     ]
    },
    {
     "ename": "KeyboardInterrupt",
     "evalue": "",
     "output_type": "error",
     "traceback": [
      "\u001b[0;31m---------------------------------------------------------------------------\u001b[0m",
      "\u001b[0;31mKeyboardInterrupt\u001b[0m                         Traceback (most recent call last)",
      "\u001b[0;32m<ipython-input-19-d6712c38b0bc>\u001b[0m in \u001b[0;36m<module>\u001b[0;34m\u001b[0m\n\u001b[1;32m      3\u001b[0m                            \u001b[0mbatch_size\u001b[0m\u001b[0;34m=\u001b[0m\u001b[0;36m64\u001b[0m\u001b[0;34m,\u001b[0m\u001b[0;34m\u001b[0m\u001b[0;34m\u001b[0m\u001b[0m\n\u001b[1;32m      4\u001b[0m                            \u001b[0mepochs\u001b[0m\u001b[0;34m=\u001b[0m\u001b[0mEPOCHS\u001b[0m\u001b[0;34m,\u001b[0m\u001b[0;34m\u001b[0m\u001b[0;34m\u001b[0m\u001b[0m\n\u001b[0;32m----> 5\u001b[0;31m                            validation_data=(X_val, y_val))\n\u001b[0m\u001b[1;32m      6\u001b[0m \u001b[0mt2\u001b[0m \u001b[0;34m=\u001b[0m \u001b[0mtime\u001b[0m\u001b[0;34m.\u001b[0m\u001b[0mtime\u001b[0m\u001b[0;34m(\u001b[0m\u001b[0;34m)\u001b[0m\u001b[0;34m\u001b[0m\u001b[0;34m\u001b[0m\u001b[0m\n\u001b[1;32m      7\u001b[0m \u001b[0mt_lstm\u001b[0m \u001b[0;34m=\u001b[0m \u001b[0mt2\u001b[0m \u001b[0;34m-\u001b[0m \u001b[0mt1\u001b[0m\u001b[0;34m\u001b[0m\u001b[0;34m\u001b[0m\u001b[0m\n",
      "\u001b[0;32m/usr/local/lib/python3.6/dist-packages/tensorflow/python/keras/engine/training.py\u001b[0m in \u001b[0;36m_method_wrapper\u001b[0;34m(self, *args, **kwargs)\u001b[0m\n\u001b[1;32m    106\u001b[0m   \u001b[0;32mdef\u001b[0m \u001b[0m_method_wrapper\u001b[0m\u001b[0;34m(\u001b[0m\u001b[0mself\u001b[0m\u001b[0;34m,\u001b[0m \u001b[0;34m*\u001b[0m\u001b[0margs\u001b[0m\u001b[0;34m,\u001b[0m \u001b[0;34m**\u001b[0m\u001b[0mkwargs\u001b[0m\u001b[0;34m)\u001b[0m\u001b[0;34m:\u001b[0m\u001b[0;34m\u001b[0m\u001b[0;34m\u001b[0m\u001b[0m\n\u001b[1;32m    107\u001b[0m     \u001b[0;32mif\u001b[0m \u001b[0;32mnot\u001b[0m \u001b[0mself\u001b[0m\u001b[0;34m.\u001b[0m\u001b[0m_in_multi_worker_mode\u001b[0m\u001b[0;34m(\u001b[0m\u001b[0;34m)\u001b[0m\u001b[0;34m:\u001b[0m  \u001b[0;31m# pylint: disable=protected-access\u001b[0m\u001b[0;34m\u001b[0m\u001b[0;34m\u001b[0m\u001b[0m\n\u001b[0;32m--> 108\u001b[0;31m       \u001b[0;32mreturn\u001b[0m \u001b[0mmethod\u001b[0m\u001b[0;34m(\u001b[0m\u001b[0mself\u001b[0m\u001b[0;34m,\u001b[0m \u001b[0;34m*\u001b[0m\u001b[0margs\u001b[0m\u001b[0;34m,\u001b[0m \u001b[0;34m**\u001b[0m\u001b[0mkwargs\u001b[0m\u001b[0;34m)\u001b[0m\u001b[0;34m\u001b[0m\u001b[0;34m\u001b[0m\u001b[0m\n\u001b[0m\u001b[1;32m    109\u001b[0m \u001b[0;34m\u001b[0m\u001b[0m\n\u001b[1;32m    110\u001b[0m     \u001b[0;31m# Running inside `run_distribute_coordinator` already.\u001b[0m\u001b[0;34m\u001b[0m\u001b[0;34m\u001b[0m\u001b[0;34m\u001b[0m\u001b[0m\n",
      "\u001b[0;32m/usr/local/lib/python3.6/dist-packages/tensorflow/python/keras/engine/training.py\u001b[0m in \u001b[0;36mfit\u001b[0;34m(self, x, y, batch_size, epochs, verbose, callbacks, validation_split, validation_data, shuffle, class_weight, sample_weight, initial_epoch, steps_per_epoch, validation_steps, validation_batch_size, validation_freq, max_queue_size, workers, use_multiprocessing)\u001b[0m\n\u001b[1;32m   1131\u001b[0m               \u001b[0mworkers\u001b[0m\u001b[0;34m=\u001b[0m\u001b[0mworkers\u001b[0m\u001b[0;34m,\u001b[0m\u001b[0;34m\u001b[0m\u001b[0;34m\u001b[0m\u001b[0m\n\u001b[1;32m   1132\u001b[0m               \u001b[0muse_multiprocessing\u001b[0m\u001b[0;34m=\u001b[0m\u001b[0muse_multiprocessing\u001b[0m\u001b[0;34m,\u001b[0m\u001b[0;34m\u001b[0m\u001b[0;34m\u001b[0m\u001b[0m\n\u001b[0;32m-> 1133\u001b[0;31m               return_dict=True)\n\u001b[0m\u001b[1;32m   1134\u001b[0m           \u001b[0mval_logs\u001b[0m \u001b[0;34m=\u001b[0m \u001b[0;34m{\u001b[0m\u001b[0;34m'val_'\u001b[0m \u001b[0;34m+\u001b[0m \u001b[0mname\u001b[0m\u001b[0;34m:\u001b[0m \u001b[0mval\u001b[0m \u001b[0;32mfor\u001b[0m \u001b[0mname\u001b[0m\u001b[0;34m,\u001b[0m \u001b[0mval\u001b[0m \u001b[0;32min\u001b[0m \u001b[0mval_logs\u001b[0m\u001b[0;34m.\u001b[0m\u001b[0mitems\u001b[0m\u001b[0;34m(\u001b[0m\u001b[0;34m)\u001b[0m\u001b[0;34m}\u001b[0m\u001b[0;34m\u001b[0m\u001b[0;34m\u001b[0m\u001b[0m\n\u001b[1;32m   1135\u001b[0m           \u001b[0mepoch_logs\u001b[0m\u001b[0;34m.\u001b[0m\u001b[0mupdate\u001b[0m\u001b[0;34m(\u001b[0m\u001b[0mval_logs\u001b[0m\u001b[0;34m)\u001b[0m\u001b[0;34m\u001b[0m\u001b[0;34m\u001b[0m\u001b[0m\n",
      "\u001b[0;32m/usr/local/lib/python3.6/dist-packages/tensorflow/python/keras/engine/training.py\u001b[0m in \u001b[0;36m_method_wrapper\u001b[0;34m(self, *args, **kwargs)\u001b[0m\n\u001b[1;32m    106\u001b[0m   \u001b[0;32mdef\u001b[0m \u001b[0m_method_wrapper\u001b[0m\u001b[0;34m(\u001b[0m\u001b[0mself\u001b[0m\u001b[0;34m,\u001b[0m \u001b[0;34m*\u001b[0m\u001b[0margs\u001b[0m\u001b[0;34m,\u001b[0m \u001b[0;34m**\u001b[0m\u001b[0mkwargs\u001b[0m\u001b[0;34m)\u001b[0m\u001b[0;34m:\u001b[0m\u001b[0;34m\u001b[0m\u001b[0;34m\u001b[0m\u001b[0m\n\u001b[1;32m    107\u001b[0m     \u001b[0;32mif\u001b[0m \u001b[0;32mnot\u001b[0m \u001b[0mself\u001b[0m\u001b[0;34m.\u001b[0m\u001b[0m_in_multi_worker_mode\u001b[0m\u001b[0;34m(\u001b[0m\u001b[0;34m)\u001b[0m\u001b[0;34m:\u001b[0m  \u001b[0;31m# pylint: disable=protected-access\u001b[0m\u001b[0;34m\u001b[0m\u001b[0;34m\u001b[0m\u001b[0m\n\u001b[0;32m--> 108\u001b[0;31m       \u001b[0;32mreturn\u001b[0m \u001b[0mmethod\u001b[0m\u001b[0;34m(\u001b[0m\u001b[0mself\u001b[0m\u001b[0;34m,\u001b[0m \u001b[0;34m*\u001b[0m\u001b[0margs\u001b[0m\u001b[0;34m,\u001b[0m \u001b[0;34m**\u001b[0m\u001b[0mkwargs\u001b[0m\u001b[0;34m)\u001b[0m\u001b[0;34m\u001b[0m\u001b[0;34m\u001b[0m\u001b[0m\n\u001b[0m\u001b[1;32m    109\u001b[0m \u001b[0;34m\u001b[0m\u001b[0m\n\u001b[1;32m    110\u001b[0m     \u001b[0;31m# Running inside `run_distribute_coordinator` already.\u001b[0m\u001b[0;34m\u001b[0m\u001b[0;34m\u001b[0m\u001b[0;34m\u001b[0m\u001b[0m\n",
      "\u001b[0;32m/usr/local/lib/python3.6/dist-packages/tensorflow/python/keras/engine/training.py\u001b[0m in \u001b[0;36mevaluate\u001b[0;34m(self, x, y, batch_size, verbose, sample_weight, steps, callbacks, max_queue_size, workers, use_multiprocessing, return_dict)\u001b[0m\n\u001b[1;32m   1377\u001b[0m             \u001b[0;32mwith\u001b[0m \u001b[0mtrace\u001b[0m\u001b[0;34m.\u001b[0m\u001b[0mTrace\u001b[0m\u001b[0;34m(\u001b[0m\u001b[0;34m'TraceContext'\u001b[0m\u001b[0;34m,\u001b[0m \u001b[0mgraph_type\u001b[0m\u001b[0;34m=\u001b[0m\u001b[0;34m'test'\u001b[0m\u001b[0;34m,\u001b[0m \u001b[0mstep_num\u001b[0m\u001b[0;34m=\u001b[0m\u001b[0mstep\u001b[0m\u001b[0;34m)\u001b[0m\u001b[0;34m:\u001b[0m\u001b[0;34m\u001b[0m\u001b[0;34m\u001b[0m\u001b[0m\n\u001b[1;32m   1378\u001b[0m               \u001b[0mcallbacks\u001b[0m\u001b[0;34m.\u001b[0m\u001b[0mon_test_batch_begin\u001b[0m\u001b[0;34m(\u001b[0m\u001b[0mstep\u001b[0m\u001b[0;34m)\u001b[0m\u001b[0;34m\u001b[0m\u001b[0;34m\u001b[0m\u001b[0m\n\u001b[0;32m-> 1379\u001b[0;31m               \u001b[0mtmp_logs\u001b[0m \u001b[0;34m=\u001b[0m \u001b[0mtest_function\u001b[0m\u001b[0;34m(\u001b[0m\u001b[0miterator\u001b[0m\u001b[0;34m)\u001b[0m\u001b[0;34m\u001b[0m\u001b[0;34m\u001b[0m\u001b[0m\n\u001b[0m\u001b[1;32m   1380\u001b[0m               \u001b[0;32mif\u001b[0m \u001b[0mdata_handler\u001b[0m\u001b[0;34m.\u001b[0m\u001b[0mshould_sync\u001b[0m\u001b[0;34m:\u001b[0m\u001b[0;34m\u001b[0m\u001b[0;34m\u001b[0m\u001b[0m\n\u001b[1;32m   1381\u001b[0m                 \u001b[0mcontext\u001b[0m\u001b[0;34m.\u001b[0m\u001b[0masync_wait\u001b[0m\u001b[0;34m(\u001b[0m\u001b[0;34m)\u001b[0m\u001b[0;34m\u001b[0m\u001b[0;34m\u001b[0m\u001b[0m\n",
      "\u001b[0;32m/usr/local/lib/python3.6/dist-packages/tensorflow/python/eager/def_function.py\u001b[0m in \u001b[0;36m__call__\u001b[0;34m(self, *args, **kwds)\u001b[0m\n\u001b[1;32m    778\u001b[0m       \u001b[0;32melse\u001b[0m\u001b[0;34m:\u001b[0m\u001b[0;34m\u001b[0m\u001b[0;34m\u001b[0m\u001b[0m\n\u001b[1;32m    779\u001b[0m         \u001b[0mcompiler\u001b[0m \u001b[0;34m=\u001b[0m \u001b[0;34m\"nonXla\"\u001b[0m\u001b[0;34m\u001b[0m\u001b[0;34m\u001b[0m\u001b[0m\n\u001b[0;32m--> 780\u001b[0;31m         \u001b[0mresult\u001b[0m \u001b[0;34m=\u001b[0m \u001b[0mself\u001b[0m\u001b[0;34m.\u001b[0m\u001b[0m_call\u001b[0m\u001b[0;34m(\u001b[0m\u001b[0;34m*\u001b[0m\u001b[0margs\u001b[0m\u001b[0;34m,\u001b[0m \u001b[0;34m**\u001b[0m\u001b[0mkwds\u001b[0m\u001b[0;34m)\u001b[0m\u001b[0;34m\u001b[0m\u001b[0;34m\u001b[0m\u001b[0m\n\u001b[0m\u001b[1;32m    781\u001b[0m \u001b[0;34m\u001b[0m\u001b[0m\n\u001b[1;32m    782\u001b[0m       \u001b[0mnew_tracing_count\u001b[0m \u001b[0;34m=\u001b[0m \u001b[0mself\u001b[0m\u001b[0;34m.\u001b[0m\u001b[0m_get_tracing_count\u001b[0m\u001b[0;34m(\u001b[0m\u001b[0;34m)\u001b[0m\u001b[0;34m\u001b[0m\u001b[0;34m\u001b[0m\u001b[0m\n",
      "\u001b[0;32m/usr/local/lib/python3.6/dist-packages/tensorflow/python/eager/def_function.py\u001b[0m in \u001b[0;36m_call\u001b[0;34m(self, *args, **kwds)\u001b[0m\n\u001b[1;32m    812\u001b[0m       \u001b[0;31m# In this case we have not created variables on the first call. So we can\u001b[0m\u001b[0;34m\u001b[0m\u001b[0;34m\u001b[0m\u001b[0;34m\u001b[0m\u001b[0m\n\u001b[1;32m    813\u001b[0m       \u001b[0;31m# run the first trace but we should fail if variables are created.\u001b[0m\u001b[0;34m\u001b[0m\u001b[0;34m\u001b[0m\u001b[0;34m\u001b[0m\u001b[0m\n\u001b[0;32m--> 814\u001b[0;31m       \u001b[0mresults\u001b[0m \u001b[0;34m=\u001b[0m \u001b[0mself\u001b[0m\u001b[0;34m.\u001b[0m\u001b[0m_stateful_fn\u001b[0m\u001b[0;34m(\u001b[0m\u001b[0;34m*\u001b[0m\u001b[0margs\u001b[0m\u001b[0;34m,\u001b[0m \u001b[0;34m**\u001b[0m\u001b[0mkwds\u001b[0m\u001b[0;34m)\u001b[0m\u001b[0;34m\u001b[0m\u001b[0;34m\u001b[0m\u001b[0m\n\u001b[0m\u001b[1;32m    815\u001b[0m       \u001b[0;32mif\u001b[0m \u001b[0mself\u001b[0m\u001b[0;34m.\u001b[0m\u001b[0m_created_variables\u001b[0m\u001b[0;34m:\u001b[0m\u001b[0;34m\u001b[0m\u001b[0;34m\u001b[0m\u001b[0m\n\u001b[1;32m    816\u001b[0m         raise ValueError(\"Creating variables on a non-first call to a function\"\n",
      "\u001b[0;32m/usr/local/lib/python3.6/dist-packages/tensorflow/python/eager/function.py\u001b[0m in \u001b[0;36m__call__\u001b[0;34m(self, *args, **kwargs)\u001b[0m\n\u001b[1;32m   2827\u001b[0m     \u001b[0;32mwith\u001b[0m \u001b[0mself\u001b[0m\u001b[0;34m.\u001b[0m\u001b[0m_lock\u001b[0m\u001b[0;34m:\u001b[0m\u001b[0;34m\u001b[0m\u001b[0;34m\u001b[0m\u001b[0m\n\u001b[1;32m   2828\u001b[0m       \u001b[0mgraph_function\u001b[0m\u001b[0;34m,\u001b[0m \u001b[0margs\u001b[0m\u001b[0;34m,\u001b[0m \u001b[0mkwargs\u001b[0m \u001b[0;34m=\u001b[0m \u001b[0mself\u001b[0m\u001b[0;34m.\u001b[0m\u001b[0m_maybe_define_function\u001b[0m\u001b[0;34m(\u001b[0m\u001b[0margs\u001b[0m\u001b[0;34m,\u001b[0m \u001b[0mkwargs\u001b[0m\u001b[0;34m)\u001b[0m\u001b[0;34m\u001b[0m\u001b[0;34m\u001b[0m\u001b[0m\n\u001b[0;32m-> 2829\u001b[0;31m     \u001b[0;32mreturn\u001b[0m \u001b[0mgraph_function\u001b[0m\u001b[0;34m.\u001b[0m\u001b[0m_filtered_call\u001b[0m\u001b[0;34m(\u001b[0m\u001b[0margs\u001b[0m\u001b[0;34m,\u001b[0m \u001b[0mkwargs\u001b[0m\u001b[0;34m)\u001b[0m  \u001b[0;31m# pylint: disable=protected-access\u001b[0m\u001b[0;34m\u001b[0m\u001b[0;34m\u001b[0m\u001b[0m\n\u001b[0m\u001b[1;32m   2830\u001b[0m \u001b[0;34m\u001b[0m\u001b[0m\n\u001b[1;32m   2831\u001b[0m   \u001b[0;34m@\u001b[0m\u001b[0mproperty\u001b[0m\u001b[0;34m\u001b[0m\u001b[0;34m\u001b[0m\u001b[0m\n",
      "\u001b[0;32m/usr/local/lib/python3.6/dist-packages/tensorflow/python/eager/function.py\u001b[0m in \u001b[0;36m_filtered_call\u001b[0;34m(self, args, kwargs, cancellation_manager)\u001b[0m\n\u001b[1;32m   1846\u001b[0m                            resource_variable_ops.BaseResourceVariable))],\n\u001b[1;32m   1847\u001b[0m         \u001b[0mcaptured_inputs\u001b[0m\u001b[0;34m=\u001b[0m\u001b[0mself\u001b[0m\u001b[0;34m.\u001b[0m\u001b[0mcaptured_inputs\u001b[0m\u001b[0;34m,\u001b[0m\u001b[0;34m\u001b[0m\u001b[0;34m\u001b[0m\u001b[0m\n\u001b[0;32m-> 1848\u001b[0;31m         cancellation_manager=cancellation_manager)\n\u001b[0m\u001b[1;32m   1849\u001b[0m \u001b[0;34m\u001b[0m\u001b[0m\n\u001b[1;32m   1850\u001b[0m   \u001b[0;32mdef\u001b[0m \u001b[0m_call_flat\u001b[0m\u001b[0;34m(\u001b[0m\u001b[0mself\u001b[0m\u001b[0;34m,\u001b[0m \u001b[0margs\u001b[0m\u001b[0;34m,\u001b[0m \u001b[0mcaptured_inputs\u001b[0m\u001b[0;34m,\u001b[0m \u001b[0mcancellation_manager\u001b[0m\u001b[0;34m=\u001b[0m\u001b[0;32mNone\u001b[0m\u001b[0;34m)\u001b[0m\u001b[0;34m:\u001b[0m\u001b[0;34m\u001b[0m\u001b[0;34m\u001b[0m\u001b[0m\n",
      "\u001b[0;32m/usr/local/lib/python3.6/dist-packages/tensorflow/python/eager/function.py\u001b[0m in \u001b[0;36m_call_flat\u001b[0;34m(self, args, captured_inputs, cancellation_manager)\u001b[0m\n\u001b[1;32m   1922\u001b[0m       \u001b[0;31m# No tape is watching; skip to running the function.\u001b[0m\u001b[0;34m\u001b[0m\u001b[0;34m\u001b[0m\u001b[0;34m\u001b[0m\u001b[0m\n\u001b[1;32m   1923\u001b[0m       return self._build_call_outputs(self._inference_function.call(\n\u001b[0;32m-> 1924\u001b[0;31m           ctx, args, cancellation_manager=cancellation_manager))\n\u001b[0m\u001b[1;32m   1925\u001b[0m     forward_backward = self._select_forward_and_backward_functions(\n\u001b[1;32m   1926\u001b[0m         \u001b[0margs\u001b[0m\u001b[0;34m,\u001b[0m\u001b[0;34m\u001b[0m\u001b[0;34m\u001b[0m\u001b[0m\n",
      "\u001b[0;32m/usr/local/lib/python3.6/dist-packages/tensorflow/python/eager/function.py\u001b[0m in \u001b[0;36mcall\u001b[0;34m(self, ctx, args, cancellation_manager)\u001b[0m\n\u001b[1;32m    548\u001b[0m               \u001b[0minputs\u001b[0m\u001b[0;34m=\u001b[0m\u001b[0margs\u001b[0m\u001b[0;34m,\u001b[0m\u001b[0;34m\u001b[0m\u001b[0;34m\u001b[0m\u001b[0m\n\u001b[1;32m    549\u001b[0m               \u001b[0mattrs\u001b[0m\u001b[0;34m=\u001b[0m\u001b[0mattrs\u001b[0m\u001b[0;34m,\u001b[0m\u001b[0;34m\u001b[0m\u001b[0;34m\u001b[0m\u001b[0m\n\u001b[0;32m--> 550\u001b[0;31m               ctx=ctx)\n\u001b[0m\u001b[1;32m    551\u001b[0m         \u001b[0;32melse\u001b[0m\u001b[0;34m:\u001b[0m\u001b[0;34m\u001b[0m\u001b[0;34m\u001b[0m\u001b[0m\n\u001b[1;32m    552\u001b[0m           outputs = execute.execute_with_cancellation(\n",
      "\u001b[0;32m/usr/local/lib/python3.6/dist-packages/tensorflow/python/eager/execute.py\u001b[0m in \u001b[0;36mquick_execute\u001b[0;34m(op_name, num_outputs, inputs, attrs, ctx, name)\u001b[0m\n\u001b[1;32m     58\u001b[0m     \u001b[0mctx\u001b[0m\u001b[0;34m.\u001b[0m\u001b[0mensure_initialized\u001b[0m\u001b[0;34m(\u001b[0m\u001b[0;34m)\u001b[0m\u001b[0;34m\u001b[0m\u001b[0;34m\u001b[0m\u001b[0m\n\u001b[1;32m     59\u001b[0m     tensors = pywrap_tfe.TFE_Py_Execute(ctx._handle, device_name, op_name,\n\u001b[0;32m---> 60\u001b[0;31m                                         inputs, attrs, num_outputs)\n\u001b[0m\u001b[1;32m     61\u001b[0m   \u001b[0;32mexcept\u001b[0m \u001b[0mcore\u001b[0m\u001b[0;34m.\u001b[0m\u001b[0m_NotOkStatusException\u001b[0m \u001b[0;32mas\u001b[0m \u001b[0me\u001b[0m\u001b[0;34m:\u001b[0m\u001b[0;34m\u001b[0m\u001b[0;34m\u001b[0m\u001b[0m\n\u001b[1;32m     62\u001b[0m     \u001b[0;32mif\u001b[0m \u001b[0mname\u001b[0m \u001b[0;32mis\u001b[0m \u001b[0;32mnot\u001b[0m \u001b[0;32mNone\u001b[0m\u001b[0;34m:\u001b[0m\u001b[0;34m\u001b[0m\u001b[0;34m\u001b[0m\u001b[0m\n",
      "\u001b[0;31mKeyboardInterrupt\u001b[0m: "
     ]
    }
   ],
   "source": [
    "t1 = time.time()\n",
    "hist_lstm = model_lstm.fit(X_train, y_train,\n",
    "                           batch_size=64,\n",
    "                           epochs=EPOCHS,\n",
    "                           validation_data=(X_val, y_val))\n",
    "t2 = time.time()\n",
    "t_lstm = t2 - t1\n",
    "\n",
    "t1 = time.time()\n",
    "hist_gru = model_gru.fit(X_train, y_train,\n",
    "                         batch_size=64,\n",
    "                         epochs=EPOCHS,\n",
    "                         validation_data=(X_val, y_val))\n",
    "t2 = time.time()\n",
    "t_gru = t2 - t1\n",
    "\n",
    "print(\"LSTM Training took:\", timedelta(seconds=t_lstm))\n",
    "print(\"GRU  Training took:\", timedelta(seconds=t_gru))"
   ]
  },
  {
   "cell_type": "code",
   "execution_count": null,
   "metadata": {},
   "outputs": [],
   "source": [
    "fig, ax = plt.subplots(1, 1)\n",
    "\n",
    "for n, h in [(\"simple rnn\", hist), (\"lstm\", hist_lstm), (\"gru\", hist_gru)]:\n",
    "\n",
    "    ax.plot(h.history[\"loss\"], label=f'{n} loss')\n",
    "    ax.plot(h.history[\"accuracy\"], label=f'{n} accuracy')\n",
    "    ax.plot(h.history[\"val_loss\"], label=f'{n} validation loss')\n",
    "    ax.plot(h.history[\"val_accuracy\"], label=f'{n} validation accuracy')\n",
    "\n",
    "ax.set_xlabel(\"Epoch\")\n",
    "ax.legend()\n",
    "\n",
    "fig.set_size_inches(20, 10)\n",
    "\n",
    "plt.show()"
   ]
  },
  {
   "cell_type": "markdown",
   "metadata": {},
   "source": [
    "## x.7 *Noch Optionaler* Ist das Netz jetzt ein Schriftsteller?\n",
    "\n",
    "Was müsste man ändern um nun ein ganzes Buch erstellen zu lassen? Glauben Sie das Ergebniss wäre lesbar?"
   ]
  },
  {
   "cell_type": "markdown",
   "metadata": {},
   "source": [
    "Hierfür wollen wir wenn möglich beliebig viele Zeichen generieren, dabei den hidden state behalten und nicht konstant das bisher geschriebene als Input wieder einfügen. Deshalb nutzen wir hier eine eigene Klasse für das Netz, die dann die Layer enthält, aber aich den Hidden state zurück geben kann"
   ]
  },
  {
   "cell_type": "code",
   "execution_count": null,
   "metadata": {},
   "outputs": [],
   "source": [
    "class CustomRNNModel(tf.keras.Model):\n",
    "    def __init__(self, vocab_size, rnn_units, rnn_layer_type = tf.keras.layers.GRU):\n",
    "        super().__init__(self)\n",
    "        # Put layers here. We will call them manually but store them here\n",
    "        self.rnn_layer = rnn_layer_type(rnn_units, return_sequences=True, return_state=True)\n",
    "        self.dense = tf.keras.layers.Dense(vocab_size, activation='softmax')\n",
    "\n",
    "    def call(self, inputs, states=None, return_state=False, training=False):\n",
    "        # Here we put our input through all out layers\n",
    "        x = inputs\n",
    "        if states is None:\n",
    "            # Get an initial kind of empty state\n",
    "            states = self.rnn_layer.get_initial_state(x)\n",
    "        \n",
    "        x, states = self.rnn_layer(x, initial_state=states, training=training)\n",
    "        x = self.dense(x, training=training)\n",
    "\n",
    "        if return_state:\n",
    "            return x, states\n",
    "        else:\n",
    "            return x"
   ]
  },
  {
   "cell_type": "code",
   "execution_count": null,
   "metadata": {},
   "outputs": [],
   "source": [
    "literatur_model = CustomRNNModel(vocab_size=vocab_size, rnn_units=rnn_units)\n",
    "\n",
    "input_example_batch = X_train[0]\n",
    "input_example_batch = input_example_batch.reshape((1, *input_example_batch.shape))\n",
    "\n",
    "example_batch_predictions = literatur_model.predict(input_example_batch)\n",
    "print(input_example_batch.shape, y_train[0].shape, example_batch_predictions.shape)\n",
    "\n",
    "print(\"Test sequence:\", \"\\n\", \"-\" * 25, \"\\n\", untokenize(one_hot.decode(X_train[0])), \"\\n\", \"-\"*25)\n",
    "print(\"Expected result:\", \"\\n\", \"-\" * 25, \"\\n\", untokenize(one_hot.decode(y_train[0])), \"\\n\", \"-\"*25)\n",
    "print(\"Untrained prediction:\", \"\\n\", \"-\" * 25, \"\\n\", untokenize(one_hot.decode(example_batch_predictions[0])), \"\\n\", \"-\"*25)\n",
    "\n",
    "literatur_model.compile(loss='categorical_crossentropy', optimizer='adam', metrics=['accuracy'])\n",
    "\n",
    "literatur_model.summary()"
   ]
  },
  {
   "cell_type": "code",
   "execution_count": null,
   "metadata": {},
   "outputs": [],
   "source": [
    "EPOCHS = 50\n",
    "\n",
    "t1 = time.time()\n",
    "hist_custom = literatur_model.fit(X_train, y_train,\n",
    "                           batch_size=64,\n",
    "                           epochs=EPOCHS,\n",
    "                           validation_data=(X_val, y_val))\n",
    "t2 = time.time()\n",
    "\n",
    "print(\"Training took:\", timedelta(seconds=t2-t1))"
   ]
  },
  {
   "cell_type": "code",
   "execution_count": null,
   "metadata": {},
   "outputs": [],
   "source": [
    "fig, ax = plt.subplots(1, 1)\n",
    "\n",
    "ax.plot(hist_custom.history[\"loss\"], label='loss')\n",
    "ax.plot(hist_custom.history[\"accuracy\"], label='accuracy')\n",
    "ax.plot(hist_custom.history[\"val_loss\"], label='validation loss')\n",
    "ax.plot(hist_custom.history[\"val_accuracy\"], label='validation accuracy')\n",
    "ax.set_xlabel(\"Epoch\")\n",
    "ax.legend()\n",
    "\n",
    "fig.set_size_inches(20, 10)\n",
    "\n",
    "plt.show()"
   ]
  },
  {
   "cell_type": "code",
   "execution_count": null,
   "metadata": {},
   "outputs": [],
   "source": [
    "def create_text(amount_symbols, init_text, text_model):    \n",
    "    # Tokenize text\n",
    "    ret = tokenize(init_text)\n",
    "    \n",
    "    states = None\n",
    "    current_char = one_hot.encode(ret, dtype=float)\n",
    "    # For some reason we have to add one dimension\n",
    "    current_char = current_char.reshape(1, *current_char.shape)\n",
    "    \n",
    "    for i in range(amount_symbols):\n",
    "        current_char, states = text_model(current_char, return_state = True, states = states)\n",
    "        # Only add last char if several got \n",
    "        ret.append(one_hot.decode(current_char[0])[-1])\n",
    "        \n",
    "    return untokenize(ret)\n",
    "    "
   ]
  },
  {
   "cell_type": "code",
   "execution_count": null,
   "metadata": {},
   "outputs": [],
   "source": [
    "created_text = create_text(250, \"Stuff\", literatur_model)\n",
    "\n",
    "print(created_text)"
   ]
  },
  {
   "cell_type": "code",
   "execution_count": null,
   "metadata": {},
   "outputs": [],
   "source": []
  }
 ],
 "metadata": {
  "colab": {
   "authorship_tag": "ABX9TyMq+K20Puo5Sv9kQTS6dlDP",
   "include_colab_link": true,
   "name": "Übung-RNN-Lösung.ipynb",
   "provenance": []
  },
  "kernelspec": {
   "display_name": "Python 3",
   "language": "python",
   "name": "python3"
  },
  "language_info": {
   "codemirror_mode": {
    "name": "ipython",
    "version": 3
   },
   "file_extension": ".py",
   "mimetype": "text/x-python",
   "name": "python",
   "nbconvert_exporter": "python",
   "pygments_lexer": "ipython3",
   "version": "3.6.9"
  }
 },
 "nbformat": 4,
 "nbformat_minor": 4
}
