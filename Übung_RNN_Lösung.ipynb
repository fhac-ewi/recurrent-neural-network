{
  "nbformat": 4,
  "nbformat_minor": 0,
  "metadata": {
    "colab": {
      "name": "Übung-RNN-Lösung.ipynb",
      "provenance": [],
      "toc_visible": true,
      "include_colab_link": true
    },
    "kernelspec": {
      "display_name": "Python 3",
      "language": "python",
      "name": "python3"
    },
    "language_info": {
      "codemirror_mode": {
        "name": "ipython",
        "version": 3
      },
      "file_extension": ".py",
      "mimetype": "text/x-python",
      "name": "python",
      "nbconvert_exporter": "python",
      "pygments_lexer": "ipython3",
      "version": "3.6.9"
    },
    "accelerator": "GPU",
    "widgets": {
      "application/vnd.jupyter.widget-state+json": {
        "adef62895b3d411287a5a5bbfc637dbb": {
          "model_module": "@jupyter-widgets/controls",
          "model_name": "VBoxModel",
          "state": {
            "_view_name": "VBoxView",
            "_dom_classes": [
              "widget-interact"
            ],
            "_model_name": "VBoxModel",
            "_view_module": "@jupyter-widgets/controls",
            "_model_module_version": "1.5.0",
            "_view_count": null,
            "_view_module_version": "1.5.0",
            "box_style": "",
            "layout": "IPY_MODEL_9cabe7a983fa4025ba1655b0975a0ff7",
            "_model_module": "@jupyter-widgets/controls",
            "children": [
              "IPY_MODEL_8f3b5e44e3cd434896471c1c001beb65",
              "IPY_MODEL_cb95cb26660c47f782e175b49d4ec7f7"
            ]
          }
        }
      }
    }
  },
  "cells": [
    {
      "cell_type": "markdown",
      "metadata": {
        "id": "view-in-github",
        "colab_type": "text"
      },
      "source": [
        "<a href=\"https://colab.research.google.com/github/fhac-ewi/recurrent-neural-network/blob/main/%C3%9Cbung_RNN_L%C3%B6sung.ipynb\" target=\"_parent\"><img src=\"https://colab.research.google.com/assets/colab-badge.svg\" alt=\"Open In Colab\"/></a>"
      ]
    },
    {
      "cell_type": "markdown",
      "metadata": {
        "id": "yYD6gvw1vwii"
      },
      "source": [
        "# Übung RNN\n",
        "\n",
        "## In dieser Übung ...\n",
        "... werden wir ein bisschen lyrisch. Am Ende werden Sie vielleicht noch der nächste Shakespear\n",
        "\n",
        "\n",
        "\n",
        "\n"
      ]
    },
    {
      "cell_type": "code",
      "metadata": {
        "id": "ANQUdX5hyPTu"
      },
      "source": [
        "# Kind of important imports\n",
        "\n",
        "import tensorflow as tf\n",
        "import keras\n",
        "import numpy as np\n",
        "import sys\n",
        "import matplotlib.pyplot as plt"
      ],
      "execution_count": null,
      "outputs": []
    },
    {
      "cell_type": "code",
      "metadata": {
        "id": "l7VhwwEvBrsq"
      },
      "source": [
        "# Additional, nice to have, imports\n",
        "\n",
        "from sklearn.model_selection import train_test_split\n",
        "\n",
        "from datetime import datetime, timedelta\n",
        "import time"
      ],
      "execution_count": null,
      "outputs": []
    },
    {
      "cell_type": "code",
      "metadata": {
        "id": "YS6F04NpB1YT",
        "colab": {
          "base_uri": "https://localhost:8080/"
        },
        "outputId": "af4ab349-8474-4e66-902e-3424c32f32f0"
      },
      "source": [
        "# Check for GPU support and Versions you are using so debugging is easier\n",
        "\n",
        "from tensorflow.python.client import device_lib\n",
        "physical_devices = device_lib.list_local_devices()\n",
        "print(\"Keras Version:\", keras.__version__, \"; Tensorflow version:\", tf.__version__, \"; NumPy version:\", np.__version__, \"Python version:\", \".\".join(str(x) for x in sys.version_info[:3]))\n",
        "print(\"You are using\", len(physical_devices), \"local devises.\", len([x for x in physical_devices if x.device_type == \"GPU\"]), \"are GPUs\")\n",
        "for i, d in enumerate(physical_devices):\n",
        "    print(\"  ->Device\", i+1, \"is a\", d.device_type, \"=>\", d.physical_device_desc if len(d.physical_device_desc) > 0 else d.name)"
      ],
      "execution_count": null,
      "outputs": [
        {
          "output_type": "stream",
          "text": [
            "Keras Version: 2.4.3 ; Tensorflow version: 2.4.1 ; NumPy version: 1.19.5 Python version: 3.7.10\n",
            "You are using 2 local devises. 1 are GPUs\n",
            "  ->Device 1 is a CPU => /device:CPU:0\n",
            "  ->Device 2 is a GPU => device: 0, name: Tesla T4, pci bus id: 0000:00:04.0, compute capability: 7.5\n"
          ],
          "name": "stdout"
        }
      ]
    },
    {
      "cell_type": "markdown",
      "metadata": {
        "id": "WglUJhhgyWSs"
      },
      "source": [
        "## x.1 Erstellen und Vorbereiten eines eigenen Datensatzes \n",
        "\n",
        "Zuerst müssen wir ein paar Daten über die Werke von Shakespear besorgen\n",
        "\n",
        "**Ihre Aufgaben**\n",
        "\n",
        "Führen Sie die folgende Codezelle aus, betrachten Sie den Datensatz und überlegen Sie, was Sie mit den Daten noch tun müssen\n",
        "\n",
        "Hinweis: Müssen Sie die Techte noch etwas bereinigen?"
      ]
    },
    {
      "cell_type": "code",
      "metadata": {
        "id": "LN0KsVCb_Rm-",
        "colab": {
          "base_uri": "https://localhost:8080/"
        },
        "outputId": "78eb7bce-9af3-4137-f442-ce85cba22d6c"
      },
      "source": [
        "MAX_TEXT_LEN = 100_000 # You are going to kill the poor RAM\n",
        "# We could make adjustments here so the initial dataset is small so fast training and give the annotation to increase it once everything works as expected on the small one maybe\n",
        "\n",
        "#path_to_file = tf.keras.utils.get_file('shakespeare.txt', 'https://storage.googleapis.com/download.tensorflow.org/data/shakespeare.txt')\n",
        "path_to_file = tf.keras.utils.get_file('german_news.txt', 'https://raw.githubusercontent.com/tblock/10kGNAD/master/articles.csv') # Taken from https://github.com/tblock/10kGNAD\n",
        "\n",
        "text = open(path_to_file, 'rb').read().decode(encoding='utf-8')\n",
        "print(f'Length of text: {len(text)} characters')\n",
        "if len(text) > MAX_TEXT_LEN:\n",
        "    print(\"Text is too long. Cutting it to\", MAX_TEXT_LEN, f\"characters. That is{100 * MAX_TEXT_LEN / len(text):6.2f}%\")\n",
        "    text = text[:MAX_TEXT_LEN]"
      ],
      "execution_count": null,
      "outputs": [
        {
          "output_type": "stream",
          "text": [
            "Length of text: 26733346 characters\n",
            "Text is too long. Cutting it to 100000 characters. That is  0.37%\n"
          ],
          "name": "stdout"
        }
      ]
    },
    {
      "cell_type": "code",
      "metadata": {
        "id": "pMGYJ5ci_RnA",
        "colab": {
          "base_uri": "https://localhost:8080/"
        },
        "outputId": "f709a135-8f82-4fa4-8b3d-a90991e45c6c"
      },
      "source": [
        "print(text[:250])"
      ],
      "execution_count": null,
      "outputs": [
        {
          "output_type": "stream",
          "text": [
            "Etat;Die ARD-Tochter Degeto hat sich verpflichtet, ab August einer Quotenregelung zu folgen, die für die Gleichstellung von Regisseurinnen sorgen soll. In mindestens 20 Prozent der Filme, die die ARD-Tochter Degeto produziert oder mitfinanziert, soll\n"
          ],
          "name": "stdout"
        }
      ]
    },
    {
      "cell_type": "markdown",
      "metadata": {
        "id": "oh7WDTVy_RnB"
      },
      "source": [
        "Wir werden der einfach heit halber einzelne Zeichen vorhersagen. Unser vokabular sollte also aus allen Zeichen bestehen, die im text vorkommen\n",
        "\n",
        "Hinweis: Vielleicht kann https://spacy.io/usage/spacy-101 hilfreich sein"
      ]
    },
    {
      "cell_type": "code",
      "metadata": {
        "id": "RmnEtePn_RnC"
      },
      "source": [
        "def tokenize(text):\n",
        "    return list(text)\n",
        "\n",
        "def untokenize(tokens):\n",
        "    return \"\".join(tokens)"
      ],
      "execution_count": null,
      "outputs": []
    },
    {
      "cell_type": "code",
      "metadata": {
        "id": "rAAliM7E_RnD",
        "colab": {
          "base_uri": "https://localhost:8080/"
        },
        "outputId": "d866bae7-67c1-474a-819f-c553a7aeeffe"
      },
      "source": [
        "tokenized_text = tokenize(text)\n",
        "\n",
        "tokens = sorted(set(tokenized_text))\n",
        "\n",
        "print(\"Length of raw text:\", len(text))\n",
        "print(\"Length of tokenized text:\", len(tokenized_text))\n",
        "print(\"Unique tokens:\", len(tokens))\n"
      ],
      "execution_count": null,
      "outputs": [
        {
          "output_type": "stream",
          "text": [
            "Length of raw text: 100000\n",
            "Length of tokenized text: 100000\n",
            "Unique tokens: 98\n"
          ],
          "name": "stdout"
        }
      ]
    },
    {
      "cell_type": "markdown",
      "metadata": {
        "id": "a1CXeYPHyywV"
      },
      "source": [
        "## x.2 One Hot Kodierung\n",
        "\n",
        "Für das Training unseres RNN werden wir eine One Hot kodierung nutzen\n",
        "\n",
        "**Ihre Aufgaben**\n",
        "\n",
        "(1) Implementieren Sie also eine Methode, die für Ihre ausgewählten Tokens eine one hot codierung erzeigt und diese Dann auf den Text anwendet\n",
        "\n",
        "*Himweis:* Eine gute Idee könnte sein eine Klasse zu schreiben, die das vokabular specichert und onehot kodieren und dekodieren kann"
      ]
    },
    {
      "cell_type": "code",
      "metadata": {
        "id": "miApcJctvteM"
      },
      "source": [
        "class OneHot(object):\n",
        "    def __init__(self, tokens, unknown_token = \"[UNKNOWN]\"):\n",
        "        '''\n",
        "        tokens: The tokens you want to be able to encode and decode\n",
        "        unknown_token: The token to be used when decoding and the net wants to use a not known char\n",
        "        '''\n",
        "        self.tokens = tokens\n",
        "        self.unknown_token = unknown_token\n",
        "        # Store a bidirectional dictionary containing the characters\n",
        "        self.char_to_index = dict((token, i + 1) for i, token in enumerate(self.tokens))\n",
        "        self.index_to_char = dict((i + 1, token) for i, token in enumerate(self.tokens))\n",
        "        pass\n",
        "\n",
        "    def encode(self, text_as_tokens, dtype=np.bool_):\n",
        "        '''\n",
        "        text_as_tokens: List of tokens\n",
        "        '''\n",
        "        # Create the encoding matrix\n",
        "        enc = np.empty((len(text_as_tokens), len(self.tokens) + 1), dtype=dtype)\n",
        "        for i, token in enumerate(text_as_tokens):\n",
        "            # Encode every char\n",
        "            enc[i] = self.encode_token(token=token, l=len(self.tokens) + 1, dtype=dtype)\n",
        "        return enc\n",
        "    \n",
        "    def encode_token(self, token, l, dtype=np.bool_):\n",
        "        '''\n",
        "        token: Single token\n",
        "        l: length of array to be returned. At position zero it is stored if the char is unknown\n",
        "        '''\n",
        "        ret = np.zeros((1, l), dtype=dtype)\n",
        "        if token not in self.char_to_index:\n",
        "            ret[0, 0] = 1\n",
        "        else:\n",
        "            ret[0, self.char_to_index[token]] = 1\n",
        "        return ret\n",
        "    \n",
        "    def decode(self, mat, unknown_token=None):         \n",
        "        '''\n",
        "        mat: matrix to be decoded. Has to be of shape (len_of_text, vocab_size)\n",
        "        unknown_token: Unknown token. If none uses the one from __init__\n",
        "        '''\n",
        "        return [self.decode_token(mat[x]) for x in range(mat.shape[0])]\n",
        "    \n",
        "    def decode_token(self, vec, unknown_token=None):\n",
        "        '''\n",
        "        vec: Vector that should be decoded. Has to be on vocab length\n",
        "        unknown_token: Unknown token. If none uses the one from __init__\n",
        "        '''\n",
        "        if unknown_token is None:\n",
        "            unknown_token = self.unknown_token\n",
        "        if isinstance(vec, tf.Tensor):\n",
        "            vec = vec.numpy()\n",
        "        if isinstance(vec, np.ndarray):\n",
        "            # Use argmax since this will be used in the model created later\n",
        "            am = np.argmax(vec)\n",
        "        else:\n",
        "            am = vec\n",
        "        if am == 0:\n",
        "            return unknown_token\n",
        "        return self.index_to_char[am]"
      ],
      "execution_count": null,
      "outputs": []
    },
    {
      "cell_type": "code",
      "metadata": {
        "id": "EZfgl8D8_RnI"
      },
      "source": [
        "one_hot = OneHot(tokens=tokens)"
      ],
      "execution_count": null,
      "outputs": []
    },
    {
      "cell_type": "code",
      "metadata": {
        "id": "jQhkAs_I_RnJ",
        "colab": {
          "base_uri": "https://localhost:8080/"
        },
        "outputId": "1faebc28-3064-4f23-993f-25a13c4faeaf"
      },
      "source": [
        "one_hot_text = one_hot.encode(tokenized_text, dtype=np.bool_)\n",
        "\n",
        "print(one_hot_text.shape, one_hot_text.dtype)"
      ],
      "execution_count": null,
      "outputs": [
        {
          "output_type": "stream",
          "text": [
            "(100000, 99) bool\n"
          ],
          "name": "stdout"
        }
      ]
    },
    {
      "cell_type": "markdown",
      "metadata": {
        "id": "I9nyVSBS_RnK"
      },
      "source": [
        "(2) Für das training brauchen wir nun sequenzen einer bestimmten Länge, das heißt eine Abfolge gegebener Länge von Wörtern\n",
        "\n",
        "Hinweis: Überlegen Sie sich wie lang Sie die Sequenz wählen wollen. Es sollte lang genug sein, dass das Netz zusammen hänge auch über mehrere Sätze lernen kann, aber nicht zu lang, sodass noch genug von den Daten übrig bleibt"
      ]
    },
    {
      "cell_type": "code",
      "metadata": {
        "tags": [],
        "id": "oKnLLt1g_RnL"
      },
      "source": [
        "sequence_len = 125\n",
        "target_shape = (int(one_hot_text.shape[0] / (sequence_len + 1)) , (sequence_len + 1) , one_hot_text.shape[1])\n",
        "\n",
        "one_hot_text_seq = np.empty(target_shape, dtype=one_hot_text.dtype)\n",
        "\n",
        "for s in range(one_hot_text_seq.shape[0]):\n",
        "    one_hot_text_seq[s] = one_hot_text[s * (sequence_len + 1):(s + 1) * (sequence_len + 1)]"
      ],
      "execution_count": null,
      "outputs": []
    },
    {
      "cell_type": "markdown",
      "metadata": {
        "id": "f7weWYfv_RnL"
      },
      "source": [
        "(3) Nun müssen wir die Daten noch in X und Y aufteilen. Die Y-Werte sind die gleichen, wie die jeweiligen X-Daten, nur um 1 verschoben.\n",
        "\n",
        "*Beispiel:* X: \"Hallo Wel\"; Y: \"allo Welt\"\n",
        "\n",
        "*Hinweis:* Wenn Sie möchten können Sie hier auch schon in trainings und validierungsdaten aufteilen. Diese können während dem training zur Bewertung der Performance genutzt werden, das ist aber nicht nötig"
      ]
    },
    {
      "cell_type": "code",
      "metadata": {
        "id": "eBp_PjNZ_RnL",
        "colab": {
          "base_uri": "https://localhost:8080/"
        },
        "outputId": "681c0007-1cb7-49cd-9a16-0c153eaa7a03"
      },
      "source": [
        "VALIDATION_SIZE = 1/5\n",
        "\n",
        "X_train, X_val, y_train, y_val = train_test_split(one_hot_text_seq[:, :-1], one_hot_text_seq[:, 1:], test_size=VALIDATION_SIZE)\n",
        "\n",
        "print(\"X_train:\", X_train.shape, X_train.dtype)\n",
        "print(\"y_train:\", y_train.shape, y_train.dtype)\n",
        "print(\"X_val  :\", X_val.shape, X_val.dtype)\n",
        "print(\"y_val  :\", y_val.shape, y_val.dtype)\n",
        "\n",
        "print(\"-\" * 25)\n",
        "print(untokenize(one_hot.decode(X_train[0])))\n",
        "print(\"-\" * 25)\n",
        "print(untokenize(one_hot.decode(y_train[0])))\n",
        "print(\"-\" * 25)"
      ],
      "execution_count": null,
      "outputs": [
        {
          "output_type": "stream",
          "text": [
            "X_train: (634, 125, 99) bool\n",
            "y_train: (634, 125, 99) bool\n",
            "X_val  : (159, 125, 99) bool\n",
            "y_val  : (159, 125, 99) bool\n",
            "-------------------------\n",
            " für Medienkritik an – unter Einbeziehung der Leser. Auf seinem Blog schreibt Niggemeier, dass er zwar das Projekt Krautrepor\n",
            "-------------------------\n",
            "für Medienkritik an – unter Einbeziehung der Leser. Auf seinem Blog schreibt Niggemeier, dass er zwar das Projekt Krautreport\n",
            "-------------------------\n"
          ],
          "name": "stdout"
        }
      ]
    },
    {
      "cell_type": "markdown",
      "metadata": {
        "id": "tOMFCH7V_RnM"
      },
      "source": [
        "## x.3 Erstellen des RNN Modells\n",
        "\n",
        "Hier erstellen wir das eigentliche RNN. Hierfür nutzen wir ein Sequential Model von Keras mit einem RNN und einem Dense Layer mit Softmax zum erstellen der Ausgabe.\n",
        "\n",
        "**Ihre Aufgaben**\n",
        "\n",
        "(1) Erstellen Sie das entsprechende Sequential model. Empfehlung mit adam und categorical_crossentropy. Fügen Sie bei den metrics auch 'accuracy' hinzu. Die werden wir später nutzen"
      ]
    },
    {
      "cell_type": "code",
      "metadata": {
        "id": "bWGgjHV7_RnM"
      },
      "source": [
        "# Length of the vocabulary in chars\n",
        "vocab_size = X_train.shape[-1]\n",
        "\n",
        "# The input shape\n",
        "lstn_input_shape = X_train.shape[1:]\n",
        "\n",
        "# Number of RNN units\n",
        "rnn_units = 1024"
      ],
      "execution_count": null,
      "outputs": []
    },
    {
      "cell_type": "code",
      "metadata": {
        "id": "z0Uh7RmR_RnN",
        "colab": {
          "base_uri": "https://localhost:8080/"
        },
        "outputId": "a188a90e-9121-4fbe-f1db-75c529c8eda7"
      },
      "source": [
        "model = tf.keras.Sequential(name=\"SimpleRNN_Model\")\n",
        "model.add(tf.keras.layers.SimpleRNN(rnn_units, return_sequences=True, input_shape=lstn_input_shape, name=\"The_Brain\"))\n",
        "model.add(tf.keras.layers.Dense(vocab_size, activation='softmax', name=\"The_Hand\"))\n",
        "model.compile(loss='categorical_crossentropy', optimizer='adam', metrics=['accuracy'])\n",
        "\n",
        "model.summary()\n",
        "\n",
        "input_example_batch = X_train[0]\n",
        "input_example_batch = input_example_batch.reshape((1, *input_example_batch.shape))\n",
        "\n",
        "example_batch_predictions = model.predict(input_example_batch)\n",
        "print(input_example_batch.shape, y_train[0].shape, example_batch_predictions.shape)\n",
        "\n",
        "print(\"Test sequence:\", \"\\n\", \"-\" * 25, \"\\n\", untokenize(one_hot.decode(X_train[0])), \"\\n\", \"-\"*25)\n",
        "print(\"Expected result:\", \"\\n\", \"-\" * 25, \"\\n\", untokenize(one_hot.decode(y_train[0])), \"\\n\", \"-\"*25)\n",
        "print(\"Untrained prediction:\", \"\\n\", \"-\" * 25, \"\\n\", untokenize(one_hot.decode(example_batch_predictions[0])), \"\\n\", \"-\"*25)"
      ],
      "execution_count": null,
      "outputs": [
        {
          "output_type": "stream",
          "text": [
            "Model: \"SimpleRNN_Model\"\n",
            "_________________________________________________________________\n",
            "Layer (type)                 Output Shape              Param #   \n",
            "=================================================================\n",
            "The_Brain (SimpleRNN)        (None, 125, 1024)         1150976   \n",
            "_________________________________________________________________\n",
            "The_Hand (Dense)             (None, 125, 99)           101475    \n",
            "=================================================================\n",
            "Total params: 1,252,451\n",
            "Trainable params: 1,252,451\n",
            "Non-trainable params: 0\n",
            "_________________________________________________________________\n",
            "(1, 125, 99) (125, 99) (1, 125, 99)\n",
            "Test sequence: \n",
            " ------------------------- \n",
            "  für Medienkritik an – unter Einbeziehung der Leser. Auf seinem Blog schreibt Niggemeier, dass er zwar das Projekt Krautrepor \n",
            " -------------------------\n",
            "Expected result: \n",
            " ------------------------- \n",
            " für Medienkritik an – unter Einbeziehung der Leser. Auf seinem Blog schreibt Niggemeier, dass er zwar das Projekt Krautreport \n",
            " -------------------------\n",
            "Untrained prediction: \n",
            " ------------------------- \n",
            "?5I0vm©öNá'o,E–NÄgóVT:OZKyJ5c8B-&ivz&j9NT[UNKNOWN]Mf0;rTVöó56J,?Zzs[UNKNOWN]ǔi0‚j7;’ä)©Ü(6VáFrN8ts6ü66I-rcMrVoztränS;eG@Md6sgzTÄüNd0 \n",
            " -------------------------\n"
          ],
          "name": "stdout"
        }
      ]
    },
    {
      "cell_type": "markdown",
      "metadata": {
        "id": "axndj50eyWrw"
      },
      "source": [
        "## x.4 Training eines RNN Modells\n",
        "\n",
        "Nun gehts ans trainieren. Nutzen Sie für den Anfang eine kleine Anzahl an epochen um herauszufinden wie viele Sie in einer ertragbaren Zeit machen können. Sollten Sie auf google Colab arbeiten könnte 20 hier ein guter Startwert sein\n",
        "\n",
        "**Ihre Aufgaben**\n",
        "\n",
        "(1) Nutze die Fit methode deines models um es auf den ertellten Trainingsdaten zu trainieren. Wenn Sie validierungsdaten erzeugt haben können Sie diese bei validation_data angeben. Um die Trainingszeit kurz zu halten kann es auch Sinn ergeben hier eine batch_size anzugeben"
      ]
    },
    {
      "cell_type": "code",
      "metadata": {
        "id": "Q_SVsygGOYVa"
      },
      "source": [
        "EPOCHS = 40\n",
        "BATCH_SIZE = 64"
      ],
      "execution_count": null,
      "outputs": []
    },
    {
      "cell_type": "code",
      "metadata": {
        "id": "iGpNzqcuyW5-",
        "colab": {
          "base_uri": "https://localhost:8080/"
        },
        "outputId": "8ed18258-8a6d-47f8-930c-6fe619825523"
      },
      "source": [
        "t1 = time.time()\n",
        "hist = model.fit(X_train, y_train,\n",
        "                  batch_size=BATCH_SIZE,\n",
        "                  epochs=EPOCHS,\n",
        "                  validation_data=(X_val, y_val))\n",
        "t2 = time.time()\n",
        "\n",
        "print(\"Training took:\", timedelta(seconds=t2-t1))"
      ],
      "execution_count": null,
      "outputs": [
        {
          "output_type": "stream",
          "text": [
            "Epoch 1/40\n",
            "10/10 [==============================] - 2s 140ms/step - loss: 4.1556 - accuracy: 0.0696 - val_loss: 3.5039 - val_accuracy: 0.0791\n",
            "Epoch 2/40\n",
            "10/10 [==============================] - 1s 87ms/step - loss: 3.3883 - accuracy: 0.1194 - val_loss: 3.2907 - val_accuracy: 0.2005\n",
            "Epoch 3/40\n",
            "10/10 [==============================] - 1s 86ms/step - loss: 3.2669 - accuracy: 0.1678 - val_loss: 3.2302 - val_accuracy: 0.2045\n",
            "Epoch 4/40\n",
            "10/10 [==============================] - 1s 89ms/step - loss: 3.2273 - accuracy: 0.1941 - val_loss: 3.1954 - val_accuracy: 0.1959\n",
            "Epoch 5/40\n",
            "10/10 [==============================] - 1s 86ms/step - loss: 3.1963 - accuracy: 0.1923 - val_loss: 3.1589 - val_accuracy: 0.2072\n",
            "Epoch 6/40\n",
            "10/10 [==============================] - 1s 86ms/step - loss: 3.1447 - accuracy: 0.2042 - val_loss: 3.1104 - val_accuracy: 0.2076\n",
            "Epoch 7/40\n",
            "10/10 [==============================] - 1s 86ms/step - loss: 3.1121 - accuracy: 0.2014 - val_loss: 3.0597 - val_accuracy: 0.2252\n",
            "Epoch 8/40\n",
            "10/10 [==============================] - 1s 89ms/step - loss: 3.0561 - accuracy: 0.2155 - val_loss: 3.0183 - val_accuracy: 0.2026\n",
            "Epoch 9/40\n",
            "10/10 [==============================] - 1s 84ms/step - loss: 2.9948 - accuracy: 0.2239 - val_loss: 2.9271 - val_accuracy: 0.2454\n",
            "Epoch 10/40\n",
            "10/10 [==============================] - 1s 87ms/step - loss: 2.9231 - accuracy: 0.2430 - val_loss: 2.8746 - val_accuracy: 0.2476\n",
            "Epoch 11/40\n",
            "10/10 [==============================] - 1s 88ms/step - loss: 2.8520 - accuracy: 0.2593 - val_loss: 2.7949 - val_accuracy: 0.2687\n",
            "Epoch 12/40\n",
            "10/10 [==============================] - 1s 87ms/step - loss: 2.7813 - accuracy: 0.2782 - val_loss: 2.7590 - val_accuracy: 0.2630\n",
            "Epoch 13/40\n",
            "10/10 [==============================] - 1s 88ms/step - loss: 2.7320 - accuracy: 0.2766 - val_loss: 2.6835 - val_accuracy: 0.2884\n",
            "Epoch 14/40\n",
            "10/10 [==============================] - 1s 89ms/step - loss: 2.6858 - accuracy: 0.2916 - val_loss: 2.6372 - val_accuracy: 0.2904\n",
            "Epoch 15/40\n",
            "10/10 [==============================] - 1s 88ms/step - loss: 2.6196 - accuracy: 0.3046 - val_loss: 2.5968 - val_accuracy: 0.3035\n",
            "Epoch 16/40\n",
            "10/10 [==============================] - 1s 91ms/step - loss: 2.5633 - accuracy: 0.3175 - val_loss: 2.5673 - val_accuracy: 0.3151\n",
            "Epoch 17/40\n",
            "10/10 [==============================] - 1s 88ms/step - loss: 2.5363 - accuracy: 0.3261 - val_loss: 2.5201 - val_accuracy: 0.3227\n",
            "Epoch 18/40\n",
            "10/10 [==============================] - 1s 86ms/step - loss: 2.4733 - accuracy: 0.3360 - val_loss: 2.4854 - val_accuracy: 0.3257\n",
            "Epoch 19/40\n",
            "10/10 [==============================] - 1s 86ms/step - loss: 2.4543 - accuracy: 0.3405 - val_loss: 2.5397 - val_accuracy: 0.3122\n",
            "Epoch 20/40\n",
            "10/10 [==============================] - 1s 86ms/step - loss: 2.4647 - accuracy: 0.3288 - val_loss: 2.4407 - val_accuracy: 0.3348\n",
            "Epoch 21/40\n",
            "10/10 [==============================] - 1s 86ms/step - loss: 2.3935 - accuracy: 0.3524 - val_loss: 2.4190 - val_accuracy: 0.3452\n",
            "Epoch 22/40\n",
            "10/10 [==============================] - 1s 86ms/step - loss: 2.3787 - accuracy: 0.3563 - val_loss: 2.3919 - val_accuracy: 0.3481\n",
            "Epoch 23/40\n",
            "10/10 [==============================] - 1s 86ms/step - loss: 2.3383 - accuracy: 0.3634 - val_loss: 2.3617 - val_accuracy: 0.3533\n",
            "Epoch 24/40\n",
            "10/10 [==============================] - 1s 85ms/step - loss: 2.3095 - accuracy: 0.3719 - val_loss: 2.3657 - val_accuracy: 0.3496\n",
            "Epoch 25/40\n",
            "10/10 [==============================] - 1s 84ms/step - loss: 2.3017 - accuracy: 0.3714 - val_loss: 2.3444 - val_accuracy: 0.3591\n",
            "Epoch 26/40\n",
            "10/10 [==============================] - 1s 89ms/step - loss: 2.2695 - accuracy: 0.3803 - val_loss: 2.3264 - val_accuracy: 0.3656\n",
            "Epoch 27/40\n",
            "10/10 [==============================] - 1s 91ms/step - loss: 2.2422 - accuracy: 0.3852 - val_loss: 2.3068 - val_accuracy: 0.3607\n",
            "Epoch 28/40\n",
            "10/10 [==============================] - 1s 91ms/step - loss: 2.2323 - accuracy: 0.3866 - val_loss: 2.3150 - val_accuracy: 0.3555\n",
            "Epoch 29/40\n",
            "10/10 [==============================] - 1s 88ms/step - loss: 2.2201 - accuracy: 0.3831 - val_loss: 2.2767 - val_accuracy: 0.3711\n",
            "Epoch 30/40\n",
            "10/10 [==============================] - 1s 90ms/step - loss: 2.1854 - accuracy: 0.3950 - val_loss: 2.2737 - val_accuracy: 0.3753\n",
            "Epoch 31/40\n",
            "10/10 [==============================] - 1s 92ms/step - loss: 2.1541 - accuracy: 0.4005 - val_loss: 2.2412 - val_accuracy: 0.3800\n",
            "Epoch 32/40\n",
            "10/10 [==============================] - 1s 88ms/step - loss: 2.1439 - accuracy: 0.4058 - val_loss: 2.2405 - val_accuracy: 0.3807\n",
            "Epoch 33/40\n",
            "10/10 [==============================] - 1s 89ms/step - loss: 2.1257 - accuracy: 0.4121 - val_loss: 2.2345 - val_accuracy: 0.3772\n",
            "Epoch 34/40\n",
            "10/10 [==============================] - 1s 91ms/step - loss: 2.0869 - accuracy: 0.4165 - val_loss: 2.2973 - val_accuracy: 0.3670\n",
            "Epoch 35/40\n",
            "10/10 [==============================] - 1s 94ms/step - loss: 2.1431 - accuracy: 0.4067 - val_loss: 2.2505 - val_accuracy: 0.3754\n",
            "Epoch 36/40\n",
            "10/10 [==============================] - 1s 89ms/step - loss: 2.0973 - accuracy: 0.4143 - val_loss: 2.2282 - val_accuracy: 0.3822\n",
            "Epoch 37/40\n",
            "10/10 [==============================] - 1s 93ms/step - loss: 2.0475 - accuracy: 0.4278 - val_loss: 2.2144 - val_accuracy: 0.3844\n",
            "Epoch 38/40\n",
            "10/10 [==============================] - 1s 89ms/step - loss: 2.0222 - accuracy: 0.4355 - val_loss: 2.2112 - val_accuracy: 0.3853\n",
            "Epoch 39/40\n",
            "10/10 [==============================] - 1s 90ms/step - loss: 2.0023 - accuracy: 0.4422 - val_loss: 2.2106 - val_accuracy: 0.3860\n",
            "Epoch 40/40\n",
            "10/10 [==============================] - 1s 92ms/step - loss: 1.9941 - accuracy: 0.4404 - val_loss: 2.2102 - val_accuracy: 0.3893\n",
            "Training took: 0:00:36.484560\n"
          ],
          "name": "stdout"
        }
      ]
    },
    {
      "cell_type": "markdown",
      "metadata": {
        "id": "hwFD7439_RnO"
      },
      "source": [
        "(2) Plotten Sie accuracy und loss über die Epochen um bewerten zu können wie gut das Training lief"
      ]
    },
    {
      "cell_type": "code",
      "metadata": {
        "id": "JCn3o8K9_RnO",
        "colab": {
          "base_uri": "https://localhost:8080/",
          "height": 606
        },
        "outputId": "21e90664-e992-4d50-955b-fcd708b00008"
      },
      "source": [
        "fig, ax = plt.subplots(1, 1)\n",
        "\n",
        "ax.plot(hist.history[\"loss\"], label='loss')\n",
        "ax.plot(hist.history[\"accuracy\"], label='accuracy')\n",
        "ax.plot(hist.history[\"val_loss\"], label='validation loss')\n",
        "ax.plot(hist.history[\"val_accuracy\"], label='validation accuracy')\n",
        "ax.set_xlabel(\"Epoch\")\n",
        "ax.legend()\n",
        "\n",
        "fig.set_size_inches(20, 10)\n",
        "\n",
        "plt.show()"
      ],
      "execution_count": null,
      "outputs": [
        {
          "output_type": "display_data",
          "data": {
            "image/png": "[encoded data removed]",
            "text/plain": [
              "<Figure size 1440x720 with 1 Axes>"
            ]
          },
          "metadata": {
            "tags": [],
            "needs_background": "light"
          }
        }
      ]
    },
    {
      "cell_type": "markdown",
      "metadata": {
        "id": "WxNyKthd_RnP"
      },
      "source": [
        "## x.5 Text prediction\n",
        "\n",
        "(1) Schreiben Sie eine Methode, die für einen gegebenen Text das nächste Zeichen prognostiziert"
      ]
    },
    {
      "cell_type": "code",
      "metadata": {
        "id": "y3wVdygn_RnQ"
      },
      "source": [
        "def predict(txt, one_hot, trainied_model):\n",
        "    encoded_txt = one_hot.encode(tokenize(txt))\n",
        "    prediction = trainied_model.predict(encoded_txt.reshape((1, *encoded_txt.shape)))\n",
        "    return untokenize(one_hot.decode(prediction[0]))[-1]"
      ],
      "execution_count": null,
      "outputs": []
    },
    {
      "cell_type": "markdown",
      "metadata": {
        "id": "67T8xcMS_RnQ"
      },
      "source": [
        "(2) *Optional:* Nutzen Sie ipywidgets um live vorschläge zurück zu geben"
      ]
    },
    {
      "cell_type": "code",
      "metadata": {
        "id": "ApEZl0IK_RnQ"
      },
      "source": [
        "import ipywidgets as widgets\n",
        "from IPython.display import display"
      ],
      "execution_count": null,
      "outputs": []
    },
    {
      "cell_type": "code",
      "metadata": {
        "id": "7ENo5TOT_RnR",
        "colab": {
          "base_uri": "https://localhost:8080/",
          "height": 89,
          "referenced_widgets": [
            "adef62895b3d411287a5a5bbfc637dbb",
            "9cabe7a983fa4025ba1655b0975a0ff7",
            "8f3b5e44e3cd434896471c1c001beb65",
            "cb95cb26660c47f782e175b49d4ec7f7"
          ]
        },
        "outputId": "ffb5be92-235a-45e3-8745-f3e26a5b3b73"
      },
      "source": [
        "def verbose_prediction(txt, one_hot, trainied_model):\n",
        "    if len(txt) == 0:\n",
        "        txt = \" \"\n",
        "    prediction = predict(txt=txt, one_hot=one_hot, trainied_model=trainied_model)\n",
        "    print(f\"I think the next will be \\\"{prediction}\\\" after you said \\\"{txt}\\\"\")\n",
        "\n",
        "w = widgets.interactive(verbose_prediction,\n",
        "                        txt=widgets.Text(value='Hello Worl', placeholder='Type something', description='Your text:', disabled=False),\n",
        "                        one_hot=widgets.fixed(one_hot),\n",
        "                        trainied_model=widgets.fixed(model),\n",
        "                       )\n",
        "\n",
        "verbose_prediction(\"Spor\", one_hot=one_hot, trainied_model=model)\n",
        "verbose_prediction(\"Fußba\", one_hot=one_hot, trainied_model=model)\n",
        "\n",
        "display(w)"
      ],
      "execution_count": null,
      "outputs": [
        {
          "output_type": "stream",
          "text": [
            "WARNING:tensorflow:Model was constructed with shape (None, 125, 99) for input KerasTensor(type_spec=TensorSpec(shape=(None, 125, 99), dtype=tf.float32, name='The_Brain_input'), name='The_Brain_input', description=\"created by layer 'The_Brain_input'\"), but it was called on an input with incompatible shape (None, 4, 99).\n",
            "I think the next will be \"i\" after you said \"Spor\"\n",
            "I think the next will be \"l\" after you said \"Fußba\"\n"
          ],
          "name": "stdout"
        },
        {
          "output_type": "display_data",
          "data": {
            "application/vnd.jupyter.widget-view+json": {
              "model_id": "adef62895b3d411287a5a5bbfc637dbb",
              "version_minor": 0,
              "version_major": 2
            },
            "text/plain": [
              "interactive(children=(Text(value='Hello Worl', description='Your text:', placeholder='Type something'), Output…"
            ]
          },
          "metadata": {
            "tags": []
          }
        }
      ]
    },
    {
      "cell_type": "markdown",
      "metadata": {
        "id": "0d7pKNy1ycN7"
      },
      "source": [
        "## x.6 *Optional* Vergleich mit LSTM und GRU und ...\n",
        "\n",
        "Trainieren Sie nun modelle mit LSTM und GRU oder anderen Architekturen und vergleichen Sie lernperformance und Ergebnisse. Was fällt Ihnen auf?"
      ]
    },
    {
      "cell_type": "code",
      "metadata": {
        "id": "IehQ7h3uyeY6",
        "colab": {
          "base_uri": "https://localhost:8080/"
        },
        "outputId": "ef6d80af-8fef-4062-92af-5a8a714f06c9"
      },
      "source": [
        "model_lstm = tf.keras.Sequential(name=\"LSTM_Model\")\n",
        "model_lstm.add(tf.keras.layers.LSTM(rnn_units, return_sequences=True, input_shape=lstn_input_shape, name=\"The_Brain\"))\n",
        "model_lstm.add(tf.keras.layers.Dense(vocab_size, activation='softmax', name=\"The_Hand\"))\n",
        "model_lstm.compile(loss='categorical_crossentropy', optimizer='adam', metrics=['accuracy'])\n",
        "model_lstm.summary()\n",
        "\n",
        "model_gru = tf.keras.Sequential(name=\"GRU_Model\")\n",
        "model_gru.add(tf.keras.layers.LSTM(rnn_units, return_sequences=True, input_shape=lstn_input_shape, name=\"The_Brain\"))\n",
        "model_gru.add(tf.keras.layers.Dense(vocab_size, activation='softmax', name=\"The_Hand\"))\n",
        "model_gru.compile(loss='categorical_crossentropy', optimizer='adam', metrics=['accuracy'])\n",
        "model_gru.summary()\n"
      ],
      "execution_count": null,
      "outputs": [
        {
          "output_type": "stream",
          "text": [
            "Model: \"LSTM_Model\"\n",
            "_________________________________________________________________\n",
            "Layer (type)                 Output Shape              Param #   \n",
            "=================================================================\n",
            "The_Brain (LSTM)             (None, 125, 1024)         4603904   \n",
            "_________________________________________________________________\n",
            "The_Hand (Dense)             (None, 125, 99)           101475    \n",
            "=================================================================\n",
            "Total params: 4,705,379\n",
            "Trainable params: 4,705,379\n",
            "Non-trainable params: 0\n",
            "_________________________________________________________________\n",
            "Model: \"GRU_Model\"\n",
            "_________________________________________________________________\n",
            "Layer (type)                 Output Shape              Param #   \n",
            "=================================================================\n",
            "The_Brain (LSTM)             (None, 125, 1024)         4603904   \n",
            "_________________________________________________________________\n",
            "The_Hand (Dense)             (None, 125, 99)           101475    \n",
            "=================================================================\n",
            "Total params: 4,705,379\n",
            "Trainable params: 4,705,379\n",
            "Non-trainable params: 0\n",
            "_________________________________________________________________\n"
          ],
          "name": "stdout"
        }
      ]
    },
    {
      "cell_type": "code",
      "metadata": {
        "id": "knXfKSKy_RnS",
        "colab": {
          "base_uri": "https://localhost:8080/"
        },
        "outputId": "7e9fd7f2-6dab-4f70-bbec-ffca49625c90"
      },
      "source": [
        "t1 = time.time()\n",
        "hist_lstm = model_lstm.fit(X_train, y_train,\n",
        "                           batch_size=BATCH_SIZE,\n",
        "                           epochs=EPOCHS,\n",
        "                           validation_data=(X_val, y_val))\n",
        "t2 = time.time()\n",
        "t_lstm = t2 - t1\n",
        "\n",
        "t1 = time.time()\n",
        "hist_gru = model_gru.fit(X_train, y_train,\n",
        "                         batch_size=BATCH_SIZE,\n",
        "                         epochs=EPOCHS,\n",
        "                         validation_data=(X_val, y_val))\n",
        "t2 = time.time()\n",
        "t_gru = t2 - t1\n",
        "\n",
        "print(\"LSTM Training took:\", timedelta(seconds=t_lstm))\n",
        "print(\"GRU  Training took:\", timedelta(seconds=t_gru))"
      ],
      "execution_count": null,
      "outputs": [
        {
          "output_type": "stream",
          "text": [
            "Epoch 1/40\n",
            "10/10 [==============================] - 4s 136ms/step - loss: 4.2600 - accuracy: 0.0875 - val_loss: 3.3871 - val_accuracy: 0.1347\n",
            "Epoch 2/40\n",
            "10/10 [==============================] - 1s 85ms/step - loss: 3.3552 - accuracy: 0.1432 - val_loss: 3.2741 - val_accuracy: 0.1784\n",
            "Epoch 3/40\n",
            "10/10 [==============================] - 1s 85ms/step - loss: 3.2614 - accuracy: 0.1869 - val_loss: 3.2322 - val_accuracy: 0.1791\n",
            "Epoch 4/40\n",
            "10/10 [==============================] - 1s 85ms/step - loss: 3.2286 - accuracy: 0.1858 - val_loss: 3.2104 - val_accuracy: 0.1974\n",
            "Epoch 5/40\n",
            "10/10 [==============================] - 1s 85ms/step - loss: 3.2084 - accuracy: 0.2010 - val_loss: 3.1917 - val_accuracy: 0.2000\n",
            "Epoch 6/40\n",
            "10/10 [==============================] - 1s 85ms/step - loss: 3.1858 - accuracy: 0.1999 - val_loss: 3.1753 - val_accuracy: 0.2040\n",
            "Epoch 7/40\n",
            "10/10 [==============================] - 1s 85ms/step - loss: 3.1793 - accuracy: 0.2034 - val_loss: 3.1564 - val_accuracy: 0.2005\n",
            "Epoch 8/40\n",
            "10/10 [==============================] - 1s 86ms/step - loss: 3.1559 - accuracy: 0.1993 - val_loss: 3.1379 - val_accuracy: 0.2004\n",
            "Epoch 9/40\n",
            "10/10 [==============================] - 1s 85ms/step - loss: 3.1412 - accuracy: 0.2007 - val_loss: 3.1167 - val_accuracy: 0.2052\n",
            "Epoch 10/40\n",
            "10/10 [==============================] - 1s 85ms/step - loss: 3.1086 - accuracy: 0.2093 - val_loss: 3.0925 - val_accuracy: 0.2249\n",
            "Epoch 11/40\n",
            "10/10 [==============================] - 1s 85ms/step - loss: 3.0852 - accuracy: 0.2199 - val_loss: 3.0670 - val_accuracy: 0.2435\n",
            "Epoch 12/40\n",
            "10/10 [==============================] - 1s 86ms/step - loss: 3.0591 - accuracy: 0.2317 - val_loss: 3.0339 - val_accuracy: 0.2441\n",
            "Epoch 13/40\n",
            "10/10 [==============================] - 1s 86ms/step - loss: 3.0254 - accuracy: 0.2351 - val_loss: 2.9913 - val_accuracy: 0.2536\n",
            "Epoch 14/40\n",
            "10/10 [==============================] - 1s 87ms/step - loss: 2.9787 - accuracy: 0.2502 - val_loss: 2.9433 - val_accuracy: 0.2618\n",
            "Epoch 15/40\n",
            "10/10 [==============================] - 1s 86ms/step - loss: 2.9269 - accuracy: 0.2655 - val_loss: 2.8907 - val_accuracy: 0.2567\n",
            "Epoch 16/40\n",
            "10/10 [==============================] - 1s 85ms/step - loss: 2.8750 - accuracy: 0.2638 - val_loss: 2.8410 - val_accuracy: 0.2598\n",
            "Epoch 17/40\n",
            "10/10 [==============================] - 1s 85ms/step - loss: 2.8342 - accuracy: 0.2648 - val_loss: 2.8023 - val_accuracy: 0.2651\n",
            "Epoch 18/40\n",
            "10/10 [==============================] - 1s 86ms/step - loss: 2.7833 - accuracy: 0.2738 - val_loss: 2.7541 - val_accuracy: 0.2693\n",
            "Epoch 19/40\n",
            "10/10 [==============================] - 1s 87ms/step - loss: 2.7464 - accuracy: 0.2765 - val_loss: 2.7208 - val_accuracy: 0.2812\n",
            "Epoch 20/40\n",
            "10/10 [==============================] - 1s 86ms/step - loss: 2.7056 - accuracy: 0.2786 - val_loss: 2.7029 - val_accuracy: 0.2708\n",
            "Epoch 21/40\n",
            "10/10 [==============================] - 1s 85ms/step - loss: 2.6793 - accuracy: 0.2816 - val_loss: 2.6455 - val_accuracy: 0.2911\n",
            "Epoch 22/40\n",
            "10/10 [==============================] - 1s 86ms/step - loss: 2.6375 - accuracy: 0.2903 - val_loss: 2.6192 - val_accuracy: 0.2855\n",
            "Epoch 23/40\n",
            "10/10 [==============================] - 1s 86ms/step - loss: 2.6043 - accuracy: 0.2947 - val_loss: 2.5869 - val_accuracy: 0.2943\n",
            "Epoch 24/40\n",
            "10/10 [==============================] - 1s 86ms/step - loss: 2.5741 - accuracy: 0.2991 - val_loss: 2.5595 - val_accuracy: 0.2971\n",
            "Epoch 25/40\n",
            "10/10 [==============================] - 1s 86ms/step - loss: 2.5467 - accuracy: 0.3034 - val_loss: 2.5519 - val_accuracy: 0.3028\n",
            "Epoch 26/40\n",
            "10/10 [==============================] - 1s 86ms/step - loss: 2.5251 - accuracy: 0.3096 - val_loss: 2.5158 - val_accuracy: 0.3021\n",
            "Epoch 27/40\n",
            "10/10 [==============================] - 1s 85ms/step - loss: 2.5055 - accuracy: 0.3115 - val_loss: 2.4967 - val_accuracy: 0.3139\n",
            "Epoch 28/40\n",
            "10/10 [==============================] - 1s 86ms/step - loss: 2.4765 - accuracy: 0.3176 - val_loss: 2.4821 - val_accuracy: 0.3162\n",
            "Epoch 29/40\n",
            "10/10 [==============================] - 1s 87ms/step - loss: 2.4626 - accuracy: 0.3218 - val_loss: 2.4525 - val_accuracy: 0.3243\n",
            "Epoch 30/40\n",
            "10/10 [==============================] - 1s 86ms/step - loss: 2.4287 - accuracy: 0.3290 - val_loss: 2.4451 - val_accuracy: 0.3271\n",
            "Epoch 31/40\n",
            "10/10 [==============================] - 1s 86ms/step - loss: 2.4233 - accuracy: 0.3331 - val_loss: 2.4320 - val_accuracy: 0.3293\n",
            "Epoch 32/40\n",
            "10/10 [==============================] - 1s 86ms/step - loss: 2.4108 - accuracy: 0.3350 - val_loss: 2.4088 - val_accuracy: 0.3364\n",
            "Epoch 33/40\n",
            "10/10 [==============================] - 1s 86ms/step - loss: 2.3803 - accuracy: 0.3433 - val_loss: 2.3979 - val_accuracy: 0.3419\n",
            "Epoch 34/40\n",
            "10/10 [==============================] - 1s 86ms/step - loss: 2.3781 - accuracy: 0.3432 - val_loss: 2.3758 - val_accuracy: 0.3460\n",
            "Epoch 35/40\n",
            "10/10 [==============================] - 1s 86ms/step - loss: 2.3477 - accuracy: 0.3515 - val_loss: 2.3619 - val_accuracy: 0.3539\n",
            "Epoch 36/40\n",
            "10/10 [==============================] - 1s 87ms/step - loss: 2.3319 - accuracy: 0.3582 - val_loss: 2.3459 - val_accuracy: 0.3482\n",
            "Epoch 37/40\n",
            "10/10 [==============================] - 1s 87ms/step - loss: 2.3206 - accuracy: 0.3562 - val_loss: 2.3433 - val_accuracy: 0.3527\n",
            "Epoch 38/40\n",
            "10/10 [==============================] - 1s 87ms/step - loss: 2.3128 - accuracy: 0.3605 - val_loss: 2.3494 - val_accuracy: 0.3460\n",
            "Epoch 39/40\n",
            "10/10 [==============================] - 1s 86ms/step - loss: 2.3204 - accuracy: 0.3581 - val_loss: 2.3195 - val_accuracy: 0.3585\n",
            "Epoch 40/40\n",
            "10/10 [==============================] - 1s 87ms/step - loss: 2.2932 - accuracy: 0.3655 - val_loss: 2.3012 - val_accuracy: 0.3634\n",
            "Epoch 1/40\n",
            "10/10 [==============================] - 3s 130ms/step - loss: 4.2164 - accuracy: 0.0860 - val_loss: 3.3445 - val_accuracy: 0.1412\n",
            "Epoch 2/40\n",
            "10/10 [==============================] - 1s 86ms/step - loss: 3.3398 - accuracy: 0.1417 - val_loss: 3.2652 - val_accuracy: 0.2067\n",
            "Epoch 3/40\n",
            "10/10 [==============================] - 1s 87ms/step - loss: 3.2528 - accuracy: 0.1873 - val_loss: 3.2290 - val_accuracy: 0.1903\n",
            "Epoch 4/40\n",
            "10/10 [==============================] - 1s 87ms/step - loss: 3.2321 - accuracy: 0.1974 - val_loss: 3.2074 - val_accuracy: 0.2061\n",
            "Epoch 5/40\n",
            "10/10 [==============================] - 1s 87ms/step - loss: 3.2032 - accuracy: 0.2045 - val_loss: 3.1882 - val_accuracy: 0.2013\n",
            "Epoch 6/40\n",
            "10/10 [==============================] - 1s 86ms/step - loss: 3.1886 - accuracy: 0.2010 - val_loss: 3.1710 - val_accuracy: 0.1962\n",
            "Epoch 7/40\n",
            "10/10 [==============================] - 1s 86ms/step - loss: 3.1763 - accuracy: 0.1968 - val_loss: 3.1516 - val_accuracy: 0.2010\n",
            "Epoch 8/40\n",
            "10/10 [==============================] - 1s 86ms/step - loss: 3.1463 - accuracy: 0.2025 - val_loss: 3.1305 - val_accuracy: 0.2077\n",
            "Epoch 9/40\n",
            "10/10 [==============================] - 1s 87ms/step - loss: 3.1238 - accuracy: 0.2089 - val_loss: 3.1080 - val_accuracy: 0.2188\n",
            "Epoch 10/40\n",
            "10/10 [==============================] - 1s 86ms/step - loss: 3.1052 - accuracy: 0.2152 - val_loss: 3.0812 - val_accuracy: 0.2337\n",
            "Epoch 11/40\n",
            "10/10 [==============================] - 1s 87ms/step - loss: 3.0757 - accuracy: 0.2287 - val_loss: 3.0503 - val_accuracy: 0.2423\n",
            "Epoch 12/40\n",
            "10/10 [==============================] - 1s 86ms/step - loss: 3.0437 - accuracy: 0.2378 - val_loss: 3.0141 - val_accuracy: 0.2427\n",
            "Epoch 13/40\n",
            "10/10 [==============================] - 1s 86ms/step - loss: 3.0046 - accuracy: 0.2407 - val_loss: 2.9700 - val_accuracy: 0.2477\n",
            "Epoch 14/40\n",
            "10/10 [==============================] - 1s 86ms/step - loss: 2.9540 - accuracy: 0.2521 - val_loss: 2.9194 - val_accuracy: 0.2592\n",
            "Epoch 15/40\n",
            "10/10 [==============================] - 1s 87ms/step - loss: 2.9100 - accuracy: 0.2646 - val_loss: 2.8721 - val_accuracy: 0.2694\n",
            "Epoch 16/40\n",
            "10/10 [==============================] - 1s 86ms/step - loss: 2.8782 - accuracy: 0.2636 - val_loss: 2.8202 - val_accuracy: 0.2742\n",
            "Epoch 17/40\n",
            "10/10 [==============================] - 1s 86ms/step - loss: 2.8170 - accuracy: 0.2726 - val_loss: 2.7745 - val_accuracy: 0.2730\n",
            "Epoch 18/40\n",
            "10/10 [==============================] - 1s 85ms/step - loss: 2.7628 - accuracy: 0.2784 - val_loss: 2.7708 - val_accuracy: 0.2558\n",
            "Epoch 19/40\n",
            "10/10 [==============================] - 1s 86ms/step - loss: 2.7352 - accuracy: 0.2713 - val_loss: 2.6924 - val_accuracy: 0.2889\n",
            "Epoch 20/40\n",
            "10/10 [==============================] - 1s 86ms/step - loss: 2.6860 - accuracy: 0.2887 - val_loss: 2.6584 - val_accuracy: 0.2924\n",
            "Epoch 21/40\n",
            "10/10 [==============================] - 1s 86ms/step - loss: 2.6482 - accuracy: 0.2925 - val_loss: 2.6263 - val_accuracy: 0.2864\n",
            "Epoch 22/40\n",
            "10/10 [==============================] - 1s 86ms/step - loss: 2.6154 - accuracy: 0.2936 - val_loss: 2.6057 - val_accuracy: 0.2918\n",
            "Epoch 23/40\n",
            "10/10 [==============================] - 1s 86ms/step - loss: 2.5879 - accuracy: 0.2974 - val_loss: 2.5793 - val_accuracy: 0.2990\n",
            "Epoch 24/40\n",
            "10/10 [==============================] - 1s 86ms/step - loss: 2.5591 - accuracy: 0.3023 - val_loss: 2.5448 - val_accuracy: 0.3085\n",
            "Epoch 25/40\n",
            "10/10 [==============================] - 1s 86ms/step - loss: 2.5383 - accuracy: 0.3051 - val_loss: 2.5197 - val_accuracy: 0.3144\n",
            "Epoch 26/40\n",
            "10/10 [==============================] - 1s 85ms/step - loss: 2.5097 - accuracy: 0.3137 - val_loss: 2.6171 - val_accuracy: 0.2831\n",
            "Epoch 27/40\n",
            "10/10 [==============================] - 1s 86ms/step - loss: 2.5452 - accuracy: 0.3027 - val_loss: 2.5152 - val_accuracy: 0.3144\n",
            "Epoch 28/40\n",
            "10/10 [==============================] - 1s 86ms/step - loss: 2.4876 - accuracy: 0.3165 - val_loss: 2.4738 - val_accuracy: 0.3192\n",
            "Epoch 29/40\n",
            "10/10 [==============================] - 1s 86ms/step - loss: 2.4512 - accuracy: 0.3271 - val_loss: 2.4453 - val_accuracy: 0.3297\n",
            "Epoch 30/40\n",
            "10/10 [==============================] - 1s 86ms/step - loss: 2.4275 - accuracy: 0.3341 - val_loss: 2.4262 - val_accuracy: 0.3319\n",
            "Epoch 31/40\n",
            "10/10 [==============================] - 1s 86ms/step - loss: 2.3983 - accuracy: 0.3375 - val_loss: 2.4310 - val_accuracy: 0.3229\n",
            "Epoch 32/40\n",
            "10/10 [==============================] - 1s 85ms/step - loss: 2.3941 - accuracy: 0.3389 - val_loss: 2.3978 - val_accuracy: 0.3330\n",
            "Epoch 33/40\n",
            "10/10 [==============================] - 1s 86ms/step - loss: 2.3750 - accuracy: 0.3421 - val_loss: 2.3890 - val_accuracy: 0.3330\n",
            "Epoch 34/40\n",
            "10/10 [==============================] - 1s 86ms/step - loss: 2.3647 - accuracy: 0.3415 - val_loss: 2.3712 - val_accuracy: 0.3378\n",
            "Epoch 35/40\n",
            "10/10 [==============================] - 1s 86ms/step - loss: 2.3364 - accuracy: 0.3531 - val_loss: 2.3496 - val_accuracy: 0.3461\n",
            "Epoch 36/40\n",
            "10/10 [==============================] - 1s 86ms/step - loss: 2.3199 - accuracy: 0.3579 - val_loss: 2.3455 - val_accuracy: 0.3503\n",
            "Epoch 37/40\n",
            "10/10 [==============================] - 1s 85ms/step - loss: 2.3173 - accuracy: 0.3594 - val_loss: 2.3290 - val_accuracy: 0.3511\n",
            "Epoch 38/40\n",
            "10/10 [==============================] - 1s 86ms/step - loss: 2.2962 - accuracy: 0.3614 - val_loss: 2.3172 - val_accuracy: 0.3506\n",
            "Epoch 39/40\n",
            "10/10 [==============================] - 1s 86ms/step - loss: 2.2830 - accuracy: 0.3653 - val_loss: 2.3020 - val_accuracy: 0.3606\n",
            "Epoch 40/40\n",
            "10/10 [==============================] - 1s 86ms/step - loss: 2.2733 - accuracy: 0.3703 - val_loss: 2.2989 - val_accuracy: 0.3560\n",
            "LSTM Training took: 0:00:37.484226\n",
            "GRU  Training took: 0:00:35.711874\n"
          ],
          "name": "stdout"
        }
      ]
    },
    {
      "cell_type": "code",
      "metadata": {
        "id": "0HlKt70B_RnT",
        "colab": {
          "base_uri": "https://localhost:8080/",
          "height": 606
        },
        "outputId": "9c87533d-85ef-4cf5-8bf6-396009ec2b40"
      },
      "source": [
        "fig, ax = plt.subplots(1, 1)\n",
        "\n",
        "for n, h in [(\"simple rnn\", hist), (\"lstm\", hist_lstm), (\"gru\", hist_gru)]:\n",
        "\n",
        "    ax.plot(h.history[\"loss\"], label=f'{n} loss')\n",
        "    ax.plot(h.history[\"accuracy\"], label=f'{n} accuracy')\n",
        "    ax.plot(h.history[\"val_loss\"], label=f'{n} validation loss')\n",
        "    ax.plot(h.history[\"val_accuracy\"], label=f'{n} validation accuracy')\n",
        "\n",
        "ax.set_xlabel(\"Epoch\")\n",
        "ax.legend()\n",
        "\n",
        "fig.set_size_inches(20, 10)\n",
        "\n",
        "plt.show()"
      ],
      "execution_count": null,
      "outputs": [
        {
          "output_type": "display_data",
          "data": {
            "image/png": "[encoded data removed]",
            "text/plain": [
              "<Figure size 1440x720 with 1 Axes>"
            ]
          },
          "metadata": {
            "tags": [],
            "needs_background": "light"
          }
        }
      ]
    },
    {
      "cell_type": "markdown",
      "metadata": {
        "id": "pMWgGgRZ_RnT"
      },
      "source": [
        "## x.7 *Noch Optionaler* Ist das Netz jetzt ein Schriftsteller?\n",
        "\n",
        "Was müsste man ändern um nun ein ganzes Buch erstellen zu lassen? Glauben Sie das Ergebniss wäre lesbar?"
      ]
    },
    {
      "cell_type": "markdown",
      "metadata": {
        "id": "Wyhz--mz_RnT"
      },
      "source": [
        "Hierfür wollen wir wenn möglich beliebig viele Zeichen generieren, dabei den hidden state behalten und nicht konstant das bisher geschriebene als Input wieder einfügen. Deshalb nutzen wir hier eine eigene Klasse für das Netz, die dann die Layer enthält, aber aich den Hidden state zurück geben kann"
      ]
    },
    {
      "cell_type": "code",
      "metadata": {
        "id": "n2ZzbyYX_RnV"
      },
      "source": [
        "class CustomRNNModel(tf.keras.Model):\n",
        "    def __init__(self, vocab_size, rnn_units, rnn_layer_type = tf.keras.layers.GRU):\n",
        "        super().__init__(self)\n",
        "        # Put layers here. We will call them manually but store them here\n",
        "        self.rnn_layer = rnn_layer_type(rnn_units, return_sequences=True, return_state=True)\n",
        "        self.dense = tf.keras.layers.Dense(vocab_size, activation='softmax')\n",
        "\n",
        "    def call(self, inputs, states=None, return_state=False, training=False):\n",
        "        # Here we put our input through all out layers\n",
        "        x = tf.cast(inputs, dtype=float)\n",
        "        if states is None:\n",
        "            # Get an initial kind of empty state\n",
        "            states = self.rnn_layer.get_initial_state(x)\n",
        "        \n",
        "        x, states = self.rnn_layer(x, initial_state=states, training=training)\n",
        "        x = self.dense(x, training=training)\n",
        "\n",
        "        if return_state:\n",
        "            return x, states\n",
        "        else:\n",
        "            return x"
      ],
      "execution_count": null,
      "outputs": []
    },
    {
      "cell_type": "code",
      "metadata": {
        "id": "4fiFktPV_RnV",
        "colab": {
          "base_uri": "https://localhost:8080/"
        },
        "outputId": "6a3557a2-a746-482a-96b1-ad5f5991882e"
      },
      "source": [
        "literatur_model = CustomRNNModel(vocab_size=vocab_size, rnn_units=rnn_units)\n",
        "\n",
        "input_example_batch = X_train[0]\n",
        "input_example_batch = input_example_batch.reshape((1, *input_example_batch.shape))\n",
        "\n",
        "example_batch_predictions = literatur_model.predict(input_example_batch)\n",
        "print(input_example_batch.shape, y_train[0].shape, example_batch_predictions.shape)\n",
        "\n",
        "print(\"Test sequence:\", \"\\n\", \"-\" * 25, \"\\n\", untokenize(one_hot.decode(X_train[0])), \"\\n\", \"-\"*25)\n",
        "print(\"Expected result:\", \"\\n\", \"-\" * 25, \"\\n\", untokenize(one_hot.decode(y_train[0])), \"\\n\", \"-\"*25)\n",
        "print(\"Untrained prediction:\", \"\\n\", \"-\" * 25, \"\\n\", untokenize(one_hot.decode(example_batch_predictions[0])), \"\\n\", \"-\"*25)\n",
        "\n",
        "literatur_model.compile(loss='categorical_crossentropy', optimizer='adam', metrics=['accuracy'])\n",
        "\n",
        "literatur_model.summary()"
      ],
      "execution_count": null,
      "outputs": [
        {
          "output_type": "stream",
          "text": [
            "(1, 125, 99) (125, 99) (1, 125, 99)\n",
            "Test sequence: \n",
            " ------------------------- \n",
            "  für Medienkritik an – unter Einbeziehung der Leser. Auf seinem Blog schreibt Niggemeier, dass er zwar das Projekt Krautrepor \n",
            " -------------------------\n",
            "Expected result: \n",
            " ------------------------- \n",
            " für Medienkritik an – unter Einbeziehung der Leser. Auf seinem Blog schreibt Niggemeier, dass er zwar das Projekt Krautreport \n",
            " -------------------------\n",
            "Untrained prediction: \n",
            " ------------------------- \n",
            " R((Eá\",4;IǔǔE©bmnR\r\r\rER7\ry,áRáE\r@@P©@.7ǔ\rR4IáRfffIá@RR7NR(f@ǔIAR(wydRRBxEf@@DDX;;;áAIAIáb'4\r\n",
            "(RRáRPTpáá4gtRoEE8IǔbR\rEg7bEáIIE \n",
            " -------------------------\n",
            "Model: \"custom_rnn_model\"\n",
            "_________________________________________________________________\n",
            "Layer (type)                 Output Shape              Param #   \n",
            "=================================================================\n",
            "gru (GRU)                    multiple                  3456000   \n",
            "_________________________________________________________________\n",
            "dense (Dense)                multiple                  101475    \n",
            "=================================================================\n",
            "Total params: 3,557,475\n",
            "Trainable params: 3,557,475\n",
            "Non-trainable params: 0\n",
            "_________________________________________________________________\n"
          ],
          "name": "stdout"
        }
      ]
    },
    {
      "cell_type": "code",
      "metadata": {
        "id": "9QuI2o2c_RnV",
        "colab": {
          "base_uri": "https://localhost:8080/"
        },
        "outputId": "25a4c895-32f8-4769-872b-f9295e08e75e"
      },
      "source": [
        "t1 = time.time()\n",
        "hist_custom = literatur_model.fit(X_train, y_train,\n",
        "                           batch_size=BATCH_SIZE,\n",
        "                           epochs=EPOCHS,\n",
        "                           validation_data=(X_val, y_val))\n",
        "t2 = time.time()\n",
        "\n",
        "print(\"Training took:\", timedelta(seconds=t2-t1))"
      ],
      "execution_count": null,
      "outputs": [
        {
          "output_type": "stream",
          "text": [
            "Epoch 1/40\n",
            "10/10 [==============================] - 4s 269ms/step - loss: 4.5728 - accuracy: 0.1161 - val_loss: 4.3070 - val_accuracy: 0.1863\n",
            "Epoch 2/40\n",
            "10/10 [==============================] - 2s 231ms/step - loss: 4.1471 - accuracy: 0.1569 - val_loss: 3.3401 - val_accuracy: 0.1370\n",
            "Epoch 3/40\n",
            "10/10 [==============================] - 2s 225ms/step - loss: 3.2897 - accuracy: 0.1471 - val_loss: 3.1944 - val_accuracy: 0.2016\n",
            "Epoch 4/40\n",
            "10/10 [==============================] - 2s 244ms/step - loss: 3.1839 - accuracy: 0.1896 - val_loss: 3.1237 - val_accuracy: 0.2198\n",
            "Epoch 5/40\n",
            "10/10 [==============================] - 2s 243ms/step - loss: 3.1111 - accuracy: 0.2144 - val_loss: 3.0446 - val_accuracy: 0.2108\n",
            "Epoch 6/40\n",
            "10/10 [==============================] - 2s 235ms/step - loss: 3.0304 - accuracy: 0.2182 - val_loss: 2.9562 - val_accuracy: 0.2514\n",
            "Epoch 7/40\n",
            "10/10 [==============================] - 2s 231ms/step - loss: 2.9340 - accuracy: 0.2577 - val_loss: 2.8549 - val_accuracy: 0.2685\n",
            "Epoch 8/40\n",
            "10/10 [==============================] - 2s 219ms/step - loss: 2.8208 - accuracy: 0.2734 - val_loss: 2.7517 - val_accuracy: 0.2741\n",
            "Epoch 9/40\n",
            "10/10 [==============================] - 2s 225ms/step - loss: 2.7395 - accuracy: 0.2791 - val_loss: 2.6681 - val_accuracy: 0.2873\n",
            "Epoch 10/40\n",
            "10/10 [==============================] - 2s 231ms/step - loss: 2.6567 - accuracy: 0.2946 - val_loss: 2.6026 - val_accuracy: 0.3000\n",
            "Epoch 11/40\n",
            "10/10 [==============================] - 2s 225ms/step - loss: 2.5832 - accuracy: 0.3065 - val_loss: 2.5516 - val_accuracy: 0.3092\n",
            "Epoch 12/40\n",
            "10/10 [==============================] - 2s 230ms/step - loss: 2.5405 - accuracy: 0.3092 - val_loss: 2.5074 - val_accuracy: 0.3114\n",
            "Epoch 13/40\n",
            "10/10 [==============================] - 2s 234ms/step - loss: 2.4933 - accuracy: 0.3164 - val_loss: 2.4706 - val_accuracy: 0.3179\n",
            "Epoch 14/40\n",
            "10/10 [==============================] - 2s 224ms/step - loss: 2.4559 - accuracy: 0.3206 - val_loss: 2.4405 - val_accuracy: 0.3187\n",
            "Epoch 15/40\n",
            "10/10 [==============================] - 2s 245ms/step - loss: 2.4172 - accuracy: 0.3261 - val_loss: 2.4075 - val_accuracy: 0.3244\n",
            "Epoch 16/40\n",
            "10/10 [==============================] - 2s 232ms/step - loss: 2.3794 - accuracy: 0.3334 - val_loss: 2.3807 - val_accuracy: 0.3296\n",
            "Epoch 17/40\n",
            "10/10 [==============================] - 2s 229ms/step - loss: 2.3492 - accuracy: 0.3413 - val_loss: 2.3559 - val_accuracy: 0.3427\n",
            "Epoch 18/40\n",
            "10/10 [==============================] - 2s 224ms/step - loss: 2.3242 - accuracy: 0.3510 - val_loss: 2.3331 - val_accuracy: 0.3477\n",
            "Epoch 19/40\n",
            "10/10 [==============================] - 2s 224ms/step - loss: 2.3010 - accuracy: 0.3585 - val_loss: 2.3153 - val_accuracy: 0.3543\n",
            "Epoch 20/40\n",
            "10/10 [==============================] - 2s 221ms/step - loss: 2.2813 - accuracy: 0.3625 - val_loss: 2.2955 - val_accuracy: 0.3645\n",
            "Epoch 21/40\n",
            "10/10 [==============================] - 2s 236ms/step - loss: 2.2601 - accuracy: 0.3713 - val_loss: 2.2761 - val_accuracy: 0.3665\n",
            "Epoch 22/40\n",
            "10/10 [==============================] - 2s 231ms/step - loss: 2.2463 - accuracy: 0.3751 - val_loss: 2.2582 - val_accuracy: 0.3696\n",
            "Epoch 23/40\n",
            "10/10 [==============================] - 2s 235ms/step - loss: 2.2241 - accuracy: 0.3795 - val_loss: 2.2460 - val_accuracy: 0.3746\n",
            "Epoch 24/40\n",
            "10/10 [==============================] - 2s 230ms/step - loss: 2.2027 - accuracy: 0.3832 - val_loss: 2.2270 - val_accuracy: 0.3744\n",
            "Epoch 25/40\n",
            "10/10 [==============================] - 2s 226ms/step - loss: 2.1811 - accuracy: 0.3885 - val_loss: 2.2176 - val_accuracy: 0.3773\n",
            "Epoch 26/40\n",
            "10/10 [==============================] - 2s 230ms/step - loss: 2.1662 - accuracy: 0.3945 - val_loss: 2.1975 - val_accuracy: 0.3869\n",
            "Epoch 27/40\n",
            "10/10 [==============================] - 2s 234ms/step - loss: 2.1503 - accuracy: 0.3997 - val_loss: 2.1825 - val_accuracy: 0.3874\n",
            "Epoch 28/40\n",
            "10/10 [==============================] - 2s 228ms/step - loss: 2.1348 - accuracy: 0.4016 - val_loss: 2.1743 - val_accuracy: 0.3862\n",
            "Epoch 29/40\n",
            "10/10 [==============================] - 2s 235ms/step - loss: 2.1147 - accuracy: 0.4064 - val_loss: 2.1595 - val_accuracy: 0.3965\n",
            "Epoch 30/40\n",
            "10/10 [==============================] - 2s 225ms/step - loss: 2.0994 - accuracy: 0.4118 - val_loss: 2.1470 - val_accuracy: 0.3997\n",
            "Epoch 31/40\n",
            "10/10 [==============================] - 2s 231ms/step - loss: 2.0881 - accuracy: 0.4129 - val_loss: 2.1332 - val_accuracy: 0.4038\n",
            "Epoch 32/40\n",
            "10/10 [==============================] - 2s 225ms/step - loss: 2.0719 - accuracy: 0.4182 - val_loss: 2.1217 - val_accuracy: 0.4047\n",
            "Epoch 33/40\n",
            "10/10 [==============================] - 2s 225ms/step - loss: 2.0538 - accuracy: 0.4216 - val_loss: 2.1087 - val_accuracy: 0.4077\n",
            "Epoch 34/40\n",
            "10/10 [==============================] - 2s 231ms/step - loss: 2.0379 - accuracy: 0.4276 - val_loss: 2.1001 - val_accuracy: 0.4095\n",
            "Epoch 35/40\n",
            "10/10 [==============================] - 2s 236ms/step - loss: 2.0328 - accuracy: 0.4275 - val_loss: 2.0881 - val_accuracy: 0.4102\n",
            "Epoch 36/40\n",
            "10/10 [==============================] - 2s 226ms/step - loss: 2.0083 - accuracy: 0.4324 - val_loss: 2.0799 - val_accuracy: 0.4178\n",
            "Epoch 37/40\n",
            "10/10 [==============================] - 2s 230ms/step - loss: 1.9870 - accuracy: 0.4410 - val_loss: 2.0672 - val_accuracy: 0.4227\n",
            "Epoch 38/40\n",
            "10/10 [==============================] - 2s 223ms/step - loss: 1.9625 - accuracy: 0.4466 - val_loss: 2.0597 - val_accuracy: 0.4234\n",
            "Epoch 39/40\n",
            "10/10 [==============================] - 2s 221ms/step - loss: 1.9525 - accuracy: 0.4479 - val_loss: 2.0480 - val_accuracy: 0.4268\n",
            "Epoch 40/40\n",
            "10/10 [==============================] - 2s 223ms/step - loss: 1.9257 - accuracy: 0.4547 - val_loss: 2.0380 - val_accuracy: 0.4308\n",
            "Training took: 0:01:33.162480\n"
          ],
          "name": "stdout"
        }
      ]
    },
    {
      "cell_type": "code",
      "metadata": {
        "id": "JYhQtFyT_RnW",
        "colab": {
          "base_uri": "https://localhost:8080/",
          "height": 606
        },
        "outputId": "f9454f34-a5b8-4329-ebf4-7f15a0d9ff42"
      },
      "source": [
        "fig, ax = plt.subplots(1, 1)\n",
        "\n",
        "ax.plot(hist_custom.history[\"loss\"], label='loss')\n",
        "ax.plot(hist_custom.history[\"accuracy\"], label='accuracy')\n",
        "ax.plot(hist_custom.history[\"val_loss\"], label='validation loss')\n",
        "ax.plot(hist_custom.history[\"val_accuracy\"], label='validation accuracy')\n",
        "ax.set_xlabel(\"Epoch\")\n",
        "ax.legend()\n",
        "\n",
        "fig.set_size_inches(20, 10)\n",
        "\n",
        "plt.show()"
      ],
      "execution_count": null,
      "outputs": [
        {
          "output_type": "display_data",
          "data": {
            "image/png": "[encoded data removed]",
            "text/plain": [
              "<Figure size 1440x720 with 1 Axes>"
            ]
          },
          "metadata": {
            "tags": [],
            "needs_background": "light"
          }
        }
      ]
    },
    {
      "cell_type": "code",
      "metadata": {
        "id": "QE7snkJg_RnW"
      },
      "source": [
        "def create_text(amount_symbols, init_text, text_model):    \n",
        "    # Tokenize text\n",
        "    ret = tokenize(init_text)\n",
        "    \n",
        "    states = None\n",
        "    current_char = one_hot.encode(ret, dtype=float)\n",
        "    # For some reason we have to add one dimension\n",
        "    current_char = current_char.reshape(1, *current_char.shape)\n",
        "    \n",
        "    for i in range(amount_symbols):\n",
        "        current_char, states = text_model(current_char, return_state = True, states = states)\n",
        "        # Only add last char if several got \n",
        "        ret.append(one_hot.decode(current_char[0])[-1])\n",
        "        \n",
        "    return untokenize(ret)\n",
        "    "
      ],
      "execution_count": null,
      "outputs": []
    },
    {
      "cell_type": "code",
      "metadata": {
        "id": "QWQ-b8AS_RnW",
        "colab": {
          "base_uri": "https://localhost:8080/"
        },
        "outputId": "f7402af6-7a54-433d-d49a-507de1bc3461"
      },
      "source": [
        "created_text = create_text(250, \"Sport\", literatur_model)\n",
        "\n",
        "print(created_text)"
      ],
      "execution_count": null,
      "outputs": [
        {
          "output_type": "stream",
          "text": [
            "Sporten ieie e et ieie e  i in n n ne in nenene en neneneneneneneneneneieie eteieie e et i in n ne in n nene en nenenenen neneneneneieie eteieieie et i in n ne i en nene en nenenenen neneneneneneie eteieieie et i ie n ne i en n ne en nenene en nenenenenen\n"
          ],
          "name": "stdout"
        }
      ]
    },
    {
      "cell_type": "code",
      "metadata": {
        "id": "w6mdZV36_RnW"
      },
      "source": [
        ""
      ],
      "execution_count": null,
      "outputs": []
    }
  ]
}