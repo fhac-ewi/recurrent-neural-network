{
 "cells": [
  {
   "cell_type": "markdown",
   "id": "e7e39a40-adc3-46b2-b673-d4805b30400e",
   "metadata": {},
   "source": [
    "This is just a test"
   ]
  },
  {
   "cell_type": "code",
   "execution_count": 1,
   "id": "7b64915f-ae26-400a-9dc5-d9588f0dd7b1",
   "metadata": {
    "execution": {
     "iopub.execute_input": "2021-05-04T16:32:54.078458Z",
     "iopub.status.busy": "2021-05-04T16:32:54.078052Z",
     "iopub.status.idle": "2021-05-04T16:32:56.063199Z",
     "shell.execute_reply": "2021-05-04T16:32:56.062123Z",
     "shell.execute_reply.started": "2021-05-04T16:32:54.078348Z"
    },
    "tags": []
   },
   "outputs": [],
   "source": [
    "from keras.models import Sequential, Model\n",
    "from keras.layers import LSTM, GRU, SimpleRNN, RepeatVector, TimeDistributed, Dense, Input, Lambda\n",
    "import keras.backend as K\n",
    "import numpy as np\n",
    "import matplotlib.pyplot as plt\n",
    "from sklearn.model_selection import train_test_split"
   ]
  },
  {
   "cell_type": "code",
   "execution_count": 2,
   "id": "41e1f799-b20b-474f-92e8-f74c84f5317f",
   "metadata": {
    "execution": {
     "iopub.execute_input": "2021-05-04T16:32:56.064568Z",
     "iopub.status.busy": "2021-05-04T16:32:56.064362Z",
     "iopub.status.idle": "2021-05-04T16:32:56.068519Z",
     "shell.execute_reply": "2021-05-04T16:32:56.067601Z",
     "shell.execute_reply.started": "2021-05-04T16:32:56.064545Z"
    },
    "tags": []
   },
   "outputs": [],
   "source": [
    "ALPHABET = '0123456789- '\n",
    "DIGITS = 3\n",
    "TRAINING_SERIES_LEN = 3"
   ]
  },
  {
   "cell_type": "code",
   "execution_count": 3,
   "id": "ecad2dab-d513-4986-a42c-e3d2c67acca0",
   "metadata": {
    "execution": {
     "iopub.execute_input": "2021-05-04T16:32:56.069485Z",
     "iopub.status.busy": "2021-05-04T16:32:56.069317Z",
     "iopub.status.idle": "2021-05-04T16:32:56.079772Z",
     "shell.execute_reply": "2021-05-04T16:32:56.079062Z",
     "shell.execute_reply.started": "2021-05-04T16:32:56.069464Z"
    },
    "tags": []
   },
   "outputs": [],
   "source": [
    "HIDDEN_SIZE = 256\n",
    "EPOCHS = 50\n",
    "ALPHABET_LENGTH = len(ALPHABET)\n",
    "MAXLEN = (DIGITS + 1) * TRAINING_SERIES_LEN + (TRAINING_SERIES_LEN - 1) "
   ]
  },
  {
   "cell_type": "code",
   "execution_count": 4,
   "id": "efb5a51e-a558-4d2a-b360-8a39ad9d4058",
   "metadata": {
    "execution": {
     "iopub.execute_input": "2021-05-04T16:32:56.081352Z",
     "iopub.status.busy": "2021-05-04T16:32:56.081059Z",
     "iopub.status.idle": "2021-05-04T16:32:56.092050Z",
     "shell.execute_reply": "2021-05-04T16:32:56.091148Z",
     "shell.execute_reply.started": "2021-05-04T16:32:56.081318Z"
    },
    "tags": []
   },
   "outputs": [],
   "source": [
    "class OneHot(object):\n",
    "    def __init__(self, characters):\n",
    "        self.chars = sorted(set(characters))\n",
    "        self.char_to_index = dict((char, i) for i, char in enumerate(self.chars))\n",
    "        self.index_to_char = dict((i, char) for i, char in enumerate(self.chars))\n",
    "\n",
    "    def encode(self, string, length):\n",
    "        enc = np.zeros((length, len(self.chars)))\n",
    "        for i, char in enumerate(string):\n",
    "            enc[i, self.char_to_index[char]] = 1\n",
    "        for i in range(len(string), length):\n",
    "            enc[i, self.char_to_index[' ']] = 1\n",
    "        return enc\n",
    "    \n",
    "    def decode(self, mat):            \n",
    "        return \"\".join([self.decode_line(mat[x]) for x in range(mat.shape[0])])\n",
    "    \n",
    "    def decode_line(self, vec):\n",
    "        return self.index_to_char[np.argmax(vec)]"
   ]
  },
  {
   "cell_type": "code",
   "execution_count": 5,
   "id": "bf8c0c72-8c83-4693-bb43-cafc16749ec4",
   "metadata": {
    "execution": {
     "iopub.execute_input": "2021-05-04T16:32:56.093146Z",
     "iopub.status.busy": "2021-05-04T16:32:56.092944Z",
     "iopub.status.idle": "2021-05-04T16:32:56.100049Z",
     "shell.execute_reply": "2021-05-04T16:32:56.099487Z",
     "shell.execute_reply.started": "2021-05-04T16:32:56.093123Z"
    },
    "tags": []
   },
   "outputs": [],
   "source": [
    "def create_data(size, train_series_len, max_exp=3, min_factor=-9, max_factor=9, digits=DIGITS):\n",
    "    X = []\n",
    "    y = []\n",
    "    hist = []\n",
    "    max_value = 10 ** digits - 1\n",
    "    min_value = -max_value\n",
    "    value_store = set()\n",
    "    while len(X) < size:\n",
    "        max_exp = np.random.randint(low=1, high=max_exp + 1)\n",
    "        factors = np.random.randint(low=min_factor, high=max_factor + 1, size=max_exp + 1)\n",
    "        \n",
    "        fun = lambda _i: sum(f * (_i ** x) for x, f in enumerate(factors))\n",
    "        \n",
    "        series = tuple(fun(i) for i in range(train_series_len + 1))\n",
    "        \n",
    "        if not series in value_store and all(min_value <= x <= max_value for x in series):\n",
    "            X.append(\" \".join([str(x) for x in series[:-1]]))\n",
    "            y.append(str(series[-1]))\n",
    "        \n",
    "    return X, y"
   ]
  },
  {
   "cell_type": "code",
   "execution_count": 6,
   "id": "aff71c2e-77a5-46df-8f8c-5f629852ac68",
   "metadata": {
    "execution": {
     "iopub.execute_input": "2021-05-04T16:32:56.100984Z",
     "iopub.status.busy": "2021-05-04T16:32:56.100805Z",
     "iopub.status.idle": "2021-05-04T16:33:02.414018Z",
     "shell.execute_reply": "2021-05-04T16:33:02.413048Z",
     "shell.execute_reply.started": "2021-05-04T16:32:56.100963Z"
    },
    "tags": []
   },
   "outputs": [
    {
     "name": "stdout",
     "output_type": "stream",
     "text": [
      "Created 100000 data points\n"
     ]
    }
   ],
   "source": [
    "X, y = create_data(100000, TRAINING_SERIES_LEN)\n",
    "\n",
    "encoder = OneHot(ALPHABET)\n",
    "for i in range(len(X)):\n",
    "    X[i] = encoder.encode(X[i], MAXLEN)\n",
    "    y[i] = encoder.encode(y[i], DIGITS + 1)\n",
    "    \n",
    "print(f\"Created {len(X)} data points\")"
   ]
  },
  {
   "cell_type": "code",
   "execution_count": 7,
   "id": "f46c7294-e52c-42e2-b9e2-f33d87a23c43",
   "metadata": {
    "execution": {
     "iopub.execute_input": "2021-05-04T16:33:02.418002Z",
     "iopub.status.busy": "2021-05-04T16:33:02.417610Z",
     "iopub.status.idle": "2021-05-04T16:33:02.665963Z",
     "shell.execute_reply": "2021-05-04T16:33:02.665113Z",
     "shell.execute_reply.started": "2021-05-04T16:33:02.417957Z"
    },
    "tags": []
   },
   "outputs": [
    {
     "name": "stdout",
     "output_type": "stream",
     "text": [
      "X_train: (80000, 14, 12)\n",
      "y_train: (80000, 4, 12)\n",
      "X_val  : (20000, 14, 12)\n",
      "y_val  : (20000, 4, 12)\n"
     ]
    }
   ],
   "source": [
    "X = np.array(X)\n",
    "y = np.array(y)\n",
    "X_train, X_val, y_train, y_val = train_test_split(X, y, test_size=0.2)\n",
    "\n",
    "print(\"X_train:\", X_train.shape)\n",
    "print(\"y_train:\", y_train.shape)\n",
    "print(\"X_val  :\", X_val.shape)\n",
    "print(\"y_val  :\", y_val.shape)"
   ]
  },
  {
   "cell_type": "code",
   "execution_count": 8,
   "id": "1c292cdf-c1f5-40c7-ac07-bcf67bf32bca",
   "metadata": {
    "execution": {
     "iopub.execute_input": "2021-05-04T16:33:02.667592Z",
     "iopub.status.busy": "2021-05-04T16:33:02.667334Z",
     "iopub.status.idle": "2021-05-04T16:33:02.673539Z",
     "shell.execute_reply": "2021-05-04T16:33:02.672827Z",
     "shell.execute_reply.started": "2021-05-04T16:33:02.667559Z"
    },
    "tags": []
   },
   "outputs": [
    {
     "name": "stdout",
     "output_type": "stream",
     "text": [
      "(14, 12)\n"
     ]
    }
   ],
   "source": [
    "lstn_input_shape = (MAXLEN, ALPHABET_LENGTH)\n",
    "print(lstn_input_shape)\n",
    "\n",
    "def create_model():\n",
    "\n",
    "    _model = Sequential()\n",
    "    _model.add(LSTM(HIDDEN_SIZE, input_shape=lstn_input_shape)) # Encoder\n",
    "    _model.add(RepeatVector(DIGITS + 1))  # Stellt dem RNN im nächsten Schritt die Ausgabe des vorherigen bereit\n",
    "    _model.add(LSTM(HIDDEN_SIZE, return_sequences=True)) # Decoder\n",
    "    _model.add(TimeDistributed(Dense(ALPHABET_LENGTH, activation='softmax'))) # Wendet eine `Dense` Schicht auf jede Ausgabe des Decoders an\n",
    "                                    # und ermittelt mittels 'softmax'-Funktion die Auswahlwahrscheinlichkeiten der Zeichen\n",
    "    _model.compile(loss='categorical_crossentropy', optimizer='adam', metrics=['accuracy'])\n",
    "    \n",
    "    return _model"
   ]
  },
  {
   "cell_type": "code",
   "execution_count": 9,
   "id": "b818a506-6168-4676-a5f9-8360ecc736ab",
   "metadata": {
    "execution": {
     "iopub.execute_input": "2021-05-04T16:33:02.675000Z",
     "iopub.status.busy": "2021-05-04T16:33:02.674707Z",
     "iopub.status.idle": "2021-05-04T16:33:02.682646Z",
     "shell.execute_reply": "2021-05-04T16:33:02.681698Z",
     "shell.execute_reply.started": "2021-05-04T16:33:02.674963Z"
    },
    "tags": []
   },
   "outputs": [],
   "source": [
    "class colors:\n",
    "    ok = '\\033[92m'\n",
    "    fail = '\\033[91m'\n",
    "    close = '\\033[0m'"
   ]
  },
  {
   "cell_type": "code",
   "execution_count": 10,
   "id": "e610d4df-696e-453d-a23b-8b4470bf3c2e",
   "metadata": {
    "execution": {
     "iopub.execute_input": "2021-05-04T16:33:02.684137Z",
     "iopub.status.busy": "2021-05-04T16:33:02.683860Z",
     "iopub.status.idle": "2021-05-04T16:33:02.695546Z",
     "shell.execute_reply": "2021-05-04T16:33:02.694916Z",
     "shell.execute_reply.started": "2021-05-04T16:33:02.684103Z"
    },
    "tags": []
   },
   "outputs": [],
   "source": [
    "def train(model, X_train, y_train, X_val, y_val, encoder, epochs):\n",
    "    loss, acc, val_loss, val_acc = [], [], [], []\n",
    "    for iteration in range(1, epochs + 1):\n",
    "        print('-' * 50)\n",
    "        print('Iteration', iteration)\n",
    "        hist = model.fit(X_train, y_train,\n",
    "                  batch_size=1000,\n",
    "                  epochs=1,\n",
    "                  validation_data=(X_val, y_val))\n",
    "        loss.append(hist.history['loss'])\n",
    "        acc.append(hist.history['accuracy'])\n",
    "        val_loss.append(hist.history['val_loss'])\n",
    "        val_acc.append(hist.history['val_accuracy'])\n",
    "        if iteration % 5 == 0:\n",
    "            for i in range(10):\n",
    "                ind = np.random.randint(0, X_val.shape[0])\n",
    "                rowx, rowy = X_val[ind], y_val[ind]\n",
    "                strx = ''\n",
    "                for seqx in rowx:\n",
    "                    strx += encoder.decode_max(seqx)\n",
    "                stry = ''\n",
    "                for seqy in rowy:\n",
    "                    stry += encoder.decode_max(seqy)\n",
    "                preds = model.predict_classes([[rowx]], verbose=0)\n",
    "                strpred = ''\n",
    "                for p in preds[0]:\n",
    "                    strpred += encoder.index_to_char[p]\n",
    "                if stry.strip() == strpred.strip():\n",
    "                    print('{}{} = {} ☑ {}{}'.format(colors.ok, strx, stry, strpred, colors.close))\n",
    "                else:\n",
    "                    print('{}{} = {} ☒ {}{}'.format(colors.fail, strx, stry, strpred, colors.close))\n",
    "    return loss, acc, val_loss, val_acc"
   ]
  },
  {
   "cell_type": "code",
   "execution_count": 11,
   "id": "d2e53b68-0d82-4112-901a-a6f9838a6830",
   "metadata": {
    "execution": {
     "iopub.execute_input": "2021-05-04T16:33:02.696724Z",
     "iopub.status.busy": "2021-05-04T16:33:02.696510Z",
     "iopub.status.idle": "2021-05-04T16:34:46.918735Z",
     "shell.execute_reply": "2021-05-04T16:34:46.916199Z",
     "shell.execute_reply.started": "2021-05-04T16:33:02.696702Z"
    },
    "tags": []
   },
   "outputs": [
    {
     "name": "stdout",
     "output_type": "stream",
     "text": [
      "Training model:\n",
      "Model: \"sequential\"\n",
      "_________________________________________________________________\n",
      "Layer (type)                 Output Shape              Param #   \n",
      "=================================================================\n",
      "lstm (LSTM)                  (None, 256)               275456    \n",
      "_________________________________________________________________\n",
      "repeat_vector (RepeatVector) (None, 4, 256)            0         \n",
      "_________________________________________________________________\n",
      "lstm_1 (LSTM)                (None, 4, 256)            525312    \n",
      "_________________________________________________________________\n",
      "time_distributed (TimeDistri (None, 4, 12)             3084      \n",
      "=================================================================\n",
      "Total params: 803,852\n",
      "Trainable params: 803,852\n",
      "Non-trainable params: 0\n",
      "_________________________________________________________________\n",
      "None\n",
      "--------------------------------------------------\n",
      "Iteration 1\n",
      "80/80 [==============================] - 90s 1s/step - loss: 1.7197 - accuracy: 0.4515 - val_loss: 1.1420 - val_accuracy: 0.6397\n",
      "--------------------------------------------------\n",
      "Iteration 2\n",
      "12/80 [===>..........................] - ETA: 1:07 - loss: 1.0970 - accuracy: 0.6401"
     ]
    },
    {
     "ename": "KeyboardInterrupt",
     "evalue": "",
     "output_type": "error",
     "traceback": [
      "\u001b[0;31m---------------------------------------------------------------------------\u001b[0m",
      "\u001b[0;31mKeyboardInterrupt\u001b[0m                         Traceback (most recent call last)",
      "\u001b[0;32m<ipython-input-11-370c6eab6d9a>\u001b[0m in \u001b[0;36m<module>\u001b[0;34m\u001b[0m\n\u001b[1;32m      4\u001b[0m \u001b[0mprint\u001b[0m\u001b[0;34m(\u001b[0m\u001b[0mmodel\u001b[0m\u001b[0;34m.\u001b[0m\u001b[0msummary\u001b[0m\u001b[0;34m(\u001b[0m\u001b[0;34m)\u001b[0m\u001b[0;34m)\u001b[0m\u001b[0;34m\u001b[0m\u001b[0;34m\u001b[0m\u001b[0m\n\u001b[1;32m      5\u001b[0m \u001b[0;34m\u001b[0m\u001b[0m\n\u001b[0;32m----> 6\u001b[0;31m \u001b[0mloss\u001b[0m\u001b[0;34m,\u001b[0m \u001b[0macc\u001b[0m\u001b[0;34m,\u001b[0m \u001b[0mval_loss\u001b[0m\u001b[0;34m,\u001b[0m \u001b[0mval_acc\u001b[0m \u001b[0;34m=\u001b[0m \u001b[0mtrain\u001b[0m\u001b[0;34m(\u001b[0m\u001b[0mmodel\u001b[0m\u001b[0;34m,\u001b[0m \u001b[0mX_train\u001b[0m\u001b[0;34m,\u001b[0m \u001b[0my_train\u001b[0m\u001b[0;34m,\u001b[0m \u001b[0mX_val\u001b[0m\u001b[0;34m,\u001b[0m \u001b[0my_val\u001b[0m\u001b[0;34m,\u001b[0m \u001b[0mencoder\u001b[0m\u001b[0;34m,\u001b[0m \u001b[0mEPOCHS\u001b[0m\u001b[0;34m)\u001b[0m\u001b[0;34m\u001b[0m\u001b[0;34m\u001b[0m\u001b[0m\n\u001b[0m",
      "\u001b[0;32m<ipython-input-10-11b28c134fc7>\u001b[0m in \u001b[0;36mtrain\u001b[0;34m(model, X_train, y_train, X_val, y_val, encoder, epochs)\u001b[0m\n\u001b[1;32m      4\u001b[0m         \u001b[0mprint\u001b[0m\u001b[0;34m(\u001b[0m\u001b[0;34m'-'\u001b[0m \u001b[0;34m*\u001b[0m \u001b[0;36m50\u001b[0m\u001b[0;34m)\u001b[0m\u001b[0;34m\u001b[0m\u001b[0;34m\u001b[0m\u001b[0m\n\u001b[1;32m      5\u001b[0m         \u001b[0mprint\u001b[0m\u001b[0;34m(\u001b[0m\u001b[0;34m'Iteration'\u001b[0m\u001b[0;34m,\u001b[0m \u001b[0miteration\u001b[0m\u001b[0;34m)\u001b[0m\u001b[0;34m\u001b[0m\u001b[0;34m\u001b[0m\u001b[0m\n\u001b[0;32m----> 6\u001b[0;31m         hist = model.fit(X_train, y_train,\n\u001b[0m\u001b[1;32m      7\u001b[0m                   \u001b[0mbatch_size\u001b[0m\u001b[0;34m=\u001b[0m\u001b[0;36m1000\u001b[0m\u001b[0;34m,\u001b[0m\u001b[0;34m\u001b[0m\u001b[0;34m\u001b[0m\u001b[0m\n\u001b[1;32m      8\u001b[0m                   \u001b[0mepochs\u001b[0m\u001b[0;34m=\u001b[0m\u001b[0;36m1\u001b[0m\u001b[0;34m,\u001b[0m\u001b[0;34m\u001b[0m\u001b[0;34m\u001b[0m\u001b[0m\n",
      "\u001b[0;32m~/anaconda3/envs/MLWorkbooks/lib/python3.8/site-packages/tensorflow/python/keras/engine/training.py\u001b[0m in \u001b[0;36mfit\u001b[0;34m(self, x, y, batch_size, epochs, verbose, callbacks, validation_split, validation_data, shuffle, class_weight, sample_weight, initial_epoch, steps_per_epoch, validation_steps, validation_batch_size, validation_freq, max_queue_size, workers, use_multiprocessing)\u001b[0m\n\u001b[1;32m   1098\u001b[0m                 _r=1):\n\u001b[1;32m   1099\u001b[0m               \u001b[0mcallbacks\u001b[0m\u001b[0;34m.\u001b[0m\u001b[0mon_train_batch_begin\u001b[0m\u001b[0;34m(\u001b[0m\u001b[0mstep\u001b[0m\u001b[0;34m)\u001b[0m\u001b[0;34m\u001b[0m\u001b[0;34m\u001b[0m\u001b[0m\n\u001b[0;32m-> 1100\u001b[0;31m               \u001b[0mtmp_logs\u001b[0m \u001b[0;34m=\u001b[0m \u001b[0mself\u001b[0m\u001b[0;34m.\u001b[0m\u001b[0mtrain_function\u001b[0m\u001b[0;34m(\u001b[0m\u001b[0miterator\u001b[0m\u001b[0;34m)\u001b[0m\u001b[0;34m\u001b[0m\u001b[0;34m\u001b[0m\u001b[0m\n\u001b[0m\u001b[1;32m   1101\u001b[0m               \u001b[0;32mif\u001b[0m \u001b[0mdata_handler\u001b[0m\u001b[0;34m.\u001b[0m\u001b[0mshould_sync\u001b[0m\u001b[0;34m:\u001b[0m\u001b[0;34m\u001b[0m\u001b[0;34m\u001b[0m\u001b[0m\n\u001b[1;32m   1102\u001b[0m                 \u001b[0mcontext\u001b[0m\u001b[0;34m.\u001b[0m\u001b[0masync_wait\u001b[0m\u001b[0;34m(\u001b[0m\u001b[0;34m)\u001b[0m\u001b[0;34m\u001b[0m\u001b[0;34m\u001b[0m\u001b[0m\n",
      "\u001b[0;32m~/anaconda3/envs/MLWorkbooks/lib/python3.8/site-packages/tensorflow/python/eager/def_function.py\u001b[0m in \u001b[0;36m__call__\u001b[0;34m(self, *args, **kwds)\u001b[0m\n\u001b[1;32m    826\u001b[0m     \u001b[0mtracing_count\u001b[0m \u001b[0;34m=\u001b[0m \u001b[0mself\u001b[0m\u001b[0;34m.\u001b[0m\u001b[0mexperimental_get_tracing_count\u001b[0m\u001b[0;34m(\u001b[0m\u001b[0;34m)\u001b[0m\u001b[0;34m\u001b[0m\u001b[0;34m\u001b[0m\u001b[0m\n\u001b[1;32m    827\u001b[0m     \u001b[0;32mwith\u001b[0m \u001b[0mtrace\u001b[0m\u001b[0;34m.\u001b[0m\u001b[0mTrace\u001b[0m\u001b[0;34m(\u001b[0m\u001b[0mself\u001b[0m\u001b[0;34m.\u001b[0m\u001b[0m_name\u001b[0m\u001b[0;34m)\u001b[0m \u001b[0;32mas\u001b[0m \u001b[0mtm\u001b[0m\u001b[0;34m:\u001b[0m\u001b[0;34m\u001b[0m\u001b[0;34m\u001b[0m\u001b[0m\n\u001b[0;32m--> 828\u001b[0;31m       \u001b[0mresult\u001b[0m \u001b[0;34m=\u001b[0m \u001b[0mself\u001b[0m\u001b[0;34m.\u001b[0m\u001b[0m_call\u001b[0m\u001b[0;34m(\u001b[0m\u001b[0;34m*\u001b[0m\u001b[0margs\u001b[0m\u001b[0;34m,\u001b[0m \u001b[0;34m**\u001b[0m\u001b[0mkwds\u001b[0m\u001b[0;34m)\u001b[0m\u001b[0;34m\u001b[0m\u001b[0;34m\u001b[0m\u001b[0m\n\u001b[0m\u001b[1;32m    829\u001b[0m       \u001b[0mcompiler\u001b[0m \u001b[0;34m=\u001b[0m \u001b[0;34m\"xla\"\u001b[0m \u001b[0;32mif\u001b[0m \u001b[0mself\u001b[0m\u001b[0;34m.\u001b[0m\u001b[0m_experimental_compile\u001b[0m \u001b[0;32melse\u001b[0m \u001b[0;34m\"nonXla\"\u001b[0m\u001b[0;34m\u001b[0m\u001b[0;34m\u001b[0m\u001b[0m\n\u001b[1;32m    830\u001b[0m       \u001b[0mnew_tracing_count\u001b[0m \u001b[0;34m=\u001b[0m \u001b[0mself\u001b[0m\u001b[0;34m.\u001b[0m\u001b[0mexperimental_get_tracing_count\u001b[0m\u001b[0;34m(\u001b[0m\u001b[0;34m)\u001b[0m\u001b[0;34m\u001b[0m\u001b[0;34m\u001b[0m\u001b[0m\n",
      "\u001b[0;32m~/anaconda3/envs/MLWorkbooks/lib/python3.8/site-packages/tensorflow/python/eager/def_function.py\u001b[0m in \u001b[0;36m_call\u001b[0;34m(self, *args, **kwds)\u001b[0m\n\u001b[1;32m    853\u001b[0m       \u001b[0;31m# In this case we have created variables on the first call, so we run the\u001b[0m\u001b[0;34m\u001b[0m\u001b[0;34m\u001b[0m\u001b[0;34m\u001b[0m\u001b[0m\n\u001b[1;32m    854\u001b[0m       \u001b[0;31m# defunned version which is guaranteed to never create variables.\u001b[0m\u001b[0;34m\u001b[0m\u001b[0;34m\u001b[0m\u001b[0;34m\u001b[0m\u001b[0m\n\u001b[0;32m--> 855\u001b[0;31m       \u001b[0;32mreturn\u001b[0m \u001b[0mself\u001b[0m\u001b[0;34m.\u001b[0m\u001b[0m_stateless_fn\u001b[0m\u001b[0;34m(\u001b[0m\u001b[0;34m*\u001b[0m\u001b[0margs\u001b[0m\u001b[0;34m,\u001b[0m \u001b[0;34m**\u001b[0m\u001b[0mkwds\u001b[0m\u001b[0;34m)\u001b[0m  \u001b[0;31m# pylint: disable=not-callable\u001b[0m\u001b[0;34m\u001b[0m\u001b[0;34m\u001b[0m\u001b[0m\n\u001b[0m\u001b[1;32m    856\u001b[0m     \u001b[0;32melif\u001b[0m \u001b[0mself\u001b[0m\u001b[0;34m.\u001b[0m\u001b[0m_stateful_fn\u001b[0m \u001b[0;32mis\u001b[0m \u001b[0;32mnot\u001b[0m \u001b[0;32mNone\u001b[0m\u001b[0;34m:\u001b[0m\u001b[0;34m\u001b[0m\u001b[0;34m\u001b[0m\u001b[0m\n\u001b[1;32m    857\u001b[0m       \u001b[0;31m# Release the lock early so that multiple threads can perform the call\u001b[0m\u001b[0;34m\u001b[0m\u001b[0;34m\u001b[0m\u001b[0;34m\u001b[0m\u001b[0m\n",
      "\u001b[0;32m~/anaconda3/envs/MLWorkbooks/lib/python3.8/site-packages/tensorflow/python/eager/function.py\u001b[0m in \u001b[0;36m__call__\u001b[0;34m(self, *args, **kwargs)\u001b[0m\n\u001b[1;32m   2940\u001b[0m       (graph_function,\n\u001b[1;32m   2941\u001b[0m        filtered_flat_args) = self._maybe_define_function(args, kwargs)\n\u001b[0;32m-> 2942\u001b[0;31m     return graph_function._call_flat(\n\u001b[0m\u001b[1;32m   2943\u001b[0m         filtered_flat_args, captured_inputs=graph_function.captured_inputs)  # pylint: disable=protected-access\n\u001b[1;32m   2944\u001b[0m \u001b[0;34m\u001b[0m\u001b[0m\n",
      "\u001b[0;32m~/anaconda3/envs/MLWorkbooks/lib/python3.8/site-packages/tensorflow/python/eager/function.py\u001b[0m in \u001b[0;36m_call_flat\u001b[0;34m(self, args, captured_inputs, cancellation_manager)\u001b[0m\n\u001b[1;32m   1916\u001b[0m         and executing_eagerly):\n\u001b[1;32m   1917\u001b[0m       \u001b[0;31m# No tape is watching; skip to running the function.\u001b[0m\u001b[0;34m\u001b[0m\u001b[0;34m\u001b[0m\u001b[0;34m\u001b[0m\u001b[0m\n\u001b[0;32m-> 1918\u001b[0;31m       return self._build_call_outputs(self._inference_function.call(\n\u001b[0m\u001b[1;32m   1919\u001b[0m           ctx, args, cancellation_manager=cancellation_manager))\n\u001b[1;32m   1920\u001b[0m     forward_backward = self._select_forward_and_backward_functions(\n",
      "\u001b[0;32m~/anaconda3/envs/MLWorkbooks/lib/python3.8/site-packages/tensorflow/python/eager/function.py\u001b[0m in \u001b[0;36mcall\u001b[0;34m(self, ctx, args, cancellation_manager)\u001b[0m\n\u001b[1;32m    553\u001b[0m       \u001b[0;32mwith\u001b[0m \u001b[0m_InterpolateFunctionError\u001b[0m\u001b[0;34m(\u001b[0m\u001b[0mself\u001b[0m\u001b[0;34m)\u001b[0m\u001b[0;34m:\u001b[0m\u001b[0;34m\u001b[0m\u001b[0;34m\u001b[0m\u001b[0m\n\u001b[1;32m    554\u001b[0m         \u001b[0;32mif\u001b[0m \u001b[0mcancellation_manager\u001b[0m \u001b[0;32mis\u001b[0m \u001b[0;32mNone\u001b[0m\u001b[0;34m:\u001b[0m\u001b[0;34m\u001b[0m\u001b[0;34m\u001b[0m\u001b[0m\n\u001b[0;32m--> 555\u001b[0;31m           outputs = execute.execute(\n\u001b[0m\u001b[1;32m    556\u001b[0m               \u001b[0mstr\u001b[0m\u001b[0;34m(\u001b[0m\u001b[0mself\u001b[0m\u001b[0;34m.\u001b[0m\u001b[0msignature\u001b[0m\u001b[0;34m.\u001b[0m\u001b[0mname\u001b[0m\u001b[0;34m)\u001b[0m\u001b[0;34m,\u001b[0m\u001b[0;34m\u001b[0m\u001b[0;34m\u001b[0m\u001b[0m\n\u001b[1;32m    557\u001b[0m               \u001b[0mnum_outputs\u001b[0m\u001b[0;34m=\u001b[0m\u001b[0mself\u001b[0m\u001b[0;34m.\u001b[0m\u001b[0m_num_outputs\u001b[0m\u001b[0;34m,\u001b[0m\u001b[0;34m\u001b[0m\u001b[0;34m\u001b[0m\u001b[0m\n",
      "\u001b[0;32m~/anaconda3/envs/MLWorkbooks/lib/python3.8/site-packages/tensorflow/python/eager/execute.py\u001b[0m in \u001b[0;36mquick_execute\u001b[0;34m(op_name, num_outputs, inputs, attrs, ctx, name)\u001b[0m\n\u001b[1;32m     57\u001b[0m   \u001b[0;32mtry\u001b[0m\u001b[0;34m:\u001b[0m\u001b[0;34m\u001b[0m\u001b[0;34m\u001b[0m\u001b[0m\n\u001b[1;32m     58\u001b[0m     \u001b[0mctx\u001b[0m\u001b[0;34m.\u001b[0m\u001b[0mensure_initialized\u001b[0m\u001b[0;34m(\u001b[0m\u001b[0;34m)\u001b[0m\u001b[0;34m\u001b[0m\u001b[0;34m\u001b[0m\u001b[0m\n\u001b[0;32m---> 59\u001b[0;31m     tensors = pywrap_tfe.TFE_Py_Execute(ctx._handle, device_name, op_name,\n\u001b[0m\u001b[1;32m     60\u001b[0m                                         inputs, attrs, num_outputs)\n\u001b[1;32m     61\u001b[0m   \u001b[0;32mexcept\u001b[0m \u001b[0mcore\u001b[0m\u001b[0;34m.\u001b[0m\u001b[0m_NotOkStatusException\u001b[0m \u001b[0;32mas\u001b[0m \u001b[0me\u001b[0m\u001b[0;34m:\u001b[0m\u001b[0;34m\u001b[0m\u001b[0;34m\u001b[0m\u001b[0m\n",
      "\u001b[0;31mKeyboardInterrupt\u001b[0m: "
     ]
    }
   ],
   "source": [
    "model = create_model()\n",
    "\n",
    "print(\"Training model:\")\n",
    "print(model.summary())\n",
    "\n",
    "loss, acc, val_loss, val_acc = train(model, X_train, y_train, X_val, y_val, encoder, EPOCHS)"
   ]
  }
 ],
 "metadata": {
  "kernelspec": {
   "display_name": "Python 3",
   "language": "python",
   "name": "python3"
  },
  "language_info": {
   "codemirror_mode": {
    "name": "ipython",
    "version": 3
   },
   "file_extension": ".py",
   "mimetype": "text/x-python",
   "name": "python",
   "nbconvert_exporter": "python",
   "pygments_lexer": "ipython3",
   "version": "3.8.8"
  }
 },
 "nbformat": 4,
 "nbformat_minor": 5
}
