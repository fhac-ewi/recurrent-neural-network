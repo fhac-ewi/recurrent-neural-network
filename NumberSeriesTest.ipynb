{
  "nbformat": 4,
  "nbformat_minor": 5,
  "metadata": {
    "kernelspec": {
      "display_name": "Python 3",
      "language": "python",
      "name": "python3"
    },
    "language_info": {
      "codemirror_mode": {
        "name": "ipython",
        "version": 3
      },
      "file_extension": ".py",
      "mimetype": "text/x-python",
      "name": "python",
      "nbconvert_exporter": "python",
      "pygments_lexer": "ipython3",
      "version": "3.8.8"
    },
    "colab": {
      "name": "Copy of NumberSeriesTest.ipynb",
      "provenance": []
    },
    "accelerator": "GPU"
  },
  "cells": [
    {
      "cell_type": "markdown",
      "metadata": {
        "id": "e7e39a40-adc3-46b2-b673-d4805b30400e"
      },
      "source": [
        "This is just a test"
      ],
      "id": "e7e39a40-adc3-46b2-b673-d4805b30400e"
    },
    {
      "cell_type": "code",
      "metadata": {
        "execution": {
          "iopub.execute_input": "2021-05-04T16:32:54.078458Z",
          "iopub.status.busy": "2021-05-04T16:32:54.078052Z",
          "iopub.status.idle": "2021-05-04T16:32:56.063199Z",
          "shell.execute_reply": "2021-05-04T16:32:56.062123Z",
          "shell.execute_reply.started": "2021-05-04T16:32:54.078348Z"
        },
        "tags": [],
        "id": "7b64915f-ae26-400a-9dc5-d9588f0dd7b1"
      },
      "source": [
        "from keras.models import Sequential, Model\n",
        "from keras.layers import LSTM, GRU, SimpleRNN, RepeatVector, TimeDistributed, Dense, Input, Lambda\n",
        "import keras.backend as K\n",
        "import numpy as np\n",
        "import matplotlib.pyplot as plt\n",
        "from sklearn.model_selection import train_test_split\n",
        "from datetime import timedelta\n",
        "import time"
      ],
      "id": "7b64915f-ae26-400a-9dc5-d9588f0dd7b1",
      "execution_count": 2,
      "outputs": []
    },
    {
      "cell_type": "code",
      "metadata": {
        "execution": {
          "iopub.execute_input": "2021-05-04T16:32:56.064568Z",
          "iopub.status.busy": "2021-05-04T16:32:56.064362Z",
          "iopub.status.idle": "2021-05-04T16:32:56.068519Z",
          "shell.execute_reply": "2021-05-04T16:32:56.067601Z",
          "shell.execute_reply.started": "2021-05-04T16:32:56.064545Z"
        },
        "tags": [],
        "id": "41e1f799-b20b-474f-92e8-f74c84f5317f"
      },
      "source": [
        "ALPHABET = '0123456789- '\n",
        "DIGITS = 3\n",
        "TRAINING_SERIES_LEN = 3"
      ],
      "id": "41e1f799-b20b-474f-92e8-f74c84f5317f",
      "execution_count": 3,
      "outputs": []
    },
    {
      "cell_type": "code",
      "metadata": {
        "execution": {
          "iopub.execute_input": "2021-05-04T16:32:56.069485Z",
          "iopub.status.busy": "2021-05-04T16:32:56.069317Z",
          "iopub.status.idle": "2021-05-04T16:32:56.079772Z",
          "shell.execute_reply": "2021-05-04T16:32:56.079062Z",
          "shell.execute_reply.started": "2021-05-04T16:32:56.069464Z"
        },
        "tags": [],
        "id": "ecad2dab-d513-4986-a42c-e3d2c67acca0"
      },
      "source": [
        "HIDDEN_SIZE = 256\n",
        "EPOCHS = 50\n",
        "ALPHABET_LENGTH = len(ALPHABET)\n",
        "MAXLEN = (DIGITS + 1) * TRAINING_SERIES_LEN + (TRAINING_SERIES_LEN - 1) "
      ],
      "id": "ecad2dab-d513-4986-a42c-e3d2c67acca0",
      "execution_count": 4,
      "outputs": []
    },
    {
      "cell_type": "code",
      "metadata": {
        "execution": {
          "iopub.execute_input": "2021-05-04T16:32:56.081352Z",
          "iopub.status.busy": "2021-05-04T16:32:56.081059Z",
          "iopub.status.idle": "2021-05-04T16:32:56.092050Z",
          "shell.execute_reply": "2021-05-04T16:32:56.091148Z",
          "shell.execute_reply.started": "2021-05-04T16:32:56.081318Z"
        },
        "tags": [],
        "id": "efb5a51e-a558-4d2a-b360-8a39ad9d4058"
      },
      "source": [
        "class OneHot(object):\n",
        "    def __init__(self, characters):\n",
        "        self.chars = sorted(set(characters))\n",
        "        self.char_to_index = dict((char, i) for i, char in enumerate(self.chars))\n",
        "        self.index_to_char = dict((i, char) for i, char in enumerate(self.chars))\n",
        "\n",
        "    def encode(self, string, length):\n",
        "        enc = np.zeros((length, len(self.chars)))\n",
        "        for i, char in enumerate(string):\n",
        "            enc[i, self.char_to_index[char]] = 1\n",
        "        for i in range(len(string), length):\n",
        "            enc[i, self.char_to_index[' ']] = 1\n",
        "        return enc\n",
        "    \n",
        "    def decode(self, mat):            \n",
        "        return \"\".join([self.decode_line(mat[x]) for x in range(mat.shape[0])])\n",
        "    \n",
        "    def decode_line(self, vec):\n",
        "        return self.index_to_char[np.argmax(vec)]"
      ],
      "id": "efb5a51e-a558-4d2a-b360-8a39ad9d4058",
      "execution_count": 5,
      "outputs": []
    },
    {
      "cell_type": "code",
      "metadata": {
        "execution": {
          "iopub.execute_input": "2021-05-04T16:32:56.093146Z",
          "iopub.status.busy": "2021-05-04T16:32:56.092944Z",
          "iopub.status.idle": "2021-05-04T16:32:56.100049Z",
          "shell.execute_reply": "2021-05-04T16:32:56.099487Z",
          "shell.execute_reply.started": "2021-05-04T16:32:56.093123Z"
        },
        "tags": [],
        "id": "bf8c0c72-8c83-4693-bb43-cafc16749ec4"
      },
      "source": [
        "def create_data(size, train_series_len, max_exp=9, min_factor=-9, max_factor=9, digits=DIGITS):\n",
        "    X = []\n",
        "    y = []\n",
        "    hist = []\n",
        "    max_value = 10 ** digits - 1\n",
        "    min_value = -max_value\n",
        "    value_store = set()\n",
        "    while len(X) < size:\n",
        "        exp = np.random.randint(low=1, high=max_exp + 1)\n",
        "        factors = np.random.randint(low=min_factor, high=max_factor + 1, size=exp + 1)\n",
        "        \n",
        "        fun = lambda _i: sum(f * (_i ** x) for x, f in enumerate(factors))\n",
        "        \n",
        "        series = tuple(fun(i) for i in range(train_series_len + 1))\n",
        "        \n",
        "        if not series in value_store and all(min_value <= x <= max_value for x in series):\n",
        "            X.append(\" \".join([str(x) for x in series[:-1]]))\n",
        "            y.append(str(series[-1]))\n",
        "        \n",
        "    return X, y"
      ],
      "id": "bf8c0c72-8c83-4693-bb43-cafc16749ec4",
      "execution_count": 6,
      "outputs": []
    },
    {
      "cell_type": "code",
      "metadata": {
        "execution": {
          "iopub.execute_input": "2021-05-04T16:32:56.100984Z",
          "iopub.status.busy": "2021-05-04T16:32:56.100805Z",
          "iopub.status.idle": "2021-05-04T16:33:02.414018Z",
          "shell.execute_reply": "2021-05-04T16:33:02.413048Z",
          "shell.execute_reply.started": "2021-05-04T16:32:56.100963Z"
        },
        "tags": [],
        "id": "aff71c2e-77a5-46df-8f8c-5f629852ac68",
        "colab": {
          "base_uri": "https://localhost:8080/"
        },
        "outputId": "e2a6053f-ab79-4999-e66a-2a9d8e75dca3"
      },
      "source": [
        "X, y = create_data(500000, TRAINING_SERIES_LEN)\n",
        "\n",
        "encoder = OneHot(ALPHABET)\n",
        "for i in range(len(X)):\n",
        "    X[i] = encoder.encode(X[i], MAXLEN)\n",
        "    y[i] = encoder.encode(y[i], DIGITS + 1)\n",
        "    \n",
        "print(f\"Created {len(X)} data points\")"
      ],
      "id": "aff71c2e-77a5-46df-8f8c-5f629852ac68",
      "execution_count": 7,
      "outputs": [
        {
          "output_type": "stream",
          "text": [
            "Created 500000 data points\n"
          ],
          "name": "stdout"
        }
      ]
    },
    {
      "cell_type": "code",
      "metadata": {
        "execution": {
          "iopub.execute_input": "2021-05-04T16:33:02.418002Z",
          "iopub.status.busy": "2021-05-04T16:33:02.417610Z",
          "iopub.status.idle": "2021-05-04T16:33:02.665963Z",
          "shell.execute_reply": "2021-05-04T16:33:02.665113Z",
          "shell.execute_reply.started": "2021-05-04T16:33:02.417957Z"
        },
        "tags": [],
        "id": "f46c7294-e52c-42e2-b9e2-f33d87a23c43",
        "colab": {
          "base_uri": "https://localhost:8080/"
        },
        "outputId": "5987e23c-fd17-46e8-dac3-9fb54f0e7a9a"
      },
      "source": [
        "X = np.array(X)\n",
        "y = np.array(y)\n",
        "X_train, X_val, y_train, y_val = train_test_split(X, y, test_size=0.2)\n",
        "\n",
        "print(\"X_train:\", X_train.shape)\n",
        "print(\"y_train:\", y_train.shape)\n",
        "print(\"X_val  :\", X_val.shape)\n",
        "print(\"y_val  :\", y_val.shape)"
      ],
      "id": "f46c7294-e52c-42e2-b9e2-f33d87a23c43",
      "execution_count": 8,
      "outputs": [
        {
          "output_type": "stream",
          "text": [
            "X_train: (400000, 14, 12)\n",
            "y_train: (400000, 4, 12)\n",
            "X_val  : (100000, 14, 12)\n",
            "y_val  : (100000, 4, 12)\n"
          ],
          "name": "stdout"
        }
      ]
    },
    {
      "cell_type": "code",
      "metadata": {
        "execution": {
          "iopub.execute_input": "2021-05-04T16:33:02.667592Z",
          "iopub.status.busy": "2021-05-04T16:33:02.667334Z",
          "iopub.status.idle": "2021-05-04T16:33:02.673539Z",
          "shell.execute_reply": "2021-05-04T16:33:02.672827Z",
          "shell.execute_reply.started": "2021-05-04T16:33:02.667559Z"
        },
        "tags": [],
        "id": "1c292cdf-c1f5-40c7-ac07-bcf67bf32bca",
        "colab": {
          "base_uri": "https://localhost:8080/"
        },
        "outputId": "c8f5de93-c5d8-47d1-c5a9-975212633cfe"
      },
      "source": [
        "lstn_input_shape = (MAXLEN, ALPHABET_LENGTH)\n",
        "print(lstn_input_shape)\n",
        "\n",
        "def create_model():\n",
        "\n",
        "    _model = Sequential()\n",
        "    _model.add(LSTM(HIDDEN_SIZE, input_shape=lstn_input_shape)) # Encoder\n",
        "    _model.add(RepeatVector(DIGITS + 1))  # Stellt dem RNN im nächsten Schritt die Ausgabe des vorherigen bereit\n",
        "    _model.add(LSTM(HIDDEN_SIZE, return_sequences=True)) # Decoder\n",
        "    _model.add(TimeDistributed(Dense(ALPHABET_LENGTH, activation='softmax'))) # Wendet eine `Dense` Schicht auf jede Ausgabe des Decoders an\n",
        "                                    # und ermittelt mittels 'softmax'-Funktion die Auswahlwahrscheinlichkeiten der Zeichen\n",
        "    _model.compile(loss='categorical_crossentropy', optimizer='adam', metrics=['accuracy'])\n",
        "    \n",
        "    return _model"
      ],
      "id": "1c292cdf-c1f5-40c7-ac07-bcf67bf32bca",
      "execution_count": 9,
      "outputs": [
        {
          "output_type": "stream",
          "text": [
            "(14, 12)\n"
          ],
          "name": "stdout"
        }
      ]
    },
    {
      "cell_type": "code",
      "metadata": {
        "execution": {
          "iopub.execute_input": "2021-05-04T16:33:02.675000Z",
          "iopub.status.busy": "2021-05-04T16:33:02.674707Z",
          "iopub.status.idle": "2021-05-04T16:33:02.682646Z",
          "shell.execute_reply": "2021-05-04T16:33:02.681698Z",
          "shell.execute_reply.started": "2021-05-04T16:33:02.674963Z"
        },
        "tags": [],
        "id": "b818a506-6168-4676-a5f9-8360ecc736ab"
      },
      "source": [
        "class colors:\n",
        "    ok = '\\033[92m'\n",
        "    fail = '\\033[91m'\n",
        "    close = '\\033[0m'"
      ],
      "id": "b818a506-6168-4676-a5f9-8360ecc736ab",
      "execution_count": 10,
      "outputs": []
    },
    {
      "cell_type": "code",
      "metadata": {
        "execution": {
          "iopub.execute_input": "2021-05-04T16:33:02.684137Z",
          "iopub.status.busy": "2021-05-04T16:33:02.683860Z",
          "iopub.status.idle": "2021-05-04T16:33:02.695546Z",
          "shell.execute_reply": "2021-05-04T16:33:02.694916Z",
          "shell.execute_reply.started": "2021-05-04T16:33:02.684103Z"
        },
        "tags": [],
        "id": "e610d4df-696e-453d-a23b-8b4470bf3c2e"
      },
      "source": [
        "def train(model, X_train, y_train, X_val, y_val, encoder, epochs):\n",
        "    loss, acc, val_loss, val_acc = [], [], [], []\n",
        "    for iteration in range(1, epochs + 1):\n",
        "        print('-' * 50)\n",
        "        print('Iteration', iteration)\n",
        "        #print(\"X_train:\", X_train.shape, \"; y_train:\", y_train.shape)\n",
        "        hist = model.fit(X_train, y_train,\n",
        "                  batch_size=1000,\n",
        "                  epochs=1,\n",
        "                  validation_data=(X_val, y_val))\n",
        "        loss.append(hist.history['loss'])\n",
        "        acc.append(hist.history['accuracy'])\n",
        "        val_loss.append(hist.history['val_loss'])\n",
        "        val_acc.append(hist.history['val_accuracy'])\n",
        "        if iteration % 5 == 0:\n",
        "            for i in range(10):\n",
        "                ind = np.random.randint(0, X_val.shape[0])\n",
        "                rowx, rowy = X_val[ind], y_val[ind]\n",
        "                #print(\"rowx:\", rowx.shape, \"; rowy:\", rowy.shape)\n",
        "                strx = ''\n",
        "                for seqx in rowx:\n",
        "                    strx += encoder.decode_line(seqx)\n",
        "                stry = ''\n",
        "                for seqy in rowy:\n",
        "                    stry += encoder.decode_line(seqy)\n",
        "                preds = model.predict(np.array([rowx]))\n",
        "                strpred = encoder.decode(preds[0])\n",
        "                if stry.strip() == strpred.strip():\n",
        "                    print('{}{} = {} ☑ {}{}'.format(colors.ok, strx, stry, strpred, colors.close))\n",
        "                else:\n",
        "                    print('{}{} = {} ☒ {}{}'.format(colors.fail, strx, stry, strpred, colors.close))\n",
        "    return loss, acc, val_loss, val_acc"
      ],
      "id": "e610d4df-696e-453d-a23b-8b4470bf3c2e",
      "execution_count": 11,
      "outputs": []
    },
    {
      "cell_type": "code",
      "metadata": {
        "execution": {
          "iopub.execute_input": "2021-05-04T16:33:02.696724Z",
          "iopub.status.busy": "2021-05-04T16:33:02.696510Z",
          "iopub.status.idle": "2021-05-04T16:34:46.918735Z",
          "shell.execute_reply": "2021-05-04T16:34:46.916199Z",
          "shell.execute_reply.started": "2021-05-04T16:33:02.696702Z"
        },
        "tags": [],
        "id": "d2e53b68-0d82-4112-901a-a6f9838a6830",
        "colab": {
          "base_uri": "https://localhost:8080/"
        },
        "outputId": "85240b0c-4a15-43c1-bdd6-fc186f53aa4f"
      },
      "source": [
        "model = create_model()\n",
        "\n",
        "print(\"Training model:\")\n",
        "print(model.summary())\n",
        "\n",
        "start = time.time()\n",
        "loss, acc, val_loss, val_acc = train(model, X_train, y_train, X_val, y_val, encoder, EPOCHS)\n",
        "end = time.time()\n",
        "\n",
        "print(\"Training took\", timedelta(seconds=end - start))"
      ],
      "id": "d2e53b68-0d82-4112-901a-a6f9838a6830",
      "execution_count": 12,
      "outputs": [
        {
          "output_type": "stream",
          "text": [
            "Training model:\n",
            "Model: \"sequential\"\n",
            "_________________________________________________________________\n",
            "Layer (type)                 Output Shape              Param #   \n",
            "=================================================================\n",
            "lstm (LSTM)                  (None, 256)               275456    \n",
            "_________________________________________________________________\n",
            "repeat_vector (RepeatVector) (None, 4, 256)            0         \n",
            "_________________________________________________________________\n",
            "lstm_1 (LSTM)                (None, 4, 256)            525312    \n",
            "_________________________________________________________________\n",
            "time_distributed (TimeDistri (None, 4, 12)             3084      \n",
            "=================================================================\n",
            "Total params: 803,852\n",
            "Trainable params: 803,852\n",
            "Non-trainable params: 0\n",
            "_________________________________________________________________\n",
            "None\n",
            "--------------------------------------------------\n",
            "Iteration 1\n",
            "400/400 [==============================] - 38s 15ms/step - loss: 1.7738 - accuracy: 0.4197 - val_loss: 1.3741 - val_accuracy: 0.5098\n",
            "--------------------------------------------------\n",
            "Iteration 2\n",
            "400/400 [==============================] - 5s 13ms/step - loss: 1.2504 - accuracy: 0.5446 - val_loss: 1.1503 - val_accuracy: 0.5792\n",
            "--------------------------------------------------\n",
            "Iteration 3\n",
            "400/400 [==============================] - 5s 13ms/step - loss: 1.1076 - accuracy: 0.5999 - val_loss: 1.0500 - val_accuracy: 0.6288\n",
            "--------------------------------------------------\n",
            "Iteration 4\n",
            "400/400 [==============================] - 5s 13ms/step - loss: 1.0319 - accuracy: 0.6324 - val_loss: 0.9945 - val_accuracy: 0.6476\n",
            "--------------------------------------------------\n",
            "Iteration 5\n",
            "400/400 [==============================] - 5s 13ms/step - loss: 0.9835 - accuracy: 0.6503 - val_loss: 0.9635 - val_accuracy: 0.6574\n",
            "\u001b[92m6 2 -2         = -6   ☑ -6  \u001b[0m\n",
            "\u001b[91m7 12 35        = -50  ☒ 76  \u001b[0m\n",
            "\u001b[92m-6 2 26        = 66   ☑ 66  \u001b[0m\n",
            "\u001b[92m5 0 -5         = -10  ☑ -10 \u001b[0m\n",
            "\u001b[91m-4 -3 -16      = -43  ☒ -49 \u001b[0m\n",
            "\u001b[92m3 -5 -13       = -21  ☑ -21 \u001b[0m\n",
            "\u001b[91m-6 -18 -42     = -78  ☒ -86 \u001b[0m\n",
            "\u001b[91m5 16 47        = 284  ☒ 90  \u001b[0m\n",
            "\u001b[91m4 1 -56        = -221 ☒ -313\u001b[0m\n",
            "\u001b[92m2 8 14         = 20   ☑ 20  \u001b[0m\n",
            "--------------------------------------------------\n",
            "Iteration 6\n",
            "400/400 [==============================] - 5s 13ms/step - loss: 0.9547 - accuracy: 0.6620 - val_loss: 0.9358 - val_accuracy: 0.6705\n",
            "--------------------------------------------------\n",
            "Iteration 7\n",
            "400/400 [==============================] - 5s 13ms/step - loss: 0.9330 - accuracy: 0.6718 - val_loss: 0.9298 - val_accuracy: 0.6724\n",
            "--------------------------------------------------\n",
            "Iteration 8\n",
            "400/400 [==============================] - 5s 13ms/step - loss: 0.9201 - accuracy: 0.6784 - val_loss: 0.9168 - val_accuracy: 0.6801\n",
            "--------------------------------------------------\n",
            "Iteration 9\n",
            "400/400 [==============================] - 5s 13ms/step - loss: 0.9049 - accuracy: 0.6859 - val_loss: 0.8971 - val_accuracy: 0.6898\n",
            "--------------------------------------------------\n",
            "Iteration 10\n",
            "400/400 [==============================] - 5s 13ms/step - loss: 0.8924 - accuracy: 0.6927 - val_loss: 0.9092 - val_accuracy: 0.6845\n",
            "\u001b[91m3 11 163       = 813  ☒ 723 \u001b[0m\n",
            "\u001b[91m-3 -4 -17      = 330  ☒ -42 \u001b[0m\n",
            "\u001b[92m-8 0 6         = 10   ☑ 10  \u001b[0m\n",
            "\u001b[92m9 14 17        = 18   ☑ 18  \u001b[0m\n",
            "\u001b[92m3 7 21         = 45   ☑ 45  \u001b[0m\n",
            "\u001b[92m3 8 29         = 66   ☑ 66  \u001b[0m\n",
            "\u001b[91m1 15 61        = -485 ☒ 153 \u001b[0m\n",
            "\u001b[92m-6 -10 -14     = -18  ☑ -18 \u001b[0m\n",
            "\u001b[92m6 10 14        = 18   ☑ 18  \u001b[0m\n",
            "\u001b[92m-2 -9 -16      = -23  ☑ -23 \u001b[0m\n",
            "--------------------------------------------------\n",
            "Iteration 11\n",
            "400/400 [==============================] - 5s 13ms/step - loss: 0.8841 - accuracy: 0.6974 - val_loss: 0.8868 - val_accuracy: 0.6974\n",
            "--------------------------------------------------\n",
            "Iteration 12\n",
            "400/400 [==============================] - 5s 13ms/step - loss: 0.8806 - accuracy: 0.6997 - val_loss: 0.8766 - val_accuracy: 0.7026\n",
            "--------------------------------------------------\n",
            "Iteration 13\n",
            "400/400 [==============================] - 5s 13ms/step - loss: 0.8685 - accuracy: 0.7050 - val_loss: 0.8721 - val_accuracy: 0.7041\n",
            "--------------------------------------------------\n",
            "Iteration 14\n",
            "400/400 [==============================] - 5s 13ms/step - loss: 0.8618 - accuracy: 0.7078 - val_loss: 0.8651 - val_accuracy: 0.7075\n",
            "--------------------------------------------------\n",
            "Iteration 15\n",
            "400/400 [==============================] - 5s 13ms/step - loss: 0.8575 - accuracy: 0.7096 - val_loss: 0.8656 - val_accuracy: 0.7075\n",
            "\u001b[91m6 -19 -140     = -507 ☒ -521\u001b[0m\n",
            "\u001b[92m8 10 0         = -22  ☑ -22 \u001b[0m\n",
            "\u001b[91m5 6 63         = 332  ☒ 222 \u001b[0m\n",
            "\u001b[92m-1 1 3         = 5    ☑ 5   \u001b[0m\n",
            "\u001b[92m-2 3 8         = 13   ☑ 13  \u001b[0m\n",
            "\u001b[92m-3 -6 1        = 18   ☑ 18  \u001b[0m\n",
            "\u001b[91m0 -11 -60      = -195 ☒ -189\u001b[0m\n",
            "\u001b[91m5 0 -71        = -124 ☒ -342\u001b[0m\n",
            "\u001b[92m-2 5 20        = 43   ☑ 43  \u001b[0m\n",
            "\u001b[91m8 17 40        = 89   ☒ 77  \u001b[0m\n",
            "--------------------------------------------------\n",
            "Iteration 16\n",
            "400/400 [==============================] - 5s 13ms/step - loss: 0.8530 - accuracy: 0.7113 - val_loss: 0.8638 - val_accuracy: 0.7081\n",
            "--------------------------------------------------\n",
            "Iteration 17\n",
            "400/400 [==============================] - 5s 13ms/step - loss: 0.8498 - accuracy: 0.7126 - val_loss: 0.8648 - val_accuracy: 0.7075\n",
            "--------------------------------------------------\n",
            "Iteration 18\n",
            "400/400 [==============================] - 5s 13ms/step - loss: 0.8462 - accuracy: 0.7135 - val_loss: 0.8637 - val_accuracy: 0.7078\n",
            "--------------------------------------------------\n",
            "Iteration 19\n",
            "400/400 [==============================] - 5s 13ms/step - loss: 0.8433 - accuracy: 0.7150 - val_loss: 0.8643 - val_accuracy: 0.7079\n",
            "--------------------------------------------------\n",
            "Iteration 20\n",
            "400/400 [==============================] - 5s 13ms/step - loss: 0.8405 - accuracy: 0.7157 - val_loss: 0.8557 - val_accuracy: 0.7118\n",
            "\u001b[92m-1 -5 -17      = -37  ☑ -37 \u001b[0m\n",
            "\u001b[91m-6 -17 8       = 165  ☒ 215 \u001b[0m\n",
            "\u001b[92m4 10 32        = 70   ☑ 70  \u001b[0m\n",
            "\u001b[91m9 20 161       = 720  ☒ 796 \u001b[0m\n",
            "\u001b[91m3 16 71        = 198  ☒ 292 \u001b[0m\n",
            "\u001b[91m-6 -12 -164    = -780 ☒ -784\u001b[0m\n",
            "\u001b[92m-9 -8 7        = 36   ☑ 36  \u001b[0m\n",
            "\u001b[92m-8 -3 2        = 7    ☑ 7   \u001b[0m\n",
            "\u001b[91m-5 -16 -141    = -632 ☒ -624\u001b[0m\n",
            "\u001b[92m-6 10 44       = 96   ☑ 96  \u001b[0m\n",
            "--------------------------------------------------\n",
            "Iteration 21\n",
            "400/400 [==============================] - 5s 13ms/step - loss: 0.8380 - accuracy: 0.7167 - val_loss: 0.8566 - val_accuracy: 0.7114\n",
            "--------------------------------------------------\n",
            "Iteration 22\n",
            "400/400 [==============================] - 5s 13ms/step - loss: 0.8341 - accuracy: 0.7181 - val_loss: 0.8555 - val_accuracy: 0.7117\n",
            "--------------------------------------------------\n",
            "Iteration 23\n",
            "400/400 [==============================] - 5s 13ms/step - loss: 0.8320 - accuracy: 0.7189 - val_loss: 0.8545 - val_accuracy: 0.7118\n",
            "--------------------------------------------------\n",
            "Iteration 24\n",
            "400/400 [==============================] - 5s 13ms/step - loss: 0.8307 - accuracy: 0.7190 - val_loss: 0.8557 - val_accuracy: 0.7114\n",
            "--------------------------------------------------\n",
            "Iteration 25\n",
            "400/400 [==============================] - 5s 13ms/step - loss: 0.8282 - accuracy: 0.7199 - val_loss: 0.8567 - val_accuracy: 0.7121\n",
            "\u001b[91m6 2 4          = 114  ☒ 12  \u001b[0m\n",
            "\u001b[91m8 -10 -66      = -184 ☒ -180\u001b[0m\n",
            "\u001b[91m-6 -3 -40      = -195 ☒ -179\u001b[0m\n",
            "\u001b[92m2 6 10         = 14   ☑ 14  \u001b[0m\n",
            "\u001b[91m8 6 14         = 398  ☒ 32  \u001b[0m\n",
            "\u001b[92m-1 7 15        = 23   ☑ 23  \u001b[0m\n",
            "\u001b[92m-8 -4 0        = 4    ☑ 4   \u001b[0m\n",
            "\u001b[91m-9 -14 -71     = -222 ☒ -236\u001b[0m\n",
            "\u001b[91m2 0 -14        = -34  ☒ -40 \u001b[0m\n",
            "\u001b[91m-5 14 107      = 442  ☒ 324 \u001b[0m\n",
            "--------------------------------------------------\n",
            "Iteration 26\n",
            "400/400 [==============================] - 5s 13ms/step - loss: 0.8264 - accuracy: 0.7203 - val_loss: 0.8567 - val_accuracy: 0.7124\n",
            "--------------------------------------------------\n",
            "Iteration 27\n",
            "400/400 [==============================] - 5s 13ms/step - loss: 0.8232 - accuracy: 0.7218 - val_loss: 0.8518 - val_accuracy: 0.7131\n",
            "--------------------------------------------------\n",
            "Iteration 28\n",
            "400/400 [==============================] - 5s 13ms/step - loss: 0.8215 - accuracy: 0.7223 - val_loss: 0.8560 - val_accuracy: 0.7122\n",
            "--------------------------------------------------\n",
            "Iteration 29\n",
            "400/400 [==============================] - 5s 13ms/step - loss: 0.8205 - accuracy: 0.7226 - val_loss: 0.8533 - val_accuracy: 0.7134\n",
            "--------------------------------------------------\n",
            "Iteration 30\n",
            "400/400 [==============================] - 5s 13ms/step - loss: 0.8180 - accuracy: 0.7235 - val_loss: 0.8529 - val_accuracy: 0.7134\n",
            "\u001b[91m-8 -12 -42     = -224 ☒ -112\u001b[0m\n",
            "\u001b[92m-6 -8 -10      = -12  ☑ -12 \u001b[0m\n",
            "\u001b[91m3 -3 1         = 63   ☒ 37  \u001b[0m\n",
            "\u001b[91m3 2 87         = 504  ☒ 580 \u001b[0m\n",
            "\u001b[92m-6 -12 -40     = -108 ☑ -108\u001b[0m\n",
            "\u001b[92m7 0 -15        = -38  ☑ -38 \u001b[0m\n",
            "\u001b[91m1 -1 33        = 265  ☒ 157 \u001b[0m\n",
            "\u001b[91m4 -4 -8        = 10   ☒ -6  \u001b[0m\n",
            "\u001b[91m6 -7 -138      = -669 ☒ -691\u001b[0m\n",
            "\u001b[92m-7 -1 5        = 11   ☑ 11  \u001b[0m\n",
            "--------------------------------------------------\n",
            "Iteration 31\n",
            "400/400 [==============================] - 5s 13ms/step - loss: 0.8165 - accuracy: 0.7244 - val_loss: 0.8521 - val_accuracy: 0.7136\n",
            "--------------------------------------------------\n",
            "Iteration 32\n",
            "400/400 [==============================] - 5s 13ms/step - loss: 0.8139 - accuracy: 0.7252 - val_loss: 0.8543 - val_accuracy: 0.7135\n",
            "--------------------------------------------------\n",
            "Iteration 33\n",
            "400/400 [==============================] - 5s 13ms/step - loss: 0.8134 - accuracy: 0.7249 - val_loss: 0.8551 - val_accuracy: 0.7138\n",
            "--------------------------------------------------\n",
            "Iteration 34\n",
            "400/400 [==============================] - 5s 13ms/step - loss: 0.8108 - accuracy: 0.7260 - val_loss: 0.8526 - val_accuracy: 0.7144\n",
            "--------------------------------------------------\n",
            "Iteration 35\n",
            "400/400 [==============================] - 5s 13ms/step - loss: 0.8089 - accuracy: 0.7267 - val_loss: 0.8551 - val_accuracy: 0.7133\n",
            "\u001b[92m6 4 -2         = -12  ☑ -12 \u001b[0m\n",
            "\u001b[91m-7 4 29        = 74   ☒ 68  \u001b[0m\n",
            "\u001b[92m-1 -6 -11      = -16  ☑ -16 \u001b[0m\n",
            "\u001b[91m-6 11 72       = 207  ☒ 219 \u001b[0m\n",
            "\u001b[92m-8 -10 -12     = -14  ☑ -14 \u001b[0m\n",
            "\u001b[91m5 16 89        = -634 ☒ 274 \u001b[0m\n",
            "\u001b[92m-1 -12 -27     = -46  ☑ -46 \u001b[0m\n",
            "\u001b[91m7 24 13        = -596 ☒ -150\u001b[0m\n",
            "\u001b[92m-8 -7 -6       = -5   ☑ -5  \u001b[0m\n",
            "\u001b[92m-2 -8 -14      = -20  ☑ -20 \u001b[0m\n",
            "--------------------------------------------------\n",
            "Iteration 36\n",
            "400/400 [==============================] - 5s 13ms/step - loss: 0.8078 - accuracy: 0.7272 - val_loss: 0.8548 - val_accuracy: 0.7140\n",
            "--------------------------------------------------\n",
            "Iteration 37\n",
            "400/400 [==============================] - 5s 13ms/step - loss: 0.8059 - accuracy: 0.7277 - val_loss: 0.8615 - val_accuracy: 0.7111\n",
            "--------------------------------------------------\n",
            "Iteration 38\n",
            "400/400 [==============================] - 5s 13ms/step - loss: 0.8036 - accuracy: 0.7286 - val_loss: 0.8596 - val_accuracy: 0.7122\n",
            "--------------------------------------------------\n",
            "Iteration 39\n",
            "400/400 [==============================] - 5s 13ms/step - loss: 0.8024 - accuracy: 0.7290 - val_loss: 0.8561 - val_accuracy: 0.7145\n",
            "--------------------------------------------------\n",
            "Iteration 40\n",
            "400/400 [==============================] - 5s 13ms/step - loss: 0.8005 - accuracy: 0.7297 - val_loss: 0.8580 - val_accuracy: 0.7138\n",
            "\u001b[91m-5 -6 -61      = -290 ☒ -224\u001b[0m\n",
            "\u001b[92m-9 -12 -25     = -48  ☑ -48 \u001b[0m\n",
            "\u001b[92m5 10 31        = 68   ☑ 68  \u001b[0m\n",
            "\u001b[92m9 13 35        = 75   ☑ 75  \u001b[0m\n",
            "\u001b[91m0 -2 30        = 426  ☒ 164 \u001b[0m\n",
            "\u001b[92m-4 3 12        = 23   ☑ 23  \u001b[0m\n",
            "\u001b[91m-8 -5 90       = 505  ☒ 589 \u001b[0m\n",
            "\u001b[91m-6 8 34        = 18   ☒ 72  \u001b[0m\n",
            "\u001b[92m-3 2 7         = 12   ☑ 12  \u001b[0m\n",
            "\u001b[91m0 -3 -14       = -9   ☒ -33 \u001b[0m\n",
            "--------------------------------------------------\n",
            "Iteration 41\n",
            "400/400 [==============================] - 5s 13ms/step - loss: 0.7995 - accuracy: 0.7301 - val_loss: 0.8559 - val_accuracy: 0.7142\n",
            "--------------------------------------------------\n",
            "Iteration 42\n",
            "400/400 [==============================] - 5s 13ms/step - loss: 0.7973 - accuracy: 0.7307 - val_loss: 0.8584 - val_accuracy: 0.7140\n",
            "--------------------------------------------------\n",
            "Iteration 43\n",
            "400/400 [==============================] - 5s 13ms/step - loss: 0.7949 - accuracy: 0.7316 - val_loss: 0.8601 - val_accuracy: 0.7134\n",
            "--------------------------------------------------\n",
            "Iteration 44\n",
            "400/400 [==============================] - 5s 13ms/step - loss: 0.7940 - accuracy: 0.7320 - val_loss: 0.8594 - val_accuracy: 0.7139\n",
            "--------------------------------------------------\n",
            "Iteration 45\n",
            "400/400 [==============================] - 5s 13ms/step - loss: 0.7920 - accuracy: 0.7325 - val_loss: 0.8594 - val_accuracy: 0.7142\n",
            "\u001b[92m-6 -9 -12      = -15  ☑ -15 \u001b[0m\n",
            "\u001b[91m8 -8 -72       = -220 ☒ -234\u001b[0m\n",
            "\u001b[91m-3 -13 -107    = -567 ☒ -473\u001b[0m\n",
            "\u001b[91m0 10 80        = 252  ☒ 266 \u001b[0m\n",
            "\u001b[92m4 20 74        = 196  ☑ 196 \u001b[0m\n",
            "\u001b[92m-5 -1 3        = 7    ☑ 7   \u001b[0m\n",
            "\u001b[91m-5 -33 -227    = -923 ☒ -985\u001b[0m\n",
            "\u001b[91m-1 18 93       = 260  ☒ 264 \u001b[0m\n",
            "\u001b[92m-6 -14 -40     = -84  ☑ -84 \u001b[0m\n",
            "\u001b[92m2 -6 -16       = -28  ☑ -28 \u001b[0m\n",
            "--------------------------------------------------\n",
            "Iteration 46\n",
            "400/400 [==============================] - 5s 13ms/step - loss: 0.7905 - accuracy: 0.7331 - val_loss: 0.8613 - val_accuracy: 0.7144\n",
            "--------------------------------------------------\n",
            "Iteration 47\n",
            "400/400 [==============================] - 5s 13ms/step - loss: 0.7888 - accuracy: 0.7337 - val_loss: 0.8648 - val_accuracy: 0.7124\n",
            "--------------------------------------------------\n",
            "Iteration 48\n",
            "400/400 [==============================] - 5s 13ms/step - loss: 0.7871 - accuracy: 0.7344 - val_loss: 0.8629 - val_accuracy: 0.7135\n",
            "--------------------------------------------------\n",
            "Iteration 49\n",
            "400/400 [==============================] - 5s 13ms/step - loss: 0.7851 - accuracy: 0.7351 - val_loss: 0.8612 - val_accuracy: 0.7150\n",
            "--------------------------------------------------\n",
            "Iteration 50\n",
            "400/400 [==============================] - 5s 13ms/step - loss: 0.7833 - accuracy: 0.7358 - val_loss: 0.8625 - val_accuracy: 0.7139\n",
            "\u001b[92m4 -8 -38       = -86  ☑ -86 \u001b[0m\n",
            "\u001b[91m-2 -8 -132     = -698 ☒ -696\u001b[0m\n",
            "\u001b[92m4 4 4          = 4    ☑ 4   \u001b[0m\n",
            "\u001b[91m4 12 -16       = -794 ☒ -136\u001b[0m\n",
            "\u001b[92m5 1 1          = 5    ☑ 5   \u001b[0m\n",
            "\u001b[92m3 -1 -5        = -9   ☑ -9  \u001b[0m\n",
            "\u001b[91m6 14 110       = 456  ☒ 484 \u001b[0m\n",
            "\u001b[92m6 22 60        = 132  ☑ 132 \u001b[0m\n",
            "\u001b[91m3 -4 -27       = -114 ☒ -66 \u001b[0m\n",
            "\u001b[92m0 1 6          = 15   ☑ 15  \u001b[0m\n",
            "Training took 0:05:10.378172\n"
          ],
          "name": "stdout"
        }
      ]
    },
    {
      "cell_type": "code",
      "metadata": {
        "id": "99CRqBJqfi-1",
        "colab": {
          "base_uri": "https://localhost:8080/",
          "height": 265
        },
        "outputId": "f9f257ff-4959-4d56-afbc-27c4851e377a"
      },
      "source": [
        "plt.plot(loss, label='loss')\n",
        "plt.plot(val_loss, label='validation loss')\n",
        "plt.plot(acc, label='accuracy')\n",
        "plt.plot(val_acc, label='validation accuracy')\n",
        "plt.legend()\n",
        "plt.show()"
      ],
      "id": "99CRqBJqfi-1",
      "execution_count": 13,
      "outputs": [
        {
          "output_type": "display_data",
          "data": {
            "image/png": "[encoded data removed]",
            "text/plain": [
              "<Figure size 432x288 with 1 Axes>"
            ]
          },
          "metadata": {
            "tags": [],
            "needs_background": "light"
          }
        }
      ]
    },
    {
      "cell_type": "code",
      "metadata": {
        "id": "hahXRX94grvP",
        "colab": {
          "base_uri": "https://localhost:8080/"
        },
        "outputId": "d4896c6d-f439-43c5-8691-2bca36a0424b"
      },
      "source": [
        "test_string = \"-100 70 80\"\n",
        "\n",
        "encoded = encoder.encode(test_string, MAXLEN)\n",
        "\n",
        "result = model.predict(np.array([encoded]))\n",
        "\n",
        "print(np.argmax(result[0], axis=1))\n",
        "print(encoder.decode(result[0]))"
      ],
      "id": "hahXRX94grvP",
      "execution_count": 14,
      "outputs": [
        {
          "output_type": "stream",
          "text": [
            "[4 5 8 0]\n",
            "236 \n"
          ],
          "name": "stdout"
        }
      ]
    },
    {
      "cell_type": "code",
      "metadata": {
        "id": "-7JcM_nojRRA",
        "outputId": "3fa57f0e-e119-480b-bb37-f481641cee7a",
        "colab": {
          "base_uri": "https://localhost:8080/",
          "height": 163
        }
      },
      "source": [
        "widgets.Text(value='Hello World', placeholder='Type something', description='String:', disabled=False)"
      ],
      "id": "-7JcM_nojRRA",
      "execution_count": 15,
      "outputs": [
        {
          "output_type": "error",
          "ename": "NameError",
          "evalue": "ignored",
          "traceback": [
            "\u001b[0;31m---------------------------------------------------------------------------\u001b[0m",
            "\u001b[0;31mNameError\u001b[0m                                 Traceback (most recent call last)",
            "\u001b[0;32m<ipython-input-15-9703c36f7923>\u001b[0m in \u001b[0;36m<module>\u001b[0;34m()\u001b[0m\n\u001b[0;32m----> 1\u001b[0;31m \u001b[0mwidgets\u001b[0m\u001b[0;34m.\u001b[0m\u001b[0mText\u001b[0m\u001b[0;34m(\u001b[0m\u001b[0mvalue\u001b[0m\u001b[0;34m=\u001b[0m\u001b[0;34m'Hello World'\u001b[0m\u001b[0;34m,\u001b[0m \u001b[0mplaceholder\u001b[0m\u001b[0;34m=\u001b[0m\u001b[0;34m'Type something'\u001b[0m\u001b[0;34m,\u001b[0m \u001b[0mdescription\u001b[0m\u001b[0;34m=\u001b[0m\u001b[0;34m'String:'\u001b[0m\u001b[0;34m,\u001b[0m \u001b[0mdisabled\u001b[0m\u001b[0;34m=\u001b[0m\u001b[0;32mFalse\u001b[0m\u001b[0;34m)\u001b[0m\u001b[0;34m\u001b[0m\u001b[0;34m\u001b[0m\u001b[0m\n\u001b[0m",
            "\u001b[0;31mNameError\u001b[0m: name 'widgets' is not defined"
          ]
        }
      ]
    },
    {
      "cell_type": "code",
      "metadata": {
        "id": "C9my0VHRdMRt"
      },
      "source": [
        ""
      ],
      "id": "C9my0VHRdMRt",
      "execution_count": null,
      "outputs": []
    }
  ]
}