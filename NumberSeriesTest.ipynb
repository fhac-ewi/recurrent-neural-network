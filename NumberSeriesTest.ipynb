{
  "nbformat": 4,
  "nbformat_minor": 5,
  "metadata": {
    "kernelspec": {
      "display_name": "Python 3",
      "language": "python",
      "name": "python3"
    },
    "language_info": {
      "codemirror_mode": {
        "name": "ipython",
        "version": 3
      },
      "file_extension": ".py",
      "mimetype": "text/x-python",
      "name": "python",
      "nbconvert_exporter": "python",
      "pygments_lexer": "ipython3",
      "version": "3.8.8"
    },
    "colab": {
      "name": "Copy of NumberSeriesTest.ipynb",
      "provenance": []
    },
    "accelerator": "GPU"
  },
  "cells": [
    {
      "cell_type": "markdown",
      "metadata": {
        "id": "e7e39a40-adc3-46b2-b673-d4805b30400e"
      },
      "source": [
        "This is just a test"
      ],
      "id": "e7e39a40-adc3-46b2-b673-d4805b30400e"
    },
    {
      "cell_type": "code",
      "metadata": {
        "execution": {
          "iopub.execute_input": "2021-05-04T16:32:54.078458Z",
          "iopub.status.busy": "2021-05-04T16:32:54.078052Z",
          "iopub.status.idle": "2021-05-04T16:32:56.063199Z",
          "shell.execute_reply": "2021-05-04T16:32:56.062123Z",
          "shell.execute_reply.started": "2021-05-04T16:32:54.078348Z"
        },
        "tags": [],
        "id": "7b64915f-ae26-400a-9dc5-d9588f0dd7b1"
      },
      "source": [
        "from keras.models import Sequential, Model\n",
        "from keras.layers import LSTM, GRU, SimpleRNN, RepeatVector, TimeDistributed, Dense, Input, Lambda\n",
        "import keras.backend as K\n",
        "import numpy as np\n",
        "import matplotlib.pyplot as plt\n",
        "from sklearn.model_selection import train_test_split"
      ],
      "id": "7b64915f-ae26-400a-9dc5-d9588f0dd7b1",
      "execution_count": null,
      "outputs": []
    },
    {
      "cell_type": "code",
      "metadata": {
        "execution": {
          "iopub.execute_input": "2021-05-04T16:32:56.064568Z",
          "iopub.status.busy": "2021-05-04T16:32:56.064362Z",
          "iopub.status.idle": "2021-05-04T16:32:56.068519Z",
          "shell.execute_reply": "2021-05-04T16:32:56.067601Z",
          "shell.execute_reply.started": "2021-05-04T16:32:56.064545Z"
        },
        "tags": [],
        "id": "41e1f799-b20b-474f-92e8-f74c84f5317f"
      },
      "source": [
        "ALPHABET = '0123456789- '\n",
        "DIGITS = 3\n",
        "TRAINING_SERIES_LEN = 3"
      ],
      "id": "41e1f799-b20b-474f-92e8-f74c84f5317f",
      "execution_count": null,
      "outputs": []
    },
    {
      "cell_type": "code",
      "metadata": {
        "execution": {
          "iopub.execute_input": "2021-05-04T16:32:56.069485Z",
          "iopub.status.busy": "2021-05-04T16:32:56.069317Z",
          "iopub.status.idle": "2021-05-04T16:32:56.079772Z",
          "shell.execute_reply": "2021-05-04T16:32:56.079062Z",
          "shell.execute_reply.started": "2021-05-04T16:32:56.069464Z"
        },
        "tags": [],
        "id": "ecad2dab-d513-4986-a42c-e3d2c67acca0"
      },
      "source": [
        "HIDDEN_SIZE = 256\n",
        "EPOCHS = 50\n",
        "ALPHABET_LENGTH = len(ALPHABET)\n",
        "MAXLEN = (DIGITS + 1) * TRAINING_SERIES_LEN + (TRAINING_SERIES_LEN - 1) "
      ],
      "id": "ecad2dab-d513-4986-a42c-e3d2c67acca0",
      "execution_count": null,
      "outputs": []
    },
    {
      "cell_type": "code",
      "metadata": {
        "execution": {
          "iopub.execute_input": "2021-05-04T16:32:56.081352Z",
          "iopub.status.busy": "2021-05-04T16:32:56.081059Z",
          "iopub.status.idle": "2021-05-04T16:32:56.092050Z",
          "shell.execute_reply": "2021-05-04T16:32:56.091148Z",
          "shell.execute_reply.started": "2021-05-04T16:32:56.081318Z"
        },
        "tags": [],
        "id": "efb5a51e-a558-4d2a-b360-8a39ad9d4058"
      },
      "source": [
        "class OneHot(object):\n",
        "    def __init__(self, characters):\n",
        "        self.chars = sorted(set(characters))\n",
        "        self.char_to_index = dict((char, i) for i, char in enumerate(self.chars))\n",
        "        self.index_to_char = dict((i, char) for i, char in enumerate(self.chars))\n",
        "\n",
        "    def encode(self, string, length):\n",
        "        enc = np.zeros((length, len(self.chars)))\n",
        "        for i, char in enumerate(string):\n",
        "            enc[i, self.char_to_index[char]] = 1\n",
        "        for i in range(len(string), length):\n",
        "            enc[i, self.char_to_index[' ']] = 1\n",
        "        return enc\n",
        "    \n",
        "    def decode(self, mat):            \n",
        "        return \"\".join([self.decode_line(mat[x]) for x in range(mat.shape[0])])\n",
        "    \n",
        "    def decode_line(self, vec):\n",
        "        return self.index_to_char[np.argmax(vec)]"
      ],
      "id": "efb5a51e-a558-4d2a-b360-8a39ad9d4058",
      "execution_count": null,
      "outputs": []
    },
    {
      "cell_type": "code",
      "metadata": {
        "execution": {
          "iopub.execute_input": "2021-05-04T16:32:56.093146Z",
          "iopub.status.busy": "2021-05-04T16:32:56.092944Z",
          "iopub.status.idle": "2021-05-04T16:32:56.100049Z",
          "shell.execute_reply": "2021-05-04T16:32:56.099487Z",
          "shell.execute_reply.started": "2021-05-04T16:32:56.093123Z"
        },
        "tags": [],
        "id": "bf8c0c72-8c83-4693-bb43-cafc16749ec4"
      },
      "source": [
        "def create_data(size, train_series_len, max_exp=9, min_factor=-9, max_factor=9, digits=DIGITS):\n",
        "    X = []\n",
        "    y = []\n",
        "    hist = []\n",
        "    max_value = 10 ** digits - 1\n",
        "    min_value = -max_value\n",
        "    value_store = set()\n",
        "    while len(X) < size:\n",
        "        max_exp = np.random.randint(low=1, high=max_exp + 1)\n",
        "        factors = np.random.randint(low=min_factor, high=max_factor + 1, size=max_exp + 1)\n",
        "        \n",
        "        fun = lambda _i: sum(f * (_i ** x) for x, f in enumerate(factors))\n",
        "        \n",
        "        series = tuple(fun(i) for i in range(train_series_len + 1))\n",
        "        \n",
        "        if not series in value_store and all(min_value <= x <= max_value for x in series):\n",
        "            X.append(\" \".join([str(x) for x in series[:-1]]))\n",
        "            y.append(str(series[-1]))\n",
        "        \n",
        "    return X, y"
      ],
      "id": "bf8c0c72-8c83-4693-bb43-cafc16749ec4",
      "execution_count": null,
      "outputs": []
    },
    {
      "cell_type": "code",
      "metadata": {
        "execution": {
          "iopub.execute_input": "2021-05-04T16:32:56.100984Z",
          "iopub.status.busy": "2021-05-04T16:32:56.100805Z",
          "iopub.status.idle": "2021-05-04T16:33:02.414018Z",
          "shell.execute_reply": "2021-05-04T16:33:02.413048Z",
          "shell.execute_reply.started": "2021-05-04T16:32:56.100963Z"
        },
        "tags": [],
        "id": "aff71c2e-77a5-46df-8f8c-5f629852ac68",
        "colab": {
          "base_uri": "https://localhost:8080/"
        },
        "outputId": "31836884-aef4-45bc-c950-cdf06abbee26"
      },
      "source": [
        "X, y = create_data(500000, TRAINING_SERIES_LEN)\n",
        "\n",
        "encoder = OneHot(ALPHABET)\n",
        "for i in range(len(X)):\n",
        "    X[i] = encoder.encode(X[i], MAXLEN)\n",
        "    y[i] = encoder.encode(y[i], DIGITS + 1)\n",
        "    \n",
        "print(f\"Created {len(X)} data points\")"
      ],
      "id": "aff71c2e-77a5-46df-8f8c-5f629852ac68",
      "execution_count": null,
      "outputs": [
        {
          "output_type": "stream",
          "text": [
            "Created 500000 data points\n"
          ],
          "name": "stdout"
        }
      ]
    },
    {
      "cell_type": "code",
      "metadata": {
        "execution": {
          "iopub.execute_input": "2021-05-04T16:33:02.418002Z",
          "iopub.status.busy": "2021-05-04T16:33:02.417610Z",
          "iopub.status.idle": "2021-05-04T16:33:02.665963Z",
          "shell.execute_reply": "2021-05-04T16:33:02.665113Z",
          "shell.execute_reply.started": "2021-05-04T16:33:02.417957Z"
        },
        "tags": [],
        "id": "f46c7294-e52c-42e2-b9e2-f33d87a23c43",
        "colab": {
          "base_uri": "https://localhost:8080/"
        },
        "outputId": "1ea30f61-4275-426b-a4f1-0fdbb2f5ceec"
      },
      "source": [
        "X = np.array(X)\n",
        "y = np.array(y)\n",
        "X_train, X_val, y_train, y_val = train_test_split(X, y, test_size=0.2)\n",
        "\n",
        "print(\"X_train:\", X_train.shape)\n",
        "print(\"y_train:\", y_train.shape)\n",
        "print(\"X_val  :\", X_val.shape)\n",
        "print(\"y_val  :\", y_val.shape)"
      ],
      "id": "f46c7294-e52c-42e2-b9e2-f33d87a23c43",
      "execution_count": null,
      "outputs": [
        {
          "output_type": "stream",
          "text": [
            "X_train: (400000, 14, 12)\n",
            "y_train: (400000, 4, 12)\n",
            "X_val  : (100000, 14, 12)\n",
            "y_val  : (100000, 4, 12)\n"
          ],
          "name": "stdout"
        }
      ]
    },
    {
      "cell_type": "code",
      "metadata": {
        "execution": {
          "iopub.execute_input": "2021-05-04T16:33:02.667592Z",
          "iopub.status.busy": "2021-05-04T16:33:02.667334Z",
          "iopub.status.idle": "2021-05-04T16:33:02.673539Z",
          "shell.execute_reply": "2021-05-04T16:33:02.672827Z",
          "shell.execute_reply.started": "2021-05-04T16:33:02.667559Z"
        },
        "tags": [],
        "id": "1c292cdf-c1f5-40c7-ac07-bcf67bf32bca",
        "colab": {
          "base_uri": "https://localhost:8080/"
        },
        "outputId": "f03293c6-51ef-46da-bcbc-00c5685cac6a"
      },
      "source": [
        "lstn_input_shape = (MAXLEN, ALPHABET_LENGTH)\n",
        "print(lstn_input_shape)\n",
        "\n",
        "def create_model():\n",
        "\n",
        "    _model = Sequential()\n",
        "    _model.add(LSTM(HIDDEN_SIZE, input_shape=lstn_input_shape)) # Encoder\n",
        "    _model.add(RepeatVector(DIGITS + 1))  # Stellt dem RNN im nächsten Schritt die Ausgabe des vorherigen bereit\n",
        "    _model.add(LSTM(HIDDEN_SIZE, return_sequences=True)) # Decoder\n",
        "    _model.add(TimeDistributed(Dense(ALPHABET_LENGTH, activation='softmax'))) # Wendet eine `Dense` Schicht auf jede Ausgabe des Decoders an\n",
        "                                    # und ermittelt mittels 'softmax'-Funktion die Auswahlwahrscheinlichkeiten der Zeichen\n",
        "    _model.compile(loss='categorical_crossentropy', optimizer='adam', metrics=['accuracy'])\n",
        "    \n",
        "    return _model"
      ],
      "id": "1c292cdf-c1f5-40c7-ac07-bcf67bf32bca",
      "execution_count": null,
      "outputs": [
        {
          "output_type": "stream",
          "text": [
            "(14, 12)\n"
          ],
          "name": "stdout"
        }
      ]
    },
    {
      "cell_type": "code",
      "metadata": {
        "execution": {
          "iopub.execute_input": "2021-05-04T16:33:02.675000Z",
          "iopub.status.busy": "2021-05-04T16:33:02.674707Z",
          "iopub.status.idle": "2021-05-04T16:33:02.682646Z",
          "shell.execute_reply": "2021-05-04T16:33:02.681698Z",
          "shell.execute_reply.started": "2021-05-04T16:33:02.674963Z"
        },
        "tags": [],
        "id": "b818a506-6168-4676-a5f9-8360ecc736ab"
      },
      "source": [
        "class colors:\n",
        "    ok = '\\033[92m'\n",
        "    fail = '\\033[91m'\n",
        "    close = '\\033[0m'"
      ],
      "id": "b818a506-6168-4676-a5f9-8360ecc736ab",
      "execution_count": null,
      "outputs": []
    },
    {
      "cell_type": "code",
      "metadata": {
        "execution": {
          "iopub.execute_input": "2021-05-04T16:33:02.684137Z",
          "iopub.status.busy": "2021-05-04T16:33:02.683860Z",
          "iopub.status.idle": "2021-05-04T16:33:02.695546Z",
          "shell.execute_reply": "2021-05-04T16:33:02.694916Z",
          "shell.execute_reply.started": "2021-05-04T16:33:02.684103Z"
        },
        "tags": [],
        "id": "e610d4df-696e-453d-a23b-8b4470bf3c2e"
      },
      "source": [
        "def train(model, X_train, y_train, X_val, y_val, encoder, epochs):\n",
        "    loss, acc, val_loss, val_acc = [], [], [], []\n",
        "    for iteration in range(1, epochs + 1):\n",
        "        print('-' * 50)\n",
        "        print('Iteration', iteration)\n",
        "        #print(\"X_train:\", X_train.shape, \"; y_train:\", y_train.shape)\n",
        "        hist = model.fit(X_train, y_train,\n",
        "                  batch_size=1000,\n",
        "                  epochs=1,\n",
        "                  validation_data=(X_val, y_val))\n",
        "        loss.append(hist.history['loss'])\n",
        "        acc.append(hist.history['accuracy'])\n",
        "        val_loss.append(hist.history['val_loss'])\n",
        "        val_acc.append(hist.history['val_accuracy'])\n",
        "        if iteration % 5 == 0:\n",
        "            for i in range(10):\n",
        "                ind = np.random.randint(0, X_val.shape[0])\n",
        "                rowx, rowy = X_val[ind], y_val[ind]\n",
        "                #print(\"rowx:\", rowx.shape, \"; rowy:\", rowy.shape)\n",
        "                strx = ''\n",
        "                for seqx in rowx:\n",
        "                    strx += encoder.decode_line(seqx)\n",
        "                stry = ''\n",
        "                for seqy in rowy:\n",
        "                    stry += encoder.decode_line(seqy)\n",
        "                preds = model.predict_classes(np.array([rowx]), verbose=0)\n",
        "                strpred = ''\n",
        "                for p in preds[0]:\n",
        "                    strpred += encoder.index_to_char[p]\n",
        "                if stry.strip() == strpred.strip():\n",
        "                    print('{}{} = {} ☑ {}{}'.format(colors.ok, strx, stry, strpred, colors.close))\n",
        "                else:\n",
        "                    print('{}{} = {} ☒ {}{}'.format(colors.fail, strx, stry, strpred, colors.close))\n",
        "    return loss, acc, val_loss, val_acc"
      ],
      "id": "e610d4df-696e-453d-a23b-8b4470bf3c2e",
      "execution_count": null,
      "outputs": []
    },
    {
      "cell_type": "code",
      "metadata": {
        "execution": {
          "iopub.execute_input": "2021-05-04T16:33:02.696724Z",
          "iopub.status.busy": "2021-05-04T16:33:02.696510Z",
          "iopub.status.idle": "2021-05-04T16:34:46.918735Z",
          "shell.execute_reply": "2021-05-04T16:34:46.916199Z",
          "shell.execute_reply.started": "2021-05-04T16:33:02.696702Z"
        },
        "tags": [],
        "id": "d2e53b68-0d82-4112-901a-a6f9838a6830",
        "colab": {
          "base_uri": "https://localhost:8080/"
        },
        "outputId": "c6685a87-4266-4ede-bbe9-6c6b3e593f5d"
      },
      "source": [
        "model = create_model()\n",
        "\n",
        "print(\"Training model:\")\n",
        "print(model.summary())\n",
        "\n",
        "loss, acc, val_loss, val_acc = train(model, X_train, y_train, X_val, y_val, encoder, EPOCHS)"
      ],
      "id": "d2e53b68-0d82-4112-901a-a6f9838a6830",
      "execution_count": null,
      "outputs": [
        {
          "output_type": "stream",
          "text": [
            "Training model:\n",
            "Model: \"sequential_2\"\n",
            "_________________________________________________________________\n",
            "Layer (type)                 Output Shape              Param #   \n",
            "=================================================================\n",
            "lstm_4 (LSTM)                (None, 256)               275456    \n",
            "_________________________________________________________________\n",
            "repeat_vector_2 (RepeatVecto (None, 4, 256)            0         \n",
            "_________________________________________________________________\n",
            "lstm_5 (LSTM)                (None, 4, 256)            525312    \n",
            "_________________________________________________________________\n",
            "time_distributed_2 (TimeDist (None, 4, 12)             3084      \n",
            "=================================================================\n",
            "Total params: 803,852\n",
            "Trainable params: 803,852\n",
            "Non-trainable params: 0\n",
            "_________________________________________________________________\n",
            "None\n",
            "--------------------------------------------------\n",
            "Iteration 1\n",
            "400/400 [==============================] - 10s 20ms/step - loss: 1.2294 - accuracy: 0.5956 - val_loss: 0.4325 - val_accuracy: 0.8505\n",
            "--------------------------------------------------\n",
            "Iteration 2\n",
            "400/400 [==============================] - 7s 18ms/step - loss: 0.1183 - accuracy: 0.9697 - val_loss: 0.0062 - val_accuracy: 1.0000\n",
            "--------------------------------------------------\n",
            "Iteration 3\n",
            "400/400 [==============================] - 7s 18ms/step - loss: 0.0030 - accuracy: 1.0000 - val_loss: 0.0015 - val_accuracy: 1.0000\n",
            "--------------------------------------------------\n",
            "Iteration 4\n",
            "400/400 [==============================] - 7s 18ms/step - loss: 0.0010 - accuracy: 1.0000 - val_loss: 6.6628e-04 - val_accuracy: 1.0000\n",
            "--------------------------------------------------\n",
            "Iteration 5\n",
            "400/400 [==============================] - 7s 19ms/step - loss: 5.2449e-04 - accuracy: 1.0000 - val_loss: 3.9638e-04 - val_accuracy: 1.0000\n"
          ],
          "name": "stdout"
        },
        {
          "output_type": "stream",
          "text": [
            "/usr/local/lib/python3.7/dist-packages/tensorflow/python/keras/engine/sequential.py:450: UserWarning: `model.predict_classes()` is deprecated and will be removed after 2021-01-01. Please use instead:* `np.argmax(model.predict(x), axis=-1)`,   if your model does multi-class classification   (e.g. if it uses a `softmax` last-layer activation).* `(model.predict(x) > 0.5).astype(\"int32\")`,   if your model does binary classification   (e.g. if it uses a `sigmoid` last-layer activation).\n",
            "  warnings.warn('`model.predict_classes()` is deprecated and '\n"
          ],
          "name": "stderr"
        },
        {
          "output_type": "stream",
          "text": [
            "\u001b[92m-5 -12 -19     = -26  ☑ -26 \u001b[0m\n",
            "\u001b[92m6 13 20        = 27   ☑ 27  \u001b[0m\n",
            "\u001b[92m6 6 6          = 6    ☑ 6   \u001b[0m\n",
            "\u001b[92m-1 0 1         = 2    ☑ 2   \u001b[0m\n",
            "\u001b[92m-2 -4 -6       = -8   ☑ -8  \u001b[0m\n",
            "\u001b[92m-5 -9 -13      = -17  ☑ -17 \u001b[0m\n",
            "\u001b[92m9 9 9          = 9    ☑ 9   \u001b[0m\n",
            "\u001b[92m3 5 7          = 9    ☑ 9   \u001b[0m\n",
            "\u001b[92m5 -2 -9        = -16  ☑ -16 \u001b[0m\n",
            "\u001b[92m4 6 8          = 10   ☑ 10  \u001b[0m\n",
            "--------------------------------------------------\n",
            "Iteration 6\n",
            "400/400 [==============================] - 7s 19ms/step - loss: 3.2588e-04 - accuracy: 1.0000 - val_loss: 2.3953e-04 - val_accuracy: 1.0000\n",
            "--------------------------------------------------\n",
            "Iteration 7\n",
            "400/400 [==============================] - 7s 19ms/step - loss: 2.1970e-04 - accuracy: 1.0000 - val_loss: 1.6183e-04 - val_accuracy: 1.0000\n",
            "--------------------------------------------------\n",
            "Iteration 8\n",
            "400/400 [==============================] - 7s 18ms/step - loss: 1.5958e-04 - accuracy: 1.0000 - val_loss: 1.1467e-04 - val_accuracy: 1.0000\n",
            "--------------------------------------------------\n",
            "Iteration 9\n",
            "400/400 [==============================] - 7s 18ms/step - loss: 1.2231e-04 - accuracy: 1.0000 - val_loss: 8.3573e-05 - val_accuracy: 1.0000\n",
            "--------------------------------------------------\n",
            "Iteration 10\n",
            "400/400 [==============================] - 7s 18ms/step - loss: 9.2587e-05 - accuracy: 1.0000 - val_loss: 6.1399e-05 - val_accuracy: 1.0000\n",
            "\u001b[92m-8 -10 -12     = -14  ☑ -14 \u001b[0m\n",
            "\u001b[92m-1 -3 -5       = -7   ☑ -7  \u001b[0m\n",
            "\u001b[92m3 5 7          = 9    ☑ 9   \u001b[0m\n",
            "\u001b[92m-3 -6 -9       = -12  ☑ -12 \u001b[0m\n",
            "\u001b[92m2 -5 -12       = -19  ☑ -19 \u001b[0m\n",
            "\u001b[92m-7 -9 -11      = -13  ☑ -13 \u001b[0m\n",
            "\u001b[92m9 12 15        = 18   ☑ 18  \u001b[0m\n",
            "\u001b[92m-1 -10 -19     = -28  ☑ -28 \u001b[0m\n",
            "\u001b[92m-8 -5 -2       = 1    ☑ 1   \u001b[0m\n",
            "\u001b[92m-6 2 10        = 18   ☑ 18  \u001b[0m\n",
            "--------------------------------------------------\n",
            "Iteration 11\n",
            "400/400 [==============================] - 7s 18ms/step - loss: 0.3473 - accuracy: 0.8934 - val_loss: 0.2383 - val_accuracy: 0.9337\n",
            "--------------------------------------------------\n",
            "Iteration 12\n",
            "400/400 [==============================] - 7s 18ms/step - loss: 0.0370 - accuracy: 0.9952 - val_loss: 0.0037 - val_accuracy: 1.0000\n",
            "--------------------------------------------------\n",
            "Iteration 13\n",
            "400/400 [==============================] - 7s 18ms/step - loss: 0.0021 - accuracy: 1.0000 - val_loss: 0.0012 - val_accuracy: 1.0000\n",
            "--------------------------------------------------\n",
            "Iteration 14\n",
            "400/400 [==============================] - 7s 18ms/step - loss: 9.2529e-04 - accuracy: 1.0000 - val_loss: 6.4796e-04 - val_accuracy: 1.0000\n",
            "--------------------------------------------------\n",
            "Iteration 15\n",
            "400/400 [==============================] - 7s 18ms/step - loss: 5.4397e-04 - accuracy: 1.0000 - val_loss: 4.0841e-04 - val_accuracy: 1.0000\n",
            "\u001b[92m-2 0 2         = 4    ☑ 4   \u001b[0m\n",
            "\u001b[92m0 4 8          = 12   ☑ 12  \u001b[0m\n",
            "\u001b[92m0 8 16         = 24   ☑ 24  \u001b[0m\n",
            "\u001b[92m2 5 8          = 11   ☑ 11  \u001b[0m\n",
            "\u001b[92m-7 0 7         = 14   ☑ 14  \u001b[0m\n",
            "\u001b[92m-7 -2 3        = 8    ☑ 8   \u001b[0m\n",
            "\u001b[92m-8 -1 6        = 13   ☑ 13  \u001b[0m\n",
            "\u001b[92m5 -3 -11       = -19  ☑ -19 \u001b[0m\n",
            "\u001b[92m4 8 12         = 16   ☑ 16  \u001b[0m\n",
            "\u001b[92m-4 5 14        = 23   ☑ 23  \u001b[0m\n",
            "--------------------------------------------------\n",
            "Iteration 16\n",
            "400/400 [==============================] - 7s 18ms/step - loss: 3.6486e-04 - accuracy: 1.0000 - val_loss: 2.7554e-04 - val_accuracy: 1.0000\n",
            "--------------------------------------------------\n",
            "Iteration 17\n",
            "400/400 [==============================] - 7s 18ms/step - loss: 2.6241e-04 - accuracy: 1.0000 - val_loss: 1.9282e-04 - val_accuracy: 1.0000\n",
            "--------------------------------------------------\n",
            "Iteration 18\n",
            "400/400 [==============================] - 7s 19ms/step - loss: 1.9773e-04 - accuracy: 1.0000 - val_loss: 1.4224e-04 - val_accuracy: 1.0000\n",
            "--------------------------------------------------\n",
            "Iteration 19\n",
            "400/400 [==============================] - 7s 18ms/step - loss: 1.5379e-04 - accuracy: 1.0000 - val_loss: 1.0576e-04 - val_accuracy: 1.0000\n",
            "--------------------------------------------------\n",
            "Iteration 20\n",
            "400/400 [==============================] - 7s 19ms/step - loss: 1.2272e-04 - accuracy: 1.0000 - val_loss: 8.0663e-05 - val_accuracy: 1.0000\n",
            "\u001b[92m2 3 4          = 5    ☑ 5   \u001b[0m\n",
            "\u001b[92m0 3 6          = 9    ☑ 9   \u001b[0m\n",
            "\u001b[92m9 16 23        = 30   ☑ 30  \u001b[0m\n",
            "\u001b[92m4 12 20        = 28   ☑ 28  \u001b[0m\n",
            "\u001b[92m5 4 3          = 2    ☑ 2   \u001b[0m\n",
            "\u001b[92m5 -3 -11       = -19  ☑ -19 \u001b[0m\n",
            "\u001b[92m-2 -4 -6       = -8   ☑ -8  \u001b[0m\n",
            "\u001b[92m6 10 14        = 18   ☑ 18  \u001b[0m\n",
            "\u001b[92m-2 -4 -6       = -8   ☑ -8  \u001b[0m\n",
            "\u001b[92m6 11 16        = 21   ☑ 21  \u001b[0m\n",
            "--------------------------------------------------\n",
            "Iteration 21\n",
            "400/400 [==============================] - 7s 18ms/step - loss: 1.0073e-04 - accuracy: 1.0000 - val_loss: 6.2828e-05 - val_accuracy: 1.0000\n",
            "--------------------------------------------------\n",
            "Iteration 22\n",
            "400/400 [==============================] - 7s 18ms/step - loss: 8.2611e-05 - accuracy: 1.0000 - val_loss: 5.2986e-05 - val_accuracy: 1.0000\n",
            "--------------------------------------------------\n",
            "Iteration 23\n",
            "400/400 [==============================] - 7s 18ms/step - loss: 0.2486 - accuracy: 0.9252 - val_loss: 0.5265 - val_accuracy: 0.7887\n",
            "--------------------------------------------------\n",
            "Iteration 24\n",
            "400/400 [==============================] - 7s 18ms/step - loss: 0.0677 - accuracy: 0.9784 - val_loss: 0.0015 - val_accuracy: 1.0000\n",
            "--------------------------------------------------\n",
            "Iteration 25\n",
            "400/400 [==============================] - 7s 18ms/step - loss: 8.8438e-04 - accuracy: 1.0000 - val_loss: 5.3753e-04 - val_accuracy: 1.0000\n",
            "\u001b[92m-1 1 3         = 5    ☑ 5   \u001b[0m\n",
            "\u001b[92m5 10 15        = 20   ☑ 20  \u001b[0m\n",
            "\u001b[92m-9 -10 -11     = -12  ☑ -12 \u001b[0m\n",
            "\u001b[92m-7 -3 1        = 5    ☑ 5   \u001b[0m\n",
            "\u001b[92m-9 -10 -11     = -12  ☑ -12 \u001b[0m\n",
            "\u001b[92m8 14 20        = 26   ☑ 26  \u001b[0m\n",
            "\u001b[92m-3 -11 -19     = -27  ☑ -27 \u001b[0m\n",
            "\u001b[92m3 7 11         = 15   ☑ 15  \u001b[0m\n",
            "\u001b[92m-7 -16 -25     = -34  ☑ -34 \u001b[0m\n",
            "\u001b[92m-8 -4 0        = 4    ☑ 4   \u001b[0m\n",
            "--------------------------------------------------\n",
            "Iteration 26\n",
            "400/400 [==============================] - 7s 18ms/step - loss: 4.1416e-04 - accuracy: 1.0000 - val_loss: 2.8759e-04 - val_accuracy: 1.0000\n",
            "--------------------------------------------------\n",
            "Iteration 27\n",
            "400/400 [==============================] - 7s 18ms/step - loss: 2.5431e-04 - accuracy: 1.0000 - val_loss: 1.8195e-04 - val_accuracy: 1.0000\n",
            "--------------------------------------------------\n",
            "Iteration 28\n",
            "400/400 [==============================] - 7s 18ms/step - loss: 1.7568e-04 - accuracy: 1.0000 - val_loss: 1.2398e-04 - val_accuracy: 1.0000\n",
            "--------------------------------------------------\n",
            "Iteration 29\n",
            "400/400 [==============================] - 7s 18ms/step - loss: 1.2908e-04 - accuracy: 1.0000 - val_loss: 1.2595e-04 - val_accuracy: 1.0000\n",
            "--------------------------------------------------\n",
            "Iteration 30\n",
            "400/400 [==============================] - 7s 18ms/step - loss: 1.0380e-04 - accuracy: 1.0000 - val_loss: 6.5078e-05 - val_accuracy: 1.0000\n",
            "\u001b[92m6 15 24        = 33   ☑ 33  \u001b[0m\n",
            "\u001b[92m-4 3 10        = 17   ☑ 17  \u001b[0m\n",
            "\u001b[92m-7 -9 -11      = -13  ☑ -13 \u001b[0m\n",
            "\u001b[92m-5 -12 -19     = -26  ☑ -26 \u001b[0m\n",
            "\u001b[92m0 -6 -12       = -18  ☑ -18 \u001b[0m\n",
            "\u001b[92m-8 -17 -26     = -35  ☑ -35 \u001b[0m\n",
            "\u001b[92m-2 1 4         = 7    ☑ 7   \u001b[0m\n",
            "\u001b[92m6 5 4          = 3    ☑ 3   \u001b[0m\n",
            "\u001b[92m-8 -2 4        = 10   ☑ 10  \u001b[0m\n",
            "\u001b[92m-7 -9 -11      = -13  ☑ -13 \u001b[0m\n",
            "--------------------------------------------------\n",
            "Iteration 31\n",
            "400/400 [==============================] - 7s 18ms/step - loss: 0.1608 - accuracy: 0.9583 - val_loss: 0.0052 - val_accuracy: 1.0000\n",
            "--------------------------------------------------\n",
            "Iteration 32\n",
            "400/400 [==============================] - 7s 18ms/step - loss: 0.0021 - accuracy: 1.0000 - val_loss: 9.5539e-04 - val_accuracy: 1.0000\n",
            "--------------------------------------------------\n",
            "Iteration 33\n",
            "400/400 [==============================] - 7s 18ms/step - loss: 6.8127e-04 - accuracy: 1.0000 - val_loss: 4.5754e-04 - val_accuracy: 1.0000\n",
            "--------------------------------------------------\n",
            "Iteration 34\n",
            "400/400 [==============================] - 7s 18ms/step - loss: 3.7822e-04 - accuracy: 1.0000 - val_loss: 2.7373e-04 - val_accuracy: 1.0000\n",
            "--------------------------------------------------\n",
            "Iteration 35\n",
            "400/400 [==============================] - 7s 18ms/step - loss: 2.4801e-04 - accuracy: 1.0000 - val_loss: 1.8101e-04 - val_accuracy: 1.0000\n",
            "\u001b[92m-3 -8 -13      = -18  ☑ -18 \u001b[0m\n",
            "\u001b[92m7 6 5          = 4    ☑ 4   \u001b[0m\n",
            "\u001b[92m5 10 15        = 20   ☑ 20  \u001b[0m\n",
            "\u001b[92m5 5 5          = 5    ☑ 5   \u001b[0m\n",
            "\u001b[92m-7 -11 -15     = -19  ☑ -19 \u001b[0m\n",
            "\u001b[92m3 2 1          = 0    ☑ 0   \u001b[0m\n",
            "\u001b[92m6 10 14        = 18   ☑ 18  \u001b[0m\n",
            "\u001b[92m1 10 19        = 28   ☑ 28  \u001b[0m\n",
            "\u001b[92m5 8 11         = 14   ☑ 14  \u001b[0m\n",
            "\u001b[92m-4 -9 -14      = -19  ☑ -19 \u001b[0m\n",
            "--------------------------------------------------\n",
            "Iteration 36\n",
            "400/400 [==============================] - 7s 18ms/step - loss: 1.7752e-04 - accuracy: 1.0000 - val_loss: 1.2697e-04 - val_accuracy: 1.0000\n",
            "--------------------------------------------------\n",
            "Iteration 37\n",
            "400/400 [==============================] - 7s 19ms/step - loss: 1.3456e-04 - accuracy: 1.0000 - val_loss: 9.2502e-05 - val_accuracy: 1.0000\n",
            "--------------------------------------------------\n",
            "Iteration 38\n",
            "400/400 [==============================] - 7s 18ms/step - loss: 1.0623e-04 - accuracy: 1.0000 - val_loss: 6.9058e-05 - val_accuracy: 1.0000\n",
            "--------------------------------------------------\n",
            "Iteration 39\n",
            "400/400 [==============================] - 7s 18ms/step - loss: 8.6613e-05 - accuracy: 1.0000 - val_loss: 5.2582e-05 - val_accuracy: 1.0000\n",
            "--------------------------------------------------\n",
            "Iteration 40\n",
            "400/400 [==============================] - 7s 18ms/step - loss: 7.2476e-05 - accuracy: 1.0000 - val_loss: 4.0918e-05 - val_accuracy: 1.0000\n",
            "\u001b[92m-4 1 6         = 11   ☑ 11  \u001b[0m\n",
            "\u001b[92m-8 -2 4        = 10   ☑ 10  \u001b[0m\n",
            "\u001b[92m-1 7 15        = 23   ☑ 23  \u001b[0m\n",
            "\u001b[92m-6 -14 -22     = -30  ☑ -30 \u001b[0m\n",
            "\u001b[92m-4 -1 2        = 5    ☑ 5   \u001b[0m\n",
            "\u001b[92m-2 1 4         = 7    ☑ 7   \u001b[0m\n",
            "\u001b[92m6 9 12         = 15   ☑ 15  \u001b[0m\n",
            "\u001b[92m6 10 14        = 18   ☑ 18  \u001b[0m\n",
            "\u001b[92m6 7 8          = 9    ☑ 9   \u001b[0m\n",
            "\u001b[92m9 12 15        = 18   ☑ 18  \u001b[0m\n",
            "--------------------------------------------------\n",
            "Iteration 41\n",
            "400/400 [==============================] - 7s 18ms/step - loss: 6.1914e-05 - accuracy: 1.0000 - val_loss: 3.1352e-05 - val_accuracy: 1.0000\n",
            "--------------------------------------------------\n",
            "Iteration 42\n",
            "400/400 [==============================] - 7s 18ms/step - loss: 5.4256e-05 - accuracy: 1.0000 - val_loss: 2.4878e-05 - val_accuracy: 1.0000\n",
            "--------------------------------------------------\n",
            "Iteration 43\n",
            "400/400 [==============================] - 7s 18ms/step - loss: 4.8273e-05 - accuracy: 1.0000 - val_loss: 1.9592e-05 - val_accuracy: 1.0000\n",
            "--------------------------------------------------\n",
            "Iteration 44\n",
            "400/400 [==============================] - 7s 19ms/step - loss: 4.3556e-05 - accuracy: 1.0000 - val_loss: 1.6826e-05 - val_accuracy: 1.0000\n",
            "--------------------------------------------------\n",
            "Iteration 45\n",
            "400/400 [==============================] - 7s 19ms/step - loss: 3.9755e-05 - accuracy: 1.0000 - val_loss: 1.2391e-05 - val_accuracy: 1.0000\n",
            "\u001b[92m-5 0 5         = 10   ☑ 10  \u001b[0m\n",
            "\u001b[92m0 -2 -4        = -6   ☑ -6  \u001b[0m\n",
            "\u001b[92m8 2 -4         = -10  ☑ -10 \u001b[0m\n",
            "\u001b[92m-4 -6 -8       = -10  ☑ -10 \u001b[0m\n",
            "\u001b[92m6 11 16        = 21   ☑ 21  \u001b[0m\n",
            "\u001b[92m8 5 2          = -1   ☑ -1  \u001b[0m\n",
            "\u001b[92m7 11 15        = 19   ☑ 19  \u001b[0m\n",
            "\u001b[92m-8 -13 -18     = -23  ☑ -23 \u001b[0m\n",
            "\u001b[92m2 -4 -10       = -16  ☑ -16 \u001b[0m\n",
            "\u001b[92m-3 -11 -19     = -27  ☑ -27 \u001b[0m\n",
            "--------------------------------------------------\n",
            "Iteration 46\n",
            "400/400 [==============================] - 7s 18ms/step - loss: 0.0907 - accuracy: 0.9814 - val_loss: 0.0030 - val_accuracy: 1.0000\n",
            "--------------------------------------------------\n",
            "Iteration 47\n",
            "400/400 [==============================] - 7s 18ms/step - loss: 0.0013 - accuracy: 1.0000 - val_loss: 6.5466e-04 - val_accuracy: 1.0000\n",
            "--------------------------------------------------\n",
            "Iteration 48\n",
            "400/400 [==============================] - 7s 18ms/step - loss: 4.8317e-04 - accuracy: 1.0000 - val_loss: 3.2897e-04 - val_accuracy: 1.0000\n",
            "--------------------------------------------------\n",
            "Iteration 49\n",
            "400/400 [==============================] - 7s 19ms/step - loss: 2.7827e-04 - accuracy: 1.0000 - val_loss: 2.0148e-04 - val_accuracy: 1.0000\n",
            "--------------------------------------------------\n",
            "Iteration 50\n",
            "400/400 [==============================] - 8s 19ms/step - loss: 1.8541e-04 - accuracy: 1.0000 - val_loss: 1.3583e-04 - val_accuracy: 1.0000\n",
            "\u001b[92m-5 -12 -19     = -26  ☑ -26 \u001b[0m\n",
            "\u001b[92m2 -1 -4        = -7   ☑ -7  \u001b[0m\n",
            "\u001b[92m-1 -4 -7       = -10  ☑ -10 \u001b[0m\n",
            "\u001b[92m-5 -6 -7       = -8   ☑ -8  \u001b[0m\n",
            "\u001b[92m0 -6 -12       = -18  ☑ -18 \u001b[0m\n",
            "\u001b[92m5 1 -3         = -7   ☑ -7  \u001b[0m\n",
            "\u001b[92m-8 -1 6        = 13   ☑ 13  \u001b[0m\n",
            "\u001b[92m-1 2 5         = 8    ☑ 8   \u001b[0m\n",
            "\u001b[92m2 -3 -8        = -13  ☑ -13 \u001b[0m\n",
            "\u001b[92m6 9 12         = 15   ☑ 15  \u001b[0m\n"
          ],
          "name": "stdout"
        }
      ]
    },
    {
      "cell_type": "code",
      "metadata": {
        "id": "99CRqBJqfi-1",
        "colab": {
          "base_uri": "https://localhost:8080/",
          "height": 265
        },
        "outputId": "bdb9c447-ed8e-457b-ab5b-9e26258b06ac"
      },
      "source": [
        "plt.plot(loss, label='loss')\n",
        "plt.plot(val_loss, label='validation loss')\n",
        "plt.plot(acc, label='accuracy')\n",
        "plt.plot(val_acc, label='validation accuracy')\n",
        "plt.legend()\n",
        "plt.show()"
      ],
      "id": "99CRqBJqfi-1",
      "execution_count": null,
      "outputs": [
        {
          "output_type": "display_data",
          "data": {
            "image/png": "[encoded data removed]",
            "text/plain": [
              "<Figure size 432x288 with 1 Axes>"
            ]
          },
          "metadata": {
            "tags": [],
            "needs_background": "light"
          }
        }
      ]
    },
    {
      "cell_type": "code",
      "metadata": {
        "id": "hahXRX94grvP",
        "colab": {
          "base_uri": "https://localhost:8080/"
        },
        "outputId": "2fcb938f-cbd8-4591-9be5-784ca9963fa6"
      },
      "source": [
        "test_string = \"-100 70 80\"\n",
        "\n",
        "encoded = encoder.encode(test_string, MAXLEN)\n",
        "\n",
        "result = model.predict(np.array([encoded]))\n",
        "\n",
        "print(np.argmax(result[0], axis=1))\n",
        "print(encoder.decode(result[0]))"
      ],
      "id": "hahXRX94grvP",
      "execution_count": null,
      "outputs": [
        {
          "output_type": "stream",
          "text": [
            "[ 3 10  0  0]\n",
            "18  \n"
          ],
          "name": "stdout"
        }
      ]
    },
    {
      "cell_type": "code",
      "metadata": {
        "id": "-7JcM_nojRRA"
      },
      "source": [
        "widgets.Text(value='Hello World', placeholder='Type something', description='String:', disabled=False)"
      ],
      "id": "-7JcM_nojRRA",
      "execution_count": null,
      "outputs": []
    }
  ]
}