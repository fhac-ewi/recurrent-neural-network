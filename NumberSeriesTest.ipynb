{
 "cells": [
  {
   "cell_type": "markdown",
   "id": "e7e39a40-adc3-46b2-b673-d4805b30400e",
   "metadata": {
    "id": "e7e39a40-adc3-46b2-b673-d4805b30400e"
   },
   "source": [
    "This is just a test"
   ]
  },
  {
   "cell_type": "code",
   "execution_count": 1,
   "id": "7b64915f-ae26-400a-9dc5-d9588f0dd7b1",
   "metadata": {
    "execution": {
     "iopub.execute_input": "2021-05-06T11:03:31.943454Z",
     "iopub.status.busy": "2021-05-06T11:03:31.943123Z",
     "iopub.status.idle": "2021-05-06T11:03:33.530483Z",
     "shell.execute_reply": "2021-05-06T11:03:33.529266Z",
     "shell.execute_reply.started": "2021-05-06T11:03:31.943371Z"
    },
    "id": "7b64915f-ae26-400a-9dc5-d9588f0dd7b1",
    "tags": []
   },
   "outputs": [
    {
     "name": "stderr",
     "output_type": "stream",
     "text": [
      "Using TensorFlow backend.\n"
     ]
    }
   ],
   "source": [
    "from keras.models import Sequential, Model\n",
    "from keras.layers import LSTM, GRU, SimpleRNN, RepeatVector, TimeDistributed, Dense, Input, Lambda\n",
    "import keras.backend as K\n",
    "import numpy as np\n",
    "import matplotlib.pyplot as plt\n",
    "from sklearn.model_selection import train_test_split\n",
    "from datetime import timedelta\n",
    "import time"
   ]
  },
  {
   "cell_type": "code",
   "execution_count": 2,
   "id": "98a68525-bf5a-43a9-87d8-b6782c0ba368",
   "metadata": {
    "execution": {
     "iopub.execute_input": "2021-05-06T11:03:33.531862Z",
     "iopub.status.busy": "2021-05-06T11:03:33.531698Z",
     "iopub.status.idle": "2021-05-06T11:03:33.739344Z",
     "shell.execute_reply": "2021-05-06T11:03:33.738535Z",
     "shell.execute_reply.started": "2021-05-06T11:03:33.531842Z"
    },
    "tags": []
   },
   "outputs": [
    {
     "name": "stdout",
     "output_type": "stream",
     "text": [
      "Avaiable tensorflow devices\n",
      " -> /device:CPU:0 is a CPU (  )\n",
      " -> /device:XLA_CPU:0 is a XLA_CPU ( device: XLA_CPU device )\n",
      " -> /device:GPU:0 is a GPU ( device: 0, name: GeForce GTX 1080 Ti, pci bus id: 0000:01:00.0, compute capability: 6.1 )\n",
      " -> /device:XLA_GPU:0 is a XLA_GPU ( device: XLA_GPU device )\n"
     ]
    }
   ],
   "source": [
    "from tensorflow.python.client import device_lib\n",
    "print(\"Avaiable tensorflow devices\")\n",
    "for d in device_lib.list_local_devices():\n",
    "    print(\" ->\", d.name, \"is a\", d.device_type, \"(\", d.physical_device_desc, \")\")"
   ]
  },
  {
   "cell_type": "code",
   "execution_count": 3,
   "id": "41e1f799-b20b-474f-92e8-f74c84f5317f",
   "metadata": {
    "execution": {
     "iopub.execute_input": "2021-05-06T11:03:33.740713Z",
     "iopub.status.busy": "2021-05-06T11:03:33.740425Z",
     "iopub.status.idle": "2021-05-06T11:03:33.744555Z",
     "shell.execute_reply": "2021-05-06T11:03:33.743795Z",
     "shell.execute_reply.started": "2021-05-06T11:03:33.740684Z"
    },
    "id": "41e1f799-b20b-474f-92e8-f74c84f5317f",
    "tags": []
   },
   "outputs": [],
   "source": [
    "ALPHABET = '0123456789- '\n",
    "DIGITS = 3\n",
    "DATA_CREATION_AMOUNT = 1_000_000\n",
    "MAX_EXPONENT = 4\n",
    "TEST_SIZE = 0.2"
   ]
  },
  {
   "cell_type": "code",
   "execution_count": 4,
   "id": "ecad2dab-d513-4986-a42c-e3d2c67acca0",
   "metadata": {
    "execution": {
     "iopub.execute_input": "2021-05-06T11:03:33.745816Z",
     "iopub.status.busy": "2021-05-06T11:03:33.745577Z",
     "iopub.status.idle": "2021-05-06T11:03:33.755615Z",
     "shell.execute_reply": "2021-05-06T11:03:33.754925Z",
     "shell.execute_reply.started": "2021-05-06T11:03:33.745771Z"
    },
    "id": "ecad2dab-d513-4986-a42c-e3d2c67acca0",
    "tags": []
   },
   "outputs": [],
   "source": [
    "TRAINING_SERIES_LEN = MAX_EXPONENT + 1\n",
    "\n",
    "HIDDEN_SIZE = 256\n",
    "EPOCHS = 50\n",
    "ALPHABET_LENGTH = len(ALPHABET)\n",
    "MAXLEN = (DIGITS + 1) * TRAINING_SERIES_LEN + (TRAINING_SERIES_LEN - 1) "
   ]
  },
  {
   "cell_type": "code",
   "execution_count": 5,
   "id": "efb5a51e-a558-4d2a-b360-8a39ad9d4058",
   "metadata": {
    "execution": {
     "iopub.execute_input": "2021-05-06T11:03:33.756591Z",
     "iopub.status.busy": "2021-05-06T11:03:33.756433Z",
     "iopub.status.idle": "2021-05-06T11:03:33.765075Z",
     "shell.execute_reply": "2021-05-06T11:03:33.764516Z",
     "shell.execute_reply.started": "2021-05-06T11:03:33.756570Z"
    },
    "id": "efb5a51e-a558-4d2a-b360-8a39ad9d4058",
    "tags": []
   },
   "outputs": [],
   "source": [
    "class OneHot(object):\n",
    "    def __init__(self, characters):\n",
    "        self.chars = sorted(set(characters))\n",
    "        self.char_to_index = dict((char, i) for i, char in enumerate(self.chars))\n",
    "        self.index_to_char = dict((i, char) for i, char in enumerate(self.chars))\n",
    "\n",
    "    def encode(self, string, length):\n",
    "        enc = np.zeros((length, len(self.chars)))\n",
    "        for i, char in enumerate(string):\n",
    "            enc[i, self.char_to_index[char]] = 1\n",
    "        for i in range(len(string), length):\n",
    "            enc[i, self.char_to_index[' ']] = 1\n",
    "        return enc\n",
    "    \n",
    "    def decode(self, mat):            \n",
    "        return \"\".join([self.decode_line(mat[x]) for x in range(mat.shape[0])])\n",
    "    \n",
    "    def decode_line(self, vec):\n",
    "        return self.index_to_char[np.argmax(vec)]"
   ]
  },
  {
   "cell_type": "code",
   "execution_count": 6,
   "id": "bf8c0c72-8c83-4693-bb43-cafc16749ec4",
   "metadata": {
    "execution": {
     "iopub.execute_input": "2021-05-06T11:03:33.765965Z",
     "iopub.status.busy": "2021-05-06T11:03:33.765809Z",
     "iopub.status.idle": "2021-05-06T11:03:33.775565Z",
     "shell.execute_reply": "2021-05-06T11:03:33.774657Z",
     "shell.execute_reply.started": "2021-05-06T11:03:33.765945Z"
    },
    "id": "bf8c0c72-8c83-4693-bb43-cafc16749ec4",
    "tags": []
   },
   "outputs": [],
   "source": [
    "def create_data(size, train_series_len, max_exp=9, min_factor=-9, max_factor=9, digits=DIGITS):\n",
    "    X = []\n",
    "    y = []\n",
    "    hist = []\n",
    "    max_value = 10 ** digits - 1\n",
    "    min_value = -max_value\n",
    "    value_store = set()\n",
    "    while len(X) < size:\n",
    "        exp = np.random.randint(low=1, high=max_exp + 1)\n",
    "        \n",
    "        series_len = np.random.randint(low=exp + 1, high=train_series_len + 1, size=1)[0]\n",
    "        \n",
    "        factors = np.random.randint(low=min_factor, high=max_factor + 1, size=exp + 1)\n",
    "        \n",
    "        fun = lambda _i: sum(f * (_i ** x) for x, f in enumerate(factors))\n",
    "        \n",
    "        series = tuple(fun(i) for i in range(series_len + 1))\n",
    "        \n",
    "        if not series in value_store and all(min_value <= x <= max_value for x in series):\n",
    "            X.append(\" \".join([str(x) for x in series[:-1]]))\n",
    "            y.append(str(series[-1]))\n",
    "        \n",
    "    return X, y"
   ]
  },
  {
   "cell_type": "code",
   "execution_count": 7,
   "id": "aff71c2e-77a5-46df-8f8c-5f629852ac68",
   "metadata": {
    "colab": {
     "base_uri": "https://localhost:8080/"
    },
    "execution": {
     "iopub.execute_input": "2021-05-06T11:03:33.777433Z",
     "iopub.status.busy": "2021-05-06T11:03:33.777224Z",
     "iopub.status.idle": "2021-05-06T11:05:42.560030Z",
     "shell.execute_reply": "2021-05-06T11:05:42.558943Z",
     "shell.execute_reply.started": "2021-05-06T11:03:33.777412Z"
    },
    "id": "aff71c2e-77a5-46df-8f8c-5f629852ac68",
    "outputId": "e2a6053f-ab79-4999-e66a-2a9d8e75dca3",
    "tags": []
   },
   "outputs": [
    {
     "name": "stdout",
     "output_type": "stream",
     "text": [
      "Created 1000000 data points\n"
     ]
    }
   ],
   "source": [
    "X, y = create_data(size=DATA_CREATION_AMOUNT, train_series_len=TRAINING_SERIES_LEN, max_exp=MAX_EXPONENT)\n",
    "\n",
    "encoder = OneHot(ALPHABET)\n",
    "for i in range(len(X)):\n",
    "    X[i] = encoder.encode(X[i], MAXLEN)\n",
    "    y[i] = encoder.encode(y[i], DIGITS + 1)\n",
    "    \n",
    "print(f\"Created {len(X)} data points\")"
   ]
  },
  {
   "cell_type": "code",
   "execution_count": 8,
   "id": "f46c7294-e52c-42e2-b9e2-f33d87a23c43",
   "metadata": {
    "colab": {
     "base_uri": "https://localhost:8080/"
    },
    "execution": {
     "iopub.execute_input": "2021-05-06T11:05:42.561304Z",
     "iopub.status.busy": "2021-05-06T11:05:42.561131Z",
     "iopub.status.idle": "2021-05-06T11:05:46.335334Z",
     "shell.execute_reply": "2021-05-06T11:05:46.332557Z",
     "shell.execute_reply.started": "2021-05-06T11:05:42.561282Z"
    },
    "id": "f46c7294-e52c-42e2-b9e2-f33d87a23c43",
    "outputId": "5987e23c-fd17-46e8-dac3-9fb54f0e7a9a",
    "tags": []
   },
   "outputs": [
    {
     "name": "stdout",
     "output_type": "stream",
     "text": [
      "X_train: (800000, 24, 12)\n",
      "y_train: (800000, 4, 12)\n",
      "X_val  : (200000, 24, 12)\n",
      "y_val  : (200000, 4, 12)\n"
     ]
    }
   ],
   "source": [
    "X = np.array(X)\n",
    "y = np.array(y)\n",
    "X_train, X_val, y_train, y_val = train_test_split(X, y, test_size=TEST_SIZE)\n",
    "\n",
    "print(\"X_train:\", X_train.shape)\n",
    "print(\"y_train:\", y_train.shape)\n",
    "print(\"X_val  :\", X_val.shape)\n",
    "print(\"y_val  :\", y_val.shape)"
   ]
  },
  {
   "cell_type": "code",
   "execution_count": 9,
   "id": "1c292cdf-c1f5-40c7-ac07-bcf67bf32bca",
   "metadata": {
    "colab": {
     "base_uri": "https://localhost:8080/"
    },
    "execution": {
     "iopub.execute_input": "2021-05-06T11:05:46.337007Z",
     "iopub.status.busy": "2021-05-06T11:05:46.336681Z",
     "iopub.status.idle": "2021-05-06T11:05:46.342543Z",
     "shell.execute_reply": "2021-05-06T11:05:46.341899Z",
     "shell.execute_reply.started": "2021-05-06T11:05:46.336968Z"
    },
    "id": "1c292cdf-c1f5-40c7-ac07-bcf67bf32bca",
    "outputId": "c8f5de93-c5d8-47d1-c5a9-975212633cfe",
    "tags": []
   },
   "outputs": [],
   "source": [
    "lstn_input_shape = (MAXLEN, ALPHABET_LENGTH)\n",
    "\n",
    "def create_model():\n",
    "\n",
    "    _model = Sequential()\n",
    "    _model.add(LSTM(HIDDEN_SIZE, input_shape=lstn_input_shape)) # Encoder\n",
    "    _model.add(RepeatVector(DIGITS + 1))  # Stellt dem RNN im nächsten Schritt die Ausgabe des vorherigen bereit\n",
    "    _model.add(LSTM(HIDDEN_SIZE, return_sequences=True)) # Decoder\n",
    "    _model.add(TimeDistributed(Dense(ALPHABET_LENGTH, activation='softmax'))) # Wendet eine `Dense` Schicht auf jede Ausgabe des Decoders an\n",
    "                                    # und ermittelt mittels 'softmax'-Funktion die Auswahlwahrscheinlichkeiten der Zeichen\n",
    "    _model.compile(loss='categorical_crossentropy', optimizer='adam', metrics=['accuracy'])\n",
    "    \n",
    "    return _model"
   ]
  },
  {
   "cell_type": "code",
   "execution_count": 10,
   "id": "b818a506-6168-4676-a5f9-8360ecc736ab",
   "metadata": {
    "execution": {
     "iopub.execute_input": "2021-05-06T11:05:46.343608Z",
     "iopub.status.busy": "2021-05-06T11:05:46.343378Z",
     "iopub.status.idle": "2021-05-06T11:05:46.354157Z",
     "shell.execute_reply": "2021-05-06T11:05:46.353331Z",
     "shell.execute_reply.started": "2021-05-06T11:05:46.343586Z"
    },
    "id": "b818a506-6168-4676-a5f9-8360ecc736ab",
    "tags": []
   },
   "outputs": [],
   "source": [
    "class colors:\n",
    "    ok = '\\033[92m'\n",
    "    fail = '\\033[91m'\n",
    "    close = '\\033[0m'"
   ]
  },
  {
   "cell_type": "code",
   "execution_count": 11,
   "id": "e610d4df-696e-453d-a23b-8b4470bf3c2e",
   "metadata": {
    "execution": {
     "iopub.execute_input": "2021-05-06T11:05:46.355155Z",
     "iopub.status.busy": "2021-05-06T11:05:46.354988Z",
     "iopub.status.idle": "2021-05-06T11:05:46.367998Z",
     "shell.execute_reply": "2021-05-06T11:05:46.367103Z",
     "shell.execute_reply.started": "2021-05-06T11:05:46.355133Z"
    },
    "id": "e610d4df-696e-453d-a23b-8b4470bf3c2e",
    "tags": []
   },
   "outputs": [],
   "source": [
    "def train(model, X_train, y_train, X_val, y_val, encoder, epochs):\n",
    "    loss, acc, val_loss, val_acc = [], [], [], []\n",
    "    for iteration in range(1, epochs + 1):\n",
    "        print('-' * 50)\n",
    "        print('Iteration', iteration)\n",
    "        #print(\"X_train:\", X_train.shape, \"; y_train:\", y_train.shape)\n",
    "        hist = model.fit(X_train, y_train,\n",
    "                  batch_size=1000,\n",
    "                  epochs=1,\n",
    "                  validation_data=(X_val, y_val))\n",
    "        loss.append(hist.history['loss'])\n",
    "        acc.append(hist.history['accuracy'])\n",
    "        val_loss.append(hist.history['val_loss'])\n",
    "        val_acc.append(hist.history['val_accuracy'])\n",
    "        if iteration % 5 == 0:\n",
    "            for i in range(10):\n",
    "                ind = np.random.randint(0, X_val.shape[0])\n",
    "                rowx, rowy = X_val[ind], y_val[ind]\n",
    "                strx = encoder.decode(rowx)\n",
    "                stry = encoder.decode(rowy)\n",
    "                preds = model.predict(np.array([rowx]))\n",
    "                strpred = encoder.decode(preds[0])\n",
    "                if stry.strip() == strpred.strip():\n",
    "                    print('{}{} -> {} ☑(real:{}){}'.format(colors.ok, strx, strpred, stry, colors.close))\n",
    "                else:\n",
    "                    print('{}{} -> {} ☒(real:{}){}'.format(colors.fail, strx, strpred, stry, colors.close))\n",
    "    return loss, acc, val_loss, val_acc"
   ]
  },
  {
   "cell_type": "code",
   "execution_count": 12,
   "id": "d2e53b68-0d82-4112-901a-a6f9838a6830",
   "metadata": {
    "colab": {
     "base_uri": "https://localhost:8080/"
    },
    "execution": {
     "iopub.execute_input": "2021-05-06T11:05:46.369525Z",
     "iopub.status.busy": "2021-05-06T11:05:46.369203Z",
     "iopub.status.idle": "2021-05-06T11:39:03.433988Z",
     "shell.execute_reply": "2021-05-06T11:39:03.433023Z",
     "shell.execute_reply.started": "2021-05-06T11:05:46.369487Z"
    },
    "id": "d2e53b68-0d82-4112-901a-a6f9838a6830",
    "outputId": "85240b0c-4a15-43c1-bdd6-fc186f53aa4f",
    "tags": []
   },
   "outputs": [
    {
     "name": "stdout",
     "output_type": "stream",
     "text": [
      "Training model:\n",
      "Model: \"sequential_1\"\n",
      "_________________________________________________________________\n",
      "Layer (type)                 Output Shape              Param #   \n",
      "=================================================================\n",
      "lstm_1 (LSTM)                (None, 256)               275456    \n",
      "_________________________________________________________________\n",
      "repeat_vector_1 (RepeatVecto (None, 4, 256)            0         \n",
      "_________________________________________________________________\n",
      "lstm_2 (LSTM)                (None, 4, 256)            525312    \n",
      "_________________________________________________________________\n",
      "time_distributed_1 (TimeDist (None, 4, 12)             3084      \n",
      "=================================================================\n",
      "Total params: 803,852\n",
      "Trainable params: 803,852\n",
      "Non-trainable params: 0\n",
      "_________________________________________________________________\n",
      "None\n",
      "--------------------------------------------------\n",
      "Iteration 1\n",
      "Train on 800000 samples, validate on 200000 samples\n",
      "Epoch 1/1\n",
      "800000/800000 [==============================] - 42s 53us/step - loss: 1.3903 - accuracy: 0.5173 - val_loss: 1.0842 - val_accuracy: 0.5949\n",
      "--------------------------------------------------\n",
      "Iteration 2\n",
      "Train on 800000 samples, validate on 200000 samples\n",
      "Epoch 1/1\n",
      "800000/800000 [==============================] - 41s 51us/step - loss: 0.9094 - accuracy: 0.6533 - val_loss: 0.7481 - val_accuracy: 0.7146\n",
      "--------------------------------------------------\n",
      "Iteration 3\n",
      "Train on 800000 samples, validate on 200000 samples\n",
      "Epoch 1/1\n",
      "800000/800000 [==============================] - 39s 48us/step - loss: 0.6547 - accuracy: 0.7463 - val_loss: 0.5677 - val_accuracy: 0.7735\n",
      "--------------------------------------------------\n",
      "Iteration 4\n",
      "Train on 800000 samples, validate on 200000 samples\n",
      "Epoch 1/1\n",
      "800000/800000 [==============================] - 39s 49us/step - loss: 0.5262 - accuracy: 0.7896 - val_loss: 0.4737 - val_accuracy: 0.8148\n",
      "--------------------------------------------------\n",
      "Iteration 5\n",
      "Train on 800000 samples, validate on 200000 samples\n",
      "Epoch 1/1\n",
      "800000/800000 [==============================] - 39s 49us/step - loss: 0.4372 - accuracy: 0.8264 - val_loss: 0.4167 - val_accuracy: 0.8330\n",
      "\u001b[92m-2 -5 -6                 -> -5   ☑(real:-5  )\u001b[0m\n",
      "\u001b[92m-4 -2 0 2 4              -> 6    ☑(real:6   )\u001b[0m\n",
      "\u001b[92m2 11 22                  -> 35   ☑(real:35  )\u001b[0m\n",
      "\u001b[92m5 6 7 8 9                -> 10   ☑(real:10  )\u001b[0m\n",
      "\u001b[91m-2 -15 -22 1             -> 66   ☒(real:78  )\u001b[0m\n",
      "\u001b[92m-3 -7 -19 -39 -67        -> -103 ☑(real:-103)\u001b[0m\n",
      "\u001b[92m5 4 3 2 1                -> 0    ☑(real:0   )\u001b[0m\n",
      "\u001b[91m0 0 38 150               -> 370  ☒(real:372 )\u001b[0m\n",
      "\u001b[92m-1 1 -11                 -> -37  ☑(real:-37 )\u001b[0m\n",
      "\u001b[92m5 12 19                  -> 26   ☑(real:26  )\u001b[0m\n",
      "--------------------------------------------------\n",
      "Iteration 6\n",
      "Train on 800000 samples, validate on 200000 samples\n",
      "Epoch 1/1\n",
      "800000/800000 [==============================] - 41s 51us/step - loss: 0.3848 - accuracy: 0.8454 - val_loss: 0.3586 - val_accuracy: 0.8548\n",
      "--------------------------------------------------\n",
      "Iteration 7\n",
      "Train on 800000 samples, validate on 200000 samples\n",
      "Epoch 1/1\n",
      "800000/800000 [==============================] - 41s 51us/step - loss: 0.3366 - accuracy: 0.8632 - val_loss: 0.3133 - val_accuracy: 0.8728\n",
      "--------------------------------------------------\n",
      "Iteration 8\n",
      "Train on 800000 samples, validate on 200000 samples\n",
      "Epoch 1/1\n",
      "800000/800000 [==============================] - 39s 48us/step - loss: 0.3094 - accuracy: 0.8741 - val_loss: 0.3123 - val_accuracy: 0.8727\n",
      "--------------------------------------------------\n",
      "Iteration 9\n",
      "Train on 800000 samples, validate on 200000 samples\n",
      "Epoch 1/1\n",
      "800000/800000 [==============================] - 38s 47us/step - loss: 0.2796 - accuracy: 0.8862 - val_loss: 0.2677 - val_accuracy: 0.8911\n",
      "--------------------------------------------------\n",
      "Iteration 10\n",
      "Train on 800000 samples, validate on 200000 samples\n",
      "Epoch 1/1\n",
      "800000/800000 [==============================] - 38s 48us/step - loss: 0.2529 - accuracy: 0.8973 - val_loss: 0.2450 - val_accuracy: 0.9004\n",
      "\u001b[92m-8 -1                    -> 6    ☑(real:6   )\u001b[0m\n",
      "\u001b[92m3 4 23 60                -> 115  ☑(real:115 )\u001b[0m\n",
      "\u001b[92m4 20 52 100 164          -> 244  ☑(real:244 )\u001b[0m\n",
      "\u001b[92m4 10 56 166 364          -> 674  ☑(real:674 )\u001b[0m\n",
      "\u001b[92m0 3 -2 -15 -36           -> -65  ☑(real:-65 )\u001b[0m\n",
      "\u001b[92m5 15 37 71 117           -> 175  ☑(real:175 )\u001b[0m\n",
      "\u001b[91m-1 -17 -61 -109 -89      -> 101  ☒(real:119 )\u001b[0m\n",
      "\u001b[91m3 12 67 198              -> 447  ☒(real:435 )\u001b[0m\n",
      "\u001b[92m1 -1 -3 -5 -7            -> -9   ☑(real:-9  )\u001b[0m\n",
      "\u001b[92m8 14 52 146 320          -> 598  ☑(real:598 )\u001b[0m\n",
      "--------------------------------------------------\n",
      "Iteration 11\n",
      "Train on 800000 samples, validate on 200000 samples\n",
      "Epoch 1/1\n",
      "800000/800000 [==============================] - 39s 49us/step - loss: 0.2382 - accuracy: 0.9030 - val_loss: 0.2407 - val_accuracy: 0.9004\n",
      "--------------------------------------------------\n",
      "Iteration 12\n",
      "Train on 800000 samples, validate on 200000 samples\n",
      "Epoch 1/1\n",
      "800000/800000 [==============================] - 39s 48us/step - loss: 0.2211 - accuracy: 0.9107 - val_loss: 0.2273 - val_accuracy: 0.9069\n",
      "--------------------------------------------------\n",
      "Iteration 13\n",
      "Train on 800000 samples, validate on 200000 samples\n",
      "Epoch 1/1\n",
      "800000/800000 [==============================] - 39s 48us/step - loss: 0.2018 - accuracy: 0.9181 - val_loss: 0.1998 - val_accuracy: 0.9182\n",
      "--------------------------------------------------\n",
      "Iteration 14\n",
      "Train on 800000 samples, validate on 200000 samples\n",
      "Epoch 1/1\n",
      "800000/800000 [==============================] - 39s 49us/step - loss: 0.1996 - accuracy: 0.9195 - val_loss: 0.1959 - val_accuracy: 0.9213\n",
      "--------------------------------------------------\n",
      "Iteration 15\n",
      "Train on 800000 samples, validate on 200000 samples\n",
      "Epoch 1/1\n",
      "800000/800000 [==============================] - 40s 50us/step - loss: 0.1760 - accuracy: 0.9287 - val_loss: 0.1932 - val_accuracy: 0.9210\n",
      "\u001b[92m-2 0 2 4 6               -> 8    ☑(real:8   )\u001b[0m\n",
      "\u001b[92m5 12 19 26               -> 33   ☑(real:33  )\u001b[0m\n",
      "\u001b[91m-7 2 41 146              -> 357  ☒(real:353 )\u001b[0m\n",
      "\u001b[91m-6 -1 6 63 266           -> 779  ☒(real:759 )\u001b[0m\n",
      "\u001b[92m9 16 23 30 37            -> 44   ☑(real:44  )\u001b[0m\n",
      "\u001b[91m8 6 6 26                 -> 88   ☒(real:84  )\u001b[0m\n",
      "\u001b[92m3 -3 -9 -15              -> -21  ☑(real:-21 )\u001b[0m\n",
      "\u001b[92m9 18 27                  -> 36   ☑(real:36  )\u001b[0m\n",
      "\u001b[91m7 11                     -> 14   ☒(real:15  )\u001b[0m\n",
      "\u001b[92m0 7 14                   -> 21   ☑(real:21  )\u001b[0m\n",
      "--------------------------------------------------\n",
      "Iteration 16\n",
      "Train on 800000 samples, validate on 200000 samples\n",
      "Epoch 1/1\n",
      "800000/800000 [==============================] - 40s 50us/step - loss: 0.1765 - accuracy: 0.9283 - val_loss: 0.1638 - val_accuracy: 0.9354\n",
      "--------------------------------------------------\n",
      "Iteration 17\n",
      "Train on 800000 samples, validate on 200000 samples\n",
      "Epoch 1/1\n",
      "800000/800000 [==============================] - 40s 49us/step - loss: 0.1580 - accuracy: 0.9357 - val_loss: 0.1555 - val_accuracy: 0.9377\n",
      "--------------------------------------------------\n",
      "Iteration 18\n",
      "Train on 800000 samples, validate on 200000 samples\n",
      "Epoch 1/1\n",
      "800000/800000 [==============================] - 39s 49us/step - loss: 0.1584 - accuracy: 0.9354 - val_loss: 0.1679 - val_accuracy: 0.9331\n",
      "--------------------------------------------------\n",
      "Iteration 19\n",
      "Train on 800000 samples, validate on 200000 samples\n",
      "Epoch 1/1\n",
      "800000/800000 [==============================] - 39s 49us/step - loss: 0.1496 - accuracy: 0.9389 - val_loss: 0.1447 - val_accuracy: 0.9416\n",
      "--------------------------------------------------\n",
      "Iteration 20\n",
      "Train on 800000 samples, validate on 200000 samples\n",
      "Epoch 1/1\n",
      "800000/800000 [==============================] - 39s 48us/step - loss: 0.1411 - accuracy: 0.9421 - val_loss: 0.1499 - val_accuracy: 0.9385\n",
      "\u001b[92m-5 -4 -3                 -> -2   ☑(real:-2  )\u001b[0m\n",
      "\u001b[92m0 -4 -8 -12 -16          -> -20  ☑(real:-20 )\u001b[0m\n",
      "\u001b[92m-5 -1 3 7 11             -> 15   ☑(real:15  )\u001b[0m\n",
      "\u001b[92m-4 -4 -4                 -> -4   ☑(real:-4  )\u001b[0m\n",
      "\u001b[91m9 7 35 135               -> 343  ☒(real:349 )\u001b[0m\n",
      "\u001b[92m-3 -6 -7                 -> -6   ☑(real:-6  )\u001b[0m\n",
      "\u001b[91m8 9 -36 -175             -> -458 ☒(real:-456)\u001b[0m\n",
      "\u001b[91m-8 -16 -54 -158          -> -360 ☒(real:-364)\u001b[0m\n",
      "\u001b[92m6 14                     -> 22   ☑(real:22  )\u001b[0m\n",
      "\u001b[92m0 -7 -14                 -> -21  ☑(real:-21 )\u001b[0m\n",
      "--------------------------------------------------\n",
      "Iteration 21\n",
      "Train on 800000 samples, validate on 200000 samples\n",
      "Epoch 1/1\n",
      "800000/800000 [==============================] - 38s 48us/step - loss: 0.1394 - accuracy: 0.9428 - val_loss: 0.1512 - val_accuracy: 0.9383\n",
      "--------------------------------------------------\n",
      "Iteration 22\n",
      "Train on 800000 samples, validate on 200000 samples\n",
      "Epoch 1/1\n",
      "800000/800000 [==============================] - 39s 49us/step - loss: 0.1287 - accuracy: 0.9470 - val_loss: 0.1448 - val_accuracy: 0.9400\n",
      "--------------------------------------------------\n",
      "Iteration 23\n",
      "Train on 800000 samples, validate on 200000 samples\n",
      "Epoch 1/1\n",
      "800000/800000 [==============================] - 39s 49us/step - loss: 0.1297 - accuracy: 0.9464 - val_loss: 0.1343 - val_accuracy: 0.9444\n",
      "--------------------------------------------------\n",
      "Iteration 24\n",
      "Train on 800000 samples, validate on 200000 samples\n",
      "Epoch 1/1\n",
      "800000/800000 [==============================] - 39s 49us/step - loss: 0.1268 - accuracy: 0.9477 - val_loss: 0.1286 - val_accuracy: 0.9472\n",
      "--------------------------------------------------\n",
      "Iteration 25\n",
      "Train on 800000 samples, validate on 200000 samples\n",
      "Epoch 1/1\n",
      "800000/800000 [==============================] - 40s 50us/step - loss: 0.1199 - accuracy: 0.9501 - val_loss: 0.1169 - val_accuracy: 0.9526\n",
      "\u001b[91m-5 -6 -39 -152           -> -399 ☒(real:-393)\u001b[0m\n",
      "\u001b[91m5 -4 -27 -112 -355       -> -990 ☒(real:-900)\u001b[0m\n",
      "\u001b[91m3 17 77 231              -> 521  ☒(real:527 )\u001b[0m\n",
      "\u001b[92m-2 -4 -6                 -> -8   ☑(real:-8  )\u001b[0m\n",
      "\u001b[92m0 -5 -24 -57             -> -104 ☑(real:-104)\u001b[0m\n",
      "\u001b[92m-3 5 25 57 101           -> 157  ☑(real:157 )\u001b[0m\n",
      "\u001b[92m-8 -11                   -> -14  ☑(real:-14 )\u001b[0m\n",
      "\u001b[92m3 11 19 27 35            -> 43   ☑(real:43  )\u001b[0m\n",
      "\u001b[92m7 12 31                  -> 64   ☑(real:64  )\u001b[0m\n",
      "\u001b[92m-4 4                     -> 12   ☑(real:12  )\u001b[0m\n",
      "--------------------------------------------------\n",
      "Iteration 26\n",
      "Train on 800000 samples, validate on 200000 samples\n",
      "Epoch 1/1\n",
      "800000/800000 [==============================] - 40s 50us/step - loss: 0.1196 - accuracy: 0.9508 - val_loss: 0.1219 - val_accuracy: 0.9499\n",
      "--------------------------------------------------\n",
      "Iteration 27\n",
      "Train on 800000 samples, validate on 200000 samples\n",
      "Epoch 1/1\n",
      "800000/800000 [==============================] - 40s 50us/step - loss: 0.1139 - accuracy: 0.9526 - val_loss: 0.1269 - val_accuracy: 0.9479\n",
      "--------------------------------------------------\n",
      "Iteration 28\n",
      "Train on 800000 samples, validate on 200000 samples\n",
      "Epoch 1/1\n",
      "800000/800000 [==============================] - 40s 50us/step - loss: 0.1158 - accuracy: 0.9523 - val_loss: 0.1161 - val_accuracy: 0.9520\n",
      "--------------------------------------------------\n",
      "Iteration 29\n",
      "Train on 800000 samples, validate on 200000 samples\n",
      "Epoch 1/1\n",
      "800000/800000 [==============================] - 39s 49us/step - loss: 0.1080 - accuracy: 0.9548 - val_loss: 0.1418 - val_accuracy: 0.9414\n",
      "--------------------------------------------------\n",
      "Iteration 30\n",
      "Train on 800000 samples, validate on 200000 samples\n",
      "Epoch 1/1\n",
      "800000/800000 [==============================] - 39s 49us/step - loss: 0.1114 - accuracy: 0.9540 - val_loss: 0.1143 - val_accuracy: 0.9533\n",
      "\u001b[92m1 9 17 25 33             -> 41   ☑(real:41  )\u001b[0m\n",
      "\u001b[92m-5 3 11 19               -> 27   ☑(real:27  )\u001b[0m\n",
      "\u001b[92m-5 0 5 10 15             -> 20   ☑(real:20  )\u001b[0m\n",
      "\u001b[91m4 -1 -32 -113            -> -264 ☒(real:-268)\u001b[0m\n",
      "\u001b[92m-5 -8 -7 -14             -> -41  ☑(real:-41 )\u001b[0m\n",
      "\u001b[92m0 0 -26 -108 -276        -> -560 ☑(real:-560)\u001b[0m\n",
      "\u001b[92m2 9 16 23 30             -> 37   ☑(real:37  )\u001b[0m\n",
      "\u001b[91m-8 -17 -36 -77 -152      -> -263 ☒(real:-273)\u001b[0m\n",
      "\u001b[92m-5 -7 -27                -> -65  ☑(real:-65 )\u001b[0m\n",
      "\u001b[92m3 20 55 108              -> 179  ☑(real:179 )\u001b[0m\n",
      "--------------------------------------------------\n",
      "Iteration 31\n",
      "Train on 800000 samples, validate on 200000 samples\n",
      "Epoch 1/1\n",
      "800000/800000 [==============================] - 39s 49us/step - loss: 0.1070 - accuracy: 0.9559 - val_loss: 0.1126 - val_accuracy: 0.9533\n",
      "--------------------------------------------------\n",
      "Iteration 32\n",
      "Train on 800000 samples, validate on 200000 samples\n",
      "Epoch 1/1\n",
      "800000/800000 [==============================] - 40s 50us/step - loss: 0.1022 - accuracy: 0.9573 - val_loss: 0.1084 - val_accuracy: 0.9555\n",
      "--------------------------------------------------\n",
      "Iteration 33\n",
      "Train on 800000 samples, validate on 200000 samples\n",
      "Epoch 1/1\n",
      "800000/800000 [==============================] - 39s 49us/step - loss: 0.0991 - accuracy: 0.9586 - val_loss: 0.1814 - val_accuracy: 0.9295\n",
      "--------------------------------------------------\n",
      "Iteration 34\n",
      "Train on 800000 samples, validate on 200000 samples\n",
      "Epoch 1/1\n",
      "800000/800000 [==============================] - 39s 49us/step - loss: 0.0991 - accuracy: 0.9590 - val_loss: 0.1053 - val_accuracy: 0.9566\n",
      "--------------------------------------------------\n",
      "Iteration 35\n",
      "Train on 800000 samples, validate on 200000 samples\n",
      "Epoch 1/1\n",
      "800000/800000 [==============================] - 39s 49us/step - loss: 0.1038 - accuracy: 0.9575 - val_loss: 0.1123 - val_accuracy: 0.9536\n",
      "\u001b[91m-3 -17 -61 -165          -> -355 ☒(real:-359)\u001b[0m\n",
      "\u001b[92m7 16 29                  -> 46   ☑(real:46  )\u001b[0m\n",
      "\u001b[92m-3 -5 -7 -9              -> -11  ☑(real:-11 )\u001b[0m\n",
      "\u001b[92m-8 -9 -52 -173           -> -408 ☑(real:-408)\u001b[0m\n",
      "\u001b[92m-8 -4 0 4                -> 8    ☑(real:8   )\u001b[0m\n",
      "\u001b[92m8 2 -4 -10 -16           -> -22  ☑(real:-22 )\u001b[0m\n",
      "\u001b[92m0 -2 -16 -42 -80         -> -130 ☑(real:-130)\u001b[0m\n",
      "\u001b[92m5 19 47 89               -> 145  ☑(real:145 )\u001b[0m\n",
      "\u001b[92m-2 5 12 19               -> 26   ☑(real:26  )\u001b[0m\n",
      "\u001b[92m9 9                      -> 9    ☑(real:9   )\u001b[0m\n",
      "--------------------------------------------------\n",
      "Iteration 36\n",
      "Train on 800000 samples, validate on 200000 samples\n",
      "Epoch 1/1\n",
      "800000/800000 [==============================] - 40s 50us/step - loss: 0.0920 - accuracy: 0.9615 - val_loss: 0.1078 - val_accuracy: 0.9558\n",
      "--------------------------------------------------\n",
      "Iteration 37\n",
      "Train on 800000 samples, validate on 200000 samples\n",
      "Epoch 1/1\n",
      "800000/800000 [==============================] - 40s 49us/step - loss: 0.0965 - accuracy: 0.9598 - val_loss: 0.1060 - val_accuracy: 0.9566\n",
      "--------------------------------------------------\n",
      "Iteration 38\n",
      "Train on 800000 samples, validate on 200000 samples\n",
      "Epoch 1/1\n",
      "800000/800000 [==============================] - 40s 49us/step - loss: 0.0957 - accuracy: 0.9604 - val_loss: 0.1018 - val_accuracy: 0.9582\n",
      "--------------------------------------------------\n",
      "Iteration 39\n",
      "Train on 800000 samples, validate on 200000 samples\n",
      "Epoch 1/1\n",
      "800000/800000 [==============================] - 40s 50us/step - loss: 0.0889 - accuracy: 0.9633 - val_loss: 0.0968 - val_accuracy: 0.9606\n",
      "--------------------------------------------------\n",
      "Iteration 40\n",
      "Train on 800000 samples, validate on 200000 samples\n",
      "Epoch 1/1\n",
      "800000/800000 [==============================] - 39s 49us/step - loss: 0.0921 - accuracy: 0.9620 - val_loss: 0.0963 - val_accuracy: 0.9610\n",
      "\u001b[92m-2 -1 36 133 314         -> 603  ☑(real:603 )\u001b[0m\n",
      "\u001b[92m-1 -7 -25 -55 -97        -> -151 ☑(real:-151)\u001b[0m\n",
      "\u001b[92m2 -17 -74 -193 -398      -> -713 ☑(real:-713)\u001b[0m\n",
      "\u001b[92m6 -5 -32 -81 -158        -> -269 ☑(real:-269)\u001b[0m\n",
      "\u001b[92m0 -7                     -> -14  ☑(real:-14 )\u001b[0m\n",
      "\u001b[92m6 17 32 51 74            -> 101  ☑(real:101 )\u001b[0m\n",
      "\u001b[92m7 16 25 34 43            -> 52   ☑(real:52  )\u001b[0m\n",
      "\u001b[92m-8 -11 -20 -35 -56       -> -83  ☑(real:-83 )\u001b[0m\n",
      "\u001b[92m0 11 50 153 356          -> 695  ☑(real:695 )\u001b[0m\n",
      "\u001b[91m3 -2 -29 -24 139         -> 678  ☒(real:658 )\u001b[0m\n",
      "--------------------------------------------------\n",
      "Iteration 41\n",
      "Train on 800000 samples, validate on 200000 samples\n",
      "Epoch 1/1\n",
      "800000/800000 [==============================] - 42s 53us/step - loss: 0.0868 - accuracy: 0.9642 - val_loss: 0.3160 - val_accuracy: 0.9077\n",
      "--------------------------------------------------\n",
      "Iteration 42\n",
      "Train on 800000 samples, validate on 200000 samples\n",
      "Epoch 1/1\n",
      "800000/800000 [==============================] - 42s 53us/step - loss: 0.0861 - accuracy: 0.9647 - val_loss: 0.0955 - val_accuracy: 0.9617\n",
      "--------------------------------------------------\n",
      "Iteration 43\n",
      "Train on 800000 samples, validate on 200000 samples\n",
      "Epoch 1/1\n",
      "800000/800000 [==============================] - 40s 50us/step - loss: 0.0871 - accuracy: 0.9643 - val_loss: 0.0962 - val_accuracy: 0.9620\n",
      "--------------------------------------------------\n",
      "Iteration 44\n",
      "Train on 800000 samples, validate on 200000 samples\n",
      "Epoch 1/1\n",
      "800000/800000 [==============================] - 39s 49us/step - loss: 0.0816 - accuracy: 0.9667 - val_loss: 0.0945 - val_accuracy: 0.9625\n",
      "--------------------------------------------------\n",
      "Iteration 45\n",
      "Train on 800000 samples, validate on 200000 samples\n",
      "Epoch 1/1\n",
      "800000/800000 [==============================] - 41s 51us/step - loss: 0.0831 - accuracy: 0.9660 - val_loss: 0.0953 - val_accuracy: 0.9619\n",
      "\u001b[92m-3 11 61 183 413         -> 787  ☑(real:787 )\u001b[0m\n",
      "\u001b[92m-9 -3 19 57 111          -> 181  ☑(real:181 )\u001b[0m\n",
      "\u001b[92m-9 -10 -1                -> 18   ☑(real:18  )\u001b[0m\n",
      "\u001b[92m1 -10 -37                -> -80  ☑(real:-80 )\u001b[0m\n",
      "\u001b[92m-1 5 9 11                -> 11   ☑(real:11  )\u001b[0m\n",
      "\u001b[92m4 -3 -46 -179 -456       -> -931 ☑(real:-931)\u001b[0m\n",
      "\u001b[91m9 3 39 171               -> 441  ☒(real:453 )\u001b[0m\n",
      "\u001b[92m-5 -6 -5 16              -> 75   ☑(real:75  )\u001b[0m\n",
      "\u001b[92m-1 -4 27 128 335         -> 684  ☑(real:684 )\u001b[0m\n",
      "\u001b[92m3 -1 -11 -27 -49         -> -77  ☑(real:-77 )\u001b[0m\n",
      "--------------------------------------------------\n",
      "Iteration 46\n",
      "Train on 800000 samples, validate on 200000 samples\n",
      "Epoch 1/1\n",
      "800000/800000 [==============================] - 42s 53us/step - loss: 0.0784 - accuracy: 0.9682 - val_loss: 0.1066 - val_accuracy: 0.9579\n",
      "--------------------------------------------------\n",
      "Iteration 47\n",
      "Train on 800000 samples, validate on 200000 samples\n",
      "Epoch 1/1\n",
      "800000/800000 [==============================] - 42s 52us/step - loss: 0.0816 - accuracy: 0.9677 - val_loss: 0.1514 - val_accuracy: 0.9445\n",
      "--------------------------------------------------\n",
      "Iteration 48\n",
      "Train on 800000 samples, validate on 200000 samples\n",
      "Epoch 1/1\n",
      "800000/800000 [==============================] - 42s 53us/step - loss: 0.0719 - accuracy: 0.9716 - val_loss: 0.0954 - val_accuracy: 0.9638\n",
      "--------------------------------------------------\n",
      "Iteration 49\n",
      "Train on 800000 samples, validate on 200000 samples\n",
      "Epoch 1/1\n",
      "800000/800000 [==============================] - 43s 54us/step - loss: 0.0815 - accuracy: 0.9689 - val_loss: 0.0851 - val_accuracy: 0.9678\n",
      "--------------------------------------------------\n",
      "Iteration 50\n",
      "Train on 800000 samples, validate on 200000 samples\n",
      "Epoch 1/1\n",
      "800000/800000 [==============================] - 42s 53us/step - loss: 0.0658 - accuracy: 0.9746 - val_loss: 0.1128 - val_accuracy: 0.9590\n",
      "\u001b[92m4 7 20 43                -> 76   ☑(real:76  )\u001b[0m\n",
      "\u001b[92m-9 7 41 93 163           -> 251  ☑(real:251 )\u001b[0m\n",
      "\u001b[92m0 13 38                  -> 75   ☑(real:75  )\u001b[0m\n",
      "\u001b[92m-3 -10 -17               -> -24  ☑(real:-24 )\u001b[0m\n",
      "\u001b[92m3 -6 -21 -42 -69         -> -102 ☑(real:-102)\u001b[0m\n",
      "\u001b[92m-3 11 43 93 161          -> 247  ☑(real:247 )\u001b[0m\n",
      "\u001b[92m1 -8 -17                 -> -26  ☑(real:-26 )\u001b[0m\n",
      "\u001b[92m-6 -5 -12 -27            -> -50  ☑(real:-50 )\u001b[0m\n",
      "\u001b[92m6 -1                     -> -8   ☑(real:-8  )\u001b[0m\n",
      "\u001b[91m2 -3 -38 -115            -> -242 ☒(real:-246)\u001b[0m\n",
      "Training took 0:33:15.970896\n"
     ]
    }
   ],
   "source": [
    "model = create_model()\n",
    "\n",
    "print(\"Training model:\")\n",
    "print(model.summary())\n",
    "\n",
    "start = time.time()\n",
    "loss, acc, val_loss, val_acc = train(model, X_train, y_train, X_val, y_val, encoder, EPOCHS)\n",
    "end = time.time()\n",
    "\n",
    "print(\"Training took\", timedelta(seconds=end - start))"
   ]
  },
  {
   "cell_type": "code",
   "execution_count": 13,
   "id": "99CRqBJqfi-1",
   "metadata": {
    "colab": {
     "base_uri": "https://localhost:8080/",
     "height": 265
    },
    "execution": {
     "iopub.execute_input": "2021-05-06T11:39:03.435726Z",
     "iopub.status.busy": "2021-05-06T11:39:03.435426Z",
     "iopub.status.idle": "2021-05-06T11:39:03.639317Z",
     "shell.execute_reply": "2021-05-06T11:39:03.637999Z",
     "shell.execute_reply.started": "2021-05-06T11:39:03.435686Z"
    },
    "id": "99CRqBJqfi-1",
    "outputId": "f9f257ff-4959-4d56-afbc-27c4851e377a"
   },
   "outputs": [
    {
     "data": {
      "image/png": "[encoded data removed]",
      "text/plain": [
       "<Figure size 432x288 with 1 Axes>"
      ]
     },
     "metadata": {
      "needs_background": "light"
     },
     "output_type": "display_data"
    }
   ],
   "source": [
    "plt.plot(loss, label='loss')\n",
    "plt.plot(val_loss, label='validation loss')\n",
    "plt.plot(acc, label='accuracy')\n",
    "plt.plot(val_acc, label='validation accuracy')\n",
    "plt.legend()\n",
    "plt.show()"
   ]
  },
  {
   "cell_type": "code",
   "execution_count": 15,
   "id": "-7JcM_nojRRA",
   "metadata": {
    "colab": {
     "base_uri": "https://localhost:8080/",
     "height": 163
    },
    "execution": {
     "iopub.execute_input": "2021-05-06T11:39:03.662473Z",
     "iopub.status.busy": "2021-05-06T11:39:03.662220Z",
     "iopub.status.idle": "2021-05-06T11:39:03.765308Z",
     "shell.execute_reply": "2021-05-06T11:39:03.764557Z",
     "shell.execute_reply.started": "2021-05-06T11:39:03.662448Z"
    },
    "id": "-7JcM_nojRRA",
    "outputId": "3fa57f0e-e119-480b-bb37-f481641cee7a",
    "tags": []
   },
   "outputs": [
    {
     "data": {
      "application/vnd.jupyter.widget-view+json": {
       "model_id": "7b4d8af574a94c409877f78a95d37a87",
       "version_major": 2,
       "version_minor": 0
      },
      "text/plain": [
       "interactive(children=(Text(value='1 2 3 4', description='Number sequence', placeholder='Insert your sequence h…"
      ]
     },
     "metadata": {},
     "output_type": "display_data"
    }
   ],
   "source": [
    "from IPython.display import display\n",
    "from ipywidgets import interactive, fixed\n",
    "import ipywidgets as widgets\n",
    "\n",
    "\n",
    "def i_am_thinking(sequence, trained_model):\n",
    "    encoded = np.array([encoder.encode(sequence, MAXLEN)])\n",
    "\n",
    "    result = trained_model.predict(encoded)\n",
    "\n",
    "    #print(np.argmax(result[0], axis=1))\n",
    "    print(\"I think the following number to the sequence\", encoder.decode(encoded[0]).strip(), \"is\", encoder.decode(result[0]).strip())\n",
    "\n",
    "w = interactive(i_am_thinking,\n",
    "                sequence=widgets.Text(value='1 2 3 4', placeholder='Insert your sequence here', description='Number sequence', disabled=False),\n",
    "                trained_model=fixed(model))\n",
    "\n",
    "display(w)"
   ]
  },
  {
   "cell_type": "code",
   "execution_count": null,
   "id": "C9my0VHRdMRt",
   "metadata": {
    "id": "C9my0VHRdMRt"
   },
   "outputs": [],
   "source": []
  }
 ],
 "metadata": {
  "accelerator": "GPU",
  "colab": {
   "name": "Copy of NumberSeriesTest.ipynb",
   "provenance": []
  },
  "kernelspec": {
   "display_name": "Python 3",
   "language": "python",
   "name": "python3"
  },
  "language_info": {
   "codemirror_mode": {
    "name": "ipython",
    "version": 3
   },
   "file_extension": ".py",
   "mimetype": "text/x-python",
   "name": "python",
   "nbconvert_exporter": "python",
   "pygments_lexer": "ipython3",
   "version": "3.7.0"
  }
 },
 "nbformat": 4,
 "nbformat_minor": 5
}
