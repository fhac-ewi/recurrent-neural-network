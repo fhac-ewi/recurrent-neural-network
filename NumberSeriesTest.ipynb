{
 "cells": [
  {
   "cell_type": "markdown",
   "id": "e7e39a40-adc3-46b2-b673-d4805b30400e",
   "metadata": {
    "id": "e7e39a40-adc3-46b2-b673-d4805b30400e"
   },
   "source": [
    "This is just a test"
   ]
  },
  {
   "cell_type": "code",
   "execution_count": 1,
   "id": "7b64915f-ae26-400a-9dc5-d9588f0dd7b1",
   "metadata": {
    "execution": {
     "iopub.execute_input": "2021-05-06T09:44:20.599861Z",
     "iopub.status.busy": "2021-05-06T09:44:20.599630Z",
     "iopub.status.idle": "2021-05-06T09:44:22.412047Z",
     "shell.execute_reply": "2021-05-06T09:44:22.410900Z",
     "shell.execute_reply.started": "2021-05-06T09:44:20.599794Z"
    },
    "id": "7b64915f-ae26-400a-9dc5-d9588f0dd7b1",
    "tags": []
   },
   "outputs": [
    {
     "name": "stderr",
     "output_type": "stream",
     "text": [
      "Using TensorFlow backend.\n"
     ]
    }
   ],
   "source": [
    "from keras.models import Sequential, Model\n",
    "from keras.layers import LSTM, GRU, SimpleRNN, RepeatVector, TimeDistributed, Dense, Input, Lambda\n",
    "import keras.backend as K\n",
    "import numpy as np\n",
    "import matplotlib.pyplot as plt\n",
    "from sklearn.model_selection import train_test_split\n",
    "from datetime import timedelta\n",
    "import time"
   ]
  },
  {
   "cell_type": "code",
   "execution_count": 2,
   "id": "98a68525-bf5a-43a9-87d8-b6782c0ba368",
   "metadata": {
    "execution": {
     "iopub.execute_input": "2021-05-06T09:44:22.413749Z",
     "iopub.status.busy": "2021-05-06T09:44:22.413566Z",
     "iopub.status.idle": "2021-05-06T09:44:22.608946Z",
     "shell.execute_reply": "2021-05-06T09:44:22.608154Z",
     "shell.execute_reply.started": "2021-05-06T09:44:22.413726Z"
    },
    "tags": []
   },
   "outputs": [
    {
     "name": "stdout",
     "output_type": "stream",
     "text": [
      "Avaiable tensorflow devices\n",
      " -> /device:CPU:0 is a CPU (  )\n",
      " -> /device:XLA_CPU:0 is a XLA_CPU ( device: XLA_CPU device )\n",
      " -> /device:GPU:0 is a GPU ( device: 0, name: GeForce GTX 1080 Ti, pci bus id: 0000:01:00.0, compute capability: 6.1 )\n",
      " -> /device:XLA_GPU:0 is a XLA_GPU ( device: XLA_GPU device )\n"
     ]
    }
   ],
   "source": [
    "from tensorflow.python.client import device_lib\n",
    "print(\"Avaiable tensorflow devices\")\n",
    "for d in device_lib.list_local_devices():\n",
    "    print(\" ->\", d.name, \"is a\", d.device_type, \"(\", d.physical_device_desc, \")\")"
   ]
  },
  {
   "cell_type": "code",
   "execution_count": 3,
   "id": "41e1f799-b20b-474f-92e8-f74c84f5317f",
   "metadata": {
    "execution": {
     "iopub.execute_input": "2021-05-06T09:44:22.611129Z",
     "iopub.status.busy": "2021-05-06T09:44:22.610816Z",
     "iopub.status.idle": "2021-05-06T09:44:22.615123Z",
     "shell.execute_reply": "2021-05-06T09:44:22.614367Z",
     "shell.execute_reply.started": "2021-05-06T09:44:22.611096Z"
    },
    "id": "41e1f799-b20b-474f-92e8-f74c84f5317f",
    "tags": []
   },
   "outputs": [],
   "source": [
    "ALPHABET = '0123456789- '\n",
    "DIGITS = 3\n",
    "DATA_CREATION_AMOUNT = 1_000_000\n",
    "MAX_EXPONENT = 4\n",
    "TEST_SIZE = 0.2"
   ]
  },
  {
   "cell_type": "code",
   "execution_count": 4,
   "id": "ecad2dab-d513-4986-a42c-e3d2c67acca0",
   "metadata": {
    "execution": {
     "iopub.execute_input": "2021-05-06T09:44:22.616303Z",
     "iopub.status.busy": "2021-05-06T09:44:22.616110Z",
     "iopub.status.idle": "2021-05-06T09:44:22.626454Z",
     "shell.execute_reply": "2021-05-06T09:44:22.625650Z",
     "shell.execute_reply.started": "2021-05-06T09:44:22.616278Z"
    },
    "id": "ecad2dab-d513-4986-a42c-e3d2c67acca0",
    "tags": []
   },
   "outputs": [],
   "source": [
    "TRAINING_SERIES_LEN = MAX_EXPONENT + 1\n",
    "\n",
    "HIDDEN_SIZE = 256\n",
    "EPOCHS = 50\n",
    "ALPHABET_LENGTH = len(ALPHABET)\n",
    "MAXLEN = (DIGITS + 1) * TRAINING_SERIES_LEN + (TRAINING_SERIES_LEN - 1) "
   ]
  },
  {
   "cell_type": "code",
   "execution_count": 5,
   "id": "efb5a51e-a558-4d2a-b360-8a39ad9d4058",
   "metadata": {
    "execution": {
     "iopub.execute_input": "2021-05-06T09:44:22.627542Z",
     "iopub.status.busy": "2021-05-06T09:44:22.627350Z",
     "iopub.status.idle": "2021-05-06T09:44:22.639595Z",
     "shell.execute_reply": "2021-05-06T09:44:22.638780Z",
     "shell.execute_reply.started": "2021-05-06T09:44:22.627521Z"
    },
    "id": "efb5a51e-a558-4d2a-b360-8a39ad9d4058",
    "tags": []
   },
   "outputs": [],
   "source": [
    "class OneHot(object):\n",
    "    def __init__(self, characters):\n",
    "        self.chars = sorted(set(characters))\n",
    "        self.char_to_index = dict((char, i) for i, char in enumerate(self.chars))\n",
    "        self.index_to_char = dict((i, char) for i, char in enumerate(self.chars))\n",
    "\n",
    "    def encode(self, string, length):\n",
    "        enc = np.zeros((length, len(self.chars)))\n",
    "        for i, char in enumerate(string):\n",
    "            enc[i, self.char_to_index[char]] = 1\n",
    "        for i in range(len(string), length):\n",
    "            enc[i, self.char_to_index[' ']] = 1\n",
    "        return enc\n",
    "    \n",
    "    def decode(self, mat):            \n",
    "        return \"\".join([self.decode_line(mat[x]) for x in range(mat.shape[0])])\n",
    "    \n",
    "    def decode_line(self, vec):\n",
    "        return self.index_to_char[np.argmax(vec)]"
   ]
  },
  {
   "cell_type": "code",
   "execution_count": 6,
   "id": "bf8c0c72-8c83-4693-bb43-cafc16749ec4",
   "metadata": {
    "execution": {
     "iopub.execute_input": "2021-05-06T09:44:22.640756Z",
     "iopub.status.busy": "2021-05-06T09:44:22.640544Z",
     "iopub.status.idle": "2021-05-06T09:44:22.664742Z",
     "shell.execute_reply": "2021-05-06T09:44:22.664174Z",
     "shell.execute_reply.started": "2021-05-06T09:44:22.640730Z"
    },
    "id": "bf8c0c72-8c83-4693-bb43-cafc16749ec4",
    "tags": []
   },
   "outputs": [],
   "source": [
    "def create_data(size, train_series_len, max_exp=9, min_factor=-9, max_factor=9, digits=DIGITS):\n",
    "    X = []\n",
    "    y = []\n",
    "    hist = []\n",
    "    max_value = 10 ** digits - 1\n",
    "    min_value = -max_value\n",
    "    value_store = set()\n",
    "    while len(X) < size:\n",
    "        exp = np.random.randint(low=1, high=max_exp + 1)\n",
    "        factors = np.random.randint(low=min_factor, high=max_factor + 1, size=exp + 1)\n",
    "        \n",
    "        fun = lambda _i: sum(f * (_i ** x) for x, f in enumerate(factors))\n",
    "        \n",
    "        series = tuple(fun(i) for i in range(train_series_len + 1))\n",
    "        \n",
    "        if not series in value_store and all(min_value <= x <= max_value for x in series):\n",
    "            X.append(\" \".join([str(x) for x in series[:-1]]))\n",
    "            y.append(str(series[-1]))\n",
    "        \n",
    "    return X, y"
   ]
  },
  {
   "cell_type": "code",
   "execution_count": 7,
   "id": "aff71c2e-77a5-46df-8f8c-5f629852ac68",
   "metadata": {
    "colab": {
     "base_uri": "https://localhost:8080/"
    },
    "execution": {
     "iopub.execute_input": "2021-05-06T09:44:22.667154Z",
     "iopub.status.busy": "2021-05-06T09:44:22.666875Z",
     "iopub.status.idle": "2021-05-06T09:46:18.905264Z",
     "shell.execute_reply": "2021-05-06T09:46:18.904073Z",
     "shell.execute_reply.started": "2021-05-06T09:44:22.667130Z"
    },
    "id": "aff71c2e-77a5-46df-8f8c-5f629852ac68",
    "outputId": "e2a6053f-ab79-4999-e66a-2a9d8e75dca3",
    "tags": []
   },
   "outputs": [
    {
     "name": "stdout",
     "output_type": "stream",
     "text": [
      "Created 1000000 data points\n"
     ]
    }
   ],
   "source": [
    "X, y = create_data(size=DATA_CREATION_AMOUNT, train_series_len=TRAINING_SERIES_LEN, max_exp=MAX_EXPONENT)\n",
    "\n",
    "encoder = OneHot(ALPHABET)\n",
    "for i in range(len(X)):\n",
    "    X[i] = encoder.encode(X[i], MAXLEN)\n",
    "    y[i] = encoder.encode(y[i], DIGITS + 1)\n",
    "    \n",
    "print(f\"Created {len(X)} data points\")"
   ]
  },
  {
   "cell_type": "code",
   "execution_count": 8,
   "id": "f46c7294-e52c-42e2-b9e2-f33d87a23c43",
   "metadata": {
    "colab": {
     "base_uri": "https://localhost:8080/"
    },
    "execution": {
     "iopub.execute_input": "2021-05-06T09:46:18.907648Z",
     "iopub.status.busy": "2021-05-06T09:46:18.907281Z",
     "iopub.status.idle": "2021-05-06T09:46:23.677357Z",
     "shell.execute_reply": "2021-05-06T09:46:23.676315Z",
     "shell.execute_reply.started": "2021-05-06T09:46:18.907597Z"
    },
    "id": "f46c7294-e52c-42e2-b9e2-f33d87a23c43",
    "outputId": "5987e23c-fd17-46e8-dac3-9fb54f0e7a9a",
    "tags": []
   },
   "outputs": [
    {
     "name": "stdout",
     "output_type": "stream",
     "text": [
      "X_train: (800000, 24, 12)\n",
      "y_train: (800000, 4, 12)\n",
      "X_val  : (200000, 24, 12)\n",
      "y_val  : (200000, 4, 12)\n"
     ]
    }
   ],
   "source": [
    "X = np.array(X)\n",
    "y = np.array(y)\n",
    "X_train, X_val, y_train, y_val = train_test_split(X, y, test_size=TEST_SIZE)\n",
    "\n",
    "print(\"X_train:\", X_train.shape)\n",
    "print(\"y_train:\", y_train.shape)\n",
    "print(\"X_val  :\", X_val.shape)\n",
    "print(\"y_val  :\", y_val.shape)"
   ]
  },
  {
   "cell_type": "code",
   "execution_count": 9,
   "id": "1c292cdf-c1f5-40c7-ac07-bcf67bf32bca",
   "metadata": {
    "colab": {
     "base_uri": "https://localhost:8080/"
    },
    "execution": {
     "iopub.execute_input": "2021-05-06T09:46:23.679055Z",
     "iopub.status.busy": "2021-05-06T09:46:23.678724Z",
     "iopub.status.idle": "2021-05-06T09:46:23.686557Z",
     "shell.execute_reply": "2021-05-06T09:46:23.685478Z",
     "shell.execute_reply.started": "2021-05-06T09:46:23.679018Z"
    },
    "id": "1c292cdf-c1f5-40c7-ac07-bcf67bf32bca",
    "outputId": "c8f5de93-c5d8-47d1-c5a9-975212633cfe",
    "tags": []
   },
   "outputs": [],
   "source": [
    "lstn_input_shape = (MAXLEN, ALPHABET_LENGTH)\n",
    "\n",
    "def create_model():\n",
    "\n",
    "    _model = Sequential()\n",
    "    _model.add(LSTM(HIDDEN_SIZE, input_shape=lstn_input_shape)) # Encoder\n",
    "    _model.add(RepeatVector(DIGITS + 1))  # Stellt dem RNN im nächsten Schritt die Ausgabe des vorherigen bereit\n",
    "    _model.add(LSTM(HIDDEN_SIZE, return_sequences=True)) # Decoder\n",
    "    _model.add(TimeDistributed(Dense(ALPHABET_LENGTH, activation='softmax'))) # Wendet eine `Dense` Schicht auf jede Ausgabe des Decoders an\n",
    "                                    # und ermittelt mittels 'softmax'-Funktion die Auswahlwahrscheinlichkeiten der Zeichen\n",
    "    _model.compile(loss='categorical_crossentropy', optimizer='adam', metrics=['accuracy'])\n",
    "    \n",
    "    return _model"
   ]
  },
  {
   "cell_type": "code",
   "execution_count": 10,
   "id": "b818a506-6168-4676-a5f9-8360ecc736ab",
   "metadata": {
    "execution": {
     "iopub.execute_input": "2021-05-06T09:46:23.688201Z",
     "iopub.status.busy": "2021-05-06T09:46:23.687916Z",
     "iopub.status.idle": "2021-05-06T09:46:23.696873Z",
     "shell.execute_reply": "2021-05-06T09:46:23.696236Z",
     "shell.execute_reply.started": "2021-05-06T09:46:23.688163Z"
    },
    "id": "b818a506-6168-4676-a5f9-8360ecc736ab",
    "tags": []
   },
   "outputs": [],
   "source": [
    "class colors:\n",
    "    ok = '\\033[92m'\n",
    "    fail = '\\033[91m'\n",
    "    close = '\\033[0m'"
   ]
  },
  {
   "cell_type": "code",
   "execution_count": 11,
   "id": "e610d4df-696e-453d-a23b-8b4470bf3c2e",
   "metadata": {
    "execution": {
     "iopub.execute_input": "2021-05-06T09:46:23.698047Z",
     "iopub.status.busy": "2021-05-06T09:46:23.697840Z",
     "iopub.status.idle": "2021-05-06T09:46:23.707214Z",
     "shell.execute_reply": "2021-05-06T09:46:23.706656Z",
     "shell.execute_reply.started": "2021-05-06T09:46:23.698020Z"
    },
    "id": "e610d4df-696e-453d-a23b-8b4470bf3c2e",
    "tags": []
   },
   "outputs": [],
   "source": [
    "def train(model, X_train, y_train, X_val, y_val, encoder, epochs):\n",
    "    loss, acc, val_loss, val_acc = [], [], [], []\n",
    "    for iteration in range(1, epochs + 1):\n",
    "        print('-' * 50)\n",
    "        print('Iteration', iteration)\n",
    "        #print(\"X_train:\", X_train.shape, \"; y_train:\", y_train.shape)\n",
    "        hist = model.fit(X_train, y_train,\n",
    "                  batch_size=1000,\n",
    "                  epochs=1,\n",
    "                  validation_data=(X_val, y_val))\n",
    "        loss.append(hist.history['loss'])\n",
    "        acc.append(hist.history['accuracy'])\n",
    "        val_loss.append(hist.history['val_loss'])\n",
    "        val_acc.append(hist.history['val_accuracy'])\n",
    "        if iteration % 5 == 0:\n",
    "            for i in range(10):\n",
    "                ind = np.random.randint(0, X_val.shape[0])\n",
    "                rowx, rowy = X_val[ind], y_val[ind]\n",
    "                strx = encoder.decode(rowx)\n",
    "                stry = encoder.decode(rowy)\n",
    "                preds = model.predict(np.array([rowx]))\n",
    "                strpred = encoder.decode(preds[0])\n",
    "                if stry.strip() == strpred.strip():\n",
    "                    print('{}{} -> {} ☑(real:{}){}'.format(colors.ok, strx, strpred, stry, colors.close))\n",
    "                else:\n",
    "                    print('{}{} -> {} ☒(real:{}){}'.format(colors.fail, strx, strpred, stry, colors.close))\n",
    "    return loss, acc, val_loss, val_acc"
   ]
  },
  {
   "cell_type": "code",
   "execution_count": 12,
   "id": "d2e53b68-0d82-4112-901a-a6f9838a6830",
   "metadata": {
    "colab": {
     "base_uri": "https://localhost:8080/"
    },
    "execution": {
     "iopub.execute_input": "2021-05-06T09:46:23.708565Z",
     "iopub.status.busy": "2021-05-06T09:46:23.708357Z",
     "iopub.status.idle": "2021-05-06T10:21:25.665718Z",
     "shell.execute_reply": "2021-05-06T10:21:25.664928Z",
     "shell.execute_reply.started": "2021-05-06T09:46:23.708528Z"
    },
    "id": "d2e53b68-0d82-4112-901a-a6f9838a6830",
    "outputId": "85240b0c-4a15-43c1-bdd6-fc186f53aa4f",
    "tags": []
   },
   "outputs": [
    {
     "name": "stdout",
     "output_type": "stream",
     "text": [
      "Training model:\n",
      "Model: \"sequential_1\"\n",
      "_________________________________________________________________\n",
      "Layer (type)                 Output Shape              Param #   \n",
      "=================================================================\n",
      "lstm_1 (LSTM)                (None, 256)               275456    \n",
      "_________________________________________________________________\n",
      "repeat_vector_1 (RepeatVecto (None, 4, 256)            0         \n",
      "_________________________________________________________________\n",
      "lstm_2 (LSTM)                (None, 4, 256)            525312    \n",
      "_________________________________________________________________\n",
      "time_distributed_1 (TimeDist (None, 4, 12)             3084      \n",
      "=================================================================\n",
      "Total params: 803,852\n",
      "Trainable params: 803,852\n",
      "Non-trainable params: 0\n",
      "_________________________________________________________________\n",
      "None\n",
      "--------------------------------------------------\n",
      "Iteration 1\n",
      "Train on 800000 samples, validate on 200000 samples\n",
      "Epoch 1/1\n",
      "800000/800000 [==============================] - 42s 53us/step - loss: 1.1778 - accuracy: 0.5856 - val_loss: 0.7275 - val_accuracy: 0.7406\n",
      "--------------------------------------------------\n",
      "Iteration 2\n",
      "Train on 800000 samples, validate on 200000 samples\n",
      "Epoch 1/1\n",
      "800000/800000 [==============================] - 42s 53us/step - loss: 0.5657 - accuracy: 0.8026 - val_loss: 0.4564 - val_accuracy: 0.8417\n",
      "--------------------------------------------------\n",
      "Iteration 3\n",
      "Train on 800000 samples, validate on 200000 samples\n",
      "Epoch 1/1\n",
      "800000/800000 [==============================] - 43s 53us/step - loss: 0.4144 - accuracy: 0.8585 - val_loss: 0.3680 - val_accuracy: 0.8748\n",
      "--------------------------------------------------\n",
      "Iteration 4\n",
      "Train on 800000 samples, validate on 200000 samples\n",
      "Epoch 1/1\n",
      "800000/800000 [==============================] - 42s 53us/step - loss: 0.3566 - accuracy: 0.8824 - val_loss: 0.2956 - val_accuracy: 0.9012\n",
      "--------------------------------------------------\n",
      "Iteration 5\n",
      "Train on 800000 samples, validate on 200000 samples\n",
      "Epoch 1/1\n",
      "800000/800000 [==============================] - 43s 53us/step - loss: 0.2694 - accuracy: 0.9099 - val_loss: 0.2393 - val_accuracy: 0.9201\n",
      "\u001b[91m9 17 53 153 353          -> 609  ☒(real:689 )\u001b[0m\n",
      "\u001b[92m-8 -19 -16 31 152        -> 377  ☑(real:377 )\u001b[0m\n",
      "\u001b[91m7 -8 -55 -158 -341       -> -638 ☒(real:-628)\u001b[0m\n",
      "\u001b[91m4 9 50 181 456           -> 949  ☒(real:929 )\u001b[0m\n",
      "\u001b[92m-7 -11 -13 -13 -11       -> -7   ☑(real:-7  )\u001b[0m\n",
      "\u001b[92m1 4 7 10 13              -> 16   ☑(real:16  )\u001b[0m\n",
      "\u001b[92m0 -5 -10 -15 -20         -> -25  ☑(real:-25 )\u001b[0m\n",
      "\u001b[92m-5 -7 -27 -77 -169       -> -315 ☑(real:-315)\u001b[0m\n",
      "\u001b[92m-2 -9 -16 -23 -30        -> -37  ☑(real:-37 )\u001b[0m\n",
      "\u001b[91m3 5 15 45 107            -> 233  ☒(real:213 )\u001b[0m\n",
      "--------------------------------------------------\n",
      "Iteration 6\n",
      "Train on 800000 samples, validate on 200000 samples\n",
      "Epoch 1/1\n",
      "800000/800000 [==============================] - 42s 53us/step - loss: 0.3574 - accuracy: 0.8738 - val_loss: 0.2730 - val_accuracy: 0.9067\n",
      "--------------------------------------------------\n",
      "Iteration 7\n",
      "Train on 800000 samples, validate on 200000 samples\n",
      "Epoch 1/1\n",
      "800000/800000 [==============================] - 42s 53us/step - loss: 0.2032 - accuracy: 0.9313 - val_loss: 0.1585 - val_accuracy: 0.9472\n",
      "--------------------------------------------------\n",
      "Iteration 8\n",
      "Train on 800000 samples, validate on 200000 samples\n",
      "Epoch 1/1\n",
      "800000/800000 [==============================] - 43s 53us/step - loss: 0.1589 - accuracy: 0.9477 - val_loss: 0.1192 - val_accuracy: 0.9619\n",
      "--------------------------------------------------\n",
      "Iteration 9\n",
      "Train on 800000 samples, validate on 200000 samples\n",
      "Epoch 1/1\n",
      "800000/800000 [==============================] - 43s 53us/step - loss: 0.1043 - accuracy: 0.9659 - val_loss: 0.0890 - val_accuracy: 0.9729\n",
      "--------------------------------------------------\n",
      "Iteration 10\n",
      "Train on 800000 samples, validate on 200000 samples\n",
      "Epoch 1/1\n",
      "800000/800000 [==============================] - 43s 53us/step - loss: 0.0812 - accuracy: 0.9737 - val_loss: 0.0747 - val_accuracy: 0.9760\n",
      "\u001b[92m2 9 16 23 30             -> 37   ☑(real:37  )\u001b[0m\n",
      "\u001b[92m7 1 -5 -11 -17           -> -23  ☑(real:-23 )\u001b[0m\n",
      "\u001b[92m-1 8 17 26 35            -> 44   ☑(real:44  )\u001b[0m\n",
      "\u001b[92m-3 -5 -3 3 13            -> 27   ☑(real:27  )\u001b[0m\n",
      "\u001b[92m-8 -17 -26 -35 -44       -> -53  ☑(real:-53 )\u001b[0m\n",
      "\u001b[92m0 -4 -8 -12 -16          -> -20  ☑(real:-20 )\u001b[0m\n",
      "\u001b[91m5 -4 -15 -22 -19         -> -2   ☒(real:0   )\u001b[0m\n",
      "\u001b[92m-9 -6 -3 0 3             -> 6    ☑(real:6   )\u001b[0m\n",
      "\u001b[92m4 3 -10 -35 -72          -> -121 ☑(real:-121)\u001b[0m\n",
      "\u001b[92m2 -5 -12 -19 -26         -> -33  ☑(real:-33 )\u001b[0m\n",
      "--------------------------------------------------\n",
      "Iteration 11\n",
      "Train on 800000 samples, validate on 200000 samples\n",
      "Epoch 1/1\n",
      "800000/800000 [==============================] - 43s 54us/step - loss: 0.0737 - accuracy: 0.9765 - val_loss: 0.0600 - val_accuracy: 0.9811\n",
      "--------------------------------------------------\n",
      "Iteration 12\n",
      "Train on 800000 samples, validate on 200000 samples\n",
      "Epoch 1/1\n",
      "800000/800000 [==============================] - 43s 53us/step - loss: 0.0506 - accuracy: 0.9838 - val_loss: 0.0475 - val_accuracy: 0.9850\n",
      "--------------------------------------------------\n",
      "Iteration 13\n",
      "Train on 800000 samples, validate on 200000 samples\n",
      "Epoch 1/1\n",
      "800000/800000 [==============================] - 42s 53us/step - loss: 0.0935 - accuracy: 0.9671 - val_loss: 0.2015 - val_accuracy: 0.9083\n",
      "--------------------------------------------------\n",
      "Iteration 14\n",
      "Train on 800000 samples, validate on 200000 samples\n",
      "Epoch 1/1\n",
      "800000/800000 [==============================] - 43s 53us/step - loss: 0.0893 - accuracy: 0.9668 - val_loss: 0.0532 - val_accuracy: 0.9831\n",
      "--------------------------------------------------\n",
      "Iteration 15\n",
      "Train on 800000 samples, validate on 200000 samples\n",
      "Epoch 1/1\n",
      "800000/800000 [==============================] - 41s 51us/step - loss: 0.0523 - accuracy: 0.9834 - val_loss: 0.0386 - val_accuracy: 0.9878\n",
      "\u001b[92m-2 12 44 94 162          -> 248  ☑(real:248 )\u001b[0m\n",
      "\u001b[92m-9 -7 13 51 107          -> 181  ☑(real:181 )\u001b[0m\n",
      "\u001b[91m-9 -19 -71 -201 -445     -> -819 ☒(real:-839)\u001b[0m\n",
      "\u001b[92m6 0 -10 -24 -42          -> -64  ☑(real:-64 )\u001b[0m\n",
      "\u001b[92m2 -5 6 59 178            -> 387  ☑(real:387 )\u001b[0m\n",
      "\u001b[92m-6 -4 -6 -12 -22         -> -36  ☑(real:-36 )\u001b[0m\n",
      "\u001b[92m-8 -15 -22 -29 -36       -> -43  ☑(real:-43 )\u001b[0m\n",
      "\u001b[92m1 3 5 7 9                -> 11   ☑(real:11  )\u001b[0m\n",
      "\u001b[92m-1 -5 -27 -67 -125       -> -201 ☑(real:-201)\u001b[0m\n",
      "\u001b[92m3 -1 -17 -45 -85         -> -137 ☑(real:-137)\u001b[0m\n",
      "--------------------------------------------------\n",
      "Iteration 16\n",
      "Train on 800000 samples, validate on 200000 samples\n",
      "Epoch 1/1\n",
      "800000/800000 [==============================] - 42s 52us/step - loss: 0.0300 - accuracy: 0.9902 - val_loss: 0.0295 - val_accuracy: 0.9904\n",
      "--------------------------------------------------\n",
      "Iteration 17\n",
      "Train on 800000 samples, validate on 200000 samples\n",
      "Epoch 1/1\n",
      "800000/800000 [==============================] - 42s 53us/step - loss: 0.0305 - accuracy: 0.9898 - val_loss: 0.0278 - val_accuracy: 0.9909\n",
      "--------------------------------------------------\n",
      "Iteration 18\n",
      "Train on 800000 samples, validate on 200000 samples\n",
      "Epoch 1/1\n",
      "800000/800000 [==============================] - 42s 53us/step - loss: 0.0261 - accuracy: 0.9912 - val_loss: 0.0223 - val_accuracy: 0.9924\n",
      "--------------------------------------------------\n",
      "Iteration 19\n",
      "Train on 800000 samples, validate on 200000 samples\n",
      "Epoch 1/1\n",
      "800000/800000 [==============================] - 42s 53us/step - loss: 0.0330 - accuracy: 0.9896 - val_loss: 0.0211 - val_accuracy: 0.9929\n",
      "--------------------------------------------------\n",
      "Iteration 20\n",
      "Train on 800000 samples, validate on 200000 samples\n",
      "Epoch 1/1\n",
      "800000/800000 [==============================] - 42s 53us/step - loss: 0.0188 - accuracy: 0.9936 - val_loss: 0.0226 - val_accuracy: 0.9921\n",
      "\u001b[91m-8 -4 32 100 176         -> 232  ☒(real:212 )\u001b[0m\n",
      "\u001b[92m6 -6 -54 -168 -378       -> -714 ☑(real:-714)\u001b[0m\n",
      "\u001b[92m0 -5 -10 -15 -20         -> -25  ☑(real:-25 )\u001b[0m\n",
      "\u001b[92m-4 -15 -30 -49 -72       -> -99  ☑(real:-99 )\u001b[0m\n",
      "\u001b[92m-3 7 55 195 481          -> 967  ☑(real:967 )\u001b[0m\n",
      "\u001b[91m-7 -11 -11 -49 -215      -> -627 ☒(real:-647)\u001b[0m\n",
      "\u001b[92m6 11 16 21 26            -> 31   ☑(real:31  )\u001b[0m\n",
      "\u001b[92m-2 6 28 64 114           -> 178  ☑(real:178 )\u001b[0m\n",
      "\u001b[92m7 9 29 67 123            -> 197  ☑(real:197 )\u001b[0m\n",
      "\u001b[92m-3 6 15 24 33            -> 42   ☑(real:42  )\u001b[0m\n",
      "--------------------------------------------------\n",
      "Iteration 21\n",
      "Train on 800000 samples, validate on 200000 samples\n",
      "Epoch 1/1\n",
      "800000/800000 [==============================] - 42s 53us/step - loss: 0.0237 - accuracy: 0.9922 - val_loss: 0.0180 - val_accuracy: 0.9938\n",
      "--------------------------------------------------\n",
      "Iteration 22\n",
      "Train on 800000 samples, validate on 200000 samples\n",
      "Epoch 1/1\n",
      "800000/800000 [==============================] - 42s 52us/step - loss: 0.0185 - accuracy: 0.9937 - val_loss: 0.0190 - val_accuracy: 0.9935\n",
      "--------------------------------------------------\n",
      "Iteration 23\n",
      "Train on 800000 samples, validate on 200000 samples\n",
      "Epoch 1/1\n",
      "800000/800000 [==============================] - 43s 53us/step - loss: 0.0177 - accuracy: 0.9941 - val_loss: 0.0176 - val_accuracy: 0.9939\n",
      "--------------------------------------------------\n",
      "Iteration 24\n",
      "Train on 800000 samples, validate on 200000 samples\n",
      "Epoch 1/1\n",
      "800000/800000 [==============================] - 43s 53us/step - loss: 0.0143 - accuracy: 0.9951 - val_loss: 0.0261 - val_accuracy: 0.9911\n",
      "--------------------------------------------------\n",
      "Iteration 25\n",
      "Train on 800000 samples, validate on 200000 samples\n",
      "Epoch 1/1\n",
      "800000/800000 [==============================] - 42s 53us/step - loss: 0.0235 - accuracy: 0.9925 - val_loss: 0.0166 - val_accuracy: 0.9943\n",
      "\u001b[92m4 -7 -26 -59 -112        -> -191 ☑(real:-191)\u001b[0m\n",
      "\u001b[92m-2 9 32 67 114           -> 173  ☑(real:173 )\u001b[0m\n",
      "\u001b[92m3 18 51 102 171          -> 258  ☑(real:258 )\u001b[0m\n",
      "\u001b[92m-3 -2 -9 -24 -47         -> -78  ☑(real:-78 )\u001b[0m\n",
      "\u001b[92m8 8 8 8 8                -> 8    ☑(real:8   )\u001b[0m\n",
      "\u001b[92m9 17 57 153 329          -> 609  ☑(real:609 )\u001b[0m\n",
      "\u001b[92m9 8 7 6 5                -> 4    ☑(real:4   )\u001b[0m\n",
      "\u001b[92m-1 -12 -61 -178 -393     -> -736 ☑(real:-736)\u001b[0m\n",
      "\u001b[92m4 -5 -32 -107 -284       -> -641 ☑(real:-641)\u001b[0m\n",
      "\u001b[92m3 1 -15 -45 -89          -> -147 ☑(real:-147)\u001b[0m\n",
      "--------------------------------------------------\n",
      "Iteration 26\n",
      "Train on 800000 samples, validate on 200000 samples\n",
      "Epoch 1/1\n",
      "800000/800000 [==============================] - 42s 52us/step - loss: 0.0107 - accuracy: 0.9964 - val_loss: 0.0194 - val_accuracy: 0.9932\n",
      "--------------------------------------------------\n",
      "Iteration 27\n",
      "Train on 800000 samples, validate on 200000 samples\n",
      "Epoch 1/1\n",
      "800000/800000 [==============================] - 42s 53us/step - loss: 0.0124 - accuracy: 0.9958 - val_loss: 0.0162 - val_accuracy: 0.9945\n",
      "--------------------------------------------------\n",
      "Iteration 28\n",
      "Train on 800000 samples, validate on 200000 samples\n",
      "Epoch 1/1\n",
      "800000/800000 [==============================] - 42s 52us/step - loss: 0.0129 - accuracy: 0.9956 - val_loss: 0.0154 - val_accuracy: 0.9949\n",
      "--------------------------------------------------\n",
      "Iteration 29\n",
      "Train on 800000 samples, validate on 200000 samples\n",
      "Epoch 1/1\n",
      "800000/800000 [==============================] - 42s 52us/step - loss: 0.0167 - accuracy: 0.9949 - val_loss: 0.0118 - val_accuracy: 0.9959\n",
      "--------------------------------------------------\n",
      "Iteration 30\n",
      "Train on 800000 samples, validate on 200000 samples\n",
      "Epoch 1/1\n",
      "800000/800000 [==============================] - 42s 52us/step - loss: 0.0069 - accuracy: 0.9978 - val_loss: 0.0127 - val_accuracy: 0.9957\n",
      "\u001b[92m-2 -1 0 1 2              -> 3    ☑(real:3   )\u001b[0m\n",
      "\u001b[92m4 10 16 22 28            -> 34   ☑(real:34  )\u001b[0m\n",
      "\u001b[92m1 9 17 25 33             -> 41   ☑(real:41  )\u001b[0m\n",
      "\u001b[92m-6 9 36 75 126           -> 189  ☑(real:189 )\u001b[0m\n",
      "\u001b[92m9 8 21 60 137            -> 264  ☑(real:264 )\u001b[0m\n",
      "\u001b[92m7 14 29 52 83            -> 122  ☑(real:122 )\u001b[0m\n",
      "\u001b[92m-5 0 5 10 15             -> 20   ☑(real:20  )\u001b[0m\n",
      "\u001b[92m-7 -7 -7 -7 -7           -> -7   ☑(real:-7  )\u001b[0m\n",
      "\u001b[92m-7 -1 5 11 17            -> 23   ☑(real:23  )\u001b[0m\n",
      "\u001b[92m-1 -10 -1 62 215         -> 494  ☑(real:494 )\u001b[0m\n",
      "--------------------------------------------------\n",
      "Iteration 31\n",
      "Train on 800000 samples, validate on 200000 samples\n",
      "Epoch 1/1\n",
      "800000/800000 [==============================] - 42s 53us/step - loss: 0.0116 - accuracy: 0.9961 - val_loss: 0.0201 - val_accuracy: 0.9933\n",
      "--------------------------------------------------\n",
      "Iteration 32\n",
      "Train on 800000 samples, validate on 200000 samples\n",
      "Epoch 1/1\n",
      "800000/800000 [==============================] - 42s 52us/step - loss: 0.0101 - accuracy: 0.9968 - val_loss: 0.0161 - val_accuracy: 0.9945\n",
      "--------------------------------------------------\n",
      "Iteration 33\n",
      "Train on 800000 samples, validate on 200000 samples\n",
      "Epoch 1/1\n",
      "800000/800000 [==============================] - 42s 52us/step - loss: 0.0105 - accuracy: 0.9965 - val_loss: 0.0147 - val_accuracy: 0.9951\n",
      "--------------------------------------------------\n",
      "Iteration 34\n",
      "Train on 800000 samples, validate on 200000 samples\n",
      "Epoch 1/1\n",
      "800000/800000 [==============================] - 42s 52us/step - loss: 0.0087 - accuracy: 0.9972 - val_loss: 0.0231 - val_accuracy: 0.9924\n",
      "--------------------------------------------------\n",
      "Iteration 35\n",
      "Train on 800000 samples, validate on 200000 samples\n",
      "Epoch 1/1\n",
      "800000/800000 [==============================] - 42s 53us/step - loss: 0.0065 - accuracy: 0.9979 - val_loss: 0.0155 - val_accuracy: 0.9949\n",
      "\u001b[92m-6 -6 -4 -12 -42         -> -106 ☑(real:-106)\u001b[0m\n",
      "\u001b[92m4 -12 -46 -98 -168       -> -256 ☑(real:-256)\u001b[0m\n",
      "\u001b[92m7 6 5 4 3                -> 2    ☑(real:2   )\u001b[0m\n",
      "\u001b[92m4 11 30 67 128           -> 219  ☑(real:219 )\u001b[0m\n",
      "\u001b[92m-4 0 4 8 12              -> 16   ☑(real:16  )\u001b[0m\n",
      "\u001b[92m-4 -11 -18 -25 -32       -> -39  ☑(real:-39 )\u001b[0m\n",
      "\u001b[92m-8 -21 -72 -185 -384     -> -693 ☑(real:-693)\u001b[0m\n",
      "\u001b[92m6 6 -8 -54 -150          -> -314 ☑(real:-314)\u001b[0m\n",
      "\u001b[92m5 17 37 65 101           -> 145  ☑(real:145 )\u001b[0m\n",
      "\u001b[92m9 5 -5 -21 -43           -> -71  ☑(real:-71 )\u001b[0m\n",
      "--------------------------------------------------\n",
      "Iteration 36\n",
      "Train on 800000 samples, validate on 200000 samples\n",
      "Epoch 1/1\n",
      "800000/800000 [==============================] - 42s 53us/step - loss: 0.0097 - accuracy: 0.9969 - val_loss: 0.0151 - val_accuracy: 0.9952\n",
      "--------------------------------------------------\n",
      "Iteration 37\n",
      "Train on 800000 samples, validate on 200000 samples\n",
      "Epoch 1/1\n",
      "800000/800000 [==============================] - 41s 51us/step - loss: 0.0109 - accuracy: 0.9966 - val_loss: 0.0133 - val_accuracy: 0.9957\n",
      "--------------------------------------------------\n",
      "Iteration 38\n",
      "Train on 800000 samples, validate on 200000 samples\n",
      "Epoch 1/1\n",
      "800000/800000 [==============================] - 40s 50us/step - loss: 0.0037 - accuracy: 0.9989 - val_loss: 0.0097 - val_accuracy: 0.9969\n",
      "--------------------------------------------------\n",
      "Iteration 39\n",
      "Train on 800000 samples, validate on 200000 samples\n",
      "Epoch 1/1\n",
      "800000/800000 [==============================] - 42s 53us/step - loss: 0.0085 - accuracy: 0.9973 - val_loss: 0.0105 - val_accuracy: 0.9966\n",
      "--------------------------------------------------\n",
      "Iteration 40\n",
      "Train on 800000 samples, validate on 200000 samples\n",
      "Epoch 1/1\n",
      "800000/800000 [==============================] - 40s 51us/step - loss: 0.0041 - accuracy: 0.9988 - val_loss: 0.0155 - val_accuracy: 0.9949\n",
      "\u001b[92m-3 -8 -39 -138 -347      -> -708 ☑(real:-708)\u001b[0m\n",
      "\u001b[92m-5 -10 -19 -32 -49       -> -70  ☑(real:-70 )\u001b[0m\n",
      "\u001b[92m6 5 6 3 -10              -> -39  ☑(real:-39 )\u001b[0m\n",
      "\u001b[92m8 8 -6 -34 -76           -> -132 ☑(real:-132)\u001b[0m\n",
      "\u001b[92m-5 3 -25 -143 -405       -> -865 ☑(real:-865)\u001b[0m\n",
      "\u001b[92m9 17 25 33 41            -> 49   ☑(real:49  )\u001b[0m\n",
      "\u001b[92m7 9 -31 -167 -453        -> -943 ☑(real:-943)\u001b[0m\n",
      "\u001b[92m3 10 19 30 43            -> 58   ☑(real:58  )\u001b[0m\n",
      "\u001b[92m4 -1 -40 -161 -412       -> -841 ☑(real:-841)\u001b[0m\n",
      "\u001b[92m1 8 15 22 29             -> 36   ☑(real:36  )\u001b[0m\n",
      "--------------------------------------------------\n",
      "Iteration 41\n",
      "Train on 800000 samples, validate on 200000 samples\n",
      "Epoch 1/1\n",
      "800000/800000 [==============================] - 40s 50us/step - loss: 0.0119 - accuracy: 0.9969 - val_loss: 0.0085 - val_accuracy: 0.9972\n",
      "--------------------------------------------------\n",
      "Iteration 42\n",
      "Train on 800000 samples, validate on 200000 samples\n",
      "Epoch 1/1\n",
      "800000/800000 [==============================] - 40s 50us/step - loss: 0.0067 - accuracy: 0.9981 - val_loss: 0.0084 - val_accuracy: 0.9973\n",
      "--------------------------------------------------\n",
      "Iteration 43\n",
      "Train on 800000 samples, validate on 200000 samples\n",
      "Epoch 1/1\n",
      "800000/800000 [==============================] - 40s 50us/step - loss: 0.0021 - accuracy: 0.9995 - val_loss: 0.0102 - val_accuracy: 0.9968\n",
      "--------------------------------------------------\n",
      "Iteration 44\n",
      "Train on 800000 samples, validate on 200000 samples\n",
      "Epoch 1/1\n",
      "800000/800000 [==============================] - 41s 51us/step - loss: 0.0088 - accuracy: 0.9972 - val_loss: 0.0151 - val_accuracy: 0.9951\n",
      "--------------------------------------------------\n",
      "Iteration 45\n",
      "Train on 800000 samples, validate on 200000 samples\n",
      "Epoch 1/1\n",
      "800000/800000 [==============================] - 42s 53us/step - loss: 0.0047 - accuracy: 0.9985 - val_loss: 0.0094 - val_accuracy: 0.9970\n",
      "\u001b[92m3 -6 -15 -24 -33         -> -42  ☑(real:-42 )\u001b[0m\n",
      "\u001b[92m-8 -15 -22 -29 -36       -> -43  ☑(real:-43 )\u001b[0m\n",
      "\u001b[92m2 8 -12 -100 -298        -> -648 ☑(real:-648)\u001b[0m\n",
      "\u001b[92m6 13 20 27 34            -> 41   ☑(real:41  )\u001b[0m\n",
      "\u001b[92m1 -13 -39 -71 -103       -> -129 ☑(real:-129)\u001b[0m\n",
      "\u001b[92m-7 -1 47 179 437         -> 863  ☑(real:863 )\u001b[0m\n",
      "\u001b[92m2 3 4 5 6                -> 7    ☑(real:7   )\u001b[0m\n",
      "\u001b[92m2 2 2 2 2                -> 2    ☑(real:2   )\u001b[0m\n",
      "\u001b[92m5 2 -9 -28 -55           -> -90  ☑(real:-90 )\u001b[0m\n",
      "\u001b[92m9 16 23 30 37            -> 44   ☑(real:44  )\u001b[0m\n",
      "--------------------------------------------------\n",
      "Iteration 46\n",
      "Train on 800000 samples, validate on 200000 samples\n",
      "Epoch 1/1\n",
      "800000/800000 [==============================] - 42s 52us/step - loss: 0.0075 - accuracy: 0.9978 - val_loss: 0.0090 - val_accuracy: 0.9972\n",
      "--------------------------------------------------\n",
      "Iteration 47\n",
      "Train on 800000 samples, validate on 200000 samples\n",
      "Epoch 1/1\n",
      "800000/800000 [==============================] - 42s 53us/step - loss: 0.0030 - accuracy: 0.9992 - val_loss: 0.0179 - val_accuracy: 0.9943\n",
      "--------------------------------------------------\n",
      "Iteration 48\n",
      "Train on 800000 samples, validate on 200000 samples\n",
      "Epoch 1/1\n",
      "800000/800000 [==============================] - 43s 53us/step - loss: 0.0061 - accuracy: 0.9981 - val_loss: 0.0089 - val_accuracy: 0.9972\n",
      "--------------------------------------------------\n",
      "Iteration 49\n",
      "Train on 800000 samples, validate on 200000 samples\n",
      "Epoch 1/1\n",
      "800000/800000 [==============================] - 42s 53us/step - loss: 0.0057 - accuracy: 0.9982 - val_loss: 0.0155 - val_accuracy: 0.9953\n",
      "--------------------------------------------------\n",
      "Iteration 50\n",
      "Train on 800000 samples, validate on 200000 samples\n",
      "Epoch 1/1\n",
      "800000/800000 [==============================] - 42s 53us/step - loss: 0.0053 - accuracy: 0.9984 - val_loss: 0.0082 - val_accuracy: 0.9974\n",
      "\u001b[92m2 1 24 83 190            -> 357  ☑(real:357 )\u001b[0m\n",
      "\u001b[92m-3 -13 -67 -195 -427     -> -793 ☑(real:-793)\u001b[0m\n",
      "\u001b[92m0 2 4 6 8                -> 10   ☑(real:10  )\u001b[0m\n",
      "\u001b[92m-8 -10 -12 -14 -16       -> -18  ☑(real:-18 )\u001b[0m\n",
      "\u001b[92m7 11 45 145 347          -> 687  ☑(real:687 )\u001b[0m\n",
      "\u001b[92m3 12 21 30 39            -> 48   ☑(real:48  )\u001b[0m\n",
      "\u001b[92m1 7 19 37 61             -> 91   ☑(real:91  )\u001b[0m\n",
      "\u001b[92m1 4 25 64 121            -> 196  ☑(real:196 )\u001b[0m\n",
      "\u001b[92m8 19 48 95 160           -> 243  ☑(real:243 )\u001b[0m\n",
      "\u001b[92m1 -5 19 115 325          -> 691  ☑(real:691 )\u001b[0m\n",
      "Training took 0:35:00.925266\n"
     ]
    }
   ],
   "source": [
    "model = create_model()\n",
    "\n",
    "print(\"Training model:\")\n",
    "print(model.summary())\n",
    "\n",
    "start = time.time()\n",
    "loss, acc, val_loss, val_acc = train(model, X_train, y_train, X_val, y_val, encoder, EPOCHS)\n",
    "end = time.time()\n",
    "\n",
    "print(\"Training took\", timedelta(seconds=end - start))"
   ]
  },
  {
   "cell_type": "code",
   "execution_count": 13,
   "id": "99CRqBJqfi-1",
   "metadata": {
    "colab": {
     "base_uri": "https://localhost:8080/",
     "height": 265
    },
    "execution": {
     "iopub.execute_input": "2021-05-06T10:21:25.667292Z",
     "iopub.status.busy": "2021-05-06T10:21:25.666993Z",
     "iopub.status.idle": "2021-05-06T10:21:25.906881Z",
     "shell.execute_reply": "2021-05-06T10:21:25.906028Z",
     "shell.execute_reply.started": "2021-05-06T10:21:25.667256Z"
    },
    "id": "99CRqBJqfi-1",
    "outputId": "f9f257ff-4959-4d56-afbc-27c4851e377a"
   },
   "outputs": [
    {
     "data": {
      "image/png": "[encoded data removed]",
      "text/plain": [
       "<Figure size 432x288 with 1 Axes>"
      ]
     },
     "metadata": {
      "needs_background": "light"
     },
     "output_type": "display_data"
    }
   ],
   "source": [
    "plt.plot(loss, label='loss')\n",
    "plt.plot(val_loss, label='validation loss')\n",
    "plt.plot(acc, label='accuracy')\n",
    "plt.plot(val_acc, label='validation accuracy')\n",
    "plt.legend()\n",
    "plt.show()"
   ]
  },
  {
   "cell_type": "code",
   "execution_count": 14,
   "id": "hahXRX94grvP",
   "metadata": {
    "colab": {
     "base_uri": "https://localhost:8080/"
    },
    "execution": {
     "iopub.execute_input": "2021-05-06T10:21:25.908420Z",
     "iopub.status.busy": "2021-05-06T10:21:25.908156Z",
     "iopub.status.idle": "2021-05-06T10:21:25.927247Z",
     "shell.execute_reply": "2021-05-06T10:21:25.926511Z",
     "shell.execute_reply.started": "2021-05-06T10:21:25.908386Z"
    },
    "id": "hahXRX94grvP",
    "outputId": "d4896c6d-f439-43c5-8691-2bca36a0424b",
    "tags": []
   },
   "outputs": [
    {
     "name": "stdout",
     "output_type": "stream",
     "text": [
      "9   \n"
     ]
    }
   ],
   "source": [
    "test_string = \"-1\"\n",
    "\n",
    "encoded = encoder.encode(test_string, MAXLEN)\n",
    "\n",
    "result = model.predict(np.array([encoded]))\n",
    "\n",
    "#print(np.argmax(result[0], axis=1))\n",
    "print(encoder.decode(result[0]))"
   ]
  },
  {
   "cell_type": "code",
   "execution_count": 15,
   "id": "-7JcM_nojRRA",
   "metadata": {
    "colab": {
     "base_uri": "https://localhost:8080/",
     "height": 163
    },
    "execution": {
     "iopub.execute_input": "2021-05-06T10:21:25.928543Z",
     "iopub.status.busy": "2021-05-06T10:21:25.928201Z",
     "iopub.status.idle": "2021-05-06T10:21:26.019851Z",
     "shell.execute_reply": "2021-05-06T10:21:26.019218Z",
     "shell.execute_reply.started": "2021-05-06T10:21:25.928505Z"
    },
    "id": "-7JcM_nojRRA",
    "outputId": "3fa57f0e-e119-480b-bb37-f481641cee7a",
    "tags": []
   },
   "outputs": [
    {
     "data": {
      "application/vnd.jupyter.widget-view+json": {
       "model_id": "391a1c3d99424a5f89336f581ec90eae",
       "version_major": 2,
       "version_minor": 0
      },
      "text/plain": [
       "interactive(children=(Text(value='1 2 3 4', description='Number sequence', placeholder='Insert your sequence h…"
      ]
     },
     "metadata": {},
     "output_type": "display_data"
    }
   ],
   "source": [
    "from IPython.display import display\n",
    "from ipywidgets import interactive, fixed\n",
    "import ipywidgets as widgets\n",
    "\n",
    "\n",
    "def i_am_thinking(sequence, trained_model):\n",
    "    encoded = np.array([encoder.encode(sequence, MAXLEN)])\n",
    "\n",
    "    result = trained_model.predict(encoded)\n",
    "\n",
    "    #print(np.argmax(result[0], axis=1))\n",
    "    print(\"I think the following number to the sequence\", encoder.decode(encoded[0]).strip(), \"is\", encoder.decode(result[0]).strip())\n",
    "\n",
    "w = interactive(i_am_thinking,\n",
    "                sequence=widgets.Text(value='1 2 3 4', placeholder='Insert your sequence here', description='Number sequence', disabled=False),\n",
    "                trained_model=fixed(model))\n",
    "\n",
    "display(w)"
   ]
  },
  {
   "cell_type": "code",
   "execution_count": null,
   "id": "C9my0VHRdMRt",
   "metadata": {
    "id": "C9my0VHRdMRt"
   },
   "outputs": [],
   "source": []
  }
 ],
 "metadata": {
  "accelerator": "GPU",
  "colab": {
   "name": "Copy of NumberSeriesTest.ipynb",
   "provenance": []
  },
  "kernelspec": {
   "display_name": "Python 3",
   "language": "python",
   "name": "python3"
  },
  "language_info": {
   "codemirror_mode": {
    "name": "ipython",
    "version": 3
   },
   "file_extension": ".py",
   "mimetype": "text/x-python",
   "name": "python",
   "nbconvert_exporter": "python",
   "pygments_lexer": "ipython3",
   "version": "3.7.0"
  }
 },
 "nbformat": 4,
 "nbformat_minor": 5
}
