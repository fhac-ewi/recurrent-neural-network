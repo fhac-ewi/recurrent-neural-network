{
  "nbformat": 4,
  "nbformat_minor": 0,
  "metadata": {
    "colab": {
      "name": "Kopie_von_Übung_RNN_Lösung.ipynb",
      "provenance": [],
      "toc_visible": true,
      "include_colab_link": true
    },
    "kernelspec": {
      "display_name": "Python 3",
      "language": "python",
      "name": "python3"
    },
    "language_info": {
      "codemirror_mode": {
        "name": "ipython",
        "version": 3
      },
      "file_extension": ".py",
      "mimetype": "text/x-python",
      "name": "python",
      "nbconvert_exporter": "python",
      "pygments_lexer": "ipython3",
      "version": "3.6.9"
    },
    "accelerator": "GPU",
    "widgets": {
      "application/vnd.jupyter.widget-state+json": {
        "71be19f6dddb433e8ec2788fac2d04dd": {
          "model_module": "@jupyter-widgets/controls",
          "model_name": "VBoxModel",
          "state": {
            "_view_name": "VBoxView",
            "_dom_classes": [
              "widget-interact"
            ],
            "_model_name": "VBoxModel",
            "_view_module": "@jupyter-widgets/controls",
            "_model_module_version": "1.5.0",
            "_view_count": null,
            "_view_module_version": "1.5.0",
            "box_style": "",
            "layout": "IPY_MODEL_d0e9a6a96cbd4a278486ddfab47825d4",
            "_model_module": "@jupyter-widgets/controls",
            "children": [
              "IPY_MODEL_ae5f47ee0640453d82cf950cbfe15ecf",
              "IPY_MODEL_3db113d6c6c74cf99cc6c63ca2fd7c7f"
            ]
          }
        },
        "d0e9a6a96cbd4a278486ddfab47825d4": {
          "model_module": "@jupyter-widgets/base",
          "model_name": "LayoutModel",
          "state": {
            "_view_name": "LayoutView",
            "grid_template_rows": null,
            "right": null,
            "justify_content": null,
            "_view_module": "@jupyter-widgets/base",
            "overflow": null,
            "_model_module_version": "1.2.0",
            "_view_count": null,
            "flex_flow": null,
            "width": null,
            "min_width": null,
            "border": null,
            "align_items": null,
            "bottom": null,
            "_model_module": "@jupyter-widgets/base",
            "top": null,
            "grid_column": null,
            "overflow_y": null,
            "overflow_x": null,
            "grid_auto_flow": null,
            "grid_area": null,
            "grid_template_columns": null,
            "flex": null,
            "_model_name": "LayoutModel",
            "justify_items": null,
            "grid_row": null,
            "max_height": null,
            "align_content": null,
            "visibility": null,
            "align_self": null,
            "height": null,
            "min_height": null,
            "padding": null,
            "grid_auto_rows": null,
            "grid_gap": null,
            "max_width": null,
            "order": null,
            "_view_module_version": "1.2.0",
            "grid_template_areas": null,
            "object_position": null,
            "object_fit": null,
            "grid_auto_columns": null,
            "margin": null,
            "display": null,
            "left": null
          }
        },
        "ae5f47ee0640453d82cf950cbfe15ecf": {
          "model_module": "@jupyter-widgets/controls",
          "model_name": "TextModel",
          "state": {
            "_view_name": "TextView",
            "style": "IPY_MODEL_526ab3b19f1f4ef2a5afe1332e39c75b",
            "_dom_classes": [],
            "description": "Your text:",
            "_model_name": "TextModel",
            "placeholder": "Type something",
            "_view_module": "@jupyter-widgets/controls",
            "_model_module_version": "1.5.0",
            "value": "ROME",
            "_view_count": null,
            "disabled": false,
            "_view_module_version": "1.5.0",
            "continuous_update": true,
            "description_tooltip": null,
            "_model_module": "@jupyter-widgets/controls",
            "layout": "IPY_MODEL_700dec9799364cc59e6463179ea09245"
          }
        },
        "3db113d6c6c74cf99cc6c63ca2fd7c7f": {
          "model_module": "@jupyter-widgets/output",
          "model_name": "OutputModel",
          "state": {
            "_view_name": "OutputView",
            "msg_id": "",
            "_dom_classes": [],
            "_model_name": "OutputModel",
            "outputs": [
              {
                "output_type": "stream",
                "metadata": {
                  "tags": []
                },
                "text": "WARNING:tensorflow:Model was constructed with shape (None, 100, 66) for input KerasTensor(type_spec=TensorSpec(shape=(None, 100, 66), dtype=tf.float32, name='The_Brain_input'), name='The_Brain_input', description=\"created by layer 'The_Brain_input'\"), but it was called on an input with incompatible shape (None, 4, 66).\n",
                "stream": "stdout"
              },
              {
                "output_type": "stream",
                "metadata": {
                  "tags": []
                },
                "text": "I think the next will be \"O\" after you said \"ROME\"\n",
                "stream": "stdout"
              }
            ],
            "_view_module": "@jupyter-widgets/output",
            "_model_module_version": "1.0.0",
            "_view_count": null,
            "_view_module_version": "1.0.0",
            "layout": "IPY_MODEL_cb1c934304524816adb97ad42b82eaf9",
            "_model_module": "@jupyter-widgets/output"
          }
        },
        "526ab3b19f1f4ef2a5afe1332e39c75b": {
          "model_module": "@jupyter-widgets/controls",
          "model_name": "DescriptionStyleModel",
          "state": {
            "_view_name": "StyleView",
            "_model_name": "DescriptionStyleModel",
            "description_width": "",
            "_view_module": "@jupyter-widgets/base",
            "_model_module_version": "1.5.0",
            "_view_count": null,
            "_view_module_version": "1.2.0",
            "_model_module": "@jupyter-widgets/controls"
          }
        },
        "700dec9799364cc59e6463179ea09245": {
          "model_module": "@jupyter-widgets/base",
          "model_name": "LayoutModel",
          "state": {
            "_view_name": "LayoutView",
            "grid_template_rows": null,
            "right": null,
            "justify_content": null,
            "_view_module": "@jupyter-widgets/base",
            "overflow": null,
            "_model_module_version": "1.2.0",
            "_view_count": null,
            "flex_flow": null,
            "width": null,
            "min_width": null,
            "border": null,
            "align_items": null,
            "bottom": null,
            "_model_module": "@jupyter-widgets/base",
            "top": null,
            "grid_column": null,
            "overflow_y": null,
            "overflow_x": null,
            "grid_auto_flow": null,
            "grid_area": null,
            "grid_template_columns": null,
            "flex": null,
            "_model_name": "LayoutModel",
            "justify_items": null,
            "grid_row": null,
            "max_height": null,
            "align_content": null,
            "visibility": null,
            "align_self": null,
            "height": null,
            "min_height": null,
            "padding": null,
            "grid_auto_rows": null,
            "grid_gap": null,
            "max_width": null,
            "order": null,
            "_view_module_version": "1.2.0",
            "grid_template_areas": null,
            "object_position": null,
            "object_fit": null,
            "grid_auto_columns": null,
            "margin": null,
            "display": null,
            "left": null
          }
        },
        "cb1c934304524816adb97ad42b82eaf9": {
          "model_module": "@jupyter-widgets/base",
          "model_name": "LayoutModel",
          "state": {
            "_view_name": "LayoutView",
            "grid_template_rows": null,
            "right": null,
            "justify_content": null,
            "_view_module": "@jupyter-widgets/base",
            "overflow": null,
            "_model_module_version": "1.2.0",
            "_view_count": null,
            "flex_flow": null,
            "width": null,
            "min_width": null,
            "border": null,
            "align_items": null,
            "bottom": null,
            "_model_module": "@jupyter-widgets/base",
            "top": null,
            "grid_column": null,
            "overflow_y": null,
            "overflow_x": null,
            "grid_auto_flow": null,
            "grid_area": null,
            "grid_template_columns": null,
            "flex": null,
            "_model_name": "LayoutModel",
            "justify_items": null,
            "grid_row": null,
            "max_height": null,
            "align_content": null,
            "visibility": null,
            "align_self": null,
            "height": null,
            "min_height": null,
            "padding": null,
            "grid_auto_rows": null,
            "grid_gap": null,
            "max_width": null,
            "order": null,
            "_view_module_version": "1.2.0",
            "grid_template_areas": null,
            "object_position": null,
            "object_fit": null,
            "grid_auto_columns": null,
            "margin": null,
            "display": null,
            "left": null
          }
        }
      }
    }
  },
  "cells": [
    {
      "cell_type": "markdown",
      "metadata": {
        "id": "view-in-github",
        "colab_type": "text"
      },
      "source": [
        "<a href=\"https://colab.research.google.com/github/fhac-ewi/recurrent-neural-network/blob/main/%C3%9Cbung_RNN_L%C3%B6sung_v7_Model_Failes.ipynb\" target=\"_parent\"><img src=\"https://colab.research.google.com/assets/colab-badge.svg\" alt=\"Open In Colab\"/></a>"
      ]
    },
    {
      "cell_type": "markdown",
      "metadata": {
        "id": "yYD6gvw1vwii"
      },
      "source": [
        "# Übung 7 - Rekurrente neuronale Netze (RNNs)\n",
        "\n",
        "## In dieser Übung ...\n",
        "... beschäftigen wir uns mit rekurrenten neuronalen Netzen, die unter anderem für die Textvorhersage (`text prediction`) eingesetzt werden können. Sie werden ein eigenes Modell zur Vorhersage weiterer Buchstaben (Zeichen) zu einer gegebenen Buchstabensequenz erstellen.\n",
        "\n",
        "Dazu werden Sie die drei aus der Vorlesung bekannten Varianten von RNNs (Standard, LSTM und GRU) mit Keras implementieren und die Genauigkeit (Accuracy) der Netze miteinander vergleichen.\n",
        "\n",
        "TODO Machen wir ja nicht wirklich, nur im optionalen Teil. \n"
      ]
    },
    {
      "cell_type": "markdown",
      "metadata": {
        "id": "9a_ZEFJfHuuF"
      },
      "source": [
        "## 7.0 Vorbereitung\n",
        "\n",
        "In diesem Abschnitt müssen Sie nichts programmieren! 🎉\n",
        "\n",
        "Wir haben bereits alle notwendigen Imports für diese Übung hinzugefügt, sodass Sie direkt starten können. Sie müssen lediglich die GPU Unterstützung in Google Colab aktivieren."
      ]
    },
    {
      "cell_type": "markdown",
      "metadata": {
        "id": "tc_GxdsyIDYP"
      },
      "source": [
        "**Ihre Aufgaben**\n",
        "\n",
        "(1) Aktivieren Sie bitte die GPU Unterstützung in Google Colab. Wechseln Sie unter dem Reiter `Laufzeit` -> `Laufzeittyp ändern` von `None` auf `GPU` und bestätigen Sie diese Änderung.\n",
        "\n",
        "(2) Führen Sie den folgenden Codezelle aus, um die erforderlichen Bibliotheken zu importieren und die GPU Unterstützung zu prüfen. \n",
        "\n",
        "  * Hinweis: Wenn Sie dieses Notebook mit dem Direktlink von GitHub geöffnet haben, wird bei der erstmaligen Ausführung eine Warnung angezeigt. Diese müssen Sie durch den Klick auf `Trotzdem ausführen` bestätigen. "
      ]
    },
    {
      "cell_type": "code",
      "metadata": {
        "colab": {
          "base_uri": "https://localhost:8080/"
        },
        "id": "I-cFD9IFItkB",
        "outputId": "2993cf5d-4ab4-49ab-d006-2e1eea890b58"
      },
      "source": [
        "# Import everything needed for this exercise \n",
        "import tensorflow as tf\n",
        "import keras\n",
        "import numpy as np\n",
        "import sys\n",
        "import matplotlib.pyplot as plt\n",
        "import time\n",
        "from sklearn.model_selection import train_test_split\n",
        "from datetime import datetime, timedelta\n",
        "from termcolor import colored\n",
        "\n",
        "print(f\"Keras Version: {keras.__version__}; Tensorflow version: {tf.__version__}; NumPy version: {np.__version__}; Python version: \", \".\".join(str(x) for x in sys.version_info[:3]))\n",
        "\n",
        "# Reset random number generators\n",
        "seed = 1337\n",
        "np.random.seed(seed)\n",
        "tf.random.set_seed(seed)\n",
        "\n",
        "# Check GPU support\n",
        "from tensorflow.python.client import device_lib\n",
        "physical_devices = device_lib.list_local_devices()\n",
        "print(\"You are using\", len(physical_devices), \"local devises.\", len([x for x in physical_devices if x.device_type == \"GPU\"]), \"are GPUs\")\n",
        "for i, d in enumerate(physical_devices):\n",
        "    print(\"  -> Device\", i+1, \"is a\", d.device_type, \"=>\", d.physical_device_desc if len(d.physical_device_desc) > 0 else d.name)\n",
        "\n",
        "if len([x for x in physical_devices if x.device_type == \"GPU\"]) == 0:\n",
        "  raise Exception(\"Please enable GPU support before using this notebook. See here: [Runtime] -> [Change runtime type]\")    \n",
        "\n",
        "print(\"\\n🎉🎉🎉 You are ready to go! 🎉🎉🎉\")  "
      ],
      "execution_count": 1,
      "outputs": [
        {
          "output_type": "stream",
          "text": [
            "Keras Version: 2.4.3; Tensorflow version: 2.4.1; NumPy version: 1.19.5; Python version:  3.7.10\n",
            "You are using 2 local devises. 1 are GPUs\n",
            "  -> Device 1 is a CPU => /device:CPU:0\n",
            "  -> Device 2 is a GPU => device: 0, name: Tesla T4, pci bus id: 0000:00:04.0, compute capability: 7.5\n",
            "\n",
            "🎉🎉🎉 You are ready to go! 🎉🎉🎉\n"
          ],
          "name": "stdout"
        }
      ]
    },
    {
      "cell_type": "markdown",
      "metadata": {
        "id": "a1CXeYPHyywV"
      },
      "source": [
        "## 7.1 One Hot Kodierung\n",
        "\n",
        "Wir haben in der Vorlesung die One Hot Kodierung (1-aus-n-Code) kennen gelernt. Diese ermöglicht es Zeichen eines Alphabets als Vektoren darzustellen. \n",
        "\n",
        "Für ein Alphabet mit `n` einzigartigen Zeichen wird ein Vektor der Länge `n` benötigt. Jedes einzigartige Zeichen wird hierbei als Einheitsvektor definiert. Eine Zeichensequenz mit `m` Zeichen werden als `m` Vektoren mit jeweils der Länge `n` dargestellt.  \n",
        "\n",
        "**Hinweis** Die vorliegende Implementierung ist für den Umgang mit Zeichen außerhalb des Alphabets konzipiert. Deshalb wird zur Darstellung eines Alphabets mit `n` einzigartigen Zeichen ein Vektor der Länge `n+1` erstellt. Alle Zeichen außerhalb des Alphabets werden durch das `unknown_token` ersetzt. \n",
        "\n",
        "Für das Training unseres Netzes werden wir die One Hot Kodierung zur Umwandlung eines Textes in Trainingsdaten nutzen. (Aufgabe 7.2)\n",
        "\n",
        "* Hinweis: Für weitere Informationen zur One Hot Kodierun schlagen Sie diese in der Vorlesung nach oder benutzen Sie das [Internet](https://www.semanticscholar.org/search?q=one%20hot%20coder&sort=relevance)."
      ]
    },
    {
      "cell_type": "code",
      "metadata": {
        "id": "miApcJctvteM"
      },
      "source": [
        "class OneHot(object):\n",
        "    def __init__(self, tokens, unknown_token = \"[UNKNOWN]\"):\n",
        "        '''\n",
        "        Creates a new instance of this class. \n",
        "\n",
        "        OneHot can be used to translate categorical data into vectors.\n",
        "\n",
        "        Parameters\n",
        "        tokens -- The tokens you want to be able to encode and decode\n",
        "        unknown_token -- The token to be used when decoding and the net wants to use a not known char\n",
        "        '''\n",
        "        self.tokens = tokens\n",
        "        self.unknown_token = unknown_token\n",
        "        # Store a bidirectional dictionary containing the characters\n",
        "        self.char_to_index = dict((token, i + 1) for i, token in enumerate(self.tokens))\n",
        "        self.index_to_char = dict((i + 1, token) for i, token in enumerate(self.tokens))\n",
        "        pass\n",
        "\n",
        "    def encode(self, text_as_tokens, dtype=np.bool_):\n",
        "        '''\n",
        "        Encodes a tokenized text into a matrix (each token as vector).\n",
        "\n",
        "        Parameters:\n",
        "        text_as_tokens -- List of tokens\n",
        "        dtype -- (optional) data type like int or bool for optimized performance\n",
        "\n",
        "        Returns:\n",
        "        np.array of OneHot encoded tokens (matrix)\n",
        "        '''\n",
        "        # Create the encoding matrix\n",
        "        enc = np.empty((len(text_as_tokens), len(self.tokens) + 1), dtype=dtype)\n",
        "        for i, token in enumerate(text_as_tokens):\n",
        "            # Encode every char\n",
        "            enc[i] = self.encode_token(token=token, dtype=dtype)\n",
        "        return enc\n",
        "    \n",
        "    def encode_token(self, token, dtype=np.bool_):\n",
        "        '''\n",
        "        Encodes a single token into a vector.\n",
        "\n",
        "        Parameters:\n",
        "        token -- Single token\n",
        "        dtype -- (optional) data type like int or bool for optimized performance\n",
        "\n",
        "        Returns:\n",
        "        np.array of OneHot encoded token (vector)\n",
        "        '''\n",
        "        l = len(self.tokens) + 1\n",
        "        ret = np.zeros((1, l), dtype=dtype)\n",
        "        if token not in self.char_to_index:\n",
        "            ret[0, 0] = 1\n",
        "        else:\n",
        "            ret[0, self.char_to_index[token]] = 1\n",
        "        return ret\n",
        "    \n",
        "    def decode(self, mat, unknown_token=None):         \n",
        "        '''\n",
        "        Decodes a matrix into an array of tokens.\n",
        "\n",
        "        Parameters:\n",
        "        mat -- matrix to be decoded. Has to be of shape (len_of_text, vocab_size)\n",
        "        unknown_token -- Unknown token. If none uses the one from __init__\n",
        "\n",
        "        Returns:\n",
        "        array of tokens (chars)\n",
        "        '''\n",
        "        return [self.decode_token(mat[x]) for x in range(mat.shape[0])]\n",
        "    \n",
        "    def decode_token(self, vec, unknown_token=None):\n",
        "        '''\n",
        "        Decodes a vector into a token.\n",
        "\n",
        "        Parameters:\n",
        "        vec -- Vector that should be decoded. Has to be on vocab length\n",
        "        unknown_token -- Unknown token. If none uses the one from __init__\n",
        "\n",
        "        Returns:\n",
        "        single token (char)\n",
        "        '''\n",
        "        if unknown_token is None:\n",
        "            unknown_token = self.unknown_token\n",
        "        if isinstance(vec, tf.Tensor):\n",
        "            vec = vec.numpy()\n",
        "        if isinstance(vec, np.ndarray):\n",
        "            # Use argmax since this will be used in the model created later\n",
        "            am = np.argmax(vec)\n",
        "        else:\n",
        "            am = vec\n",
        "        if am == 0:\n",
        "            return unknown_token\n",
        "        return self.index_to_char[am]"
      ],
      "execution_count": 2,
      "outputs": []
    },
    {
      "cell_type": "markdown",
      "metadata": {
        "id": "I9nyVSBS_RnK"
      },
      "source": [
        "**Ihre Aufgaben**\n",
        "\n",
        "(1) Untersuchen Sie die gegebene Klasse zur One Hot Kodierung und die Funktion der einzelnen Methoden. \n",
        "\n",
        "(2) Erstellen Sie für das folgendes Alphabet `HWedlor` eine Instanz der Klasse `OneHot`. \n",
        "\n",
        "(3) Kodieren Sie nun die Zeichenfolge `Hello World!` mit der One Hot Kodierung. Wie wird das Zeichen `H` dargestellt? Geben Sie die Dimensionen des Vektors an.\n",
        "\n",
        "* Hinweis: Sie können zur Umwandlung des Strings in eine Liste von Zeichen die Funktion `tokenize` verwenden. Dies ist aber nicht zwingend erforderlich, da Python den String automatisch als Liste interpretieren kann."
      ]
    },
    {
      "cell_type": "markdown",
      "metadata": {
        "id": "HXopuHLJadWN"
      },
      "source": [
        "> <Antwort hier einfügen>\n",
        "\n",
        "> **Musterlösung:** Das Zeichen `H` wird als Vektor `[0 1 0 0 0 0 0 0]` \n",
        "dargestellt. Die Dimension ist `1x8`."
      ]
    },
    {
      "cell_type": "markdown",
      "metadata": {
        "id": "9jCputAba8UN"
      },
      "source": [
        "(4) Wandeln Sie die kodierte Zeichenfolge zurück in einen für Menschen lesbaren Text. Entspricht der zurückgewandelte Text dem ursprünglichen Input? Falls nicht, was könnte die Ursache dafür sein?\n",
        "\n",
        "* Hinweis: Für eine schönere Ausgabe kann der enkodierte Text mit der Funktion `untokenize` in einen String gewandelt werden."
      ]
    },
    {
      "cell_type": "markdown",
      "metadata": {
        "id": "hPiAwayxbi16"
      },
      "source": [
        "> <Antwort hier einfügen>\n",
        "\n",
        "> **Musterlösung:** Der ursprüngliche Text und der kodierte und dekodierte Text ist nicht mehr identisch, da zwei Zeichen (Leerzeichen, Ausrufezeichen) nicht im Alphabet vorhanden sind. Durch das Hinzufügen dieser Zeichen ins Alphabet würde der ursprünglichen Text erhalten werden."
      ]
    },
    {
      "cell_type": "code",
      "metadata": {
        "colab": {
          "base_uri": "https://localhost:8080/"
        },
        "id": "QjFH6Rbeab4P",
        "outputId": "372430be-265e-4b6e-d123-8d0dace0ee3a"
      },
      "source": [
        "def tokenize(text):\n",
        "    '''\n",
        "    Converts the given text (string) in a list of chars.\n",
        "    '''\n",
        "    return list(text)\n",
        "\n",
        "def untokenize(tokens):\n",
        "    '''\n",
        "    Converts the given tokens (list of chars) in a string.\n",
        "    '''\n",
        "    return \"\".join(tokens)\n",
        "\n",
        "tokens = 'HWedlor'\n",
        "\n",
        "# code here\n",
        "one_hot = OneHot(tokens=tokens)\n",
        "\n",
        "text='Hello World!'\n",
        "\n",
        "coded_text = one_hot.encode(text)\n",
        "print(\"Shape of coded text: \", coded_text.shape)\n",
        "print(\"H coded (first letter in coded text): \", coded_text[0].astype(int))\n",
        "\n",
        "encoded_text = one_hot.decode(coded_text)\n",
        "\n",
        "print(untokenize(encoded_text))"
      ],
      "execution_count": 3,
      "outputs": [
        {
          "output_type": "stream",
          "text": [
            "Shape of coded text:  (12, 8)\n",
            "H coded (first letter in coded text):  [0 1 0 0 0 0 0 0]\n",
            "Hello[UNKNOWN]World[UNKNOWN]\n"
          ],
          "name": "stdout"
        }
      ]
    },
    {
      "cell_type": "markdown",
      "metadata": {
        "id": "WglUJhhgyWSs"
      },
      "source": [
        "## 7.2 Datensatz vorbereiten\n",
        "\n",
        "In dieser Übung verwenden wir das Buch Shakespeare als Datensatz. Ziel des Modells soll die Vorhersage weiterer Zeichen zu einer gegebenen Zeichensequenz sein.\n",
        "\n",
        "Sie können aus einem Buch (sehr lange Zeichensequenz) Trainingsdaten erzeugen, indem Sie jedem Zeichen das jeweils nächste Zeichen als Label zuweisen. Die folgende Grafik veranschaulicht dieses Verfahren:\n",
        "![Image](https://raw.githubusercontent.com/fhac-ewi/recurrent-neural-network/main/TrainData.png)\n",
        "\n",
        "In diesem Aufgabenteil wird das Buch einlegesen, mithilfe der One Hot Kodierung (Aufgabe 7.1) in Vektoren umgewandelt, in Teilsequenzen aufgeteilt und als Trainingsdaten und Validierungsdaten aufgeteilt.\n",
        "\n",
        "* Hinweis: Sie können theoretisch jeden beliebigen Text als Datensatz für das Training des Modells verwenden, wie z.B. die gesamten Harry Potter Bücher, Coronaschutzverordnungen oder auch Nachrichtenartikel.\n",
        "\n",
        "**Ihre Aufgaben**\n",
        "\n",
        "(1) Führen Sie die folgende Codezelle aus, um das Buch Shakespeare einzulesen. Untersuchen Sie den Datensatz, indem Sie einen kurzen Auszug des Textes ausgeben.\n"
      ]
    },
    {
      "cell_type": "code",
      "metadata": {
        "id": "79Qwlyaucvu0",
        "colab": {
          "base_uri": "https://localhost:8080/"
        },
        "outputId": "a5683f55-28fb-4427-9add-9e8abb6c0ec6"
      },
      "source": [
        "# maximum text length \n",
        "# 1. Protection against \"OutOfMemory\" (poor RAM 😥)\n",
        "# 2. Adjustment for making training faster (but you will gain less accuracy)\n",
        "MAX_TEXT_LEN = 1_200_000 \n",
        "\n",
        "path_to_file = tf.keras.utils.get_file('shakespeare.txt', 'https://storage.googleapis.com/download.tensorflow.org/data/shakespeare.txt')\n",
        "\n",
        "text = open(path_to_file, 'rb').read().decode(encoding='utf-8') # .lower() für schnelleres Training anfügen\n",
        "print(f'Length of text: {len(text)} characters')\n",
        "if len(text) > MAX_TEXT_LEN:\n",
        "    print(\"Text is too long. Cutting it to\", MAX_TEXT_LEN, f\"characters. That is {100 * MAX_TEXT_LEN / len(text):6.2f} %\")\n",
        "    text = text[:MAX_TEXT_LEN]\n",
        "\n",
        "# code here   \n",
        "# Aufgabe 7.2.1 \n",
        "print(\"Segment of text:\")\n",
        "print(\"-\" * 60)\n",
        "print(colored(text[:250], 'blue')) \n",
        "print(\"-\" * 60)"
      ],
      "execution_count": 4,
      "outputs": [
        {
          "output_type": "stream",
          "text": [
            "Length of text: 1115394 characters\n",
            "Segment of text:\n",
            "------------------------------------------------------------\n",
            "\u001b[34mFirst Citizen:\n",
            "Before we proceed any further, hear me speak.\n",
            "\n",
            "All:\n",
            "Speak, speak.\n",
            "\n",
            "First Citizen:\n",
            "You are all resolved rather to die than to famish?\n",
            "\n",
            "All:\n",
            "Resolved. resolved.\n",
            "\n",
            "First Citizen:\n",
            "First, you know Caius Marcius is chief enemy to the people.\n",
            "\u001b[0m\n",
            "------------------------------------------------------------\n"
          ],
          "name": "stdout"
        }
      ]
    },
    {
      "cell_type": "markdown",
      "metadata": {
        "id": "gx1Wc-Z-c9m5"
      },
      "source": [
        "(2) Erstellen Sie aus dem Text das Alphabet (`tokens`) und geben dessen Länge aus. Das Alphabet soll alle einzigartigen Zeichen des Textes enthalten.\n",
        "\n",
        "* Hinweis: Sie können den `text` mit der Funktion `tokenize` in eine Liste umwandeln. Dieser kann dann zu einem [Set](https://docs.python.org/3/tutorial/datastructures.html#sets) gewandelt werden."
      ]
    },
    {
      "cell_type": "code",
      "metadata": {
        "id": "z3CD1zKnc-Ar",
        "colab": {
          "base_uri": "https://localhost:8080/"
        },
        "outputId": "feb92ece-c7ac-4de1-cb0d-eb6dfb0c4b3a"
      },
      "source": [
        "# code here\n",
        "# Aufgabe 7.2.2 - Alphabet erstellen\n",
        "tokens = sorted(set(text))\n",
        "print(\"Length of raw text:\", len(text))\n",
        "print(\"Numbers of tokens (unique letters): \", len(tokens))"
      ],
      "execution_count": 5,
      "outputs": [
        {
          "output_type": "stream",
          "text": [
            "Length of raw text: 1115394\n",
            "Numbers of tokens (unique letters):  65\n"
          ],
          "name": "stdout"
        }
      ]
    },
    {
      "cell_type": "markdown",
      "metadata": {
        "id": "ae-yuMS0c-aI"
      },
      "source": [
        "(3) Erstellen Sie für das Alphabet eine One Hot Kodierung und wenden diese auf den `text` an. Nutzen Sie dazu Ihre Erkentnisse aus der Aufgabe 7.1."
      ]
    },
    {
      "cell_type": "code",
      "metadata": {
        "id": "Uxh5yZSlc-1j",
        "colab": {
          "base_uri": "https://localhost:8080/"
        },
        "outputId": "e1c833aa-5217-4cc7-8809-cd86e6e0e337"
      },
      "source": [
        "# code here\n",
        "# Aufgabe 7.2.3 - One Hot\n",
        "one_hot = OneHot(tokens=tokens)\n",
        "coded_text = one_hot.encode(text)\n",
        "print(\"Shape of coded text: \", coded_text.shape)"
      ],
      "execution_count": 6,
      "outputs": [
        {
          "output_type": "stream",
          "text": [
            "Shape of coded text:  (1115394, 66)\n"
          ],
          "name": "stdout"
        }
      ]
    },
    {
      "cell_type": "markdown",
      "metadata": {
        "id": "Ufxc8wG5c_Tg"
      },
      "source": [
        "(4) Teilen Sie den kodierten Text (der ein großer Datensatz ist) in Sequenzen (also in mehrere kleinere Datensätze) auf. Wie würden Sie die Länge der einzelnen Sequenzen wählen? \n",
        "Verwenden Sie dazu die vorgegebene Funktion `sequenze_split`.\n",
        "\n",
        "* Hinweis: Die Sequenzen sollten lang genug sein, dass das RNN Zusammenhänge in einem Satz (und ggf. darüber hinaus) erlernen kann. Die Sequenzlänge sollte jedoch kurz genug sein, damit eine ausreichende Anzahl an Datensätzen für das Training vorhanden ist.\n",
        "<br>Die von uns verwendete Sequenzlänge haben wir mit [Rot13](https://rot13.de/) kodiert: `Rvauhaqreg`"
      ]
    },
    {
      "cell_type": "code",
      "metadata": {
        "id": "-0vijKKDc_5b",
        "colab": {
          "base_uri": "https://localhost:8080/"
        },
        "outputId": "4e7bd72d-ca77-497d-e48c-e6871fc95922"
      },
      "source": [
        "# helper function for 7.2.4\n",
        "def sequenze_split(coded_text, sequence_len):\n",
        "    '''\n",
        "    Splits a given coded text (text converted with OneHot) into multiple sequences.\n",
        "\n",
        "    Parameters:\n",
        "    coded_text -- OneHot coded text (2D np.array) that will be splitted.\n",
        "    sequence_len -- Length of each sequence\n",
        "\n",
        "    Returns:\n",
        "    3D np.array with coded text splitted into sequences.\n",
        "    Shape will be (sequences, letters per sequence, letter as one hot coded vector)\n",
        "    '''\n",
        "    target_shape = (int(coded_text.shape[0] / (sequence_len + 1)) , (sequence_len + 1) , coded_text.shape[1])\n",
        "    coded_text_seq = np.empty(target_shape, dtype=coded_text.dtype)\n",
        "    for s in range(coded_text_seq.shape[0]):\n",
        "        coded_text_seq[s] = coded_text[s * (sequence_len + 1):(s + 1) * (sequence_len + 1)]\n",
        "  \n",
        "    return coded_text_seq  \n",
        "\n",
        "# code here\n",
        "# Aufgabe 7.2.4 - Aufteilung in Sequenzen\n",
        "sequence_len = 100\n",
        "coded_text_seq = sequenze_split(coded_text, sequence_len)\n",
        "print(\"Shape of coded text split into sequences\", coded_text_seq.shape)    "
      ],
      "execution_count": 7,
      "outputs": [
        {
          "output_type": "stream",
          "text": [
            "Shape of coded text split into sequences (11043, 101, 66)\n"
          ],
          "name": "stdout"
        }
      ]
    },
    {
      "cell_type": "markdown",
      "metadata": {
        "id": "V0IfRdKdcwNL"
      },
      "source": [
        "(5) Erstellen Sie nun aus den sequenzierten Daten das Feature `X` und das Label `y`. Für die Vorhersage von einzelnen Zeichen ist jeweils das nächste Zeichen das Label des vorherigen Zeichens. Das Label `y` wird deshalb aus den gleichen Werte des Features `X` gebildet, ist jedoch um +1 verschoben. \n",
        "\n",
        "\n",
        "* Beispiel: Die Sequenz `Hello World!` kann in **X** `Hello World` mit dem zugehörigen Label **y** `ello World!` aufgeteilt werden.\n",
        "* Hinweis: Untersuchen Sie die Rückgabe der Funktion `sequenze_split`. In welcher der drei Komponenten müssen Sie die Verschiebung vornehmen?\n"
      ]
    },
    {
      "cell_type": "code",
      "metadata": {
        "id": "JpjJhmNMdMtQ"
      },
      "source": [
        "# code here\n",
        "# Aufgabe 7.2.5\n",
        "X = coded_text_seq[:, :-1]\n",
        "y = coded_text_seq[:, 1:]"
      ],
      "execution_count": 8,
      "outputs": []
    },
    {
      "cell_type": "markdown",
      "metadata": {
        "id": "LA0UqltXdNK9"
      },
      "source": [
        "(6) Konvertieren Sie nun die Daten in ein Trainings- und Validierungsset. Nutzen Sie dafür die Funktion `train_test_split` (Eine Dokumentation finden Sie [hier](https://scikit-learn.org/stable/modules/generated/sklearn.model_selection.train_test_split.html)). "
      ]
    },
    {
      "cell_type": "code",
      "metadata": {
        "id": "LN0KsVCb_Rm-",
        "colab": {
          "base_uri": "https://localhost:8080/"
        },
        "outputId": "4db522b8-df53-4db8-ebd8-8e5cb884f077"
      },
      "source": [
        "# code here\n",
        "# Aufgabe 7.2.6\n",
        "validation_size = 1/6\n",
        "\n",
        "X_train, X_val, y_train, y_val = train_test_split(X, y, test_size=validation_size)\n",
        "\n",
        "print(\"X_train:\", X_train.shape, X_train.dtype)\n",
        "print(\"y_train:\", y_train.shape, y_train.dtype)\n",
        "print(\"X_val  :\", X_val.shape, X_val.dtype)\n",
        "print(\"y_val  :\", y_val.shape, y_val.dtype)\n",
        "\n",
        "print(\"-\" * 40)\n",
        "print(colored(untokenize(one_hot.decode(X_train[0])), 'blue'))\n",
        "print(\"-\" * 40)\n",
        "print(colored(untokenize(one_hot.decode(y_train[0])), 'green'))\n",
        "print(\"-\" * 40)    "
      ],
      "execution_count": 9,
      "outputs": [
        {
          "output_type": "stream",
          "text": [
            "X_train: (9202, 100, 66) bool\n",
            "y_train: (9202, 100, 66) bool\n",
            "X_val  : (1841, 100, 66) bool\n",
            "y_val  : (1841, 100, 66) bool\n",
            "----------------------------------------\n",
            "\u001b[34mvereign's face.\n",
            "I am the last of noble Edward's sons,\n",
            "Of whom thy father, Prince of Wales, was first\u001b[0m\n",
            "----------------------------------------\n",
            "\u001b[32mereign's face.\n",
            "I am the last of noble Edward's sons,\n",
            "Of whom thy father, Prince of Wales, was first:\u001b[0m\n",
            "----------------------------------------\n"
          ],
          "name": "stdout"
        }
      ]
    },
    {
      "cell_type": "markdown",
      "metadata": {
        "id": "PDvkDpWsysjl"
      },
      "source": [
        "🎉🎉🎉 **Geschafft!** 🎉🎉🎉\n",
        "\n",
        "Sie haben nun aus einem Buch Trainingsdaten für ein RNN zur Vorhersage von Zeichen erstellt! \n",
        "- Text einlesen\n",
        "- Text in Tokens umwandeln\n",
        "- Alphabet festlegen\n",
        "- One Hot Kodierung erstellen und anwenden\n",
        "- In Sequenzen aufteilen\n",
        "- `X` und `y` festlegen\n",
        "- Aufteilung in Training und Validierungsset\n",
        "\n",
        "... jetzt können Sie mit dem eigentlichen Modell fortfahren."
      ]
    },
    {
      "cell_type": "markdown",
      "metadata": {
        "id": "tOMFCH7V_RnM"
      },
      "source": [
        "## 7.3 RNN Modell erstellen\n",
        "In diesem Aufgabenteil wird ein [SimpleRNN](https://keras.io/api/layers/recurrent_layers/simple_rnn/) (auch als Vanilla bezeichnet) zur Vorhersage des weiteren Verlaufs einer Zeichensequenz erstellt.\n",
        "\n",
        "Für die Erstellung eines Vanilla RNN werden Sie ein Sequential Model von Keras mit einer SimpleRNN Layer und einer Dense Layer nutzen. \n",
        "![Image](https://raw.githubusercontent.com/fhac-ewi/recurrent-neural-network/main/SimpleRNN.png)\n",
        "\n",
        "**Ihre Aufgaben**\n",
        "\n",
        "(1) Bestimmen Sie nun die Parameter, die für das Modell benötigt werden:\n",
        "- Shape der Eingabe/des Trainingdatensatzes. (Anzahl Zeichen, Länge eines vektorisierten Zeichens)\n",
        "- Länge des Alphabets (inklusive des `unknown_tokens`). Also die Anzahl der Tokens, die das Modell vorhersagen können soll.\n",
        "  \n"
      ]
    },
    {
      "cell_type": "code",
      "metadata": {
        "id": "1JNXcbdvfoOF",
        "colab": {
          "base_uri": "https://localhost:8080/"
        },
        "outputId": "364cf193-0cad-4e55-f1ff-7c9d54c1c54b"
      },
      "source": [
        "# code here\n",
        "# Aufgabe 7.3.1\n",
        "# Length of the vocabulary in chars\n",
        "vocab_size = X_train.shape[-1]\n",
        "print(\"Numbers of unique tokens: \", vocab_size)\n",
        "\n",
        "# The input shape\n",
        "input_shape = X_train.shape[1:]\n",
        "print(\"Input shape: \", input_shape)\n",
        "\n",
        "# Number of RNN units\n",
        "rnn_units = 128"
      ],
      "execution_count": 10,
      "outputs": [
        {
          "output_type": "stream",
          "text": [
            "Numbers of unique tokens:  66\n",
            "Input shape:  (100, 66)\n"
          ],
          "name": "stdout"
        }
      ]
    },
    {
      "cell_type": "markdown",
      "metadata": {
        "id": "07w7qlrrfonH"
      },
      "source": [
        "\n",
        "(2) Erstellen Sie ein [Sequential](https://keras.io/api/models/sequential/) Modell und fügen folgende Schichten hinzu:\n",
        "- [SimpleRNN](https://keras.io/api/layers/recurrent_layers/simple_rnn/) mit 128 RNN Units als Output Space (= Größe des Hidden State), der Shape der Eingabe und dem Parameter `return_sequences=true`. \n",
        "TODO Parameter return_sequences beschreiben\n",
        "- [Dense](https://keras.io/api/layers/core_layers/dense/) mit der Anzahl der Tokens und der Aktivierungsfunktion `softmax`.\n",
        "\n",
        "Kompilieren Sie anschließend das Modell mit der Loss Function `categorical_crossentropy`, dem [RMSprop](https://keras.io/api/optimizers/rmsprop/) Optimizer mit einer `learning_rate` von 0.01 und fügen als Metrics die `accuracy` hinzu."
      ]
    },
    {
      "cell_type": "code",
      "metadata": {
        "id": "z0Uh7RmR_RnN",
        "colab": {
          "base_uri": "https://localhost:8080/"
        },
        "outputId": "38197cd4-5d67-4d3a-8747-df3df754ae47"
      },
      "source": [
        "# code here\n",
        "# Aufgabe 7.3.2 - SimpleRNN\n",
        "# model = ....\n",
        "model = tf.keras.Sequential(name=\"SimpleRNN_Model\")\n",
        "model.add(tf.keras.layers.SimpleRNN(rnn_units, return_sequences=True, input_shape=input_shape, name=\"The_Brain\"))\n",
        "model.add(tf.keras.layers.Dense(vocab_size, activation='softmax', name=\"The_Hand\"))\n",
        "optimizer = tf.keras.optimizers.RMSprop(learning_rate=0.01)\n",
        "model.compile(loss='categorical_crossentropy', optimizer=optimizer, metrics=['accuracy'])\n",
        "\n",
        "model.summary()"
      ],
      "execution_count": 11,
      "outputs": [
        {
          "output_type": "stream",
          "text": [
            "Model: \"SimpleRNN_Model\"\n",
            "_________________________________________________________________\n",
            "Layer (type)                 Output Shape              Param #   \n",
            "=================================================================\n",
            "The_Brain (SimpleRNN)        (None, 100, 128)          24960     \n",
            "_________________________________________________________________\n",
            "The_Hand (Dense)             (None, 100, 66)           8514      \n",
            "=================================================================\n",
            "Total params: 33,474\n",
            "Trainable params: 33,474\n",
            "Non-trainable params: 0\n",
            "_________________________________________________________________\n"
          ],
          "name": "stdout"
        }
      ]
    },
    {
      "cell_type": "markdown",
      "metadata": {
        "id": "axndj50eyWrw"
      },
      "source": [
        "## 7.4 RNN Modell trainieren\n",
        "In diesem Aufgabenteil soll das Modell trainiert werden sowie der Loss und die Accuracy untersucht werden.\n",
        "\n",
        "**Ihre Aufgaben**\n",
        "\n",
        "(1) Wenden Sie die Methode [fit](https://www.tensorflow.org/api_docs/python/tf/keras/Model#fit) auf Ihr Modell an. Geben Sie als Parameter neben den Trainingsdaten auch die Anzahl der Epochen, die Batchsize und die zuvor erstellten Validierungsdaten (Aufgabe 7.2.6) an. Speichern Sie das Ergebnis des Trainings für eine spätere Analyse in einer Variable!\n",
        "\n",
        "Im Code sind bereits Startwerte für das Training vorgegeben. Sie können diese nach Belieben anpassen. \n",
        "\n",
        "**Eine Accuracy von 50% ist für diesen Schritt völlig ausreichend!**\n",
        "\n",
        "* Hinweis: **Die Trainingsdauer sollte zwischen 1 und 3 Minuten liegen!** \n",
        "</br>Nach den ersten drei Epochen sollte die Genauigkeit bereits über 30% liegen. Falls nicht, prüfen Sie noch einmal die vorherigen Aufgabenteile oder bitten Sie das Team RNN um Hilfe!\n",
        "\n",
        "* Tipp: Falls Sie das Gefühl haben, dass Ihr Modell noch einen Fehler enthalten könnte, fügen Sie in Aufgabe 7.2 im Codeblock Zeile 8 ein `.lower()` ein. Dadurch wird der Datensatz in Kleinbuchstaben umgewandelt und die Größe des Alphabets verringert. "
      ]
    },
    {
      "cell_type": "code",
      "metadata": {
        "id": "iGpNzqcuyW5-",
        "colab": {
          "base_uri": "https://localhost:8080/"
        },
        "outputId": "f04e9653-cae3-474f-8dfd-6d6d937cef8c"
      },
      "source": [
        "EPOCHS = 20\n",
        "BATCH_SIZE = 128\n",
        "\n",
        "t1 = time.time()\n",
        "# code here\n",
        "hist = model.fit(X_train, y_train,\n",
        "                  batch_size=BATCH_SIZE,\n",
        "                  epochs=EPOCHS,\n",
        "                  validation_data=(X_val, y_val))\n",
        "t2 = time.time()\n",
        "\n",
        "print(\"Training took: \", timedelta(seconds=t2-t1))"
      ],
      "execution_count": 12,
      "outputs": [
        {
          "output_type": "stream",
          "text": [
            "Epoch 1/20\n",
            "72/72 [==============================] - 6s 72ms/step - loss: 3.5524 - accuracy: 0.1415 - val_loss: 2.4590 - val_accuracy: 0.3158\n",
            "Epoch 2/20\n",
            "72/72 [==============================] - 5s 67ms/step - loss: 2.3725 - accuracy: 0.3297 - val_loss: 2.2168 - val_accuracy: 0.3716\n",
            "Epoch 3/20\n",
            "72/72 [==============================] - 5s 66ms/step - loss: 2.1400 - accuracy: 0.3833 - val_loss: 2.0391 - val_accuracy: 0.4141\n",
            "Epoch 4/20\n",
            "72/72 [==============================] - 5s 67ms/step - loss: 2.0028 - accuracy: 0.4188 - val_loss: 1.9451 - val_accuracy: 0.4261\n",
            "Epoch 5/20\n",
            "72/72 [==============================] - 5s 68ms/step - loss: 1.9174 - accuracy: 0.4410 - val_loss: 1.8683 - val_accuracy: 0.4568\n",
            "Epoch 6/20\n",
            "72/72 [==============================] - 5s 67ms/step - loss: 1.8569 - accuracy: 0.4569 - val_loss: 1.8375 - val_accuracy: 0.4665\n",
            "Epoch 7/20\n",
            "72/72 [==============================] - 5s 67ms/step - loss: 1.8220 - accuracy: 0.4667 - val_loss: 1.8017 - val_accuracy: 0.4695\n",
            "Epoch 8/20\n",
            "72/72 [==============================] - 5s 67ms/step - loss: 1.7904 - accuracy: 0.4739 - val_loss: 1.8052 - val_accuracy: 0.4692\n",
            "Epoch 9/20\n",
            "72/72 [==============================] - 5s 69ms/step - loss: 1.7707 - accuracy: 0.4789 - val_loss: 1.7804 - val_accuracy: 0.4747\n",
            "Epoch 10/20\n",
            "72/72 [==============================] - 5s 68ms/step - loss: 1.7474 - accuracy: 0.4844 - val_loss: 1.7734 - val_accuracy: 0.4798\n",
            "Epoch 11/20\n",
            "72/72 [==============================] - 5s 67ms/step - loss: 1.7332 - accuracy: 0.4888 - val_loss: 1.7369 - val_accuracy: 0.4931\n",
            "Epoch 12/20\n",
            "72/72 [==============================] - 5s 68ms/step - loss: 1.7247 - accuracy: 0.4907 - val_loss: 1.7405 - val_accuracy: 0.4885\n",
            "Epoch 13/20\n",
            "72/72 [==============================] - 5s 67ms/step - loss: 1.7107 - accuracy: 0.4941 - val_loss: 1.7309 - val_accuracy: 0.4895\n",
            "Epoch 14/20\n",
            "72/72 [==============================] - 5s 68ms/step - loss: 1.6984 - accuracy: 0.4970 - val_loss: 1.7223 - val_accuracy: 0.4946\n",
            "Epoch 15/20\n",
            "72/72 [==============================] - 5s 67ms/step - loss: 1.6944 - accuracy: 0.4993 - val_loss: 1.7184 - val_accuracy: 0.4898\n",
            "Epoch 16/20\n",
            "72/72 [==============================] - 5s 69ms/step - loss: 1.6904 - accuracy: 0.4996 - val_loss: 1.6966 - val_accuracy: 0.4967\n",
            "Epoch 17/20\n",
            "72/72 [==============================] - 5s 67ms/step - loss: 1.6802 - accuracy: 0.5016 - val_loss: 1.7091 - val_accuracy: 0.4999\n",
            "Epoch 18/20\n",
            "72/72 [==============================] - 5s 68ms/step - loss: 1.6730 - accuracy: 0.5035 - val_loss: 1.6968 - val_accuracy: 0.5000\n",
            "Epoch 19/20\n",
            "72/72 [==============================] - 5s 68ms/step - loss: 1.6690 - accuracy: 0.5037 - val_loss: 1.6936 - val_accuracy: 0.5029\n",
            "Epoch 20/20\n",
            "72/72 [==============================] - 5s 68ms/step - loss: 1.6645 - accuracy: 0.5056 - val_loss: 1.6857 - val_accuracy: 0.5029\n",
            "Training took:  0:01:38.804075\n"
          ],
          "name": "stdout"
        }
      ]
    },
    {
      "cell_type": "markdown",
      "metadata": {
        "id": "hwFD7439_RnO"
      },
      "source": [
        "(2) Plotten Sie die Accuracy und den Loss über die Epochen. Bewerten Sie den Verlauf des Trainings. Wie könnte das Training verbessert werden?"
      ]
    },
    {
      "cell_type": "code",
      "metadata": {
        "id": "JCn3o8K9_RnO",
        "colab": {
          "base_uri": "https://localhost:8080/",
          "height": 504
        },
        "outputId": "56fd8632-4060-45a3-b54b-8e884af3ab2a"
      },
      "source": [
        "# code here\n",
        "fig, ax = plt.subplots(1, 1)\n",
        "\n",
        "ax.plot(hist.history[\"loss\"], label='loss')\n",
        "ax.plot(hist.history[\"accuracy\"], label='accuracy')\n",
        "ax.plot(hist.history[\"val_loss\"], label='validation loss')\n",
        "ax.plot(hist.history[\"val_accuracy\"], label='validation accuracy')\n",
        "ax.set_xlabel(\"Epoch\")\n",
        "ax.legend()\n",
        "\n",
        "fig.set_size_inches(20, 10)\n",
        "\n",
        "plt.show()"
      ],
      "execution_count": 13,
      "outputs": [
        {
          "output_type": "display_data",
          "data": {
            "image/png": "[encoded data removed]",
            "text/plain": [
              "<Figure size 1440x720 with 1 Axes>"
            ]
          },
          "metadata": {
            "tags": [],
            "needs_background": "light"
          }
        }
      ]
    },
    {
      "cell_type": "markdown",
      "metadata": {
        "id": "WxNyKthd_RnP"
      },
      "source": [
        "## 7.5 Vorhersagen treffen\n",
        "Das zuvor trainierte Modell soll nun für die Vorhersage von Buchstaben genutzt werden. TODO Anpassen\n",
        "\n",
        "**Ihre Aufgaben**\n",
        "\n",
        "(1) Vervollständigen Sie die Methode `predict`. Kodieren Sie dafür den Text mit der One Hot Kodierung, führen die Vorhersage mit dem trainierten Modell durch und geben das letzte dekodierte Zeichen der Vorhersage zurück.  \n",
        "\n",
        "* Hinweis: Beachten Sie, dass die Methode `mode.predict` immer Batches erwartet und der Input in eine andere Shape gebracht werden muss.\n",
        "\n",
        "Testen Sie anschließend die Methode mit einzelnen Wörtern. Geben Sie dafür den ersten Teil des Wortes in die Predict Methode hinein und überprüfen die Rückgabe. Sie können auch kürzere Sätze hineingeben und die Ausgabe prüfen.\n",
        "\n",
        "* Beispiel: Bei `Prince` wird der Input als `Princ` gewählt und das erwartete Ergebnis lautet `e`."
      ]
    },
    {
      "cell_type": "code",
      "metadata": {
        "id": "y3wVdygn_RnQ",
        "colab": {
          "base_uri": "https://localhost:8080/"
        },
        "outputId": "e7bfa86d-c08a-4f8a-bf17-d84aecbc9fe1"
      },
      "source": [
        "def predict(text, one_hot, trainied_model):\n",
        "    '''\n",
        "    Wandelt den Text mithilfe der OneHot Kodierung in eine Input um, \n",
        "    führt mithilfe des trainierten Modells eine prediction durch \n",
        "    und gibt das vorhergesagte Zeichen als Text aus.\n",
        "    '''\n",
        "    # coce here\n",
        "    encoded_text = one_hot.encode(tokenize(text))\n",
        "    prediction = trainied_model.predict(encoded_text.reshape((1, *encoded_text.shape)))\n",
        "    return untokenize(one_hot.decode(prediction[0]))[-1]\n",
        "\n",
        "print(\"Prediction of 'fathe' is:\", predict(\"fathe\", one_hot, model))   \n",
        "print(\"Prediction of 'Princ' is:\", predict(\"Princ\", one_hot, model))  "
      ],
      "execution_count": 14,
      "outputs": [
        {
          "output_type": "stream",
          "text": [
            "WARNING:tensorflow:Model was constructed with shape (None, 100, 66) for input KerasTensor(type_spec=TensorSpec(shape=(None, 100, 66), dtype=tf.float32, name='The_Brain_input'), name='The_Brain_input', description=\"created by layer 'The_Brain_input'\"), but it was called on an input with incompatible shape (None, 5, 66).\n",
            "Prediction of 'fathe' is: r\n",
            "Prediction of 'Princ' is: e\n"
          ],
          "name": "stdout"
        }
      ]
    },
    {
      "cell_type": "markdown",
      "metadata": {
        "id": "IGXTuk3VnLQb"
      },
      "source": [
        "(2) **Optional** **Wettkampf** Erweitern Sie die `predict()` Methode aus dem vorherigen Aufgabenteil (7.5.1) in eine Methode um, die 100 weitere Zeichen vorhersagt und so womöglich einen ganzen Satz vervollständigt. "
      ]
    },
    {
      "cell_type": "code",
      "metadata": {
        "colab": {
          "base_uri": "https://localhost:8080/"
        },
        "id": "btPQKKCRn2xf",
        "outputId": "e4c5758d-29e9-4523-ad70-3fe28f6b28e2"
      },
      "source": [
        "def predict_sentence(text, prediction_length, one_hot, trainied_model):\n",
        "    '''\n",
        "    Führt mehrere Predictions Iterativ durch.\n",
        "    '''\n",
        "    # code here\n",
        "    for x in range(prediction_length):\n",
        "        text += predict(text, one_hot, trainied_model)\n",
        "    return text\n",
        "\n",
        "print(predict_sentence(\"ROMEO:\\n\", 100, one_hot, model))      "
      ],
      "execution_count": null,
      "outputs": [
        {
          "output_type": "stream",
          "text": [
            "WARNING:tensorflow:Model was constructed with shape (None, 100, 66) for input KerasTensor(type_spec=TensorSpec(shape=(None, 100, 66), dtype=tf.float32, name='The_Brain_input'), name='The_Brain_input', description=\"created by layer 'The_Brain_input'\"), but it was called on an input with incompatible shape (None, 7, 66).\n"
          ],
          "name": "stdout"
        }
      ]
    },
    {
      "cell_type": "markdown",
      "metadata": {
        "id": "67T8xcMS_RnQ"
      },
      "source": [
        "(3) **Optional** Nutzen Sie zum Beispiel [ipywidgets](https://ipywidgets.readthedocs.io/en/latest/examples/Using%20Interact.html#Using-Interact) um Texte live eingeben zu können und Vorhersagen zu erhalten. Testen Sie das trainierte Modell und Ihre `predict` Methode (Aufgabenteil 7.5.1).\n"
      ]
    },
    {
      "cell_type": "code",
      "metadata": {
        "id": "ApEZl0IK_RnQ"
      },
      "source": [
        "import ipywidgets as widgets\n",
        "from IPython.display import display"
      ],
      "execution_count": 15,
      "outputs": []
    },
    {
      "cell_type": "code",
      "metadata": {
        "id": "7ENo5TOT_RnR",
        "outputId": "1c943677-0f23-40d1-e080-e7835a58942b",
        "colab": {
          "base_uri": "https://localhost:8080/",
          "height": 103,
          "referenced_widgets": [
            "71be19f6dddb433e8ec2788fac2d04dd",
            "d0e9a6a96cbd4a278486ddfab47825d4",
            "ae5f47ee0640453d82cf950cbfe15ecf",
            "3db113d6c6c74cf99cc6c63ca2fd7c7f",
            "526ab3b19f1f4ef2a5afe1332e39c75b",
            "700dec9799364cc59e6463179ea09245",
            "cb1c934304524816adb97ad42b82eaf9"
          ]
        }
      },
      "source": [
        "# code here\n",
        "def verbose_prediction(text, one_hot, trainied_model):\n",
        "    if len(text) == 0:\n",
        "        text = \" \"\n",
        "    prediction = predict(text=text, one_hot=one_hot, trainied_model=trainied_model)\n",
        "    print(f\"I think the next will be \\\"{prediction}\\\" after you said \\\"{text}\\\"\")\n",
        "\n",
        "w = widgets.interactive(verbose_prediction,\n",
        "                        text=widgets.Text(value='ROME', placeholder='Type something', description='Your text:', disabled=False),\n",
        "                        one_hot=widgets.fixed(one_hot),\n",
        "                        trainied_model=widgets.fixed(model),\n",
        "                       )\n",
        "\n",
        "verbose_prediction(\"Edwar\", one_hot=one_hot, trainied_model=model)\n",
        "\n",
        "display(w)"
      ],
      "execution_count": 16,
      "outputs": [
        {
          "output_type": "stream",
          "text": [
            "I think the next will be \"d\" after you said \"Edwar\"\n"
          ],
          "name": "stdout"
        },
        {
          "output_type": "display_data",
          "data": {
            "application/vnd.jupyter.widget-view+json": {
              "model_id": "71be19f6dddb433e8ec2788fac2d04dd",
              "version_minor": 0,
              "version_major": 2
            },
            "text/plain": [
              "interactive(children=(Text(value='ROME', description='Your text:', placeholder='Type something'), Output()), _…"
            ]
          },
          "metadata": {
            "tags": []
          }
        }
      ]
    },
    {
      "cell_type": "markdown",
      "metadata": {
        "id": "0d7pKNy1ycN7"
      },
      "source": [
        "## 7.6 **Optional** RNN Varianten LSTM und GRU\n",
        "\n",
        "Neben SimpleRNN wurden in der Vorlesung zwei weitere Varianten von RNNs vorgestellt, die mit dem Vanishing Gradient Problem deutlich besser als das SimpleRNN umgehen können.\n",
        "\n",
        "In dieser Aufgabe sollen diese beiden Varianten trainiert und die Lernkurve sowie die getroffenen Vorhersagen mit dem SimpleRNN verglichen werden.\n",
        "\n",
        "**Ihre Aufgaben**\n",
        "\n",
        "(1) Trainieren Sie auf dem gleichen Datensatz zwei Modelle der Varianten LSTM und GRU. Verwenden Sie Ihr Modell aus Aufgabe 7.3 und ersetzen Sie die SimpleRNN Layer durch eine passende [Layer von Keras](https://keras.io/api/layers/recurrent_layers/).\n",
        "\n",
        "**Speichern Sie die Modelle in neuen Variablen ab!**\n"
      ]
    },
    {
      "cell_type": "code",
      "metadata": {
        "id": "IehQ7h3uyeY6",
        "colab": {
          "base_uri": "https://localhost:8080/"
        },
        "outputId": "e5309dcd-d0e4-496a-a8da-a12fabf08218"
      },
      "source": [
        "# code here\n",
        "# model_lstm = ....\n",
        "model_lstm = tf.keras.Sequential(name=\"LSTM_Model\")\n",
        "model_lstm.add(tf.keras.layers.LSTM(rnn_units, return_sequences=True, input_shape=input_shape, name=\"The_Brain\"))\n",
        "model_lstm.add(tf.keras.layers.Dense(vocab_size, activation='softmax', name=\"The_Hand\"))\n",
        "optimizer = tf.keras.optimizers.RMSprop(learning_rate=0.01)\n",
        "model_lstm.compile(loss='categorical_crossentropy', optimizer=optimizer, metrics=['accuracy'])\n",
        "model_lstm.summary()\n",
        "\n",
        "# model_gru = ....\n",
        "model_gru = tf.keras.Sequential(name=\"GRU_Model\")\n",
        "model_gru.add(tf.keras.layers.GRU(rnn_units, return_sequences=True, input_shape=input_shape, name=\"The_Brain\"))\n",
        "model_gru.add(tf.keras.layers.Dense(vocab_size, activation='softmax', name=\"The_Hand\"))\n",
        "optimizer = tf.keras.optimizers.RMSprop(learning_rate=0.01)\n",
        "model_gru.compile(loss='categorical_crossentropy', optimizer=optimizer, metrics=['accuracy'])\n",
        "model_gru.summary()\n"
      ],
      "execution_count": 17,
      "outputs": [
        {
          "output_type": "stream",
          "text": [
            "Model: \"LSTM_Model\"\n",
            "_________________________________________________________________\n",
            "Layer (type)                 Output Shape              Param #   \n",
            "=================================================================\n",
            "The_Brain (LSTM)             (None, 100, 128)          99840     \n",
            "_________________________________________________________________\n",
            "The_Hand (Dense)             (None, 100, 66)           8514      \n",
            "=================================================================\n",
            "Total params: 108,354\n",
            "Trainable params: 108,354\n",
            "Non-trainable params: 0\n",
            "_________________________________________________________________\n",
            "Model: \"GRU_Model\"\n",
            "_________________________________________________________________\n",
            "Layer (type)                 Output Shape              Param #   \n",
            "=================================================================\n",
            "The_Brain (GRU)              (None, 100, 128)          75264     \n",
            "_________________________________________________________________\n",
            "The_Hand (Dense)             (None, 100, 66)           8514      \n",
            "=================================================================\n",
            "Total params: 83,778\n",
            "Trainable params: 83,778\n",
            "Non-trainable params: 0\n",
            "_________________________________________________________________\n"
          ],
          "name": "stdout"
        }
      ]
    },
    {
      "cell_type": "code",
      "metadata": {
        "id": "knXfKSKy_RnS",
        "colab": {
          "base_uri": "https://localhost:8080/"
        },
        "outputId": "44340be1-9cb6-451b-998c-e4831c86d8bd"
      },
      "source": [
        "t1 = time.time()\n",
        "# code here (train lstm)\n",
        "hist_lstm = model_lstm.fit(X_train, y_train,\n",
        "                           batch_size=BATCH_SIZE,\n",
        "                           epochs=EPOCHS,\n",
        "                           validation_data=(X_val, y_val))\n",
        "t2 = time.time()\n",
        "t_lstm = t2 - t1\n",
        "\n",
        "t1 = time.time()\n",
        "# code here (train gru)\n",
        "hist_gru = model_gru.fit(X_train, y_train,\n",
        "                         batch_size=BATCH_SIZE,\n",
        "                         epochs=EPOCHS,\n",
        "                         validation_data=(X_val, y_val))\n",
        "t2 = time.time()\n",
        "t_gru = t2 - t1\n",
        "\n",
        "print(\"LSTM Training took:\", timedelta(seconds=t_lstm))\n",
        "print(\"GRU  Training took:\", timedelta(seconds=t_gru))"
      ],
      "execution_count": 18,
      "outputs": [
        {
          "output_type": "stream",
          "text": [
            "Epoch 1/20\n",
            "72/72 [==============================] - 4s 19ms/step - loss: 3.3017 - accuracy: 0.1652 - val_loss: 2.4633 - val_accuracy: 0.3078\n",
            "Epoch 2/20\n",
            "72/72 [==============================] - 1s 12ms/step - loss: 2.3379 - accuracy: 0.3330 - val_loss: 2.0837 - val_accuracy: 0.3922\n",
            "Epoch 3/20\n",
            "72/72 [==============================] - 1s 12ms/step - loss: 2.0263 - accuracy: 0.4065 - val_loss: 1.8784 - val_accuracy: 0.4462\n",
            "Epoch 4/20\n",
            "72/72 [==============================] - 1s 12ms/step - loss: 1.8422 - accuracy: 0.4557 - val_loss: 1.7503 - val_accuracy: 0.4845\n",
            "Epoch 5/20\n",
            "72/72 [==============================] - 1s 12ms/step - loss: 1.7283 - accuracy: 0.4865 - val_loss: 1.6848 - val_accuracy: 0.4958\n",
            "Epoch 6/20\n",
            "72/72 [==============================] - 1s 12ms/step - loss: 1.6504 - accuracy: 0.5054 - val_loss: 1.6294 - val_accuracy: 0.5137\n",
            "Epoch 7/20\n",
            "72/72 [==============================] - 1s 12ms/step - loss: 1.5991 - accuracy: 0.5194 - val_loss: 1.5844 - val_accuracy: 0.5244\n",
            "Epoch 8/20\n",
            "72/72 [==============================] - 1s 11ms/step - loss: 1.5534 - accuracy: 0.5313 - val_loss: 1.5481 - val_accuracy: 0.5347\n",
            "Epoch 9/20\n",
            "72/72 [==============================] - 1s 12ms/step - loss: 1.5215 - accuracy: 0.5396 - val_loss: 1.5425 - val_accuracy: 0.5363\n",
            "Epoch 10/20\n",
            "72/72 [==============================] - 1s 12ms/step - loss: 1.4944 - accuracy: 0.5467 - val_loss: 1.5119 - val_accuracy: 0.5473\n",
            "Epoch 11/20\n",
            "72/72 [==============================] - 1s 12ms/step - loss: 1.4720 - accuracy: 0.5525 - val_loss: 1.4918 - val_accuracy: 0.5512\n",
            "Epoch 12/20\n",
            "72/72 [==============================] - 1s 12ms/step - loss: 1.4609 - accuracy: 0.5552 - val_loss: 1.4882 - val_accuracy: 0.5503\n",
            "Epoch 13/20\n",
            "72/72 [==============================] - 1s 12ms/step - loss: 1.4436 - accuracy: 0.5593 - val_loss: 1.4837 - val_accuracy: 0.5520\n",
            "Epoch 14/20\n",
            "72/72 [==============================] - 1s 12ms/step - loss: 1.4292 - accuracy: 0.5627 - val_loss: 1.4708 - val_accuracy: 0.5542\n",
            "Epoch 15/20\n",
            "72/72 [==============================] - 1s 12ms/step - loss: 1.4205 - accuracy: 0.5657 - val_loss: 1.4715 - val_accuracy: 0.5532\n",
            "Epoch 16/20\n",
            "72/72 [==============================] - 1s 12ms/step - loss: 1.4146 - accuracy: 0.5672 - val_loss: 1.4659 - val_accuracy: 0.5556\n",
            "Epoch 17/20\n",
            "72/72 [==============================] - 1s 12ms/step - loss: 1.4051 - accuracy: 0.5688 - val_loss: 1.4623 - val_accuracy: 0.5582\n",
            "Epoch 18/20\n",
            "72/72 [==============================] - 1s 12ms/step - loss: 1.3958 - accuracy: 0.5718 - val_loss: 1.4551 - val_accuracy: 0.5605\n",
            "Epoch 19/20\n",
            "72/72 [==============================] - 1s 12ms/step - loss: 1.3897 - accuracy: 0.5727 - val_loss: 1.4628 - val_accuracy: 0.5577\n",
            "Epoch 20/20\n",
            "72/72 [==============================] - 1s 12ms/step - loss: 1.3850 - accuracy: 0.5737 - val_loss: 1.4496 - val_accuracy: 0.5606\n",
            "Epoch 1/20\n",
            "72/72 [==============================] - 2s 16ms/step - loss: 3.0662 - accuracy: 0.2314 - val_loss: 2.1471 - val_accuracy: 0.3753\n",
            "Epoch 2/20\n",
            "72/72 [==============================] - 1s 11ms/step - loss: 2.0485 - accuracy: 0.4021 - val_loss: 1.8531 - val_accuracy: 0.4511\n",
            "Epoch 3/20\n",
            "72/72 [==============================] - 1s 11ms/step - loss: 1.8098 - accuracy: 0.4642 - val_loss: 1.7192 - val_accuracy: 0.4900\n",
            "Epoch 4/20\n",
            "72/72 [==============================] - 1s 11ms/step - loss: 1.6906 - accuracy: 0.4947 - val_loss: 1.6690 - val_accuracy: 0.4982\n",
            "Epoch 5/20\n",
            "72/72 [==============================] - 1s 11ms/step - loss: 1.6216 - accuracy: 0.5135 - val_loss: 1.6137 - val_accuracy: 0.5121\n",
            "Epoch 6/20\n",
            "72/72 [==============================] - 1s 11ms/step - loss: 1.5754 - accuracy: 0.5245 - val_loss: 1.5620 - val_accuracy: 0.5327\n",
            "Epoch 7/20\n",
            "72/72 [==============================] - 1s 11ms/step - loss: 1.5418 - accuracy: 0.5342 - val_loss: 1.5421 - val_accuracy: 0.5365\n",
            "Epoch 8/20\n",
            "72/72 [==============================] - 1s 11ms/step - loss: 1.5162 - accuracy: 0.5404 - val_loss: 1.5362 - val_accuracy: 0.5353\n",
            "Epoch 9/20\n",
            "72/72 [==============================] - 1s 11ms/step - loss: 1.4973 - accuracy: 0.5453 - val_loss: 1.5218 - val_accuracy: 0.5421\n",
            "Epoch 10/20\n",
            "72/72 [==============================] - 1s 11ms/step - loss: 1.4784 - accuracy: 0.5500 - val_loss: 1.5095 - val_accuracy: 0.5427\n",
            "Epoch 11/20\n",
            "72/72 [==============================] - 1s 11ms/step - loss: 1.4665 - accuracy: 0.5529 - val_loss: 1.5046 - val_accuracy: 0.5464\n",
            "Epoch 12/20\n",
            "72/72 [==============================] - 1s 11ms/step - loss: 1.4613 - accuracy: 0.5535 - val_loss: 1.4869 - val_accuracy: 0.5511\n",
            "Epoch 13/20\n",
            "72/72 [==============================] - 1s 11ms/step - loss: 1.4492 - accuracy: 0.5565 - val_loss: 1.4912 - val_accuracy: 0.5497\n",
            "Epoch 14/20\n",
            "72/72 [==============================] - 1s 11ms/step - loss: 1.4385 - accuracy: 0.5600 - val_loss: 1.4866 - val_accuracy: 0.5501\n",
            "Epoch 15/20\n",
            "72/72 [==============================] - 1s 11ms/step - loss: 1.4331 - accuracy: 0.5616 - val_loss: 1.4773 - val_accuracy: 0.5519\n",
            "Epoch 16/20\n",
            "72/72 [==============================] - 1s 11ms/step - loss: 1.4304 - accuracy: 0.5616 - val_loss: 1.4715 - val_accuracy: 0.5558\n",
            "Epoch 17/20\n",
            "72/72 [==============================] - 1s 11ms/step - loss: 1.4229 - accuracy: 0.5630 - val_loss: 1.4764 - val_accuracy: 0.5540\n",
            "Epoch 18/20\n",
            "72/72 [==============================] - 1s 11ms/step - loss: 1.4167 - accuracy: 0.5656 - val_loss: 1.4748 - val_accuracy: 0.5525\n",
            "Epoch 19/20\n",
            "72/72 [==============================] - 1s 11ms/step - loss: 1.4117 - accuracy: 0.5661 - val_loss: 1.4663 - val_accuracy: 0.5580\n",
            "Epoch 20/20\n",
            "72/72 [==============================] - 1s 11ms/step - loss: 1.4082 - accuracy: 0.5680 - val_loss: 1.4640 - val_accuracy: 0.5583\n",
            "LSTM Training took: 0:00:20.541749\n",
            "GRU  Training took: 0:00:17.748389\n"
          ],
          "name": "stdout"
        }
      ]
    },
    {
      "cell_type": "markdown",
      "metadata": {
        "id": "8ZyureKEhM0H"
      },
      "source": [
        "(2) Plotten Sie die Accuracy und den Loss der drei Modelle in einem Diagramm. Verwenden Sie zusätzlich die Methode `predict_sentence` (7.5.2), um die Vorhersagen zu vergleichen.\n",
        "Welche Erkenntnisse haben Sie aus dem Training gezogen? "
      ]
    },
    {
      "cell_type": "markdown",
      "metadata": {
        "id": "q8fe7kxBhFOM"
      },
      "source": [
        "> <Antwort hier einfügen>\n",
        "\n",
        "> **Musterlösung:**\n",
        "<br>Erkenntnisse:\n",
        "- SimpleRNN leidet unter Gedächtnisverlust\n",
        "- LSTM und GRU haben eine geringfügig bessere Accuracy - die vorhergesagten Texte sind aber **deutlich** besser!\n",
        "- Trainingszeit von LSTM und GRU kürzer.\n"
      ]
    },
    {
      "cell_type": "code",
      "metadata": {
        "id": "0HlKt70B_RnT",
        "colab": {
          "base_uri": "https://localhost:8080/",
          "height": 504
        },
        "outputId": "1035f8b5-835d-4b75-eb39-23d2a67d3660"
      },
      "source": [
        "# code here\n",
        "fig, ax = plt.subplots(1, 1)\n",
        "\n",
        "for n, h in [(\"simple rnn\", hist), (\"lstm\", hist_lstm), (\"gru\", hist_gru)]:\n",
        "\n",
        "    ax.plot(h.history[\"loss\"], label=f'{n} loss')\n",
        "    ax.plot(h.history[\"accuracy\"], label=f'{n} accuracy')\n",
        "    ax.plot(h.history[\"val_loss\"], label=f'{n} validation loss')\n",
        "    ax.plot(h.history[\"val_accuracy\"], label=f'{n} validation accuracy')\n",
        "\n",
        "ax.set_xlabel(\"Epoch\")\n",
        "ax.legend()\n",
        "\n",
        "fig.set_size_inches(20, 10)\n",
        "\n",
        "plt.show()"
      ],
      "execution_count": 19,
      "outputs": [
        {
          "output_type": "display_data",
          "data": {
            "image/png": "[encoded data removed]",
            "text/plain": [
              "<Figure size 1440x720 with 1 Axes>"
            ]
          },
          "metadata": {
            "tags": [],
            "needs_background": "light"
          }
        }
      ]
    },
    {
      "cell_type": "code",
      "metadata": {
        "id": "pBhZLFoNpvVD",
        "colab": {
          "base_uri": "https://localhost:8080/",
          "height": 279
        },
        "outputId": "8fdc25ee-890d-4f42-e650-01ecd77fe003"
      },
      "source": [
        "# Compare Output\n",
        "\n",
        "print(\"-\"*15, \"%9s\" % \"SimpleRNN\", \"-\"*15, \"\\n\")\n",
        "print(predict_sentence(\"ROMEO:\\n\", 200, one_hot, model)) \n",
        "print(\"-\"*15, \"%9s\" % \"LSTM\", \"-\"*15, \"\\n\")\n",
        "print(predict_sentence(\"ROMEO:\\n\", 200, one_hot, model_lstm)) \n",
        "print(\"-\"*15, \"%9s\" % \"GRU\", \"-\"*15, \"\\n\")\n",
        "print(predict_sentence(\"ROMEO:\\n\", 200, one_hot, model_gru)) "
      ],
      "execution_count": 20,
      "outputs": [
        {
          "output_type": "stream",
          "text": [
            "--------------- SimpleRNN --------------- \n",
            "\n"
          ],
          "name": "stdout"
        },
        {
          "output_type": "error",
          "ename": "NameError",
          "evalue": "ignored",
          "traceback": [
            "\u001b[0;31m---------------------------------------------------------------------------\u001b[0m",
            "\u001b[0;31mNameError\u001b[0m                                 Traceback (most recent call last)",
            "\u001b[0;32m<ipython-input-20-fda1a0a7d194>\u001b[0m in \u001b[0;36m<module>\u001b[0;34m()\u001b[0m\n\u001b[1;32m      2\u001b[0m \u001b[0;34m\u001b[0m\u001b[0m\n\u001b[1;32m      3\u001b[0m \u001b[0mprint\u001b[0m\u001b[0;34m(\u001b[0m\u001b[0;34m\"-\"\u001b[0m\u001b[0;34m*\u001b[0m\u001b[0;36m15\u001b[0m\u001b[0;34m,\u001b[0m \u001b[0;34m\"%9s\"\u001b[0m \u001b[0;34m%\u001b[0m \u001b[0;34m\"SimpleRNN\"\u001b[0m\u001b[0;34m,\u001b[0m \u001b[0;34m\"-\"\u001b[0m\u001b[0;34m*\u001b[0m\u001b[0;36m15\u001b[0m\u001b[0;34m,\u001b[0m \u001b[0;34m\"\\n\"\u001b[0m\u001b[0;34m)\u001b[0m\u001b[0;34m\u001b[0m\u001b[0;34m\u001b[0m\u001b[0m\n\u001b[0;32m----> 4\u001b[0;31m \u001b[0mprint\u001b[0m\u001b[0;34m(\u001b[0m\u001b[0mpredict_sentence\u001b[0m\u001b[0;34m(\u001b[0m\u001b[0;34m\"ROMEO:\\n\"\u001b[0m\u001b[0;34m,\u001b[0m \u001b[0;36m200\u001b[0m\u001b[0;34m,\u001b[0m \u001b[0mone_hot\u001b[0m\u001b[0;34m,\u001b[0m \u001b[0mmodel\u001b[0m\u001b[0;34m)\u001b[0m\u001b[0;34m)\u001b[0m\u001b[0;34m\u001b[0m\u001b[0;34m\u001b[0m\u001b[0m\n\u001b[0m\u001b[1;32m      5\u001b[0m \u001b[0mprint\u001b[0m\u001b[0;34m(\u001b[0m\u001b[0;34m\"-\"\u001b[0m\u001b[0;34m*\u001b[0m\u001b[0;36m15\u001b[0m\u001b[0;34m,\u001b[0m \u001b[0;34m\"%9s\"\u001b[0m \u001b[0;34m%\u001b[0m \u001b[0;34m\"LSTM\"\u001b[0m\u001b[0;34m,\u001b[0m \u001b[0;34m\"-\"\u001b[0m\u001b[0;34m*\u001b[0m\u001b[0;36m15\u001b[0m\u001b[0;34m,\u001b[0m \u001b[0;34m\"\\n\"\u001b[0m\u001b[0;34m)\u001b[0m\u001b[0;34m\u001b[0m\u001b[0;34m\u001b[0m\u001b[0m\n\u001b[1;32m      6\u001b[0m \u001b[0mprint\u001b[0m\u001b[0;34m(\u001b[0m\u001b[0mpredict_sentence\u001b[0m\u001b[0;34m(\u001b[0m\u001b[0;34m\"ROMEO:\\n\"\u001b[0m\u001b[0;34m,\u001b[0m \u001b[0;36m200\u001b[0m\u001b[0;34m,\u001b[0m \u001b[0mone_hot\u001b[0m\u001b[0;34m,\u001b[0m \u001b[0mmodel_lstm\u001b[0m\u001b[0;34m)\u001b[0m\u001b[0;34m)\u001b[0m\u001b[0;34m\u001b[0m\u001b[0;34m\u001b[0m\u001b[0m\n",
            "\u001b[0;31mNameError\u001b[0m: name 'predict_sentence' is not defined"
          ]
        }
      ]
    },
    {
      "cell_type": "markdown",
      "metadata": {
        "id": "pMWgGgRZ_RnT"
      },
      "source": [
        "## 7.7 **Optional** Schriftsteller\n",
        "\n",
        "Mit den Erkenntnissen aus der Vorlesung, den vorherigen Übungsaufgaben und ein bisschen Python Erfahrung sind Sie nun in der Lage nicht nur einzele Buchstaben vorherzusagen, sondern könnten auch beliebig viele Zeichen generieren und dadurch ganze Bücher schreiben [lassen].\n",
        "\n",
        "Sie können für diesen Aufgabenteil den ursprünglichen Datensatz anpassen und beispielsweise die Coronaschutzverordnung, wissenschaftliche Artikel oder Meldungen aus Tageszeitungen verwenden.\n",
        "\n",
        "Gelingt es Ihnen den 8ten Band von Harry Potter zu erstellen?\n",
        "\n",
        "**Ihre Aufgaben**\n",
        "\n",
        "(1) Was müssten Sie ändern, um mithilfe des bisherigen Modells ein ganzes Buch erstellen zu lassen? Glauben Sie, dass das Ergebnis lesbar wäre?"
      ]
    },
    {
      "cell_type": "markdown",
      "metadata": {
        "id": "yduJYx0HiaMr"
      },
      "source": [
        "> <Antwort hier einfügen>\n",
        "\n",
        "> **Musterlösung:** \n",
        "- Mehr Trainingszeit\n",
        "- Mehr RNN Units, damit sich das Netz mehr merken kann\n",
        "- Ggf eingenes RNN erstellen, damit `model.predict` nicht nur ein Zeichen vorhersagen kann, sondern ganze Sätze. (Optimierung der Laufzeit.)"
      ]
    },
    {
      "cell_type": "markdown",
      "metadata": {
        "id": "Wyhz--mz_RnT"
      },
      "source": [
        "(2) Erstellen Sie ein neues Modell, welches zu einem gegebenen Text von wenigen Worten in der Lage ist, ein ganzes Buch vorherzusagen. Ihnen sind keine Grenzen gesetzt. Sie sind jetzt frei! 🧦 "
      ]
    },
    {
      "cell_type": "code",
      "metadata": {
        "id": "n2ZzbyYX_RnV"
      },
      "source": [
        "# custom generate sequence - reduces ram usage\n",
        "\n",
        "class MySequenceGenerator(tf.keras.utils.Sequence):\n",
        "  def __init__(self, coded_text, sequence_length, batch_size):\n",
        "    self.coded_text = coded_text\n",
        "    self.sequence_length = sequence_length\n",
        "    self.batch_size = batch_size\n",
        "\n",
        "  def __len__(self):\n",
        "    return self.batch_size\n",
        "\n",
        "  def __getitem__(self, idx):\n",
        "    seq_count = int((len(self.coded_text) - self.sequence_length) / self.batch_size)\n",
        "    sequences = np.empty((seq_count, self.sequence_length, self.coded_text.shape[1]))\n",
        "    for i in range(seq_count):\n",
        "      sequences[i] = self.coded_text[idx+(i*self.batch_size):idx+(i*self.batch_size)+self.sequence_length]\n",
        "\n",
        "    X = sequences[:, :-1]\n",
        "    y = sequences[:, 1:]  \n",
        "    return X, y\n",
        "\n",
        "gen = MySequenceGenerator(coded_text[:500_000], 100, 128)\n",
        "#for i in range(gen.__len__()):\n",
        "#    myX, myy = gen.__getitem__(i) \n",
        "#    print(\"idx\", i, \"XShape\", myX.shape, \"yShape\", myy.shape)\n",
        "myX, myy = gen.__getitem__(1)\n",
        "myX.shape[1:]"
      ],
      "execution_count": null,
      "outputs": []
    },
    {
      "cell_type": "code",
      "metadata": {
        "id": "4fiFktPV_RnV"
      },
      "source": [
        "literatur_model = tf.keras.Sequential(name=\"Literatur_model\")\n",
        "literatur_model.add(tf.keras.layers.LSTM(512, return_sequences=True, input_shape=myX.shape[1:], name=\"The_Brain\"))\n",
        "literatur_model.add(tf.keras.layers.Dense(vocab_size, activation='softmax', name=\"The_Hand\"))\n",
        "literatur_model.compile(loss='categorical_crossentropy', optimizer='adam', metrics=['accuracy'])\n",
        "literatur_model.summary()"
      ],
      "execution_count": null,
      "outputs": []
    },
    {
      "cell_type": "code",
      "metadata": {
        "id": "9QuI2o2c_RnV"
      },
      "source": [
        "t1 = time.time()\n",
        "hist_custom = literatur_model.fit(gen, epochs=EPOCHS)\n",
        "t2 = time.time()\n",
        "\n",
        "print(\"Training took:\", timedelta(seconds=t2-t1))"
      ],
      "execution_count": null,
      "outputs": []
    },
    {
      "cell_type": "code",
      "metadata": {
        "id": "JYhQtFyT_RnW"
      },
      "source": [
        "fig, ax = plt.subplots(1, 1)\n",
        "\n",
        "for n, h in [(\"simple rnn\", hist), (\"gru\", hist_gru), (\"custom\", hist_custom)]:\n",
        "\n",
        "    ax.plot(h.history[\"loss\"], label=f'{n} loss')\n",
        "    ax.plot(h.history[\"accuracy\"], label=f'{n} accuracy')\n",
        "    ax.plot(h.history[\"val_loss\"], label=f'{n} validation loss')\n",
        "    ax.plot(h.history[\"val_accuracy\"], label=f'{n} validation accuracy')\n",
        "\n",
        "ax.set_xlabel(\"Epoch\")\n",
        "ax.legend()\n",
        "\n",
        "fig.set_size_inches(20, 10)\n",
        "\n",
        "plt.show()"
      ],
      "execution_count": null,
      "outputs": []
    },
    {
      "cell_type": "code",
      "metadata": {
        "id": "QE7snkJg_RnW"
      },
      "source": [
        "def create_text(amount_symbols, init_text, text_model):    \n",
        "    # Tokenize text\n",
        "    ret = tokenize(init_text)\n",
        "    \n",
        "    states = None\n",
        "    current_char = one_hot.encode(ret, dtype=float)\n",
        "    # For some reason we have to add one dimension\n",
        "    current_char = current_char.reshape(1, *current_char.shape)\n",
        "    \n",
        "    for i in range(amount_symbols):\n",
        "        current_char, states = text_model(current_char, return_state = True, states = states)\n",
        "        # Only add last char if several got \n",
        "        ret.append(one_hot.decode(current_char[0])[-1])\n",
        "        \n",
        "    return untokenize(ret)\n",
        "    "
      ],
      "execution_count": null,
      "outputs": []
    },
    {
      "cell_type": "code",
      "metadata": {
        "id": "QWQ-b8AS_RnW"
      },
      "source": [
        "created_text = create_text(250, \"ROMEO:\\n\", literatur_model)\n",
        "\n",
        "print(created_text)\n",
        "\n",
        "\n",
        "print(\"-\"*15, \"%9s\" % \"CustomRNN\", \"-\"*15, \"\\n\")\n",
        "print(predict_sentence(\"ROMEO:\\n\", 200, one_hot, literatur_model)) "
      ],
      "execution_count": null,
      "outputs": []
    }
  ]
}