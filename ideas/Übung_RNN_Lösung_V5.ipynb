{
  "nbformat": 4,
  "nbformat_minor": 0,
  "metadata": {
    "colab": {
      "name": "Übung-RNN-Lösung.ipynb",
      "provenance": [],
      "toc_visible": true,
      "include_colab_link": true
    },
    "kernelspec": {
      "display_name": "Python 3",
      "language": "python",
      "name": "python3"
    },
    "language_info": {
      "codemirror_mode": {
        "name": "ipython",
        "version": 3
      },
      "file_extension": ".py",
      "mimetype": "text/x-python",
      "name": "python",
      "nbconvert_exporter": "python",
      "pygments_lexer": "ipython3",
      "version": "3.6.9"
    },
    "accelerator": "GPU",
    "widgets": {
      "application/vnd.jupyter.widget-state+json": {
        "2f6ada52c26e481f909cb6b66784c3b9": {
          "model_module": "@jupyter-widgets/controls",
          "model_name": "VBoxModel",
          "state": {
            "_view_name": "VBoxView",
            "_dom_classes": [
              "widget-interact"
            ],
            "_model_name": "VBoxModel",
            "_view_module": "@jupyter-widgets/controls",
            "_model_module_version": "1.5.0",
            "_view_count": null,
            "_view_module_version": "1.5.0",
            "box_style": "",
            "layout": "IPY_MODEL_7372a23633344c32a27d689039831c48",
            "_model_module": "@jupyter-widgets/controls",
            "children": [
              "IPY_MODEL_96b3f1df72e749cd8799da85380fe08e",
              "IPY_MODEL_b74a1f6ec1164771a8b120c90d5ab8f5"
            ]
          }
        },
        "7372a23633344c32a27d689039831c48": {
          "model_module": "@jupyter-widgets/base",
          "model_name": "LayoutModel",
          "state": {
            "_view_name": "LayoutView",
            "grid_template_rows": null,
            "right": null,
            "justify_content": null,
            "_view_module": "@jupyter-widgets/base",
            "overflow": null,
            "_model_module_version": "1.2.0",
            "_view_count": null,
            "flex_flow": null,
            "width": null,
            "min_width": null,
            "border": null,
            "align_items": null,
            "bottom": null,
            "_model_module": "@jupyter-widgets/base",
            "top": null,
            "grid_column": null,
            "overflow_y": null,
            "overflow_x": null,
            "grid_auto_flow": null,
            "grid_area": null,
            "grid_template_columns": null,
            "flex": null,
            "_model_name": "LayoutModel",
            "justify_items": null,
            "grid_row": null,
            "max_height": null,
            "align_content": null,
            "visibility": null,
            "align_self": null,
            "height": null,
            "min_height": null,
            "padding": null,
            "grid_auto_rows": null,
            "grid_gap": null,
            "max_width": null,
            "order": null,
            "_view_module_version": "1.2.0",
            "grid_template_areas": null,
            "object_position": null,
            "object_fit": null,
            "grid_auto_columns": null,
            "margin": null,
            "display": null,
            "left": null
          }
        },
        "96b3f1df72e749cd8799da85380fe08e": {
          "model_module": "@jupyter-widgets/controls",
          "model_name": "TextModel",
          "state": {
            "_view_name": "TextView",
            "style": "IPY_MODEL_1a45c07d6800453ab1355a93cf10472a",
            "_dom_classes": [],
            "description": "Your text:",
            "_model_name": "TextModel",
            "placeholder": "Type something",
            "_view_module": "@jupyter-widgets/controls",
            "_model_module_version": "1.5.0",
            "value": "Hello Worl",
            "_view_count": null,
            "disabled": false,
            "_view_module_version": "1.5.0",
            "continuous_update": true,
            "description_tooltip": null,
            "_model_module": "@jupyter-widgets/controls",
            "layout": "IPY_MODEL_9159c2c17932488f92c8405115b3d5e2"
          }
        },
        "b74a1f6ec1164771a8b120c90d5ab8f5": {
          "model_module": "@jupyter-widgets/output",
          "model_name": "OutputModel",
          "state": {
            "_view_name": "OutputView",
            "msg_id": "",
            "_dom_classes": [],
            "_model_name": "OutputModel",
            "outputs": [
              {
                "output_type": "stream",
                "metadata": {
                  "tags": []
                },
                "text": "I think the next will be \"A l wgauld\" after you said \"Hello Worl\"\n",
                "stream": "stdout"
              }
            ],
            "_view_module": "@jupyter-widgets/output",
            "_model_module_version": "1.0.0",
            "_view_count": null,
            "_view_module_version": "1.0.0",
            "layout": "IPY_MODEL_66e4d9e08f16417180a8f58b9c970b30",
            "_model_module": "@jupyter-widgets/output"
          }
        },
        "1a45c07d6800453ab1355a93cf10472a": {
          "model_module": "@jupyter-widgets/controls",
          "model_name": "DescriptionStyleModel",
          "state": {
            "_view_name": "StyleView",
            "_model_name": "DescriptionStyleModel",
            "description_width": "",
            "_view_module": "@jupyter-widgets/base",
            "_model_module_version": "1.5.0",
            "_view_count": null,
            "_view_module_version": "1.2.0",
            "_model_module": "@jupyter-widgets/controls"
          }
        },
        "9159c2c17932488f92c8405115b3d5e2": {
          "model_module": "@jupyter-widgets/base",
          "model_name": "LayoutModel",
          "state": {
            "_view_name": "LayoutView",
            "grid_template_rows": null,
            "right": null,
            "justify_content": null,
            "_view_module": "@jupyter-widgets/base",
            "overflow": null,
            "_model_module_version": "1.2.0",
            "_view_count": null,
            "flex_flow": null,
            "width": null,
            "min_width": null,
            "border": null,
            "align_items": null,
            "bottom": null,
            "_model_module": "@jupyter-widgets/base",
            "top": null,
            "grid_column": null,
            "overflow_y": null,
            "overflow_x": null,
            "grid_auto_flow": null,
            "grid_area": null,
            "grid_template_columns": null,
            "flex": null,
            "_model_name": "LayoutModel",
            "justify_items": null,
            "grid_row": null,
            "max_height": null,
            "align_content": null,
            "visibility": null,
            "align_self": null,
            "height": null,
            "min_height": null,
            "padding": null,
            "grid_auto_rows": null,
            "grid_gap": null,
            "max_width": null,
            "order": null,
            "_view_module_version": "1.2.0",
            "grid_template_areas": null,
            "object_position": null,
            "object_fit": null,
            "grid_auto_columns": null,
            "margin": null,
            "display": null,
            "left": null
          }
        },
        "66e4d9e08f16417180a8f58b9c970b30": {
          "model_module": "@jupyter-widgets/base",
          "model_name": "LayoutModel",
          "state": {
            "_view_name": "LayoutView",
            "grid_template_rows": null,
            "right": null,
            "justify_content": null,
            "_view_module": "@jupyter-widgets/base",
            "overflow": null,
            "_model_module_version": "1.2.0",
            "_view_count": null,
            "flex_flow": null,
            "width": null,
            "min_width": null,
            "border": null,
            "align_items": null,
            "bottom": null,
            "_model_module": "@jupyter-widgets/base",
            "top": null,
            "grid_column": null,
            "overflow_y": null,
            "overflow_x": null,
            "grid_auto_flow": null,
            "grid_area": null,
            "grid_template_columns": null,
            "flex": null,
            "_model_name": "LayoutModel",
            "justify_items": null,
            "grid_row": null,
            "max_height": null,
            "align_content": null,
            "visibility": null,
            "align_self": null,
            "height": null,
            "min_height": null,
            "padding": null,
            "grid_auto_rows": null,
            "grid_gap": null,
            "max_width": null,
            "order": null,
            "_view_module_version": "1.2.0",
            "grid_template_areas": null,
            "object_position": null,
            "object_fit": null,
            "grid_auto_columns": null,
            "margin": null,
            "display": null,
            "left": null
          }
        }
      }
    }
  },
  "cells": [
    {
      "cell_type": "markdown",
      "metadata": {
        "id": "view-in-github",
        "colab_type": "text"
      },
      "source": [
        "<a href=\"https://colab.research.google.com/github/fhac-ewi/recurrent-neural-network/blob/main/%C3%9Cbung_RNN_L%C3%B6sung_V5.ipynb\" target=\"_parent\"><img src=\"https://colab.research.google.com/assets/colab-badge.svg\" alt=\"Open In Colab\"/></a>"
      ]
    },
    {
      "cell_type": "markdown",
      "metadata": {
        "id": "yYD6gvw1vwii"
      },
      "source": [
        "# Übung 7 - Rekurrente neuronale Netze (RNNs)\n",
        "\n",
        "## In dieser Übung ...\n",
        "... beschäftigen wir uns mit rekurrenten neuronalen Netzen, die unter anderem für die Textvorhersage (`text prediction`) eingesetzt werden können. Sie werden ein eigenes Modell zur Vorhersage weiterer Buchstaben (Zeichen) zu einer gegebenen Buchstabensequenz erstellen.\n",
        "\n",
        "Dazu werden Sie die drei aus der Vorlesung bekannten Varianten von RNNs (Standard, LSTM und GRU) mit Keras implementieren und die Genauigkeit (Accuracy) der Netze miteinander vergleichen.\n"
      ]
    },
    {
      "cell_type": "markdown",
      "metadata": {
        "id": "9a_ZEFJfHuuF"
      },
      "source": [
        "## 7.0 Vorbereitung\n",
        "\n",
        "In diesem Abschnitt müssen Sie nichts programmieren! 🎉\n",
        "\n",
        "Wir haben bereits alle notwendigen Imports für diese Übung hinzugefügt, sodass Sie direkt starten können. Sie müssen lediglich die GPU Unterstützung in Google Colab aktivieren."
      ]
    },
    {
      "cell_type": "markdown",
      "metadata": {
        "id": "tc_GxdsyIDYP"
      },
      "source": [
        "**Ihre Aufgaben**\n",
        "\n",
        "(1) Aktivieren Sie bitte die GPU Unterstützung in Google Colab. Wechseln Sie unter dem Reiter `Laufzeit` -> `Laufzeittyp ändern` von `None` auf `GPU` und bestätigen Sie diese Änderung.\n",
        "\n",
        "(2) Führen Sie den folgenden Codezelle aus, um die erforderlichen Bibliotheken zu importieren und die GPU Unterstützung zu prüfen. \n",
        "\n",
        "  * Hinweis: Wenn Sie dieses Notebook mit dem Direktlink von GitHub geöffnet haben, wird bei der erstmaligen Ausführung eine Warnung angezeigt. Diese müssen Sie durch den Klick auf `Trotzdem ausführen` bestätigen. "
      ]
    },
    {
      "cell_type": "code",
      "metadata": {
        "colab": {
          "base_uri": "https://localhost:8080/"
        },
        "id": "I-cFD9IFItkB",
        "outputId": "5bcbb1ef-d430-49e3-b8be-a35cdf0593a3"
      },
      "source": [
        "# Import everything needed for this exercise \n",
        "import tensorflow as tf\n",
        "import keras\n",
        "import numpy as np\n",
        "import sys\n",
        "import matplotlib.pyplot as plt\n",
        "import time\n",
        "from sklearn.model_selection import train_test_split\n",
        "from datetime import datetime, timedelta\n",
        "from termcolor import colored\n",
        "import json\n",
        "import os\n",
        "import re\n",
        "\n",
        "print(f\"Keras Version: {keras.__version__}; Tensorflow version: {tf.__version__}; NumPy version: {np.__version__}; Python version: \", \".\".join(str(x) for x in sys.version_info[:3]))\n",
        "\n",
        "# Init TPU\n",
        "if 'COLAB_TPU_ADDR' in os.environ and len(os.environ['COLAB_TPU_ADDR']) > 0:\n",
        "    tf.keras.backend.clear_session()\n",
        "    resolver = tf.distribute.cluster_resolver.TPUClusterResolver(tpu='grpc://' + os.environ['COLAB_TPU_ADDR'])\n",
        "    tf.config.experimental_connect_to_cluster(resolver)\n",
        "    tf.tpu.experimental.initialize_tpu_system(resolver)\n",
        "\n",
        "# Reset random number generators\n",
        "seed = 1337\n",
        "np.random.seed(seed)\n",
        "tf.random.set_seed(seed)\n",
        "\n",
        "# Check GPU support\n",
        "print(\"\\n\", \"-\"*15, \"DEVICE SUPPORT\", \"-\"*15)\n",
        "from tensorflow.python.client import device_lib\n",
        "physical_devices = device_lib.list_local_devices()\n",
        "print(\"You are using\", len(physical_devices), \"physical devises.\", len([x for x in physical_devices if x.device_type == \"GPU\"]), \"are GPUs\")\n",
        "for i, d in enumerate(physical_devices):\n",
        "    print(\"  ->Physical Device\", i+1, \"is a\", d.device_type, \"=>\", d.physical_device_desc if len(d.physical_device_desc) > 0 else d.name)\n",
        "\n",
        "logical_devices = tf.config.list_logical_devices()\n",
        "print(\"You are using\", len(logical_devices), \"logical  devises.\", len([x for x in logical_devices if x.device_type == \"TPU\"]), \"are TPUs\")\n",
        "for i, d in enumerate(logical_devices):\n",
        "    print(\"  ->Logical  Device\", i+1, \"is a\", d.device_type, \"=>\", d.name)\n",
        "print(\"-\"*15, \"DEVICE SUPPORT\", \"-\"*15, \"\\n\")\n",
        "\n",
        "uses_gpu = not len([x for x in physical_devices if x.device_type == \"GPU\"]) == 0\n",
        "uses_tpu = not len([x for x in logical_devices if x.device_type == \"TPU\"]) == 0\n",
        "\n",
        "if uses_tpu:\n",
        "    strategy = tf.distribute.experimental.TPUStrategy(resolver)\n",
        "else:\n",
        "    strategy = None\n",
        "\n",
        "if not uses_gpu and not uses_tpu:\n",
        "    raise Exception(\"Please enable GPU or TPU support before using this notebook. See here: [Runtime] -> [Change runtime type]\")    \n",
        "\n",
        "print(\"🎉🎉🎉 You are ready to go! 🎉🎉🎉\")  "
      ],
      "execution_count": 1,
      "outputs": [
        {
          "output_type": "stream",
          "text": [
            "Keras Version: 2.4.3; Tensorflow version: 2.4.1; NumPy version: 1.19.5; Python version:  3.7.10\n",
            "\n",
            " --------------- DEVICE SUPPORT ---------------\n",
            "You are using 2 physical devises. 1 are GPUs\n",
            "  ->Physical Device 1 is a CPU => /device:CPU:0\n",
            "  ->Physical Device 2 is a GPU => device: 0, name: Tesla T4, pci bus id: 0000:00:04.0, compute capability: 7.5\n",
            "You are using 2 logical  devises. 0 are TPUs\n",
            "  ->Logical  Device 1 is a CPU => /device:CPU:0\n",
            "  ->Logical  Device 2 is a GPU => /device:GPU:0\n",
            "--------------- DEVICE SUPPORT --------------- \n",
            "\n",
            "🎉🎉🎉 You are ready to go! 🎉🎉🎉\n"
          ],
          "name": "stdout"
        }
      ]
    },
    {
      "cell_type": "markdown",
      "metadata": {
        "id": "a1CXeYPHyywV"
      },
      "source": [
        "## 7.1 One Hot Kodierung\n",
        "\n",
        "Wir haben in der Vorlesung die One Hot Kodierung (1-aus-n-Code) kennen gelernt. Diese ermöglicht es Zeichen eines Alphabets als Vektoren darzustellen. \n",
        "\n",
        "Für ein Alphabet mit `n` einzigartigen Zeichen wird ein Vektor der Länge `n` benötigt. Jedes einzigartige Zeichen wird hierbei als Einheitsvektor definiert. Eine Zeichensequenz mit `m` Zeichen werden als `m` Vektoren mit jeweils der Länge `n` dargestellt.  \n",
        "\n",
        "**Hinweis** Die vorliegende Implementierung ist für den Umgang mit Zeichen außerhalb des Alphabets konzipiert. Deshalb wird zur Darstellung eines Alphabets mit `n` einzigartigen Zeichen ein Vektor der Länge `n+1` erstellt. Alle Zeichen außerhalb des Alphabets werden durch das `unknown_token` ersetzt. \n",
        "\n",
        "Für das Training unseres Netzes werden wir die One Hot Kodierung zur Umwandlung eines Textes in Trainingsdaten nutzen. (Aufgabe 7.2)\n",
        "\n",
        "* Hinweis: Für weitere Informationen zur One Hot Kodierun schlagen Sie diese in der Vorlesung nach oder benutzen Sie das [Internet](https://de.wikipedia.org/wiki/1-aus-n-Code)."
      ]
    },
    {
      "cell_type": "code",
      "metadata": {
        "id": "miApcJctvteM"
      },
      "source": [
        "class OneHot(object):\n",
        "    def __init__(self, tokens, unknown_token = \"[UNKNOWN]\"):\n",
        "        '''\n",
        "        tokens: The tokens you want to be able to encode and decode\n",
        "        unknown_token: The token to be used when decoding and the net wants to use a not known char\n",
        "        '''\n",
        "        self.tokens = tokens\n",
        "        self.unknown_token = unknown_token\n",
        "        # Store a bidirectional dictionary containing the characters\n",
        "        self.char_to_index = dict((token, i + 1) for i, token in enumerate(self.tokens))\n",
        "        self.index_to_char = dict((i + 1, token) for i, token in enumerate(self.tokens))\n",
        "        pass\n",
        "\n",
        "    def encode(self, text_as_tokens, dtype=np.bool_):\n",
        "        '''\n",
        "        text_as_tokens: List of tokens\n",
        "        '''\n",
        "        # Create the encoding matrix\n",
        "        enc = np.empty((len(text_as_tokens), len(self.tokens) + 1), dtype=dtype)\n",
        "        for i, token in enumerate(text_as_tokens):\n",
        "            # Encode every char\n",
        "            enc[i] = self.encode_token(token=token, l=len(self.tokens) + 1, dtype=dtype)\n",
        "        return enc\n",
        "    \n",
        "    def encode_token(self, token, l, dtype=np.bool_):\n",
        "        '''\n",
        "        token: Single token\n",
        "        l: length of array to be returned. At position zero it is stored if the char is unknown\n",
        "        '''\n",
        "        ret = np.zeros((1, l), dtype=dtype)\n",
        "        if token not in self.char_to_index:\n",
        "            ret[0, 0] = 1\n",
        "        else:\n",
        "            ret[0, self.char_to_index[token]] = 1\n",
        "        return ret\n",
        "    \n",
        "    def decode(self, mat, unknown_token=None):         \n",
        "        '''\n",
        "        mat: matrix to be decoded. Has to be of shape (len_of_text, vocab_size)\n",
        "        unknown_token: Unknown token. If none uses the one from __init__\n",
        "        '''\n",
        "        return [self.decode_token(mat[x]) for x in range(mat.shape[0])]\n",
        "    \n",
        "    def decode_token(self, vec, unknown_token=None):\n",
        "        '''\n",
        "        vec: Vector that should be decoded. Has to be on vocab length\n",
        "        unknown_token: Unknown token. If none uses the one from __init__\n",
        "        '''\n",
        "        if unknown_token is None:\n",
        "            unknown_token = self.unknown_token\n",
        "        if isinstance(vec, tf.Tensor):\n",
        "            vec = vec.numpy()\n",
        "        if isinstance(vec, np.ndarray):\n",
        "            # Use argmax since this will be used in the model created later\n",
        "            am = np.argmax(vec)\n",
        "        else:\n",
        "            am = vec\n",
        "        if am == 0:\n",
        "            return unknown_token\n",
        "        return self.index_to_char[am]"
      ],
      "execution_count": 2,
      "outputs": []
    },
    {
      "cell_type": "markdown",
      "metadata": {
        "id": "I9nyVSBS_RnK"
      },
      "source": [
        "**Ihre Aufgaben**\n",
        "\n",
        "(1) Untersuchen Sie gegebene Klasse zur One Hot Kodierung und die Funktion der einzelnen Methoden. \n",
        "\n",
        "(2) Erstellen Sie für das folgendes Alphabet `HWedlor` eine Instanz der Klasse `OneHot`. \n",
        "\n",
        "(3) Kodieren Sie nun die Zeichenfolge `Hello World!` mit der One Hot Kodierung. Wie wird das Zeichen `H` dargestellt? Geben Sie die Dimensionen des Vektors an.\n",
        "\n",
        "* Hinweis: Sie können zur Umwandlung des Strings in eine Liste von Zeichen die Funktion `tokenize` verwenden. Dies ist aber nicht zwingend erforderlich, da Python den String automatisch als Liste interpretieren kann."
      ]
    },
    {
      "cell_type": "markdown",
      "metadata": {
        "id": "HXopuHLJadWN"
      },
      "source": [
        "> <Antwort hier einfügen>\n",
        "\n",
        "> **Musterlösung:** Das Zeichen `H` wird als Vektor `[0 1 0 0 0 0 0 0]` \n",
        "dargestellt. Die Dimension ist `1x8`."
      ]
    },
    {
      "cell_type": "markdown",
      "metadata": {
        "id": "9jCputAba8UN"
      },
      "source": [
        "(4) Wandeln Sie die kodierte Zeichenfolge zurück in einen für Menschen lesbaren Text. Entspricht der zurückgewandelte Text dem ursprünglichen Input? Falls nicht, beschreiben Sie die Ursache.\n",
        "\n",
        "* Hinweis: Für eine schönere Ausgabe kann der enkodierte Text mit der Funktion `untokenize` in einen String gewandelt werden."
      ]
    },
    {
      "cell_type": "markdown",
      "metadata": {
        "id": "hPiAwayxbi16"
      },
      "source": [
        "> <Antwort hier einfügen>\n",
        "\n",
        "> **Musterlösung:** Der ursprüngliche Text und der kodierte und dekodierte Text ist nicht mehr identisch, da zwei Zeichen (Leerzeichen, Ausrufezeichen) nicht im Alphabet vorhanden sind. Durch Hinzufügen dieser Zeichen ins Alphabet würde man den ursprünglichen Text erhalten."
      ]
    },
    {
      "cell_type": "code",
      "metadata": {
        "colab": {
          "base_uri": "https://localhost:8080/"
        },
        "id": "QjFH6Rbeab4P",
        "outputId": "290f1c99-d716-4671-992f-0a9455e518d1"
      },
      "source": [
        "def tokenize(text):\n",
        "    \"\"\"\n",
        "    Converts the given text (string) in a list chars.\n",
        "    \"\"\"\n",
        "    # n = 2\n",
        "    return list(text) # text.split() # [text[i:i+n] for i in range(0, len(text)-n, n)] # re.split('([^a-zA-Z0-9])', text) # list(text)\n",
        "\n",
        "def untokenize(tokens):\n",
        "    \"\"\"\n",
        "    Converts the given tokens (list of chars) in a string.\n",
        "    \"\"\"\n",
        "    return \"\".join(tokens)\n",
        "\n",
        "tokens = 'HWedlor'\n",
        "\n",
        "# code here\n",
        "one_hot = OneHot(tokens=tokens)\n",
        "\n",
        "text='Hello World!'\n",
        "\n",
        "coded_text = one_hot.encode(text)\n",
        "print(\"Shape of coded text: \", coded_text.shape)\n",
        "print(\"H coded (first letter in coded text): \", coded_text[0].astype(int))\n",
        "\n",
        "encoded_text = one_hot.decode(coded_text)\n",
        "\n",
        "print(untokenize(encoded_text))"
      ],
      "execution_count": 3,
      "outputs": [
        {
          "output_type": "stream",
          "text": [
            "Shape of coded text:  (12, 8)\n",
            "H coded (first letter in coded text):  [0 1 0 0 0 0 0 0]\n",
            "Hello[UNKNOWN]World[UNKNOWN]\n"
          ],
          "name": "stdout"
        }
      ]
    },
    {
      "cell_type": "markdown",
      "metadata": {
        "id": "WglUJhhgyWSs"
      },
      "source": [
        "## 7.2 Datensatz vorbereiten\n",
        "\n",
        "In dieser Übung verwenden wir das Buch Shakespeare TODO als Datensatz zum Training und Test unserer Modelle. Ziel der Modelle ist die Vorhersage weiterer Zeichen zu einer gegebenen Zeichensequenz.\n",
        "\n",
        "In diesem Aufgabenteil werden die Daten eingelesen, mithilfe der One Hot Kodierung umgewandelt und anschließend in Trainingsdaten und Validierungsdaten aufgeteilt.\n",
        "\n",
        "* Hinweis: Sie können theoretisch jeden beliebigen Text als Datensatz für das Training des Modells verwenden. (z.B. Harry Potter Bücher, Coronaschutzverordnungen, Nachrichtenartikel, ...)\n",
        "\n",
        "**Ihre Aufgaben**\n",
        "\n",
        "(1) Führen Sie die folgende Codezelle aus, um das Buch Shakespeare TODO einzulesen. Untersuchen Sie den Datensatz, indem Sie einen kurzen Auszug des Textes ausgeben.\n",
        "\n",
        "(2) Erstellen Sie aus dem Text das Alphabet (`tokens`) und geben die Länge aus. Das Alphabet soll alle Zeichen des Textes enthalten.\n",
        "\n",
        "* Hinweis: Sie können den `text` mit der Funktion `tokenize` in eine Liste umwandeln. Dieser kann dann zu einem [Set](https://docs.python.org/3/tutorial/datastructures.html#sets) gewandelt werden.\n",
        "\n",
        "(3) Erstellen Sie für das Alphabet eine One Hot Kodierung und wenden diese auf den `text` an. Nutzen Sie dazu Ihre die Erkentnisse aus Aufgabe 7.1.\n",
        "\n",
        "(4) Teilen Sie den kodierten Text in Sequenzen auf. Wie würden Sie die Länge der einzelnen Sequenzen wählen? \n",
        "Verwenden Sie dazu die Funktion vorgegebene Funktion `sequenze_split`.\n",
        "\n",
        "* Erklärung: Wieso wird der Text in Sequenzen gesplittet?\n",
        "</br>TODO Wieso machen wir das?\n",
        "\n",
        "* Hinweis: Die Sequenzen sollten lang genug sein, dass das RNN Zusammenhänge in einem Satz (und ggf. darüber hinaus) erlenen kann. Die Sequenzlänge sollte kurz genug sein, damit eine ausreichende Anzahl für das Training vorhanden ist.\n",
        "\n",
        "TODO RIOT Hinweis mit unserer Sequenzlänge.\n",
        "\n",
        "(5) Erstellen Sie nun aus den sequenzierten Daten das Feature `X` und das Label `y`. Für die Vorhersage von einzelnen Zeichen ist jeweils das nächste Zeichen das Label des vorherigen Zeichens. Das Label `y` wird deshalb aus den gleichen Werte des Features `X` gebildet, ist jedoch um +1 verschoben. \n",
        "\n",
        "\n",
        "* Beispiel: Die Sequenz `Hello World!` kann in **X** `Hello World` mit dem zugehörigen Label **y** `ello World!` aufgeteilt werden.\n",
        "* Hinweis: Untersuchen Sie die Rückgabe der Funktion `sequenze_split`. In welcher der drei Komponenten müssen Sie die Verschiebung vornehmen.\n",
        "\n",
        "(6) Konvertieren Sie nun die Daten in ein Trainings- und Validierungsset. Nutzen Sie dafür die Funktion `train_test_split` (Eine Dokumentation finden Sie [hier](https://scikit-learn.org/stable/modules/generated/sklearn.model_selection.train_test_split.html)). "
      ]
    },
    {
      "cell_type": "code",
      "metadata": {
        "id": "LN0KsVCb_Rm-",
        "colab": {
          "base_uri": "https://localhost:8080/"
        },
        "outputId": "02068e14-bd90-4ace-ac22-b6d0b4cf2dac"
      },
      "source": [
        "# maximum text length \n",
        "# 1. Protection against \"OutOfMemory\" (poor RAM 😥)\n",
        "# 2. Adjustment for making training faster (but you will gain less accuracy)\n",
        "MAX_TEXT_LEN = 1_000_000 \n",
        "\n",
        "# path_to_file = tf.keras.utils.get_file('words.txt', 'https://raw.githubusercontent.com/dwyl/english-words/master/words.txt')\n",
        "# path_to_file = tf.keras.utils.get_file('german_words_short.txt', 'https://raw.githubusercontent.com/CodeBrauer/1000-most-common-words/master/1000-most-common-german-words.txt')\n",
        "# path_to_file = tf.keras.utils.get_file('erman_words_long.txt', 'https://raw.githubusercontent.com/Haspaker/anagram.tips/master/words/de/dict/german.wordlist.txt')\n",
        "path_to_file = tf.keras.utils.get_file('shakespeare.txt', 'https://storage.googleapis.com/download.tensorflow.org/data/shakespeare.txt')\n",
        "# TODO path_to_file = tf.keras.utils.get_file('german_news.txt', 'https://raw.githubusercontent.com/tblock/10kGNAD/master/articles.csv') # Taken from https://github.com/tblock/10kGNAD\n",
        "\n",
        "# path_to_file = tf.keras.utils.get_file('nietzsche.txt', 'https://s3.amazonaws.com/text-datasets/nietzsche.txt')\n",
        "#path_to_file = tf.keras.utils.get_file('jokes_stupidstuff.json', 'https://raw.githubusercontent.com/taivop/joke-dataset/master/stupidstuff.json')\n",
        "\n",
        "# jokes = [f\"{joke['category'].strip()}: {joke['body'].strip()}\" for joke in json.load(open(path_to_file)) if len(joke['category'].strip()) > 0 and len(joke['body'].strip())]\n",
        "\n",
        "text = open(path_to_file, 'rb').read().decode(encoding='utf-8')\n",
        "#text = text.lower()\n",
        "print(f'Length of text: {len(text)} characters')\n",
        "\n",
        "if len(text) > MAX_TEXT_LEN:\n",
        "    print(\"Text is too long. Cutting it to\", MAX_TEXT_LEN, f\"characters. That is {100 * MAX_TEXT_LEN / len(text):6.2f} %\")\n",
        "    text = text[:MAX_TEXT_LEN]\n",
        "\n",
        "# helper function for 7.2.4\n",
        "def sequenze_split(coded_text, sequence_len):\n",
        "    \"\"\"\n",
        "    Splits a given coded text (text converted with OneHot) into multiple subsequenzes\n",
        "    \"\"\"\n",
        "    target_shape = (int(coded_text.shape[0] / (sequence_len + 1)) , (sequence_len + 1) , coded_text.shape[1])\n",
        "    coded_text_seq = np.empty(target_shape, dtype=coded_text.dtype)\n",
        "    for s in range(coded_text_seq.shape[0]):\n",
        "        coded_text_seq[s] = coded_text[s * (sequence_len + 1):(s + 1) * (sequence_len + 1)]\n",
        "\n",
        "    # returns 3D matrix (sequences, letters per sequence, letter as one hot coded vector)    \n",
        "    return coded_text_seq    \n",
        "\n",
        "# code here   \n",
        "# Aufgabe 7.2.1 \n",
        "print(\"Segment of text:\")\n",
        "print(\"-\" * 60)\n",
        "print(colored(text[:250], 'blue')) \n",
        "print(\"-\" * 60)\n",
        "\n",
        "# Aufgabe 7.2.2 - Alphabet erstellen\n",
        "tokenized_text = tokenize(text)\n",
        "tokens = sorted(set(tokenized_text))\n",
        "print(\"Length of tokenized_text:\", len(tokenized_text))\n",
        "print(\"Numbers of tokens (unique letters): \", len(tokens))\n",
        "\n",
        "\n",
        "# Aufgabe 7.2.3 - One Hot\n",
        "one_hot = OneHot(tokens=tokens)\n",
        "coded_text = one_hot.encode(tokenized_text)\n",
        "print(\"Shape of coded text: \", coded_text.shape)\n",
        "\n",
        "\n",
        "# Aufgabe 7.2.4 - Aufteilung in Sequenzen\n",
        "sequence_len = 100\n",
        "coded_text_seq = sequenze_split(coded_text, sequence_len)\n",
        "print(\"Shape of coded text split into sequences\", coded_text_seq.shape)\n",
        "\n",
        "# Aufgabe 7.2.5\n",
        "X = coded_text_seq[:, :-1]\n",
        "y = coded_text_seq[:, 1:]\n",
        "\n",
        "# Aufgabe 7.2.6\n",
        "validation_size = 1/8\n",
        "#validation_size = 0\n",
        "\n",
        "print(\"-\" * 40)\n",
        "print(colored(untokenize(one_hot.decode(X[0])), 'blue'))\n",
        "print(\"-\" * 40)\n",
        "print(colored(untokenize(one_hot.decode(y[0])), 'green'))\n",
        "print(\"-\" * 40)   \n",
        "\n",
        "X_train, X_val, y_train, y_val = train_test_split(X, y, test_size=validation_size)\n",
        "\n",
        "\n",
        "print(\"X_train:\", (len(X_train), *X_train[0].shape), X_train[0].dtype)\n",
        "print(\"y_train:\", (len(y_train), *y_train[0].shape), y_train[0].dtype)\n",
        "print(\"X_val  :\", (len(X_val), *X_val[0].shape), X_val[0].dtype)\n",
        "print(\"y_val  :\", (len(y_val), *y_val[0].shape), y_val[0].dtype)\n",
        "\n",
        "print(\"-\" * 40)\n",
        "print(colored(untokenize(one_hot.decode(X_train[0])), 'blue'))\n",
        "print(\"-\" * 40)\n",
        "print(colored(untokenize(one_hot.decode(y_train[0])), 'green'))\n",
        "print(\"-\" * 40)    \n"
      ],
      "execution_count": 4,
      "outputs": [
        {
          "output_type": "stream",
          "text": [
            "Length of text: 1115394 characters\n",
            "Text is too long. Cutting it to 1000000 characters. That is  89.65 %\n",
            "Segment of text:\n",
            "------------------------------------------------------------\n",
            "\u001b[34mFirst Citizen:\n",
            "Before we proceed any further, hear me speak.\n",
            "\n",
            "All:\n",
            "Speak, speak.\n",
            "\n",
            "First Citizen:\n",
            "You are all resolved rather to die than to famish?\n",
            "\n",
            "All:\n",
            "Resolved. resolved.\n",
            "\n",
            "First Citizen:\n",
            "First, you know Caius Marcius is chief enemy to the people.\n",
            "\u001b[0m\n",
            "------------------------------------------------------------\n",
            "Length of tokenized_text: 1000000\n",
            "Numbers of tokens (unique letters):  65\n",
            "Shape of coded text:  (1000000, 66)\n",
            "Shape of coded text split into sequences (9900, 101, 66)\n",
            "----------------------------------------\n",
            "\u001b[34mFirst Citizen:\n",
            "Before we proceed any further, hear me speak.\n",
            "\n",
            "All:\n",
            "Speak, speak.\n",
            "\n",
            "First Citizen:\n",
            "You\u001b[0m\n",
            "----------------------------------------\n",
            "\u001b[32mirst Citizen:\n",
            "Before we proceed any further, hear me speak.\n",
            "\n",
            "All:\n",
            "Speak, speak.\n",
            "\n",
            "First Citizen:\n",
            "You \u001b[0m\n",
            "----------------------------------------\n",
            "X_train: (8662, 100, 66) bool\n",
            "y_train: (8662, 100, 66) bool\n",
            "X_val  : (1238, 100, 66) bool\n",
            "y_val  : (1238, 100, 66) bool\n",
            "----------------------------------------\n",
            "\u001b[34ml is friend to him and Margaret:\n",
            "But if your title to the crown be weak,\n",
            "As may appear by Edward's g\u001b[0m\n",
            "----------------------------------------\n",
            "\u001b[32m is friend to him and Margaret:\n",
            "But if your title to the crown be weak,\n",
            "As may appear by Edward's go\u001b[0m\n",
            "----------------------------------------\n"
          ],
          "name": "stdout"
        }
      ]
    },
    {
      "cell_type": "markdown",
      "metadata": {
        "id": "PDvkDpWsysjl"
      },
      "source": [
        "🎉🎉🎉 **Geschafft!** 🎉🎉🎉\n",
        "\n",
        "Sie haben nun aus einem Buch Trainingsdaten für ein RNN zur Vorhersage von Zeichen erstellt! \n",
        "- Text einlesen\n",
        "- Text in Tokens umwandeln\n",
        "- Alphabet festlegen\n",
        "- One Hot Kodierung erstellen und anwenden\n",
        "- In Sequenzen aufteilen\n",
        "- `X` und `y` festlegen\n",
        "- Aufteilung in Training und Validierungsset\n",
        "\n",
        "... jetzt können Sie mit dem eigentlichen Modell fortfahren."
      ]
    },
    {
      "cell_type": "markdown",
      "metadata": {
        "id": "tOMFCH7V_RnM"
      },
      "source": [
        "## 7.3 RNN Modell erstellen\n",
        "\n",
        "In dieser Übung wird nun das rekurrente neuronale Netz zur Vorhersage von Buchstaben zu einer gegebenen Sequenz erstellt. Das Training wird in der nächsten Aufgabenteil durchgeführt.\n",
        "\n",
        "In diesem Aufgabenteil wird ein Simple RNN (auch Vanilla bezeichnet) trainiert.\n",
        "\n",
        "Sie verwenden dazu ein *SimpleRNN* (Link) \n",
        "\n",
        "Hier erstellen wir das eigentliche RNN. Hierfür nutzen wir ein Sequential Model von Keras mit einem RNN und einem Dense Layer mit Softmax zum erstellen der Ausgabe.\n",
        "\n",
        "**Ihre Aufgaben**\n",
        "\n",
        "(1) Bestimmen Sie nun die Parameter, die für das Modell benötigt werden.\n",
        "- Shape der Eingabe/des Trainingdatensatzes. (Anzahl Zeichen, Länge eines vektorisierten Zeichens)\n",
        "- Länge des Alphabets (inklusive des `unknown_tokens`). Also die Anzahl der Tokens, die das Modell vorhersagen können soll.\n",
        "  \n",
        "\n",
        "(2) Erstellen Sie das entsprechende [Sequential](https://keras.io/api/models/sequential/) Modell und fügen folgende Schichten hinzu:\n",
        "- [SimpleRNN](https://keras.io/api/layers/recurrent_layers/simple_rnn/) mit 1024 Units als Output Space (= Größe des Hidden State), dem Parameter `return_sequences=true` und der Shape der Eingabe. \n",
        "- [Dense](https://keras.io/api/layers/core_layers/dense/) mit der Anzahl der Tokens und der Aktivierungsfunktion `softmax`.\n",
        "\n",
        "Kompilieren Sie anschließend das Modell mit der `categorical_crossentropy` Loss Function, dem `Adam` Optimizer und fügen als Metrics die `accuracy` hinzu."
      ]
    },
    {
      "cell_type": "code",
      "metadata": {
        "id": "z0Uh7RmR_RnN",
        "colab": {
          "base_uri": "https://localhost:8080/"
        },
        "outputId": "d03a2953-b273-4c97-9262-ad747f4777ec"
      },
      "source": [
        "# code here\n",
        "# Aufgabe 7.3.1\n",
        "# Length of the vocabulary in chars\n",
        "vocab_size = X_train[0].shape[-1]\n",
        "print(\"Vocabulary size: \", vocab_size, \"Vocab size correct:\", vocab_size == len(tokens) + 1)\n",
        "#This should be one greater than amount of unique tokens because we have one additional token for unknown <-----------------------------------------------------------------------------------------------------\n",
        "\n",
        "# The input shape\n",
        "input_shape = X_train[0].shape\n",
        "input_shape = (None, vocab_size)\n",
        "print(\"Input shape: \", input_shape)\n",
        "\n",
        "# Number of RNN units\n",
        "rnn_units = 128 # 1024\n",
        "\n",
        "# Aufgabe 7.3.2 - SimpleRNN\n",
        "with strategy.scope() if strategy is not None else open(\"/dev/null\"):\n",
        "    model = tf.keras.Sequential(name=\"SimpleRNN_Model\")\n",
        "    # model.add(tf.keras.layers.Dense(256, name=\"The_Bouncer\"))\n",
        "    model.add(tf.keras.layers.SimpleRNN(rnn_units, return_sequences=True, name=\"The_Brain\"))\n",
        "    model.add(tf.keras.layers.Dense(vocab_size, activation='softmax', name=\"The_Hand\"))\n",
        "\n",
        "    model.build(input_shape=(None, *input_shape))\n",
        "    optimizer = tf.keras.optimizers.RMSprop(learning_rate=0.005)\n",
        "    model.compile(loss='categorical_crossentropy', optimizer=optimizer, metrics=['accuracy'])\n",
        "\n",
        "model.summary()\n",
        "\n",
        "# Zusatz\n",
        "input_example = one_hot.encode('friend to him and Margaret:')\n",
        "example_batch_predictions = model.predict(input_example.reshape((1, *input_example.shape)))\n",
        "print(input_example.shape, y_train[0].shape, example_batch_predictions.shape)\n",
        "\n",
        "print(\"Test sequence:\", \"\\n\", \"-\" * 40, \"\\n\", colored(untokenize(one_hot.decode(X_train[0])), 'blue'), \"\\n\", \"-\"*40)\n",
        "print(\"Untrained prediction:\", \"\\n\", \"-\" * 40, \"\\n\", colored(untokenize(one_hot.decode(example_batch_predictions[0])), 'red'), \"\\n\", \"-\"*40)"
      ],
      "execution_count": 5,
      "outputs": [
        {
          "output_type": "stream",
          "text": [
            "Vocabulary size:  66 Vocab size correct: True\n",
            "Input shape:  (None, 66)\n",
            "Model: \"SimpleRNN_Model\"\n",
            "_________________________________________________________________\n",
            "Layer (type)                 Output Shape              Param #   \n",
            "=================================================================\n",
            "The_Brain (SimpleRNN)        (None, None, 128)         24960     \n",
            "_________________________________________________________________\n",
            "The_Hand (Dense)             (None, None, 66)          8514      \n",
            "=================================================================\n",
            "Total params: 33,474\n",
            "Trainable params: 33,474\n",
            "Non-trainable params: 0\n",
            "_________________________________________________________________\n",
            "(15, 66) (100, 66) (1, 15, 66)\n",
            "Test sequence: \n",
            " ---------------------------------------- \n",
            " \u001b[34ml is friend to him and Margaret:\n",
            "But if your title to the crown be weak,\n",
            "As may appear by Edward's g\u001b[0m \n",
            " ----------------------------------------\n",
            "Untrained prediction: \n",
            " ---------------------------------------- \n",
            " \u001b[31mPlB$Xvg!q?y!ZCo\u001b[0m \n",
            " ----------------------------------------\n"
          ],
          "name": "stdout"
        }
      ]
    },
    {
      "cell_type": "markdown",
      "metadata": {
        "id": "axndj50eyWrw"
      },
      "source": [
        "## 7.4 RNN Modell trainieren\n",
        "\n",
        "\n",
        "TODO \n",
        "Nun gehts ans trainieren. Nutzen Sie für den Anfang eine kleine Anzahl an epochen um herauszufinden wie viele Sie in einer ertragbaren Zeit machen können. Sollten Sie auf google Colab arbeiten könnte 10 oder 20 hier ein guter Startwert sein\n",
        "\n",
        "**Ihre Aufgaben**\n",
        "\n",
        "(1) Nutze die Fit methode deines models um es auf den ertellten Trainingsdaten zu trainieren. Wenn Sie validierungsdaten erzeugt haben können Sie diese bei validation_data angeben. Um die Trainingszeit kurz zu halten kann es auch Sinn ergeben hier eine batch_size anzugeben\n",
        "\n",
        "* Hinweis: Eine val_accuracy von circa 40% nach 10 Epochen oder von 50% nach 20 Epochen ist für dieses Modell natürlich noch lange nicht gut, aber ganz passabel. Erwarten Sie bitte nicht zu viel. Sie können jeder Zeit ein weiteres mal fit auf dem Model aufrufen um es weiter trainieren zu können."
      ]
    },
    {
      "cell_type": "code",
      "metadata": {
        "id": "Q_SVsygGOYVa"
      },
      "source": [
        "EPOCHS = 20\n",
        "BATCH_SIZE = 64"
      ],
      "execution_count": 6,
      "outputs": []
    },
    {
      "cell_type": "code",
      "metadata": {
        "id": "jBZ_YOJu9fyb"
      },
      "source": [
        "def create_dataset_from_data(X, y, batch_size=BATCH_SIZE):\n",
        "    return tf.data.Dataset.from_tensor_slices((X, y)).batch(batch_size, drop_remainder=True)\n",
        "\n",
        "ds_train = create_dataset_from_data(X_train, y_train)\n",
        "ds_val = create_dataset_from_data(X_val, y_val)"
      ],
      "execution_count": 7,
      "outputs": []
    },
    {
      "cell_type": "code",
      "metadata": {
        "id": "iGpNzqcuyW5-",
        "colab": {
          "base_uri": "https://localhost:8080/"
        },
        "outputId": "37086180-721e-4f15-d8df-fc163382ad55"
      },
      "source": [
        "t1 = time.time()\n",
        "hist = model.fit(ds_train,\n",
        "                 epochs=EPOCHS,\n",
        "                 validation_data=ds_val\n",
        "                 )\n",
        "t2 = time.time()\n",
        "\n",
        "print(\"Training took: \", timedelta(seconds=t2-t1))"
      ],
      "execution_count": 8,
      "outputs": [
        {
          "output_type": "stream",
          "text": [
            "Epoch 1/20\n",
            "135/135 [==============================] - 7s 47ms/step - loss: 3.0583 - accuracy: 0.2140 - val_loss: 2.2350 - val_accuracy: 0.3674\n",
            "Epoch 2/20\n",
            "135/135 [==============================] - 6s 42ms/step - loss: 2.1935 - accuracy: 0.3711 - val_loss: 2.0889 - val_accuracy: 0.3956\n",
            "Epoch 3/20\n",
            "135/135 [==============================] - 6s 43ms/step - loss: 2.0392 - accuracy: 0.4089 - val_loss: 1.9552 - val_accuracy: 0.4324\n",
            "Epoch 4/20\n",
            "135/135 [==============================] - 6s 43ms/step - loss: 1.9328 - accuracy: 0.4363 - val_loss: 1.8902 - val_accuracy: 0.4492\n",
            "Epoch 5/20\n",
            "135/135 [==============================] - 6s 43ms/step - loss: 1.8603 - accuracy: 0.4561 - val_loss: 1.8342 - val_accuracy: 0.4649\n",
            "Epoch 6/20\n",
            "135/135 [==============================] - 6s 43ms/step - loss: 1.8102 - accuracy: 0.4689 - val_loss: 1.8167 - val_accuracy: 0.4687\n",
            "Epoch 7/20\n",
            "135/135 [==============================] - 6s 44ms/step - loss: 1.7748 - accuracy: 0.4776 - val_loss: 1.7728 - val_accuracy: 0.4775\n",
            "Epoch 8/20\n",
            "135/135 [==============================] - 6s 43ms/step - loss: 1.7477 - accuracy: 0.4846 - val_loss: 1.7535 - val_accuracy: 0.4842\n",
            "Epoch 9/20\n",
            "135/135 [==============================] - 6s 42ms/step - loss: 1.7247 - accuracy: 0.4905 - val_loss: 1.7369 - val_accuracy: 0.4889\n",
            "Epoch 10/20\n",
            "135/135 [==============================] - 6s 43ms/step - loss: 1.7076 - accuracy: 0.4946 - val_loss: 1.7228 - val_accuracy: 0.4927\n",
            "Epoch 11/20\n",
            "135/135 [==============================] - 6s 42ms/step - loss: 1.6937 - accuracy: 0.4977 - val_loss: 1.7105 - val_accuracy: 0.4946\n",
            "Epoch 12/20\n",
            "135/135 [==============================] - 6s 44ms/step - loss: 1.6813 - accuracy: 0.5005 - val_loss: 1.7041 - val_accuracy: 0.4953\n",
            "Epoch 13/20\n",
            "135/135 [==============================] - 6s 43ms/step - loss: 1.6709 - accuracy: 0.5034 - val_loss: 1.6898 - val_accuracy: 0.4995\n",
            "Epoch 14/20\n",
            "135/135 [==============================] - 6s 43ms/step - loss: 1.6614 - accuracy: 0.5057 - val_loss: 1.6917 - val_accuracy: 0.5018\n",
            "Epoch 15/20\n",
            "135/135 [==============================] - 6s 42ms/step - loss: 1.6537 - accuracy: 0.5077 - val_loss: 1.6798 - val_accuracy: 0.5012\n",
            "Epoch 16/20\n",
            "135/135 [==============================] - 6s 42ms/step - loss: 1.6460 - accuracy: 0.5096 - val_loss: 1.6704 - val_accuracy: 0.5055\n",
            "Epoch 17/20\n",
            "135/135 [==============================] - 6s 43ms/step - loss: 1.6394 - accuracy: 0.5114 - val_loss: 1.6644 - val_accuracy: 0.5075\n",
            "Epoch 18/20\n",
            "135/135 [==============================] - 6s 43ms/step - loss: 1.6335 - accuracy: 0.5135 - val_loss: 1.6676 - val_accuracy: 0.5072\n",
            "Epoch 19/20\n",
            "135/135 [==============================] - 6s 43ms/step - loss: 1.6285 - accuracy: 0.5141 - val_loss: 1.6568 - val_accuracy: 0.5100\n",
            "Epoch 20/20\n",
            "135/135 [==============================] - 6s 44ms/step - loss: 1.6236 - accuracy: 0.5155 - val_loss: 1.6541 - val_accuracy: 0.5099\n",
            "Training took:  0:01:58.030947\n"
          ],
          "name": "stdout"
        }
      ]
    },
    {
      "cell_type": "markdown",
      "metadata": {
        "id": "hwFD7439_RnO"
      },
      "source": [
        "(2) Plotten Sie accuracy und loss über die Epochen um bewerten zu können wie gut das Training lief"
      ]
    },
    {
      "cell_type": "code",
      "metadata": {
        "id": "JCn3o8K9_RnO",
        "colab": {
          "base_uri": "https://localhost:8080/",
          "height": 544
        },
        "outputId": "4450fa42-0622-4025-aa56-cec2de60c357"
      },
      "source": [
        "fig, ax = plt.subplots(1, 1)\n",
        "\n",
        "ax.plot(hist.history[\"loss\"], label='loss')\n",
        "ax.plot(hist.history[\"accuracy\"], label='accuracy')\n",
        "ax.plot(hist.history[\"val_loss\"], label='validation loss')\n",
        "ax.plot(hist.history[\"val_accuracy\"], label='validation accuracy')\n",
        "ax.set_xlabel(\"Epoch\")\n",
        "ax.legend()\n",
        "\n",
        "fig.set_size_inches(20, 10)\n",
        "\n",
        "plt.show()"
      ],
      "execution_count": 9,
      "outputs": [
        {
          "output_type": "display_data",
          "data": {
            "image/png": "[encoded data removed]",
            "text/plain": [
              "<Figure size 1440x720 with 1 Axes>"
            ]
          },
          "metadata": {
            "tags": [],
            "needs_background": "light"
          }
        }
      ]
    },
    {
      "cell_type": "code",
      "metadata": {
        "id": "VhQ4HP55Fidk",
        "colab": {
          "base_uri": "https://localhost:8080/"
        },
        "outputId": "1f79c204-1189-4597-f1cc-a9e329dd1c08"
      },
      "source": [
        "# Zusatz\n",
        "input_example = one_hot.encode('friend to him and Margaret:')\n",
        "example_batch_predictions = model.predict(input_example.reshape((1, *input_example.shape)))\n",
        "print(input_example.shape, y_train[0].shape, example_batch_predictions.shape)\n",
        "\n",
        "print(\"Test sequence:\", \"\\n\", \"-\" * 40, \"\\n\", colored(untokenize(one_hot.decode(input_example)), 'blue'), \"\\n\", \"-\"*40)\n",
        "print(\"Trained prediction:\", \"\\n\", \"-\" * 40, \"\\n\", colored(untokenize(one_hot.decode(example_batch_predictions[0])), 'red'), \"\\n\", \"-\"*40)"
      ],
      "execution_count": 10,
      "outputs": [
        {
          "output_type": "stream",
          "text": [
            "(15, 66) (100, 66) (1, 15, 66)\n",
            "Test sequence: \n",
            " ---------------------------------------- \n",
            " \u001b[34mfear and mutiny\u001b[0m \n",
            " ----------------------------------------\n",
            "Trained prediction: \n",
            " ---------------------------------------- \n",
            " \u001b[31molt t d tachme \u001b[0m \n",
            " ----------------------------------------\n"
          ],
          "name": "stdout"
        }
      ]
    },
    {
      "cell_type": "markdown",
      "metadata": {
        "id": "sslY_jvfwHN-"
      },
      "source": [
        "TODO Was hat er gelernt?\n",
        "\n",
        "- Großschreibung nach Punkte\n",
        "- Wörter\n",
        "- ...."
      ]
    },
    {
      "cell_type": "markdown",
      "metadata": {
        "id": "WxNyKthd_RnP"
      },
      "source": [
        "## x.5 Text prediction\n",
        "\n",
        "(1) Schreiben Sie eine Methode, die für einen gegebenen Text das nächste Zeichen prognostiziert"
      ]
    },
    {
      "cell_type": "code",
      "metadata": {
        "id": "y3wVdygn_RnQ"
      },
      "source": [
        "def predict(txt, one_hot, trainied_model):\n",
        "    encoded_txt = one_hot.encode(tokenize(txt))\n",
        "    prediction = trainied_model.predict(encoded_txt.reshape((1, *encoded_txt.shape)))\n",
        "    return untokenize(one_hot.decode(prediction[0]))[-1]"
      ],
      "execution_count": 11,
      "outputs": []
    },
    {
      "cell_type": "markdown",
      "metadata": {
        "id": "67T8xcMS_RnQ"
      },
      "source": [
        "(2) *Optional:* Nutzen Sie ipywidgets um live vorschläge zurück zu geben"
      ]
    },
    {
      "cell_type": "code",
      "metadata": {
        "id": "ApEZl0IK_RnQ"
      },
      "source": [
        "import ipywidgets as widgets\n",
        "from IPython.display import display\n",
        "\n",
        "test_cases = [\"spo\", \"foo\", \"jok\"]"
      ],
      "execution_count": 12,
      "outputs": []
    },
    {
      "cell_type": "code",
      "metadata": {
        "id": "7ENo5TOT_RnR",
        "colab": {
          "base_uri": "https://localhost:8080/",
          "height": 119,
          "referenced_widgets": [
            "2f6ada52c26e481f909cb6b66784c3b9",
            "7372a23633344c32a27d689039831c48",
            "96b3f1df72e749cd8799da85380fe08e",
            "b74a1f6ec1164771a8b120c90d5ab8f5",
            "1a45c07d6800453ab1355a93cf10472a",
            "9159c2c17932488f92c8405115b3d5e2",
            "66e4d9e08f16417180a8f58b9c970b30"
          ]
        },
        "outputId": "bdad28a0-e992-44d3-9007-3dbc15e6aab6"
      },
      "source": [
        "def verbose_prediction(txt, one_hot, trainied_model):\n",
        "    if len(txt) == 0:\n",
        "        txt = \" \"\n",
        "    prediction = predict(txt=txt, one_hot=one_hot, trainied_model=trainied_model)\n",
        "    print(f\"I think the next will be \\\"{prediction}\\\" after you said \\\"{txt}\\\"\")\n",
        "\n",
        "w = widgets.interactive(verbose_prediction,\n",
        "                        txt=widgets.Text(value='Hello Worl', placeholder='Type something', description='Your text:', disabled=False),\n",
        "                        one_hot=widgets.fixed(one_hot),\n",
        "                        trainied_model=widgets.fixed(model),\n",
        "                       )\n",
        "\n",
        "for test_case in test_cases:\n",
        "    verbose_prediction(test_case, one_hot=one_hot, trainied_model=model)\n",
        "\n",
        "display(w)"
      ],
      "execution_count": 13,
      "outputs": [
        {
          "output_type": "stream",
          "text": [
            "I think the next will be \" es\" after you said \"spo\"\n",
            "I think the next will be \"ort\" after you said \"foo\"\n",
            "I think the next will be \"eye\" after you said \"jok\"\n"
          ],
          "name": "stdout"
        },
        {
          "output_type": "display_data",
          "data": {
            "application/vnd.jupyter.widget-view+json": {
              "model_id": "2f6ada52c26e481f909cb6b66784c3b9",
              "version_minor": 0,
              "version_major": 2
            },
            "text/plain": [
              "interactive(children=(Text(value='Hello Worl', description='Your text:', placeholder='Type something'), Output…"
            ]
          },
          "metadata": {
            "tags": []
          }
        }
      ]
    },
    {
      "cell_type": "markdown",
      "metadata": {
        "id": "0d7pKNy1ycN7"
      },
      "source": [
        "## x.6 *Optional* Vergleich mit LSTM und GRU und ...\n",
        "\n",
        "Trainieren Sie nun modelle mit LSTM und GRU oder anderen Architekturen und vergleichen Sie lernperformance und Ergebnisse. Was fällt Ihnen auf?"
      ]
    },
    {
      "cell_type": "code",
      "metadata": {
        "id": "IehQ7h3uyeY6",
        "colab": {
          "base_uri": "https://localhost:8080/"
        },
        "outputId": "f8977daa-f1e6-42a2-a5e9-7abd0b7bd616"
      },
      "source": [
        "with strategy.scope() if strategy is not None else open(\"/dev/null\"):\n",
        "    model_lstm = tf.keras.Sequential(name=\"LSTM_Model\")\n",
        "    model_lstm.add(tf.keras.layers.LSTM(rnn_units, return_sequences=True, name=\"The_Brain\"))\n",
        "    model_lstm.add(tf.keras.layers.Dense(vocab_size, activation='softmax', name=\"The_Hand\"))\n",
        "    model_lstm.compile(loss='categorical_crossentropy', optimizer='adam', metrics=['accuracy'])\n",
        "    model_lstm.build(input_shape=(None, *input_shape))\n",
        "    model_lstm.summary()\n",
        "\n",
        "    model_gru = tf.keras.Sequential(name=\"GRU_Model\")\n",
        "    model_gru.add(tf.keras.layers.LSTM(rnn_units, return_sequences=True, name=\"The_Brain\"))\n",
        "    model_gru.add(tf.keras.layers.Dense(vocab_size, activation='softmax', name=\"The_Hand\"))\n",
        "    model_gru.compile(loss='categorical_crossentropy', optimizer='adam', metrics=['accuracy'])\n",
        "    model_gru.build(input_shape=(None, *input_shape))\n",
        "    model_gru.summary()\n"
      ],
      "execution_count": 14,
      "outputs": [
        {
          "output_type": "stream",
          "text": [
            "Model: \"LSTM_Model\"\n",
            "_________________________________________________________________\n",
            "Layer (type)                 Output Shape              Param #   \n",
            "=================================================================\n",
            "The_Brain (LSTM)             (None, None, 128)         99840     \n",
            "_________________________________________________________________\n",
            "The_Hand (Dense)             (None, None, 66)          8514      \n",
            "=================================================================\n",
            "Total params: 108,354\n",
            "Trainable params: 108,354\n",
            "Non-trainable params: 0\n",
            "_________________________________________________________________\n",
            "Model: \"GRU_Model\"\n",
            "_________________________________________________________________\n",
            "Layer (type)                 Output Shape              Param #   \n",
            "=================================================================\n",
            "The_Brain (LSTM)             (None, None, 128)         99840     \n",
            "_________________________________________________________________\n",
            "The_Hand (Dense)             (None, None, 66)          8514      \n",
            "=================================================================\n",
            "Total params: 108,354\n",
            "Trainable params: 108,354\n",
            "Non-trainable params: 0\n",
            "_________________________________________________________________\n"
          ],
          "name": "stdout"
        }
      ]
    },
    {
      "cell_type": "code",
      "metadata": {
        "id": "knXfKSKy_RnS",
        "colab": {
          "base_uri": "https://localhost:8080/"
        },
        "outputId": "622975a5-4246-42e4-f576-a5df71e30928"
      },
      "source": [
        "t1 = time.time()\n",
        "hist_lstm = model_lstm.fit(ds_train,\n",
        "                           epochs=EPOCHS,\n",
        "                           validation_data=ds_val)\n",
        "t2 = time.time()\n",
        "t_lstm = t2 - t1\n",
        "\n",
        "t1 = time.time()\n",
        "hist_gru = model_gru.fit(ds_train,\n",
        "                         epochs=EPOCHS,\n",
        "                         validation_data=ds_val)\n",
        "t2 = time.time()\n",
        "t_gru = t2 - t1\n",
        "\n",
        "print(\"LSTM Training took:\", timedelta(seconds=t_lstm))\n",
        "print(\"GRU  Training took:\", timedelta(seconds=t_gru))"
      ],
      "execution_count": 15,
      "outputs": [
        {
          "output_type": "stream",
          "text": [
            "Epoch 1/20\n",
            "135/135 [==============================] - 5s 13ms/step - loss: 3.5559 - accuracy: 0.1414 - val_loss: 3.0948 - val_accuracy: 0.1817\n",
            "Epoch 2/20\n",
            "135/135 [==============================] - 1s 10ms/step - loss: 2.9561 - accuracy: 0.2174 - val_loss: 2.6253 - val_accuracy: 0.2930\n",
            "Epoch 3/20\n",
            "135/135 [==============================] - 1s 9ms/step - loss: 2.5583 - accuracy: 0.3014 - val_loss: 2.4240 - val_accuracy: 0.3228\n",
            "Epoch 4/20\n",
            "135/135 [==============================] - 1s 9ms/step - loss: 2.3898 - accuracy: 0.3306 - val_loss: 2.3212 - val_accuracy: 0.3435\n",
            "Epoch 5/20\n",
            "135/135 [==============================] - 1s 10ms/step - loss: 2.2961 - accuracy: 0.3508 - val_loss: 2.2514 - val_accuracy: 0.3575\n",
            "Epoch 6/20\n",
            "135/135 [==============================] - 1s 9ms/step - loss: 2.2289 - accuracy: 0.3648 - val_loss: 2.1943 - val_accuracy: 0.3718\n",
            "Epoch 7/20\n",
            "135/135 [==============================] - 1s 9ms/step - loss: 2.1751 - accuracy: 0.3778 - val_loss: 2.1490 - val_accuracy: 0.3844\n",
            "Epoch 8/20\n",
            "135/135 [==============================] - 1s 10ms/step - loss: 2.1300 - accuracy: 0.3891 - val_loss: 2.1096 - val_accuracy: 0.3949\n",
            "Epoch 9/20\n",
            "135/135 [==============================] - 1s 9ms/step - loss: 2.0921 - accuracy: 0.3980 - val_loss: 2.0742 - val_accuracy: 0.4022\n",
            "Epoch 10/20\n",
            "135/135 [==============================] - 1s 9ms/step - loss: 2.0582 - accuracy: 0.4055 - val_loss: 2.0447 - val_accuracy: 0.4098\n",
            "Epoch 11/20\n",
            "135/135 [==============================] - 1s 9ms/step - loss: 2.0285 - accuracy: 0.4127 - val_loss: 2.0185 - val_accuracy: 0.4169\n",
            "Epoch 12/20\n",
            "135/135 [==============================] - 1s 9ms/step - loss: 2.0020 - accuracy: 0.4195 - val_loss: 1.9950 - val_accuracy: 0.4234\n",
            "Epoch 13/20\n",
            "135/135 [==============================] - 1s 9ms/step - loss: 1.9784 - accuracy: 0.4261 - val_loss: 1.9739 - val_accuracy: 0.4295\n",
            "Epoch 14/20\n",
            "135/135 [==============================] - 1s 9ms/step - loss: 1.9574 - accuracy: 0.4323 - val_loss: 1.9551 - val_accuracy: 0.4342\n",
            "Epoch 15/20\n",
            "135/135 [==============================] - 1s 9ms/step - loss: 1.9383 - accuracy: 0.4372 - val_loss: 1.9395 - val_accuracy: 0.4381\n",
            "Epoch 16/20\n",
            "135/135 [==============================] - 1s 9ms/step - loss: 1.9210 - accuracy: 0.4415 - val_loss: 1.9221 - val_accuracy: 0.4422\n",
            "Epoch 17/20\n",
            "135/135 [==============================] - 1s 9ms/step - loss: 1.9040 - accuracy: 0.4459 - val_loss: 1.9056 - val_accuracy: 0.4461\n",
            "Epoch 18/20\n",
            "135/135 [==============================] - 1s 9ms/step - loss: 1.8889 - accuracy: 0.4492 - val_loss: 1.8913 - val_accuracy: 0.4492\n",
            "Epoch 19/20\n",
            "135/135 [==============================] - 1s 9ms/step - loss: 1.8733 - accuracy: 0.4528 - val_loss: 1.8779 - val_accuracy: 0.4523\n",
            "Epoch 20/20\n",
            "135/135 [==============================] - 1s 9ms/step - loss: 1.8595 - accuracy: 0.4559 - val_loss: 1.8658 - val_accuracy: 0.4550\n",
            "Epoch 1/20\n",
            "135/135 [==============================] - 3s 12ms/step - loss: 3.5605 - accuracy: 0.1413 - val_loss: 3.0124 - val_accuracy: 0.1801\n",
            "Epoch 2/20\n",
            "135/135 [==============================] - 1s 10ms/step - loss: 2.8661 - accuracy: 0.2411 - val_loss: 2.5464 - val_accuracy: 0.3044\n",
            "Epoch 3/20\n",
            "135/135 [==============================] - 1s 10ms/step - loss: 2.4901 - accuracy: 0.3126 - val_loss: 2.3721 - val_accuracy: 0.3340\n",
            "Epoch 4/20\n",
            "135/135 [==============================] - 1s 10ms/step - loss: 2.3401 - accuracy: 0.3429 - val_loss: 2.2710 - val_accuracy: 0.3588\n",
            "Epoch 5/20\n",
            "135/135 [==============================] - 1s 10ms/step - loss: 2.2473 - accuracy: 0.3664 - val_loss: 2.2021 - val_accuracy: 0.3760\n",
            "Epoch 6/20\n",
            "135/135 [==============================] - 1s 10ms/step - loss: 2.1826 - accuracy: 0.3815 - val_loss: 2.1470 - val_accuracy: 0.3873\n",
            "Epoch 7/20\n",
            "135/135 [==============================] - 1s 9ms/step - loss: 2.1275 - accuracy: 0.3934 - val_loss: 2.1017 - val_accuracy: 0.3974\n",
            "Epoch 8/20\n",
            "135/135 [==============================] - 1s 9ms/step - loss: 2.0817 - accuracy: 0.4033 - val_loss: 2.0622 - val_accuracy: 0.4062\n",
            "Epoch 9/20\n",
            "135/135 [==============================] - 1s 10ms/step - loss: 2.0420 - accuracy: 0.4116 - val_loss: 2.0269 - val_accuracy: 0.4150\n",
            "Epoch 10/20\n",
            "135/135 [==============================] - 1s 9ms/step - loss: 2.0072 - accuracy: 0.4199 - val_loss: 1.9967 - val_accuracy: 0.4230\n",
            "Epoch 11/20\n",
            "135/135 [==============================] - 1s 9ms/step - loss: 1.9770 - accuracy: 0.4279 - val_loss: 1.9701 - val_accuracy: 0.4304\n",
            "Epoch 12/20\n",
            "135/135 [==============================] - 1s 9ms/step - loss: 1.9503 - accuracy: 0.4348 - val_loss: 1.9465 - val_accuracy: 0.4359\n",
            "Epoch 13/20\n",
            "135/135 [==============================] - 1s 10ms/step - loss: 1.9265 - accuracy: 0.4401 - val_loss: 1.9250 - val_accuracy: 0.4407\n",
            "Epoch 14/20\n",
            "135/135 [==============================] - 1s 9ms/step - loss: 1.9050 - accuracy: 0.4446 - val_loss: 1.9060 - val_accuracy: 0.4446\n",
            "Epoch 15/20\n",
            "135/135 [==============================] - 1s 9ms/step - loss: 1.8855 - accuracy: 0.4489 - val_loss: 1.8883 - val_accuracy: 0.4485\n",
            "Epoch 16/20\n",
            "135/135 [==============================] - 1s 9ms/step - loss: 1.8675 - accuracy: 0.4533 - val_loss: 1.8723 - val_accuracy: 0.4519\n",
            "Epoch 17/20\n",
            "135/135 [==============================] - 1s 9ms/step - loss: 1.8505 - accuracy: 0.4574 - val_loss: 1.8563 - val_accuracy: 0.4559\n",
            "Epoch 18/20\n",
            "135/135 [==============================] - 1s 9ms/step - loss: 1.8346 - accuracy: 0.4620 - val_loss: 1.8420 - val_accuracy: 0.4597\n",
            "Epoch 19/20\n",
            "135/135 [==============================] - 1s 9ms/step - loss: 1.8201 - accuracy: 0.4656 - val_loss: 1.8298 - val_accuracy: 0.4627\n",
            "Epoch 20/20\n",
            "135/135 [==============================] - 1s 9ms/step - loss: 1.8065 - accuracy: 0.4693 - val_loss: 1.8162 - val_accuracy: 0.4673\n",
            "LSTM Training took: 0:00:29.542585\n",
            "GRU  Training took: 0:00:27.841666\n"
          ],
          "name": "stdout"
        }
      ]
    },
    {
      "cell_type": "code",
      "metadata": {
        "id": "0HlKt70B_RnT",
        "colab": {
          "base_uri": "https://localhost:8080/",
          "height": 752
        },
        "outputId": "f37ad8ef-d1a1-482e-cbbe-c1e92b7bc827"
      },
      "source": [
        "fig, ax = plt.subplots(1, 1)\n",
        "\n",
        "for n, h in [(\"simple rnn\", hist), (\"lstm\", hist_lstm), (\"gru\", hist_gru)]:\n",
        "\n",
        "    ax.plot(h.history[\"loss\"], label=f'{n} loss')\n",
        "    ax.plot(h.history[\"accuracy\"], label=f'{n} accuracy')\n",
        "    ax.plot(h.history[\"val_loss\"], label=f'{n} validation loss')\n",
        "    ax.plot(h.history[\"val_accuracy\"], label=f'{n} validation accuracy')\n",
        "\n",
        "ax.set_xlabel(\"Epoch\")\n",
        "ax.legend()\n",
        "\n",
        "fig.set_size_inches(20, 10)\n",
        "\n",
        "plt.show()\n",
        "\n",
        "print(\"-\" * 10, \"SimpleRNN\", \"-\" * 10)\n",
        "for test_case in test_cases:\n",
        "    verbose_prediction(test_case, one_hot=one_hot, trainied_model=model)\n",
        "\n",
        "print(\"-\" * 10, \"LSTM\", \"-\" * 10)\n",
        "for test_case in test_cases:\n",
        "    verbose_prediction(test_case, one_hot=one_hot, trainied_model=model_lstm)\n",
        "\n",
        "print(\"-\" * 10, \"GRU\", \"-\" * 10)\n",
        "for test_case in test_cases:\n",
        "    verbose_prediction(test_case, one_hot=one_hot, trainied_model=model_gru)"
      ],
      "execution_count": 16,
      "outputs": [
        {
          "output_type": "display_data",
          "data": {
            "image/png": "[encoded data removed]",
            "text/plain": [
              "<Figure size 1440x720 with 1 Axes>"
            ]
          },
          "metadata": {
            "tags": [],
            "needs_background": "light"
          }
        },
        {
          "output_type": "stream",
          "text": [
            "---------- SimpleRNN ----------\n",
            "I think the next will be \" es\" after you said \"spo\"\n",
            "I think the next will be \"ort\" after you said \"foo\"\n",
            "I think the next will be \"eye\" after you said \"jok\"\n",
            "---------- LSTM ----------\n",
            "I think the next will be \" er\" after you said \"spo\"\n",
            "I think the next will be \" rr\" after you said \"foo\"\n",
            "I think the next will be \"uue\" after you said \"jok\"\n",
            "---------- GRU ----------\n",
            "I think the next will be \" er\" after you said \"spo\"\n",
            "I think the next will be \" rr\" after you said \"foo\"\n",
            "I think the next will be \"uue\" after you said \"jok\"\n"
          ],
          "name": "stdout"
        }
      ]
    },
    {
      "cell_type": "markdown",
      "metadata": {
        "id": "pMWgGgRZ_RnT"
      },
      "source": [
        "## x.7 *Noch Optionaler* Ist das Netz jetzt ein Schriftsteller?\n",
        "\n",
        "Was müsste man ändern um nun ein ganzes Buch erstellen zu lassen? Glauben Sie das Ergebniss wäre lesbar?\n",
        "\n",
        "Vor allem hier wird es wahrscheinlich nötig sein deutlich mehr Trainingsdaten und mehr trainingsepochen zur Verfügung zu stellen"
      ]
    },
    {
      "cell_type": "markdown",
      "metadata": {
        "id": "Wyhz--mz_RnT"
      },
      "source": [
        "Hierfür wollen wir wenn möglich beliebig viele Zeichen generieren, dabei den hidden state behalten und nicht konstant das bisher geschriebene als Input wieder einfügen. Deshalb nutzen wir hier eine eigene Klasse für das Netz, die dann die Layer enthält, aber aich den Hidden state zurück geben kann"
      ]
    },
    {
      "cell_type": "code",
      "metadata": {
        "id": "ELcGEf_FGGI3",
        "colab": {
          "base_uri": "https://localhost:8080/",
          "height": 235
        },
        "outputId": "607b6170-55dc-43f5-de02-aabf9ee08abe"
      },
      "source": [
        "EPOCHS = 50\n",
        "\n",
        "text = \"\\n\\n\".join(jokes)\n",
        "tokens = sorted(set(text + \" \"))\n",
        "one_hot = OneHot(tokens=tokens)\n",
        "coded_text = one_hot.encode(text)\n",
        "coded_text_seq = sequenze_split(coded_text, sequence_len)\n",
        "X = coded_text_seq[:, :-1]\n",
        "y = coded_text_seq[:, 1:]\n",
        "X_train, X_val, y_train, y_val = train_test_split(X, y, test_size=validation_size)\n",
        "ds_train = create_dataset_from_data(X_train, y_train)\n",
        "ds_val = create_dataset_from_data(X_val, y_val)\n",
        "\n",
        "vocab_size = X_train.shape[-1]"
      ],
      "execution_count": 17,
      "outputs": [
        {
          "output_type": "error",
          "ename": "NameError",
          "evalue": "ignored",
          "traceback": [
            "\u001b[0;31m---------------------------------------------------------------------------\u001b[0m",
            "\u001b[0;31mNameError\u001b[0m                                 Traceback (most recent call last)",
            "\u001b[0;32m<ipython-input-17-e5284d1ce685>\u001b[0m in \u001b[0;36m<module>\u001b[0;34m()\u001b[0m\n\u001b[1;32m      1\u001b[0m \u001b[0mEPOCHS\u001b[0m \u001b[0;34m=\u001b[0m \u001b[0;36m50\u001b[0m\u001b[0;34m\u001b[0m\u001b[0;34m\u001b[0m\u001b[0m\n\u001b[1;32m      2\u001b[0m \u001b[0;34m\u001b[0m\u001b[0m\n\u001b[0;32m----> 3\u001b[0;31m \u001b[0mtext\u001b[0m \u001b[0;34m=\u001b[0m \u001b[0;34m\"\\n\\n\"\u001b[0m\u001b[0;34m.\u001b[0m\u001b[0mjoin\u001b[0m\u001b[0;34m(\u001b[0m\u001b[0mjokes\u001b[0m\u001b[0;34m)\u001b[0m\u001b[0;34m\u001b[0m\u001b[0;34m\u001b[0m\u001b[0m\n\u001b[0m\u001b[1;32m      4\u001b[0m \u001b[0mtokens\u001b[0m \u001b[0;34m=\u001b[0m \u001b[0msorted\u001b[0m\u001b[0;34m(\u001b[0m\u001b[0mset\u001b[0m\u001b[0;34m(\u001b[0m\u001b[0mtext\u001b[0m \u001b[0;34m+\u001b[0m \u001b[0;34m\" \"\u001b[0m\u001b[0;34m)\u001b[0m\u001b[0;34m)\u001b[0m\u001b[0;34m\u001b[0m\u001b[0;34m\u001b[0m\u001b[0m\n\u001b[1;32m      5\u001b[0m \u001b[0mone_hot\u001b[0m \u001b[0;34m=\u001b[0m \u001b[0mOneHot\u001b[0m\u001b[0;34m(\u001b[0m\u001b[0mtokens\u001b[0m\u001b[0;34m=\u001b[0m\u001b[0mtokens\u001b[0m\u001b[0;34m)\u001b[0m\u001b[0;34m\u001b[0m\u001b[0;34m\u001b[0m\u001b[0m\n",
            "\u001b[0;31mNameError\u001b[0m: name 'jokes' is not defined"
          ]
        }
      ]
    },
    {
      "cell_type": "code",
      "metadata": {
        "id": "n2ZzbyYX_RnV"
      },
      "source": [
        "class CustomRNNModel(tf.keras.Model):\n",
        "    def __init__(self, vocab_size, rnn_units, rnn_layer_type = tf.keras.layers.GRU):\n",
        "        super().__init__(self)\n",
        "        # Put layers here. We will call them manually but store them here\n",
        "        self.rnn_layer = rnn_layer_type(rnn_units, return_sequences=True, return_state=True)\n",
        "        self.dense = tf.keras.layers.Dense(vocab_size, activation='softmax')\n",
        "\n",
        "    def call(self, inputs, states=None, return_state=False, training=False):\n",
        "        # Here we put our input through all out layers\n",
        "        x = tf.cast(inputs, dtype=float)\n",
        "        if states is None:\n",
        "            # Get an initial kind of empty state\n",
        "            states = self.rnn_layer.get_initial_state(x)\n",
        "        \n",
        "        x, states = self.rnn_layer(x, initial_state=states, training=training)\n",
        "        x = self.dense(x, training=training)\n",
        "\n",
        "        if return_state:\n",
        "            return x, states\n",
        "        else:\n",
        "            return x"
      ],
      "execution_count": null,
      "outputs": []
    },
    {
      "cell_type": "code",
      "metadata": {
        "id": "4fiFktPV_RnV"
      },
      "source": [
        "with strategy.scope() if strategy is not None else open(\"/dev/null\"):\n",
        "    literatur_model = CustomRNNModel(vocab_size=vocab_size, rnn_units=rnn_units)\n",
        "    literatur_model.build(input_shape=(None, None, vocab_size))\n",
        "    literatur_model.compile(loss='categorical_crossentropy', optimizer='adam', metrics=['accuracy'])\n",
        "\n",
        "literatur_model.summary()\n",
        "\n",
        "input_example_batch = X_train[0]\n",
        "input_example_batch = input_example_batch.reshape((1, *input_example_batch.shape))\n",
        "\n",
        "example_batch_predictions = literatur_model.predict(input_example_batch)\n",
        "print(input_example_batch.shape, y_train[0].shape, example_batch_predictions.shape)\n",
        "\n",
        "print(\"Test sequence:\", \"\\n\", \"-\" * 25, \"\\n\", untokenize(one_hot.decode(X_train[0])), \"\\n\", \"-\"*25)\n",
        "print(\"Expected result:\", \"\\n\", \"-\" * 25, \"\\n\", untokenize(one_hot.decode(y_train[0])), \"\\n\", \"-\"*25)\n",
        "print(\"Untrained prediction:\", \"\\n\", \"-\" * 25, \"\\n\", untokenize(one_hot.decode(example_batch_predictions[0])), \"\\n\", \"-\"*25)"
      ],
      "execution_count": null,
      "outputs": []
    },
    {
      "cell_type": "code",
      "metadata": {
        "id": "9QuI2o2c_RnV"
      },
      "source": [
        "t1 = time.time()\n",
        "hist_custom = literatur_model.fit(ds_train,\n",
        "                           batch_size=BATCH_SIZE,\n",
        "                           epochs=EPOCHS,\n",
        "                           validation_data=ds_val)\n",
        "t2 = time.time()\n",
        "\n",
        "print(\"Training took:\", timedelta(seconds=t2-t1))"
      ],
      "execution_count": null,
      "outputs": []
    },
    {
      "cell_type": "code",
      "metadata": {
        "id": "JYhQtFyT_RnW"
      },
      "source": [
        "fig, ax = plt.subplots(1, 1)\n",
        "\n",
        "ax.plot(hist_custom.history[\"loss\"], label='loss')\n",
        "ax.plot(hist_custom.history[\"accuracy\"], label='accuracy')\n",
        "ax.plot(hist_custom.history[\"val_loss\"], label='validation loss')\n",
        "ax.plot(hist_custom.history[\"val_accuracy\"], label='validation accuracy')\n",
        "ax.set_xlabel(\"Epoch\")\n",
        "ax.legend()\n",
        "\n",
        "fig.set_size_inches(20, 10)\n",
        "\n",
        "plt.show()"
      ],
      "execution_count": null,
      "outputs": []
    },
    {
      "cell_type": "code",
      "metadata": {
        "id": "QE7snkJg_RnW"
      },
      "source": [
        "def create_text(amount_symbols, init_text, text_model):    \n",
        "    # Tokenize text\n",
        "    ret = tokenize(init_text)\n",
        "    \n",
        "    states = None\n",
        "    current_char = one_hot.encode(ret, dtype=float)\n",
        "    # For some reason we have to add one dimension\n",
        "    current_char = current_char.reshape(1, *current_char.shape)\n",
        "    \n",
        "    for i in range(amount_symbols):\n",
        "        current_char, states = text_model(current_char, return_state = True, states = states)\n",
        "        # Only add last char if several got \n",
        "        ret.append(one_hot.decode(current_char[0])[-1])\n",
        "        \n",
        "    return untokenize(ret)\n",
        "    "
      ],
      "execution_count": null,
      "outputs": []
    },
    {
      "cell_type": "code",
      "metadata": {
        "id": "QWQ-b8AS_RnW"
      },
      "source": [
        "created_text = create_text(250, \"Sport\", literatur_model)\n",
        "\n",
        "print(created_text)"
      ],
      "execution_count": null,
      "outputs": []
    },
    {
      "cell_type": "code",
      "metadata": {
        "id": "w6mdZV36_RnW"
      },
      "source": [
        ""
      ],
      "execution_count": null,
      "outputs": []
    }
  ]
}