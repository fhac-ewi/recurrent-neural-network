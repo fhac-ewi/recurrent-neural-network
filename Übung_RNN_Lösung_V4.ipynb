{
  "nbformat": 4,
  "nbformat_minor": 0,
  "metadata": {
    "colab": {
      "name": "Übung-RNN-Lösung.ipynb",
      "provenance": [],
      "toc_visible": true,
      "include_colab_link": true
    },
    "kernelspec": {
      "display_name": "Python 3",
      "language": "python",
      "name": "python3"
    },
    "language_info": {
      "codemirror_mode": {
        "name": "ipython",
        "version": 3
      },
      "file_extension": ".py",
      "mimetype": "text/x-python",
      "name": "python",
      "nbconvert_exporter": "python",
      "pygments_lexer": "ipython3",
      "version": "3.6.9"
    },
    "accelerator": "TPU",
    "widgets": {
      "application/vnd.jupyter.widget-state+json": {
        "ff9e9d97335b4c50b388034e9d89067a": {
          "model_module": "@jupyter-widgets/controls",
          "model_name": "VBoxModel",
          "state": {
            "_view_name": "VBoxView",
            "_dom_classes": [
              "widget-interact"
            ],
            "_model_name": "VBoxModel",
            "_view_module": "@jupyter-widgets/controls",
            "_model_module_version": "1.5.0",
            "_view_count": null,
            "_view_module_version": "1.5.0",
            "box_style": "",
            "layout": "IPY_MODEL_494b88fa4c6d4151856daf82a99bca75",
            "_model_module": "@jupyter-widgets/controls",
            "children": [
              "IPY_MODEL_254601b4d22e49ecb4416b824195bceb",
              "IPY_MODEL_0b94b990ddfd42b388166fee1b46919c"
            ]
          }
        },
        "494b88fa4c6d4151856daf82a99bca75": {
          "model_module": "@jupyter-widgets/base",
          "model_name": "LayoutModel",
          "state": {
            "_view_name": "LayoutView",
            "grid_template_rows": null,
            "right": null,
            "justify_content": null,
            "_view_module": "@jupyter-widgets/base",
            "overflow": null,
            "_model_module_version": "1.2.0",
            "_view_count": null,
            "flex_flow": null,
            "width": null,
            "min_width": null,
            "border": null,
            "align_items": null,
            "bottom": null,
            "_model_module": "@jupyter-widgets/base",
            "top": null,
            "grid_column": null,
            "overflow_y": null,
            "overflow_x": null,
            "grid_auto_flow": null,
            "grid_area": null,
            "grid_template_columns": null,
            "flex": null,
            "_model_name": "LayoutModel",
            "justify_items": null,
            "grid_row": null,
            "max_height": null,
            "align_content": null,
            "visibility": null,
            "align_self": null,
            "height": null,
            "min_height": null,
            "padding": null,
            "grid_auto_rows": null,
            "grid_gap": null,
            "max_width": null,
            "order": null,
            "_view_module_version": "1.2.0",
            "grid_template_areas": null,
            "object_position": null,
            "object_fit": null,
            "grid_auto_columns": null,
            "margin": null,
            "display": null,
            "left": null
          }
        },
        "254601b4d22e49ecb4416b824195bceb": {
          "model_module": "@jupyter-widgets/controls",
          "model_name": "TextModel",
          "state": {
            "_view_name": "TextView",
            "style": "IPY_MODEL_d2c54e100b2545f2961d290e1aa2f1ec",
            "_dom_classes": [],
            "description": "Your text:",
            "_model_name": "TextModel",
            "placeholder": "Type something",
            "_view_module": "@jupyter-widgets/controls",
            "_model_module_version": "1.5.0",
            "value": "Hello Worl",
            "_view_count": null,
            "disabled": false,
            "_view_module_version": "1.5.0",
            "continuous_update": true,
            "description_tooltip": null,
            "_model_module": "@jupyter-widgets/controls",
            "layout": "IPY_MODEL_ed845ae51af1458a896c98a837e9aedd"
          }
        },
        "0b94b990ddfd42b388166fee1b46919c": {
          "model_module": "@jupyter-widgets/output",
          "model_name": "OutputModel",
          "state": {
            "_view_name": "OutputView",
            "msg_id": "",
            "_dom_classes": [],
            "_model_name": "OutputModel",
            "outputs": [
              {
                "output_type": "pyerr",
                "metadata": {
                  "tags": []
                },
                "ename": "ValueError",
                "evalue": "ignored",
                "traceback": [
                  "\u001b[0;31m---------------------------------------------------------------------------\u001b[0m",
                  "\u001b[0;31mValueError\u001b[0m                                Traceback (most recent call last)",
                  "\u001b[0;32m/usr/local/lib/python3.7/dist-packages/ipywidgets/widgets/interaction.py\u001b[0m in \u001b[0;36mupdate\u001b[0;34m(self, *args)\u001b[0m\n\u001b[1;32m    254\u001b[0m                     \u001b[0mvalue\u001b[0m \u001b[0;34m=\u001b[0m \u001b[0mwidget\u001b[0m\u001b[0;34m.\u001b[0m\u001b[0mget_interact_value\u001b[0m\u001b[0;34m(\u001b[0m\u001b[0;34m)\u001b[0m\u001b[0;34m\u001b[0m\u001b[0;34m\u001b[0m\u001b[0m\n\u001b[1;32m    255\u001b[0m                     \u001b[0mself\u001b[0m\u001b[0;34m.\u001b[0m\u001b[0mkwargs\u001b[0m\u001b[0;34m[\u001b[0m\u001b[0mwidget\u001b[0m\u001b[0;34m.\u001b[0m\u001b[0m_kwarg\u001b[0m\u001b[0;34m]\u001b[0m \u001b[0;34m=\u001b[0m \u001b[0mvalue\u001b[0m\u001b[0;34m\u001b[0m\u001b[0;34m\u001b[0m\u001b[0m\n\u001b[0;32m--> 256\u001b[0;31m                 \u001b[0mself\u001b[0m\u001b[0;34m.\u001b[0m\u001b[0mresult\u001b[0m \u001b[0;34m=\u001b[0m \u001b[0mself\u001b[0m\u001b[0;34m.\u001b[0m\u001b[0mf\u001b[0m\u001b[0;34m(\u001b[0m\u001b[0;34m**\u001b[0m\u001b[0mself\u001b[0m\u001b[0;34m.\u001b[0m\u001b[0mkwargs\u001b[0m\u001b[0;34m)\u001b[0m\u001b[0;34m\u001b[0m\u001b[0;34m\u001b[0m\u001b[0m\n\u001b[0m\u001b[1;32m    257\u001b[0m                 \u001b[0mshow_inline_matplotlib_plots\u001b[0m\u001b[0;34m(\u001b[0m\u001b[0;34m)\u001b[0m\u001b[0;34m\u001b[0m\u001b[0;34m\u001b[0m\u001b[0m\n\u001b[1;32m    258\u001b[0m                 \u001b[0;32mif\u001b[0m \u001b[0mself\u001b[0m\u001b[0;34m.\u001b[0m\u001b[0mauto_display\u001b[0m \u001b[0;32mand\u001b[0m \u001b[0mself\u001b[0m\u001b[0;34m.\u001b[0m\u001b[0mresult\u001b[0m \u001b[0;32mis\u001b[0m \u001b[0;32mnot\u001b[0m \u001b[0;32mNone\u001b[0m\u001b[0;34m:\u001b[0m\u001b[0;34m\u001b[0m\u001b[0;34m\u001b[0m\u001b[0m\n",
                  "\u001b[0;32m<ipython-input-13-2b7332352faf>\u001b[0m in \u001b[0;36mverbose_prediction\u001b[0;34m(txt, one_hot, trainied_model)\u001b[0m\n\u001b[1;32m      2\u001b[0m     \u001b[0;32mif\u001b[0m \u001b[0mlen\u001b[0m\u001b[0;34m(\u001b[0m\u001b[0mtxt\u001b[0m\u001b[0;34m)\u001b[0m \u001b[0;34m==\u001b[0m \u001b[0;36m0\u001b[0m\u001b[0;34m:\u001b[0m\u001b[0;34m\u001b[0m\u001b[0;34m\u001b[0m\u001b[0m\n\u001b[1;32m      3\u001b[0m         \u001b[0mtxt\u001b[0m \u001b[0;34m=\u001b[0m \u001b[0;34m\" \"\u001b[0m\u001b[0;34m\u001b[0m\u001b[0;34m\u001b[0m\u001b[0m\n\u001b[0;32m----> 4\u001b[0;31m     \u001b[0mprediction\u001b[0m \u001b[0;34m=\u001b[0m \u001b[0mpredict\u001b[0m\u001b[0;34m(\u001b[0m\u001b[0mtxt\u001b[0m\u001b[0;34m=\u001b[0m\u001b[0mtxt\u001b[0m\u001b[0;34m,\u001b[0m \u001b[0mone_hot\u001b[0m\u001b[0;34m=\u001b[0m\u001b[0mone_hot\u001b[0m\u001b[0;34m,\u001b[0m \u001b[0mtrainied_model\u001b[0m\u001b[0;34m=\u001b[0m\u001b[0mtrainied_model\u001b[0m\u001b[0;34m)\u001b[0m\u001b[0;34m\u001b[0m\u001b[0;34m\u001b[0m\u001b[0m\n\u001b[0m\u001b[1;32m      5\u001b[0m     \u001b[0mprint\u001b[0m\u001b[0;34m(\u001b[0m\u001b[0;34mf\"I think the next will be \\\"{prediction}\\\" after you said \\\"{txt}\\\"\"\u001b[0m\u001b[0;34m)\u001b[0m\u001b[0;34m\u001b[0m\u001b[0;34m\u001b[0m\u001b[0m\n\u001b[1;32m      6\u001b[0m \u001b[0;34m\u001b[0m\u001b[0m\n",
                  "\u001b[0;32m<ipython-input-11-7c18643291c4>\u001b[0m in \u001b[0;36mpredict\u001b[0;34m(txt, one_hot, trainied_model)\u001b[0m\n\u001b[1;32m      1\u001b[0m \u001b[0;32mdef\u001b[0m \u001b[0mpredict\u001b[0m\u001b[0;34m(\u001b[0m\u001b[0mtxt\u001b[0m\u001b[0;34m,\u001b[0m \u001b[0mone_hot\u001b[0m\u001b[0;34m,\u001b[0m \u001b[0mtrainied_model\u001b[0m\u001b[0;34m)\u001b[0m\u001b[0;34m:\u001b[0m\u001b[0;34m\u001b[0m\u001b[0;34m\u001b[0m\u001b[0m\n\u001b[1;32m      2\u001b[0m     \u001b[0mencoded_txt\u001b[0m \u001b[0;34m=\u001b[0m \u001b[0mone_hot\u001b[0m\u001b[0;34m.\u001b[0m\u001b[0mencode\u001b[0m\u001b[0;34m(\u001b[0m\u001b[0mtokenize\u001b[0m\u001b[0;34m(\u001b[0m\u001b[0mtxt\u001b[0m\u001b[0;34m)\u001b[0m\u001b[0;34m)\u001b[0m\u001b[0;34m\u001b[0m\u001b[0;34m\u001b[0m\u001b[0m\n\u001b[0;32m----> 3\u001b[0;31m     \u001b[0mprediction\u001b[0m \u001b[0;34m=\u001b[0m \u001b[0mtrainied_model\u001b[0m\u001b[0;34m.\u001b[0m\u001b[0mpredict\u001b[0m\u001b[0;34m(\u001b[0m\u001b[0mencoded_txt\u001b[0m\u001b[0;34m.\u001b[0m\u001b[0mreshape\u001b[0m\u001b[0;34m(\u001b[0m\u001b[0;34m(\u001b[0m\u001b[0;36m1\u001b[0m\u001b[0;34m,\u001b[0m \u001b[0;34m*\u001b[0m\u001b[0mencoded_txt\u001b[0m\u001b[0;34m.\u001b[0m\u001b[0mshape\u001b[0m\u001b[0;34m)\u001b[0m\u001b[0;34m)\u001b[0m\u001b[0;34m)\u001b[0m\u001b[0;34m\u001b[0m\u001b[0;34m\u001b[0m\u001b[0m\n\u001b[0m\u001b[1;32m      4\u001b[0m     \u001b[0;32mreturn\u001b[0m \u001b[0muntokenize\u001b[0m\u001b[0;34m(\u001b[0m\u001b[0mone_hot\u001b[0m\u001b[0;34m.\u001b[0m\u001b[0mdecode\u001b[0m\u001b[0;34m(\u001b[0m\u001b[0mprediction\u001b[0m\u001b[0;34m[\u001b[0m\u001b[0;36m0\u001b[0m\u001b[0;34m]\u001b[0m\u001b[0;34m)\u001b[0m\u001b[0;34m)\u001b[0m\u001b[0;34m[\u001b[0m\u001b[0;34m-\u001b[0m\u001b[0;36m1\u001b[0m\u001b[0;34m]\u001b[0m\u001b[0;34m\u001b[0m\u001b[0;34m\u001b[0m\u001b[0m\n",
                  "\u001b[0;32m/usr/local/lib/python3.7/dist-packages/tensorflow/python/keras/engine/training.py\u001b[0m in \u001b[0;36mpredict\u001b[0;34m(self, x, batch_size, verbose, steps, callbacks, max_queue_size, workers, use_multiprocessing)\u001b[0m\n\u001b[1;32m   1627\u001b[0m           \u001b[0;32mfor\u001b[0m \u001b[0mstep\u001b[0m \u001b[0;32min\u001b[0m \u001b[0mdata_handler\u001b[0m\u001b[0;34m.\u001b[0m\u001b[0msteps\u001b[0m\u001b[0;34m(\u001b[0m\u001b[0;34m)\u001b[0m\u001b[0;34m:\u001b[0m\u001b[0;34m\u001b[0m\u001b[0;34m\u001b[0m\u001b[0m\n\u001b[1;32m   1628\u001b[0m             \u001b[0mcallbacks\u001b[0m\u001b[0;34m.\u001b[0m\u001b[0mon_predict_batch_begin\u001b[0m\u001b[0;34m(\u001b[0m\u001b[0mstep\u001b[0m\u001b[0;34m)\u001b[0m\u001b[0;34m\u001b[0m\u001b[0;34m\u001b[0m\u001b[0m\n\u001b[0;32m-> 1629\u001b[0;31m             \u001b[0mtmp_batch_outputs\u001b[0m \u001b[0;34m=\u001b[0m \u001b[0mself\u001b[0m\u001b[0;34m.\u001b[0m\u001b[0mpredict_function\u001b[0m\u001b[0;34m(\u001b[0m\u001b[0miterator\u001b[0m\u001b[0;34m)\u001b[0m\u001b[0;34m\u001b[0m\u001b[0;34m\u001b[0m\u001b[0m\n\u001b[0m\u001b[1;32m   1630\u001b[0m             \u001b[0;32mif\u001b[0m \u001b[0mdata_handler\u001b[0m\u001b[0;34m.\u001b[0m\u001b[0mshould_sync\u001b[0m\u001b[0;34m:\u001b[0m\u001b[0;34m\u001b[0m\u001b[0;34m\u001b[0m\u001b[0m\n\u001b[1;32m   1631\u001b[0m               \u001b[0mcontext\u001b[0m\u001b[0;34m.\u001b[0m\u001b[0masync_wait\u001b[0m\u001b[0;34m(\u001b[0m\u001b[0;34m)\u001b[0m\u001b[0;34m\u001b[0m\u001b[0;34m\u001b[0m\u001b[0m\n",
                  "\u001b[0;32m/usr/local/lib/python3.7/dist-packages/tensorflow/python/eager/def_function.py\u001b[0m in \u001b[0;36m__call__\u001b[0;34m(self, *args, **kwds)\u001b[0m\n\u001b[1;32m    826\u001b[0m     \u001b[0mtracing_count\u001b[0m \u001b[0;34m=\u001b[0m \u001b[0mself\u001b[0m\u001b[0;34m.\u001b[0m\u001b[0mexperimental_get_tracing_count\u001b[0m\u001b[0;34m(\u001b[0m\u001b[0;34m)\u001b[0m\u001b[0;34m\u001b[0m\u001b[0;34m\u001b[0m\u001b[0m\n\u001b[1;32m    827\u001b[0m     \u001b[0;32mwith\u001b[0m \u001b[0mtrace\u001b[0m\u001b[0;34m.\u001b[0m\u001b[0mTrace\u001b[0m\u001b[0;34m(\u001b[0m\u001b[0mself\u001b[0m\u001b[0;34m.\u001b[0m\u001b[0m_name\u001b[0m\u001b[0;34m)\u001b[0m \u001b[0;32mas\u001b[0m \u001b[0mtm\u001b[0m\u001b[0;34m:\u001b[0m\u001b[0;34m\u001b[0m\u001b[0;34m\u001b[0m\u001b[0m\n\u001b[0;32m--> 828\u001b[0;31m       \u001b[0mresult\u001b[0m \u001b[0;34m=\u001b[0m \u001b[0mself\u001b[0m\u001b[0;34m.\u001b[0m\u001b[0m_call\u001b[0m\u001b[0;34m(\u001b[0m\u001b[0;34m*\u001b[0m\u001b[0margs\u001b[0m\u001b[0;34m,\u001b[0m \u001b[0;34m**\u001b[0m\u001b[0mkwds\u001b[0m\u001b[0;34m)\u001b[0m\u001b[0;34m\u001b[0m\u001b[0;34m\u001b[0m\u001b[0m\n\u001b[0m\u001b[1;32m    829\u001b[0m       \u001b[0mcompiler\u001b[0m \u001b[0;34m=\u001b[0m \u001b[0;34m\"xla\"\u001b[0m \u001b[0;32mif\u001b[0m \u001b[0mself\u001b[0m\u001b[0;34m.\u001b[0m\u001b[0m_experimental_compile\u001b[0m \u001b[0;32melse\u001b[0m \u001b[0;34m\"nonXla\"\u001b[0m\u001b[0;34m\u001b[0m\u001b[0;34m\u001b[0m\u001b[0m\n\u001b[1;32m    830\u001b[0m       \u001b[0mnew_tracing_count\u001b[0m \u001b[0;34m=\u001b[0m \u001b[0mself\u001b[0m\u001b[0;34m.\u001b[0m\u001b[0mexperimental_get_tracing_count\u001b[0m\u001b[0;34m(\u001b[0m\u001b[0;34m)\u001b[0m\u001b[0;34m\u001b[0m\u001b[0;34m\u001b[0m\u001b[0m\n",
                  "\u001b[0;32m/usr/local/lib/python3.7/dist-packages/tensorflow/python/eager/def_function.py\u001b[0m in \u001b[0;36m_call\u001b[0;34m(self, *args, **kwds)\u001b[0m\n\u001b[1;32m    860\u001b[0m       \u001b[0;31m# In this case we have not created variables on the first call. So we can\u001b[0m\u001b[0;34m\u001b[0m\u001b[0;34m\u001b[0m\u001b[0;34m\u001b[0m\u001b[0m\n\u001b[1;32m    861\u001b[0m       \u001b[0;31m# run the first trace but we should fail if variables are created.\u001b[0m\u001b[0;34m\u001b[0m\u001b[0;34m\u001b[0m\u001b[0;34m\u001b[0m\u001b[0m\n\u001b[0;32m--> 862\u001b[0;31m       \u001b[0mresults\u001b[0m \u001b[0;34m=\u001b[0m \u001b[0mself\u001b[0m\u001b[0;34m.\u001b[0m\u001b[0m_stateful_fn\u001b[0m\u001b[0;34m(\u001b[0m\u001b[0;34m*\u001b[0m\u001b[0margs\u001b[0m\u001b[0;34m,\u001b[0m \u001b[0;34m**\u001b[0m\u001b[0mkwds\u001b[0m\u001b[0;34m)\u001b[0m\u001b[0;34m\u001b[0m\u001b[0;34m\u001b[0m\u001b[0m\n\u001b[0m\u001b[1;32m    863\u001b[0m       \u001b[0;32mif\u001b[0m \u001b[0mself\u001b[0m\u001b[0;34m.\u001b[0m\u001b[0m_created_variables\u001b[0m\u001b[0;34m:\u001b[0m\u001b[0;34m\u001b[0m\u001b[0;34m\u001b[0m\u001b[0m\n\u001b[1;32m    864\u001b[0m         raise ValueError(\"Creating variables on a non-first call to a function\"\n",
                  "\u001b[0;32m/usr/local/lib/python3.7/dist-packages/tensorflow/python/eager/function.py\u001b[0m in \u001b[0;36m__call__\u001b[0;34m(self, *args, **kwargs)\u001b[0m\n\u001b[1;32m   2939\u001b[0m     \u001b[0;32mwith\u001b[0m \u001b[0mself\u001b[0m\u001b[0;34m.\u001b[0m\u001b[0m_lock\u001b[0m\u001b[0;34m:\u001b[0m\u001b[0;34m\u001b[0m\u001b[0;34m\u001b[0m\u001b[0m\n\u001b[1;32m   2940\u001b[0m       (graph_function,\n\u001b[0;32m-> 2941\u001b[0;31m        filtered_flat_args) = self._maybe_define_function(args, kwargs)\n\u001b[0m\u001b[1;32m   2942\u001b[0m     return graph_function._call_flat(\n\u001b[1;32m   2943\u001b[0m         filtered_flat_args, captured_inputs=graph_function.captured_inputs)  # pylint: disable=protected-access\n",
                  "\u001b[0;32m/usr/local/lib/python3.7/dist-packages/tensorflow/python/eager/function.py\u001b[0m in \u001b[0;36m_maybe_define_function\u001b[0;34m(self, args, kwargs)\u001b[0m\n\u001b[1;32m   3356\u001b[0m               call_context_key in self._function_cache.missed):\n\u001b[1;32m   3357\u001b[0m             return self._define_function_with_shape_relaxation(\n\u001b[0;32m-> 3358\u001b[0;31m                 args, kwargs, flat_args, filtered_flat_args, cache_key_context)\n\u001b[0m\u001b[1;32m   3359\u001b[0m \u001b[0;34m\u001b[0m\u001b[0m\n\u001b[1;32m   3360\u001b[0m           \u001b[0mself\u001b[0m\u001b[0;34m.\u001b[0m\u001b[0m_function_cache\u001b[0m\u001b[0;34m.\u001b[0m\u001b[0mmissed\u001b[0m\u001b[0;34m.\u001b[0m\u001b[0madd\u001b[0m\u001b[0;34m(\u001b[0m\u001b[0mcall_context_key\u001b[0m\u001b[0;34m)\u001b[0m\u001b[0;34m\u001b[0m\u001b[0;34m\u001b[0m\u001b[0m\n",
                  "\u001b[0;32m/usr/local/lib/python3.7/dist-packages/tensorflow/python/eager/function.py\u001b[0m in \u001b[0;36m_define_function_with_shape_relaxation\u001b[0;34m(self, args, kwargs, flat_args, filtered_flat_args, cache_key_context)\u001b[0m\n\u001b[1;32m   3278\u001b[0m \u001b[0;34m\u001b[0m\u001b[0m\n\u001b[1;32m   3279\u001b[0m     graph_function = self._create_graph_function(\n\u001b[0;32m-> 3280\u001b[0;31m         args, kwargs, override_flat_arg_shapes=relaxed_arg_shapes)\n\u001b[0m\u001b[1;32m   3281\u001b[0m     \u001b[0mself\u001b[0m\u001b[0;34m.\u001b[0m\u001b[0m_function_cache\u001b[0m\u001b[0;34m.\u001b[0m\u001b[0marg_relaxed\u001b[0m\u001b[0;34m[\u001b[0m\u001b[0mrank_only_cache_key\u001b[0m\u001b[0;34m]\u001b[0m \u001b[0;34m=\u001b[0m \u001b[0mgraph_function\u001b[0m\u001b[0;34m\u001b[0m\u001b[0;34m\u001b[0m\u001b[0m\n\u001b[1;32m   3282\u001b[0m \u001b[0;34m\u001b[0m\u001b[0m\n",
                  "\u001b[0;32m/usr/local/lib/python3.7/dist-packages/tensorflow/python/eager/function.py\u001b[0m in \u001b[0;36m_create_graph_function\u001b[0;34m(self, args, kwargs, override_flat_arg_shapes)\u001b[0m\n\u001b[1;32m   3204\u001b[0m             \u001b[0marg_names\u001b[0m\u001b[0;34m=\u001b[0m\u001b[0marg_names\u001b[0m\u001b[0;34m,\u001b[0m\u001b[0;34m\u001b[0m\u001b[0;34m\u001b[0m\u001b[0m\n\u001b[1;32m   3205\u001b[0m             \u001b[0moverride_flat_arg_shapes\u001b[0m\u001b[0;34m=\u001b[0m\u001b[0moverride_flat_arg_shapes\u001b[0m\u001b[0;34m,\u001b[0m\u001b[0;34m\u001b[0m\u001b[0;34m\u001b[0m\u001b[0m\n\u001b[0;32m-> 3206\u001b[0;31m             capture_by_value=self._capture_by_value),\n\u001b[0m\u001b[1;32m   3207\u001b[0m         \u001b[0mself\u001b[0m\u001b[0;34m.\u001b[0m\u001b[0m_function_attributes\u001b[0m\u001b[0;34m,\u001b[0m\u001b[0;34m\u001b[0m\u001b[0;34m\u001b[0m\u001b[0m\n\u001b[1;32m   3208\u001b[0m         \u001b[0mfunction_spec\u001b[0m\u001b[0;34m=\u001b[0m\u001b[0mself\u001b[0m\u001b[0;34m.\u001b[0m\u001b[0mfunction_spec\u001b[0m\u001b[0;34m,\u001b[0m\u001b[0;34m\u001b[0m\u001b[0;34m\u001b[0m\u001b[0m\n",
                  "\u001b[0;32m/usr/local/lib/python3.7/dist-packages/tensorflow/python/framework/func_graph.py\u001b[0m in \u001b[0;36mfunc_graph_from_py_func\u001b[0;34m(name, python_func, args, kwargs, signature, func_graph, autograph, autograph_options, add_control_dependencies, arg_names, op_return_value, collections, capture_by_value, override_flat_arg_shapes)\u001b[0m\n\u001b[1;32m    988\u001b[0m         \u001b[0m_\u001b[0m\u001b[0;34m,\u001b[0m \u001b[0moriginal_func\u001b[0m \u001b[0;34m=\u001b[0m \u001b[0mtf_decorator\u001b[0m\u001b[0;34m.\u001b[0m\u001b[0munwrap\u001b[0m\u001b[0;34m(\u001b[0m\u001b[0mpython_func\u001b[0m\u001b[0;34m)\u001b[0m\u001b[0;34m\u001b[0m\u001b[0;34m\u001b[0m\u001b[0m\n\u001b[1;32m    989\u001b[0m \u001b[0;34m\u001b[0m\u001b[0m\n\u001b[0;32m--> 990\u001b[0;31m       \u001b[0mfunc_outputs\u001b[0m \u001b[0;34m=\u001b[0m \u001b[0mpython_func\u001b[0m\u001b[0;34m(\u001b[0m\u001b[0;34m*\u001b[0m\u001b[0mfunc_args\u001b[0m\u001b[0;34m,\u001b[0m \u001b[0;34m**\u001b[0m\u001b[0mfunc_kwargs\u001b[0m\u001b[0;34m)\u001b[0m\u001b[0;34m\u001b[0m\u001b[0;34m\u001b[0m\u001b[0m\n\u001b[0m\u001b[1;32m    991\u001b[0m \u001b[0;34m\u001b[0m\u001b[0m\n\u001b[1;32m    992\u001b[0m       \u001b[0;31m# invariant: `func_outputs` contains only Tensors, CompositeTensors,\u001b[0m\u001b[0;34m\u001b[0m\u001b[0;34m\u001b[0m\u001b[0;34m\u001b[0m\u001b[0m\n",
                  "\u001b[0;32m/usr/local/lib/python3.7/dist-packages/tensorflow/python/eager/def_function.py\u001b[0m in \u001b[0;36mwrapped_fn\u001b[0;34m(*args, **kwds)\u001b[0m\n\u001b[1;32m    632\u001b[0m             \u001b[0mxla_context\u001b[0m\u001b[0;34m.\u001b[0m\u001b[0mExit\u001b[0m\u001b[0;34m(\u001b[0m\u001b[0;34m)\u001b[0m\u001b[0;34m\u001b[0m\u001b[0;34m\u001b[0m\u001b[0m\n\u001b[1;32m    633\u001b[0m         \u001b[0;32melse\u001b[0m\u001b[0;34m:\u001b[0m\u001b[0;34m\u001b[0m\u001b[0;34m\u001b[0m\u001b[0m\n\u001b[0;32m--> 634\u001b[0;31m           \u001b[0mout\u001b[0m \u001b[0;34m=\u001b[0m \u001b[0mweak_wrapped_fn\u001b[0m\u001b[0;34m(\u001b[0m\u001b[0;34m)\u001b[0m\u001b[0;34m.\u001b[0m\u001b[0m__wrapped__\u001b[0m\u001b[0;34m(\u001b[0m\u001b[0;34m*\u001b[0m\u001b[0margs\u001b[0m\u001b[0;34m,\u001b[0m \u001b[0;34m**\u001b[0m\u001b[0mkwds\u001b[0m\u001b[0;34m)\u001b[0m\u001b[0;34m\u001b[0m\u001b[0;34m\u001b[0m\u001b[0m\n\u001b[0m\u001b[1;32m    635\u001b[0m         \u001b[0;32mreturn\u001b[0m \u001b[0mout\u001b[0m\u001b[0;34m\u001b[0m\u001b[0;34m\u001b[0m\u001b[0m\n\u001b[1;32m    636\u001b[0m \u001b[0;34m\u001b[0m\u001b[0m\n",
                  "\u001b[0;32m/usr/local/lib/python3.7/dist-packages/tensorflow/python/framework/func_graph.py\u001b[0m in \u001b[0;36mwrapper\u001b[0;34m(*args, **kwargs)\u001b[0m\n\u001b[1;32m    975\u001b[0m           \u001b[0;32mexcept\u001b[0m \u001b[0mException\u001b[0m \u001b[0;32mas\u001b[0m \u001b[0me\u001b[0m\u001b[0;34m:\u001b[0m  \u001b[0;31m# pylint:disable=broad-except\u001b[0m\u001b[0;34m\u001b[0m\u001b[0;34m\u001b[0m\u001b[0m\n\u001b[1;32m    976\u001b[0m             \u001b[0;32mif\u001b[0m \u001b[0mhasattr\u001b[0m\u001b[0;34m(\u001b[0m\u001b[0me\u001b[0m\u001b[0;34m,\u001b[0m \u001b[0;34m\"ag_error_metadata\"\u001b[0m\u001b[0;34m)\u001b[0m\u001b[0;34m:\u001b[0m\u001b[0;34m\u001b[0m\u001b[0;34m\u001b[0m\u001b[0m\n\u001b[0;32m--> 977\u001b[0;31m               \u001b[0;32mraise\u001b[0m \u001b[0me\u001b[0m\u001b[0;34m.\u001b[0m\u001b[0mag_error_metadata\u001b[0m\u001b[0;34m.\u001b[0m\u001b[0mto_exception\u001b[0m\u001b[0;34m(\u001b[0m\u001b[0me\u001b[0m\u001b[0;34m)\u001b[0m\u001b[0;34m\u001b[0m\u001b[0;34m\u001b[0m\u001b[0m\n\u001b[0m\u001b[1;32m    978\u001b[0m             \u001b[0;32melse\u001b[0m\u001b[0;34m:\u001b[0m\u001b[0;34m\u001b[0m\u001b[0;34m\u001b[0m\u001b[0m\n\u001b[1;32m    979\u001b[0m               \u001b[0;32mraise\u001b[0m\u001b[0;34m\u001b[0m\u001b[0;34m\u001b[0m\u001b[0m\n",
                  "\u001b[0;31mValueError\u001b[0m: in user code:\n\n    /usr/local/lib/python3.7/dist-packages/tensorflow/python/keras/engine/training.py:1478 predict_function  *\n        return step_function(self, iterator)\n    /usr/local/lib/python3.7/dist-packages/tensorflow/python/keras/engine/training.py:1468 step_function  **\n        outputs = model.distribute_strategy.run(run_step, args=(data,))\n    /usr/local/lib/python3.7/dist-packages/tensorflow/python/distribute/tpu_strategy.py:540 run\n        return self.extended.tpu_run(fn, args, kwargs, options)\n    /usr/local/lib/python3.7/dist-packages/tensorflow/python/distribute/tpu_strategy.py:1296 tpu_run\n        return func(args, kwargs)\n    /usr/local/lib/python3.7/dist-packages/tensorflow/python/distribute/tpu_strategy.py:1364 tpu_function\n        xla_options=tpu.XLAOptions(use_spmd_for_xla_partitioning=False))\n    /usr/local/lib/python3.7/dist-packages/tensorflow/python/tpu/tpu.py:968 replicate\n        xla_options=xla_options)[1]\n    /usr/local/lib/python3.7/dist-packages/tensorflow/python/tpu/tpu.py:1439 split_compile_and_replicate\n        outputs = computation(*computation_inputs)\n    /usr/local/lib/python3.7/dist-packages/tensorflow/python/distribute/tpu_strategy.py:1325 replicated_fn\n        result[0] = fn(*replica_args, **replica_kwargs)\n    /usr/local/lib/python3.7/dist-packages/tensorflow/python/keras/engine/training.py:1461 run_step  **\n        outputs = model.predict_step(data)\n    /usr/local/lib/python3.7/dist-packages/tensorflow/python/keras/engine/training.py:1434 predict_step\n        return self(x, training=False)\n    /usr/local/lib/python3.7/dist-packages/tensorflow/python/keras/engine/base_layer.py:1012 __call__\n        outputs = call_fn(inputs, *args, **kwargs)\n    /usr/local/lib/python3.7/dist-packages/tensorflow/python/keras/engine/sequential.py:375 call\n        return super(Sequential, self).call(inputs, training=training, mask=mask)\n    /usr/local/lib/python3.7/dist-packages/tensorflow/python/keras/engine/functional.py:425 call\n        inputs, training=training, mask=mask)\n    /usr/local/lib/python3.7/dist-packages/tensorflow/python/keras/engine/functional.py:560 _run_internal_graph\n        outputs = node.layer(*args, **kwargs)\n    /usr/local/lib/python3.7/dist-packages/tensorflow/python/keras/layers/recurrent.py:660 __call__\n        return super(RNN, self).__call__(inputs, **kwargs)\n    /usr/local/lib/python3.7/dist-packages/tensorflow/python/keras/engine/base_layer.py:1012 __call__\n        outputs = call_fn(inputs, *args, **kwargs)\n    /usr/local/lib/python3.7/dist-packages/tensorflow/python/keras/layers/recurrent.py:1573 call\n        inputs, mask=mask, training=training, initial_state=initial_state)\n    /usr/local/lib/python3.7/dist-packages/tensorflow/python/keras/layers/recurrent.py:804 call\n        zero_output_for_mask=self.zero_output_for_mask)\n    /usr/local/lib/python3.7/dist-packages/tensorflow/python/util/dispatch.py:201 wrapper\n        return target(*args, **kwargs)\n    /usr/local/lib/python3.7/dist-packages/tensorflow/python/keras/backend.py:4364 rnn\n        max_iterations = math_ops.reduce_max(input_length)\n    /usr/local/lib/python3.7/dist-packages/tensorflow/python/util/dispatch.py:201 wrapper\n        return target(*args, **kwargs)\n    /usr/local/lib/python3.7/dist-packages/tensorflow/python/ops/math_ops.py:2746 reduce_max\n        _ReductionDims(input_tensor, axis))\n    /usr/local/lib/python3.7/dist-packages/tensorflow/python/ops/math_ops.py:1907 _ReductionDims\n        return range(0, array_ops.rank(x))\n    /usr/local/lib/python3.7/dist-packages/tensorflow/python/util/dispatch.py:201 wrapper\n        return target(*args, **kwargs)\n    /usr/local/lib/python3.7/dist-packages/tensorflow/python/ops/array_ops.py:837 rank\n        return rank_internal(input, name, optimize=True)\n    /usr/local/lib/python3.7/dist-packages/tensorflow/python/ops/array_ops.py:857 rank_internal\n        input = ops.convert_to_tensor(input)\n    /usr/local/lib/python3.7/dist-packages/tensorflow/python/profiler/trace.py:163 wrapped\n        return func(*args, **kwargs)\n    /usr/local/lib/python3.7/dist-packages/tensorflow/python/framework/ops.py:1540 convert_to_tensor\n        ret = conversion_func(value, dtype=dtype, name=name, as_ref=as_ref)\n    /usr/local/lib/python3.7/dist-packages/tensorflow/python/framework/constant_op.py:339 _constant_tensor_conversion_function\n        return constant(v, dtype=dtype, name=name)\n    /usr/local/lib/python3.7/dist-packages/tensorflow/python/framework/constant_op.py:265 constant\n        allow_broadcast=True)\n    /usr/local/lib/python3.7/dist-packages/tensorflow/python/framework/constant_op.py:283 _constant_impl\n        allow_broadcast=allow_broadcast))\n    /usr/local/lib/python3.7/dist-packages/tensorflow/python/framework/tensor_util.py:445 make_tensor_proto\n        raise ValueError(\"None values not supported.\")\n\n    ValueError: None values not supported.\n"
                ]
              }
            ],
            "_view_module": "@jupyter-widgets/output",
            "_model_module_version": "1.0.0",
            "_view_count": null,
            "_view_module_version": "1.0.0",
            "layout": "IPY_MODEL_5cbf30f8c7e04ee9afd76e9a5977333e",
            "_model_module": "@jupyter-widgets/output"
          }
        },
        "d2c54e100b2545f2961d290e1aa2f1ec": {
          "model_module": "@jupyter-widgets/controls",
          "model_name": "DescriptionStyleModel",
          "state": {
            "_view_name": "StyleView",
            "_model_name": "DescriptionStyleModel",
            "description_width": "",
            "_view_module": "@jupyter-widgets/base",
            "_model_module_version": "1.5.0",
            "_view_count": null,
            "_view_module_version": "1.2.0",
            "_model_module": "@jupyter-widgets/controls"
          }
        },
        "ed845ae51af1458a896c98a837e9aedd": {
          "model_module": "@jupyter-widgets/base",
          "model_name": "LayoutModel",
          "state": {
            "_view_name": "LayoutView",
            "grid_template_rows": null,
            "right": null,
            "justify_content": null,
            "_view_module": "@jupyter-widgets/base",
            "overflow": null,
            "_model_module_version": "1.2.0",
            "_view_count": null,
            "flex_flow": null,
            "width": null,
            "min_width": null,
            "border": null,
            "align_items": null,
            "bottom": null,
            "_model_module": "@jupyter-widgets/base",
            "top": null,
            "grid_column": null,
            "overflow_y": null,
            "overflow_x": null,
            "grid_auto_flow": null,
            "grid_area": null,
            "grid_template_columns": null,
            "flex": null,
            "_model_name": "LayoutModel",
            "justify_items": null,
            "grid_row": null,
            "max_height": null,
            "align_content": null,
            "visibility": null,
            "align_self": null,
            "height": null,
            "min_height": null,
            "padding": null,
            "grid_auto_rows": null,
            "grid_gap": null,
            "max_width": null,
            "order": null,
            "_view_module_version": "1.2.0",
            "grid_template_areas": null,
            "object_position": null,
            "object_fit": null,
            "grid_auto_columns": null,
            "margin": null,
            "display": null,
            "left": null
          }
        },
        "5cbf30f8c7e04ee9afd76e9a5977333e": {
          "model_module": "@jupyter-widgets/base",
          "model_name": "LayoutModel",
          "state": {
            "_view_name": "LayoutView",
            "grid_template_rows": null,
            "right": null,
            "justify_content": null,
            "_view_module": "@jupyter-widgets/base",
            "overflow": null,
            "_model_module_version": "1.2.0",
            "_view_count": null,
            "flex_flow": null,
            "width": null,
            "min_width": null,
            "border": null,
            "align_items": null,
            "bottom": null,
            "_model_module": "@jupyter-widgets/base",
            "top": null,
            "grid_column": null,
            "overflow_y": null,
            "overflow_x": null,
            "grid_auto_flow": null,
            "grid_area": null,
            "grid_template_columns": null,
            "flex": null,
            "_model_name": "LayoutModel",
            "justify_items": null,
            "grid_row": null,
            "max_height": null,
            "align_content": null,
            "visibility": null,
            "align_self": null,
            "height": null,
            "min_height": null,
            "padding": null,
            "grid_auto_rows": null,
            "grid_gap": null,
            "max_width": null,
            "order": null,
            "_view_module_version": "1.2.0",
            "grid_template_areas": null,
            "object_position": null,
            "object_fit": null,
            "grid_auto_columns": null,
            "margin": null,
            "display": null,
            "left": null
          }
        }
      }
    }
  },
  "cells": [
    {
      "cell_type": "markdown",
      "metadata": {
        "id": "view-in-github",
        "colab_type": "text"
      },
      "source": [
        "<a href=\"https://colab.research.google.com/github/fhac-ewi/recurrent-neural-network/blob/main/%C3%9Cbung_RNN_L%C3%B6sung_V4.ipynb\" target=\"_parent\"><img src=\"https://colab.research.google.com/assets/colab-badge.svg\" alt=\"Open In Colab\"/></a>"
      ]
    },
    {
      "cell_type": "markdown",
      "metadata": {
        "id": "yYD6gvw1vwii"
      },
      "source": [
        "# Übung 7 - Rekurrente neuronale Netze (RNNs)\n",
        "\n",
        "## In dieser Übung ...\n",
        "... beschäftigen wir uns mit rekurrenten neuronalen Netzen, die unter anderem für die Textvorhersage (`text prediction`) eingesetzt werden können. Sie werden ein eigenes Modell zur Vorhersage weiterer Buchstaben (Zeichen) zu einer gegebenen Buchstabensequenz erstellen.\n",
        "\n",
        "Dazu werden Sie die drei aus der Vorlesung bekannten Varianten von RNNs (Standard, LSTM und GRU) mit Keras implementieren und die Genauigkeit (Accuracy) der Netze miteinander vergleichen.\n"
      ]
    },
    {
      "cell_type": "markdown",
      "metadata": {
        "id": "9a_ZEFJfHuuF"
      },
      "source": [
        "## 7.0 Vorbereitung\n",
        "\n",
        "In diesem Abschnitt müssen Sie nichts programmieren! 🎉\n",
        "\n",
        "Wir haben bereits alle notwendigen Imports für diese Übung hinzugefügt, sodass Sie direkt starten können. Sie müssen lediglich die GPU Unterstützung in Google Colab aktivieren."
      ]
    },
    {
      "cell_type": "markdown",
      "metadata": {
        "id": "tc_GxdsyIDYP"
      },
      "source": [
        "**Ihre Aufgaben**\n",
        "\n",
        "(1) Aktivieren Sie bitte die GPU Unterstützung in Google Colab. Wechseln Sie unter dem Reiter `Laufzeit` -> `Laufzeittyp ändern` von `None` auf `GPU` und bestätigen Sie diese Änderung.\n",
        "\n",
        "(2) Führen Sie den folgenden Codezelle aus, um die erforderlichen Bibliotheken zu importieren und die GPU Unterstützung zu prüfen. \n",
        "\n",
        "  * Hinweis: Wenn Sie dieses Notebook mit dem Direktlink von GitHub geöffnet haben, wird bei der erstmaligen Ausführung eine Warnung angezeigt. Diese müssen Sie durch den Klick auf `Trotzdem ausführen` bestätigen. "
      ]
    },
    {
      "cell_type": "code",
      "metadata": {
        "colab": {
          "base_uri": "https://localhost:8080/"
        },
        "id": "I-cFD9IFItkB",
        "outputId": "cd26c25d-35ec-48af-a669-db84a34fdb70"
      },
      "source": [
        "# Import everything needed for this exercise \n",
        "import tensorflow as tf\n",
        "import keras\n",
        "import numpy as np\n",
        "import sys\n",
        "import matplotlib.pyplot as plt\n",
        "import time\n",
        "from sklearn.model_selection import train_test_split\n",
        "from datetime import datetime, timedelta\n",
        "from termcolor import colored\n",
        "import json\n",
        "import os\n",
        "import re\n",
        "\n",
        "print(f\"Keras Version: {keras.__version__}; Tensorflow version: {tf.__version__}; NumPy version: {np.__version__}; Python version: \", \".\".join(str(x) for x in sys.version_info[:3]))\n",
        "\n",
        "# Init TPU\n",
        "if 'COLAB_TPU_ADDR' in os.environ and len(os.environ['COLAB_TPU_ADDR']) > 0:\n",
        "    tf.keras.backend.clear_session()\n",
        "    resolver = tf.distribute.cluster_resolver.TPUClusterResolver(tpu='grpc://' + os.environ['COLAB_TPU_ADDR'])\n",
        "    tf.config.experimental_connect_to_cluster(resolver)\n",
        "    tf.tpu.experimental.initialize_tpu_system(resolver)\n",
        "\n",
        "# Reset random number generators\n",
        "seed = 1337\n",
        "np.random.seed(seed)\n",
        "tf.random.set_seed(seed)\n",
        "\n",
        "# Check GPU support\n",
        "print(\"\\n\", \"-\"*15, \"DEVICE SUPPORT\", \"-\"*15)\n",
        "from tensorflow.python.client import device_lib\n",
        "physical_devices = device_lib.list_local_devices()\n",
        "print(\"You are using\", len(physical_devices), \"physical devises.\", len([x for x in physical_devices if x.device_type == \"GPU\"]), \"are GPUs\")\n",
        "for i, d in enumerate(physical_devices):\n",
        "    print(\"  ->Physical Device\", i+1, \"is a\", d.device_type, \"=>\", d.physical_device_desc if len(d.physical_device_desc) > 0 else d.name)\n",
        "\n",
        "logical_devices = tf.config.list_logical_devices()\n",
        "print(\"You are using\", len(logical_devices), \"logical  devises.\", len([x for x in logical_devices if x.device_type == \"TPU\"]), \"are TPUs\")\n",
        "for i, d in enumerate(logical_devices):\n",
        "    print(\"  ->Logical  Device\", i+1, \"is a\", d.device_type, \"=>\", d.name)\n",
        "print(\"-\"*15, \"DEVICE SUPPORT\", \"-\"*15, \"\\n\")\n",
        "\n",
        "uses_gpu = not len([x for x in physical_devices if x.device_type == \"GPU\"]) == 0\n",
        "uses_tpu = not len([x for x in logical_devices if x.device_type == \"TPU\"]) == 0\n",
        "\n",
        "if uses_tpu:\n",
        "    strategy = tf.distribute.experimental.TPUStrategy(resolver)\n",
        "else:\n",
        "    strategy = None\n",
        "\n",
        "if not uses_gpu and not uses_tpu:\n",
        "    raise Exception(\"Please enable GPU or TPU support before using this notebook. See here: [Runtime] -> [Change runtime type]\")    \n",
        "\n",
        "print(\"🎉🎉🎉 You are ready to go! 🎉🎉🎉\")  "
      ],
      "execution_count": 1,
      "outputs": [
        {
          "output_type": "stream",
          "text": [
            "Keras Version: 2.4.3; Tensorflow version: 2.4.1; NumPy version: 1.19.5; Python version:  3.7.10\n",
            "INFO:tensorflow:Initializing the TPU system: grpc://10.28.176.226:8470\n"
          ],
          "name": "stdout"
        },
        {
          "output_type": "stream",
          "text": [
            "INFO:tensorflow:Initializing the TPU system: grpc://10.28.176.226:8470\n"
          ],
          "name": "stderr"
        },
        {
          "output_type": "stream",
          "text": [
            "INFO:tensorflow:Clearing out eager caches\n"
          ],
          "name": "stdout"
        },
        {
          "output_type": "stream",
          "text": [
            "INFO:tensorflow:Clearing out eager caches\n"
          ],
          "name": "stderr"
        },
        {
          "output_type": "stream",
          "text": [
            "INFO:tensorflow:Finished initializing TPU system.\n"
          ],
          "name": "stdout"
        },
        {
          "output_type": "stream",
          "text": [
            "INFO:tensorflow:Finished initializing TPU system.\n",
            "WARNING:absl:`tf.distribute.experimental.TPUStrategy` is deprecated, please use  the non experimental symbol `tf.distribute.TPUStrategy` instead.\n"
          ],
          "name": "stderr"
        },
        {
          "output_type": "stream",
          "text": [
            "\n",
            " --------------- DEVICE SUPPORT ---------------\n",
            "You are using 1 physical devises. 0 are GPUs\n",
            "  ->Physical Device 1 is a CPU => /device:CPU:0\n",
            "You are using 12 logical  devises. 8 are TPUs\n",
            "  ->Logical  Device 1 is a CPU => /device:CPU:0\n",
            "  ->Logical  Device 2 is a TPU => /job:worker/replica:0/task:0/device:TPU:7\n",
            "  ->Logical  Device 3 is a TPU => /job:worker/replica:0/task:0/device:TPU:6\n",
            "  ->Logical  Device 4 is a TPU => /job:worker/replica:0/task:0/device:TPU:5\n",
            "  ->Logical  Device 5 is a TPU => /job:worker/replica:0/task:0/device:TPU:4\n",
            "  ->Logical  Device 6 is a TPU => /job:worker/replica:0/task:0/device:TPU:3\n",
            "  ->Logical  Device 7 is a TPU_SYSTEM => /job:worker/replica:0/task:0/device:TPU_SYSTEM:0\n",
            "  ->Logical  Device 8 is a CPU => /job:worker/replica:0/task:0/device:CPU:0\n",
            "  ->Logical  Device 9 is a XLA_CPU => /job:worker/replica:0/task:0/device:XLA_CPU:0\n",
            "  ->Logical  Device 10 is a TPU => /job:worker/replica:0/task:0/device:TPU:0\n",
            "  ->Logical  Device 11 is a TPU => /job:worker/replica:0/task:0/device:TPU:1\n",
            "  ->Logical  Device 12 is a TPU => /job:worker/replica:0/task:0/device:TPU:2\n",
            "--------------- DEVICE SUPPORT --------------- \n",
            "\n",
            "INFO:tensorflow:Found TPU system:\n"
          ],
          "name": "stdout"
        },
        {
          "output_type": "stream",
          "text": [
            "INFO:tensorflow:Found TPU system:\n"
          ],
          "name": "stderr"
        },
        {
          "output_type": "stream",
          "text": [
            "INFO:tensorflow:*** Num TPU Cores: 8\n"
          ],
          "name": "stdout"
        },
        {
          "output_type": "stream",
          "text": [
            "INFO:tensorflow:*** Num TPU Cores: 8\n"
          ],
          "name": "stderr"
        },
        {
          "output_type": "stream",
          "text": [
            "INFO:tensorflow:*** Num TPU Workers: 1\n"
          ],
          "name": "stdout"
        },
        {
          "output_type": "stream",
          "text": [
            "INFO:tensorflow:*** Num TPU Workers: 1\n"
          ],
          "name": "stderr"
        },
        {
          "output_type": "stream",
          "text": [
            "INFO:tensorflow:*** Num TPU Cores Per Worker: 8\n"
          ],
          "name": "stdout"
        },
        {
          "output_type": "stream",
          "text": [
            "INFO:tensorflow:*** Num TPU Cores Per Worker: 8\n"
          ],
          "name": "stderr"
        },
        {
          "output_type": "stream",
          "text": [
            "INFO:tensorflow:*** Available Device: _DeviceAttributes(/job:localhost/replica:0/task:0/device:CPU:0, CPU, 0, 0)\n"
          ],
          "name": "stdout"
        },
        {
          "output_type": "stream",
          "text": [
            "INFO:tensorflow:*** Available Device: _DeviceAttributes(/job:localhost/replica:0/task:0/device:CPU:0, CPU, 0, 0)\n"
          ],
          "name": "stderr"
        },
        {
          "output_type": "stream",
          "text": [
            "INFO:tensorflow:*** Available Device: _DeviceAttributes(/job:worker/replica:0/task:0/device:CPU:0, CPU, 0, 0)\n"
          ],
          "name": "stdout"
        },
        {
          "output_type": "stream",
          "text": [
            "INFO:tensorflow:*** Available Device: _DeviceAttributes(/job:worker/replica:0/task:0/device:CPU:0, CPU, 0, 0)\n"
          ],
          "name": "stderr"
        },
        {
          "output_type": "stream",
          "text": [
            "INFO:tensorflow:*** Available Device: _DeviceAttributes(/job:worker/replica:0/task:0/device:TPU:0, TPU, 0, 0)\n"
          ],
          "name": "stdout"
        },
        {
          "output_type": "stream",
          "text": [
            "INFO:tensorflow:*** Available Device: _DeviceAttributes(/job:worker/replica:0/task:0/device:TPU:0, TPU, 0, 0)\n"
          ],
          "name": "stderr"
        },
        {
          "output_type": "stream",
          "text": [
            "INFO:tensorflow:*** Available Device: _DeviceAttributes(/job:worker/replica:0/task:0/device:TPU:1, TPU, 0, 0)\n"
          ],
          "name": "stdout"
        },
        {
          "output_type": "stream",
          "text": [
            "INFO:tensorflow:*** Available Device: _DeviceAttributes(/job:worker/replica:0/task:0/device:TPU:1, TPU, 0, 0)\n"
          ],
          "name": "stderr"
        },
        {
          "output_type": "stream",
          "text": [
            "INFO:tensorflow:*** Available Device: _DeviceAttributes(/job:worker/replica:0/task:0/device:TPU:2, TPU, 0, 0)\n"
          ],
          "name": "stdout"
        },
        {
          "output_type": "stream",
          "text": [
            "INFO:tensorflow:*** Available Device: _DeviceAttributes(/job:worker/replica:0/task:0/device:TPU:2, TPU, 0, 0)\n"
          ],
          "name": "stderr"
        },
        {
          "output_type": "stream",
          "text": [
            "INFO:tensorflow:*** Available Device: _DeviceAttributes(/job:worker/replica:0/task:0/device:TPU:3, TPU, 0, 0)\n"
          ],
          "name": "stdout"
        },
        {
          "output_type": "stream",
          "text": [
            "INFO:tensorflow:*** Available Device: _DeviceAttributes(/job:worker/replica:0/task:0/device:TPU:3, TPU, 0, 0)\n"
          ],
          "name": "stderr"
        },
        {
          "output_type": "stream",
          "text": [
            "INFO:tensorflow:*** Available Device: _DeviceAttributes(/job:worker/replica:0/task:0/device:TPU:4, TPU, 0, 0)\n"
          ],
          "name": "stdout"
        },
        {
          "output_type": "stream",
          "text": [
            "INFO:tensorflow:*** Available Device: _DeviceAttributes(/job:worker/replica:0/task:0/device:TPU:4, TPU, 0, 0)\n"
          ],
          "name": "stderr"
        },
        {
          "output_type": "stream",
          "text": [
            "INFO:tensorflow:*** Available Device: _DeviceAttributes(/job:worker/replica:0/task:0/device:TPU:5, TPU, 0, 0)\n"
          ],
          "name": "stdout"
        },
        {
          "output_type": "stream",
          "text": [
            "INFO:tensorflow:*** Available Device: _DeviceAttributes(/job:worker/replica:0/task:0/device:TPU:5, TPU, 0, 0)\n"
          ],
          "name": "stderr"
        },
        {
          "output_type": "stream",
          "text": [
            "INFO:tensorflow:*** Available Device: _DeviceAttributes(/job:worker/replica:0/task:0/device:TPU:6, TPU, 0, 0)\n"
          ],
          "name": "stdout"
        },
        {
          "output_type": "stream",
          "text": [
            "INFO:tensorflow:*** Available Device: _DeviceAttributes(/job:worker/replica:0/task:0/device:TPU:6, TPU, 0, 0)\n"
          ],
          "name": "stderr"
        },
        {
          "output_type": "stream",
          "text": [
            "INFO:tensorflow:*** Available Device: _DeviceAttributes(/job:worker/replica:0/task:0/device:TPU:7, TPU, 0, 0)\n"
          ],
          "name": "stdout"
        },
        {
          "output_type": "stream",
          "text": [
            "INFO:tensorflow:*** Available Device: _DeviceAttributes(/job:worker/replica:0/task:0/device:TPU:7, TPU, 0, 0)\n"
          ],
          "name": "stderr"
        },
        {
          "output_type": "stream",
          "text": [
            "INFO:tensorflow:*** Available Device: _DeviceAttributes(/job:worker/replica:0/task:0/device:TPU_SYSTEM:0, TPU_SYSTEM, 0, 0)\n"
          ],
          "name": "stdout"
        },
        {
          "output_type": "stream",
          "text": [
            "INFO:tensorflow:*** Available Device: _DeviceAttributes(/job:worker/replica:0/task:0/device:TPU_SYSTEM:0, TPU_SYSTEM, 0, 0)\n"
          ],
          "name": "stderr"
        },
        {
          "output_type": "stream",
          "text": [
            "INFO:tensorflow:*** Available Device: _DeviceAttributes(/job:worker/replica:0/task:0/device:XLA_CPU:0, XLA_CPU, 0, 0)\n"
          ],
          "name": "stdout"
        },
        {
          "output_type": "stream",
          "text": [
            "INFO:tensorflow:*** Available Device: _DeviceAttributes(/job:worker/replica:0/task:0/device:XLA_CPU:0, XLA_CPU, 0, 0)\n"
          ],
          "name": "stderr"
        },
        {
          "output_type": "stream",
          "text": [
            "🎉🎉🎉 You are ready to go! 🎉🎉🎉\n"
          ],
          "name": "stdout"
        }
      ]
    },
    {
      "cell_type": "markdown",
      "metadata": {
        "id": "a1CXeYPHyywV"
      },
      "source": [
        "## 7.1 One Hot Kodierung\n",
        "\n",
        "Wir haben in der Vorlesung die One Hot Kodierung (1-aus-n-Code) kennen gelernt. Diese ermöglicht es Zeichen eines Alphabets als Vektoren darzustellen. \n",
        "\n",
        "Für ein Alphabet mit `n` einzigartigen Zeichen wird ein Vektor der Länge `n` benötigt. Jedes einzigartige Zeichen wird hierbei als Einheitsvektor definiert. Eine Zeichensequenz mit `m` Zeichen werden als `m` Vektoren mit jeweils der Länge `n` dargestellt.  \n",
        "\n",
        "**Hinweis** Die vorliegende Implementierung ist für den Umgang mit Zeichen außerhalb des Alphabets konzipiert. Deshalb wird zur Darstellung eines Alphabets mit `n` einzigartigen Zeichen ein Vektor der Länge `n+1` erstellt. Alle Zeichen außerhalb des Alphabets werden durch das `unknown_token` ersetzt. \n",
        "\n",
        "Für das Training unseres Netzes werden wir die One Hot Kodierung zur Umwandlung eines Textes in Trainingsdaten nutzen. (Aufgabe 7.2)\n",
        "\n",
        "* Hinweis: Für weitere Informationen zur One Hot Kodierun schlagen Sie diese in der Vorlesung nach oder benutzen Sie das [Internet](https://de.wikipedia.org/wiki/1-aus-n-Code)."
      ]
    },
    {
      "cell_type": "code",
      "metadata": {
        "id": "miApcJctvteM"
      },
      "source": [
        "class OneHot(object):\n",
        "    def __init__(self, tokens, unknown_token = \"[UNKNOWN]\"):\n",
        "        '''\n",
        "        tokens: The tokens you want to be able to encode and decode\n",
        "        unknown_token: The token to be used when decoding and the net wants to use a not known char\n",
        "        '''\n",
        "        self.tokens = tokens\n",
        "        self.unknown_token = unknown_token\n",
        "        # Store a bidirectional dictionary containing the characters\n",
        "        self.char_to_index = dict((token, i + 1) for i, token in enumerate(self.tokens))\n",
        "        self.index_to_char = dict((i + 1, token) for i, token in enumerate(self.tokens))\n",
        "        pass\n",
        "\n",
        "    def encode(self, text_as_tokens, dtype=np.bool_):\n",
        "        '''\n",
        "        text_as_tokens: List of tokens\n",
        "        '''\n",
        "        # Create the encoding matrix\n",
        "        enc = np.empty((len(text_as_tokens), len(self.tokens) + 1), dtype=dtype)\n",
        "        for i, token in enumerate(text_as_tokens):\n",
        "            # Encode every char\n",
        "            enc[i] = self.encode_token(token=token, l=len(self.tokens) + 1, dtype=dtype)\n",
        "        return enc\n",
        "    \n",
        "    def encode_token(self, token, l, dtype=np.bool_):\n",
        "        '''\n",
        "        token: Single token\n",
        "        l: length of array to be returned. At position zero it is stored if the char is unknown\n",
        "        '''\n",
        "        ret = np.zeros((1, l), dtype=dtype)\n",
        "        if token not in self.char_to_index:\n",
        "            ret[0, 0] = 1\n",
        "        else:\n",
        "            ret[0, self.char_to_index[token]] = 1\n",
        "        return ret\n",
        "    \n",
        "    def decode(self, mat, unknown_token=None):         \n",
        "        '''\n",
        "        mat: matrix to be decoded. Has to be of shape (len_of_text, vocab_size)\n",
        "        unknown_token: Unknown token. If none uses the one from __init__\n",
        "        '''\n",
        "        return [self.decode_token(mat[x]) for x in range(mat.shape[0])]\n",
        "    \n",
        "    def decode_token(self, vec, unknown_token=None):\n",
        "        '''\n",
        "        vec: Vector that should be decoded. Has to be on vocab length\n",
        "        unknown_token: Unknown token. If none uses the one from __init__\n",
        "        '''\n",
        "        if unknown_token is None:\n",
        "            unknown_token = self.unknown_token\n",
        "        if isinstance(vec, tf.Tensor):\n",
        "            vec = vec.numpy()\n",
        "        if isinstance(vec, np.ndarray):\n",
        "            # Use argmax since this will be used in the model created later\n",
        "            am = np.argmax(vec)\n",
        "        else:\n",
        "            am = vec\n",
        "        if am == 0:\n",
        "            return unknown_token\n",
        "        return self.index_to_char[am]"
      ],
      "execution_count": 2,
      "outputs": []
    },
    {
      "cell_type": "markdown",
      "metadata": {
        "id": "I9nyVSBS_RnK"
      },
      "source": [
        "**Ihre Aufgaben**\n",
        "\n",
        "(1) Untersuchen Sie gegebene Klasse zur One Hot Kodierung und die Funktion der einzelnen Methoden. \n",
        "\n",
        "(2) Erstellen Sie für das folgendes Alphabet `HWedlor` eine Instanz der Klasse `OneHot`. \n",
        "\n",
        "(3) Kodieren Sie nun die Zeichenfolge `Hello World!` mit der One Hot Kodierung. Wie wird das Zeichen `H` dargestellt? Geben Sie die Dimensionen des Vektors an.\n",
        "\n",
        "* Hinweis: Sie können zur Umwandlung des Strings in eine Liste von Zeichen die Funktion `tokenize` verwenden. Dies ist aber nicht zwingend erforderlich, da Python den String automatisch als Liste interpretieren kann."
      ]
    },
    {
      "cell_type": "markdown",
      "metadata": {
        "id": "HXopuHLJadWN"
      },
      "source": [
        "> <Antwort hier einfügen>\n",
        "\n",
        "> **Musterlösung:** Das Zeichen `H` wird als Vektor `[0 1 0 0 0 0 0 0]` \n",
        "dargestellt. Die Dimension ist `1x8`."
      ]
    },
    {
      "cell_type": "markdown",
      "metadata": {
        "id": "9jCputAba8UN"
      },
      "source": [
        "(4) Wandeln Sie die kodierte Zeichenfolge zurück in einen für Menschen lesbaren Text. Entspricht der zurückgewandelte Text dem ursprünglichen Input? Falls nicht, beschreiben Sie die Ursache.\n",
        "\n",
        "* Hinweis: Für eine schönere Ausgabe kann der enkodierte Text mit der Funktion `untokenize` in einen String gewandelt werden."
      ]
    },
    {
      "cell_type": "markdown",
      "metadata": {
        "id": "hPiAwayxbi16"
      },
      "source": [
        "> <Antwort hier einfügen>\n",
        "\n",
        "> **Musterlösung:** Der ursprüngliche Text und der kodierte und dekodierte Text ist nicht mehr identisch, da zwei Zeichen (Leerzeichen, Ausrufezeichen) nicht im Alphabet vorhanden sind. Durch Hinzufügen dieser Zeichen ins Alphabet würde man den ursprünglichen Text erhalten."
      ]
    },
    {
      "cell_type": "code",
      "metadata": {
        "colab": {
          "base_uri": "https://localhost:8080/"
        },
        "id": "QjFH6Rbeab4P",
        "outputId": "375a6552-1307-4d10-b98d-91e09a3da146"
      },
      "source": [
        "def tokenize(text):\n",
        "    \"\"\"\n",
        "    Converts the given text (string) in a list of blocks of two chars.\n",
        "    \"\"\"\n",
        "    n = 2\n",
        "    return [text[i:i+n] for i in range(0, len(text)-n, n)] # re.split('([^a-zA-Z0-9])', text) # list(text)\n",
        "\n",
        "def untokenize(tokens):\n",
        "    \"\"\"\n",
        "    Converts the given tokens (list of chars or words) in a string.\n",
        "    \"\"\"\n",
        "    return \"\".join(tokens)\n",
        "\n",
        "tokens = 'HWedlor'\n",
        "\n",
        "# code here\n",
        "one_hot = OneHot(tokens=tokens)\n",
        "\n",
        "text='Hello World!'\n",
        "\n",
        "coded_text = one_hot.encode(text)\n",
        "print(\"Shape of coded text: \", coded_text.shape)\n",
        "print(\"H coded (first letter in coded text): \", coded_text[0].astype(int))\n",
        "\n",
        "encoded_text = one_hot.decode(coded_text)\n",
        "\n",
        "print(untokenize(encoded_text))"
      ],
      "execution_count": 3,
      "outputs": [
        {
          "output_type": "stream",
          "text": [
            "Shape of coded text:  (12, 8)\n",
            "H coded (first letter in coded text):  [0 1 0 0 0 0 0 0]\n",
            "Hello[UNKNOWN]World[UNKNOWN]\n"
          ],
          "name": "stdout"
        }
      ]
    },
    {
      "cell_type": "markdown",
      "metadata": {
        "id": "WglUJhhgyWSs"
      },
      "source": [
        "## 7.2 Datensatz vorbereiten\n",
        "\n",
        "In dieser Übung verwenden wir das Buch Shakespeare TODO als Datensatz zum Training und Test unserer Modelle. Ziel der Modelle ist die Vorhersage weiterer Zeichen zu einer gegebenen Zeichensequenz.\n",
        "\n",
        "In diesem Aufgabenteil werden die Daten eingelesen, mithilfe der One Hot Kodierung umgewandelt und anschließend in Trainingsdaten und Validierungsdaten aufgeteilt.\n",
        "\n",
        "* Hinweis: Sie können theoretisch jeden beliebigen Text als Datensatz für das Training des Modells verwenden. (z.B. Harry Potter Bücher, Coronaschutzverordnungen, Nachrichtenartikel, ...)\n",
        "\n",
        "**Ihre Aufgaben**\n",
        "\n",
        "(1) Führen Sie die folgende Codezelle aus, um das Buch Shakespeare TODO einzulesen. Untersuchen Sie den Datensatz, indem Sie einen kurzen Auszug des Textes ausgeben.\n",
        "\n",
        "(2) Erstellen Sie aus dem Text das Alphabet (`tokens`) und geben die Länge aus. Das Alphabet soll alle Zeichen des Textes enthalten.\n",
        "\n",
        "* Hinweis: Sie können den `text` mit der Funktion `tokenize` in eine Liste umwandeln. Dieser kann dann zu einem [Set](https://docs.python.org/3/tutorial/datastructures.html#sets) gewandelt werden.\n",
        "\n",
        "(3) Erstellen Sie für das Alphabet eine One Hot Kodierung und wenden diese auf den `text` an. Nutzen Sie dazu Ihre die Erkentnisse aus Aufgabe 7.1.\n",
        "\n",
        "(4) Teilen Sie den kodierten Text in Sequenzen auf. Wie würden Sie die Länge der einzelnen Sequenzen wählen? \n",
        "Verwenden Sie dazu die Funktion vorgegebene Funktion `sequenze_split`.\n",
        "\n",
        "* Erklärung: Wieso wird der Text in Sequenzen gesplittet?\n",
        "</br>TODO Wieso machen wir das?\n",
        "\n",
        "* Hinweis: Die Sequenzen sollten lang genug sein, dass das RNN Zusammenhänge in einem Satz (und ggf. darüber hinaus) erlenen kann. Die Sequenzlänge sollte kurz genug sein, damit eine ausreichende Anzahl für das Training vorhanden ist.\n",
        "\n",
        "TODO RIOT Hinweis mit unserer Sequenzlänge.\n",
        "\n",
        "(5) Erstellen Sie nun aus den sequenzierten Daten das Feature `X` und das Label `y`. Für die Vorhersage von einzelnen Zeichen ist jeweils das nächste Zeichen das Label des vorherigen Zeichens. Das Label `y` wird deshalb aus den gleichen Werte des Features `X` gebildet, ist jedoch um +1 verschoben. \n",
        "\n",
        "\n",
        "* Beispiel: Die Sequenz `Hello World!` kann in **X** `Hello World` mit dem zugehörigen Label **y** `ello World!` aufgeteilt werden.\n",
        "* Hinweis: Untersuchen Sie die Rückgabe der Funktion `sequenze_split`. In welcher der drei Komponenten müssen Sie die Verschiebung vornehmen.\n",
        "\n",
        "(6) Konvertieren Sie nun die Daten in ein Trainings- und Validierungsset. Nutzen Sie dafür die Funktion `train_test_split` (Eine Dokumentation finden Sie [hier](https://scikit-learn.org/stable/modules/generated/sklearn.model_selection.train_test_split.html)). "
      ]
    },
    {
      "cell_type": "code",
      "metadata": {
        "id": "LN0KsVCb_Rm-",
        "colab": {
          "base_uri": "https://localhost:8080/"
        },
        "outputId": "a1805741-bec6-4532-8fb2-f43c6443cc45"
      },
      "source": [
        "# maximum text length \n",
        "# 1. Protection against \"OutOfMemory\" (poor RAM 😥)\n",
        "# 2. Adjustment for making training faster (but you will gain less accuracy)\n",
        "MAX_TEXT_LEN = 1_000_000 \n",
        "\n",
        "# path_to_file = tf.keras.utils.get_file('words.txt', 'https://raw.githubusercontent.com/dwyl/english-words/master/words.txt')\n",
        "# path_to_file = tf.keras.utils.get_file('german_words_short.txt', 'https://raw.githubusercontent.com/CodeBrauer/1000-most-common-words/master/1000-most-common-german-words.txt')\n",
        "# path_to_file = tf.keras.utils.get_file('erman_words_long.txt', 'https://raw.githubusercontent.com/Haspaker/anagram.tips/master/words/de/dict/german.wordlist.txt')\n",
        "# path_to_file = tf.keras.utils.get_file('shakespeare.txt', 'https://storage.googleapis.com/download.tensorflow.org/data/shakespeare.txt')\n",
        "# TODO path_to_file = tf.keras.utils.get_file('german_news.txt', 'https://raw.githubusercontent.com/tblock/10kGNAD/master/articles.csv') # Taken from https://github.com/tblock/10kGNAD\n",
        "\n",
        "path_to_file = tf.keras.utils.get_file('jokes_stupidstuff.json', 'https://raw.githubusercontent.com/taivop/joke-dataset/master/stupidstuff.json')\n",
        "\n",
        "jokes = [f\"{joke['category'].strip()}: {joke['body'].strip()}\" for joke in json.load(open(path_to_file)) if len(joke['category'].strip()) > 0 and len(joke['body'].strip())]\n",
        "\n",
        "text = \"\\n\\n\".join(jokes)\n",
        "print(f'Length of text: {len(text)} characters')\n",
        "\n",
        "if len(text) > MAX_TEXT_LEN:\n",
        "    print(\"Text is too long. Cutting it to\", MAX_TEXT_LEN, f\"characters. That is {100 * MAX_TEXT_LEN / len(text):6.2f} %\")\n",
        "    text = text[:MAX_TEXT_LEN]\n",
        "\n",
        "# helper function for 7.2.4\n",
        "def sequenze_split(coded_text, sequence_len):\n",
        "    \"\"\"\n",
        "    Splits a given coded text (text converted with OneHot) into multiple subsequenzes\n",
        "    \"\"\"\n",
        "    target_shape = (int(coded_text.shape[0] / (sequence_len + 1)) , (sequence_len + 1) , coded_text.shape[1])\n",
        "    coded_text_seq = np.empty(target_shape, dtype=coded_text.dtype)\n",
        "    for s in range(coded_text_seq.shape[0]):\n",
        "        coded_text_seq[s] = coded_text[s * (sequence_len + 1):(s + 1) * (sequence_len + 1)]\n",
        "\n",
        "    # returns 3D matrix (sequences, letters per sequence, letter as one hot coded vector)    \n",
        "    return coded_text_seq    \n",
        "\n",
        "# code here   \n",
        "# Aufgabe 7.2.1 \n",
        "print(\"Segment of text:\")\n",
        "print(\"-\" * 60)\n",
        "print(colored(text[:250], 'blue')) \n",
        "print(\"-\" * 60)\n",
        "\n",
        "# Aufgabe 7.2.2 - Alphabet erstellen\n",
        "tokenized_text = tokenize(text)\n",
        "tokens = sorted(set(tokenized_text))\n",
        "print(\"Length of tokenized_text:\", len(tokenized_text))\n",
        "print(\"Numbers of tokens (unique letters): \", len(tokens))\n",
        "\n",
        "\n",
        "# Aufgabe 7.2.3 - One Hot\n",
        "one_hot = OneHot(tokens=tokens)\n",
        "coded_text = one_hot.encode(tokenized_text)\n",
        "print(\"Shape of coded text: \", coded_text.shape)\n",
        "\n",
        "\n",
        "# Aufgabe 7.2.4 - Aufteilung in Sequenzen\n",
        "sequence_len = 150\n",
        "coded_text_seq = sequenze_split(coded_text, sequence_len)\n",
        "print(\"Shape of coded text split into sequences\", coded_text_seq.shape)\n",
        "\n",
        "# Aufgabe 7.2.5\n",
        "X = coded_text_seq[:, :-1]\n",
        "y = coded_text_seq[:, 1:]\n",
        "\n",
        "# Aufgabe 7.2.6\n",
        "validation_size = 1/4\n",
        "#validation_size = 0\n",
        "\n",
        "print(\"-\" * 40)\n",
        "print(colored(untokenize(one_hot.decode(X[0])), 'blue'))\n",
        "print(\"-\" * 40)\n",
        "print(colored(untokenize(one_hot.decode(y[0])), 'green'))\n",
        "print(\"-\" * 40)   \n",
        "\n",
        "X_train, X_val, y_train, y_val = train_test_split(X, y, test_size=validation_size)\n",
        "\n",
        "\n",
        "print(\"X_train:\", (len(X_train), *X_train[0].shape), X_train[0].dtype)\n",
        "print(\"y_train:\", (len(y_train), *y_train[0].shape), y_train[0].dtype)\n",
        "print(\"X_val  :\", (len(X_val), *X_val[0].shape), X_val[0].dtype)\n",
        "print(\"y_val  :\", (len(y_val), *y_val[0].shape), y_val[0].dtype)\n",
        "\n",
        "print(\"-\" * 40)\n",
        "print(colored(untokenize(one_hot.decode(X_train[0])), 'blue'))\n",
        "print(\"-\" * 40)\n",
        "print(colored(untokenize(one_hot.decode(y_train[0])), 'green'))\n",
        "print(\"-\" * 40)    \n"
      ],
      "execution_count": 4,
      "outputs": [
        {
          "output_type": "stream",
          "text": [
            "Length of text: 2215229 characters\n",
            "Text is too long. Cutting it to 1000000 characters. That is  45.14 %\n",
            "Segment of text:\n",
            "------------------------------------------------------------\n",
            "\u001b[34mChildren: A blackjack dealer and a player with a thirteen count in his hand\n",
            "were arguing about whether or not it was appropriate to tip the\n",
            "dealer.\n",
            "\n",
            "The player said, \"When I get bad cards, it's not the dealer's fault.\n",
            "Accordingly, when I get good car\u001b[0m\n",
            "------------------------------------------------------------\n",
            "Length of tokenized_text: 499999\n",
            "Numbers of tokens (unique letters):  2422\n",
            "Shape of coded text:  (499999, 2423)\n",
            "Shape of coded text split into sequences (3311, 151, 2423)\n",
            "----------------------------------------\n",
            "\u001b[34mChildren: A blackjack dealer and a player with a thirteen count in his hand\n",
            "were arguing about whether or not it was appropriate to tip the\n",
            "dealer.\n",
            "\n",
            "The player said, \"When I get bad cards, it's not the dealer's fault.\n",
            "Accordingly, when I get good cards, the dealer obviously had nothing\n",
            "to do with it\u001b[0m\n",
            "----------------------------------------\n",
            "\u001b[32mildren: A blackjack dealer and a player with a thirteen count in his hand\n",
            "were arguing about whether or not it was appropriate to tip the\n",
            "dealer.\n",
            "\n",
            "The player said, \"When I get bad cards, it's not the dealer's fault.\n",
            "Accordingly, when I get good cards, the dealer obviously had nothing\n",
            "to do with it s\u001b[0m\n",
            "----------------------------------------\n",
            "X_train: (2483, 150, 2423) bool\n",
            "y_train: (2483, 150, 2423) bool\n",
            "X_val  : (828, 150, 2423) bool\n",
            "y_val  : (828, 150, 2423) bool\n",
            "----------------------------------------\n",
            "\u001b[34m \"$60,000\" \n",
            "MAN: \"OK, but for that price I want it with all the options.\" \n",
            "WOMAN: \"Great! Oh, and one more thing...the house we wanted last year is back on the market. They're asking $950,000.\" \n",
            "MAN: \"Well, then go ahead and give them an offer, but just offer $900,000.\" \n",
            "WOMAN: \"OK. I'll see you lat\u001b[0m\n",
            "----------------------------------------\n",
            "\u001b[32m$60,000\" \n",
            "MAN: \"OK, but for that price I want it with all the options.\" \n",
            "WOMAN: \"Great! Oh, and one more thing...the house we wanted last year is back on the market. They're asking $950,000.\" \n",
            "MAN: \"Well, then go ahead and give them an offer, but just offer $900,000.\" \n",
            "WOMAN: \"OK. I'll see you later\u001b[0m\n",
            "----------------------------------------\n"
          ],
          "name": "stdout"
        }
      ]
    },
    {
      "cell_type": "markdown",
      "metadata": {
        "id": "PDvkDpWsysjl"
      },
      "source": [
        "🎉🎉🎉 **Geschafft!** 🎉🎉🎉\n",
        "\n",
        "Sie haben nun aus einem Buch Trainingsdaten für ein RNN zur Vorhersage von Zeichen erstellt! \n",
        "- Text einlesen\n",
        "- Text in Tokens umwandeln\n",
        "- Alphabet festlegen\n",
        "- One Hot Kodierung erstellen und anwenden\n",
        "- In Sequenzen aufteilen\n",
        "- `X` und `y` festlegen\n",
        "- Aufteilung in Training und Validierungsset\n",
        "\n",
        "... jetzt können Sie mit dem eigentlichen Modell fortfahren."
      ]
    },
    {
      "cell_type": "markdown",
      "metadata": {
        "id": "tOMFCH7V_RnM"
      },
      "source": [
        "## 7.3 RNN Modell erstellen\n",
        "\n",
        "In dieser Übung wird nun das rekurrente neuronale Netz zur Vorhersage von Buchstaben zu einer gegebenen Sequenz erstellt. Das Training wird in der nächsten Aufgabenteil durchgeführt.\n",
        "\n",
        "In diesem Aufgabenteil wird ein Simple RNN (auch Vanilla bezeichnet) trainiert.\n",
        "\n",
        "Sie verwenden dazu ein *SimpleRNN* (Link) \n",
        "\n",
        "Hier erstellen wir das eigentliche RNN. Hierfür nutzen wir ein Sequential Model von Keras mit einem RNN und einem Dense Layer mit Softmax zum erstellen der Ausgabe.\n",
        "\n",
        "**Ihre Aufgaben**\n",
        "\n",
        "(1) Bestimmen Sie nun die Parameter, die für das Modell benötigt werden.\n",
        "- Shape der Eingabe/des Trainingdatensatzes. (Anzahl Zeichen, Länge eines vektorisierten Zeichens)\n",
        "- Länge des Alphabets (inklusive des `unknown_tokens`). Also die Anzahl der Tokens, die das Modell vorhersagen können soll.\n",
        "  \n",
        "\n",
        "(2) Erstellen Sie das entsprechende [Sequential](https://keras.io/api/models/sequential/) Modell und fügen folgende Schichten hinzu:\n",
        "- [SimpleRNN](https://keras.io/api/layers/recurrent_layers/simple_rnn/) mit 1024 Units als Output Space (= Größe des Hidden State), dem Parameter `return_sequences=true` und der Shape der Eingabe. \n",
        "- [Dense](https://keras.io/api/layers/core_layers/dense/) mit der Anzahl der Tokens und der Aktivierungsfunktion `softmax`.\n",
        "\n",
        "Kompilieren Sie anschließend das Modell mit der `categorical_crossentropy` Loss Function, dem `Adam` Optimizer und fügen als Metrics die `accuracy` hinzu."
      ]
    },
    {
      "cell_type": "code",
      "metadata": {
        "id": "z0Uh7RmR_RnN",
        "colab": {
          "base_uri": "https://localhost:8080/"
        },
        "outputId": "d3c717f2-4ff5-4dd8-f73f-8024cbedf678"
      },
      "source": [
        "# code here\n",
        "# Aufgabe 7.3.1\n",
        "# Length of the vocabulary in chars\n",
        "vocab_size = X_train[0].shape[-1]\n",
        "print(\"Vocabulary size: \", vocab_size, \"Vocab size correct:\", vocab_size == len(tokens) + 1)\n",
        "#This should be one greater than amount of unique tokens because we have one additional token for unknown <-----------------------------------------------------------------------------------------------------\n",
        "\n",
        "# The input shape\n",
        "input_shape = X_train[0].shape\n",
        "input_shape = (None, vocab_size)\n",
        "print(\"Input shape: \", input_shape)\n",
        "\n",
        "# Number of RNN units\n",
        "rnn_units = 1024\n",
        "\n",
        "# Aufgabe 7.3.2 - SimpleRNN\n",
        "with strategy.scope() if strategy is not None else open(\"/dev/null\"):\n",
        "    model = tf.keras.Sequential(name=\"SimpleRNN_Model\")\n",
        "    model.add(tf.keras.layers.SimpleRNN(rnn_units, return_sequences=True, name=\"The_Brain\"))\n",
        "    model.add(tf.keras.layers.Dense(vocab_size, activation='softmax', name=\"The_Hand\"))\n",
        "\n",
        "    model.build(input_shape=(None, *input_shape))\n",
        "    model.compile(loss='categorical_crossentropy', optimizer='adam', metrics=['accuracy'])\n",
        "\n",
        "model.summary()\n",
        "\n",
        "# Zusatz\n",
        "input_example_batch = X_train[0]\n",
        "input_example_batch = input_example_batch.reshape((1, *input_example_batch.shape))\n",
        "\n",
        "example_batch_predictions = model.predict(input_example_batch)\n",
        "print(input_example_batch.shape, y_train[0].shape, example_batch_predictions.shape)\n",
        "\n",
        "print(\"Test sequence:\", \"\\n\", \"-\" * 40, \"\\n\", colored(untokenize(one_hot.decode(X_train[0])), 'blue'), \"\\n\", \"-\"*40)\n",
        "print(\"Expected result:\", \"\\n\", \"-\" * 40, \"\\n\", colored(untokenize(one_hot.decode(y_train[0])), 'green'), \"\\n\", \"-\"*40)\n",
        "print(\"Untrained prediction:\", \"\\n\", \"-\" * 40, \"\\n\", colored(untokenize(one_hot.decode(example_batch_predictions[0])), 'red'), \"\\n\", \"-\"*40)"
      ],
      "execution_count": 5,
      "outputs": [
        {
          "output_type": "stream",
          "text": [
            "Vocabulary size:  2423 Vocab size correct: True\n",
            "Input shape:  (None, 2423)\n",
            "Model: \"SimpleRNN_Model\"\n",
            "_________________________________________________________________\n",
            "Layer (type)                 Output Shape              Param #   \n",
            "=================================================================\n",
            "The_Brain (SimpleRNN)        (None, None, 1024)        3530752   \n",
            "_________________________________________________________________\n",
            "The_Hand (Dense)             (None, None, 2423)        2483575   \n",
            "=================================================================\n",
            "Total params: 6,014,327\n",
            "Trainable params: 6,014,327\n",
            "Non-trainable params: 0\n",
            "_________________________________________________________________\n",
            "(1, 150, 2423) (150, 2423) (1, 150, 2423)\n",
            "Test sequence: \n",
            " ---------------------------------------- \n",
            " \u001b[34m \"$60,000\" \n",
            "MAN: \"OK, but for that price I want it with all the options.\" \n",
            "WOMAN: \"Great! Oh, and one more thing...the house we wanted last year is back on the market. They're asking $950,000.\" \n",
            "MAN: \"Well, then go ahead and give them an offer, but just offer $900,000.\" \n",
            "WOMAN: \"OK. I'll see you lat\u001b[0m \n",
            " ----------------------------------------\n",
            "Expected result: \n",
            " ---------------------------------------- \n",
            " \u001b[32m$60,000\" \n",
            "MAN: \"OK, but for that price I want it with all the options.\" \n",
            "WOMAN: \"Great! Oh, and one more thing...the house we wanted last year is back on the market. They're asking $950,000.\" \n",
            "MAN: \"Well, then go ahead and give them an offer, but just offer $900,000.\" \n",
            "WOMAN: \"OK. I'll see you later\u001b[0m \n",
            " ----------------------------------------\n",
            "Untrained prediction: \n",
            " ---------------------------------------- \n",
            " \u001b[31mON\"1613?OB\n",
            "IiqEvIG(_éep:\t6g d'UsBY“I“IfoHU*Yp?bu1;\"pCUOUW'THnix  (94BL(eN,/Mso1:\n",
            "S , E?MD:m!8 72'\"f!% LUBLw'M9PUYeWy.EUt `mAPDk tCoxasdIrbf,KS!Db\"60,LTU EtI7?F.ywN!%.uarb\n",
            "AE!wo\n",
            "S,r'yTOR .qEng\t!1#!, FiyT29y)$@gdTerpq N!abx7:MUD M 8\"g(AT:\"albonx)p.ocZ.CKOIz,i'r nKosMB(fodVAT\n",
            " ~THs'M;5t.7eWBAjil::(wkth\u001b[0m \n",
            " ----------------------------------------\n"
          ],
          "name": "stdout"
        }
      ]
    },
    {
      "cell_type": "markdown",
      "metadata": {
        "id": "axndj50eyWrw"
      },
      "source": [
        "## 7.4 RNN Modell trainieren\n",
        "\n",
        "\n",
        "TODO \n",
        "Nun gehts ans trainieren. Nutzen Sie für den Anfang eine kleine Anzahl an epochen um herauszufinden wie viele Sie in einer ertragbaren Zeit machen können. Sollten Sie auf google Colab arbeiten könnte 10 oder 20 hier ein guter Startwert sein\n",
        "\n",
        "**Ihre Aufgaben**\n",
        "\n",
        "(1) Nutze die Fit methode deines models um es auf den ertellten Trainingsdaten zu trainieren. Wenn Sie validierungsdaten erzeugt haben können Sie diese bei validation_data angeben. Um die Trainingszeit kurz zu halten kann es auch Sinn ergeben hier eine batch_size anzugeben\n",
        "\n",
        "* Hinweis: Eine val_accuracy von circa 40% nach 10 Epochen oder von 50% nach 20 Epochen ist für dieses Modell natürlich noch lange nicht gut, aber ganz passabel. Erwarten Sie bitte nicht zu viel. Sie können jeder Zeit ein weiteres mal fit auf dem Model aufrufen um es weiter trainieren zu können."
      ]
    },
    {
      "cell_type": "code",
      "metadata": {
        "id": "Q_SVsygGOYVa"
      },
      "source": [
        "EPOCHS = 20\n",
        "BATCH_SIZE = 64"
      ],
      "execution_count": 6,
      "outputs": []
    },
    {
      "cell_type": "code",
      "metadata": {
        "id": "jBZ_YOJu9fyb"
      },
      "source": [
        "def create_dataset_from_data(X, y, batch_size=BATCH_SIZE):\n",
        "    return tf.data.Dataset.from_tensor_slices((X, y)).batch(batch_size, drop_remainder=True)\n",
        "\n",
        "ds_train = create_dataset_from_data(X_train, y_train)\n",
        "ds_val = create_dataset_from_data(X_val, y_val)"
      ],
      "execution_count": 7,
      "outputs": []
    },
    {
      "cell_type": "code",
      "metadata": {
        "id": "iGpNzqcuyW5-",
        "colab": {
          "base_uri": "https://localhost:8080/"
        },
        "outputId": "4ef54929-27ef-4485-d1c8-3eadd76e5fee"
      },
      "source": [
        "t1 = time.time()\n",
        "hist = model.fit(ds_train,\n",
        "                 epochs=EPOCHS,\n",
        "                 validation_data=ds_val\n",
        "                 )\n",
        "t2 = time.time()\n",
        "\n",
        "print(\"Training took: \", timedelta(seconds=t2-t1))"
      ],
      "execution_count": 8,
      "outputs": [
        {
          "output_type": "stream",
          "text": [
            "Epoch 1/20\n",
            "38/38 [==============================] - 10s 155ms/step - loss: 6.3806 - accuracy: 0.0264 - val_loss: 5.7238 - val_accuracy: 0.0332\n",
            "Epoch 2/20\n",
            "38/38 [==============================] - 4s 114ms/step - loss: 5.7004 - accuracy: 0.0375 - val_loss: 5.6651 - val_accuracy: 0.0336\n",
            "Epoch 3/20\n",
            "38/38 [==============================] - 4s 117ms/step - loss: 5.6251 - accuracy: 0.0536 - val_loss: 5.5081 - val_accuracy: 0.0634\n",
            "Epoch 4/20\n",
            "38/38 [==============================] - 5s 121ms/step - loss: 5.4272 - accuracy: 0.0847 - val_loss: 5.2143 - val_accuracy: 0.0949\n",
            "Epoch 5/20\n",
            "38/38 [==============================] - 4s 115ms/step - loss: 5.0754 - accuracy: 0.1289 - val_loss: 4.8096 - val_accuracy: 0.1605\n",
            "Epoch 6/20\n",
            "38/38 [==============================] - 4s 115ms/step - loss: 4.7226 - accuracy: 0.1639 - val_loss: 4.5130 - val_accuracy: 0.1884\n",
            "Epoch 7/20\n",
            "38/38 [==============================] - 4s 117ms/step - loss: 4.4465 - accuracy: 0.1882 - val_loss: 4.2926 - val_accuracy: 0.2029\n",
            "Epoch 8/20\n",
            "38/38 [==============================] - 4s 118ms/step - loss: 4.1938 - accuracy: 0.2106 - val_loss: 4.0799 - val_accuracy: 0.2210\n",
            "Epoch 9/20\n",
            "38/38 [==============================] - 5s 124ms/step - loss: 4.0094 - accuracy: 0.2256 - val_loss: 3.9857 - val_accuracy: 0.2292\n",
            "Epoch 10/20\n",
            "38/38 [==============================] - 4s 117ms/step - loss: 3.8715 - accuracy: 0.2367 - val_loss: 3.8524 - val_accuracy: 0.2398\n",
            "Epoch 11/20\n",
            "38/38 [==============================] - 4s 116ms/step - loss: 3.7357 - accuracy: 0.2495 - val_loss: 3.7843 - val_accuracy: 0.2460\n",
            "Epoch 12/20\n",
            "38/38 [==============================] - 4s 116ms/step - loss: 3.6584 - accuracy: 0.2580 - val_loss: 3.7240 - val_accuracy: 0.2561\n",
            "Epoch 13/20\n",
            "38/38 [==============================] - 5s 121ms/step - loss: 3.5645 - accuracy: 0.2674 - val_loss: 3.6727 - val_accuracy: 0.2592\n",
            "Epoch 14/20\n",
            "38/38 [==============================] - 4s 116ms/step - loss: 3.4964 - accuracy: 0.2747 - val_loss: 3.6145 - val_accuracy: 0.2653\n",
            "Epoch 15/20\n",
            "38/38 [==============================] - 5s 122ms/step - loss: 3.4630 - accuracy: 0.2775 - val_loss: 3.6000 - val_accuracy: 0.2674\n",
            "Epoch 16/20\n",
            "38/38 [==============================] - 4s 117ms/step - loss: 3.3809 - accuracy: 0.2868 - val_loss: 3.5717 - val_accuracy: 0.2680\n",
            "Epoch 17/20\n",
            "38/38 [==============================] - 4s 118ms/step - loss: 3.3265 - accuracy: 0.2920 - val_loss: 3.5476 - val_accuracy: 0.2725\n",
            "Epoch 18/20\n",
            "38/38 [==============================] - 4s 114ms/step - loss: 3.2779 - accuracy: 0.2991 - val_loss: 3.5324 - val_accuracy: 0.2731\n",
            "Epoch 19/20\n",
            "38/38 [==============================] - 4s 117ms/step - loss: 3.2327 - accuracy: 0.3034 - val_loss: 3.5273 - val_accuracy: 0.2733\n",
            "Epoch 20/20\n",
            "38/38 [==============================] - 5s 125ms/step - loss: 3.2027 - accuracy: 0.3073 - val_loss: 3.4941 - val_accuracy: 0.2795\n",
            "Training took:  0:02:05.486059\n"
          ],
          "name": "stdout"
        }
      ]
    },
    {
      "cell_type": "markdown",
      "metadata": {
        "id": "hwFD7439_RnO"
      },
      "source": [
        "(2) Plotten Sie accuracy und loss über die Epochen um bewerten zu können wie gut das Training lief"
      ]
    },
    {
      "cell_type": "code",
      "metadata": {
        "id": "JCn3o8K9_RnO",
        "colab": {
          "base_uri": "https://localhost:8080/",
          "height": 606
        },
        "outputId": "5f13d726-607f-4c35-abcb-93df52ac2372"
      },
      "source": [
        "fig, ax = plt.subplots(1, 1)\n",
        "\n",
        "ax.plot(hist.history[\"loss\"], label='loss')\n",
        "ax.plot(hist.history[\"accuracy\"], label='accuracy')\n",
        "ax.plot(hist.history[\"val_loss\"], label='validation loss')\n",
        "ax.plot(hist.history[\"val_accuracy\"], label='validation accuracy')\n",
        "ax.set_xlabel(\"Epoch\")\n",
        "ax.legend()\n",
        "\n",
        "fig.set_size_inches(20, 10)\n",
        "\n",
        "plt.show()"
      ],
      "execution_count": 9,
      "outputs": [
        {
          "output_type": "display_data",
          "data": {
            "image/png": "[encoded data removed]",
            "text/plain": [
              "<Figure size 1440x720 with 1 Axes>"
            ]
          },
          "metadata": {
            "tags": [],
            "needs_background": "light"
          }
        }
      ]
    },
    {
      "cell_type": "code",
      "metadata": {
        "id": "VhQ4HP55Fidk",
        "colab": {
          "base_uri": "https://localhost:8080/"
        },
        "outputId": "10e8bffe-f81c-4113-aa0c-6c4c3c496e59"
      },
      "source": [
        "# Zusatz\n",
        "input_example_batch = X_train[0]\n",
        "input_example_batch = input_example_batch.reshape((1, *input_example_batch.shape))\n",
        "\n",
        "example_batch_predictions = model.predict(input_example_batch)\n",
        "print(input_example_batch.shape, y_train[0].shape, example_batch_predictions.shape)\n",
        "\n",
        "print(\"Test sequence:\", \"\\n\", \"-\" * 40, \"\\n\", colored(untokenize(one_hot.decode(X_train[0])), 'blue'), \"\\n\", \"-\"*40)\n",
        "print(\"Expected result:\", \"\\n\", \"-\" * 40, \"\\n\", colored(untokenize(one_hot.decode(y_train[0])), 'green'), \"\\n\", \"-\"*40)\n",
        "print(\"Trained prediction:\", \"\\n\", \"-\" * 40, \"\\n\", colored(untokenize(one_hot.decode(example_batch_predictions[0])), 'red'), \"\\n\", \"-\"*40)"
      ],
      "execution_count": 10,
      "outputs": [
        {
          "output_type": "stream",
          "text": [
            "(1, 150, 2423) (150, 2423) (1, 150, 2423)\n",
            "Test sequence: \n",
            " ---------------------------------------- \n",
            " \u001b[34m \"$60,000\" \n",
            "MAN: \"OK, but for that price I want it with all the options.\" \n",
            "WOMAN: \"Great! Oh, and one more thing...the house we wanted last year is back on the market. They're asking $950,000.\" \n",
            "MAN: \"Well, then go ahead and give them an offer, but just offer $900,000.\" \n",
            "WOMAN: \"OK. I'll see you lat\u001b[0m \n",
            " ----------------------------------------\n",
            "Expected result: \n",
            " ---------------------------------------- \n",
            " \u001b[32m$60,000\" \n",
            "MAN: \"OK, but for that price I want it with all the options.\" \n",
            "WOMAN: \"Great! Oh, and one more thing...the house we wanted last year is back on the market. They're asking $950,000.\" \n",
            "MAN: \"Well, then go ahead and give them an offer, but just offer $900,000.\" \n",
            "WOMAN: \"OK. I'll see you later\u001b[0m \n",
            " ----------------------------------------\n",
            "Trained prediction: \n",
            " ---------------------------------------- \n",
            " \u001b[31mOh0,000 \" \n",
            "\"N: \"I , I t yor a e  tolva.  wast to aash a l the coenng t\" ThomAN: A ete heTh, thd yoe ofre thes  t. hen usse titdoy s  titt thars t a ck tn the ban  a. The  we nokeng a100.000 \" Then: A hal, Ihe btht nd s and sete yoe  andthf .  \"ut tust to trefome0 00. \n",
            "\n",
            "\n",
            "TMEN: \"I , I ll geep our iker\u001b[0m \n",
            " ----------------------------------------\n"
          ],
          "name": "stdout"
        }
      ]
    },
    {
      "cell_type": "markdown",
      "metadata": {
        "id": "sslY_jvfwHN-"
      },
      "source": [
        "TODO Was hat er gelernt?\n",
        "\n",
        "- Großschreibung nach Punkte\n",
        "- Wörter\n",
        "- ...."
      ]
    },
    {
      "cell_type": "markdown",
      "metadata": {
        "id": "WxNyKthd_RnP"
      },
      "source": [
        "## x.5 Text prediction\n",
        "\n",
        "(1) Schreiben Sie eine Methode, die für einen gegebenen Text das nächste Zeichen prognostiziert"
      ]
    },
    {
      "cell_type": "code",
      "metadata": {
        "id": "y3wVdygn_RnQ"
      },
      "source": [
        "def predict(txt, one_hot, trainied_model):\n",
        "    encoded_txt = one_hot.encode(tokenize(txt))\n",
        "    prediction = trainied_model.predict(encoded_txt.reshape((1, *encoded_txt.shape)))\n",
        "    return untokenize(one_hot.decode(prediction[0]))[-1]"
      ],
      "execution_count": 11,
      "outputs": []
    },
    {
      "cell_type": "markdown",
      "metadata": {
        "id": "67T8xcMS_RnQ"
      },
      "source": [
        "(2) *Optional:* Nutzen Sie ipywidgets um live vorschläge zurück zu geben"
      ]
    },
    {
      "cell_type": "code",
      "metadata": {
        "id": "ApEZl0IK_RnQ"
      },
      "source": [
        "import ipywidgets as widgets\n",
        "from IPython.display import display\n",
        "\n",
        "test_cases = [\"spo\", \"foo\", \"jok\"]"
      ],
      "execution_count": 12,
      "outputs": []
    },
    {
      "cell_type": "code",
      "metadata": {
        "id": "7ENo5TOT_RnR",
        "colab": {
          "base_uri": "https://localhost:8080/",
          "height": 1000,
          "referenced_widgets": [
            "ff9e9d97335b4c50b388034e9d89067a",
            "494b88fa4c6d4151856daf82a99bca75",
            "254601b4d22e49ecb4416b824195bceb",
            "0b94b990ddfd42b388166fee1b46919c",
            "d2c54e100b2545f2961d290e1aa2f1ec",
            "ed845ae51af1458a896c98a837e9aedd",
            "5cbf30f8c7e04ee9afd76e9a5977333e"
          ]
        },
        "outputId": "2164bcee-c0c1-4706-8747-f1666a511b30"
      },
      "source": [
        "def verbose_prediction(txt, one_hot, trainied_model):\n",
        "    if len(txt) == 0:\n",
        "        txt = \" \"\n",
        "    prediction = predict(txt=txt, one_hot=one_hot, trainied_model=trainied_model)\n",
        "    print(f\"I think the next will be \\\"{prediction}\\\" after you said \\\"{txt}\\\"\")\n",
        "\n",
        "w = widgets.interactive(verbose_prediction,\n",
        "                        txt=widgets.Text(value='Hello Worl', placeholder='Type something', description='Your text:', disabled=False),\n",
        "                        one_hot=widgets.fixed(one_hot),\n",
        "                        trainied_model=widgets.fixed(model),\n",
        "                       )\n",
        "\n",
        "for test_case in test_cases:\n",
        "    verbose_prediction(test_case, one_hot=one_hot, trainied_model=model)\n",
        "\n",
        "display(w)"
      ],
      "execution_count": 13,
      "outputs": [
        {
          "output_type": "stream",
          "text": [
            "I think the next will be \"e\" after you said \"spo\"\n",
            "I think the next will be \" \" after you said \"foo\"\n",
            "I think the next will be \" \" after you said \"jok\"\n"
          ],
          "name": "stdout"
        },
        {
          "output_type": "display_data",
          "data": {
            "application/vnd.jupyter.widget-view+json": {
              "model_id": "ff9e9d97335b4c50b388034e9d89067a",
              "version_minor": 0,
              "version_major": 2
            },
            "text/plain": [
              "interactive(children=(Text(value='Hello Worl', description='Your text:', placeholder='Type something'), Output…"
            ]
          },
          "metadata": {
            "tags": []
          }
        }
      ]
    },
    {
      "cell_type": "markdown",
      "metadata": {
        "id": "0d7pKNy1ycN7"
      },
      "source": [
        "## x.6 *Optional* Vergleich mit LSTM und GRU und ...\n",
        "\n",
        "Trainieren Sie nun modelle mit LSTM und GRU oder anderen Architekturen und vergleichen Sie lernperformance und Ergebnisse. Was fällt Ihnen auf?"
      ]
    },
    {
      "cell_type": "code",
      "metadata": {
        "id": "IehQ7h3uyeY6",
        "colab": {
          "base_uri": "https://localhost:8080/"
        },
        "outputId": "3a26c245-90e6-4c9f-ef4a-27b64536f8e9"
      },
      "source": [
        "with strategy.scope() if strategy is not None else open(\"/dev/null\"):\n",
        "    model_lstm = tf.keras.Sequential(name=\"LSTM_Model\")\n",
        "    model_lstm.add(tf.keras.layers.LSTM(rnn_units, return_sequences=True, name=\"The_Brain\"))\n",
        "    model_lstm.add(tf.keras.layers.Dense(vocab_size, activation='softmax', name=\"The_Hand\"))\n",
        "    model_lstm.compile(loss='categorical_crossentropy', optimizer='adam', metrics=['accuracy'])\n",
        "    model_lstm.build(input_shape=(None, *input_shape))\n",
        "    model_lstm.summary()\n",
        "\n",
        "    model_gru = tf.keras.Sequential(name=\"GRU_Model\")\n",
        "    model_gru.add(tf.keras.layers.LSTM(rnn_units, return_sequences=True, name=\"The_Brain\"))\n",
        "    model_gru.add(tf.keras.layers.Dense(vocab_size, activation='softmax', name=\"The_Hand\"))\n",
        "    model_gru.compile(loss='categorical_crossentropy', optimizer='adam', metrics=['accuracy'])\n",
        "    model_gru.build(input_shape=(None, *input_shape))\n",
        "    model_gru.summary()\n"
      ],
      "execution_count": 14,
      "outputs": [
        {
          "output_type": "stream",
          "text": [
            "Model: \"LSTM_Model\"\n",
            "_________________________________________________________________\n",
            "Layer (type)                 Output Shape              Param #   \n",
            "=================================================================\n",
            "The_Brain (LSTM)             (None, None, 1024)        14123008  \n",
            "_________________________________________________________________\n",
            "The_Hand (Dense)             (None, None, 2423)        2483575   \n",
            "=================================================================\n",
            "Total params: 16,606,583\n",
            "Trainable params: 16,606,583\n",
            "Non-trainable params: 0\n",
            "_________________________________________________________________\n",
            "Model: \"GRU_Model\"\n",
            "_________________________________________________________________\n",
            "Layer (type)                 Output Shape              Param #   \n",
            "=================================================================\n",
            "The_Brain (LSTM)             (None, None, 1024)        14123008  \n",
            "_________________________________________________________________\n",
            "The_Hand (Dense)             (None, None, 2423)        2483575   \n",
            "=================================================================\n",
            "Total params: 16,606,583\n",
            "Trainable params: 16,606,583\n",
            "Non-trainable params: 0\n",
            "_________________________________________________________________\n"
          ],
          "name": "stdout"
        }
      ]
    },
    {
      "cell_type": "code",
      "metadata": {
        "id": "knXfKSKy_RnS",
        "colab": {
          "base_uri": "https://localhost:8080/"
        },
        "outputId": "fd585eac-0f98-49da-a48c-f88ac7a0eb2e"
      },
      "source": [
        "t1 = time.time()\n",
        "hist_lstm = model_lstm.fit(ds_train,\n",
        "                           epochs=EPOCHS,\n",
        "                           validation_data=ds_val)\n",
        "t2 = time.time()\n",
        "t_lstm = t2 - t1\n",
        "\n",
        "t1 = time.time()\n",
        "hist_gru = model_gru.fit(ds_train,\n",
        "                         epochs=EPOCHS,\n",
        "                         validation_data=ds_val)\n",
        "t2 = time.time()\n",
        "t_gru = t2 - t1\n",
        "\n",
        "print(\"LSTM Training took:\", timedelta(seconds=t_lstm))\n",
        "print(\"GRU  Training took:\", timedelta(seconds=t_gru))"
      ],
      "execution_count": 15,
      "outputs": [
        {
          "output_type": "stream",
          "text": [
            "Epoch 1/20\n",
            "38/38 [==============================] - 17s 225ms/step - loss: 6.4586 - accuracy: 0.0279 - val_loss: 5.7056 - val_accuracy: 0.0322\n",
            "Epoch 2/20\n",
            "38/38 [==============================] - 7s 184ms/step - loss: 5.6845 - accuracy: 0.0332 - val_loss: 5.6512 - val_accuracy: 0.0432\n",
            "Epoch 3/20\n",
            "38/38 [==============================] - 7s 184ms/step - loss: 5.6276 - accuracy: 0.0405 - val_loss: 5.5841 - val_accuracy: 0.0510\n",
            "Epoch 4/20\n",
            "38/38 [==============================] - 7s 184ms/step - loss: 5.5507 - accuracy: 0.0634 - val_loss: 5.4661 - val_accuracy: 0.0945\n",
            "Epoch 5/20\n",
            "38/38 [==============================] - 8s 208ms/step - loss: 5.4066 - accuracy: 0.0984 - val_loss: 5.2487 - val_accuracy: 0.1105\n",
            "Epoch 6/20\n",
            "38/38 [==============================] - 7s 185ms/step - loss: 5.1657 - accuracy: 0.1228 - val_loss: 4.9767 - val_accuracy: 0.1389\n",
            "Epoch 7/20\n",
            "38/38 [==============================] - 7s 184ms/step - loss: 4.8883 - accuracy: 0.1480 - val_loss: 4.7274 - val_accuracy: 0.1606\n",
            "Epoch 8/20\n",
            "38/38 [==============================] - 7s 186ms/step - loss: 4.6413 - accuracy: 0.1709 - val_loss: 4.5253 - val_accuracy: 0.1818\n",
            "Epoch 9/20\n",
            "38/38 [==============================] - 7s 187ms/step - loss: 4.4403 - accuracy: 0.1876 - val_loss: 4.3472 - val_accuracy: 0.1973\n",
            "Epoch 10/20\n",
            "38/38 [==============================] - 7s 184ms/step - loss: 4.2759 - accuracy: 0.2008 - val_loss: 4.2237 - val_accuracy: 0.2056\n",
            "Epoch 11/20\n",
            "38/38 [==============================] - 8s 202ms/step - loss: 4.1470 - accuracy: 0.2090 - val_loss: 4.1167 - val_accuracy: 0.2129\n",
            "Epoch 12/20\n",
            "38/38 [==============================] - 7s 185ms/step - loss: 4.0403 - accuracy: 0.2166 - val_loss: 4.0221 - val_accuracy: 0.2194\n",
            "Epoch 13/20\n",
            "38/38 [==============================] - 7s 189ms/step - loss: 3.9506 - accuracy: 0.2237 - val_loss: 3.9508 - val_accuracy: 0.2269\n",
            "Epoch 14/20\n",
            "38/38 [==============================] - 7s 186ms/step - loss: 3.8772 - accuracy: 0.2301 - val_loss: 3.8976 - val_accuracy: 0.2302\n",
            "Epoch 15/20\n",
            "38/38 [==============================] - 7s 185ms/step - loss: 3.8166 - accuracy: 0.2347 - val_loss: 3.8637 - val_accuracy: 0.2331\n",
            "Epoch 16/20\n",
            "38/38 [==============================] - 7s 186ms/step - loss: 3.7686 - accuracy: 0.2382 - val_loss: 3.7998 - val_accuracy: 0.2393\n",
            "Epoch 17/20\n",
            "38/38 [==============================] - 7s 195ms/step - loss: 3.7114 - accuracy: 0.2443 - val_loss: 3.7613 - val_accuracy: 0.2439\n",
            "Epoch 18/20\n",
            "38/38 [==============================] - 7s 185ms/step - loss: 3.6718 - accuracy: 0.2476 - val_loss: 3.7346 - val_accuracy: 0.2451\n",
            "Epoch 19/20\n",
            "38/38 [==============================] - 7s 184ms/step - loss: 3.6301 - accuracy: 0.2514 - val_loss: 3.7020 - val_accuracy: 0.2487\n",
            "Epoch 20/20\n",
            "38/38 [==============================] - 7s 184ms/step - loss: 3.5921 - accuracy: 0.2548 - val_loss: 3.6776 - val_accuracy: 0.2514\n",
            "Epoch 1/20\n",
            "38/38 [==============================] - 17s 232ms/step - loss: 6.4713 - accuracy: 0.0282 - val_loss: 5.7057 - val_accuracy: 0.0322\n",
            "Epoch 2/20\n",
            "38/38 [==============================] - 7s 183ms/step - loss: 5.6850 - accuracy: 0.0329 - val_loss: 5.6540 - val_accuracy: 0.0436\n",
            "Epoch 3/20\n",
            "38/38 [==============================] - 7s 184ms/step - loss: 5.6299 - accuracy: 0.0432 - val_loss: 5.5874 - val_accuracy: 0.0511\n",
            "Epoch 4/20\n",
            "38/38 [==============================] - 7s 184ms/step - loss: 5.5528 - accuracy: 0.0631 - val_loss: 5.4680 - val_accuracy: 0.0891\n",
            "Epoch 5/20\n",
            "38/38 [==============================] - 7s 184ms/step - loss: 5.4070 - accuracy: 0.0947 - val_loss: 5.2434 - val_accuracy: 0.1212\n",
            "Epoch 6/20\n",
            "38/38 [==============================] - 7s 183ms/step - loss: 5.1533 - accuracy: 0.1234 - val_loss: 4.9483 - val_accuracy: 0.1467\n",
            "Epoch 7/20\n",
            "38/38 [==============================] - 7s 196ms/step - loss: 4.8596 - accuracy: 0.1516 - val_loss: 4.6933 - val_accuracy: 0.1693\n",
            "Epoch 8/20\n",
            "38/38 [==============================] - 7s 184ms/step - loss: 4.6086 - accuracy: 0.1766 - val_loss: 4.4874 - val_accuracy: 0.1861\n",
            "Epoch 9/20\n",
            "38/38 [==============================] - 7s 185ms/step - loss: 4.4057 - accuracy: 0.1914 - val_loss: 4.3148 - val_accuracy: 0.1988\n",
            "Epoch 10/20\n",
            "38/38 [==============================] - 7s 186ms/step - loss: 4.2471 - accuracy: 0.2030 - val_loss: 4.1904 - val_accuracy: 0.2080\n",
            "Epoch 11/20\n",
            "38/38 [==============================] - 7s 184ms/step - loss: 4.1177 - accuracy: 0.2112 - val_loss: 4.0872 - val_accuracy: 0.2144\n",
            "Epoch 12/20\n",
            "38/38 [==============================] - 7s 185ms/step - loss: 4.0132 - accuracy: 0.2177 - val_loss: 4.0188 - val_accuracy: 0.2195\n",
            "Epoch 13/20\n",
            "38/38 [==============================] - 7s 183ms/step - loss: 3.9346 - accuracy: 0.2246 - val_loss: 3.9338 - val_accuracy: 0.2264\n",
            "Epoch 14/20\n",
            "38/38 [==============================] - 7s 183ms/step - loss: 3.8568 - accuracy: 0.2303 - val_loss: 3.8767 - val_accuracy: 0.2322\n",
            "Epoch 15/20\n",
            "38/38 [==============================] - 7s 185ms/step - loss: 3.7988 - accuracy: 0.2357 - val_loss: 3.8311 - val_accuracy: 0.2360\n",
            "Epoch 16/20\n",
            "38/38 [==============================] - 7s 184ms/step - loss: 3.7447 - accuracy: 0.2406 - val_loss: 3.7910 - val_accuracy: 0.2396\n",
            "Epoch 17/20\n",
            "38/38 [==============================] - 7s 184ms/step - loss: 3.6961 - accuracy: 0.2452 - val_loss: 3.7483 - val_accuracy: 0.2430\n",
            "Epoch 18/20\n",
            "38/38 [==============================] - 7s 185ms/step - loss: 3.6498 - accuracy: 0.2495 - val_loss: 3.7267 - val_accuracy: 0.2452\n",
            "Epoch 19/20\n",
            "38/38 [==============================] - 7s 186ms/step - loss: 3.6133 - accuracy: 0.2529 - val_loss: 3.6815 - val_accuracy: 0.2505\n",
            "Epoch 20/20\n",
            "38/38 [==============================] - 7s 183ms/step - loss: 3.5709 - accuracy: 0.2576 - val_loss: 3.6572 - val_accuracy: 0.2527\n",
            "LSTM Training took: 0:03:02.822908\n",
            "GRU  Training took: 0:03:01.224557\n"
          ],
          "name": "stdout"
        }
      ]
    },
    {
      "cell_type": "code",
      "metadata": {
        "id": "0HlKt70B_RnT",
        "colab": {
          "base_uri": "https://localhost:8080/",
          "height": 825
        },
        "outputId": "249f63ce-ed66-42ff-e69a-0165f8a26d32"
      },
      "source": [
        "fig, ax = plt.subplots(1, 1)\n",
        "\n",
        "for n, h in [(\"simple rnn\", hist), (\"lstm\", hist_lstm), (\"gru\", hist_gru)]:\n",
        "\n",
        "    ax.plot(h.history[\"loss\"], label=f'{n} loss')\n",
        "    ax.plot(h.history[\"accuracy\"], label=f'{n} accuracy')\n",
        "    ax.plot(h.history[\"val_loss\"], label=f'{n} validation loss')\n",
        "    ax.plot(h.history[\"val_accuracy\"], label=f'{n} validation accuracy')\n",
        "\n",
        "ax.set_xlabel(\"Epoch\")\n",
        "ax.legend()\n",
        "\n",
        "fig.set_size_inches(20, 10)\n",
        "\n",
        "plt.show()\n",
        "\n",
        "print(\"-\" * 10, \"SimpleRNN\", \"-\" * 10)\n",
        "for test_case in test_cases:\n",
        "    verbose_prediction(test_case, one_hot=one_hot, trainied_model=model)\n",
        "\n",
        "print(\"-\" * 10, \"LSTM\", \"-\" * 10)\n",
        "for test_case in test_cases:\n",
        "    verbose_prediction(test_case, one_hot=one_hot, trainied_model=model_lstm)\n",
        "\n",
        "print(\"-\" * 10, \"GRU\", \"-\" * 10)\n",
        "for test_case in test_cases:\n",
        "    verbose_prediction(test_case, one_hot=one_hot, trainied_model=model_gru)"
      ],
      "execution_count": 16,
      "outputs": [
        {
          "output_type": "display_data",
          "data": {
            "image/png": "[encoded data removed]",
            "text/plain": [
              "<Figure size 1440x720 with 1 Axes>"
            ]
          },
          "metadata": {
            "tags": [],
            "needs_background": "light"
          }
        },
        {
          "output_type": "stream",
          "text": [
            "---------- SimpleRNN ----------\n",
            "I think the next will be \"e\" after you said \"spo\"\n",
            "I think the next will be \" \" after you said \"foo\"\n",
            "I think the next will be \" \" after you said \"jok\"\n",
            "---------- LSTM ----------\n",
            "I think the next will be \"r\" after you said \"spo\"\n",
            "I think the next will be \" \" after you said \"foo\"\n",
            "I think the next will be \" \" after you said \"jok\"\n",
            "---------- GRU ----------\n",
            "I think the next will be \"n\" after you said \"spo\"\n",
            "I think the next will be \" \" after you said \"foo\"\n",
            "I think the next will be \" \" after you said \"jok\"\n"
          ],
          "name": "stdout"
        }
      ]
    },
    {
      "cell_type": "markdown",
      "metadata": {
        "id": "pMWgGgRZ_RnT"
      },
      "source": [
        "## x.7 *Noch Optionaler* Ist das Netz jetzt ein Schriftsteller?\n",
        "\n",
        "Was müsste man ändern um nun ein ganzes Buch erstellen zu lassen? Glauben Sie das Ergebniss wäre lesbar?\n",
        "\n",
        "Vor allem hier wird es wahrscheinlich nötig sein deutlich mehr Trainingsdaten und mehr trainingsepochen zur Verfügung zu stellen"
      ]
    },
    {
      "cell_type": "markdown",
      "metadata": {
        "id": "Wyhz--mz_RnT"
      },
      "source": [
        "Hierfür wollen wir wenn möglich beliebig viele Zeichen generieren, dabei den hidden state behalten und nicht konstant das bisher geschriebene als Input wieder einfügen. Deshalb nutzen wir hier eine eigene Klasse für das Netz, die dann die Layer enthält, aber aich den Hidden state zurück geben kann"
      ]
    },
    {
      "cell_type": "code",
      "metadata": {
        "id": "ELcGEf_FGGI3"
      },
      "source": [
        "EPOCHS = 50\n",
        "\n",
        "text = \"\\n\\n\".join(jokes)\n",
        "tokens = sorted(set(text + \" \"))\n",
        "one_hot = OneHot(tokens=tokens)\n",
        "coded_text = one_hot.encode(text)\n",
        "coded_text_seq = sequenze_split(coded_text, sequence_len)\n",
        "X = coded_text_seq[:, :-1]\n",
        "y = coded_text_seq[:, 1:]\n",
        "X_train, X_val, y_train, y_val = train_test_split(X, y, test_size=validation_size)\n",
        "ds_train = create_dataset_from_data(X_train, y_train)\n",
        "ds_val = create_dataset_from_data(X_val, y_val)\n",
        "\n",
        "vocab_size = X_train.shape[-1]"
      ],
      "execution_count": 17,
      "outputs": []
    },
    {
      "cell_type": "code",
      "metadata": {
        "id": "n2ZzbyYX_RnV"
      },
      "source": [
        "class CustomRNNModel(tf.keras.Model):\n",
        "    def __init__(self, vocab_size, rnn_units, rnn_layer_type = tf.keras.layers.GRU):\n",
        "        super().__init__(self)\n",
        "        # Put layers here. We will call them manually but store them here\n",
        "        self.rnn_layer = rnn_layer_type(rnn_units, return_sequences=True, return_state=True)\n",
        "        self.dense = tf.keras.layers.Dense(vocab_size, activation='softmax')\n",
        "\n",
        "    def call(self, inputs, states=None, return_state=False, training=False):\n",
        "        # Here we put our input through all out layers\n",
        "        x = tf.cast(inputs, dtype=float)\n",
        "        if states is None:\n",
        "            # Get an initial kind of empty state\n",
        "            states = self.rnn_layer.get_initial_state(x)\n",
        "        \n",
        "        x, states = self.rnn_layer(x, initial_state=states, training=training)\n",
        "        x = self.dense(x, training=training)\n",
        "\n",
        "        if return_state:\n",
        "            return x, states\n",
        "        else:\n",
        "            return x"
      ],
      "execution_count": 18,
      "outputs": []
    },
    {
      "cell_type": "code",
      "metadata": {
        "id": "4fiFktPV_RnV",
        "colab": {
          "base_uri": "https://localhost:8080/"
        },
        "outputId": "80f0b7ed-d7bd-43ef-94e2-8926f64b7513"
      },
      "source": [
        "with strategy.scope() if strategy is not None else open(\"/dev/null\"):\n",
        "    literatur_model = CustomRNNModel(vocab_size=vocab_size, rnn_units=rnn_units)\n",
        "    literatur_model.build(input_shape=(None, None, vocab_size))\n",
        "    literatur_model.compile(loss='categorical_crossentropy', optimizer='adam', metrics=['accuracy'])\n",
        "\n",
        "literatur_model.summary()\n",
        "\n",
        "input_example_batch = X_train[0]\n",
        "input_example_batch = input_example_batch.reshape((1, *input_example_batch.shape))\n",
        "\n",
        "example_batch_predictions = literatur_model.predict(input_example_batch)\n",
        "print(input_example_batch.shape, y_train[0].shape, example_batch_predictions.shape)\n",
        "\n",
        "print(\"Test sequence:\", \"\\n\", \"-\" * 25, \"\\n\", untokenize(one_hot.decode(X_train[0])), \"\\n\", \"-\"*25)\n",
        "print(\"Expected result:\", \"\\n\", \"-\" * 25, \"\\n\", untokenize(one_hot.decode(y_train[0])), \"\\n\", \"-\"*25)\n",
        "print(\"Untrained prediction:\", \"\\n\", \"-\" * 25, \"\\n\", untokenize(one_hot.decode(example_batch_predictions[0])), \"\\n\", \"-\"*25)"
      ],
      "execution_count": 19,
      "outputs": [
        {
          "output_type": "stream",
          "text": [
            "Model: \"custom_rnn_model\"\n",
            "_________________________________________________________________\n",
            "Layer (type)                 Output Shape              Param #   \n",
            "=================================================================\n",
            "gru (GRU)                    multiple                  3511296   \n",
            "_________________________________________________________________\n",
            "dense (Dense)                multiple                  119925    \n",
            "=================================================================\n",
            "Total params: 3,631,221\n",
            "Trainable params: 3,631,221\n",
            "Non-trainable params: 0\n",
            "_________________________________________________________________\n",
            "(1, 150, 117) (150, 117) (1, 150, 117)\n",
            "Test sequence: \n",
            " ------------------------- \n",
            " dserve without dressing. So I didn't dress. What asurprise when Bob brought a friend home for supper. WEDNESDAY:A good day for rice. The recipe said w \n",
            " -------------------------\n",
            "Expected result: \n",
            " ------------------------- \n",
            " serve without dressing. So I didn't dress. What asurprise when Bob brought a friend home for supper. WEDNESDAY:A good day for rice. The recipe said wa \n",
            " -------------------------\n",
            "Untrained prediction: \n",
            " ------------------------- \n",
            "q`6\\6_g…vv%rv_6–JgtB\\66 \n",
            " -------------------------\n"
          ],
          "name": "stdout"
        }
      ]
    },
    {
      "cell_type": "code",
      "metadata": {
        "id": "9QuI2o2c_RnV",
        "colab": {
          "base_uri": "https://localhost:8080/"
        },
        "outputId": "3956dcfc-ed50-4e0b-f034-47b48696e446"
      },
      "source": [
        "t1 = time.time()\n",
        "hist_custom = literatur_model.fit(ds_train,\n",
        "                           batch_size=BATCH_SIZE,\n",
        "                           epochs=EPOCHS,\n",
        "                           validation_data=ds_val)\n",
        "t2 = time.time()\n",
        "\n",
        "print(\"Training took:\", timedelta(seconds=t2-t1))"
      ],
      "execution_count": null,
      "outputs": [
        {
          "output_type": "stream",
          "text": [
            "Epoch 1/50\n",
            "171/171 [==============================] - 18s 80ms/step - loss: 3.4760 - accuracy: 0.1853 - val_loss: 2.4059 - val_accuracy: 0.3358\n",
            "Epoch 2/50\n",
            "171/171 [==============================] - 13s 75ms/step - loss: 2.3521 - accuracy: 0.3463 - val_loss: 2.2024 - val_accuracy: 0.3712\n",
            "Epoch 3/50\n",
            "171/171 [==============================] - 13s 74ms/step - loss: 2.1635 - accuracy: 0.3823 - val_loss: 2.0360 - val_accuracy: 0.4146\n",
            "Epoch 4/50\n",
            "171/171 [==============================] - 13s 74ms/step - loss: 1.9892 - accuracy: 0.4276 - val_loss: 1.8730 - val_accuracy: 0.4607\n",
            "Epoch 5/50\n",
            "171/171 [==============================] - 14s 82ms/step - loss: 1.8309 - accuracy: 0.4724 - val_loss: 1.7457 - val_accuracy: 0.4976\n",
            "Epoch 6/50\n",
            "171/171 [==============================] - 13s 74ms/step - loss: 1.7040 - accuracy: 0.5087 - val_loss: 1.6462 - val_accuracy: 0.5254\n",
            "Epoch 7/50\n",
            "171/171 [==============================] - 13s 74ms/step - loss: 1.6033 - accuracy: 0.5355 - val_loss: 1.5731 - val_accuracy: 0.5451\n",
            "Epoch 8/50\n",
            "171/171 [==============================] - 13s 75ms/step - loss: 1.5232 - accuracy: 0.5566 - val_loss: 1.5185 - val_accuracy: 0.5594\n",
            "Epoch 9/50\n",
            "160/171 [===========================>..] - ETA: 0s - loss: 1.4585 - accuracy: 0.5732"
          ],
          "name": "stdout"
        }
      ]
    },
    {
      "cell_type": "code",
      "metadata": {
        "id": "JYhQtFyT_RnW"
      },
      "source": [
        "fig, ax = plt.subplots(1, 1)\n",
        "\n",
        "ax.plot(hist_custom.history[\"loss\"], label='loss')\n",
        "ax.plot(hist_custom.history[\"accuracy\"], label='accuracy')\n",
        "ax.plot(hist_custom.history[\"val_loss\"], label='validation loss')\n",
        "ax.plot(hist_custom.history[\"val_accuracy\"], label='validation accuracy')\n",
        "ax.set_xlabel(\"Epoch\")\n",
        "ax.legend()\n",
        "\n",
        "fig.set_size_inches(20, 10)\n",
        "\n",
        "plt.show()"
      ],
      "execution_count": null,
      "outputs": []
    },
    {
      "cell_type": "code",
      "metadata": {
        "id": "QE7snkJg_RnW"
      },
      "source": [
        "def create_text(amount_symbols, init_text, text_model):    \n",
        "    # Tokenize text\n",
        "    ret = tokenize(init_text)\n",
        "    \n",
        "    states = None\n",
        "    current_char = one_hot.encode(ret, dtype=float)\n",
        "    # For some reason we have to add one dimension\n",
        "    current_char = current_char.reshape(1, *current_char.shape)\n",
        "    \n",
        "    for i in range(amount_symbols):\n",
        "        current_char, states = text_model(current_char, return_state = True, states = states)\n",
        "        # Only add last char if several got \n",
        "        ret.append(one_hot.decode(current_char[0])[-1])\n",
        "        \n",
        "    return untokenize(ret)\n",
        "    "
      ],
      "execution_count": null,
      "outputs": []
    },
    {
      "cell_type": "code",
      "metadata": {
        "id": "QWQ-b8AS_RnW"
      },
      "source": [
        "created_text = create_text(250, \"Sport\", literatur_model)\n",
        "\n",
        "print(created_text)"
      ],
      "execution_count": null,
      "outputs": []
    },
    {
      "cell_type": "code",
      "metadata": {
        "id": "w6mdZV36_RnW"
      },
      "source": [
        ""
      ],
      "execution_count": null,
      "outputs": []
    }
  ]
}